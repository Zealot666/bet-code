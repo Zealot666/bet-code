{
 "cells": [
  {
   "cell_type": "code",
   "execution_count": 1,
   "metadata": {
    "ExecuteTime": {
     "end_time": "2021-08-08T03:00:03.216588Z",
     "start_time": "2021-08-08T03:00:00.058013Z"
    },
    "id": "WcTYoH2dAW7u"
   },
   "outputs": [],
   "source": [
    "import json\n",
    "import pandas as pd\n",
    "import pymongo\n",
    "import matplotlib as mpl\n",
    "import numpy as np\n",
    "import matplotlib.pyplot as plt"
   ]
  },
  {
   "cell_type": "code",
   "execution_count": 2,
   "metadata": {
    "ExecuteTime": {
     "end_time": "2021-08-08T03:00:03.232581Z",
     "start_time": "2021-08-08T03:00:03.218588Z"
    },
    "id": "vUjCvUyQAW7y"
   },
   "outputs": [],
   "source": [
    "def reduce_mem_usage(df):\n",
    "    \"\"\" iterate through all the columns of a dataframe and modify the data type\n",
    "        to reduce memory usage.        \n",
    "    \"\"\"\n",
    "    start_mem = df.memory_usage().sum() / 1024**2\n",
    "    print('Memory usage of dataframe is {:.2f} MB'.format(start_mem))\n",
    "\n",
    "    for col in df.columns:\n",
    "        col_type = df[col].dtype\n",
    "        if col_type != object:\n",
    "            c_min = df[col].min()\n",
    "            c_max = df[col].max()\n",
    "            if str(col_type)[:3] == 'int':\n",
    "                if c_min > np.iinfo(np.int8).min and c_max < np.iinfo(np.int8).max:\n",
    "                    df[col] = df[col].astype(np.int8)\n",
    "                elif c_min > np.iinfo(np.int16).min and c_max < np.iinfo(np.int16).max:\n",
    "                    df[col] = df[col].astype(np.int16)\n",
    "                elif c_min > np.iinfo(np.int32).min and c_max < np.iinfo(np.int32).max:\n",
    "                    df[col] = df[col].astype(np.int32)\n",
    "                elif c_min > np.iinfo(np.int64).min and c_max < np.iinfo(np.int64).max:\n",
    "                    df[col] = df[col].astype(np.int64)\n",
    "            else:\n",
    "                df[col] = df[col].astype(np.float32)\n",
    "        else:\n",
    "            df[col] = df[col].astype('category')\n",
    "\n",
    "    end_mem = df.memory_usage().sum() / 1024**2\n",
    "    print('Memory usage after optimization is: {:.2f} MB'.format(end_mem))\n",
    "    print('Decreased by {:.1f}%'.format(\n",
    "        100 * (start_mem - end_mem) / start_mem))\n",
    "\n",
    "    return df"
   ]
  },
  {
   "cell_type": "code",
   "execution_count": 3,
   "metadata": {
    "ExecuteTime": {
     "end_time": "2021-08-08T03:00:03.280540Z",
     "start_time": "2021-08-08T03:00:03.234565Z"
    },
    "id": "BS_AueYNAW7z"
   },
   "outputs": [],
   "source": [
    "def getGoalMid(masterGoal, guestGoal, masterMidGoal,guestMidGoal):\n",
    "    if masterGoal + guestGoal - masterMidGoal - guestMidGoal >= 4:\n",
    "        return 4\n",
    "    else:\n",
    "        return masterGoal + guestGoal - masterMidGoal - guestMidGoal\n",
    "        \n",
    "def removeSub(pankou):\n",
    "    pankou = pankou.replace(\"升\",\"\")\n",
    "    pankou = pankou.replace(\"降\",\"\")\n",
    "    return pankou.strip()\n",
    "\n",
    "def getResult(masterGoal, guestGoal, masterMidGoal,guestMidGoal,pankou):\n",
    "    pankouList = removeSub(pankou).split(\"/\")\n",
    "    row = 0\n",
    "    for p in pankouList:\n",
    "        row += float(p)\n",
    "    row = row / len(pankouList)\n",
    "    \n",
    "    if masterGoal + guestGoal - row >= 0:\n",
    "        return 1\n",
    "    if masterGoal + guestGoal - row < 0:\n",
    "        return 0\n",
    "\n",
    "def getType(yapanMasterStartOdd, yapanGuestStartOdd, yapanPankouStart):\n",
    "    linTypeStart = get18(yapanMasterStartOdd, yapanGuestStartOdd)\n",
    "    return str(linTypeStart) + \"_\" + yapanPankouStart\n",
    "\n",
    "def get18(master,guest):\n",
    "    if master > guest:\n",
    "        return 18\n",
    "    if master < guest:\n",
    "        return 81\n",
    "    if master == guest:\n",
    "        return 99\n",
    "\n",
    "def daxiao_num(x):\n",
    "    x_list = x.split(\"/\")\n",
    "    num = 0\n",
    "    for i in x_list:\n",
    "        num += float(i)\n",
    "    return str(float(num)/len(x_list))\n",
    "\n",
    "def realDaxiao(x,master,guest):\n",
    "    return str(float(x) - master - guest)\n",
    "\n",
    "def shengjiang(start,end):\n",
    "    return str(float(end) - float(start))"
   ]
  },
  {
   "cell_type": "code",
   "execution_count": 5,
   "metadata": {
    "ExecuteTime": {
     "end_time": "2021-08-06T00:11:01.536964Z",
     "start_time": "2021-08-06T00:11:01.506982Z"
    },
    "id": "N9KLXjgwAW70"
   },
   "outputs": [],
   "source": [
    "def preF(test):\n",
    "    test = test.drop(['daxiaoMasterStartOddZao', 'daxiaoGuestStartOddZao','daxiaoPankouStartZao',\n",
    "                      'daxiaoMasterOddZao', 'daxiaoGuestOddZao','daxiaoPankouZao'], axis=1)\n",
    "    test['daxiaoPankouStart'] = test.apply(\n",
    "        lambda x: removeSub(x['daxiaoPankouStart']), axis=1)\n",
    "    test['daxiaoPankou'] = test.apply(\n",
    "        lambda x: removeSub(x['daxiaoPankou']), axis=1)\n",
    "    test['daxiaoPankouStartMid'] = test.apply(\n",
    "        lambda x: removeSub(x['daxiaoPankouStartMid']), axis=1)\n",
    "    test['daxiaoPankouMid'] = test.apply(\n",
    "        lambda x: removeSub(x['daxiaoPankouMid']), axis=1)\n",
    "    \n",
    "    test['result'] = test.apply(lambda x: getResult(\n",
    "        x['masterGoal'], x['guestGoal'], x['masterMidGoal'], x['guestMidGoal'], x['daxiaoPankouMid']), axis=1)\n",
    "    \n",
    "    test['goalMid'] = test.apply(lambda x: getGoalMid(\n",
    "        x['masterGoal'], x['guestGoal'], x['masterMidGoal'], x['guestMidGoal']), axis=1)\n",
    "    \n",
    "    pankou = [\"daxiaoPankouStart\",\"daxiaoPankou\",\"daxiaoPankouStartMid\",\"daxiaoPankouMid\"]\n",
    "    for col in pankou:\n",
    "        test[col] = test[col].map(daxiao_num)\n",
    "        nm = col+\"_\"+\"real\"\n",
    "        test[nm] = test.apply(lambda x: realDaxiao(x[col],x['masterMidGoal'],x['guestMidGoal']), axis=1)\n",
    "    \n",
    "    test['zhongbifeng'] = test['masterMidGoal'] + test['guestMidGoal']\n",
    "    \n",
    "    test['daxiaoPankouShengJiang'] = test.apply(lambda x: shengjiang(x['daxiaoPankouStart'],x['daxiaoPankou']), axis=1)\n",
    "    \n",
    "    test['daxiaoPankouMidShengJiang'] = test.apply(lambda x: shengjiang(x['daxiaoPankouStartMid'],x['daxiaoPankouMid']), axis=1)\n",
    "\n",
    "    test['daxiaoTypeStart'] = test.apply(lambda x: getType(\n",
    "        x['daxiaoMasterStartOdd'], x['daxiaoGuestStartOdd'], x['daxiaoPankouStart']), axis=1)\n",
    "    test['daxiaoType'] = test.apply(lambda x: getType(\n",
    "        x['daxiaoMasterOdd'], x['daxiaoGuestOdd'], x['daxiaoPankou']), axis=1)\n",
    "    test['daxiaoTypeStartMid'] = test.apply(lambda x: getType(\n",
    "        x['daxiaoMasterStartOddMid'], x['daxiaoGuestStartOddMid'], x['daxiaoPankouStartMid']), axis=1)\n",
    "    test['daxiaoTypeMid'] = test.apply(lambda x: getType(\n",
    "        x['daxiaoMasterOddMid'], x['daxiaoGuestOddMid'], x['daxiaoPankouMid']), axis=1)\n",
    "\n",
    "    test['daxiaoTypeStartReal'] = test.apply(lambda x: getType(\n",
    "        x['daxiaoMasterStartOdd'], x['daxiaoGuestStartOdd'], x['daxiaoPankouStart_real']), axis=1)\n",
    "    test['daxiaoTypeReal'] = test.apply(lambda x: getType(\n",
    "        x['daxiaoMasterOdd'], x['daxiaoGuestOdd'], x['daxiaoPankou_real']), axis=1)\n",
    "    test['daxiaoTypeStartMidReal'] = test.apply(lambda x: getType(\n",
    "        x['daxiaoMasterStartOddMid'], x['daxiaoGuestStartOddMid'], x['daxiaoPankouStartMid_real']), axis=1)\n",
    "    test['daxiaoTypeMidReal'] = test.apply(lambda x: getType(\n",
    "        x['daxiaoMasterOddMid'], x['daxiaoGuestOddMid'], x['daxiaoPankouMid_real']), axis=1)\n",
    "    \n",
    "    test = test[test['goalMid'] >= 0]\n",
    "    test = test[(test['daxiaoMasterStartOdd'] >= 0.75) & (test['daxiaoMasterStartOdd'] < 1.20)]\n",
    "    test = test[(test['daxiaoMasterOdd'] >= 0.75) & (test['daxiaoMasterOdd'] < 1.20)]\n",
    "    test = test[(test['daxiaoGuestOddMid'] >= 0.75) & (test['daxiaoGuestOddMid'] < 1.20)]\n",
    "    test = test[test['zhongbifeng'].astype(float) <= test['daxiaoPankou'].astype(float)]\n",
    "    test = test.drop(columns=['masterGoal', 'guestGoal', \"goalMid\"])\n",
    "    return test"
   ]
  },
  {
   "cell_type": "code",
   "execution_count": 5,
   "metadata": {
    "ExecuteTime": {
     "end_time": "2021-08-05T13:14:02.635814Z",
     "start_time": "2021-08-05T13:14:02.590804Z"
    },
    "id": "vdSokaRkAW71"
   },
   "outputs": [],
   "source": [
    "def getShuiPing(x):\n",
    "    result = 9\n",
    "    if x <= 0.75:\n",
    "        result = 0\n",
    "    if 0.75< x and x<=0.85:\n",
    "        result = 1\n",
    "    if 0.85<x and x<=0.90:\n",
    "        result = 2\n",
    "    if 0.90<x and x<=0.95:\n",
    "        result = 3\n",
    "    if 0.95<x and x<=1.00:\n",
    "        result = 4\n",
    "    if 1.00<x and x<=1.08:\n",
    "        result = 5\n",
    "    if 1.08<x and x<=1.20:\n",
    "        result = 6\n",
    "    if x > 1.20:\n",
    "        result = 7\n",
    "    return result\n",
    "        \n",
    "def num_fea_dis(df,features):\n",
    "    for f in features:\n",
    "        nm = f+'_'+'shuiPing'\n",
    "        df[nm] = df[f].map(getShuiPing)\n",
    "    return df"
   ]
  },
  {
   "cell_type": "code",
   "execution_count": 6,
   "metadata": {
    "ExecuteTime": {
     "end_time": "2021-08-05T13:14:16.276148Z",
     "start_time": "2021-08-05T13:14:16.109196Z"
    },
    "id": "9mz1kfAmAW72"
   },
   "outputs": [],
   "source": [
    "myclient = pymongo.MongoClient(\"mongodb://localhost:27017/\")\n",
    "mydb = myclient[\"soccerData\"]\n",
    "mycol = mydb[\"midRawData007daxiao\"]\n",
    "\n",
    "test = pd.DataFrame(list(mycol.find({\"time\":{\"$gte\":\"2021-00-00 00:00:00\"}})))\n",
    "test = test.drop(['_id', 'time','place'], axis=1)"
   ]
  },
  {
   "cell_type": "code",
   "execution_count": null,
   "metadata": {
    "id": "JtOwbs0zAW73"
   },
   "outputs": [],
   "source": []
  },
  {
   "cell_type": "code",
   "execution_count": null,
   "metadata": {
    "colab": {
     "base_uri": "https://localhost:8080/"
    },
    "id": "Kfx12bNsAW73",
    "outputId": "6037e690-d45c-45d9-dfe1-0c892876bae2"
   },
   "outputs": [],
   "source": [
    "test = reduce_mem_usage(test)"
   ]
  },
  {
   "cell_type": "code",
   "execution_count": null,
   "metadata": {
    "id": "JLmBOSCgAW74"
   },
   "outputs": [],
   "source": [
    "fes = ['daxiaoMasterStartOdd','daxiaoGuestStartOdd',\n",
    "       'daxiaoMasterOdd','daxiaoGuestOdd',\n",
    "       'daxiaoMasterStartOddMid','daxiaoGuestStartOddMid',\n",
    "       'daxiaoMasterOddMid','daxiaoGuestOddMid']\n",
    "test = preF(test)"
   ]
  },
  {
   "cell_type": "code",
   "execution_count": null,
   "metadata": {
    "id": "Mk3_4fp-AW75"
   },
   "outputs": [],
   "source": [
    "test= num_fea_dis(test,fes)"
   ]
  },
  {
   "cell_type": "code",
   "execution_count": null,
   "metadata": {
    "id": "dZI8J6cgAW75",
    "scrolled": true
   },
   "outputs": [],
   "source": []
  },
  {
   "cell_type": "code",
   "execution_count": null,
   "metadata": {
    "id": "gbJs3eL-AW76",
    "scrolled": true
   },
   "outputs": [],
   "source": [
    "# myclient = pymongo.MongoClient(\"mongodb://localhost:27017/\")\n",
    "# mydb = myclient[\"soccerData\"]\n",
    "# mycol = mydb[\"midRawData007\"]\n",
    "\n",
    "# train = pd.DataFrame(list(mycol.find({\"time\":{\"$lt\":\"2021-00-00 00:00:00\",}})))\n",
    "# train = train.drop(['_id', 'time','place'], axis=1)"
   ]
  },
  {
   "cell_type": "code",
   "execution_count": null,
   "metadata": {
    "id": "HFEYSt3QAW76"
   },
   "outputs": [],
   "source": [
    "train = pd.read_csv('train.csv')"
   ]
  },
  {
   "cell_type": "code",
   "execution_count": null,
   "metadata": {
    "colab": {
     "background_save": true,
     "base_uri": "https://localhost:8080/"
    },
    "id": "83K72heZAW76",
    "outputId": "7a10542f-844e-4ec7-9445-b2ba07d7d22f"
   },
   "outputs": [],
   "source": [
    "train = reduce_mem_usage(train)\n",
    "train = preF(train)\n",
    "train= num_fea_dis(train,fes)"
   ]
  },
  {
   "cell_type": "code",
   "execution_count": null,
   "metadata": {
    "ExecuteTime": {
     "end_time": "2021-08-02T00:19:51.552053Z",
     "start_time": "2021-08-02T00:19:51.519057Z"
    },
    "colab": {
     "background_save": true
    },
    "id": "R6QUMe05AW77",
    "outputId": "6f64d952-4ccd-4436-c4f1-119762dfd81f"
   },
   "outputs": [],
   "source": [
    "train.head()"
   ]
  },
  {
   "cell_type": "code",
   "execution_count": null,
   "metadata": {
    "id": "LUGrqUOmAW77"
   },
   "outputs": [],
   "source": [
    "def encode_FE(df1, df2, cols):\n",
    "    for col in cols:\n",
    "        df = pd.concat([df1[col],df2[col]])\n",
    "        vc = df.value_counts(dropna=True, normalize=True).to_dict()\n",
    "        vc[-1] = -1\n",
    "        nm = col+'_FE'\n",
    "        df1[nm] = df1[col].map(vc)\n",
    "        df1[nm] = df1[nm].astype('float32')\n",
    "        df2[nm] = df2[col].map(vc)\n",
    "        df2[nm] = df2[nm].astype('float32')"
   ]
  },
  {
   "cell_type": "code",
   "execution_count": null,
   "metadata": {
    "id": "hrlx1y0PAW77"
   },
   "outputs": [],
   "source": [
    "fe_features = ['daxiaoTypeMidReal','daxiaoTypeReal','daxiaoType','daxiaoTypeStart','daxiaoPankouStart_real','daxiaoPankou_real']\n",
    "encode_FE(train,test,fe_features)"
   ]
  },
  {
   "cell_type": "code",
   "execution_count": null,
   "metadata": {
    "id": "Foza3IxxAW78"
   },
   "outputs": [],
   "source": []
  },
  {
   "cell_type": "code",
   "execution_count": null,
   "metadata": {
    "id": "mxunw8ZqAW78"
   },
   "outputs": [],
   "source": []
  },
  {
   "cell_type": "code",
   "execution_count": null,
   "metadata": {
    "id": "R86_YdVuAW78"
   },
   "outputs": [],
   "source": [
    "fe_features = ['daxiaoTypeMidReal','daxiaoTypeReal','daxiaoType','daxiaoTypeStart','daxiaoPankouStart_real','daxiaoPankou_real']\n",
    "\n",
    "def encode_Count(df1, df2, cols):\n",
    "    for col in cols:\n",
    "        df = pd.concat([df1[[col,'result']],df2[[col,'result']]])\n",
    "        nm = col+'_COUNT'\n",
    "        dicts=df.groupby(col)['result'].sum().to_dict()\n",
    "        train[nm]=train[col].map(dicts)\n",
    "        test[nm]=test[col].map(dicts)\n",
    "        \n",
    "        nm = col+'_ALL'\n",
    "        dicts=df.groupby(col)['result'].count().to_dict()\n",
    "        train[nm]=train[col].map(dicts)\n",
    "        test[nm]=test[col].map(dicts)\n",
    "        \n",
    "        nm = col+'_CT'\n",
    "        train[nm]= train[col+'_COUNT'] / train[col+'_ALL']\n",
    "        test[nm]=train[col+'_COUNT'] / train[col+'_ALL']\n",
    "        train.drop([col+\"_COUNT\",col+\"_ALL\"],axis=1)\n",
    "        test.drop([col+\"_COUNT\",col+\"_ALL\"],axis=1)\n",
    "\n",
    "        \n",
    "encode_Count(train,test,fe_features)"
   ]
  },
  {
   "cell_type": "code",
   "execution_count": null,
   "metadata": {
    "colab": {
     "base_uri": "https://localhost:8080/",
     "height": 224
    },
    "id": "BHwPcTdeAW78",
    "outputId": "89980408-13b6-44dc-d487-2f4030b3e30d"
   },
   "outputs": [],
   "source": [
    "train.head()"
   ]
  },
  {
   "cell_type": "code",
   "execution_count": null,
   "metadata": {
    "id": "Vl6sGrHTAW79"
   },
   "outputs": [],
   "source": []
  },
  {
   "cell_type": "code",
   "execution_count": null,
   "metadata": {
    "id": "vadG0Uj8AW79"
   },
   "outputs": [],
   "source": [
    "import gc\n",
    "\n",
    "def encode_LE(col,train,test):\n",
    "    df_comb = pd.concat([train[col],test[col]],axis=0)\n",
    "    df_comb,_ = df_comb.factorize(sort=True)\n",
    "    nm = col\n",
    "    if df_comb.max()>32000: \n",
    "        train[nm] = df_comb[:len(train)].astype('int32')\n",
    "        test[nm] = df_comb[len(train):].astype('int32')\n",
    "    else:\n",
    "        train[nm] = df_comb[:len(train)].astype('int16')\n",
    "        test[nm] = df_comb[len(train):].astype('int16')\n",
    "    del df_comb; x=gc.collect()\n",
    "\n",
    "\n",
    "def encode_CB(col1,col2,df1,df2):\n",
    "    nm = col1+'_'+col2\n",
    "    df1[nm] = df1[col1].astype(str)+'_'+df1[col2].astype(str)\n",
    "    df2[nm] = df2[col1].astype(str)+'_'+df2[col2].astype(str) \n",
    "#     encode_LE(nm,df1,df2)\n",
    "\n",
    "def encode_CB3(col1,col2,col3,df1,df2):\n",
    "    nm = col1+'_'+col2+'_'+col3\n",
    "    df1[nm] = df1[col1].astype(str)+'_'+df1[col2].astype(str)+'_'+df1[col3].astype(str)\n",
    "    df2[nm] = df2[col1].astype(str)+'_'+df2[col2].astype(str)+'_'+df1[col3].astype(str)\n",
    "#     encode_LE(nm,df1,df2)\n",
    "\n",
    "encode_CB(\"daxiaoPankou\",\"daxiaoPankouMid\",train,test)\n",
    "encode_CB(\"daxiaoPankouStart\",\"daxiaoPankou\",train,test)\n",
    "encode_CB(\"daxiaoPankouStartMid\",\"daxiaoPankouMid\",train,test)\n",
    "\n",
    "encode_CB(\"daxiaoType\",\"daxiaoTypeMid\",train,test)\n",
    "encode_CB(\"daxiaoTypeStart\",\"daxiaoType\",train,test)\n",
    "encode_CB(\"daxiaoTypeStartMid\",\"daxiaoTypeMid\",train,test)\n",
    "\n",
    "\n",
    "encode_CB(\"daxiaoPankou_real\",\"daxiaoPankouMid_real\",train,test)\n",
    "encode_CB(\"daxiaoPankouStart_real\",\"daxiaoPankou_real\",train,test)\n",
    "encode_CB(\"daxiaoPankouStartMid_real\",\"daxiaoPankouMid_real\",train,test)\n",
    "\n",
    "encode_CB(\"daxiaoTypeReal\",\"daxiaoTypeMidReal\",train,test)\n",
    "encode_CB(\"daxiaoTypeStartReal\",\"daxiaoTypeReal\",train,test)\n",
    "encode_CB(\"daxiaoTypeStartMidReal\",\"daxiaoTypeMidReal\",train,test)\n",
    "\n",
    "encode_CB(\"zhongbifeng\",\"daxiaoPankouShengJiang\",train,test)\n",
    "encode_CB(\"zhongbifeng\",\"daxiaoPankouMidShengJiang\",train,test)\n",
    "\n",
    "\n",
    "encode_CB3(\"zhongbifeng\",\"daxiaoPankou\",\"daxiaoPankouMid\",train,test)\n",
    "encode_CB3(\"zhongbifeng\",\"daxiaoPankouStart\",\"daxiaoPankou\",train,test)\n",
    "encode_CB3(\"zhongbifeng\",\"daxiaoPankouStartMid\",\"daxiaoPankouMid\",train,test)\n",
    "\n",
    "encode_CB3(\"zhongbifeng\",\"daxiaoType\",\"daxiaoTypeMid\",train,test)\n",
    "encode_CB3(\"zhongbifeng\",\"daxiaoTypeStart\",\"daxiaoType\",train,test)\n",
    "encode_CB3(\"zhongbifeng\",\"daxiaoTypeStartMid\",\"daxiaoTypeMid\",train,test)\n",
    "\n",
    "\n",
    "encode_CB3(\"zhongbifeng\",\"daxiaoPankou_real\",\"daxiaoPankouMid_real\",train,test)\n",
    "encode_CB3(\"zhongbifeng\",\"daxiaoPankouStart_real\",\"daxiaoPankou_real\",train,test)\n",
    "encode_CB3(\"zhongbifeng\",\"daxiaoPankouStartMid_real\",\"daxiaoPankouMid_real\",train,test)\n",
    "\n",
    "encode_CB3(\"zhongbifeng\",\"daxiaoTypeReal\",\"daxiaoTypeMidReal\",train,test)\n",
    "encode_CB3(\"zhongbifeng\",\"daxiaoTypeStartReal\",\"daxiaoTypeReal\",train,test)\n",
    "encode_CB3(\"zhongbifeng\",\"daxiaoTypeStartMidReal\",\"daxiaoTypeMidReal\",train,test)\n",
    "\n",
    "    \n",
    "encode_CB3(\"daxiaoMasterStartOdd_shuiPing\",\"daxiaoGuestStartOdd_shuiPing\",\"daxiaoPankouStart\",train,test)\n",
    "encode_CB3(\"daxiaoMasterOdd_shuiPing\",\"daxiaoGuestOdd_shuiPing\",\"daxiaoPankou\",train,test)\n",
    "encode_CB3(\"daxiaoMasterStartOddMid_shuiPing\",\"daxiaoGuestStartOddMid_shuiPing\",\"daxiaoPankouStartMid\",train,test)\n",
    "encode_CB3(\"daxiaoMasterOddMid_shuiPing\",\"daxiaoGuestOddMid_shuiPing\",\"daxiaoPankouMid\",train,test)\n",
    "\n",
    "\n",
    "def encode_AG(main_columns, uids, aggregations, train_df, test_df,fillna=True, usena=False):\n",
    "    # AGGREGATION OF MAIN WITH UID FOR GIVEN STATISTICS\n",
    "    for main_column in main_columns:  \n",
    "        for col in uids:\n",
    "            for agg_type in aggregations:\n",
    "                print()\n",
    "                new_col_name = main_column+'_'+col+'_'+agg_type\n",
    "                temp_df = pd.concat([train_df[[col, main_column]], test_df[[col,main_column]]])\n",
    "                if usena: temp_df.loc[temp_df[main_column]==-1,main_column] = np.nan\n",
    "                temp_df = temp_df.groupby([col])[main_column].agg([agg_type]).reset_index().rename(\n",
    "                                                        columns={agg_type: new_col_name})\n",
    "\n",
    "                temp_df.index = list(temp_df[col])\n",
    "                temp_df = temp_df[new_col_name].to_dict()   \n",
    "\n",
    "                train_df[new_col_name] = train_df[col].map(temp_df).astype('float32')\n",
    "                test_df[new_col_name]  = test_df[col].map(temp_df).astype('float32')\n",
    "                \n",
    "                if fillna:\n",
    "                    train_df[new_col_name].fillna(-1,inplace=True)\n",
    "                    test_df[new_col_name].fillna(-1,inplace=True)\n",
    "                \n",
    "\n",
    "def encode_AG2(main_columns, uids, train_df, test_df):\n",
    "    for main_column in main_columns:  \n",
    "        for col in uids:\n",
    "            comb = pd.concat([train_df[[col]+[main_column]],test_df[[col]+[main_column]]],axis=0)\n",
    "            mp = comb.groupby(col)[main_column].agg(['nunique'])['nunique'].to_dict()\n",
    "            train_df[col+'_'+main_column+'_ct'] = train_df[col].map(mp).astype('float32')\n",
    "            test_df[col+'_'+main_column+'_ct'] = test_df[col].map(mp).astype('float32')\n",
    "            \n",
    "groby_col = [\"zhongbifeng_daxiaoPankouStart_daxiaoPankou\",\"zhongbifeng_daxiaoPankouStartMid_daxiaoPankouMid\",\n",
    "            \"zhongbifeng_daxiaoType_daxiaoTypeMid\",\"zhongbifeng_daxiaoTypeStart_daxiaoType\",\n",
    "            \"zhongbifeng_daxiaoPankouStartMid_daxiaoPankouMid\",\"zhongbifeng_daxiaoPankou_real_daxiaoPankouMid_real\",\n",
    "            \"zhongbifeng_daxiaoPankouStart_real_daxiaoPankou_real\",\"zhongbifeng_daxiaoPankouStartMid_real_daxiaoPankouMid_real\",\n",
    "            \"zhongbifeng_daxiaoTypeReal_daxiaoTypeMidReal\",\"zhongbifeng_daxiaoTypeStartReal_daxiaoTypeReal\",\n",
    "            \"zhongbifeng_daxiaoPankouStartMid_daxiaoPankouMid\",\"daxiaoMasterStartOdd_shuiPing_daxiaoGuestStartOdd_shuiPing_daxiaoPankouStart\",\n",
    "            \"zhongbifeng_daxiaoTypeStartMidReal_daxiaoTypeMidReal\",\"zhongbifeng_daxiaoPankouStartMid_daxiaoPankouMid\",\n",
    "            \"daxiaoMasterOdd_shuiPing_daxiaoGuestOdd_shuiPing_daxiaoPankou\",\"daxiaoMasterStartOddMid_shuiPing_daxiaoGuestStartOddMid_shuiPing_daxiaoPankouStartMid\",\n",
    "            \"daxiaoMasterOddMid_shuiPing_daxiaoGuestOddMid_shuiPing_daxiaoPankouMid\"]\n",
    "\n",
    "count_col = [\"daxiaoMasterStartOdd\",\"daxiaoGuestStartOdd\",\n",
    "            \"daxiaoMasterOdd\",\"daxiaoGuestOdd\",\n",
    "            \"daxiaoMasterStartOddMid\",\"daxiaoGuestStartOddMid\",\n",
    "            \"daxiaoMasterOddMid\",'daxiaoMasterOddMid']"
   ]
  },
  {
   "cell_type": "code",
   "execution_count": null,
   "metadata": {
    "colab": {
     "base_uri": "https://localhost:8080/"
    },
    "id": "4OojD84tAW7-",
    "outputId": "96e79b77-0cc5-4502-f4a7-a8178e18a1b5"
   },
   "outputs": [],
   "source": [
    "group_cross=[[i,j] for i in groby_col for j in count_col]\n",
    "for item in group_cross:\n",
    "    temp_df = pd.concat([train[[item[0], item[1]]], test[[item[0],item[1]]]])\n",
    "    print(item[0],item[1])\n",
    "    temp_df[item[0]+'_'+item[1]+'_mean']=temp_df.groupby(item[0])[item[1]].transform('mean')\n",
    "    temp_df[item[0]+'_'+item[1]+'_std']=temp_df.groupby(item[0])[item[1]].transform('std')\n",
    "\n",
    "    temp_dfstd = temp_df[item[0]+'_'+item[1]+'_std'].to_dict()\n",
    "    temp_dfmean = temp_df[item[0]+'_'+item[1]+'_mean'].to_dict()\n",
    "    train[item[0]+'_'+item[1]+'_std'] = train[item[0]].map(temp_dfstd).astype('float32')\n",
    "    test[item[0]+'_'+item[1]+'_mean']  = test[item[0]].map(temp_dfmean).astype('float32')"
   ]
  },
  {
   "cell_type": "code",
   "execution_count": null,
   "metadata": {
    "colab": {
     "base_uri": "https://localhost:8080/"
    },
    "id": "YqYE_rYjD7ab",
    "outputId": "f8d5614a-8e49-4e91-842d-5bd0d24ae236"
   },
   "outputs": [],
   "source": [
    "train.head()"
   ]
  },
  {
   "cell_type": "code",
   "execution_count": null,
   "metadata": {
    "id": "-R-Mf1KSAW7-"
   },
   "outputs": [],
   "source": [
    "encode_Count(train,test,groby_col)"
   ]
  },
  {
   "cell_type": "code",
   "execution_count": null,
   "metadata": {
    "colab": {
     "base_uri": "https://localhost:8080/"
    },
    "id": "rfpxlvQhAW7-",
    "outputId": "13ee09cd-4388-4eba-dbd7-4b1c17c9b84c"
   },
   "outputs": [],
   "source": [
    "import gc\n",
    "train_x =  train.drop(columns=['result'])\n",
    "train_y =  train['result']\n",
    "\n",
    "test_x =  test.drop(columns=['result'])\n",
    "test_y =  test['result']\n",
    "del train,test\n",
    "gc.collect()"
   ]
  },
  {
   "cell_type": "code",
   "execution_count": null,
   "metadata": {
    "id": "yv5FRRLQAW7-"
   },
   "outputs": [],
   "source": [
    "test.info()"
   ]
  },
  {
   "cell_type": "code",
   "execution_count": null,
   "metadata": {
    "id": "8P2H3TAnAW7_"
   },
   "outputs": [],
   "source": []
  },
  {
   "cell_type": "code",
   "execution_count": null,
   "metadata": {
    "id": "Y8qaHEisAW7_"
   },
   "outputs": [],
   "source": []
  },
  {
   "cell_type": "code",
   "execution_count": null,
   "metadata": {
    "id": "I39-2XTTAW7_"
   },
   "outputs": [],
   "source": [
    "import category_encoders as ce\n",
    "\n",
    "cat_features =[\"daxiaoPankouStart\",\"daxiaoPankou\",\"daxiaoPankouStartMid\",\"daxiaoPankouMid\",\n",
    "      \"daxiaoTypeStart\", \"daxiaoType\", \"daxiaoTypeStartMid\", \"daxiaoTypeMid\",\n",
    "      \"daxiaoPankouStart_real\", \"daxiaoPankou_real\", \"daxiaoPankouStartMid_real\", \"daxiaoPankouMid_real\",\n",
    "      \"daxiaoTypeStartReal\", \"daxiaoTypeReal\", \"daxiaoTypeStartMidReal\", \"daxiaoTypeMidReal\",\"zhongbifeng\",\n",
    "      \"daxiaoPankouShengJiang\",\"daxiaoPankouMidShengJiang\"\n",
    "     ]\n",
    "\n",
    "target_enc = ce.TargetEncoder(cols=cat_features)\n",
    "target_enc.fit(train_x[cat_features], train_y)\n",
    "\n",
    "train_x[cat_features] = target_enc.transform(train_x[cat_features])\n",
    "\n",
    "test_x[cat_features] = target_enc.transform(test_x[cat_features])"
   ]
  },
  {
   "cell_type": "code",
   "execution_count": null,
   "metadata": {
    "id": "ehfzy04KAW7_"
   },
   "outputs": [],
   "source": []
  },
  {
   "cell_type": "code",
   "execution_count": null,
   "metadata": {
    "id": "_xPfUd5WAW7_"
   },
   "outputs": [],
   "source": []
  },
  {
   "cell_type": "code",
   "execution_count": null,
   "metadata": {
    "id": "zSuhbjsHAW7_"
   },
   "outputs": [],
   "source": []
  },
  {
   "cell_type": "code",
   "execution_count": null,
   "metadata": {
    "id": "W4-6-0RTAW7_"
   },
   "outputs": [],
   "source": [
    "from sklearn.datasets import load_iris\n",
    "import xgboost as xgb\n",
    "from xgboost import plot_importance\n",
    "from matplotlib import pyplot as plt\n",
    "from sklearn.model_selection import train_test_split\n",
    "from sklearn.metrics import accuracy_score\n",
    "from xgboost import XGBClassifier\n",
    "from sklearn.model_selection import train_test_split,cross_val_score\t#划分数据 交叉验证\n",
    "\n",
    "# 训练模型\n",
    "\n",
    "param = {'learning_rate': 0.04624866821131782,\n",
    "        'gamma': 0.4521452209872597, \n",
    "        'reg_alpha': 2,\n",
    "        'reg_lambda': 7, \n",
    "        'n_estimators': 410,\n",
    "        'colsample_bynode': 0.2158053139547304,\n",
    "        'colsample_bylevel': 0.747234611546242,\n",
    "        'subsample': 0.9462638943432846, \n",
    "        'min_child_weight': 117,\n",
    "        'colsample_bytree': 0.29748741231156306,\n",
    "        'max_depth': 15}\n",
    "\n",
    "x_train, x_valid, y_train, y_valid = train_test_split(\n",
    "    train_x, train_y, test_size=0.2)\n",
    "\n",
    "model = xgb.model = XGBClassifier(objective='binary:logistic', eval_metric=\"auc\",\n",
    "                          tree_method='gpu_hist', **param)\n",
    "model.fit(x_train, y_train)\n",
    "\n",
    "# 对测试集进行预测\n",
    "y_pred = model.predict(test_x)\n",
    "\n",
    "print(type(y_pred))\n",
    "# 计算准确率\n",
    "accuracy = accuracy_score(test_y, y_pred)\n",
    "print(\"accuarcy: %.2f%%\" % (accuracy*100.0))\n",
    "\n",
    "print(cross_val_score(model, train_x, train_y, cv = 5, scoring = 'roc_auc').mean())\n",
    "\n",
    "fig, ax = plt.subplots(figsize=(10,10))\n",
    "xgb.plot_importance(model, max_num_features=60, height=0.5, ax=ax,importance_type='gain')\n",
    "plt.show()\n",
    "\n",
    "train_x.info()\n",
    "\n",
    "cols = train_x.columns.values.tolist()\n",
    "\n",
    "importanceMap = model.get_booster().get_score(importance_type='gain')\n",
    "\n",
    "select = []\n",
    "\n",
    "for col in cols:\n",
    "    if importanceMap.get(col) <= 5 :\n",
    "        select.append(col)\n",
    "\n",
    "test_x = test_x.drop(select, axis=1)\n",
    "train_x = train_x.drop(select, axis=1)"
   ]
  },
  {
   "cell_type": "code",
   "execution_count": null,
   "metadata": {
    "id": "DEiiH2jTAW7_"
   },
   "outputs": [],
   "source": [
    "# import optuna\n",
    "# from optuna import Trial\n",
    "# from optuna.samplers import TPESampler\n",
    "# from sklearn.model_selection import train_test_split,cross_val_score\t#划分数据 交叉验证\n",
    "\n",
    "# X = train_x\n",
    "# y = train_y\n",
    "\n",
    "# #define objective function\n",
    "# def objective(trial: Trial,X,y) -> float:\n",
    "    \n",
    "#     #create a data split for validation\n",
    "#     train_X,test_X,train_y,test_y = train_test_split(X, y, test_size = 0.30, random_state = 101)\n",
    "    \n",
    "#     #create a parameter space\n",
    "#     #Note: I started very general with wide intervals and honed in with repeated studies.\n",
    "#     #The history dataframe in the next cell is your friend.\n",
    "#     #Read the table to pare down your intervals after each study.\n",
    "    \n",
    "#     param = {                \n",
    "#                  'learning_rate':trial.suggest_uniform('learning_rate', 0.03, 0.06),\n",
    "#                  'gamma':trial.suggest_uniform('gamma', .2, .5),\n",
    "#                  'reg_alpha':trial.suggest_int('reg_alpha', 1, 5),\n",
    "#                  'reg_lambda':trial.suggest_int('reg_lambda', 1, 7),\n",
    "#                  'n_estimators':trial.suggest_int('n_estimators', 300, 500),\n",
    "#                  'colsample_bynode':trial.suggest_uniform('colsample_bynode', .2, .4),\n",
    "#                  'colsample_bylevel':trial.suggest_uniform('colsample_bylevel', .65, .75),\n",
    "#                  'subsample':trial.suggest_uniform('subsample', .25, .95),               \n",
    "#                  'min_child_weight':trial.suggest_int('min_child_weight', 100, 200),\n",
    "#                  'colsample_bytree':trial.suggest_uniform('colsample_bytree',0.2, .4),\n",
    "#                  'max_depth': trial.suggest_categorical('max_depth', [5,7,9,11,13,15,17,20])\n",
    "#     }\n",
    "    \n",
    "#     #set up the baseline model parameters.\n",
    "#     #be careful about how high you let max_depth go\n",
    "#     #this can lead to long training times and overfitting\n",
    "    \n",
    "#     model = XGBClassifier(objective='binary:logitraw', eval_metric = \"auc\",tree_method = 'gpu_hist', use_label_encoder=False, **param)\n",
    "    \n",
    "#     #fit to training sample\n",
    "#     model.fit(train_X, train_y)\n",
    "    \n",
    "#     #return the cv score\n",
    "#     return cross_val_score(model, test_X, test_y, cv = 5, scoring = 'roc_auc').mean()\n",
    "\n",
    "# #run an Optuna study\n",
    "# study = optuna.create_study(direction='maximize', sampler=TPESampler())\n",
    "# study.optimize(lambda trial : objective(trial, X, y), n_trials = 25)\n",
    "\n",
    "# #print our best outcome\n",
    "# print('Best trial: score {},\\nparams {}'.format(study.best_trial.value,study.best_trial.params))"
   ]
  },
  {
   "cell_type": "code",
   "execution_count": null,
   "metadata": {
    "id": "Qte_B17XAW8A"
   },
   "outputs": [],
   "source": []
  },
  {
   "cell_type": "code",
   "execution_count": null,
   "metadata": {
    "id": "h9I6rAl6AW8A"
   },
   "outputs": [],
   "source": [
    "from sklearn.metrics import accuracy_score\n",
    "import lightgbm as lgb\n",
    "\n",
    "lgb_train = lgb.Dataset(train_x, train_y)\n",
    "\n",
    "# 参数设置\n",
    "params = {'num_leaves': 240, #结果对最终效果影响较大，越大值越好，太大会出现过拟合\n",
    "          'min_data_in_leaf': 30,\n",
    "          'objective': 'binary', #定义的目标函数\n",
    "          'max_depth': -1,\n",
    "          'learning_rate': 0.03,\n",
    "          \"min_sum_hessian_in_leaf\": 6,\n",
    "          \"boosting\": \"gbdt\",\n",
    "          \"feature_fraction\":  0.5992677823884304,\t#提取的特征比率\n",
    "          \"bagging_freq\": 4,\n",
    "          \"bagging_fraction\":0.7100471696361973,\n",
    "          \"bagging_seed\": 11,\n",
    "          \"lambda_l1\": 8.545500456265467e-05,\t\t\t\t#l1正则\n",
    "          'lambda_l2': 5.985747612243422e-07,\t\t#l2正则\n",
    "          \"verbosity\": -1,\n",
    "          \"nthread\": -1,\t\t#线程数量，-1表示全部线程，线程越多，运行的速度越快\n",
    "          'metric': {'binary_logloss', 'auc'},\t##评价函数选择\n",
    "          \"random_state\": 2019,\t#随机数种子，可以防止每次运行的结果不一致\n",
    "          # 'device': 'gpu' ##如果安装的事gpu版本的lightgbm,可以加快运算\n",
    "          'min_child_samples': 67,\n",
    "          }\n",
    "\n",
    "\n",
    "print('Starting training...')\n",
    "# 模型训练\n",
    "gbm = lgb.train(params,\n",
    "                lgb_train,\n",
    "                num_boost_round=20)\n",
    "\n",
    "\n",
    "# 模型预测\n",
    "y_pred = gbm.predict(test_x, num_iteration=gbm.best_iteration)\n",
    "\n",
    "pred_labels = np.rint(y_pred)\n",
    "accuracy = accuracy_score(test_y, pred_labels)\n",
    "print(\"accuarcy: %.2f%%\" % (accuracy*100.0))\n",
    "\n",
    "cv_results = lgb.cv(params, lgb_train, num_boost_round=100, nfold=5, \n",
    "                    verbose_eval=20, early_stopping_rounds=40)\n",
    "\n",
    "np.array(cv_results[\"auc-mean\"]).mean()"
   ]
  },
  {
   "cell_type": "code",
   "execution_count": null,
   "metadata": {
    "id": "HC9QIG55AW8A"
   },
   "outputs": [],
   "source": [
    "fig, ax = plt.subplots(figsize=(10,10))\n",
    "lgb.plot_importance(gbm, max_num_features=60, height=0.5, ax=ax)\n",
    "plt.show()"
   ]
  },
  {
   "cell_type": "code",
   "execution_count": null,
   "metadata": {
    "id": "m5065dPEAW8A"
   },
   "outputs": [],
   "source": [
    "# import optuna\n",
    "# from optuna import Trial\n",
    "# from optuna.samplers import TPESampler\n",
    "# from sklearn.model_selection import train_test_split,cross_val_score\t#划分数据 交叉验证\n",
    "# from sklearn.metrics import accuracy_score\n",
    "# import lightgbm as lgb\n",
    "# from optuna import Trial\n",
    "\n",
    "# data = train_x\n",
    "# target = train_y\n",
    "\n",
    "# def objective(trial):\n",
    "#     train_x, test_x, train_y, test_y = train_test_split(data, target, test_size=0.25)\n",
    "#     dtrain = lgb.Dataset(train_x, label=train_y)\n",
    " \n",
    "#     param = {\n",
    "#         'objective': 'binary',\n",
    "#         'metric': 'binary_logloss',\n",
    "#         'lambda_l1': trial.suggest_loguniform('lambda_l1', 1e-8, 10.0),\n",
    "#         'lambda_l2': trial.suggest_loguniform('lambda_l2', 1e-8, 10.0),\n",
    "#         'num_leaves': trial.suggest_int('num_leaves', 2, 256),\n",
    "#         'feature_fraction': trial.suggest_uniform('feature_fraction', 0.4, 1.0),\n",
    "#         'bagging_fraction': trial.suggest_uniform('bagging_fraction', 0.4, 1.0),\n",
    "#         'bagging_freq': trial.suggest_int('bagging_freq', 1, 7),\n",
    "#         'min_child_samples': trial.suggest_int('min_child_samples', 5, 100),\n",
    "#     }\n",
    " \n",
    "#     gbm = lgb.train(param, dtrain)\n",
    "#     cv_results = lgb.cv(params, lgb_train, num_boost_round=50, nfold=5, \n",
    "#                     verbose_eval=20, early_stopping_rounds=40)\n",
    "#     return np.array(cv_results[\"auc-mean\"]).mean()\n",
    " \n",
    "# study = optuna.create_study(direction='maximize')\n",
    "# study.optimize(objective, n_trials=20)\n",
    " \n",
    "# print('Number of finished trials:', len(study.trials))\n",
    "# print('Best trial:', study.best_trial.params)"
   ]
  },
  {
   "cell_type": "code",
   "execution_count": null,
   "metadata": {
    "id": "pr2JL7JBAW8A"
   },
   "outputs": [],
   "source": [
    "test_x.info()"
   ]
  },
  {
   "cell_type": "code",
   "execution_count": null,
   "metadata": {
    "colab": {
     "base_uri": "https://localhost:8080/",
     "height": 173
    },
    "id": "p8SRTsAVAW8B",
    "outputId": "04841780-00ed-451a-d13e-e666d15e8a88"
   },
   "outputs": [],
   "source": [
    "train_x.info()"
   ]
  },
  {
   "cell_type": "code",
   "execution_count": null,
   "metadata": {
    "id": "zcAE-CvnAW8B"
   },
   "outputs": [],
   "source": [
    "from itertools import combinations, permutations\n",
    "categories=train_x.select_dtypes(include='object')\n",
    "categories=categories.astype(str)\n",
    "cross_features=list(combinations(categories.columns.values.tolist(), 2))\n",
    "for item in cross_features:\n",
    "    categories[item[0]+'_'+item[1]]=categories[item[0]].astype(str)+categories[item[1]].astype(str)\n",
    "categories.shape\n",
    "\n",
    "columns = train_x.select_dtypes(include='object').columns\n",
    "continues=train_x.drop(columns,axis=1)\n",
    "\n",
    "cross_features=list(combinations(continues.columns.values.tolist(), 2))\n",
    "for item in cross_features:\n",
    "    continues[item[0]+'+'+item[1]]=continues[item[0]]+continues[item[1]]\n",
    "    continues[item[0]+'-'+item[1]]=continues[item[0]]-continues[item[1]]\n",
    "    continues[item[0]+'/'+item[1]]=continues[item[0]]/continues[item[1]]\n",
    "    continues[item[0]+'*'+item[1]]=continues[item[0]]*continues[item[1]]\n",
    "\n",
    "continues.shape\n",
    "    \n",
    "train_x = total\n",
    "try:\n",
    "    train_x = reduce_mem_usage(train_x)\n",
    "except Exception as ex:\n",
    "    print(\"a\")\n",
    "del categories,continues\n",
    "gc.collect()"
   ]
  },
  {
   "cell_type": "code",
   "execution_count": null,
   "metadata": {
    "id": "zABfR8xaAW8B"
   },
   "outputs": [],
   "source": [
    "train_x.info()"
   ]
  },
  {
   "cell_type": "code",
   "execution_count": null,
   "metadata": {
    "id": "nlHrrxz7AW8B"
   },
   "outputs": [],
   "source": [
    "from itertools import combinations, permutations\n",
    "categories=test_x.select_dtypes(include='object')\n",
    "categories=categories.astype(str)\n",
    "cross_features=list(combinations(categories.columns.values.tolist(), 2))\n",
    "for item in cross_features:\n",
    "    categories[item[0]+'_'+item[1]]=categories[item[0]].astype(str)+categories[item[1]].astype(str)\n",
    "categories.shape\n",
    "\n",
    "columns = test_x.select_dtypes(include='object').columns\n",
    "continues=test_x.drop(columns,axis=1)\n",
    "\n",
    "cross_features=list(combinations(continues.columns.values.tolist(), 2))\n",
    "for item in cross_features:\n",
    "    continues[item[0]+'+'+item[1]]=continues[item[0]]+continues[item[1]]\n",
    "    continues[item[0]+'-'+item[1]]=continues[item[0]]-continues[item[1]]\n",
    "    continues[item[0]+'/'+item[1]]=continues[item[0]]/continues[item[1]]\n",
    "    continues[item[0]+'*'+item[1]]=continues[item[0]]*continues[item[1]]\n",
    "\n",
    "continues.shape\n",
    "\n",
    "test_x = total\n",
    "\n",
    "try:\n",
    "    test_x = reduce_mem_usage(test_x)\n",
    "except Exception as ex:\n",
    "    print(\"a\")\n",
    "    \n",
    "del categories,continues\n",
    "gc.collect()"
   ]
  },
  {
   "cell_type": "code",
   "execution_count": null,
   "metadata": {
    "id": "MoBeOknIAW8B"
   },
   "outputs": [],
   "source": [
    "test_x.info()"
   ]
  },
  {
   "cell_type": "code",
   "execution_count": null,
   "metadata": {
    "id": "7zOP6J8qAW8B"
   },
   "outputs": [],
   "source": []
  },
  {
   "cell_type": "code",
   "execution_count": null,
   "metadata": {
    "id": "PPAD1GdkAW8B"
   },
   "outputs": [],
   "source": [
    "import category_encoders as ce\n",
    "\n",
    "cat_features = columns\n",
    "\n",
    "target_enc = ce.TargetEncoder(cols=cat_features)\n",
    "target_enc.fit(train_x[cat_features], train_y)\n",
    "\n",
    "train_x[cat_features] = target_enc.transform(train_x[cat_features])\n",
    "\n",
    "test_x[cat_features] = target_enc.transform(test_x[cat_features])"
   ]
  },
  {
   "cell_type": "code",
   "execution_count": null,
   "metadata": {
    "id": "7AhbkyDIAW8C"
   },
   "outputs": [],
   "source": [
    "# import category_encoders as ce\n",
    "\n",
    "# cat_features=[\"daxiaoPankouStart\",\"daxiaoPankou\",\"daxiaoPankouStartMid\",\"daxiaoPankouMid\",\n",
    "#       \"daxiaoTypeStart\", \"daxiaoType\", \"daxiaoTypeStartMid\", \"daxiaoTypeMid\",\n",
    "#       \"daxiaoPankouStart_real\", \"daxiaoPankou_real\", \"daxiaoPankouStartMid_real\", \"daxiaoPankouMid_real\",\n",
    "#       \"daxiaoTypeStartReal\", \"daxiaoTypeReal\", \"daxiaoTypeStartMidReal\", \"daxiaoTypeMidReal\",\"zhongbifeng\",\n",
    "#       \"daxiaoPankouShengJiang\",\"daxiaoPankouMidShengJiang\"\n",
    "#      ]\n",
    "\n",
    "# cat_features=[\"daxiaoTypeStart\", \"daxiaoType\", \"daxiaoTypeStartMid\", \"daxiaoTypeMid\",\n",
    "#       \"daxiaoTypeStartReal\", \"daxiaoTypeReal\", \"daxiaoTypeStartMidReal\", \"daxiaoTypeMidReal\"\n",
    "#      ]\n",
    "\n",
    "# target_enc = ce.TargetEncoder(cols=cat_features)\n",
    "# target_enc.fit(train[cat_features], train_y)\n",
    "\n",
    "# train_x[cat_features] = target_enc.transform(train_x[cat_features])\n",
    "\n",
    "# test_x[cat_features] = target_enc.transform(test_x[cat_features])\n",
    "\n",
    "# features=[\"daxiaoPankouStart\",\"daxiaoPankou\",\"daxiaoPankouStartMid\",\"daxiaoPankouMid\",\n",
    "#       \"daxiaoPankouStart_real\", \"daxiaoPankou_real\", \"daxiaoPankouStartMid_real\", \"daxiaoPankouMid_real\",\"zhongbifeng\",\n",
    "#       \"daxiaoPankouShengJiang\",\"daxiaoPankouMidShengJiang\"\n",
    "#      ]\n",
    "\n",
    "# for col in features:\n",
    "#     train_x[col] = train_x[col].astype(np.float32)\n",
    "\n",
    "#     test_x[col] = test_x[col].astype(np.float32)"
   ]
  },
  {
   "cell_type": "code",
   "execution_count": null,
   "metadata": {
    "id": "seholrKWAW8C"
   },
   "outputs": [],
   "source": [
    "try:\n",
    "    test_x = reduce_mem_usage(test_x)\n",
    "    train_x = reduce_mem_usage(train_x)\n",
    "except Exception as ex:\n",
    "    print(\"a\")\n",
    "    "
   ]
  },
  {
   "cell_type": "code",
   "execution_count": null,
   "metadata": {
    "id": "9ZOpDIKhAW8C"
   },
   "outputs": [],
   "source": [
    "import gc\n",
    "X=train_x\n",
    "y=train_y\n",
    "del train_x,train_y\n",
    "gc.collect()\n",
    "\n",
    "from sklearn.model_selection import StratifiedKFold\n",
    "from sklearn.metrics import roc_auc_score\n",
    "\n",
    "import lightgbm as lgb\n",
    "params = {'num_leaves': 240, #结果对最终效果影响较大，越大值越好，太大会出现过拟合\n",
    "          'min_data_in_leaf': 30,\n",
    "          'objective': 'binary', #定义的目标函数\n",
    "          'max_depth': -1,\n",
    "          'learning_rate': 0.03,\n",
    "          \"min_sum_hessian_in_leaf\": 6,\n",
    "          \"boosting\": \"gbdt\",\n",
    "          \"feature_fraction\":  0.5992677823884304,\t#提取的特征比率\n",
    "          \"bagging_freq\": 4,\n",
    "          \"bagging_fraction\":0.7100471696361973,\n",
    "          \"bagging_seed\": 11,\n",
    "          \"lambda_l1\": 8.545500456265467e-05,\t\t\t\t#l1正则\n",
    "          'lambda_l2': 5.985747612243422e-07,\t\t#l2正则\n",
    "          \"verbosity\": -1,\n",
    "          \"nthread\": -1,\t\t\t\t#线程数量，-1表示全部线程，线程越多，运行的速度越快\n",
    "          'metric': {'binary_logloss', 'auc'},\t##评价函数选择\n",
    "          \"random_state\": 2019,\t#随机数种子，可以防止每次运行的结果不一致\n",
    "          # 'device': 'gpu' ##如果安装的事gpu版本的lightgbm,可以加快运算\n",
    "          'min_child_samples': 67,\n",
    "          }\n",
    "\n",
    "NFOLDS = 5\n",
    "folds = StratifiedKFold(n_splits=NFOLDS)\n",
    "\n",
    "columns = X.columns\n",
    "splits = folds.split(X, y)\n",
    "y_oof = np.zeros(X.shape[0])\n",
    "score = 0\n",
    "\n",
    "feature_importances = pd.DataFrame()\n",
    "feature_importances['feature'] = columns\n",
    "  \n",
    "for fold_n, (train_index, valid_index) in enumerate(splits):\n",
    "    X_train, X_valid = X[columns].iloc[train_index], X[columns].iloc[valid_index]\n",
    "    y_train, y_valid = y.iloc[train_index], y.iloc[valid_index]\n",
    "    \n",
    "    dtrain = lgb.Dataset(X_train, label=y_train)\n",
    "    dvalid = lgb.Dataset(X_valid, label=y_valid)\n",
    "\n",
    "    clf = lgb.train(params, dtrain, 1000, valid_sets = [dtrain, dvalid], verbose_eval=200, early_stopping_rounds=100)\n",
    "    \n",
    "    feature_importances[f'fold_{fold_n + 1}'] = clf.feature_importance()\n",
    "    \n",
    "    y_pred_valid = clf.predict(X_valid)\n",
    "    y_oof[valid_index] = y_pred_valid\n",
    "    print(f\"Fold {fold_n + 1} | AUC: {roc_auc_score(y_valid, y_pred_valid)}\")\n",
    "    \n",
    "    score += roc_auc_score(y_valid, y_pred_valid) / NFOLDS\n",
    "    \n",
    "    del X_train, X_valid, y_train, y_valid\n",
    "    gc.collect()\n",
    "\n",
    "print(f\"\\nMean AUC = {score}\")"
   ]
  },
  {
   "cell_type": "code",
   "execution_count": null,
   "metadata": {
    "id": "VMvKCOS7AW8C"
   },
   "outputs": [],
   "source": [
    "import seaborn as sns\n",
    "feature_importance_gain=pd.DataFrame()\n",
    "feature_importance_gain['feature']=columns\n",
    "feature_importance_gain['fold_1']=clf.feature_importance(importance_type='gain')\n",
    "feature_importance_gain['average'] = feature_importances[[f'fold_{fold_n + 1}' for fold_n in range(1)]].mean(axis=1)\n",
    "plt.figure(figsize=(16, 16))\n",
    "sns.barplot(data=feature_importance_gain.sort_values(by='average', ascending=False).head(50), x='average', y='feature');\n",
    "plt.title('100 TOP feature importance over {} folds average'.format(folds.n_splits));"
   ]
  },
  {
   "cell_type": "code",
   "execution_count": null,
   "metadata": {
    "id": "L7NdnKoGAW8C"
   },
   "outputs": [],
   "source": []
  },
  {
   "cell_type": "code",
   "execution_count": null,
   "metadata": {
    "id": "Zn_BVl-tAW8C",
    "scrolled": true
   },
   "outputs": [],
   "source": []
  },
  {
   "cell_type": "code",
   "execution_count": null,
   "metadata": {
    "id": "ffX_INS9AW8D"
   },
   "outputs": [],
   "source": []
  },
  {
   "cell_type": "code",
   "execution_count": null,
   "metadata": {
    "id": "Z6S66tnnAW8D"
   },
   "outputs": [],
   "source": []
  },
  {
   "cell_type": "code",
   "execution_count": null,
   "metadata": {
    "id": "cFboEB95AW8D"
   },
   "outputs": [],
   "source": []
  },
  {
   "cell_type": "code",
   "execution_count": null,
   "metadata": {
    "id": "cvepNGEJAW8D"
   },
   "outputs": [],
   "source": []
  },
  {
   "cell_type": "code",
   "execution_count": 205,
   "metadata": {
    "ExecuteTime": {
     "end_time": "2021-08-04T00:01:09.145700Z",
     "start_time": "2021-08-03T23:59:11.236882Z"
    },
    "id": "ZziVwvqRAW8D"
   },
   "outputs": [
    {
     "data": {
      "application/vnd.jupyter.widget-view+json": {
       "model_id": "4f581a63461748b8973f0a5651df85aa",
       "version_major": 2,
       "version_minor": 0
      },
      "text/plain": [
       "HBox(children=(HTML(value=''), FloatProgress(value=0.0, layout=Layout(flex='2'), max=65.0), HTML(value='')), l…"
      ]
     },
     "metadata": {},
     "output_type": "display_data"
    },
    {
     "name": "stderr",
     "output_type": "stream",
     "text": [
      "C:\\ProgramData\\Anaconda3\\lib\\site-packages\\matplotlib\\backends\\backend_agg.py:238: RuntimeWarning: Glyph 26131 missing from current font.\n",
      "  font.set_text(s, 0.0, flags=flags)\n",
      "C:\\ProgramData\\Anaconda3\\lib\\site-packages\\matplotlib\\backends\\backend_agg.py:238: RuntimeWarning: Glyph 32988 missing from current font.\n",
      "  font.set_text(s, 0.0, flags=flags)\n",
      "C:\\ProgramData\\Anaconda3\\lib\\site-packages\\matplotlib\\backends\\backend_agg.py:238: RuntimeWarning: Glyph 38886 missing from current font.\n",
      "  font.set_text(s, 0.0, flags=flags)\n",
      "C:\\ProgramData\\Anaconda3\\lib\\site-packages\\matplotlib\\backends\\backend_agg.py:238: RuntimeWarning: Glyph 24503 missing from current font.\n",
      "  font.set_text(s, 0.0, flags=flags)\n",
      "C:\\ProgramData\\Anaconda3\\lib\\site-packages\\matplotlib\\backends\\backend_agg.py:238: RuntimeWarning: Glyph 26126 missing from current font.\n",
      "  font.set_text(s, 0.0, flags=flags)\n",
      "C:\\ProgramData\\Anaconda3\\lib\\site-packages\\matplotlib\\backends\\backend_agg.py:238: RuntimeWarning: Glyph 38494 missing from current font.\n",
      "  font.set_text(s, 0.0, flags=flags)\n",
      "C:\\ProgramData\\Anaconda3\\lib\\site-packages\\matplotlib\\backends\\backend_agg.py:238: RuntimeWarning: Glyph 37329 missing from current font.\n",
      "  font.set_text(s, 0.0, flags=flags)\n",
      "C:\\ProgramData\\Anaconda3\\lib\\site-packages\\matplotlib\\backends\\backend_agg.py:238: RuntimeWarning: Glyph 23453 missing from current font.\n",
      "  font.set_text(s, 0.0, flags=flags)\n",
      "C:\\ProgramData\\Anaconda3\\lib\\site-packages\\matplotlib\\backends\\backend_agg.py:238: RuntimeWarning: Glyph 21338 missing from current font.\n",
      "  font.set_text(s, 0.0, flags=flags)\n",
      "C:\\ProgramData\\Anaconda3\\lib\\site-packages\\matplotlib\\backends\\backend_agg.py:238: RuntimeWarning: Glyph 21033 missing from current font.\n",
      "  font.set_text(s, 0.0, flags=flags)\n",
      "C:\\ProgramData\\Anaconda3\\lib\\site-packages\\matplotlib\\backends\\backend_agg.py:238: RuntimeWarning: Glyph 35760 missing from current font.\n",
      "  font.set_text(s, 0.0, flags=flags)\n",
      "C:\\ProgramData\\Anaconda3\\lib\\site-packages\\matplotlib\\backends\\backend_agg.py:201: RuntimeWarning: Glyph 26131 missing from current font.\n",
      "  font.set_text(s, 0, flags=flags)\n",
      "C:\\ProgramData\\Anaconda3\\lib\\site-packages\\matplotlib\\backends\\backend_agg.py:201: RuntimeWarning: Glyph 32988 missing from current font.\n",
      "  font.set_text(s, 0, flags=flags)\n",
      "C:\\ProgramData\\Anaconda3\\lib\\site-packages\\matplotlib\\backends\\backend_agg.py:201: RuntimeWarning: Glyph 38886 missing from current font.\n",
      "  font.set_text(s, 0, flags=flags)\n",
      "C:\\ProgramData\\Anaconda3\\lib\\site-packages\\matplotlib\\backends\\backend_agg.py:201: RuntimeWarning: Glyph 24503 missing from current font.\n",
      "  font.set_text(s, 0, flags=flags)\n",
      "C:\\ProgramData\\Anaconda3\\lib\\site-packages\\matplotlib\\backends\\backend_agg.py:201: RuntimeWarning: Glyph 26126 missing from current font.\n",
      "  font.set_text(s, 0, flags=flags)\n",
      "C:\\ProgramData\\Anaconda3\\lib\\site-packages\\matplotlib\\backends\\backend_agg.py:201: RuntimeWarning: Glyph 38494 missing from current font.\n",
      "  font.set_text(s, 0, flags=flags)\n",
      "C:\\ProgramData\\Anaconda3\\lib\\site-packages\\matplotlib\\backends\\backend_agg.py:201: RuntimeWarning: Glyph 37329 missing from current font.\n",
      "  font.set_text(s, 0, flags=flags)\n",
      "C:\\ProgramData\\Anaconda3\\lib\\site-packages\\matplotlib\\backends\\backend_agg.py:201: RuntimeWarning: Glyph 23453 missing from current font.\n",
      "  font.set_text(s, 0, flags=flags)\n",
      "C:\\ProgramData\\Anaconda3\\lib\\site-packages\\matplotlib\\backends\\backend_agg.py:201: RuntimeWarning: Glyph 21338 missing from current font.\n",
      "  font.set_text(s, 0, flags=flags)\n",
      "C:\\ProgramData\\Anaconda3\\lib\\site-packages\\matplotlib\\backends\\backend_agg.py:201: RuntimeWarning: Glyph 21033 missing from current font.\n",
      "  font.set_text(s, 0, flags=flags)\n",
      "C:\\ProgramData\\Anaconda3\\lib\\site-packages\\matplotlib\\backends\\backend_agg.py:201: RuntimeWarning: Glyph 35760 missing from current font.\n",
      "  font.set_text(s, 0, flags=flags)\n"
     ]
    },
    {
     "name": "stdout",
     "output_type": "stream",
     "text": [
      "\n",
      "Report SWEETVIZ_REPORT.html was generated! NOTEBOOK/COLAB USERS: the web browser MAY not pop up, regardless, the report IS saved in your notebook/colab files.\n"
     ]
    }
   ],
   "source": [
    "import sweetviz as sv\n",
    "# 可以选择目标特征\n",
    "my_report = sv.analyze(train, target_feat ='result')\n",
    "my_report.show_html()"
   ]
  },
  {
   "cell_type": "code",
   "execution_count": null,
   "metadata": {
    "ExecuteTime": {
     "end_time": "2021-08-02T05:04:18.906496Z",
     "start_time": "2021-08-02T05:03:20.186018Z"
    },
    "id": "o3kERT_CAW8D"
   },
   "outputs": [],
   "source": [
    "import sweetviz as sv\n",
    "# 可以选择目标特征\n",
    "my_report = sv.analyze(train, target_feat ='result')\n",
    "my_report.show_html()"
   ]
  },
  {
   "cell_type": "code",
   "execution_count": null,
   "metadata": {
    "id": "Mu3xvBZGAW8D"
   },
   "outputs": [],
   "source": [
    "daxiaoPankouMid_real\n"
   ]
  },
  {
   "cell_type": "code",
   "execution_count": null,
   "metadata": {
    "id": "oCzUaARxAW8D"
   },
   "outputs": [],
   "source": [
    "pre_test = test[(test['daxiaoMasterStartOdd'] >= 0.75) & (test['daxiaoMasterStartOdd'] < 1.20)]\n",
    "pre_test = pre_test[(pre_test['daxiaoMasterOdd'] >= 0.75) & (pre_test['daxiaoMasterOdd'] < 1.20)]\n",
    "pre_test = pre_test[(pre_test['daxiaoGuestOddMid'] >= 0.75) & (pre_test['daxiaoGuestOddMid'] < 1.20)]"
   ]
  },
  {
   "cell_type": "code",
   "execution_count": null,
   "metadata": {
    "id": "TQSd-NdoAW8D"
   },
   "outputs": [],
   "source": []
  },
  {
   "cell_type": "code",
   "execution_count": null,
   "metadata": {
    "id": "fLVCE1wYAW8E"
   },
   "outputs": [],
   "source": [
    "train_x"
   ]
  },
  {
   "cell_type": "code",
   "execution_count": 283,
   "metadata": {
    "ExecuteTime": {
     "end_time": "2021-08-08T05:00:28.794019Z",
     "start_time": "2021-08-08T04:58:41.427653Z"
    },
    "id": "fD1FAd-gAW8E"
   },
   "outputs": [],
   "source": [
    "myclient = pymongo.MongoClient(\"mongodb://localhost:27017/\")\n",
    "mydb = myclient[\"soccerData\"]\n",
    "mycol = mydb[\"midRawData007daxiao\"]\n",
    "\n",
    "data = pd.DataFrame(list(mycol.find()))\n",
    "data = data.drop(['_id', 'time','place'], axis=1)"
   ]
  },
  {
   "cell_type": "code",
   "execution_count": 284,
   "metadata": {
    "ExecuteTime": {
     "end_time": "2021-08-08T05:00:37.264293Z",
     "start_time": "2021-08-08T05:00:28.891963Z"
    }
   },
   "outputs": [
    {
     "name": "stdout",
     "output_type": "stream",
     "text": [
      "Memory usage of dataframe is 181.39 MB\n",
      "Memory usage after optimization is: 66.83 MB\n",
      "Decreased by 63.2%\n"
     ]
    }
   ],
   "source": [
    "data = reduce_mem_usage(data)"
   ]
  },
  {
   "cell_type": "code",
   "execution_count": 285,
   "metadata": {
    "ExecuteTime": {
     "end_time": "2021-08-08T05:00:42.304302Z",
     "start_time": "2021-08-08T05:00:37.317262Z"
    },
    "id": "TyEJkU-wAW8E"
   },
   "outputs": [],
   "source": [
    "train = data[:250000]\n",
    "\n",
    "test =  data[250000:]"
   ]
  },
  {
   "cell_type": "code",
   "execution_count": null,
   "metadata": {
    "ExecuteTime": {
     "end_time": "2021-08-07T13:53:27.251342Z",
     "start_time": "2021-08-07T13:53:27.109067Z"
    },
    "id": "o9YuOVyrAW8E"
   },
   "outputs": [],
   "source": []
  },
  {
   "cell_type": "code",
   "execution_count": 286,
   "metadata": {
    "ExecuteTime": {
     "end_time": "2021-08-08T05:00:42.558884Z",
     "start_time": "2021-08-08T05:00:42.358184Z"
    }
   },
   "outputs": [],
   "source": [
    "test = test.drop(['masterOdd_Start_Interwette_daxiao', 'pankou_Start_Interwette_daxiao','guestOdd_Start_Interwette_daxiao',\n",
    "                      'masterOdd_End_Interwette_daxiao', 'pankouOdd_End_Interwette_daxiao','guestOdd_End_Interwette_daxiao'], axis=1)\n",
    "\n",
    "test = test.drop(['masterOdd_Start_平博_daxiao', 'pankou_Start_平博_daxiao','guestOdd_Start_平博_daxiao',\n",
    "                      'masterOdd_End_平博_daxiao', 'pankouOdd_End_平博_daxiao','guestOdd_End_平博_daxiao'], axis=1)\n",
    "\n",
    "test = test.drop(['masterOdd_Start_澳门_daxiao', 'pankou_Start_澳门_daxiao','guestOdd_Start_澳门_daxiao',\n",
    "                      'masterOdd_End_澳门_daxiao', 'pankouOdd_End_澳门_daxiao','guestOdd_End_澳门_daxiao'], axis=1)\n",
    "\n",
    "test = test.drop(['masterOdd_Start_Crown_daxiao', 'pankou_Start_Crown_daxiao','guestOdd_Start_Crown_daxiao',\n",
    "                      'masterOdd_End_Crown_daxiao', 'pankouOdd_End_Crown_daxiao','guestOdd_End_Crown_daxiao'], axis=1)\n",
    "\n",
    "test = test.drop(['masterOdd_Start_365_daxiao', 'pankou_Start_365_daxiao','guestOdd_Start_365_daxiao',\n",
    "                      'masterOdd_End_365_daxiao', 'pankouOdd_End_365_daxiao','guestOdd_End_365_daxiao'], axis=1)\n",
    "\n",
    "test = test.drop(['masterOdd_Start_12B_daxiao', 'pankou_Start_12B_daxiao','guestOdd_Start_12B_daxiao',\n",
    "                      'masterOdd_End_12B_daxiao', 'pankouOdd_End_12B_daxiao','guestOdd_End_12B_daxiao'], axis=1)\n",
    "\n",
    "test = test.drop(['masterOdd_Start_利记_daxiao', 'pankou_Start_利记_daxiao','guestOdd_Start_利记_daxiao',\n",
    "                      'masterOdd_End_利记_daxiao', 'pankouOdd_End_利记_daxiao','guestOdd_End_利记_daxiao'], axis=1)"
   ]
  },
  {
   "cell_type": "code",
   "execution_count": 287,
   "metadata": {
    "ExecuteTime": {
     "end_time": "2021-08-08T05:00:42.952792Z",
     "start_time": "2021-08-08T05:00:42.588884Z"
    }
   },
   "outputs": [],
   "source": [
    "train = train.drop(['masterOdd_Start_Interwette_daxiao', 'pankou_Start_Interwette_daxiao','guestOdd_Start_Interwette_daxiao',\n",
    "                      'masterOdd_End_Interwette_daxiao', 'pankouOdd_End_Interwette_daxiao','guestOdd_End_Interwette_daxiao'], axis=1)\n",
    "\n",
    "train = train.drop(['masterOdd_Start_平博_daxiao', 'pankou_Start_平博_daxiao','guestOdd_Start_平博_daxiao',\n",
    "                      'masterOdd_End_平博_daxiao', 'pankouOdd_End_平博_daxiao','guestOdd_End_平博_daxiao'], axis=1)\n",
    "\n",
    "train = train.drop(['masterOdd_Start_澳门_daxiao', 'pankou_Start_澳门_daxiao','guestOdd_Start_澳门_daxiao',\n",
    "                      'masterOdd_End_澳门_daxiao', 'pankouOdd_End_澳门_daxiao','guestOdd_End_澳门_daxiao'], axis=1)\n",
    "\n",
    "train = train.drop(['masterOdd_Start_Crown_daxiao', 'pankou_Start_Crown_daxiao','guestOdd_Start_Crown_daxiao',\n",
    "                      'masterOdd_End_Crown_daxiao', 'pankouOdd_End_Crown_daxiao','guestOdd_End_Crown_daxiao'], axis=1)\n",
    "\n",
    "train = train.drop(['masterOdd_Start_365_daxiao', 'pankou_Start_365_daxiao','guestOdd_Start_365_daxiao',\n",
    "                      'masterOdd_End_365_daxiao', 'pankouOdd_End_365_daxiao','guestOdd_End_365_daxiao'], axis=1)\n",
    "\n",
    "train = train.drop(['masterOdd_Start_12B_daxiao', 'pankou_Start_12B_daxiao','guestOdd_Start_12B_daxiao',\n",
    "                      'masterOdd_End_12B_daxiao', 'pankouOdd_End_12B_daxiao','guestOdd_End_12B_daxiao'], axis=1)\n",
    "\n",
    "train = train.drop(['masterOdd_Start_利记_daxiao', 'pankou_Start_利记_daxiao','guestOdd_Start_利记_daxiao',\n",
    "                      'masterOdd_End_利记_daxiao', 'pankouOdd_End_利记_daxiao','guestOdd_End_利记_daxiao'], axis=1)"
   ]
  },
  {
   "cell_type": "code",
   "execution_count": 288,
   "metadata": {
    "ExecuteTime": {
     "end_time": "2021-08-08T05:00:43.548825Z",
     "start_time": "2021-08-08T05:00:42.954790Z"
    }
   },
   "outputs": [],
   "source": [
    "train = train.dropna()\n",
    "test = test.dropna()"
   ]
  },
  {
   "cell_type": "code",
   "execution_count": 289,
   "metadata": {
    "ExecuteTime": {
     "end_time": "2021-08-08T05:00:43.958090Z",
     "start_time": "2021-08-08T05:00:43.551810Z"
    }
   },
   "outputs": [
    {
     "name": "stdout",
     "output_type": "stream",
     "text": [
      "<class 'pandas.core.frame.DataFrame'>\n",
      "Int64Index: 133504 entries, 3 to 249999\n",
      "Data columns (total 32 columns):\n",
      " #   Column                      Non-Null Count   Dtype   \n",
      "---  ------                      --------------   -----   \n",
      " 0   masterGoal                  133504 non-null  int8    \n",
      " 1   guestGoal                   133504 non-null  int8    \n",
      " 2   masterOdd_Start_易胜_daxiao   133504 non-null  float32 \n",
      " 3   pankou_Start_易胜_daxiao      133504 non-null  category\n",
      " 4   guestOdd_Start_易胜_daxiao    133504 non-null  float32 \n",
      " 5   masterOdd_End_易胜_daxiao     133504 non-null  float32 \n",
      " 6   pankouOdd_End_易胜_daxiao     133504 non-null  category\n",
      " 7   guestOdd_End_易胜_daxiao      133504 non-null  float32 \n",
      " 8   masterOdd_Start_韦德_daxiao   133504 non-null  float32 \n",
      " 9   pankou_Start_韦德_daxiao      133504 non-null  category\n",
      " 10  guestOdd_Start_韦德_daxiao    133504 non-null  float32 \n",
      " 11  masterOdd_End_韦德_daxiao     133504 non-null  float32 \n",
      " 12  pankouOdd_End_韦德_daxiao     133504 non-null  category\n",
      " 13  guestOdd_End_韦德_daxiao      133504 non-null  float32 \n",
      " 14  masterOdd_Start_明陞_daxiao   133504 non-null  float32 \n",
      " 15  pankou_Start_明陞_daxiao      133504 non-null  category\n",
      " 16  guestOdd_Start_明陞_daxiao    133504 non-null  float32 \n",
      " 17  masterOdd_End_明陞_daxiao     133504 non-null  float32 \n",
      " 18  pankouOdd_End_明陞_daxiao     133504 non-null  category\n",
      " 19  guestOdd_End_明陞_daxiao      133504 non-null  float32 \n",
      " 20  masterOdd_Start_10B_daxiao  133504 non-null  float32 \n",
      " 21  pankou_Start_10B_daxiao     133504 non-null  category\n",
      " 22  guestOdd_Start_10B_daxiao   133504 non-null  float32 \n",
      " 23  masterOdd_End_10B_daxiao    133504 non-null  float32 \n",
      " 24  pankouOdd_End_10B_daxiao    133504 non-null  category\n",
      " 25  guestOdd_End_10B_daxiao     133504 non-null  float32 \n",
      " 26  masterOdd_Start_金宝博_daxiao  133504 non-null  float32 \n",
      " 27  pankou_Start_金宝博_daxiao     133504 non-null  category\n",
      " 28  guestOdd_Start_金宝博_daxiao   133504 non-null  float32 \n",
      " 29  masterOdd_End_金宝博_daxiao    133504 non-null  float32 \n",
      " 30  pankouOdd_End_金宝博_daxiao    133504 non-null  category\n",
      " 31  guestOdd_End_金宝博_daxiao     133504 non-null  float32 \n",
      "dtypes: category(10), float32(20), int8(2)\n",
      "memory usage: 12.7 MB\n"
     ]
    }
   ],
   "source": [
    "train.info()"
   ]
  },
  {
   "cell_type": "code",
   "execution_count": null,
   "metadata": {
    "ExecuteTime": {
     "end_time": "2021-08-07T13:51:51.448424Z",
     "start_time": "2021-08-07T13:51:50.693489Z"
    }
   },
   "outputs": [],
   "source": []
  },
  {
   "cell_type": "code",
   "execution_count": 290,
   "metadata": {
    "ExecuteTime": {
     "end_time": "2021-08-08T05:00:43.974081Z",
     "start_time": "2021-08-08T05:00:43.963087Z"
    }
   },
   "outputs": [],
   "source": [
    "def daxiao_num(x):\n",
    "    x_list = x.split(\"/\")\n",
    "    num = 0\n",
    "    for i in x_list:\n",
    "        num += float(i)\n",
    "    return (float(num)/len(x_list))"
   ]
  },
  {
   "cell_type": "code",
   "execution_count": 291,
   "metadata": {
    "ExecuteTime": {
     "end_time": "2021-08-08T05:00:44.007062Z",
     "start_time": "2021-08-08T05:00:43.977079Z"
    }
   },
   "outputs": [],
   "source": [
    "def getResult(masterGoal, guestGoal,pankou):\n",
    "    if masterGoal + guestGoal - pankou >= 0:\n",
    "        return 1\n",
    "    if masterGoal + guestGoal - pankou < 0:\n",
    "        return 0"
   ]
  },
  {
   "cell_type": "code",
   "execution_count": 292,
   "metadata": {
    "ExecuteTime": {
     "end_time": "2021-08-08T05:00:44.053036Z",
     "start_time": "2021-08-08T05:00:44.012059Z"
    }
   },
   "outputs": [],
   "source": [
    "# pankou = train.select_dtypes(include='float').columns\n",
    "# for col in pankou:\n",
    "#     test = test[(test[col] >= 0.60) & (test[col] < 1.50)]\n",
    "#     train = train[(train[col] >= 0.60) & (train[col] < 1.50)]"
   ]
  },
  {
   "cell_type": "code",
   "execution_count": 293,
   "metadata": {
    "ExecuteTime": {
     "end_time": "2021-08-08T05:00:44.130991Z",
     "start_time": "2021-08-08T05:00:44.078021Z"
    }
   },
   "outputs": [
    {
     "name": "stdout",
     "output_type": "stream",
     "text": [
      "<class 'pandas.core.frame.DataFrame'>\n",
      "Int64Index: 133504 entries, 3 to 249999\n",
      "Data columns (total 32 columns):\n",
      " #   Column                      Non-Null Count   Dtype   \n",
      "---  ------                      --------------   -----   \n",
      " 0   masterGoal                  133504 non-null  int8    \n",
      " 1   guestGoal                   133504 non-null  int8    \n",
      " 2   masterOdd_Start_易胜_daxiao   133504 non-null  float32 \n",
      " 3   pankou_Start_易胜_daxiao      133504 non-null  category\n",
      " 4   guestOdd_Start_易胜_daxiao    133504 non-null  float32 \n",
      " 5   masterOdd_End_易胜_daxiao     133504 non-null  float32 \n",
      " 6   pankouOdd_End_易胜_daxiao     133504 non-null  category\n",
      " 7   guestOdd_End_易胜_daxiao      133504 non-null  float32 \n",
      " 8   masterOdd_Start_韦德_daxiao   133504 non-null  float32 \n",
      " 9   pankou_Start_韦德_daxiao      133504 non-null  category\n",
      " 10  guestOdd_Start_韦德_daxiao    133504 non-null  float32 \n",
      " 11  masterOdd_End_韦德_daxiao     133504 non-null  float32 \n",
      " 12  pankouOdd_End_韦德_daxiao     133504 non-null  category\n",
      " 13  guestOdd_End_韦德_daxiao      133504 non-null  float32 \n",
      " 14  masterOdd_Start_明陞_daxiao   133504 non-null  float32 \n",
      " 15  pankou_Start_明陞_daxiao      133504 non-null  category\n",
      " 16  guestOdd_Start_明陞_daxiao    133504 non-null  float32 \n",
      " 17  masterOdd_End_明陞_daxiao     133504 non-null  float32 \n",
      " 18  pankouOdd_End_明陞_daxiao     133504 non-null  category\n",
      " 19  guestOdd_End_明陞_daxiao      133504 non-null  float32 \n",
      " 20  masterOdd_Start_10B_daxiao  133504 non-null  float32 \n",
      " 21  pankou_Start_10B_daxiao     133504 non-null  category\n",
      " 22  guestOdd_Start_10B_daxiao   133504 non-null  float32 \n",
      " 23  masterOdd_End_10B_daxiao    133504 non-null  float32 \n",
      " 24  pankouOdd_End_10B_daxiao    133504 non-null  category\n",
      " 25  guestOdd_End_10B_daxiao     133504 non-null  float32 \n",
      " 26  masterOdd_Start_金宝博_daxiao  133504 non-null  float32 \n",
      " 27  pankou_Start_金宝博_daxiao     133504 non-null  category\n",
      " 28  guestOdd_Start_金宝博_daxiao   133504 non-null  float32 \n",
      " 29  masterOdd_End_金宝博_daxiao    133504 non-null  float32 \n",
      " 30  pankouOdd_End_金宝博_daxiao    133504 non-null  category\n",
      " 31  guestOdd_End_金宝博_daxiao     133504 non-null  float32 \n",
      "dtypes: category(10), float32(20), int8(2)\n",
      "memory usage: 12.7 MB\n"
     ]
    }
   ],
   "source": [
    "train.info()"
   ]
  },
  {
   "cell_type": "code",
   "execution_count": 294,
   "metadata": {
    "ExecuteTime": {
     "end_time": "2021-08-08T05:00:44.146982Z",
     "start_time": "2021-08-08T05:00:44.132990Z"
    }
   },
   "outputs": [],
   "source": [
    "pankou = train.select_dtypes(include='object').columns\n",
    "for col in pankou:\n",
    "    test[col] = test[col].map(daxiao_num)\n",
    "    train[col] = train[col].map(daxiao_num)"
   ]
  },
  {
   "cell_type": "code",
   "execution_count": 295,
   "metadata": {
    "ExecuteTime": {
     "end_time": "2021-08-08T05:00:44.178965Z",
     "start_time": "2021-08-08T05:00:44.148981Z"
    }
   },
   "outputs": [],
   "source": [
    "def getShuiPing(x):\n",
    "    result = 9\n",
    "    if x <= 0.75:\n",
    "        result = 0\n",
    "    if 0.75< x and x<=0.85:\n",
    "        result = 1\n",
    "    if 0.85<x and x<=0.90:\n",
    "        result = 2\n",
    "    if 0.90<x and x<=0.95:\n",
    "        result = 3\n",
    "    if 0.95<x and x<=1.00:\n",
    "        result = 4\n",
    "    if 1.00<x and x<=1.08:\n",
    "        result = 5\n",
    "    if 1.08<x and x<=1.20:\n",
    "        result = 6\n",
    "    if x > 1.20:\n",
    "        result = 7\n",
    "    return result"
   ]
  },
  {
   "cell_type": "code",
   "execution_count": 296,
   "metadata": {
    "ExecuteTime": {
     "end_time": "2021-08-08T05:00:44.226936Z",
     "start_time": "2021-08-08T05:00:44.183961Z"
    }
   },
   "outputs": [],
   "source": [
    "pankou = train.select_dtypes(include='float').columns\n",
    "for col in pankou:\n",
    "    nm = col+'_'+'shuiPing'\n",
    "    train[nm] = train[col].map(getShuiPing)\n",
    "    test[nm] = test[col].map(getShuiPing)"
   ]
  },
  {
   "cell_type": "code",
   "execution_count": 297,
   "metadata": {
    "ExecuteTime": {
     "end_time": "2021-08-08T05:00:44.289903Z",
     "start_time": "2021-08-08T05:00:44.229935Z"
    }
   },
   "outputs": [
    {
     "name": "stdout",
     "output_type": "stream",
     "text": [
      "<class 'pandas.core.frame.DataFrame'>\n",
      "Int64Index: 133504 entries, 3 to 249999\n",
      "Data columns (total 32 columns):\n",
      " #   Column                      Non-Null Count   Dtype   \n",
      "---  ------                      --------------   -----   \n",
      " 0   masterGoal                  133504 non-null  int8    \n",
      " 1   guestGoal                   133504 non-null  int8    \n",
      " 2   masterOdd_Start_易胜_daxiao   133504 non-null  float32 \n",
      " 3   pankou_Start_易胜_daxiao      133504 non-null  category\n",
      " 4   guestOdd_Start_易胜_daxiao    133504 non-null  float32 \n",
      " 5   masterOdd_End_易胜_daxiao     133504 non-null  float32 \n",
      " 6   pankouOdd_End_易胜_daxiao     133504 non-null  category\n",
      " 7   guestOdd_End_易胜_daxiao      133504 non-null  float32 \n",
      " 8   masterOdd_Start_韦德_daxiao   133504 non-null  float32 \n",
      " 9   pankou_Start_韦德_daxiao      133504 non-null  category\n",
      " 10  guestOdd_Start_韦德_daxiao    133504 non-null  float32 \n",
      " 11  masterOdd_End_韦德_daxiao     133504 non-null  float32 \n",
      " 12  pankouOdd_End_韦德_daxiao     133504 non-null  category\n",
      " 13  guestOdd_End_韦德_daxiao      133504 non-null  float32 \n",
      " 14  masterOdd_Start_明陞_daxiao   133504 non-null  float32 \n",
      " 15  pankou_Start_明陞_daxiao      133504 non-null  category\n",
      " 16  guestOdd_Start_明陞_daxiao    133504 non-null  float32 \n",
      " 17  masterOdd_End_明陞_daxiao     133504 non-null  float32 \n",
      " 18  pankouOdd_End_明陞_daxiao     133504 non-null  category\n",
      " 19  guestOdd_End_明陞_daxiao      133504 non-null  float32 \n",
      " 20  masterOdd_Start_10B_daxiao  133504 non-null  float32 \n",
      " 21  pankou_Start_10B_daxiao     133504 non-null  category\n",
      " 22  guestOdd_Start_10B_daxiao   133504 non-null  float32 \n",
      " 23  masterOdd_End_10B_daxiao    133504 non-null  float32 \n",
      " 24  pankouOdd_End_10B_daxiao    133504 non-null  category\n",
      " 25  guestOdd_End_10B_daxiao     133504 non-null  float32 \n",
      " 26  masterOdd_Start_金宝博_daxiao  133504 non-null  float32 \n",
      " 27  pankou_Start_金宝博_daxiao     133504 non-null  category\n",
      " 28  guestOdd_Start_金宝博_daxiao   133504 non-null  float32 \n",
      " 29  masterOdd_End_金宝博_daxiao    133504 non-null  float32 \n",
      " 30  pankouOdd_End_金宝博_daxiao    133504 non-null  category\n",
      " 31  guestOdd_End_金宝博_daxiao     133504 non-null  float32 \n",
      "dtypes: category(10), float32(20), int8(2)\n",
      "memory usage: 12.7 MB\n"
     ]
    }
   ],
   "source": [
    "train.info()"
   ]
  },
  {
   "cell_type": "code",
   "execution_count": 298,
   "metadata": {
    "ExecuteTime": {
     "end_time": "2021-08-08T05:00:45.569930Z",
     "start_time": "2021-08-08T05:00:44.306890Z"
    },
    "id": "YCUra815AW8E"
   },
   "outputs": [
    {
     "ename": "TypeError",
     "evalue": "unsupported operand type(s) for -: 'int' and 'str'",
     "output_type": "error",
     "traceback": [
      "\u001b[1;31m---------------------------------------------------------------------------\u001b[0m",
      "\u001b[1;31mTypeError\u001b[0m                                 Traceback (most recent call last)",
      "\u001b[1;32m<ipython-input-298-29aab2fe29ae>\u001b[0m in \u001b[0;36m<module>\u001b[1;34m\u001b[0m\n\u001b[1;32m----> 1\u001b[1;33m test['result'] = test.apply(lambda x: getResult(\n\u001b[0m\u001b[0;32m      2\u001b[0m         x['masterGoal'], x['guestGoal'], x['pankouOdd_End_金宝博_daxiao']), axis=1)\n\u001b[0;32m      3\u001b[0m \u001b[1;33m\u001b[0m\u001b[0m\n\u001b[0;32m      4\u001b[0m train['result'] = train.apply(lambda x: getResult(\n\u001b[0;32m      5\u001b[0m         x['masterGoal'], x['guestGoal'], x['pankouOdd_End_金宝博_daxiao']), axis=1)\n",
      "\u001b[1;32m~\\AppData\\Roaming\\Python\\Python38\\site-packages\\pandas\\core\\frame.py\u001b[0m in \u001b[0;36mapply\u001b[1;34m(self, func, axis, raw, result_type, args, **kwargs)\u001b[0m\n\u001b[0;32m   8734\u001b[0m             \u001b[0mkwargs\u001b[0m\u001b[1;33m=\u001b[0m\u001b[0mkwargs\u001b[0m\u001b[1;33m,\u001b[0m\u001b[1;33m\u001b[0m\u001b[1;33m\u001b[0m\u001b[0m\n\u001b[0;32m   8735\u001b[0m         )\n\u001b[1;32m-> 8736\u001b[1;33m         \u001b[1;32mreturn\u001b[0m \u001b[0mop\u001b[0m\u001b[1;33m.\u001b[0m\u001b[0mapply\u001b[0m\u001b[1;33m(\u001b[0m\u001b[1;33m)\u001b[0m\u001b[1;33m\u001b[0m\u001b[1;33m\u001b[0m\u001b[0m\n\u001b[0m\u001b[0;32m   8737\u001b[0m \u001b[1;33m\u001b[0m\u001b[0m\n\u001b[0;32m   8738\u001b[0m     def applymap(\n",
      "\u001b[1;32m~\\AppData\\Roaming\\Python\\Python38\\site-packages\\pandas\\core\\apply.py\u001b[0m in \u001b[0;36mapply\u001b[1;34m(self)\u001b[0m\n\u001b[0;32m    686\u001b[0m             \u001b[1;32mreturn\u001b[0m \u001b[0mself\u001b[0m\u001b[1;33m.\u001b[0m\u001b[0mapply_raw\u001b[0m\u001b[1;33m(\u001b[0m\u001b[1;33m)\u001b[0m\u001b[1;33m\u001b[0m\u001b[1;33m\u001b[0m\u001b[0m\n\u001b[0;32m    687\u001b[0m \u001b[1;33m\u001b[0m\u001b[0m\n\u001b[1;32m--> 688\u001b[1;33m         \u001b[1;32mreturn\u001b[0m \u001b[0mself\u001b[0m\u001b[1;33m.\u001b[0m\u001b[0mapply_standard\u001b[0m\u001b[1;33m(\u001b[0m\u001b[1;33m)\u001b[0m\u001b[1;33m\u001b[0m\u001b[1;33m\u001b[0m\u001b[0m\n\u001b[0m\u001b[0;32m    689\u001b[0m \u001b[1;33m\u001b[0m\u001b[0m\n\u001b[0;32m    690\u001b[0m     \u001b[1;32mdef\u001b[0m \u001b[0magg\u001b[0m\u001b[1;33m(\u001b[0m\u001b[0mself\u001b[0m\u001b[1;33m)\u001b[0m\u001b[1;33m:\u001b[0m\u001b[1;33m\u001b[0m\u001b[1;33m\u001b[0m\u001b[0m\n",
      "\u001b[1;32m~\\AppData\\Roaming\\Python\\Python38\\site-packages\\pandas\\core\\apply.py\u001b[0m in \u001b[0;36mapply_standard\u001b[1;34m(self)\u001b[0m\n\u001b[0;32m    803\u001b[0m \u001b[1;33m\u001b[0m\u001b[0m\n\u001b[0;32m    804\u001b[0m     \u001b[1;32mdef\u001b[0m \u001b[0mapply_standard\u001b[0m\u001b[1;33m(\u001b[0m\u001b[0mself\u001b[0m\u001b[1;33m)\u001b[0m\u001b[1;33m:\u001b[0m\u001b[1;33m\u001b[0m\u001b[1;33m\u001b[0m\u001b[0m\n\u001b[1;32m--> 805\u001b[1;33m         \u001b[0mresults\u001b[0m\u001b[1;33m,\u001b[0m \u001b[0mres_index\u001b[0m \u001b[1;33m=\u001b[0m \u001b[0mself\u001b[0m\u001b[1;33m.\u001b[0m\u001b[0mapply_series_generator\u001b[0m\u001b[1;33m(\u001b[0m\u001b[1;33m)\u001b[0m\u001b[1;33m\u001b[0m\u001b[1;33m\u001b[0m\u001b[0m\n\u001b[0m\u001b[0;32m    806\u001b[0m \u001b[1;33m\u001b[0m\u001b[0m\n\u001b[0;32m    807\u001b[0m         \u001b[1;31m# wrap results\u001b[0m\u001b[1;33m\u001b[0m\u001b[1;33m\u001b[0m\u001b[1;33m\u001b[0m\u001b[0m\n",
      "\u001b[1;32m~\\AppData\\Roaming\\Python\\Python38\\site-packages\\pandas\\core\\apply.py\u001b[0m in \u001b[0;36mapply_series_generator\u001b[1;34m(self)\u001b[0m\n\u001b[0;32m    819\u001b[0m             \u001b[1;32mfor\u001b[0m \u001b[0mi\u001b[0m\u001b[1;33m,\u001b[0m \u001b[0mv\u001b[0m \u001b[1;32min\u001b[0m \u001b[0menumerate\u001b[0m\u001b[1;33m(\u001b[0m\u001b[0mseries_gen\u001b[0m\u001b[1;33m)\u001b[0m\u001b[1;33m:\u001b[0m\u001b[1;33m\u001b[0m\u001b[1;33m\u001b[0m\u001b[0m\n\u001b[0;32m    820\u001b[0m                 \u001b[1;31m# ignore SettingWithCopy here in case the user mutates\u001b[0m\u001b[1;33m\u001b[0m\u001b[1;33m\u001b[0m\u001b[1;33m\u001b[0m\u001b[0m\n\u001b[1;32m--> 821\u001b[1;33m                 \u001b[0mresults\u001b[0m\u001b[1;33m[\u001b[0m\u001b[0mi\u001b[0m\u001b[1;33m]\u001b[0m \u001b[1;33m=\u001b[0m \u001b[0mself\u001b[0m\u001b[1;33m.\u001b[0m\u001b[0mf\u001b[0m\u001b[1;33m(\u001b[0m\u001b[0mv\u001b[0m\u001b[1;33m)\u001b[0m\u001b[1;33m\u001b[0m\u001b[1;33m\u001b[0m\u001b[0m\n\u001b[0m\u001b[0;32m    822\u001b[0m                 \u001b[1;32mif\u001b[0m \u001b[0misinstance\u001b[0m\u001b[1;33m(\u001b[0m\u001b[0mresults\u001b[0m\u001b[1;33m[\u001b[0m\u001b[0mi\u001b[0m\u001b[1;33m]\u001b[0m\u001b[1;33m,\u001b[0m \u001b[0mABCSeries\u001b[0m\u001b[1;33m)\u001b[0m\u001b[1;33m:\u001b[0m\u001b[1;33m\u001b[0m\u001b[1;33m\u001b[0m\u001b[0m\n\u001b[0;32m    823\u001b[0m                     \u001b[1;31m# If we have a view on v, we need to make a copy because\u001b[0m\u001b[1;33m\u001b[0m\u001b[1;33m\u001b[0m\u001b[1;33m\u001b[0m\u001b[0m\n",
      "\u001b[1;32m<ipython-input-298-29aab2fe29ae>\u001b[0m in \u001b[0;36m<lambda>\u001b[1;34m(x)\u001b[0m\n\u001b[1;32m----> 1\u001b[1;33m test['result'] = test.apply(lambda x: getResult(\n\u001b[0m\u001b[0;32m      2\u001b[0m         x['masterGoal'], x['guestGoal'], x['pankouOdd_End_金宝博_daxiao']), axis=1)\n\u001b[0;32m      3\u001b[0m \u001b[1;33m\u001b[0m\u001b[0m\n\u001b[0;32m      4\u001b[0m train['result'] = train.apply(lambda x: getResult(\n\u001b[0;32m      5\u001b[0m         x['masterGoal'], x['guestGoal'], x['pankouOdd_End_金宝博_daxiao']), axis=1)\n",
      "\u001b[1;32m<ipython-input-291-55ac6c15a723>\u001b[0m in \u001b[0;36mgetResult\u001b[1;34m(masterGoal, guestGoal, pankou)\u001b[0m\n\u001b[0;32m      1\u001b[0m \u001b[1;32mdef\u001b[0m \u001b[0mgetResult\u001b[0m\u001b[1;33m(\u001b[0m\u001b[0mmasterGoal\u001b[0m\u001b[1;33m,\u001b[0m \u001b[0mguestGoal\u001b[0m\u001b[1;33m,\u001b[0m\u001b[0mpankou\u001b[0m\u001b[1;33m)\u001b[0m\u001b[1;33m:\u001b[0m\u001b[1;33m\u001b[0m\u001b[1;33m\u001b[0m\u001b[0m\n\u001b[1;32m----> 2\u001b[1;33m     \u001b[1;32mif\u001b[0m \u001b[0mmasterGoal\u001b[0m \u001b[1;33m+\u001b[0m \u001b[0mguestGoal\u001b[0m \u001b[1;33m-\u001b[0m \u001b[0mpankou\u001b[0m \u001b[1;33m>=\u001b[0m \u001b[1;36m0\u001b[0m\u001b[1;33m:\u001b[0m\u001b[1;33m\u001b[0m\u001b[1;33m\u001b[0m\u001b[0m\n\u001b[0m\u001b[0;32m      3\u001b[0m         \u001b[1;32mreturn\u001b[0m \u001b[1;36m1\u001b[0m\u001b[1;33m\u001b[0m\u001b[1;33m\u001b[0m\u001b[0m\n\u001b[0;32m      4\u001b[0m     \u001b[1;32mif\u001b[0m \u001b[0mmasterGoal\u001b[0m \u001b[1;33m+\u001b[0m \u001b[0mguestGoal\u001b[0m \u001b[1;33m-\u001b[0m \u001b[0mpankou\u001b[0m \u001b[1;33m<\u001b[0m \u001b[1;36m0\u001b[0m\u001b[1;33m:\u001b[0m\u001b[1;33m\u001b[0m\u001b[1;33m\u001b[0m\u001b[0m\n\u001b[0;32m      5\u001b[0m         \u001b[1;32mreturn\u001b[0m \u001b[1;36m0\u001b[0m\u001b[1;33m\u001b[0m\u001b[1;33m\u001b[0m\u001b[0m\n",
      "\u001b[1;31mTypeError\u001b[0m: unsupported operand type(s) for -: 'int' and 'str'"
     ]
    }
   ],
   "source": [
    "test['result'] = test.apply(lambda x: getResult(\n",
    "        x['masterGoal'], x['guestGoal'], x['pankouOdd_End_金宝博_daxiao']), axis=1)\n",
    "\n",
    "train['result'] = train.apply(lambda x: getResult(\n",
    "        x['masterGoal'], x['guestGoal'], x['pankouOdd_End_金宝博_daxiao']), axis=1)"
   ]
  },
  {
   "cell_type": "code",
   "execution_count": null,
   "metadata": {
    "ExecuteTime": {
     "end_time": "2021-08-08T05:00:45.572929Z",
     "start_time": "2021-08-08T04:58:52.907Z"
    }
   },
   "outputs": [],
   "source": [
    "train = train.drop(columns=['masterGoal', 'guestGoal'])\n",
    "test = test.drop(columns=['masterGoal', 'guestGoal'])"
   ]
  },
  {
   "cell_type": "code",
   "execution_count": null,
   "metadata": {
    "ExecuteTime": {
     "end_time": "2021-08-03T23:47:45.496475Z",
     "start_time": "2021-08-03T23:47:45.481497Z"
    }
   },
   "outputs": [],
   "source": []
  },
  {
   "cell_type": "code",
   "execution_count": null,
   "metadata": {
    "ExecuteTime": {
     "end_time": "2021-08-08T05:00:45.576927Z",
     "start_time": "2021-08-08T04:58:53.839Z"
    }
   },
   "outputs": [],
   "source": [
    "import gc\n",
    "\n",
    "def encode_LE(col,train,test):\n",
    "    df_comb = pd.concat([train[col],test[col]],axis=0)\n",
    "    df_comb,_ = df_comb.factorize(sort=True)\n",
    "    nm = col\n",
    "    if df_comb.max()>32000: \n",
    "        train[nm] = df_comb[:len(train)].astype('int32')\n",
    "        test[nm] = df_comb[len(train):].astype('int32')\n",
    "    else:\n",
    "        train[nm] = df_comb[:len(train)].astype('int16')\n",
    "        test[nm] = df_comb[len(train):].astype('int16')\n",
    "    del df_comb; x=gc.collect()\n",
    "    \n",
    "def encode_CB(col1,col2,df1,df2,name=\"\"):\n",
    "    if name == \"\":\n",
    "        nm = col1+'_'+col2\n",
    "    else:\n",
    "        nm = name\n",
    "    nm = col1+'_'+col2\n",
    "    df1[nm] = df1[col1].astype(str)+'_'+df1[col2].astype(str)\n",
    "    df2[nm] = df2[col1].astype(str)+'_'+df2[col2].astype(str)\n",
    "#     encode_LE(nm,df1,df2)\n",
    "\n",
    "def encode_CB3(col1,col2,col3,df1,df2,name=\"\"):\n",
    "    if name == \"\":\n",
    "        nm = col1+'_'+col2+'_'+col3\n",
    "    else:\n",
    "        nm = name\n",
    "    df1[nm] = df1[col1].astype(str)+'_'+df1[col2].astype(str)+'_'+df1[col3].astype(str)\n",
    "    df2[nm] = df2[col1].astype(str)+'_'+df2[col2].astype(str)+'_'+df2[col3].astype(str)\n",
    "#     encode_LE(nm,df1,df2)"
   ]
  },
  {
   "cell_type": "code",
   "execution_count": null,
   "metadata": {
    "ExecuteTime": {
     "end_time": "2021-08-08T05:00:45.580971Z",
     "start_time": "2021-08-08T04:58:54.754Z"
    }
   },
   "outputs": [],
   "source": [
    "def getType(yapanMasterStartOdd, yapanGuestStartOdd, yapanPankouStart):\n",
    "    linTypeStart = get18(yapanMasterStartOdd, yapanGuestStartOdd)\n",
    "    return str(linTypeStart) + \"_\" + yapanPankouStart\n",
    "\n",
    "def get18(master,guest):\n",
    "    if master > guest:\n",
    "        return 18\n",
    "    if master < guest:\n",
    "        return 81\n",
    "    if master == guest:\n",
    "        return 99"
   ]
  },
  {
   "cell_type": "code",
   "execution_count": null,
   "metadata": {
    "ExecuteTime": {
     "end_time": "2021-08-08T05:00:45.582924Z",
     "start_time": "2021-08-08T04:58:55.721Z"
    }
   },
   "outputs": [],
   "source": [
    "train.info()"
   ]
  },
  {
   "cell_type": "code",
   "execution_count": null,
   "metadata": {
    "ExecuteTime": {
     "end_time": "2021-08-08T05:00:45.617904Z",
     "start_time": "2021-08-08T04:58:56.931Z"
    },
    "id": "NK-FdPyNAW8E"
   },
   "outputs": [],
   "source": [
    "# masters = [\"易胜\", \"韦德\", \"明陞\", \"10B\", \"金宝博\"]\n",
    "\n",
    "# for master in masters:\n",
    "#     test['daxiaoOldTypeStart'+master] = test.apply(lambda x: getType(x[\"masterOdd_Start\" + \"_\" + master + \"_daxiao\"], x[\"guestOdd_Start\" + \"_\" + master + \"_daxiao\"], str(x[\"pankou_Start\" + \"_\" + master + \"_daxiao\"])), axis=1)\n",
    "#     train['daxiaoOldTypeStart'+master] = train.apply(lambda x: getType(x[\"masterOdd_Start\" + \"_\" + master + \"_daxiao\"], x[\"guestOdd_Start\" + \"_\" + master + \"_daxiao\"], str(x[\"pankou_Start\" + \"_\" + master + \"_daxiao\"])), axis=1)\n",
    "    \n",
    "#     test['daxiaoOldTypeEnd'+master] = test.apply(lambda x: getType(x[\"masterOdd_End\" + \"_\" + master + \"_daxiao\"], x[\"guestOdd_End\" + \"_\" + master + \"_daxiao\"], str(x[\"pankouOdd_End\" + \"_\" + master + \"_daxiao\"])), axis=1)\n",
    "#     train['daxiaoOldTypeEnd'+master] = train.apply(lambda x: getType(x[\"masterOdd_End\" + \"_\" + master + \"_daxiao\"], x[\"guestOdd_End\" + \"_\" + master + \"_daxiao\"], str(x[\"pankouOdd_End\" + \"_\" + master + \"_daxiao\"])), axis=1)\n",
    "   \n",
    "#     features.append(\"daxiaoOldTypeStart\" + master)\n",
    "#     features.append(\"daxiaoOldTypeEnd\" + master)"
   ]
  },
  {
   "cell_type": "code",
   "execution_count": null,
   "metadata": {
    "ExecuteTime": {
     "end_time": "2021-08-08T05:00:45.630895Z",
     "start_time": "2021-08-08T04:58:57.421Z"
    }
   },
   "outputs": [],
   "source": [
    "masters = [\"易胜\", \"韦德\", \"明陞\", \"10B\", \"金宝博\"]\n",
    "\n",
    "features = []\n",
    "for master in masters:\n",
    "    test['daxiaoTypeStart'+master] = test[\"masterOdd_Start\" + \"_\" + master + \"_daxiao\"].astype(str) + test[\"guestOdd_Start\" + \"_\" + master + \"_daxiao\"].astype(str) + test[\"pankou_Start\" + \"_\" + master + \"_daxiao\"].astype(str)\n",
    "    train['daxiaoTypeStart'+master]=train[\"masterOdd_Start\" + \"_\" + master + \"_daxiao\"].astype(str) + train[\"guestOdd_Start\" + \"_\" + master + \"_daxiao\"].astype(str) + train[\"pankou_Start\" + \"_\" + master + \"_daxiao\"].astype(str)\n",
    "\n",
    "    test['daxiaoTypeEnd'+master]=test[\"masterOdd_End\" + \"_\" + master + \"_daxiao\"].astype(str) + test[\"guestOdd_End\" + \"_\" + master + \"_daxiao\"].astype(str) + test[\"pankouOdd_End\" + \"_\" + master + \"_daxiao\"].astype(str)\n",
    "    train['daxiaoTypeEnd'+master]=train[\"masterOdd_End\" + \"_\" + master + \"_daxiao\"].astype(str) + train[\"guestOdd_End\" + \"_\" + master + \"_daxiao\"].astype(str) + train[\"pankouOdd_End\" + \"_\" + master + \"_daxiao\"].astype(str)\n",
    "\n",
    "    features.append(\"daxiaoTypeStart\" + master)\n",
    "    features.append(\"daxiaoTypeEnd\" + master)"
   ]
  },
  {
   "cell_type": "code",
   "execution_count": null,
   "metadata": {
    "ExecuteTime": {
     "end_time": "2021-08-08T05:00:45.645888Z",
     "start_time": "2021-08-08T04:58:58.440Z"
    }
   },
   "outputs": [],
   "source": [
    "pd.set_option('display.max_columns', None)\n",
    "test.head()"
   ]
  },
  {
   "cell_type": "code",
   "execution_count": 140,
   "metadata": {
    "ExecuteTime": {
     "end_time": "2021-08-08T04:18:38.478035Z",
     "start_time": "2021-08-08T04:18:28.554913Z"
    }
   },
   "outputs": [],
   "source": [
    "from itertools import combinations\n",
    "\n",
    "cross_features=list(combinations(features, 3))\n",
    "\n",
    "for item in cross_features:\n",
    "    nm = item[0]+'_'+item[1]+\"_\"+item[2]\n",
    "    train[nm]=train[item[0]].astype(str)+train[item[1]].astype(str)+train[item[2]].astype(str)\n",
    "    test[nm]=test[item[0]].astype(str)+test[item[1]].astype(str)+test[item[2]].astype(str)"
   ]
  },
  {
   "cell_type": "code",
   "execution_count": 278,
   "metadata": {
    "ExecuteTime": {
     "end_time": "2021-08-08T04:54:13.514692Z",
     "start_time": "2021-08-08T04:54:13.407753Z"
    }
   },
   "outputs": [],
   "source": [
    "train_x =  train.drop(columns=['result'])\n",
    "train_y =  train['result']\n",
    "\n",
    "test_x =  test.drop(columns=['result'])\n",
    "test_y =  test['result']"
   ]
  },
  {
   "cell_type": "code",
   "execution_count": 279,
   "metadata": {
    "ExecuteTime": {
     "end_time": "2021-08-08T04:54:15.007163Z",
     "start_time": "2021-08-08T04:54:14.953193Z"
    }
   },
   "outputs": [
    {
     "data": {
      "text/plain": [
       "Index(['daxiaoTypeStart易胜', 'daxiaoTypeEnd易胜', 'daxiaoTypeStart韦德',\n",
       "       'daxiaoTypeEnd韦德', 'daxiaoTypeStart明陞', 'daxiaoTypeEnd明陞',\n",
       "       'daxiaoTypeStart10B', 'daxiaoTypeEnd10B', 'daxiaoTypeStart金宝博',\n",
       "       'daxiaoTypeEnd金宝博'],\n",
       "      dtype='object')"
      ]
     },
     "execution_count": 279,
     "metadata": {},
     "output_type": "execute_result"
    }
   ],
   "source": [
    "import gc\n",
    "cat_features = train.select_dtypes(include='object').columns\n",
    "cat_features"
   ]
  },
  {
   "cell_type": "code",
   "execution_count": 280,
   "metadata": {
    "ExecuteTime": {
     "end_time": "2021-08-08T04:54:17.832998Z",
     "start_time": "2021-08-08T04:54:17.812973Z"
    }
   },
   "outputs": [],
   "source": [
    "from sklearn.model_selection import  StratifiedKFold,KFold\n",
    "import category_encoders as ce\n",
    "\n",
    "def mean_woe_target_encoder(train,test,target,col,n_splits=10):\n",
    "    folds = StratifiedKFold(n_splits)\n",
    "\n",
    "    y_oof = np.zeros(train.shape[0])\n",
    "    y_oof_2= np.zeros(train.shape[0])\n",
    "    y_test_oof = np.zeros(test.shape[0]).reshape(-1,1)\n",
    "    y_test_oof2 = np.zeros(test.shape[0]).reshape(-1,1)\n",
    "\n",
    "    splits = folds.split(train, target)\n",
    "    \n",
    "    for fold_n, (train_index, valid_index) in enumerate(splits):\n",
    "        print(col)\n",
    "        X_train, X_valid = train[col].iloc[train_index], train[col].iloc[valid_index]\n",
    "        y_train, y_valid = target.iloc[train_index], target.iloc[valid_index]\n",
    "        clf=ce.target_encoder.TargetEncoder()\n",
    "    \n",
    "        clf.fit(X_train.values,y_train.values)    \n",
    "        y_pred_valid = clf.transform(X_valid.values)\n",
    "\n",
    "        y_oof[valid_index] = y_pred_valid.values.reshape(1,-1)\n",
    "\n",
    "        tp=(clf.transform(test[col].values)/(n_splits*1.0)).values\n",
    "        tp=tp.reshape(-1,1)\n",
    "        y_test_oof+=tp    \n",
    "    \n",
    "        del X_train, X_valid, y_train, y_valid\n",
    "        gc.collect()    \n",
    "        \n",
    "    for fold_n, (train_index, valid_index) in enumerate(splits):\n",
    "        X_train, X_valid = train[col].iloc[train_index], train[col].iloc[valid_index]\n",
    "        y_train, y_valid = target.iloc[train_index], target.iloc[valid_index]\n",
    "        clf=ce.woe.WOEEncoder()\n",
    "    \n",
    "        clf.fit(X_train.values,y_train.values)    \n",
    "        y_pred_valid = clf.transform(X_valid.values)\n",
    "        y_oof2[valid_index] = y_pred_valid.values.reshape(1,-1)\n",
    "    \n",
    "        tp=(clf.transform(test[col].values)/(n_splits*1.0)).values\n",
    "        tp=tp.reshape(-1,1)\n",
    "        y_test_oof2+=tp    \n",
    "        del X_train, X_valid, y_train, y_valid\n",
    "        gc.collect()     \n",
    "    return y_oof,y_oof_2,y_test_oof,y_test_oof2"
   ]
  },
  {
   "cell_type": "code",
   "execution_count": 281,
   "metadata": {
    "ExecuteTime": {
     "end_time": "2021-08-08T04:54:18.414643Z",
     "start_time": "2021-08-08T04:54:18.239281Z"
    }
   },
   "outputs": [
    {
     "name": "stdout",
     "output_type": "stream",
     "text": [
      "daxiaoTypeStart易胜\n"
     ]
    },
    {
     "name": "stderr",
     "output_type": "stream",
     "text": [
      "C:\\ProgramData\\Anaconda3\\lib\\site-packages\\category_encoders\\utils.py:21: FutureWarning: is_categorical is deprecated and will be removed in a future version.  Use is_categorical_dtype instead\n",
      "  elif pd.api.types.is_categorical(cols):\n"
     ]
    },
    {
     "ename": "FloatingPointError",
     "evalue": "underflow encountered in exp",
     "output_type": "error",
     "traceback": [
      "\u001b[1;31m---------------------------------------------------------------------------\u001b[0m",
      "\u001b[1;31mFloatingPointError\u001b[0m                        Traceback (most recent call last)",
      "\u001b[1;32m<ipython-input-281-b67e84b955b9>\u001b[0m in \u001b[0;36m<module>\u001b[1;34m\u001b[0m\n\u001b[0;32m      1\u001b[0m \u001b[1;32mfor\u001b[0m \u001b[0mcol\u001b[0m \u001b[1;32min\u001b[0m \u001b[0mcat_features\u001b[0m\u001b[1;33m:\u001b[0m\u001b[1;33m\u001b[0m\u001b[1;33m\u001b[0m\u001b[0m\n\u001b[1;32m----> 2\u001b[1;33m   \u001b[0my_oof\u001b[0m\u001b[1;33m,\u001b[0m\u001b[0my_oof_2\u001b[0m\u001b[1;33m,\u001b[0m\u001b[0my_test_oof\u001b[0m\u001b[1;33m,\u001b[0m\u001b[0my_test_oof2\u001b[0m \u001b[1;33m=\u001b[0m \u001b[0mmean_woe_target_encoder\u001b[0m\u001b[1;33m(\u001b[0m\u001b[0mtrain_x\u001b[0m\u001b[1;33m,\u001b[0m\u001b[0mtest_x\u001b[0m\u001b[1;33m,\u001b[0m\u001b[0mtrain_y\u001b[0m\u001b[1;33m,\u001b[0m\u001b[0mcol\u001b[0m\u001b[1;33m,\u001b[0m\u001b[0mn_splits\u001b[0m\u001b[1;33m=\u001b[0m\u001b[1;36m10\u001b[0m\u001b[1;33m)\u001b[0m\u001b[1;33m\u001b[0m\u001b[1;33m\u001b[0m\u001b[0m\n\u001b[0m\u001b[0;32m      3\u001b[0m   \u001b[0mtrain_x\u001b[0m\u001b[1;33m[\u001b[0m\u001b[0mcol\u001b[0m\u001b[1;33m]\u001b[0m \u001b[1;33m=\u001b[0m \u001b[0my_oof\u001b[0m\u001b[1;33m\u001b[0m\u001b[1;33m\u001b[0m\u001b[0m\n\u001b[0;32m      4\u001b[0m   \u001b[0mtest_x\u001b[0m\u001b[1;33m[\u001b[0m\u001b[0mcol\u001b[0m\u001b[1;33m]\u001b[0m \u001b[1;33m=\u001b[0m \u001b[0my_test_oof\u001b[0m\u001b[1;33m\u001b[0m\u001b[1;33m\u001b[0m\u001b[0m\n",
      "\u001b[1;32m<ipython-input-280-ddc19082c88d>\u001b[0m in \u001b[0;36mmean_woe_target_encoder\u001b[1;34m(train, test, target, col, n_splits)\u001b[0m\n\u001b[0;32m     18\u001b[0m         \u001b[0mclf\u001b[0m\u001b[1;33m=\u001b[0m\u001b[0mce\u001b[0m\u001b[1;33m.\u001b[0m\u001b[0mtarget_encoder\u001b[0m\u001b[1;33m.\u001b[0m\u001b[0mTargetEncoder\u001b[0m\u001b[1;33m(\u001b[0m\u001b[1;33m)\u001b[0m\u001b[1;33m\u001b[0m\u001b[1;33m\u001b[0m\u001b[0m\n\u001b[0;32m     19\u001b[0m \u001b[1;33m\u001b[0m\u001b[0m\n\u001b[1;32m---> 20\u001b[1;33m         \u001b[0mclf\u001b[0m\u001b[1;33m.\u001b[0m\u001b[0mfit\u001b[0m\u001b[1;33m(\u001b[0m\u001b[0mX_train\u001b[0m\u001b[1;33m.\u001b[0m\u001b[0mvalues\u001b[0m\u001b[1;33m,\u001b[0m\u001b[0my_train\u001b[0m\u001b[1;33m.\u001b[0m\u001b[0mvalues\u001b[0m\u001b[1;33m)\u001b[0m\u001b[1;33m\u001b[0m\u001b[1;33m\u001b[0m\u001b[0m\n\u001b[0m\u001b[0;32m     21\u001b[0m         \u001b[0my_pred_valid\u001b[0m \u001b[1;33m=\u001b[0m \u001b[0mclf\u001b[0m\u001b[1;33m.\u001b[0m\u001b[0mtransform\u001b[0m\u001b[1;33m(\u001b[0m\u001b[0mX_valid\u001b[0m\u001b[1;33m.\u001b[0m\u001b[0mvalues\u001b[0m\u001b[1;33m)\u001b[0m\u001b[1;33m\u001b[0m\u001b[1;33m\u001b[0m\u001b[0m\n\u001b[0;32m     22\u001b[0m \u001b[1;33m\u001b[0m\u001b[0m\n",
      "\u001b[1;32mC:\\ProgramData\\Anaconda3\\lib\\site-packages\\category_encoders\\target_encoder.py\u001b[0m in \u001b[0;36mfit\u001b[1;34m(self, X, y, **kwargs)\u001b[0m\n\u001b[0;32m    140\u001b[0m         \u001b[0mself\u001b[0m\u001b[1;33m.\u001b[0m\u001b[0mordinal_encoder\u001b[0m \u001b[1;33m=\u001b[0m \u001b[0mself\u001b[0m\u001b[1;33m.\u001b[0m\u001b[0mordinal_encoder\u001b[0m\u001b[1;33m.\u001b[0m\u001b[0mfit\u001b[0m\u001b[1;33m(\u001b[0m\u001b[0mX\u001b[0m\u001b[1;33m)\u001b[0m\u001b[1;33m\u001b[0m\u001b[1;33m\u001b[0m\u001b[0m\n\u001b[0;32m    141\u001b[0m         \u001b[0mX_ordinal\u001b[0m \u001b[1;33m=\u001b[0m \u001b[0mself\u001b[0m\u001b[1;33m.\u001b[0m\u001b[0mordinal_encoder\u001b[0m\u001b[1;33m.\u001b[0m\u001b[0mtransform\u001b[0m\u001b[1;33m(\u001b[0m\u001b[0mX\u001b[0m\u001b[1;33m)\u001b[0m\u001b[1;33m\u001b[0m\u001b[1;33m\u001b[0m\u001b[0m\n\u001b[1;32m--> 142\u001b[1;33m         \u001b[0mself\u001b[0m\u001b[1;33m.\u001b[0m\u001b[0mmapping\u001b[0m \u001b[1;33m=\u001b[0m \u001b[0mself\u001b[0m\u001b[1;33m.\u001b[0m\u001b[0mfit_target_encoding\u001b[0m\u001b[1;33m(\u001b[0m\u001b[0mX_ordinal\u001b[0m\u001b[1;33m,\u001b[0m \u001b[0my\u001b[0m\u001b[1;33m)\u001b[0m\u001b[1;33m\u001b[0m\u001b[1;33m\u001b[0m\u001b[0m\n\u001b[0m\u001b[0;32m    143\u001b[0m \u001b[1;33m\u001b[0m\u001b[0m\n\u001b[0;32m    144\u001b[0m         \u001b[0mX_temp\u001b[0m \u001b[1;33m=\u001b[0m \u001b[0mself\u001b[0m\u001b[1;33m.\u001b[0m\u001b[0mtransform\u001b[0m\u001b[1;33m(\u001b[0m\u001b[0mX\u001b[0m\u001b[1;33m,\u001b[0m \u001b[0moverride_return_df\u001b[0m\u001b[1;33m=\u001b[0m\u001b[1;32mTrue\u001b[0m\u001b[1;33m)\u001b[0m\u001b[1;33m\u001b[0m\u001b[1;33m\u001b[0m\u001b[0m\n",
      "\u001b[1;32mC:\\ProgramData\\Anaconda3\\lib\\site-packages\\category_encoders\\target_encoder.py\u001b[0m in \u001b[0;36mfit_target_encoding\u001b[1;34m(self, X, y)\u001b[0m\n\u001b[0;32m    170\u001b[0m             \u001b[0mstats\u001b[0m \u001b[1;33m=\u001b[0m \u001b[0my\u001b[0m\u001b[1;33m.\u001b[0m\u001b[0mgroupby\u001b[0m\u001b[1;33m(\u001b[0m\u001b[0mX\u001b[0m\u001b[1;33m[\u001b[0m\u001b[0mcol\u001b[0m\u001b[1;33m]\u001b[0m\u001b[1;33m)\u001b[0m\u001b[1;33m.\u001b[0m\u001b[0magg\u001b[0m\u001b[1;33m(\u001b[0m\u001b[1;33m[\u001b[0m\u001b[1;34m'count'\u001b[0m\u001b[1;33m,\u001b[0m \u001b[1;34m'mean'\u001b[0m\u001b[1;33m]\u001b[0m\u001b[1;33m)\u001b[0m\u001b[1;33m\u001b[0m\u001b[1;33m\u001b[0m\u001b[0m\n\u001b[0;32m    171\u001b[0m \u001b[1;33m\u001b[0m\u001b[0m\n\u001b[1;32m--> 172\u001b[1;33m             \u001b[0msmoove\u001b[0m \u001b[1;33m=\u001b[0m \u001b[1;36m1\u001b[0m \u001b[1;33m/\u001b[0m \u001b[1;33m(\u001b[0m\u001b[1;36m1\u001b[0m \u001b[1;33m+\u001b[0m \u001b[0mnp\u001b[0m\u001b[1;33m.\u001b[0m\u001b[0mexp\u001b[0m\u001b[1;33m(\u001b[0m\u001b[1;33m-\u001b[0m\u001b[1;33m(\u001b[0m\u001b[0mstats\u001b[0m\u001b[1;33m[\u001b[0m\u001b[1;34m'count'\u001b[0m\u001b[1;33m]\u001b[0m \u001b[1;33m-\u001b[0m \u001b[0mself\u001b[0m\u001b[1;33m.\u001b[0m\u001b[0mmin_samples_leaf\u001b[0m\u001b[1;33m)\u001b[0m \u001b[1;33m/\u001b[0m \u001b[0mself\u001b[0m\u001b[1;33m.\u001b[0m\u001b[0msmoothing\u001b[0m\u001b[1;33m)\u001b[0m\u001b[1;33m)\u001b[0m\u001b[1;33m\u001b[0m\u001b[1;33m\u001b[0m\u001b[0m\n\u001b[0m\u001b[0;32m    173\u001b[0m             \u001b[0msmoothing\u001b[0m \u001b[1;33m=\u001b[0m \u001b[0mprior\u001b[0m \u001b[1;33m*\u001b[0m \u001b[1;33m(\u001b[0m\u001b[1;36m1\u001b[0m \u001b[1;33m-\u001b[0m \u001b[0msmoove\u001b[0m\u001b[1;33m)\u001b[0m \u001b[1;33m+\u001b[0m \u001b[0mstats\u001b[0m\u001b[1;33m[\u001b[0m\u001b[1;34m'mean'\u001b[0m\u001b[1;33m]\u001b[0m \u001b[1;33m*\u001b[0m \u001b[0msmoove\u001b[0m\u001b[1;33m\u001b[0m\u001b[1;33m\u001b[0m\u001b[0m\n\u001b[0;32m    174\u001b[0m             \u001b[0msmoothing\u001b[0m\u001b[1;33m[\u001b[0m\u001b[0mstats\u001b[0m\u001b[1;33m[\u001b[0m\u001b[1;34m'count'\u001b[0m\u001b[1;33m]\u001b[0m \u001b[1;33m==\u001b[0m \u001b[1;36m1\u001b[0m\u001b[1;33m]\u001b[0m \u001b[1;33m=\u001b[0m \u001b[0mprior\u001b[0m\u001b[1;33m\u001b[0m\u001b[1;33m\u001b[0m\u001b[0m\n",
      "\u001b[1;32m~\\AppData\\Roaming\\Python\\Python38\\site-packages\\pandas\\core\\generic.py\u001b[0m in \u001b[0;36m__array_ufunc__\u001b[1;34m(self, ufunc, method, *inputs, **kwargs)\u001b[0m\n\u001b[0;32m   2027\u001b[0m         \u001b[0mself\u001b[0m\u001b[1;33m,\u001b[0m \u001b[0mufunc\u001b[0m\u001b[1;33m:\u001b[0m \u001b[0mnp\u001b[0m\u001b[1;33m.\u001b[0m\u001b[0mufunc\u001b[0m\u001b[1;33m,\u001b[0m \u001b[0mmethod\u001b[0m\u001b[1;33m:\u001b[0m \u001b[0mstr\u001b[0m\u001b[1;33m,\u001b[0m \u001b[1;33m*\u001b[0m\u001b[0minputs\u001b[0m\u001b[1;33m:\u001b[0m \u001b[0mAny\u001b[0m\u001b[1;33m,\u001b[0m \u001b[1;33m**\u001b[0m\u001b[0mkwargs\u001b[0m\u001b[1;33m:\u001b[0m \u001b[0mAny\u001b[0m\u001b[1;33m\u001b[0m\u001b[1;33m\u001b[0m\u001b[0m\n\u001b[0;32m   2028\u001b[0m     ):\n\u001b[1;32m-> 2029\u001b[1;33m         \u001b[1;32mreturn\u001b[0m \u001b[0marraylike\u001b[0m\u001b[1;33m.\u001b[0m\u001b[0marray_ufunc\u001b[0m\u001b[1;33m(\u001b[0m\u001b[0mself\u001b[0m\u001b[1;33m,\u001b[0m \u001b[0mufunc\u001b[0m\u001b[1;33m,\u001b[0m \u001b[0mmethod\u001b[0m\u001b[1;33m,\u001b[0m \u001b[1;33m*\u001b[0m\u001b[0minputs\u001b[0m\u001b[1;33m,\u001b[0m \u001b[1;33m**\u001b[0m\u001b[0mkwargs\u001b[0m\u001b[1;33m)\u001b[0m\u001b[1;33m\u001b[0m\u001b[1;33m\u001b[0m\u001b[0m\n\u001b[0m\u001b[0;32m   2030\u001b[0m \u001b[1;33m\u001b[0m\u001b[0m\n\u001b[0;32m   2031\u001b[0m     \u001b[1;31m# ideally we would define this to avoid the getattr checks, but\u001b[0m\u001b[1;33m\u001b[0m\u001b[1;33m\u001b[0m\u001b[1;33m\u001b[0m\u001b[0m\n",
      "\u001b[1;32m~\\AppData\\Roaming\\Python\\Python38\\site-packages\\pandas\\core\\arraylike.py\u001b[0m in \u001b[0;36marray_ufunc\u001b[1;34m(self, ufunc, method, *inputs, **kwargs)\u001b[0m\n\u001b[0;32m    362\u001b[0m         \u001b[1;31m# ufunc(series, ...)\u001b[0m\u001b[1;33m\u001b[0m\u001b[1;33m\u001b[0m\u001b[1;33m\u001b[0m\u001b[0m\n\u001b[0;32m    363\u001b[0m         \u001b[0minputs\u001b[0m \u001b[1;33m=\u001b[0m \u001b[0mtuple\u001b[0m\u001b[1;33m(\u001b[0m\u001b[0mextract_array\u001b[0m\u001b[1;33m(\u001b[0m\u001b[0mx\u001b[0m\u001b[1;33m,\u001b[0m \u001b[0mextract_numpy\u001b[0m\u001b[1;33m=\u001b[0m\u001b[1;32mTrue\u001b[0m\u001b[1;33m)\u001b[0m \u001b[1;32mfor\u001b[0m \u001b[0mx\u001b[0m \u001b[1;32min\u001b[0m \u001b[0minputs\u001b[0m\u001b[1;33m)\u001b[0m\u001b[1;33m\u001b[0m\u001b[1;33m\u001b[0m\u001b[0m\n\u001b[1;32m--> 364\u001b[1;33m         \u001b[0mresult\u001b[0m \u001b[1;33m=\u001b[0m \u001b[0mgetattr\u001b[0m\u001b[1;33m(\u001b[0m\u001b[0mufunc\u001b[0m\u001b[1;33m,\u001b[0m \u001b[0mmethod\u001b[0m\u001b[1;33m)\u001b[0m\u001b[1;33m(\u001b[0m\u001b[1;33m*\u001b[0m\u001b[0minputs\u001b[0m\u001b[1;33m,\u001b[0m \u001b[1;33m**\u001b[0m\u001b[0mkwargs\u001b[0m\u001b[1;33m)\u001b[0m\u001b[1;33m\u001b[0m\u001b[1;33m\u001b[0m\u001b[0m\n\u001b[0m\u001b[0;32m    365\u001b[0m     \u001b[1;32melse\u001b[0m\u001b[1;33m:\u001b[0m\u001b[1;33m\u001b[0m\u001b[1;33m\u001b[0m\u001b[0m\n\u001b[0;32m    366\u001b[0m         \u001b[1;31m# ufunc(dataframe)\u001b[0m\u001b[1;33m\u001b[0m\u001b[1;33m\u001b[0m\u001b[1;33m\u001b[0m\u001b[0m\n",
      "\u001b[1;31mFloatingPointError\u001b[0m: underflow encountered in exp"
     ]
    }
   ],
   "source": [
    "for col in cat_features:\n",
    "  y_oof,y_oof_2,y_test_oof,y_test_oof2 = mean_woe_target_encoder(train_x,test_x,train_y,col,n_splits=10)\n",
    "  train_x[col] = y_oof\n",
    "  test_x[col] = y_test_oof"
   ]
  },
  {
   "cell_type": "code",
   "execution_count": 282,
   "metadata": {
    "ExecuteTime": {
     "end_time": "2021-08-08T04:56:23.484534Z",
     "start_time": "2021-08-08T04:56:22.106768Z"
    }
   },
   "outputs": [
    {
     "ename": "FloatingPointError",
     "evalue": "underflow encountered in exp",
     "output_type": "error",
     "traceback": [
      "\u001b[1;31m---------------------------------------------------------------------------\u001b[0m",
      "\u001b[1;31mFloatingPointError\u001b[0m                        Traceback (most recent call last)",
      "\u001b[1;32m<ipython-input-282-5df885e6f917>\u001b[0m in \u001b[0;36m<module>\u001b[1;34m\u001b[0m\n\u001b[0;32m      2\u001b[0m \u001b[1;33m\u001b[0m\u001b[0m\n\u001b[0;32m      3\u001b[0m \u001b[0mtarget_enc\u001b[0m \u001b[1;33m=\u001b[0m \u001b[0mce\u001b[0m\u001b[1;33m.\u001b[0m\u001b[0mTargetEncoder\u001b[0m\u001b[1;33m(\u001b[0m\u001b[0mcols\u001b[0m\u001b[1;33m=\u001b[0m\u001b[0mcat_features\u001b[0m\u001b[1;33m)\u001b[0m\u001b[1;33m\u001b[0m\u001b[1;33m\u001b[0m\u001b[0m\n\u001b[1;32m----> 4\u001b[1;33m \u001b[0mtarget_enc\u001b[0m\u001b[1;33m.\u001b[0m\u001b[0mfit\u001b[0m\u001b[1;33m(\u001b[0m\u001b[0mtrain_x\u001b[0m\u001b[1;33m[\u001b[0m\u001b[0mcat_features\u001b[0m\u001b[1;33m]\u001b[0m\u001b[1;33m,\u001b[0m \u001b[0mtrain_y\u001b[0m\u001b[1;33m)\u001b[0m\u001b[1;33m\u001b[0m\u001b[1;33m\u001b[0m\u001b[0m\n\u001b[0m\u001b[0;32m      5\u001b[0m \u001b[1;33m\u001b[0m\u001b[0m\n\u001b[0;32m      6\u001b[0m \u001b[0mtrain_x\u001b[0m\u001b[1;33m[\u001b[0m\u001b[0mcat_features\u001b[0m\u001b[1;33m]\u001b[0m \u001b[1;33m=\u001b[0m \u001b[0mtarget_enc\u001b[0m\u001b[1;33m.\u001b[0m\u001b[0mtransform\u001b[0m\u001b[1;33m(\u001b[0m\u001b[0mtrain_x\u001b[0m\u001b[1;33m[\u001b[0m\u001b[0mcat_features\u001b[0m\u001b[1;33m]\u001b[0m\u001b[1;33m)\u001b[0m\u001b[1;33m\u001b[0m\u001b[1;33m\u001b[0m\u001b[0m\n",
      "\u001b[1;32mC:\\ProgramData\\Anaconda3\\lib\\site-packages\\category_encoders\\target_encoder.py\u001b[0m in \u001b[0;36mfit\u001b[1;34m(self, X, y, **kwargs)\u001b[0m\n\u001b[0;32m    140\u001b[0m         \u001b[0mself\u001b[0m\u001b[1;33m.\u001b[0m\u001b[0mordinal_encoder\u001b[0m \u001b[1;33m=\u001b[0m \u001b[0mself\u001b[0m\u001b[1;33m.\u001b[0m\u001b[0mordinal_encoder\u001b[0m\u001b[1;33m.\u001b[0m\u001b[0mfit\u001b[0m\u001b[1;33m(\u001b[0m\u001b[0mX\u001b[0m\u001b[1;33m)\u001b[0m\u001b[1;33m\u001b[0m\u001b[1;33m\u001b[0m\u001b[0m\n\u001b[0;32m    141\u001b[0m         \u001b[0mX_ordinal\u001b[0m \u001b[1;33m=\u001b[0m \u001b[0mself\u001b[0m\u001b[1;33m.\u001b[0m\u001b[0mordinal_encoder\u001b[0m\u001b[1;33m.\u001b[0m\u001b[0mtransform\u001b[0m\u001b[1;33m(\u001b[0m\u001b[0mX\u001b[0m\u001b[1;33m)\u001b[0m\u001b[1;33m\u001b[0m\u001b[1;33m\u001b[0m\u001b[0m\n\u001b[1;32m--> 142\u001b[1;33m         \u001b[0mself\u001b[0m\u001b[1;33m.\u001b[0m\u001b[0mmapping\u001b[0m \u001b[1;33m=\u001b[0m \u001b[0mself\u001b[0m\u001b[1;33m.\u001b[0m\u001b[0mfit_target_encoding\u001b[0m\u001b[1;33m(\u001b[0m\u001b[0mX_ordinal\u001b[0m\u001b[1;33m,\u001b[0m \u001b[0my\u001b[0m\u001b[1;33m)\u001b[0m\u001b[1;33m\u001b[0m\u001b[1;33m\u001b[0m\u001b[0m\n\u001b[0m\u001b[0;32m    143\u001b[0m \u001b[1;33m\u001b[0m\u001b[0m\n\u001b[0;32m    144\u001b[0m         \u001b[0mX_temp\u001b[0m \u001b[1;33m=\u001b[0m \u001b[0mself\u001b[0m\u001b[1;33m.\u001b[0m\u001b[0mtransform\u001b[0m\u001b[1;33m(\u001b[0m\u001b[0mX\u001b[0m\u001b[1;33m,\u001b[0m \u001b[0moverride_return_df\u001b[0m\u001b[1;33m=\u001b[0m\u001b[1;32mTrue\u001b[0m\u001b[1;33m)\u001b[0m\u001b[1;33m\u001b[0m\u001b[1;33m\u001b[0m\u001b[0m\n",
      "\u001b[1;32mC:\\ProgramData\\Anaconda3\\lib\\site-packages\\category_encoders\\target_encoder.py\u001b[0m in \u001b[0;36mfit_target_encoding\u001b[1;34m(self, X, y)\u001b[0m\n\u001b[0;32m    170\u001b[0m             \u001b[0mstats\u001b[0m \u001b[1;33m=\u001b[0m \u001b[0my\u001b[0m\u001b[1;33m.\u001b[0m\u001b[0mgroupby\u001b[0m\u001b[1;33m(\u001b[0m\u001b[0mX\u001b[0m\u001b[1;33m[\u001b[0m\u001b[0mcol\u001b[0m\u001b[1;33m]\u001b[0m\u001b[1;33m)\u001b[0m\u001b[1;33m.\u001b[0m\u001b[0magg\u001b[0m\u001b[1;33m(\u001b[0m\u001b[1;33m[\u001b[0m\u001b[1;34m'count'\u001b[0m\u001b[1;33m,\u001b[0m \u001b[1;34m'mean'\u001b[0m\u001b[1;33m]\u001b[0m\u001b[1;33m)\u001b[0m\u001b[1;33m\u001b[0m\u001b[1;33m\u001b[0m\u001b[0m\n\u001b[0;32m    171\u001b[0m \u001b[1;33m\u001b[0m\u001b[0m\n\u001b[1;32m--> 172\u001b[1;33m             \u001b[0msmoove\u001b[0m \u001b[1;33m=\u001b[0m \u001b[1;36m1\u001b[0m \u001b[1;33m/\u001b[0m \u001b[1;33m(\u001b[0m\u001b[1;36m1\u001b[0m \u001b[1;33m+\u001b[0m \u001b[0mnp\u001b[0m\u001b[1;33m.\u001b[0m\u001b[0mexp\u001b[0m\u001b[1;33m(\u001b[0m\u001b[1;33m-\u001b[0m\u001b[1;33m(\u001b[0m\u001b[0mstats\u001b[0m\u001b[1;33m[\u001b[0m\u001b[1;34m'count'\u001b[0m\u001b[1;33m]\u001b[0m \u001b[1;33m-\u001b[0m \u001b[0mself\u001b[0m\u001b[1;33m.\u001b[0m\u001b[0mmin_samples_leaf\u001b[0m\u001b[1;33m)\u001b[0m \u001b[1;33m/\u001b[0m \u001b[0mself\u001b[0m\u001b[1;33m.\u001b[0m\u001b[0msmoothing\u001b[0m\u001b[1;33m)\u001b[0m\u001b[1;33m)\u001b[0m\u001b[1;33m\u001b[0m\u001b[1;33m\u001b[0m\u001b[0m\n\u001b[0m\u001b[0;32m    173\u001b[0m             \u001b[0msmoothing\u001b[0m \u001b[1;33m=\u001b[0m \u001b[0mprior\u001b[0m \u001b[1;33m*\u001b[0m \u001b[1;33m(\u001b[0m\u001b[1;36m1\u001b[0m \u001b[1;33m-\u001b[0m \u001b[0msmoove\u001b[0m\u001b[1;33m)\u001b[0m \u001b[1;33m+\u001b[0m \u001b[0mstats\u001b[0m\u001b[1;33m[\u001b[0m\u001b[1;34m'mean'\u001b[0m\u001b[1;33m]\u001b[0m \u001b[1;33m*\u001b[0m \u001b[0msmoove\u001b[0m\u001b[1;33m\u001b[0m\u001b[1;33m\u001b[0m\u001b[0m\n\u001b[0;32m    174\u001b[0m             \u001b[0msmoothing\u001b[0m\u001b[1;33m[\u001b[0m\u001b[0mstats\u001b[0m\u001b[1;33m[\u001b[0m\u001b[1;34m'count'\u001b[0m\u001b[1;33m]\u001b[0m \u001b[1;33m==\u001b[0m \u001b[1;36m1\u001b[0m\u001b[1;33m]\u001b[0m \u001b[1;33m=\u001b[0m \u001b[0mprior\u001b[0m\u001b[1;33m\u001b[0m\u001b[1;33m\u001b[0m\u001b[0m\n",
      "\u001b[1;32m~\\AppData\\Roaming\\Python\\Python38\\site-packages\\pandas\\core\\generic.py\u001b[0m in \u001b[0;36m__array_ufunc__\u001b[1;34m(self, ufunc, method, *inputs, **kwargs)\u001b[0m\n\u001b[0;32m   2027\u001b[0m         \u001b[0mself\u001b[0m\u001b[1;33m,\u001b[0m \u001b[0mufunc\u001b[0m\u001b[1;33m:\u001b[0m \u001b[0mnp\u001b[0m\u001b[1;33m.\u001b[0m\u001b[0mufunc\u001b[0m\u001b[1;33m,\u001b[0m \u001b[0mmethod\u001b[0m\u001b[1;33m:\u001b[0m \u001b[0mstr\u001b[0m\u001b[1;33m,\u001b[0m \u001b[1;33m*\u001b[0m\u001b[0minputs\u001b[0m\u001b[1;33m:\u001b[0m \u001b[0mAny\u001b[0m\u001b[1;33m,\u001b[0m \u001b[1;33m**\u001b[0m\u001b[0mkwargs\u001b[0m\u001b[1;33m:\u001b[0m \u001b[0mAny\u001b[0m\u001b[1;33m\u001b[0m\u001b[1;33m\u001b[0m\u001b[0m\n\u001b[0;32m   2028\u001b[0m     ):\n\u001b[1;32m-> 2029\u001b[1;33m         \u001b[1;32mreturn\u001b[0m \u001b[0marraylike\u001b[0m\u001b[1;33m.\u001b[0m\u001b[0marray_ufunc\u001b[0m\u001b[1;33m(\u001b[0m\u001b[0mself\u001b[0m\u001b[1;33m,\u001b[0m \u001b[0mufunc\u001b[0m\u001b[1;33m,\u001b[0m \u001b[0mmethod\u001b[0m\u001b[1;33m,\u001b[0m \u001b[1;33m*\u001b[0m\u001b[0minputs\u001b[0m\u001b[1;33m,\u001b[0m \u001b[1;33m**\u001b[0m\u001b[0mkwargs\u001b[0m\u001b[1;33m)\u001b[0m\u001b[1;33m\u001b[0m\u001b[1;33m\u001b[0m\u001b[0m\n\u001b[0m\u001b[0;32m   2030\u001b[0m \u001b[1;33m\u001b[0m\u001b[0m\n\u001b[0;32m   2031\u001b[0m     \u001b[1;31m# ideally we would define this to avoid the getattr checks, but\u001b[0m\u001b[1;33m\u001b[0m\u001b[1;33m\u001b[0m\u001b[1;33m\u001b[0m\u001b[0m\n",
      "\u001b[1;32m~\\AppData\\Roaming\\Python\\Python38\\site-packages\\pandas\\core\\arraylike.py\u001b[0m in \u001b[0;36marray_ufunc\u001b[1;34m(self, ufunc, method, *inputs, **kwargs)\u001b[0m\n\u001b[0;32m    362\u001b[0m         \u001b[1;31m# ufunc(series, ...)\u001b[0m\u001b[1;33m\u001b[0m\u001b[1;33m\u001b[0m\u001b[1;33m\u001b[0m\u001b[0m\n\u001b[0;32m    363\u001b[0m         \u001b[0minputs\u001b[0m \u001b[1;33m=\u001b[0m \u001b[0mtuple\u001b[0m\u001b[1;33m(\u001b[0m\u001b[0mextract_array\u001b[0m\u001b[1;33m(\u001b[0m\u001b[0mx\u001b[0m\u001b[1;33m,\u001b[0m \u001b[0mextract_numpy\u001b[0m\u001b[1;33m=\u001b[0m\u001b[1;32mTrue\u001b[0m\u001b[1;33m)\u001b[0m \u001b[1;32mfor\u001b[0m \u001b[0mx\u001b[0m \u001b[1;32min\u001b[0m \u001b[0minputs\u001b[0m\u001b[1;33m)\u001b[0m\u001b[1;33m\u001b[0m\u001b[1;33m\u001b[0m\u001b[0m\n\u001b[1;32m--> 364\u001b[1;33m         \u001b[0mresult\u001b[0m \u001b[1;33m=\u001b[0m \u001b[0mgetattr\u001b[0m\u001b[1;33m(\u001b[0m\u001b[0mufunc\u001b[0m\u001b[1;33m,\u001b[0m \u001b[0mmethod\u001b[0m\u001b[1;33m)\u001b[0m\u001b[1;33m(\u001b[0m\u001b[1;33m*\u001b[0m\u001b[0minputs\u001b[0m\u001b[1;33m,\u001b[0m \u001b[1;33m**\u001b[0m\u001b[0mkwargs\u001b[0m\u001b[1;33m)\u001b[0m\u001b[1;33m\u001b[0m\u001b[1;33m\u001b[0m\u001b[0m\n\u001b[0m\u001b[0;32m    365\u001b[0m     \u001b[1;32melse\u001b[0m\u001b[1;33m:\u001b[0m\u001b[1;33m\u001b[0m\u001b[1;33m\u001b[0m\u001b[0m\n\u001b[0;32m    366\u001b[0m         \u001b[1;31m# ufunc(dataframe)\u001b[0m\u001b[1;33m\u001b[0m\u001b[1;33m\u001b[0m\u001b[1;33m\u001b[0m\u001b[0m\n",
      "\u001b[1;31mFloatingPointError\u001b[0m: underflow encountered in exp"
     ]
    }
   ],
   "source": [
    "import category_encoders as ce\n",
    "\n",
    "target_enc = ce.TargetEncoder(cols=cat_features)\n",
    "target_enc.fit(train_x[cat_features], train_y)\n",
    "\n",
    "train_x[cat_features] = target_enc.transform(train_x[cat_features])\n",
    "test_x[cat_features] = target_enc.transform(test_x[cat_features])"
   ]
  },
  {
   "cell_type": "code",
   "execution_count": null,
   "metadata": {
    "ExecuteTime": {
     "end_time": "2021-08-08T04:50:05.484419Z",
     "start_time": "2021-08-08T04:49:58.128Z"
    },
    "id": "ufj_M_kwAW8E"
   },
   "outputs": [],
   "source": [
    "import gc\n",
    "X=train_x\n",
    "y=train_y\n",
    "# del train_x,train_y\n",
    "# gc.collect()\n",
    "\n",
    "from sklearn.model_selection import StratifiedKFold\n",
    "from sklearn.metrics import roc_auc_score\n",
    "\n",
    "import lightgbm as lgb\n",
    "params = {'num_leaves': 240, #结果对最终效果影响较大，越大值越好，太大会出现过拟合\n",
    "          'min_data_in_leaf': 30,\n",
    "          'objective': 'binary', #定义的目标函数\n",
    "          'max_depth': -1,\n",
    "          'learning_rate': 0.03,\n",
    "          \"min_sum_hessian_in_leaf\": 6,\n",
    "          \"boosting\": \"gbdt\",\n",
    "          \"feature_fraction\":  0.5992677823884304,\t#提取的特征比率\n",
    "          \"bagging_freq\": 4,\n",
    "          \"bagging_fraction\":0.7100471696361973,\n",
    "          \"bagging_seed\": 11,\n",
    "          \"lambda_l1\": 8.545500456265467e-05,\t\t\t\t#l1正则\n",
    "          'lambda_l2': 5.985747612243422e-07,\t\t#l2正则\n",
    "          \"verbosity\": -1,\n",
    "          \"nthread\": -1,\t\t\t\t#线程数量，-1表示全部线程，线程越多，运行的速度越快\n",
    "          'metric': {'binary_logloss', 'auc'},\t##评价函数选择\n",
    "          \"random_state\": 2019,\t#随机数种子，可以防止每次运行的结果不一致\n",
    "          # 'device': 'gpu' ##如果安装的事gpu版本的lightgbm,可以加快运算\n",
    "          'min_child_samples': 67\n",
    "          }\n",
    "\n",
    "NFOLDS = 5\n",
    "folds = StratifiedKFold(n_splits=NFOLDS)\n",
    "\n",
    "columns = X.columns\n",
    "splits = folds.split(X, y)\n",
    "y_preds = np.zeros(test_x.shape[0])\n",
    "score = 0\n",
    "\n",
    "feature_importances = pd.DataFrame()\n",
    "feature_importances['feature'] = columns\n",
    "  \n",
    "for fold_n, (train_index, valid_index) in enumerate(splits):\n",
    "    X_train, X_valid = X[columns].iloc[train_index], X[columns].iloc[valid_index]\n",
    "    y_train, y_valid = y.iloc[train_index], y.iloc[valid_index]\n",
    "    \n",
    "    dtrain = lgb.Dataset(X_train, label=y_train)\n",
    "    dvalid = lgb.Dataset(X_valid, label=y_valid)\n",
    "\n",
    "    clf = lgb.train(params, dtrain, 1000, valid_sets = [dtrain, dvalid], verbose_eval=200, early_stopping_rounds=200)\n",
    "    \n",
    "    feature_importances[f'fold_{fold_n + 1}'] = clf.feature_importance()\n",
    "    \n",
    "    y_pred_valid = clf.predict(X_valid)\n",
    "    print(y_pred_valid)\n",
    "    print(f\"Fold {fold_n + 1} | AUC: {roc_auc_score(y_valid, y_pred_valid)}\")\n",
    "    \n",
    "    score += roc_auc_score(y_valid, y_pred_valid) / NFOLDS\n",
    "    y_preds += clf.predict(test_x) / NFOLDS\n",
    "    del X_train, X_valid, y_train, y_valid\n",
    "    gc.collect()\n",
    "\n",
    "print(f\"\\nMean AUC = {score}\")\n",
    "print(f\"Out of folds AUC = {roc_auc_score(test_y, y_preds)}\")"
   ]
  },
  {
   "cell_type": "code",
   "execution_count": null,
   "metadata": {
    "ExecuteTime": {
     "end_time": "2021-08-08T04:50:05.485418Z",
     "start_time": "2021-08-08T04:49:58.387Z"
    },
    "id": "z9qUckPLAW8F"
   },
   "outputs": [],
   "source": [
    "import seaborn as sns\n",
    "sns.set(font='LiSu')\n",
    "feature_importance_gain=pd.DataFrame()\n",
    "feature_importance_gain['feature']=columns\n",
    "feature_importance_gain['fold_1']=clf.feature_importance(importance_type='gain')\n",
    "feature_importance_gain['average'] = feature_importances[[f'fold_{fold_n + 1}' for fold_n in range(1)]].mean(axis=1)\n",
    "plt.figure(figsize=(16, 16))\n",
    "sns.barplot(data=feature_importance_gain.sort_values(by='average', ascending=False).head(50), x='average', y='feature');\n",
    "plt.title('100 TOP feature importance over {} folds average'.format(folds.n_splits));"
   ]
  },
  {
   "cell_type": "code",
   "execution_count": 87,
   "metadata": {
    "ExecuteTime": {
     "end_time": "2021-08-08T03:45:03.437842Z",
     "start_time": "2021-08-08T03:45:03.377876Z"
    }
   },
   "outputs": [
    {
     "data": {
      "text/html": [
       "<div>\n",
       "<style scoped>\n",
       "    .dataframe tbody tr th:only-of-type {\n",
       "        vertical-align: middle;\n",
       "    }\n",
       "\n",
       "    .dataframe tbody tr th {\n",
       "        vertical-align: top;\n",
       "    }\n",
       "\n",
       "    .dataframe thead th {\n",
       "        text-align: right;\n",
       "    }\n",
       "</style>\n",
       "<table border=\"1\" class=\"dataframe\">\n",
       "  <thead>\n",
       "    <tr style=\"text-align: right;\">\n",
       "      <th></th>\n",
       "      <th>masterOdd_Start_易胜_daxiao</th>\n",
       "      <th>pankou_Start_易胜_daxiao</th>\n",
       "      <th>guestOdd_Start_易胜_daxiao</th>\n",
       "      <th>masterOdd_End_易胜_daxiao</th>\n",
       "      <th>pankouOdd_End_易胜_daxiao</th>\n",
       "      <th>guestOdd_End_易胜_daxiao</th>\n",
       "      <th>masterOdd_Start_韦德_daxiao</th>\n",
       "      <th>pankou_Start_韦德_daxiao</th>\n",
       "      <th>guestOdd_Start_韦德_daxiao</th>\n",
       "      <th>masterOdd_End_韦德_daxiao</th>\n",
       "      <th>pankouOdd_End_韦德_daxiao</th>\n",
       "      <th>guestOdd_End_韦德_daxiao</th>\n",
       "      <th>masterOdd_Start_明陞_daxiao</th>\n",
       "      <th>pankou_Start_明陞_daxiao</th>\n",
       "      <th>guestOdd_Start_明陞_daxiao</th>\n",
       "      <th>masterOdd_End_明陞_daxiao</th>\n",
       "      <th>pankouOdd_End_明陞_daxiao</th>\n",
       "      <th>guestOdd_End_明陞_daxiao</th>\n",
       "      <th>masterOdd_Start_10B_daxiao</th>\n",
       "      <th>pankou_Start_10B_daxiao</th>\n",
       "      <th>guestOdd_Start_10B_daxiao</th>\n",
       "      <th>masterOdd_End_10B_daxiao</th>\n",
       "      <th>pankouOdd_End_10B_daxiao</th>\n",
       "      <th>guestOdd_End_10B_daxiao</th>\n",
       "      <th>masterOdd_Start_金宝博_daxiao</th>\n",
       "      <th>pankou_Start_金宝博_daxiao</th>\n",
       "      <th>guestOdd_Start_金宝博_daxiao</th>\n",
       "      <th>masterOdd_End_金宝博_daxiao</th>\n",
       "      <th>pankouOdd_End_金宝博_daxiao</th>\n",
       "      <th>guestOdd_End_金宝博_daxiao</th>\n",
       "      <th>masterOdd_Start_易胜_daxiao_shuiPing</th>\n",
       "      <th>pankou_Start_易胜_daxiao_shuiPing</th>\n",
       "      <th>guestOdd_Start_易胜_daxiao_shuiPing</th>\n",
       "      <th>masterOdd_End_易胜_daxiao_shuiPing</th>\n",
       "      <th>pankouOdd_End_易胜_daxiao_shuiPing</th>\n",
       "      <th>guestOdd_End_易胜_daxiao_shuiPing</th>\n",
       "      <th>masterOdd_Start_韦德_daxiao_shuiPing</th>\n",
       "      <th>pankou_Start_韦德_daxiao_shuiPing</th>\n",
       "      <th>guestOdd_Start_韦德_daxiao_shuiPing</th>\n",
       "      <th>masterOdd_End_韦德_daxiao_shuiPing</th>\n",
       "      <th>pankouOdd_End_韦德_daxiao_shuiPing</th>\n",
       "      <th>guestOdd_End_韦德_daxiao_shuiPing</th>\n",
       "      <th>masterOdd_Start_明陞_daxiao_shuiPing</th>\n",
       "      <th>pankou_Start_明陞_daxiao_shuiPing</th>\n",
       "      <th>guestOdd_Start_明陞_daxiao_shuiPing</th>\n",
       "      <th>masterOdd_End_明陞_daxiao_shuiPing</th>\n",
       "      <th>pankouOdd_End_明陞_daxiao_shuiPing</th>\n",
       "      <th>guestOdd_End_明陞_daxiao_shuiPing</th>\n",
       "      <th>masterOdd_Start_10B_daxiao_shuiPing</th>\n",
       "      <th>pankou_Start_10B_daxiao_shuiPing</th>\n",
       "      <th>guestOdd_Start_10B_daxiao_shuiPing</th>\n",
       "      <th>masterOdd_End_10B_daxiao_shuiPing</th>\n",
       "      <th>pankouOdd_End_10B_daxiao_shuiPing</th>\n",
       "      <th>guestOdd_End_10B_daxiao_shuiPing</th>\n",
       "      <th>masterOdd_Start_金宝博_daxiao_shuiPing</th>\n",
       "      <th>pankou_Start_金宝博_daxiao_shuiPing</th>\n",
       "      <th>guestOdd_Start_金宝博_daxiao_shuiPing</th>\n",
       "      <th>masterOdd_End_金宝博_daxiao_shuiPing</th>\n",
       "      <th>pankouOdd_End_金宝博_daxiao_shuiPing</th>\n",
       "      <th>guestOdd_End_金宝博_daxiao_shuiPing</th>\n",
       "      <th>daxiaoTypeStart易胜</th>\n",
       "      <th>daxiaoTypeStart韦德</th>\n",
       "      <th>daxiaoTypeStart明陞</th>\n",
       "      <th>daxiaoTypeStart10B</th>\n",
       "      <th>daxiaoTypeStart金宝博</th>\n",
       "    </tr>\n",
       "  </thead>\n",
       "  <tbody>\n",
       "    <tr>\n",
       "      <th>250003</th>\n",
       "      <td>0.66</td>\n",
       "      <td>3.5</td>\n",
       "      <td>1.26</td>\n",
       "      <td>0.86</td>\n",
       "      <td>3.75</td>\n",
       "      <td>1.01</td>\n",
       "      <td>0.92</td>\n",
       "      <td>3.5</td>\n",
       "      <td>0.850</td>\n",
       "      <td>0.80</td>\n",
       "      <td>3.75</td>\n",
       "      <td>1.000</td>\n",
       "      <td>0.65</td>\n",
       "      <td>3.5</td>\n",
       "      <td>1.18</td>\n",
       "      <td>0.71</td>\n",
       "      <td>3.5</td>\n",
       "      <td>1.12</td>\n",
       "      <td>0.86</td>\n",
       "      <td>3.5</td>\n",
       "      <td>0.90</td>\n",
       "      <td>0.95</td>\n",
       "      <td>4.00</td>\n",
       "      <td>0.79</td>\n",
       "      <td>0.77</td>\n",
       "      <td>3.5</td>\n",
       "      <td>0.99</td>\n",
       "      <td>0.81</td>\n",
       "      <td>3.75</td>\n",
       "      <td>1.01</td>\n",
       "      <td>0</td>\n",
       "      <td>7</td>\n",
       "      <td>7</td>\n",
       "      <td>2</td>\n",
       "      <td>7</td>\n",
       "      <td>5</td>\n",
       "      <td>3</td>\n",
       "      <td>7</td>\n",
       "      <td>1</td>\n",
       "      <td>1</td>\n",
       "      <td>7</td>\n",
       "      <td>4</td>\n",
       "      <td>0</td>\n",
       "      <td>7</td>\n",
       "      <td>6</td>\n",
       "      <td>0</td>\n",
       "      <td>7</td>\n",
       "      <td>6</td>\n",
       "      <td>2</td>\n",
       "      <td>7</td>\n",
       "      <td>2</td>\n",
       "      <td>3</td>\n",
       "      <td>7</td>\n",
       "      <td>1</td>\n",
       "      <td>1</td>\n",
       "      <td>7</td>\n",
       "      <td>4</td>\n",
       "      <td>1</td>\n",
       "      <td>7</td>\n",
       "      <td>5</td>\n",
       "      <td>4129.0</td>\n",
       "      <td>1944.0</td>\n",
       "      <td>1992.0</td>\n",
       "      <td>6586.0</td>\n",
       "      <td>2301.0</td>\n",
       "    </tr>\n",
       "    <tr>\n",
       "      <th>250007</th>\n",
       "      <td>0.95</td>\n",
       "      <td>2.5</td>\n",
       "      <td>0.85</td>\n",
       "      <td>1.00</td>\n",
       "      <td>2.50</td>\n",
       "      <td>0.80</td>\n",
       "      <td>1.00</td>\n",
       "      <td>2.5</td>\n",
       "      <td>0.833</td>\n",
       "      <td>1.00</td>\n",
       "      <td>2.50</td>\n",
       "      <td>0.833</td>\n",
       "      <td>1.03</td>\n",
       "      <td>2.5</td>\n",
       "      <td>0.87</td>\n",
       "      <td>1.04</td>\n",
       "      <td>2.5</td>\n",
       "      <td>0.86</td>\n",
       "      <td>0.98</td>\n",
       "      <td>2.5</td>\n",
       "      <td>0.83</td>\n",
       "      <td>0.98</td>\n",
       "      <td>2.50</td>\n",
       "      <td>0.79</td>\n",
       "      <td>1.03</td>\n",
       "      <td>2.5</td>\n",
       "      <td>0.87</td>\n",
       "      <td>1.02</td>\n",
       "      <td>2.50</td>\n",
       "      <td>0.88</td>\n",
       "      <td>3</td>\n",
       "      <td>7</td>\n",
       "      <td>1</td>\n",
       "      <td>4</td>\n",
       "      <td>7</td>\n",
       "      <td>1</td>\n",
       "      <td>4</td>\n",
       "      <td>7</td>\n",
       "      <td>1</td>\n",
       "      <td>4</td>\n",
       "      <td>7</td>\n",
       "      <td>1</td>\n",
       "      <td>5</td>\n",
       "      <td>7</td>\n",
       "      <td>2</td>\n",
       "      <td>5</td>\n",
       "      <td>7</td>\n",
       "      <td>2</td>\n",
       "      <td>4</td>\n",
       "      <td>7</td>\n",
       "      <td>1</td>\n",
       "      <td>4</td>\n",
       "      <td>7</td>\n",
       "      <td>1</td>\n",
       "      <td>5</td>\n",
       "      <td>7</td>\n",
       "      <td>2</td>\n",
       "      <td>5</td>\n",
       "      <td>7</td>\n",
       "      <td>2</td>\n",
       "      <td>8152.0</td>\n",
       "      <td>3281.0</td>\n",
       "      <td>5934.0</td>\n",
       "      <td>7179.0</td>\n",
       "      <td>4450.0</td>\n",
       "    </tr>\n",
       "    <tr>\n",
       "      <th>250008</th>\n",
       "      <td>0.95</td>\n",
       "      <td>3.0</td>\n",
       "      <td>0.87</td>\n",
       "      <td>0.95</td>\n",
       "      <td>3.00</td>\n",
       "      <td>0.90</td>\n",
       "      <td>0.47</td>\n",
       "      <td>2.5</td>\n",
       "      <td>1.500</td>\n",
       "      <td>0.50</td>\n",
       "      <td>2.50</td>\n",
       "      <td>1.450</td>\n",
       "      <td>0.93</td>\n",
       "      <td>3.0</td>\n",
       "      <td>0.89</td>\n",
       "      <td>0.91</td>\n",
       "      <td>3.0</td>\n",
       "      <td>0.91</td>\n",
       "      <td>0.92</td>\n",
       "      <td>3.0</td>\n",
       "      <td>0.85</td>\n",
       "      <td>0.86</td>\n",
       "      <td>3.00</td>\n",
       "      <td>0.90</td>\n",
       "      <td>0.85</td>\n",
       "      <td>3.0</td>\n",
       "      <td>0.91</td>\n",
       "      <td>0.83</td>\n",
       "      <td>3.00</td>\n",
       "      <td>0.99</td>\n",
       "      <td>3</td>\n",
       "      <td>7</td>\n",
       "      <td>2</td>\n",
       "      <td>3</td>\n",
       "      <td>7</td>\n",
       "      <td>2</td>\n",
       "      <td>0</td>\n",
       "      <td>7</td>\n",
       "      <td>7</td>\n",
       "      <td>0</td>\n",
       "      <td>7</td>\n",
       "      <td>7</td>\n",
       "      <td>3</td>\n",
       "      <td>7</td>\n",
       "      <td>2</td>\n",
       "      <td>3</td>\n",
       "      <td>7</td>\n",
       "      <td>3</td>\n",
       "      <td>3</td>\n",
       "      <td>7</td>\n",
       "      <td>1</td>\n",
       "      <td>2</td>\n",
       "      <td>7</td>\n",
       "      <td>2</td>\n",
       "      <td>1</td>\n",
       "      <td>7</td>\n",
       "      <td>3</td>\n",
       "      <td>1</td>\n",
       "      <td>7</td>\n",
       "      <td>4</td>\n",
       "      <td>5947.0</td>\n",
       "      <td>481.0</td>\n",
       "      <td>4503.0</td>\n",
       "      <td>4731.0</td>\n",
       "      <td>2501.0</td>\n",
       "    </tr>\n",
       "    <tr>\n",
       "      <th>250010</th>\n",
       "      <td>0.94</td>\n",
       "      <td>2.0</td>\n",
       "      <td>0.92</td>\n",
       "      <td>0.96</td>\n",
       "      <td>2.00</td>\n",
       "      <td>0.89</td>\n",
       "      <td>0.95</td>\n",
       "      <td>2.0</td>\n",
       "      <td>0.910</td>\n",
       "      <td>1.00</td>\n",
       "      <td>2.00</td>\n",
       "      <td>0.850</td>\n",
       "      <td>0.94</td>\n",
       "      <td>2.0</td>\n",
       "      <td>0.94</td>\n",
       "      <td>1.02</td>\n",
       "      <td>2.0</td>\n",
       "      <td>0.86</td>\n",
       "      <td>0.94</td>\n",
       "      <td>2.0</td>\n",
       "      <td>0.90</td>\n",
       "      <td>0.98</td>\n",
       "      <td>2.00</td>\n",
       "      <td>0.88</td>\n",
       "      <td>0.98</td>\n",
       "      <td>2.0</td>\n",
       "      <td>0.92</td>\n",
       "      <td>1.00</td>\n",
       "      <td>2.00</td>\n",
       "      <td>0.90</td>\n",
       "      <td>3</td>\n",
       "      <td>7</td>\n",
       "      <td>3</td>\n",
       "      <td>4</td>\n",
       "      <td>7</td>\n",
       "      <td>2</td>\n",
       "      <td>3</td>\n",
       "      <td>7</td>\n",
       "      <td>3</td>\n",
       "      <td>4</td>\n",
       "      <td>7</td>\n",
       "      <td>1</td>\n",
       "      <td>3</td>\n",
       "      <td>7</td>\n",
       "      <td>3</td>\n",
       "      <td>5</td>\n",
       "      <td>7</td>\n",
       "      <td>2</td>\n",
       "      <td>3</td>\n",
       "      <td>7</td>\n",
       "      <td>2</td>\n",
       "      <td>4</td>\n",
       "      <td>7</td>\n",
       "      <td>2</td>\n",
       "      <td>4</td>\n",
       "      <td>7</td>\n",
       "      <td>3</td>\n",
       "      <td>4</td>\n",
       "      <td>7</td>\n",
       "      <td>2</td>\n",
       "      <td>6042.0</td>\n",
       "      <td>3295.0</td>\n",
       "      <td>5649.0</td>\n",
       "      <td>7259.0</td>\n",
       "      <td>5157.0</td>\n",
       "    </tr>\n",
       "    <tr>\n",
       "      <th>250011</th>\n",
       "      <td>0.87</td>\n",
       "      <td>2.5</td>\n",
       "      <td>1.00</td>\n",
       "      <td>0.68</td>\n",
       "      <td>2.50</td>\n",
       "      <td>1.21</td>\n",
       "      <td>0.87</td>\n",
       "      <td>2.5</td>\n",
       "      <td>0.950</td>\n",
       "      <td>0.88</td>\n",
       "      <td>2.75</td>\n",
       "      <td>0.950</td>\n",
       "      <td>0.86</td>\n",
       "      <td>2.5</td>\n",
       "      <td>1.02</td>\n",
       "      <td>0.76</td>\n",
       "      <td>2.5</td>\n",
       "      <td>1.14</td>\n",
       "      <td>0.87</td>\n",
       "      <td>2.5</td>\n",
       "      <td>0.98</td>\n",
       "      <td>0.87</td>\n",
       "      <td>2.75</td>\n",
       "      <td>0.98</td>\n",
       "      <td>0.85</td>\n",
       "      <td>2.5</td>\n",
       "      <td>1.03</td>\n",
       "      <td>0.89</td>\n",
       "      <td>2.75</td>\n",
       "      <td>0.99</td>\n",
       "      <td>2</td>\n",
       "      <td>7</td>\n",
       "      <td>4</td>\n",
       "      <td>0</td>\n",
       "      <td>7</td>\n",
       "      <td>7</td>\n",
       "      <td>2</td>\n",
       "      <td>7</td>\n",
       "      <td>3</td>\n",
       "      <td>2</td>\n",
       "      <td>7</td>\n",
       "      <td>3</td>\n",
       "      <td>2</td>\n",
       "      <td>7</td>\n",
       "      <td>5</td>\n",
       "      <td>1</td>\n",
       "      <td>7</td>\n",
       "      <td>6</td>\n",
       "      <td>2</td>\n",
       "      <td>7</td>\n",
       "      <td>4</td>\n",
       "      <td>2</td>\n",
       "      <td>7</td>\n",
       "      <td>4</td>\n",
       "      <td>1</td>\n",
       "      <td>7</td>\n",
       "      <td>5</td>\n",
       "      <td>2</td>\n",
       "      <td>7</td>\n",
       "      <td>4</td>\n",
       "      <td>1284.0</td>\n",
       "      <td>1572.0</td>\n",
       "      <td>2656.0</td>\n",
       "      <td>4958.0</td>\n",
       "      <td>3162.0</td>\n",
       "    </tr>\n",
       "  </tbody>\n",
       "</table>\n",
       "</div>"
      ],
      "text/plain": [
       "        masterOdd_Start_易胜_daxiao  pankou_Start_易胜_daxiao  \\\n",
       "250003                       0.66                     3.5   \n",
       "250007                       0.95                     2.5   \n",
       "250008                       0.95                     3.0   \n",
       "250010                       0.94                     2.0   \n",
       "250011                       0.87                     2.5   \n",
       "\n",
       "        guestOdd_Start_易胜_daxiao  masterOdd_End_易胜_daxiao  \\\n",
       "250003                      1.26                     0.86   \n",
       "250007                      0.85                     1.00   \n",
       "250008                      0.87                     0.95   \n",
       "250010                      0.92                     0.96   \n",
       "250011                      1.00                     0.68   \n",
       "\n",
       "        pankouOdd_End_易胜_daxiao  guestOdd_End_易胜_daxiao  \\\n",
       "250003                     3.75                    1.01   \n",
       "250007                     2.50                    0.80   \n",
       "250008                     3.00                    0.90   \n",
       "250010                     2.00                    0.89   \n",
       "250011                     2.50                    1.21   \n",
       "\n",
       "        masterOdd_Start_韦德_daxiao  pankou_Start_韦德_daxiao  \\\n",
       "250003                       0.92                     3.5   \n",
       "250007                       1.00                     2.5   \n",
       "250008                       0.47                     2.5   \n",
       "250010                       0.95                     2.0   \n",
       "250011                       0.87                     2.5   \n",
       "\n",
       "        guestOdd_Start_韦德_daxiao  masterOdd_End_韦德_daxiao  \\\n",
       "250003                     0.850                     0.80   \n",
       "250007                     0.833                     1.00   \n",
       "250008                     1.500                     0.50   \n",
       "250010                     0.910                     1.00   \n",
       "250011                     0.950                     0.88   \n",
       "\n",
       "        pankouOdd_End_韦德_daxiao  guestOdd_End_韦德_daxiao  \\\n",
       "250003                     3.75                   1.000   \n",
       "250007                     2.50                   0.833   \n",
       "250008                     2.50                   1.450   \n",
       "250010                     2.00                   0.850   \n",
       "250011                     2.75                   0.950   \n",
       "\n",
       "        masterOdd_Start_明陞_daxiao  pankou_Start_明陞_daxiao  \\\n",
       "250003                       0.65                     3.5   \n",
       "250007                       1.03                     2.5   \n",
       "250008                       0.93                     3.0   \n",
       "250010                       0.94                     2.0   \n",
       "250011                       0.86                     2.5   \n",
       "\n",
       "        guestOdd_Start_明陞_daxiao  masterOdd_End_明陞_daxiao  \\\n",
       "250003                      1.18                     0.71   \n",
       "250007                      0.87                     1.04   \n",
       "250008                      0.89                     0.91   \n",
       "250010                      0.94                     1.02   \n",
       "250011                      1.02                     0.76   \n",
       "\n",
       "        pankouOdd_End_明陞_daxiao  guestOdd_End_明陞_daxiao  \\\n",
       "250003                      3.5                    1.12   \n",
       "250007                      2.5                    0.86   \n",
       "250008                      3.0                    0.91   \n",
       "250010                      2.0                    0.86   \n",
       "250011                      2.5                    1.14   \n",
       "\n",
       "        masterOdd_Start_10B_daxiao  pankou_Start_10B_daxiao  \\\n",
       "250003                        0.86                      3.5   \n",
       "250007                        0.98                      2.5   \n",
       "250008                        0.92                      3.0   \n",
       "250010                        0.94                      2.0   \n",
       "250011                        0.87                      2.5   \n",
       "\n",
       "        guestOdd_Start_10B_daxiao  masterOdd_End_10B_daxiao  \\\n",
       "250003                       0.90                      0.95   \n",
       "250007                       0.83                      0.98   \n",
       "250008                       0.85                      0.86   \n",
       "250010                       0.90                      0.98   \n",
       "250011                       0.98                      0.87   \n",
       "\n",
       "        pankouOdd_End_10B_daxiao  guestOdd_End_10B_daxiao  \\\n",
       "250003                      4.00                     0.79   \n",
       "250007                      2.50                     0.79   \n",
       "250008                      3.00                     0.90   \n",
       "250010                      2.00                     0.88   \n",
       "250011                      2.75                     0.98   \n",
       "\n",
       "        masterOdd_Start_金宝博_daxiao  pankou_Start_金宝博_daxiao  \\\n",
       "250003                        0.77                      3.5   \n",
       "250007                        1.03                      2.5   \n",
       "250008                        0.85                      3.0   \n",
       "250010                        0.98                      2.0   \n",
       "250011                        0.85                      2.5   \n",
       "\n",
       "        guestOdd_Start_金宝博_daxiao  masterOdd_End_金宝博_daxiao  \\\n",
       "250003                       0.99                      0.81   \n",
       "250007                       0.87                      1.02   \n",
       "250008                       0.91                      0.83   \n",
       "250010                       0.92                      1.00   \n",
       "250011                       1.03                      0.89   \n",
       "\n",
       "        pankouOdd_End_金宝博_daxiao  guestOdd_End_金宝博_daxiao  \\\n",
       "250003                      3.75                     1.01   \n",
       "250007                      2.50                     0.88   \n",
       "250008                      3.00                     0.99   \n",
       "250010                      2.00                     0.90   \n",
       "250011                      2.75                     0.99   \n",
       "\n",
       "        masterOdd_Start_易胜_daxiao_shuiPing  pankou_Start_易胜_daxiao_shuiPing  \\\n",
       "250003                                   0                                7   \n",
       "250007                                   3                                7   \n",
       "250008                                   3                                7   \n",
       "250010                                   3                                7   \n",
       "250011                                   2                                7   \n",
       "\n",
       "        guestOdd_Start_易胜_daxiao_shuiPing  masterOdd_End_易胜_daxiao_shuiPing  \\\n",
       "250003                                  7                                 2   \n",
       "250007                                  1                                 4   \n",
       "250008                                  2                                 3   \n",
       "250010                                  3                                 4   \n",
       "250011                                  4                                 0   \n",
       "\n",
       "        pankouOdd_End_易胜_daxiao_shuiPing  guestOdd_End_易胜_daxiao_shuiPing  \\\n",
       "250003                                 7                                5   \n",
       "250007                                 7                                1   \n",
       "250008                                 7                                2   \n",
       "250010                                 7                                2   \n",
       "250011                                 7                                7   \n",
       "\n",
       "        masterOdd_Start_韦德_daxiao_shuiPing  pankou_Start_韦德_daxiao_shuiPing  \\\n",
       "250003                                   3                                7   \n",
       "250007                                   4                                7   \n",
       "250008                                   0                                7   \n",
       "250010                                   3                                7   \n",
       "250011                                   2                                7   \n",
       "\n",
       "        guestOdd_Start_韦德_daxiao_shuiPing  masterOdd_End_韦德_daxiao_shuiPing  \\\n",
       "250003                                  1                                 1   \n",
       "250007                                  1                                 4   \n",
       "250008                                  7                                 0   \n",
       "250010                                  3                                 4   \n",
       "250011                                  3                                 2   \n",
       "\n",
       "        pankouOdd_End_韦德_daxiao_shuiPing  guestOdd_End_韦德_daxiao_shuiPing  \\\n",
       "250003                                 7                                4   \n",
       "250007                                 7                                1   \n",
       "250008                                 7                                7   \n",
       "250010                                 7                                1   \n",
       "250011                                 7                                3   \n",
       "\n",
       "        masterOdd_Start_明陞_daxiao_shuiPing  pankou_Start_明陞_daxiao_shuiPing  \\\n",
       "250003                                   0                                7   \n",
       "250007                                   5                                7   \n",
       "250008                                   3                                7   \n",
       "250010                                   3                                7   \n",
       "250011                                   2                                7   \n",
       "\n",
       "        guestOdd_Start_明陞_daxiao_shuiPing  masterOdd_End_明陞_daxiao_shuiPing  \\\n",
       "250003                                  6                                 0   \n",
       "250007                                  2                                 5   \n",
       "250008                                  2                                 3   \n",
       "250010                                  3                                 5   \n",
       "250011                                  5                                 1   \n",
       "\n",
       "        pankouOdd_End_明陞_daxiao_shuiPing  guestOdd_End_明陞_daxiao_shuiPing  \\\n",
       "250003                                 7                                6   \n",
       "250007                                 7                                2   \n",
       "250008                                 7                                3   \n",
       "250010                                 7                                2   \n",
       "250011                                 7                                6   \n",
       "\n",
       "        masterOdd_Start_10B_daxiao_shuiPing  pankou_Start_10B_daxiao_shuiPing  \\\n",
       "250003                                    2                                 7   \n",
       "250007                                    4                                 7   \n",
       "250008                                    3                                 7   \n",
       "250010                                    3                                 7   \n",
       "250011                                    2                                 7   \n",
       "\n",
       "        guestOdd_Start_10B_daxiao_shuiPing  masterOdd_End_10B_daxiao_shuiPing  \\\n",
       "250003                                   2                                  3   \n",
       "250007                                   1                                  4   \n",
       "250008                                   1                                  2   \n",
       "250010                                   2                                  4   \n",
       "250011                                   4                                  2   \n",
       "\n",
       "        pankouOdd_End_10B_daxiao_shuiPing  guestOdd_End_10B_daxiao_shuiPing  \\\n",
       "250003                                  7                                 1   \n",
       "250007                                  7                                 1   \n",
       "250008                                  7                                 2   \n",
       "250010                                  7                                 2   \n",
       "250011                                  7                                 4   \n",
       "\n",
       "        masterOdd_Start_金宝博_daxiao_shuiPing  pankou_Start_金宝博_daxiao_shuiPing  \\\n",
       "250003                                    1                                 7   \n",
       "250007                                    5                                 7   \n",
       "250008                                    1                                 7   \n",
       "250010                                    4                                 7   \n",
       "250011                                    1                                 7   \n",
       "\n",
       "        guestOdd_Start_金宝博_daxiao_shuiPing  masterOdd_End_金宝博_daxiao_shuiPing  \\\n",
       "250003                                   4                                  1   \n",
       "250007                                   2                                  5   \n",
       "250008                                   3                                  1   \n",
       "250010                                   3                                  4   \n",
       "250011                                   5                                  2   \n",
       "\n",
       "        pankouOdd_End_金宝博_daxiao_shuiPing  guestOdd_End_金宝博_daxiao_shuiPing  \\\n",
       "250003                                  7                                 5   \n",
       "250007                                  7                                 2   \n",
       "250008                                  7                                 4   \n",
       "250010                                  7                                 2   \n",
       "250011                                  7                                 4   \n",
       "\n",
       "        daxiaoTypeStart易胜  daxiaoTypeStart韦德  daxiaoTypeStart明陞  \\\n",
       "250003             4129.0             1944.0             1992.0   \n",
       "250007             8152.0             3281.0             5934.0   \n",
       "250008             5947.0              481.0             4503.0   \n",
       "250010             6042.0             3295.0             5649.0   \n",
       "250011             1284.0             1572.0             2656.0   \n",
       "\n",
       "        daxiaoTypeStart10B  daxiaoTypeStart金宝博  \n",
       "250003              6586.0              2301.0  \n",
       "250007              7179.0              4450.0  \n",
       "250008              4731.0              2501.0  \n",
       "250010              7259.0              5157.0  \n",
       "250011              4958.0              3162.0  "
      ]
     },
     "execution_count": 87,
     "metadata": {},
     "output_type": "execute_result"
    }
   ],
   "source": [
    "test_x.head()"
   ]
  },
  {
   "cell_type": "code",
   "execution_count": 80,
   "metadata": {
    "ExecuteTime": {
     "end_time": "2021-08-08T03:42:24.626625Z",
     "start_time": "2021-08-08T03:38:22.601670Z"
    }
   },
   "outputs": [
    {
     "data": {
      "application/vnd.jupyter.widget-view+json": {
       "model_id": "5fbd3edeb53c4b15afd7c715517be911",
       "version_major": 2,
       "version_minor": 0
      },
      "text/plain": [
       "HBox(children=(HTML(value=''), FloatProgress(value=0.0, layout=Layout(flex='2'), max=67.0), HTML(value='')), l…"
      ]
     },
     "metadata": {},
     "output_type": "display_data"
    },
    {
     "name": "stderr",
     "output_type": "stream",
     "text": [
      "C:\\ProgramData\\Anaconda3\\lib\\site-packages\\matplotlib\\backends\\backend_agg.py:238: RuntimeWarning: Glyph 26131 missing from current font.\n",
      "  font.set_text(s, 0.0, flags=flags)\n",
      "C:\\ProgramData\\Anaconda3\\lib\\site-packages\\matplotlib\\backends\\backend_agg.py:238: RuntimeWarning: Glyph 32988 missing from current font.\n",
      "  font.set_text(s, 0.0, flags=flags)\n",
      "C:\\ProgramData\\Anaconda3\\lib\\site-packages\\matplotlib\\backends\\backend_agg.py:238: RuntimeWarning: Glyph 38886 missing from current font.\n",
      "  font.set_text(s, 0.0, flags=flags)\n",
      "C:\\ProgramData\\Anaconda3\\lib\\site-packages\\matplotlib\\backends\\backend_agg.py:238: RuntimeWarning: Glyph 24503 missing from current font.\n",
      "  font.set_text(s, 0.0, flags=flags)\n",
      "C:\\ProgramData\\Anaconda3\\lib\\site-packages\\matplotlib\\backends\\backend_agg.py:238: RuntimeWarning: Glyph 26126 missing from current font.\n",
      "  font.set_text(s, 0.0, flags=flags)\n",
      "C:\\ProgramData\\Anaconda3\\lib\\site-packages\\matplotlib\\backends\\backend_agg.py:238: RuntimeWarning: Glyph 38494 missing from current font.\n",
      "  font.set_text(s, 0.0, flags=flags)\n",
      "C:\\ProgramData\\Anaconda3\\lib\\site-packages\\matplotlib\\backends\\backend_agg.py:238: RuntimeWarning: Glyph 37329 missing from current font.\n",
      "  font.set_text(s, 0.0, flags=flags)\n",
      "C:\\ProgramData\\Anaconda3\\lib\\site-packages\\matplotlib\\backends\\backend_agg.py:238: RuntimeWarning: Glyph 23453 missing from current font.\n",
      "  font.set_text(s, 0.0, flags=flags)\n",
      "C:\\ProgramData\\Anaconda3\\lib\\site-packages\\matplotlib\\backends\\backend_agg.py:238: RuntimeWarning: Glyph 21338 missing from current font.\n",
      "  font.set_text(s, 0.0, flags=flags)\n",
      "C:\\ProgramData\\Anaconda3\\lib\\site-packages\\matplotlib\\backends\\backend_agg.py:201: RuntimeWarning: Glyph 26131 missing from current font.\n",
      "  font.set_text(s, 0, flags=flags)\n",
      "C:\\ProgramData\\Anaconda3\\lib\\site-packages\\matplotlib\\backends\\backend_agg.py:201: RuntimeWarning: Glyph 32988 missing from current font.\n",
      "  font.set_text(s, 0, flags=flags)\n",
      "C:\\ProgramData\\Anaconda3\\lib\\site-packages\\matplotlib\\backends\\backend_agg.py:201: RuntimeWarning: Glyph 38886 missing from current font.\n",
      "  font.set_text(s, 0, flags=flags)\n",
      "C:\\ProgramData\\Anaconda3\\lib\\site-packages\\matplotlib\\backends\\backend_agg.py:201: RuntimeWarning: Glyph 24503 missing from current font.\n",
      "  font.set_text(s, 0, flags=flags)\n",
      "C:\\ProgramData\\Anaconda3\\lib\\site-packages\\matplotlib\\backends\\backend_agg.py:201: RuntimeWarning: Glyph 26126 missing from current font.\n",
      "  font.set_text(s, 0, flags=flags)\n",
      "C:\\ProgramData\\Anaconda3\\lib\\site-packages\\matplotlib\\backends\\backend_agg.py:201: RuntimeWarning: Glyph 38494 missing from current font.\n",
      "  font.set_text(s, 0, flags=flags)\n",
      "C:\\ProgramData\\Anaconda3\\lib\\site-packages\\matplotlib\\backends\\backend_agg.py:201: RuntimeWarning: Glyph 37329 missing from current font.\n",
      "  font.set_text(s, 0, flags=flags)\n",
      "C:\\ProgramData\\Anaconda3\\lib\\site-packages\\matplotlib\\backends\\backend_agg.py:201: RuntimeWarning: Glyph 23453 missing from current font.\n",
      "  font.set_text(s, 0, flags=flags)\n",
      "C:\\ProgramData\\Anaconda3\\lib\\site-packages\\matplotlib\\backends\\backend_agg.py:201: RuntimeWarning: Glyph 21338 missing from current font.\n",
      "  font.set_text(s, 0, flags=flags)\n"
     ]
    },
    {
     "name": "stdout",
     "output_type": "stream",
     "text": [
      "\n",
      "Report SWEETVIZ_REPORT.html was generated! NOTEBOOK/COLAB USERS: the web browser MAY not pop up, regardless, the report IS saved in your notebook/colab files.\n"
     ]
    }
   ],
   "source": [
    "import sweetviz as sv\n",
    "# 可以选择目标特征\n",
    "my_report = sv.analyze(train, target_feat ='result')\n",
    "my_report.show_html()"
   ]
  },
  {
   "cell_type": "code",
   "execution_count": null,
   "metadata": {
    "ExecuteTime": {
     "end_time": "2021-08-08T04:46:55.780371Z",
     "start_time": "2021-08-08T04:46:54.724092Z"
    }
   },
   "outputs": [],
   "source": []
  },
  {
   "cell_type": "code",
   "execution_count": null,
   "metadata": {},
   "outputs": [],
   "source": []
  }
 ],
 "metadata": {
  "colab": {
   "name": "xgModel.ipynb",
   "provenance": []
  },
  "kernelspec": {
   "display_name": "Python 3",
   "language": "python",
   "name": "python3"
  },
  "language_info": {
   "codemirror_mode": {
    "name": "ipython",
    "version": 3
   },
   "file_extension": ".py",
   "mimetype": "text/x-python",
   "name": "python",
   "nbconvert_exporter": "python",
   "pygments_lexer": "ipython3",
   "version": "3.8.5"
  },
  "toc": {
   "base_numbering": 1,
   "nav_menu": {},
   "number_sections": true,
   "sideBar": true,
   "skip_h1_title": false,
   "title_cell": "Table of Contents",
   "title_sidebar": "Contents",
   "toc_cell": false,
   "toc_position": {},
   "toc_section_display": true,
   "toc_window_display": false
  }
 },
 "nbformat": 4,
 "nbformat_minor": 1
}
