{
 "cells": [
  {
   "cell_type": "code",
   "execution_count": 1,
   "metadata": {
    "ExecuteTime": {
     "end_time": "2021-07-25T05:59:18.971210Z",
     "start_time": "2021-07-25T05:59:17.107280Z"
    }
   },
   "outputs": [],
   "source": [
    "import json\n",
    "import pandas as pd\n",
    "import pymongo\n",
    "import matplotlib as mpl\n",
    "import numpy as np\n",
    "import matplotlib.pyplot as plt"
   ]
  },
  {
   "cell_type": "code",
   "execution_count": 2,
   "metadata": {
    "ExecuteTime": {
     "end_time": "2021-07-25T05:59:21.639856Z",
     "start_time": "2021-07-25T05:59:21.619867Z"
    }
   },
   "outputs": [],
   "source": [
    "def reduce_mem_usage(df):\n",
    "    \"\"\" iterate through all the columns of a dataframe and modify the data type\n",
    "        to reduce memory usage.        \n",
    "    \"\"\"\n",
    "    start_mem = df.memory_usage().sum() / 1024**2\n",
    "    print('Memory usage of dataframe is {:.2f} MB'.format(start_mem))\n",
    "\n",
    "    for col in df.columns:\n",
    "        col_type = df[col].dtype\n",
    "        if col_type != object:\n",
    "            c_min = df[col].min()\n",
    "            c_max = df[col].max()\n",
    "            if str(col_type)[:3] == 'int':\n",
    "                if c_min > np.iinfo(np.int8).min and c_max < np.iinfo(np.int8).max:\n",
    "                    df[col] = df[col].astype(np.int8)\n",
    "                elif c_min > np.iinfo(np.int16).min and c_max < np.iinfo(np.int16).max:\n",
    "                    df[col] = df[col].astype(np.int16)\n",
    "                elif c_min > np.iinfo(np.int32).min and c_max < np.iinfo(np.int32).max:\n",
    "                    df[col] = df[col].astype(np.int32)\n",
    "                elif c_min > np.iinfo(np.int64).min and c_max < np.iinfo(np.int64).max:\n",
    "                    df[col] = df[col].astype(np.int64)\n",
    "            else:\n",
    "                df[col] = df[col].astype(np.float32)\n",
    "\n",
    "    end_mem = df.memory_usage().sum() / 1024**2\n",
    "    print('Memory usage after optimization is: {:.2f} MB'.format(end_mem))\n",
    "    print('Decreased by {:.1f}%'.format(\n",
    "        100 * (start_mem - end_mem) / start_mem))\n",
    "\n",
    "    return df"
   ]
  },
  {
   "cell_type": "code",
   "execution_count": 3,
   "metadata": {
    "ExecuteTime": {
     "end_time": "2021-07-25T05:59:26.173418Z",
     "start_time": "2021-07-25T05:59:26.162423Z"
    }
   },
   "outputs": [],
   "source": [
    "def getGoalMid(masterGoal, guestGoal, masterMidGoal,guestMidGoal):\n",
    "    if masterGoal + guestGoal - masterMidGoal - guestMidGoal >= 4:\n",
    "        return 4\n",
    "    else:\n",
    "        return masterGoal + guestGoal - masterMidGoal - guestMidGoal\n",
    "        \n",
    "def removeSub(pankou):\n",
    "    pankou = pankou.replace(\"升\",\"\")\n",
    "    pankou = pankou.replace(\"降\",\"\")\n",
    "    return pankou.strip()\n",
    "\n",
    "def getResult(masterGoal, guestGoal, masterMidGoal,guestMidGoal,pankou):\n",
    "    pankouList = removeSub(pankou).split(\"/\")\n",
    "    row = 0\n",
    "    for p in pankouList:\n",
    "        row += float(p)\n",
    "    row = row / len(pankouList)\n",
    "    \n",
    "    if masterGoal + guestGoal - row >= 0:\n",
    "        return 1\n",
    "    if masterGoal + guestGoal - row < 0:\n",
    "        return 0\n",
    "\n",
    "def getType(yapanMasterStartOdd, yapanGuestStartOdd, yapanPankouStart):\n",
    "    linTypeStart = get18(yapanMasterStartOdd, yapanGuestStartOdd)\n",
    "    return str(linTypeStart) + \"_\" + yapanPankouStart\n",
    "\n",
    "def get18(master,guest):\n",
    "    if master > guest:\n",
    "        return 18\n",
    "    if master < guest:\n",
    "        return 81\n",
    "    if master == guest:\n",
    "        return 99\n",
    "\n",
    "def daxiao_num(x):\n",
    "    x_list = x.split(\"/\")\n",
    "    num = 0\n",
    "    for i in x_list:\n",
    "        num += float(i)\n",
    "    return str(float(num)/len(x_list))\n",
    "\n",
    "def realDaxiao(x,master,guest):\n",
    "    return str(float(x) - master - guest)\n",
    "\n",
    "def shengjiang(start,end):\n",
    "    return str(float(end) - float(start))"
   ]
  },
  {
   "cell_type": "code",
   "execution_count": 4,
   "metadata": {
    "ExecuteTime": {
     "end_time": "2021-07-25T06:00:04.081175Z",
     "start_time": "2021-07-25T06:00:04.059173Z"
    }
   },
   "outputs": [],
   "source": [
    "def fillNa(x,value):\n",
    "    if pd.isnull(x):\n",
    "        return value\n",
    "    else:\n",
    "        return x\n",
    "    \n",
    "def preF(test):\n",
    "    cols_with_missing = (col for col in test.columns \n",
    "                                 if test[col].isnull().any())\n",
    "    for col in cols_with_missing:\n",
    "        test[col + '_was_missing'] = test[col].isnull()\n",
    "        \n",
    "    for col in ['daxiaoPankouZao','daxiaoPankouStartZao']:\n",
    "        test[col] = test.apply(lambda x: fillNa(x[col], \"-9999\"), axis=1)\n",
    "\n",
    "    for col in ['daxiaoMasterStartOddZao', 'daxiaoGuestStartOddZao','daxiaoMasterOddZao', 'daxiaoGuestOddZao']:\n",
    "        test[col] = test.apply(lambda x: fillNa(x[col], -9999), axis=1)\n",
    "        \n",
    "    test['result'] = test.apply(lambda x: getResult(\n",
    "        x['masterGoal'], x['guestGoal'], x['masterMidGoal'], x['guestMidGoal'], x['daxiaoPankouMid']), axis=1)\n",
    "    \n",
    "    test['goalMid'] = test.apply(lambda x: getGoalMid(\n",
    "        x['masterGoal'], x['guestGoal'], x['masterMidGoal'], x['guestMidGoal']), axis=1)    \n",
    "    \n",
    "    test['zhongbifeng'] = test['masterMidGoal'] + test['guestMidGoal']\n",
    "\n",
    "\n",
    "    \n",
    "    test['daxiaoPankouStart'] = test.apply(\n",
    "        lambda x: removeSub(x['daxiaoPankouStart']), axis=1)\n",
    "    test['daxiaoPankou'] = test.apply(\n",
    "        lambda x: removeSub(x['daxiaoPankou']), axis=1)\n",
    "    test['daxiaoPankouStartMid'] = test.apply(\n",
    "        lambda x: removeSub(x['daxiaoPankouStartMid']), axis=1)\n",
    "    test['daxiaoPankouMid'] = test.apply(\n",
    "        lambda x: removeSub(x['daxiaoPankouMid']), axis=1)\n",
    "    test['daxiaoPankouStartZao'] = test.apply(\n",
    "        lambda x: removeSub(x['daxiaoPankouStartMid']), axis=1)\n",
    "    test['daxiaoPankouZao'] = test.apply(\n",
    "        lambda x: removeSub(x['daxiaoPankouMid']), axis=1)\n",
    "        \n",
    "    pankou = [\"daxiaoPankouStart\",\"daxiaoPankou\",\"daxiaoPankouStartMid\",\"daxiaoPankouMid\",\"daxiaoPankouStartZao\",\"daxiaoPankouZao\"]\n",
    "\n",
    "    for col in pankou:\n",
    "        test[col] = test[col].map(daxiao_num)\n",
    "        nm = col+\"_\"+\"real\"\n",
    "        test[nm] = test.apply(lambda x: realDaxiao(x[col],x['masterMidGoal'],x['guestMidGoal']), axis=1)\n",
    "    \n",
    "    \n",
    "    test = test[test['goalMid'] >= 0]\n",
    "    test = test[(test['daxiaoMasterStartOdd'] >= 0.75) & (test['daxiaoMasterStartOdd'] < 1.20)]\n",
    "    test = test[(test['daxiaoMasterOdd'] >= 0.75) & (test['daxiaoMasterOdd'] < 1.20)]\n",
    "    test = test[(test['daxiaoGuestOddMid'] >= 0.75) & (test['daxiaoGuestOddMid'] < 1.20)]\n",
    "    test = test[test['zhongbifeng'].astype(float) <= test['daxiaoPankou'].astype(float)]\n",
    "    test = test.drop(columns=['masterGoal', 'guestGoal', \"goalMid\"])\n",
    "    \n",
    "    return test"
   ]
  },
  {
   "cell_type": "code",
   "execution_count": 11,
   "metadata": {
    "ExecuteTime": {
     "end_time": "2021-07-25T06:02:38.140155Z",
     "start_time": "2021-07-25T06:02:38.126177Z"
    }
   },
   "outputs": [],
   "source": [
    "def getShuiPing(x):\n",
    "    result = 11\n",
    "    if x <= 0.75:\n",
    "        result = 0\n",
    "    if 0.75< x and x<=0.80:\n",
    "        result = 1\n",
    "    if 0.80<x and x<=0.85:\n",
    "        result = 3\n",
    "    if 0.85<x and x<=0.90:\n",
    "        result = 4\n",
    "    if 0.95<x and x<=1.00:\n",
    "        result = 5\n",
    "    if 1.00<x and x<=1.08:\n",
    "        result = 6\n",
    "    if 1.08<x and x<=1.10:\n",
    "        result = 7\n",
    "    if 1.10<x and x<=1.15:\n",
    "        result = 8\n",
    "    if 1.15<x and x<=1.20:\n",
    "        result = 9\n",
    "    if x > 1.20:\n",
    "        result = 10\n",
    "    return result\n",
    "        \n",
    "def num_fea_dis(df,features):\n",
    "    for f in features:\n",
    "        nm = f+'_'+'shuiPing'\n",
    "        df[nm] = df[f].map(getShuiPing)\n",
    "    return df"
   ]
  },
  {
   "cell_type": "code",
   "execution_count": null,
   "metadata": {
    "ExecuteTime": {
     "start_time": "2021-07-25T06:01:50.722Z"
    }
   },
   "outputs": [],
   "source": [
    "import gc\n",
    "\n",
    "def encode_CB(col1,col2,df1,df2):\n",
    "    nm = col1+'_'+col2\n",
    "    df1[nm] = df1[col1].astype(str)+'_'+df1[col2].astype(str)\n",
    "    df2[nm] = df2[col1].astype(str)+'_'+df2[col2].astype(str) \n",
    "\n",
    "def encode_CB3(col1,col2,col3,df1,df2,name=\"\"):\n",
    "    if name == \"\":\n",
    "        nm = col1+'_'+col2+'_'+col3\n",
    "    else:\n",
    "        nm = name\n",
    "    df1[nm] = df1[col1].astype(str)+'_'+df1[col2].astype(str)+'_'+df1[col3].astype(str)\n",
    "    df2[nm] = df2[col1].astype(str)+'_'+df2[col2].astype(str)+'_'+df2[col3].astype(str)\n",
    "\n",
    "def encode_Count(df1, df2, col):\n",
    "    df = pd.concat([df1[[col, 'result']], df2[[col, 'result']]])\n",
    "    nm = col+'_COUNT'\n",
    "    dicts = df.groupby(col)['result'].sum().to_dict()\n",
    "    df1[nm] = df1[col].map(dicts).astype(int)\n",
    "    df2[nm] = df2[col].map(dicts).astype(int)\n",
    "\n",
    "    nm = col+'_ALL'\n",
    "    dicts = df.groupby(col)['result'].count().to_dict()\n",
    "    df1[nm] = df1[col].map(dicts).astype(int)\n",
    "    df2[nm] = df2[col].map(dicts).astype(int)\n",
    "\n",
    "    nm = col+'_CT'\n",
    "    df1[nm] = df1[col+'_COUNT'] / df1[col+'_ALL']\n",
    "    df2[nm] = df2[col+'_COUNT'] / df2[col+'_ALL']"
   ]
  },
  {
   "cell_type": "code",
   "execution_count": null,
   "metadata": {
    "ExecuteTime": {
     "start_time": "2021-07-25T06:01:50.993Z"
    }
   },
   "outputs": [],
   "source": [
    "fes = ['daxiaoMasterStartOdd','daxiaoGuestStartOdd',\n",
    "       'daxiaoMasterOdd','daxiaoGuestOdd',\n",
    "       'daxiaoMasterStartOddMid','daxiaoGuestStartOddMid',\n",
    "       'daxiaoMasterOddMid','daxiaoGuestOddMid',\n",
    "       \"daxiaoMasterStartOddZao\",\"daxiaoGuestStartOddZao\",\n",
    "       \"daxiaoMasterOddZao\",\"daxiaoGuestOddZao\"]"
   ]
  },
  {
   "cell_type": "code",
   "execution_count": null,
   "metadata": {
    "ExecuteTime": {
     "start_time": "2021-07-25T06:01:51.287Z"
    }
   },
   "outputs": [],
   "source": [
    "test = pd.read_csv('test.csv')\n",
    "test = reduce_mem_usage(test)\n",
    "test = preF(test)\n",
    "test= num_fea_dis(test,fes)"
   ]
  },
  {
   "cell_type": "code",
   "execution_count": null,
   "metadata": {
    "ExecuteTime": {
     "start_time": "2021-07-25T06:01:51.596Z"
    }
   },
   "outputs": [],
   "source": [
    "train = pd.read_csv('train.csv')\n",
    "train = reduce_mem_usage(train)\n",
    "train = preF(train)\n",
    "train = num_fea_dis(train,fes)"
   ]
  },
  {
   "cell_type": "code",
   "execution_count": null,
   "metadata": {
    "ExecuteTime": {
     "start_time": "2021-07-25T06:01:54.105Z"
    }
   },
   "outputs": [],
   "source": [
    "encode_CB3(\"daxiaoMasterStartOdd_shuiPing\",\"daxiaoGuestStartOdd_shuiPing\",\"daxiaoPankouStart\",train,test,\"typeLinStart\")\n",
    "encode_CB3(\"daxiaoMasterOdd_shuiPing\",\"daxiaoGuestOdd_shuiPing\",\"daxiaoPankou\",train,test,\"typeLinEnd\")\n",
    "\n",
    "encode_CB3(\"daxiaoMasterStartOddMid_shuiPing\",\"daxiaoGuestStartOddMid_shuiPing\",\"daxiaoPankouStartMid\",train,test,\"typeMidStart\")\n",
    "encode_CB3(\"daxiaoMasterOddMid_shuiPing\",\"daxiaoGuestOddMid_shuiPing\",\"daxiaoPankouMid\",train,test,\"typeMidEnd\")\n",
    "\n",
    "encode_CB3(\"daxiaoMasterStartOddZao_shuiPing\",\"daxiaoGuestStartOddZao_shuiPing\",\"daxiaoPankouStartZao\",train,test,\"typeZaoStart\")\n",
    "encode_CB3(\"daxiaoMasterOddZao_shuiPing\",\"daxiaoGuestOddZao_shuiPing\",\"daxiaoPankouZao\",train,test,\"typeZaoEnd\")\n",
    "\n",
    "encode_CB3(\"zhongbifeng\",\"typeLinStart\",\"typeLinEnd\",train,test,\"TypeLin\")\n",
    "encode_CB3(\"zhongbifeng\",\"typeMidStart\",\"typeMidEnd\",train,test,\"TypeMid\")\n",
    "encode_CB3(\"zhongbifeng\",\"typeZaoStart\",\"typeZaoEnd\",train,test,\"TypeZao\")\n",
    "encode_CB3(\"zhongbifeng\",\"typeLinStart\",\"typeMidEnd\",train,test,\"TypeLinMid\")\n",
    "encode_CB3(\"zhongbifeng\",\"typeZaoStart\",\"typeLinEnd\",train,test,\"TypeZaoLin\")\n",
    "encode_CB3(\"TypeLin\",\"typeMidStart\",\"typeMidEnd\",train,test,\"TypeAll\")\n",
    "encode_CB3(\"TypeAll\",\"typeZaoStart\",\"typeZaoEnd\",train,test,\"TypeAllZAO\")"
   ]
  },
  {
   "cell_type": "code",
   "execution_count": null,
   "metadata": {
    "ExecuteTime": {
     "start_time": "2021-07-25T06:01:57.141Z"
    }
   },
   "outputs": [],
   "source": [
    "for col in [\"TypeMid\", \"TypeLinMid\", \"TypeZao\", \"TypeZaoLin\", \"TypeAll\", \"TypeAllZAO\"]:\n",
    "    encode_Count(train, test, col)\n",
    "    test = test.drop([col+'_ALL', col+'_COUNT'], axis=1)\n",
    "    train = train.drop([col+'_ALL', col+'_COUNT'], axis=1)"
   ]
  },
  {
   "cell_type": "code",
   "execution_count": null,
   "metadata": {
    "ExecuteTime": {
     "start_time": "2021-07-25T06:02:30.208Z"
    }
   },
   "outputs": [],
   "source": [
    "train_x =  train.drop(columns=['result'])\n",
    "train_y =  train['result']\n",
    "\n",
    "test_x =  test.drop(columns=['result'])\n",
    "test_y =  test['result']"
   ]
  },
  {
   "cell_type": "code",
   "execution_count": null,
   "metadata": {
    "ExecuteTime": {
     "start_time": "2021-07-25T06:02:31.504Z"
    }
   },
   "outputs": [],
   "source": [
    "cat_features = train_x.select_dtypes(include='object').columns\n",
    "test_x[cat_features] = test_x[cat_features].astype('category')\n",
    "train_x[cat_features] = train_x[cat_features].astype('category')"
   ]
  },
  {
   "cell_type": "code",
   "execution_count": null,
   "metadata": {
    "ExecuteTime": {
     "start_time": "2021-07-25T06:03:53.377Z"
    }
   },
   "outputs": [],
   "source": [
    "from matplotlib import pyplot as plt\n",
    "from sklearn.model_selection import train_test_split\n",
    "from sklearn.metrics import accuracy_score\n",
    "from sklearn.metrics import roc_auc_score\n",
    "import lightgbm as lgb\n",
    "\n",
    "lgb_train = lgb.Dataset(train_x, train_y)\n",
    "\n",
    "# 参数设置\n",
    "params = {'num_leaves': 240, #结果对最终效果影响较大，越大值越好，太大会出现过拟合\n",
    "          'min_data_in_leaf': 30,\n",
    "          'objective': 'binary', #定义的目标函数\n",
    "          'max_depth': -1,\n",
    "          'learning_rate': 0.03,\n",
    "          \"min_sum_hessian_in_leaf\": 6,\n",
    "          \"boosting\": \"gbdt\",\n",
    "          \"feature_fraction\":  0.5992677823884304,\t#提取的特征比率\n",
    "          \"bagging_freq\": 4,\n",
    "          \"bagging_fraction\":0.7100471696361973,\n",
    "          \"bagging_seed\": 11,\n",
    "          \"lambda_l1\": 8.545500456265467e-05,\t\t\t\t#l1正则\n",
    "          'lambda_l2': 5.985747612243422e-07,\t\t#l2正则\n",
    "          \"verbosity\": -1,\n",
    "          \"nthread\": -1,\t\t#线程数量，-1表示全部线程，线程越多，运行的速度越快\n",
    "          'metric': {'binary_logloss', 'auc'},\t##评价函数选择\n",
    "          \"random_state\": 2019,\t#随机数种子，可以防止每次运行的结果不一致\n",
    "          # 'device': 'gpu' ##如果安装的事gpu版本的lightgbm,可以加快运算\n",
    "          'min_child_samples': 67,\n",
    "          }\n",
    "\n",
    "\n",
    "print('Starting training...')\n",
    "# 模型训练\n",
    "gbm = lgb.train(params,\n",
    "                lgb_train,\n",
    "                num_boost_round=20)\n",
    "\n",
    "\n",
    "# 模型预测\n",
    "y_pred = gbm.predict(test_x, num_iteration=gbm.best_iteration)\n",
    "\n",
    "accuracy = roc_auc_score(test_y, y_pred)\n",
    "print(\"accuarcy: %.2f%%\" % (accuracy*100.0))"
   ]
  },
  {
   "cell_type": "code",
   "execution_count": null,
   "metadata": {
    "ExecuteTime": {
     "start_time": "2021-07-25T06:03:55.567Z"
    }
   },
   "outputs": [],
   "source": [
    "# cv_results = lgb.cv(params, lgb_train, num_boost_round=500, nfold=5, \n",
    "#                     verbose_eval=20, early_stopping_rounds=40)\n",
    "\n",
    "# np.array(cv_results[\"auc-mean\"]).mean()"
   ]
  },
  {
   "cell_type": "code",
   "execution_count": null,
   "metadata": {},
   "outputs": [],
   "source": [
    "fig, ax = plt.subplots(figsize=(10,10))\n",
    "lgb.plot_importance(gbm, max_num_features=60, height=0.5, ax=ax)\n",
    "plt.show()"
   ]
  }
 ],
 "metadata": {
  "kernelspec": {
   "display_name": "Python 3",
   "language": "python",
   "name": "python3"
  },
  "language_info": {
   "codemirror_mode": {
    "name": "ipython",
    "version": 3
   },
   "file_extension": ".py",
   "mimetype": "text/x-python",
   "name": "python",
   "nbconvert_exporter": "python",
   "pygments_lexer": "ipython3",
   "version": "3.8.5"
  },
  "toc": {
   "base_numbering": 1,
   "nav_menu": {},
   "number_sections": true,
   "sideBar": true,
   "skip_h1_title": false,
   "title_cell": "Table of Contents",
   "title_sidebar": "Contents",
   "toc_cell": false,
   "toc_position": {},
   "toc_section_display": true,
   "toc_window_display": false
  }
 },
 "nbformat": 4,
 "nbformat_minor": 4
}
