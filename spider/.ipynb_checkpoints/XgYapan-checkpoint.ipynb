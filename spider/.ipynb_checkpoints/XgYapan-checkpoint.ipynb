{
 "cells": [
  {
   "cell_type": "code",
   "execution_count": null,
   "metadata": {
    "ExecuteTime": {
     "start_time": "2021-08-22T13:39:59.269Z"
    }
   },
   "outputs": [],
   "source": [
    "import json\n",
    "import pandas as pd\n",
    "import pymongo\n",
    "import matplotlib as mpl\n",
    "import numpy as np\n",
    "import matplotlib.pyplot as plt"
   ]
  },
  {
   "cell_type": "code",
   "execution_count": null,
   "metadata": {
    "ExecuteTime": {
     "start_time": "2021-08-22T13:39:59.272Z"
    }
   },
   "outputs": [],
   "source": [
    "def reduce_mem_usage(df):\n",
    "    \"\"\" iterate through all the columns of a dataframe and modify the data type\n",
    "        to reduce memory usage.        \n",
    "    \"\"\"\n",
    "    start_mem = df.memory_usage().sum() / 1024**2\n",
    "    print('Memory usage of dataframe is {:.2f} MB'.format(start_mem))\n",
    "\n",
    "    for col in df.columns:\n",
    "        col_type = df[col].dtype\n",
    "        if col_type != object:\n",
    "            c_min = df[col].min()\n",
    "            c_max = df[col].max()\n",
    "            if str(col_type)[:3] == 'int':\n",
    "                if c_min > np.iinfo(np.int8).min and c_max < np.iinfo(np.int8).max:\n",
    "                    df[col] = df[col].astype(np.int8)\n",
    "                elif c_min > np.iinfo(np.int16).min and c_max < np.iinfo(np.int16).max:\n",
    "                    df[col] = df[col].astype(np.int16)\n",
    "                elif c_min > np.iinfo(np.int32).min and c_max < np.iinfo(np.int32).max:\n",
    "                    df[col] = df[col].astype(np.int32)\n",
    "                elif c_min > np.iinfo(np.int64).min and c_max < np.iinfo(np.int64).max:\n",
    "                    df[col] = df[col].astype(np.int64)\n",
    "            else:\n",
    "                df[col] = df[col].astype(np.float32)\n",
    "\n",
    "    end_mem = df.memory_usage().sum() / 1024**2\n",
    "    print('Memory usage after optimization is: {:.2f} MB'.format(end_mem))\n",
    "    print('Decreased by {:.1f}%'.format(\n",
    "        100 * (start_mem - end_mem) / start_mem))\n",
    "\n",
    "    return df"
   ]
  },
  {
   "cell_type": "code",
   "execution_count": null,
   "metadata": {
    "ExecuteTime": {
     "start_time": "2021-08-22T13:39:59.273Z"
    }
   },
   "outputs": [],
   "source": [
    "# myclient = pymongo.MongoClient(\"mongodb://localhost:27017/\")\n",
    "# mydb = myclient[\"soccerData\"]\n",
    "# mycol = mydb[\"rawData007yapan\"]\n",
    "\n",
    "# data = pd.DataFrame(list(mycol.find()))\n",
    "# data = data.drop(['_id','place'], axis=1)"
   ]
  },
  {
   "cell_type": "code",
   "execution_count": null,
   "metadata": {
    "ExecuteTime": {
     "start_time": "2021-08-22T13:39:59.276Z"
    }
   },
   "outputs": [],
   "source": [
    "data = pd.read_csv(\"rawData007.csv\")"
   ]
  },
  {
   "cell_type": "code",
   "execution_count": null,
   "metadata": {
    "ExecuteTime": {
     "start_time": "2021-08-22T13:39:59.278Z"
    }
   },
   "outputs": [],
   "source": [
    "data = reduce_mem_usage(data)"
   ]
  },
  {
   "cell_type": "code",
   "execution_count": null,
   "metadata": {
    "ExecuteTime": {
     "start_time": "2021-08-22T13:39:59.281Z"
    }
   },
   "outputs": [],
   "source": [
    "data.head()"
   ]
  },
  {
   "cell_type": "code",
   "execution_count": null,
   "metadata": {
    "ExecuteTime": {
     "start_time": "2021-08-22T13:39:59.283Z"
    }
   },
   "outputs": [],
   "source": [
    "# masters = [\"明陞\", \"10B\", \"金宝博\",\"易胜\",\"利记\"]\n",
    "\n",
    "# features = []\n",
    "# for master in masters:\n",
    "#     data = data.drop(['masterOdd_Start_{}_yapan'.format(master), 'pankou_Start_{}_yapan'.format(master),\n",
    "#                       'guestOdd_Start_{}_yapan'.format(master),'masterOdd_End_{}_yapan'.format(master),\n",
    "#                       'pankouOdd_End_{}_yapan'.format(master),'guestOdd_End_{}_yapan'].format(master), axis=1)"
   ]
  },
  {
   "cell_type": "code",
   "execution_count": null,
   "metadata": {
    "ExecuteTime": {
     "start_time": "2021-08-22T13:39:59.285Z"
    }
   },
   "outputs": [],
   "source": [
    "data_new = data[(data['pankouOdd_End_365_yapan']==\"平手\")\n",
    "                |(data['pankouOdd_End_365_yapan']==\"平手/半球\")\n",
    "                |(data['pankouOdd_End_365_yapan']==\"半球\")\n",
    "                |(data['pankouOdd_End_365_yapan']==\"半球/一球\")]\n",
    "\n",
    "# data_new =  data_new[data_new['masterOdd_End_365_yapan'] >=0.80]"
   ]
  },
  {
   "cell_type": "code",
   "execution_count": null,
   "metadata": {
    "ExecuteTime": {
     "start_time": "2021-08-22T13:39:59.287Z"
    }
   },
   "outputs": [],
   "source": [
    "data_new.info()"
   ]
  },
  {
   "cell_type": "code",
   "execution_count": null,
   "metadata": {
    "ExecuteTime": {
     "start_time": "2021-08-22T13:39:59.289Z"
    }
   },
   "outputs": [],
   "source": [
    "data_new = data_new.drop(columns=['Unnamed: 0'])\n",
    "\n",
    "data_new = data_new.dropna(subset = [\"masterOdd_Start_365_yapan\",\"masterOdd_Start_Crown_yapan\"])"
   ]
  },
  {
   "cell_type": "code",
   "execution_count": null,
   "metadata": {
    "ExecuteTime": {
     "start_time": "2021-08-22T13:39:59.291Z"
    }
   },
   "outputs": [],
   "source": [
    "data_new.info()"
   ]
  },
  {
   "cell_type": "code",
   "execution_count": null,
   "metadata": {
    "ExecuteTime": {
     "start_time": "2021-08-22T13:39:59.293Z"
    }
   },
   "outputs": [],
   "source": [
    "def getResult(masterGoal, guestGoal):\n",
    "    if masterGoal - guestGoal > 0:\n",
    "        return 1\n",
    "    if masterGoal - guestGoal <= 0:\n",
    "        return 0"
   ]
  },
  {
   "cell_type": "code",
   "execution_count": null,
   "metadata": {
    "ExecuteTime": {
     "start_time": "2021-08-22T13:39:59.295Z"
    }
   },
   "outputs": [],
   "source": [
    "def get18(master,guest):\n",
    "    if master > guest:\n",
    "        return 18\n",
    "    if master < guest:\n",
    "        return 81\n",
    "    if master == guest:\n",
    "        return 99"
   ]
  },
  {
   "cell_type": "code",
   "execution_count": null,
   "metadata": {
    "ExecuteTime": {
     "start_time": "2021-08-22T13:39:59.297Z"
    }
   },
   "outputs": [],
   "source": [
    "def getShuiPing(x):\n",
    "    result = 9999\n",
    "    if x <= 0.75:\n",
    "        result = 0\n",
    "    if 0.75< x and x<=0.80:\n",
    "        result = 1\n",
    "    if 0.80<x and x<=0.85:\n",
    "        result = 2\n",
    "    if 0.85<x and x<=0.90:\n",
    "        result = 3\n",
    "    if 0.95<x and x<=1.00:\n",
    "        result = 4\n",
    "    if 1.00<x and x<=1.08:\n",
    "        result = 5\n",
    "    if 1.08<x and x<=1.10:\n",
    "        result = 6\n",
    "    if 1.10<x and x<=1.15:\n",
    "        result = 7\n",
    "    if 1.15<x and x<=1.20:\n",
    "        result = 8\n",
    "    if x > 1.20:\n",
    "        result = 9\n",
    "    return result\n",
    "\n",
    "def getShuiPing(x):\n",
    "    result = 9999\n",
    "    if x <= 0.75:\n",
    "        result = 0\n",
    "    if 0.75< x and x<=0.85:\n",
    "        result = 1\n",
    "    if x > 0.95:\n",
    "        result = 2\n",
    "    return result"
   ]
  },
  {
   "cell_type": "code",
   "execution_count": null,
   "metadata": {
    "ExecuteTime": {
     "start_time": "2021-08-22T13:39:59.298Z"
    }
   },
   "outputs": [],
   "source": [
    "def getOriginFlow(x):\n",
    "    if x > 0:\n",
    "        return 3\n",
    "    if x == 0:\n",
    "        return 1\n",
    "    if x < 0:\n",
    "        return 0"
   ]
  },
  {
   "cell_type": "code",
   "execution_count": null,
   "metadata": {
    "ExecuteTime": {
     "start_time": "2021-08-22T13:39:59.300Z"
    }
   },
   "outputs": [],
   "source": [
    "def getType(yapanMasterStartOdd, yapanGuestStartOdd, yapanPankouStart):\n",
    "    linTypeStart = get18(yapanMasterStartOdd, yapanGuestStartOdd)\n",
    "    return str(linTypeStart) + \"_\" + str(yapanPankouStart)"
   ]
  },
  {
   "cell_type": "code",
   "execution_count": null,
   "metadata": {
    "ExecuteTime": {
     "start_time": "2021-08-22T13:39:59.302Z"
    }
   },
   "outputs": [],
   "source": [
    "data_new['result'] = data_new.apply(lambda x: getResult(\n",
    "        x['masterGoal'], x['guestGoal']), axis=1)\n",
    "\n",
    "data_new = data_new.drop(columns=['masterGoal', 'guestGoal'])\n",
    "\n",
    "data_new = data_new.drop(columns=['midMasterGoal', 'midGuestGoal'])"
   ]
  },
  {
   "cell_type": "code",
   "execution_count": null,
   "metadata": {
    "ExecuteTime": {
     "start_time": "2021-08-22T13:39:59.304Z"
    }
   },
   "outputs": [],
   "source": [
    "masters = [\"365\", \"明陞\", \"10B\", \"12B\", \"18B\",\"Crown\",\"金宝博\",\"盈禾\",\"易胜博\",\"韦德\",\"利记\",\"澳门\",\"立博\",\"平博\",\"香港马会\",\"Interwetten\"]\n",
    "\n",
    "pankouMap = {'平手': 0, \n",
    "             '平手/半球': 0.25, '半球': 0.5, '半球/一球': 0.75, '一球': 1, '一球/球半': 1.25\n",
    "             ,'球半': 1.5, '球半/兩球': 1.75, '兩球': 2, '兩球/兩球半': 2.25, '兩球半': 2.5, '三球': 3\n",
    "             \n",
    "             ,'受让平手/半球': -0.25,'受让半球': -0.5, '受让半球/一球': -0.75,'受让一球': -1, '受让一球/球半': -1.25,\n",
    "             '受让球半': -1.5, '受让球半/兩球': -1.75,'受让兩球': -2, '受让兩球/兩球半':-2.25 ,'受让兩球半':-2.5, '受让三球':-3}\n",
    "\n",
    "pankouStartCol = []\n",
    "pankouEndCol = []\n",
    "\n",
    "masterStartCol = []\n",
    "masterEndCol = []\n",
    "\n",
    "guestStartCol = []\n",
    "guestEndCol = []\n",
    "\n",
    "for master in masters:\n",
    "    data_new[\"pankou_Start\" + \"_\" + master + \"_yapan\"] = data_new[\"pankou_Start\" + \"_\" + master + \"_yapan\"].map(pankouMap)\n",
    "    data_new[\"pankou_Start_EX\" + \"_\" + master + \"_yapan\"] = data_new[\"pankou_Start_EX\" + \"_\" + master + \"_yapan\"].map(pankouMap)\n",
    "    data_new[\"pankouOdd_End\" + \"_\" + master + \"_yapan\"] = data_new[\"pankouOdd_End\" + \"_\" + master + \"_yapan\"].map(pankouMap)\n",
    "    \n",
    "    pankouStartCol.append(\"pankou_Start\" + \"_\" + master + \"_yapan\")\n",
    "    pankouEndCol.append(\"pankouOdd_End\" + \"_\" + master + \"_yapan\")\n",
    "    \n",
    "    masterStartCol.append(\"masterOdd_Start\" + \"_\" + master + \"_yapan\")\n",
    "    masterEndCol.append(\"masterOdd_End\" + \"_\" + master + \"_yapan\")\n",
    "    \n",
    "    guestStartCol.append(\"guestOdd_Start\" + \"_\" + master + \"_yapan\")\n",
    "    guestEndCol.append(\"guestOdd_End\" + \"_\" + master + \"_yapan\")"
   ]
  },
  {
   "cell_type": "code",
   "execution_count": null,
   "metadata": {
    "ExecuteTime": {
     "start_time": "2021-08-22T13:39:59.306Z"
    }
   },
   "outputs": [],
   "source": [
    "data_new = data_new.dropna(subset = [\"pankou_Start_365_yapan\"])"
   ]
  },
  {
   "cell_type": "code",
   "execution_count": null,
   "metadata": {
    "ExecuteTime": {
     "start_time": "2021-08-22T13:39:59.308Z"
    }
   },
   "outputs": [],
   "source": [
    "data_new[\"masterOdd_Start\" + \"_\" + \"max\" + \"_yapan\" ] = data_new[masterStartCol].max(axis = 1, skipna = True)\n",
    "data_new[\"pankou_Start\" + \"_\" + \"max\" + \"_yapan\" ] = data_new[pankouStartCol].max(axis = 1, skipna = True)\n",
    "data_new[\"guestOdd_Start\" + \"_\" + \"max\" + \"_yapan\"] = data_new[guestStartCol].max(axis = 1, skipna = True)\n",
    "\n",
    "data_new[\"masterOdd_Start_EX\" + \"_\" + \"max\" + \"_yapan\" ] = data_new[masterStartCol].max(axis = 1, skipna = True)\n",
    "data_new[\"pankou_Start_EX\" + \"_\" + \"max\" + \"_yapan\" ] = data_new[pankouStartCol].max(axis = 1, skipna = True)\n",
    "data_new[\"guestOdd_Start_EX\" + \"_\" + \"max\" + \"_yapan\"] = data_new[guestStartCol].max(axis = 1, skipna = True)\n",
    "\n",
    "data_new[\"masterOdd_End\" + \"_\" + \"max\" + \"_yapan\"] = data_new[masterEndCol].max(axis = 1, skipna = True)\n",
    "data_new[\"pankouOdd_End\" + \"_\" + \"max\" + \"_yapan\"] = data_new[pankouEndCol].max(axis = 1, skipna = True)\n",
    "data_new[\"guestOdd_End\" + \"_\" + \"max\" + \"_yapan\"] = data_new[guestEndCol].max(axis = 1, skipna = True)\n",
    "\n",
    "data_new[\"masterOdd_Start_EX\" + \"_\" + \"min\" + \"_yapan\"] = data_new[masterStartCol].min(axis = 1, skipna = True)\n",
    "data_new[\"pankou_Start_EX\" + \"_\" + \"min\" + \"_yapan\"] = data_new[pankouStartCol].min(axis = 1, skipna = True)\n",
    "data_new[\"guestOdd_Start_EX\" + \"_\" + \"min\" + \"_yapan\"] = data_new[guestStartCol].min(axis = 1, skipna = True)\n",
    "\n",
    "data_new[\"masterOdd_Start\" + \"_\" + \"min\" + \"_yapan\"] = data_new[masterStartCol].min(axis = 1, skipna = True)\n",
    "data_new[\"pankou_Start\" + \"_\" + \"min\" + \"_yapan\"] = data_new[pankouStartCol].min(axis = 1, skipna = True)\n",
    "data_new[\"guestOdd_Start\" + \"_\" + \"min\" + \"_yapan\"] = data_new[guestStartCol].min(axis = 1, skipna = True)\n",
    "\n",
    "\n",
    "data_new[\"masterOdd_End\" + \"_\" + \"min\" + \"_yapan\"] = data_new[masterEndCol].min(axis = 1, skipna = True)\n",
    "data_new[\"pankouOdd_End\" + \"_\" + \"min\" + \"_yapan\"] = data_new[pankouEndCol].min(axis = 1, skipna = True)\n",
    "data_new[\"guestOdd_End\" + \"_\" + \"min\" + \"_yapan\"] = data_new[guestEndCol].min(axis = 1, skipna = True)"
   ]
  },
  {
   "cell_type": "code",
   "execution_count": null,
   "metadata": {
    "ExecuteTime": {
     "start_time": "2021-08-22T13:39:59.310Z"
    }
   },
   "outputs": [],
   "source": [
    "masters = [\"max\",\"min\"]\n",
    "\n",
    "features = []\n",
    "for master in masters:\n",
    "    data_new['yapanOddFlow'+master] = data_new[\"masterOdd_Start\" + \"_\" + master + \"_yapan\"] - data_new[\"masterOdd_End\" + \"_\" + master + \"_yapan\"]\n",
    "    data_new['yapanGuestOddFlow'+master] = data_new[\"guestOdd_Start\" + \"_\" + master + \"_yapan\"] - data_new[\"guestOdd_End\" + \"_\" + master + \"_yapan\"]\n",
    "    \n",
    "    data_new['yapanOddOriginFlow'+master] =  data_new['yapanOddFlow'+master].map(getOriginFlow)\n",
    "    data_new['yapanGuestOddOriginFlow'+master] = data_new['yapanGuestOddFlow'+master].map(getOriginFlow)\n",
    "    \n",
    "    data_new[\"masterOdd_Start\" + \"_\" + master + \"_yapan\" + \"_SP\"] = data_new[\"masterOdd_Start\" + \"_\" + master + \"_yapan\"].map(getShuiPing)\n",
    "    data_new[\"guestOdd_Start\" + \"_\" + master + \"_yapan\" + \"_SP\"] = data_new[\"guestOdd_Start\" + \"_\" + master + \"_yapan\"].map(getShuiPing)\n",
    "    \n",
    "    data_new[\"masterOdd_Start_EX\" + \"_\" + master + \"_yapan\" + \"_SP\"] = data_new[\"masterOdd_Start\" + \"_\" + master + \"_yapan\"].map(getShuiPing)\n",
    "    data_new[\"guestOdd_Start_EX\" + \"_\" + master + \"_yapan\" + \"_SP\"] = data_new[\"guestOdd_Start_EX\" + \"_\" + master + \"_yapan\"].map(getShuiPing)\n",
    "    \n",
    "    data_new[\"masterOdd_End\" + \"_\" + master + \"_yapan\" + \"_SP\"] = data_new[\"masterOdd_Start\" + \"_\" + master + \"_yapan\"].map(getShuiPing)\n",
    "    data_new[\"guestOdd_End\" + \"_\" + master + \"_yapan\" + \"_SP\"] = data_new[\"guestOdd_End\" + \"_\" + master + \"_yapan\"].map(getShuiPing)\n",
    "    \n",
    "    data_new['yapanTypeStart'+master] = data_new.apply(lambda x: getType(\n",
    "            x[\"masterOdd_Start\" + \"_\" + master + \"_yapan\"], x[\"guestOdd_Start\" + \"_\" + master + \"_yapan\"],\n",
    "        x[\"pankou_Start\" + \"_\" + master + \"_yapan\"]), axis=1)\n",
    "        \n",
    "    data_new['yapanTypeStartEX'+master] = data_new.apply(lambda x: getType(\n",
    "            x[\"masterOdd_Start_EX\" + \"_\" + master + \"_yapan\"], x[\"guestOdd_Start_EX\" + \"_\" + master + \"_yapan\"],\n",
    "        x[\"pankou_Start_EX\" + \"_\" + master + \"_yapan\"]), axis=1)\n",
    "    \n",
    "    data_new['yapanTypeEnd'+master] = data_new.apply(lambda x: getType(\n",
    "            x[\"masterOdd_End\" + \"_\" + master + \"_yapan\"], x[\"guestOdd_End\" + \"_\" + master + \"_yapan\"],\n",
    "        x[\"pankouOdd_End\" + \"_\" + master + \"_yapan\"]), axis=1)\n",
    "    \n",
    "    data_new['yapanTypeStartAll'+master] = data_new['yapanTypeStart'+master].astype(str) + \"_\" + data_new[\"masterOdd_Start\" + \"_\" + master + \"_yapan\" + \"_SP\"].astype(str)\n",
    "    data_new['yapanTypeEndAll'+master] = data_new['yapanTypeEnd'+master].astype(str) + \"_\" + data_new[\"masterOdd_End\" + \"_\" + master + \"_yapan\" + \"_SP\"].astype(str)\n",
    "    data_new['yapanTypeAll'+master] = data_new[\"pankouOdd_End_365_yapan\"].astype(str)  + \"_\" + data_new['yapanOddOriginFlow'+master].astype(str) +\"_\"+ data_new['yapanTypeStartAll'+master] +\"_\"+ data_new['yapanTypeEndAll'+master]"
   ]
  },
  {
   "cell_type": "code",
   "execution_count": null,
   "metadata": {
    "ExecuteTime": {
     "start_time": "2021-08-22T13:39:59.313Z"
    }
   },
   "outputs": [],
   "source": [
    "data_new['yapanTypeAllMaxMin'] = data_new['yapanTypeAllmax'] + data_new['yapanTypeAllmin']"
   ]
  },
  {
   "cell_type": "code",
   "execution_count": null,
   "metadata": {
    "ExecuteTime": {
     "start_time": "2021-08-22T13:39:59.314Z"
    }
   },
   "outputs": [],
   "source": [
    "data_new = data_new[ ~ data_new['lianShai'].str.contains('杯') ]\n",
    "data_new.info()"
   ]
  },
  {
   "cell_type": "code",
   "execution_count": null,
   "metadata": {
    "ExecuteTime": {
     "start_time": "2021-08-22T13:39:59.322Z"
    }
   },
   "outputs": [],
   "source": [
    "pd.set_option('display.max_columns', None)\n",
    "data_new.head()"
   ]
  },
  {
   "cell_type": "code",
   "execution_count": null,
   "metadata": {
    "ExecuteTime": {
     "start_time": "2021-08-22T13:39:59.324Z"
    }
   },
   "outputs": [],
   "source": [
    "# masters = [\"澳门\",\"立博\",\"平博\",\"香港马会\",\"Interwetten\"]\n",
    "\n",
    "# for master in masters:\n",
    "#     data_new = data_new.drop(columns=[\"pankou_Start\" + \"_\" + master + \"_yapan\"])\n",
    "#     data_new = data_new.drop(columns=[\"pankou_Start_EX\" + \"_\" + master + \"_yapan\"])\n",
    "#     data_new = data_new.drop(columns=[\"pankouOdd_End\" + \"_\" + master + \"_yapan\"])\n",
    "\n",
    "#     data_new = data_new.drop(columns=[\"masterOdd_Start\" + \"_\" + master + \"_yapan\"])\n",
    "#     data_new = data_new.drop(columns=[\"masterOdd_Start_EX\" + \"_\" + master + \"_yapan\"])\n",
    "#     data_new = data_new.drop(columns=[\"masterOdd_End\" + \"_\" + master + \"_yapan\"])\n",
    "    \n",
    "#     data_new = data_new.drop(columns=[\"guestOdd_Start\" + \"_\" + master + \"_yapan\"])\n",
    "#     data_new = data_new.drop(columns=[\"guestOdd_Start_EX\" + \"_\" + master + \"_yapan\"])\n",
    "#     data_new = data_new.drop(columns=[\"guestOdd_End\" + \"_\" + master + \"_yapan\"])"
   ]
  },
  {
   "cell_type": "code",
   "execution_count": null,
   "metadata": {
    "ExecuteTime": {
     "start_time": "2021-08-22T13:39:59.325Z"
    }
   },
   "outputs": [],
   "source": [
    "train = data_new[:140000]\n",
    "\n",
    "test =  data_new[140000:]"
   ]
  },
  {
   "cell_type": "code",
   "execution_count": null,
   "metadata": {
    "ExecuteTime": {
     "start_time": "2021-08-22T13:39:59.333Z"
    }
   },
   "outputs": [],
   "source": [
    "train.tail()"
   ]
  },
  {
   "cell_type": "code",
   "execution_count": null,
   "metadata": {
    "ExecuteTime": {
     "end_time": "2021-08-22T02:28:31.912468Z",
     "start_time": "2021-08-22T02:28:31.883483Z"
    }
   },
   "outputs": [],
   "source": []
  },
  {
   "cell_type": "code",
   "execution_count": null,
   "metadata": {
    "ExecuteTime": {
     "start_time": "2021-08-22T13:39:59.336Z"
    }
   },
   "outputs": [],
   "source": [
    "from sklearn.model_selection import  StratifiedKFold,KFold\n",
    "import category_encoders as ce\n",
    "\n",
    "def mean_woe_target_encoder(train,test,target,col,n_splits=10):\n",
    "    folds = StratifiedKFold(n_splits)\n",
    "\n",
    "    y_oof = np.zeros(train.shape[0])\n",
    "    y_oof_2= np.zeros(train.shape[0])\n",
    "    y_test_oof = np.zeros(test.shape[0]).reshape(-1,1)\n",
    "    y_test_oof2 = np.zeros(test.shape[0]).reshape(-1,1)\n",
    "\n",
    "    splits = folds.split(train, target)\n",
    "    \n",
    "    for fold_n, (train_index, valid_index) in enumerate(splits):\n",
    "        X_train, X_valid = train[col].iloc[train_index], train[col].iloc[valid_index]\n",
    "        y_train, y_valid = target.iloc[train_index], target.iloc[valid_index]\n",
    "        clf=ce.target_encoder.TargetEncoder()\n",
    "    \n",
    "        clf.fit(X_train.values,y_train.values)    \n",
    "        y_pred_valid = clf.transform(X_valid.values)\n",
    "\n",
    "        y_oof[valid_index] = y_pred_valid.values.reshape(1,-1)\n",
    "\n",
    "        tp=(clf.transform(test[col].values)/(n_splits*1.0)).values\n",
    "        tp=tp.reshape(-1,1)\n",
    "        y_test_oof+=tp    \n",
    "    \n",
    "        del X_train, X_valid, y_train, y_valid\n",
    "        gc.collect()    \n",
    "        \n",
    "    for fold_n, (train_index, valid_index) in enumerate(splits):\n",
    "        X_train, X_valid = train[col].iloc[train_index], train[col].iloc[valid_index]\n",
    "        y_train, y_valid = target.iloc[train_index], target.iloc[valid_index]\n",
    "        clf=ce.woe.WOEEncoder()\n",
    "    \n",
    "        clf.fit(X_train.values,y_train.values)    \n",
    "        y_pred_valid = clf.transform(X_valid.values)\n",
    "        y_oof2[valid_index] = y_pred_valid.values.reshape(1,-1)\n",
    "    \n",
    "        tp=(clf.transform(test[col].values)/(n_splits*1.0)).values\n",
    "        tp=tp.reshape(-1,1)\n",
    "        \n",
    "        y_test_oof2+=tp    \n",
    "        del X_train, X_valid, y_train, y_valid\n",
    "        gc.collect()     \n",
    "    return y_oof,y_oof_2,y_test_oof,y_test_oof2"
   ]
  },
  {
   "cell_type": "code",
   "execution_count": null,
   "metadata": {
    "ExecuteTime": {
     "start_time": "2021-08-22T13:39:59.338Z"
    }
   },
   "outputs": [],
   "source": [
    "import gc\n",
    "\n",
    "train_x =  train.drop(columns=['result'])\n",
    "train_y =  train['result']\n",
    "\n",
    "test_x =  test.drop(columns=['result'])\n",
    "test_y =  test['result']"
   ]
  },
  {
   "cell_type": "code",
   "execution_count": null,
   "metadata": {
    "ExecuteTime": {
     "start_time": "2021-08-22T13:39:59.340Z"
    }
   },
   "outputs": [],
   "source": [
    "# cat_features = ['yapanTypeAllmin','yapanTypeAllmax','yapanTypeAllMaxMin']\n",
    "# for col in cat_features:\n",
    "#   y_oof,y_oof_2,y_test_oof,y_test_oof2 = mean_woe_target_encoder(train_x,test_x,train_y,col,n_splits=10)\n",
    "#   nm = '_count'\n",
    "#   train_x[col+nm] = y_oof\n",
    "#   test_x[col+nm] = y_test_oof\n",
    "#   train[col+nm] = y_oof\n",
    "#   test[col+nm] = y_test_oof"
   ]
  },
  {
   "cell_type": "code",
   "execution_count": null,
   "metadata": {
    "ExecuteTime": {
     "end_time": "2021-08-22T12:32:39.359896Z",
     "start_time": "2021-08-22T12:32:39.327516Z"
    }
   },
   "outputs": [],
   "source": []
  },
  {
   "cell_type": "code",
   "execution_count": null,
   "metadata": {
    "ExecuteTime": {
     "end_time": "2021-08-22T12:32:40.128303Z",
     "start_time": "2021-08-22T12:32:39.877446Z"
    }
   },
   "outputs": [],
   "source": []
  },
  {
   "cell_type": "code",
   "execution_count": null,
   "metadata": {
    "ExecuteTime": {
     "end_time": "2021-08-22T12:31:45.421783Z",
     "start_time": "2021-08-22T12:31:45.404793Z"
    }
   },
   "outputs": [],
   "source": []
  },
  {
   "cell_type": "code",
   "execution_count": null,
   "metadata": {
    "ExecuteTime": {
     "end_time": "2021-08-22T12:24:21.172682Z",
     "start_time": "2021-08-22T12:24:21.161676Z"
    }
   },
   "outputs": [],
   "source": []
  },
  {
   "cell_type": "code",
   "execution_count": null,
   "metadata": {
    "ExecuteTime": {
     "end_time": "2021-08-22T12:30:04.046338Z",
     "start_time": "2021-08-22T12:30:03.774489Z"
    }
   },
   "outputs": [],
   "source": []
  },
  {
   "cell_type": "code",
   "execution_count": null,
   "metadata": {
    "ExecuteTime": {
     "end_time": "2021-08-22T12:27:50.210116Z",
     "start_time": "2021-08-22T12:27:49.951252Z"
    }
   },
   "outputs": [],
   "source": []
  },
  {
   "cell_type": "code",
   "execution_count": null,
   "metadata": {},
   "outputs": [],
   "source": []
  },
  {
   "cell_type": "code",
   "execution_count": null,
   "metadata": {
    "ExecuteTime": {
     "start_time": "2021-08-22T13:39:59.349Z"
    }
   },
   "outputs": [],
   "source": [
    "cat_features = train.select_dtypes(include='object').columns"
   ]
  },
  {
   "cell_type": "code",
   "execution_count": null,
   "metadata": {
    "ExecuteTime": {
     "start_time": "2021-08-22T13:39:59.358Z"
    }
   },
   "outputs": [],
   "source": [
    "def encode_LE(col,train,test):\n",
    "    df_comb = pd.concat([train[col],test[col]],axis=0)\n",
    "    df_comb,_ = df_comb.factorize(sort=True)\n",
    "    nm = col\n",
    "    if df_comb.max()>32000: \n",
    "        train[nm] = df_comb[:len(train)].astype('int32')\n",
    "        test[nm] = df_comb[len(train):].astype('int32')\n",
    "    else:\n",
    "        train[nm] = df_comb[:len(train)].astype('int16')\n",
    "        test[nm] = df_comb[len(train):].astype('int16')\n",
    "    del df_comb; x=gc.collect()\n",
    "\n",
    "for col in cat_features:\n",
    "    encode_LE(col,train_x,test_x)"
   ]
  },
  {
   "cell_type": "code",
   "execution_count": null,
   "metadata": {
    "ExecuteTime": {
     "end_time": "2021-08-22T07:43:52.203896Z",
     "start_time": "2021-08-22T07:43:49.409504Z"
    }
   },
   "outputs": [],
   "source": []
  },
  {
   "cell_type": "code",
   "execution_count": null,
   "metadata": {
    "ExecuteTime": {
     "end_time": "2021-08-22T11:59:24.704129Z",
     "start_time": "2021-08-22T11:59:24.697120Z"
    }
   },
   "outputs": [],
   "source": []
  },
  {
   "cell_type": "code",
   "execution_count": null,
   "metadata": {
    "ExecuteTime": {
     "start_time": "2021-08-22T13:39:59.377Z"
    }
   },
   "outputs": [],
   "source": [
    "train_x"
   ]
  },
  {
   "cell_type": "code",
   "execution_count": null,
   "metadata": {
    "ExecuteTime": {
     "start_time": "2021-08-22T13:39:59.380Z"
    }
   },
   "outputs": [],
   "source": [
    "import lightgbm as lgb\n",
    "from sklearn.metrics import roc_auc_score,accuracy_score\n",
    "from sklearn.model_selection import StratifiedKFold\n",
    "import gc\n",
    "X = train_x\n",
    "y = train_y\n",
    "# del train_x,train_y\n",
    "# gc.collect()\n",
    "\n",
    "\n",
    "params = {'num_leaves': 240,  # 结果对最终效果影响较大，越大值越好，太大会出现过拟合\n",
    "          'min_data_in_leaf': 30,\n",
    "          'objective': 'binary',  # 定义的目标函数\n",
    "          'max_depth': -1,\n",
    "          'learning_rate': 0.03,\n",
    "          \"min_sum_hessian_in_leaf\": 6,\n",
    "          \"boosting\": \"gbdt\",\n",
    "          \"feature_fraction\":  0.5992677823884304,  # 提取的特征比率\n",
    "          \"bagging_freq\": 4,\n",
    "          \"bagging_fraction\": 0.7100471696361973,\n",
    "          \"bagging_seed\": 11,\n",
    "          \"lambda_l1\": 8.545500456265467e-05,  # l1正则\n",
    "          'lambda_l2': 5.985747612243422e-07,  # l2正则\n",
    "          \"verbosity\": -1,\n",
    "          \"nthread\": -1,  # 线程数量，-1表示全部线程，线程越多，运行的速度越快\n",
    "          'metric': {'accuarcy'},  # 评价函数选择\n",
    "          \"random_state\": 2019,  # 随机数种子，可以防止每次运行的结果不一致\n",
    "          # 'device': 'gpu' ##如果安装的事gpu版本的lightgbm,可以加快运算\n",
    "          'min_child_samples': 67\n",
    "          }\n",
    "\n",
    "# params = {'lambda_l1': 1.311484608995952,\n",
    "#           'lambda_l2': 0.008865158312952497,\n",
    "#           'num_leaves': 132,\n",
    "#           'feature_fraction': 0.991110639036875,\n",
    "#           'bagging_fraction': 0.806081033664652,\n",
    "#           'bagging_freq': 2,\n",
    "#           'min_child_samples': 191,\n",
    "#           'cat_smooth': 100,\n",
    "#           'max_depth': 50,\n",
    "#           'learning_rate': 0.014,\n",
    "#           'subsample': 1.0,\n",
    "#           'reg_alpha': 0.001686292659297514,\n",
    "#           'reg_lambda': 0.7879699485443895,\n",
    "#           'colsample_bytree': 0.5,\n",
    "#           'metric': {'auc'}}\n",
    "\n",
    "NFOLDS = 5\n",
    "folds = StratifiedKFold(n_splits=NFOLDS)\n",
    "\n",
    "columns = X.columns\n",
    "splits = folds.split(X, y)\n",
    "y_preds = np.zeros(test_x.shape[0])\n",
    "score = 0\n",
    "\n",
    "feature_importances = pd.DataFrame()\n",
    "feature_importances['feature'] = columns\n",
    "\n",
    "for fold_n, (train_index, valid_index) in enumerate(splits):\n",
    "    X_train, X_valid = X[columns].iloc[train_index], X[columns].iloc[valid_index]\n",
    "    y_train, y_valid = y.iloc[train_index], y.iloc[valid_index]\n",
    "\n",
    "    dtrain = lgb.Dataset(X_train, label=y_train)\n",
    "    dvalid = lgb.Dataset(X_valid, label=y_valid)\n",
    "\n",
    "    clf = lgb.train(params, dtrain, 1000, valid_sets=[\n",
    "                    dtrain, dvalid], verbose_eval=200, early_stopping_rounds=200)\n",
    "\n",
    "    feature_importances[f'fold_{fold_n + 1}'] = clf.feature_importance()\n",
    "\n",
    "    y_pred_valid = clf.predict(X_valid)\n",
    "    print(y_pred_valid)\n",
    "    print(f\"Fold {fold_n + 1} | AUC: {roc_auc_score(y_valid, y_pred_valid)}\")\n",
    "\n",
    "    score += roc_auc_score(y_valid, y_pred_valid) / NFOLDS\n",
    "    y_preds += clf.predict(test_x) / NFOLDS\n",
    "    del X_train, X_valid, y_train, y_valid\n",
    "    gc.collect()\n",
    "\n",
    "print(f\"\\nMean AUC = {score}\")\n",
    "print(f\"Out of folds AUC = {roc_auc_score(test_y, y_preds)}\")"
   ]
  },
  {
   "cell_type": "code",
   "execution_count": null,
   "metadata": {
    "ExecuteTime": {
     "start_time": "2021-08-22T13:39:59.383Z"
    }
   },
   "outputs": [],
   "source": [
    "pred_labels = np.rint(y_preds)\n",
    "accuracy = accuracy_score(test_y, pred_labels)\n",
    "print(\"accuarcy: %.2f%%\" % (accuracy*100.0))"
   ]
  },
  {
   "cell_type": "code",
   "execution_count": null,
   "metadata": {
    "ExecuteTime": {
     "start_time": "2021-08-22T13:39:59.386Z"
    }
   },
   "outputs": [],
   "source": [
    "import seaborn as sns\n",
    "sns.set(font='LiSu')\n",
    "feature_importance_gain=pd.DataFrame()\n",
    "feature_importance_gain['feature']=columns\n",
    "feature_importance_gain['fold_1']=clf.feature_importance(importance_type='gain')\n",
    "feature_importance_gain['average'] = feature_importances[[f'fold_{fold_n + 1}' for fold_n in range(1)]].mean(axis=1)\n",
    "plt.figure(figsize=(16, 16))\n",
    "sns.barplot(data=feature_importance_gain.sort_values(by='average', ascending=False).head(50), x='average', y='feature');\n",
    "plt.title('100 TOP feature importance over {} folds average'.format(folds.n_splits));"
   ]
  },
  {
   "cell_type": "code",
   "execution_count": null,
   "metadata": {
    "ExecuteTime": {
     "start_time": "2021-08-22T13:39:59.394Z"
    }
   },
   "outputs": [],
   "source": [
    "import sweetviz as sv\n",
    "# 可以选择目标特征\n",
    "my_report = sv.analyze(train, target_feat ='result')\n",
    "my_report.show_html()"
   ]
  },
  {
   "cell_type": "code",
   "execution_count": null,
   "metadata": {
    "ExecuteTime": {
     "start_time": "2021-08-22T13:39:59.397Z"
    }
   },
   "outputs": [],
   "source": [
    "my_report.show_html()"
   ]
  },
  {
   "cell_type": "code",
   "execution_count": null,
   "metadata": {},
   "outputs": [],
   "source": []
  }
 ],
 "metadata": {
  "kernelspec": {
   "display_name": "Python 3",
   "language": "python",
   "name": "python3"
  },
  "language_info": {
   "codemirror_mode": {
    "name": "ipython",
    "version": 3
   },
   "file_extension": ".py",
   "mimetype": "text/x-python",
   "name": "python",
   "nbconvert_exporter": "python",
   "pygments_lexer": "ipython3",
   "version": "3.8.5"
  },
  "toc": {
   "base_numbering": 1,
   "nav_menu": {},
   "number_sections": true,
   "sideBar": true,
   "skip_h1_title": false,
   "title_cell": "Table of Contents",
   "title_sidebar": "Contents",
   "toc_cell": false,
   "toc_position": {},
   "toc_section_display": true,
   "toc_window_display": false
  }
 },
 "nbformat": 4,
 "nbformat_minor": 4
}
