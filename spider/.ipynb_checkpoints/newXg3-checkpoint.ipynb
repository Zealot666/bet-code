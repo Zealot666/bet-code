{
 "cells": [
  {
   "cell_type": "code",
   "execution_count": 157,
   "metadata": {
    "ExecuteTime": {
     "end_time": "2021-09-27T11:11:03.077928Z",
     "start_time": "2021-09-27T11:11:03.069932Z"
    },
    "colab": {
     "base_uri": "https://localhost:8080/"
    },
    "id": "sweheA5JE1Um",
    "outputId": "3338da98-f3f9-414b-92c8-aa1c3070a18c"
   },
   "outputs": [],
   "source": [
    "import json\n",
    "import pandas as pd\n",
    "import pymongo\n",
    "import matplotlib as mpl\n",
    "import numpy as np\n",
    "import matplotlib.pyplot as plt"
   ]
  },
  {
   "cell_type": "code",
   "execution_count": 158,
   "metadata": {
    "ExecuteTime": {
     "end_time": "2021-09-27T11:11:03.170874Z",
     "start_time": "2021-09-27T11:11:03.079926Z"
    },
    "id": "dQ2cjdK9EdIH"
   },
   "outputs": [],
   "source": [
    "def reduce_mem_usage(df):\n",
    "    \"\"\" iterate through all the columns of a dataframe and modify the data type\n",
    "        to reduce memory usage.        \n",
    "    \"\"\"\n",
    "    start_mem = df.memory_usage().sum() / 1024**2\n",
    "    print('Memory usage of dataframe is {:.2f} MB'.format(start_mem))\n",
    "\n",
    "    for col in df.columns:\n",
    "        col_type = df[col].dtype\n",
    "        if col_type != object:\n",
    "            c_min = df[col].min()\n",
    "            c_max = df[col].max()\n",
    "            if str(col_type)[:3] == 'int':\n",
    "                if c_min > np.iinfo(np.int8).min and c_max < np.iinfo(np.int8).max:\n",
    "                    df[col] = df[col].astype(np.int8)\n",
    "                elif c_min > np.iinfo(np.int16).min and c_max < np.iinfo(np.int16).max:\n",
    "                    df[col] = df[col].astype(np.int16)\n",
    "                elif c_min > np.iinfo(np.int32).min and c_max < np.iinfo(np.int32).max:\n",
    "                    df[col] = df[col].astype(np.int32)\n",
    "                elif c_min > np.iinfo(np.int64).min and c_max < np.iinfo(np.int64).max:\n",
    "                    df[col] = df[col].astype(np.int64)\n",
    "            else:\n",
    "                df[col] = df[col].astype(np.float32)\n",
    "\n",
    "    end_mem = df.memory_usage().sum() / 1024**2\n",
    "    print('Memory usage after optimization is: {:.2f} MB'.format(end_mem))\n",
    "    print('Decreased by {:.1f}%'.format(\n",
    "        100 * (start_mem - end_mem) / start_mem))\n",
    "\n",
    "    return df"
   ]
  },
  {
   "cell_type": "code",
   "execution_count": 159,
   "metadata": {
    "ExecuteTime": {
     "end_time": "2021-09-27T11:11:03.247831Z",
     "start_time": "2021-09-27T11:11:03.173872Z"
    },
    "id": "EQ6sA0qwEdIJ"
   },
   "outputs": [],
   "source": [
    "def getGoalMid(masterGoal, guestGoal, masterMidGoal, guestMidGoal):\n",
    "    return int(masterGoal) + int(guestGoal) - int(masterMidGoal) - int(guestMidGoal)\n",
    "\n",
    "\n",
    "def removeSub(pankou):\n",
    "    pankou = pankou.replace(\"升\", \"\")\n",
    "    pankou = pankou.replace(\"降\", \"\")\n",
    "    return pankou.strip()\n",
    "\n",
    "\n",
    "def getResult(masterGoal, guestGoal, pankou):\n",
    "    pankouList = removeSub(pankou).split(\"/\")\n",
    "    row = 0\n",
    "    for p in pankouList:\n",
    "        row += float(p)\n",
    "    row = row / len(pankouList)\n",
    "\n",
    "    if masterGoal + guestGoal - row >= 0:\n",
    "        return 1\n",
    "    if masterGoal + guestGoal - row < 0:\n",
    "        return 0\n",
    "\n",
    "\n",
    "def getType(yapanMasterStartOdd, yapanGuestStartOdd, yapanPankouStart):\n",
    "    linTypeStart = get18(yapanMasterStartOdd, yapanGuestStartOdd)\n",
    "    return str(linTypeStart) + \"_\" + str(yapanPankouStart)\n",
    "\n",
    "\n",
    "def get18(master, guest):\n",
    "    if master > guest:\n",
    "        return 18\n",
    "    if master < guest:\n",
    "        return 81\n",
    "    if master == guest:\n",
    "        return 99\n",
    "\n",
    "\n",
    "def daxiao_num(x):\n",
    "    x_list = x.split(\"/\")\n",
    "    num = 0\n",
    "    for i in x_list:\n",
    "        num += float(i)\n",
    "    return (float(num)/len(x_list))\n",
    "\n",
    "\n",
    "def realDaxiao(x, master, guest):\n",
    "    return float(x) - int(master) - int(guest)\n",
    "\n",
    "\n",
    "def shengjiang(start, end):\n",
    "    return ((end) - (start))\n",
    "\n",
    "def round2(x):\n",
    "    return round((x), 2)"
   ]
  },
  {
   "cell_type": "code",
   "execution_count": 160,
   "metadata": {
    "ExecuteTime": {
     "end_time": "2021-09-27T11:11:03.277817Z",
     "start_time": "2021-09-27T11:11:03.250828Z"
    },
    "id": "z5MN0RQYEdIK"
   },
   "outputs": [],
   "source": [
    "def fillNa(x, value):\n",
    "    if pd.isnull(x):\n",
    "        return value\n",
    "    else:\n",
    "        return x\n",
    "\n",
    "    \n",
    "def preF(test):\n",
    "\n",
    "    test['result'] = test.apply(lambda x: getResult(\n",
    "        x['masterGoal'], x['guestGoal'], x['pankouOdd_End_Zhong_3']), axis=1)\n",
    "\n",
    "    test['goalMid'] = test.apply(lambda x: getGoalMid(\n",
    "        x['masterGoal'], x['guestGoal'], x['midGuestGoal'], x['midMasterGoal']), axis=1)\n",
    "\n",
    "    test['zhongbifengNew'] = test['midMasterGoal'].astype(\n",
    "        str) + \"_\" + test['midGuestGoal'].astype(str)\n",
    "\n",
    "#     test['zhongbifeng'] = test['masterMidGoal']+ test['guestMidGoal']\n",
    "    test[\"water_type_mid\"] =  test['masterOdd_End_Zhong_3'] + test['guestOdd_End_Zhong_3']\n",
    "    test[\"water_type_mid\"] =  test[\"water_type_mid\"].map(round2)\n",
    "    test[\"water_type_mid\"] =  test[\"water_type_mid\"].astype(str)\n",
    "\n",
    "    test['pankou_Start_Ji_3'] = test.apply(\n",
    "        lambda x: removeSub(x['pankou_Start_Ji_3']), axis=1)\n",
    "    test['pankouOdd_End_Ji_3'] = test.apply(\n",
    "        lambda x: removeSub(x['pankouOdd_End_Ji_3']), axis=1)\n",
    "\n",
    "    test['pankou_Start_Zhong_3'] = test.apply(\n",
    "        lambda x: removeSub(x['pankou_Start_Zhong_3']), axis=1)\n",
    "    test['pankouOdd_End_Zhong_3'] = test.apply(\n",
    "        lambda x: removeSub(x['pankouOdd_End_Zhong_3']), axis=1)\n",
    "\n",
    "#     pankou = [\"pankou_Start_Ji_3\",\"pankouOdd_End_Ji_3\",\"pankou_Start_Zhong_3\",\"pankouOdd_End_Zhong_3\"]\n",
    "\n",
    "#     for col in pankou:\n",
    "#         test[col] = test[col].map(daxiao_num)\n",
    "\n",
    "#     pankou = [\"pankouOdd_End_Zhong_3\"]\n",
    "\n",
    "#     for col in pankou:\n",
    "#         nm = col+\"Real\"\n",
    "#         test[nm] = test.apply(lambda x: realDaxiao(x[col],x['midGuestGoal'],x['midMasterGoal']), axis=1)\n",
    "\n",
    "#     test['daxiaoPankouShengJiang'] = test.apply(lambda x: shengjiang(x['daxiaoPankouStart'],x['daxiaoPankou']), axis=1)\n",
    "\n",
    "#     test['daxiaoPankouMidShengJiang'] = test.apply(lambda x: shengjiang(x['daxiaoPankouStartMid'],x['daxiaoPankouMid']), axis=1)\n",
    "    \n",
    "    test['daxiaoTypeStart'] = test.apply(lambda x: getType(\n",
    "        x['masterOdd_Start_Ji_3'], x['guestOdd_Start_Ji_3'], x['pankou_Start_Ji_3']), axis=1)\n",
    "    test['daxiaoType'] = test.apply(lambda x: getType(\n",
    "        x['masterOdd_End_Ji_3'], x['guestOdd_End_Ji_3'], x['pankouOdd_End_Ji_3']), axis=1)\n",
    "    test['daxiaoTypeStartMid'] = test.apply(lambda x: getType(\n",
    "        x['masterOdd_Start_Zhong_3'], x['guestOdd_Start_Zhong_3'], x['pankou_Start_Zhong_3']), axis=1)\n",
    "    test['daxiaoTypeMid'] = test.apply(lambda x: getType(\n",
    "        x['masterOdd_End_Zhong_3'], x['guestOdd_End_Zhong_3'], x['pankouOdd_End_Zhong_3']), axis=1)\n",
    "\n",
    "    test['daxiaoTypeAll'] = test['daxiaoTypeMid'] + test['daxiaoTypeStartMid'] + test['daxiaoType'] + test['daxiaoTypeStart'] \n",
    "\n",
    "    test = test.drop(['daxiaoTypeStart', 'daxiaoType','daxiaoTypeStartMid','daxiaoTypeMid'], axis=1)\n",
    "\n",
    "\n",
    "#     test['MasterOddFlowMid'+] = test[\"daxiaoMasterOddMid\"] - test[\"daxiaoMasterStartOddMid\"]\n",
    "#     test['MasterOddFlow'] = test[\"daxiaoMasterOdd\"] - test[\"daxiaoMasterStartOdd\"]\n",
    "\n",
    "    test = test[test['goalMid'] >= 0]\n",
    "#     test = test[(test['daxiaoMasterStartOdd'] >= 0.75) & (test['daxiaoMasterStartOdd'] < 1.20)]\n",
    "#     test = test[(test['daxiaoMasterOdd'] >= 0.75) & (test['daxiaoMasterOdd'] < 1.20)]\n",
    "#     test = test[(test['daxiaoGuestOddMid'] >= 0.75) & (test['daxiaoGuestOddMid'] < 1.20)]\n",
    "#     test = test[test['daxiaoPankouMid'].astype(float) <= test['daxiaoPankou'].astype(float)]\n",
    "#     test = test[(test[\"daxiaoPankouMidReal\"].astype(float)<=2) & (test[\"daxiaoPankouMidReal\"].astype(float)>=1)]\n",
    "\n",
    "    test = test.drop(columns=['masterGoal', 'guestGoal', \"goalMid\"])\n",
    "    test = test.drop(columns=['midGuestGoal', 'midMasterGoal'])\n",
    "\n",
    "    return test"
   ]
  },
  {
   "cell_type": "code",
   "execution_count": 161,
   "metadata": {
    "ExecuteTime": {
     "end_time": "2021-09-27T11:11:03.308798Z",
     "start_time": "2021-09-27T11:11:03.280815Z"
    },
    "id": "vN7FAlDIEdIO"
   },
   "outputs": [],
   "source": [
    "# def getShuiPing(x):\n",
    "#     result = 11\n",
    "#     if x <= 0.75:\n",
    "#         result = 0\n",
    "#     if 0.75< x and x<=0.80:\n",
    "#         result = 1\n",
    "#     if 0.80<x and x<=0.85:\n",
    "#         result = 3\n",
    "#     if 0.85<x and x<=0.90:\n",
    "#         result = 4\n",
    "#     if 0.95<x and x<=1.00:\n",
    "#         result = 5\n",
    "#     if 1.00<x and x<=1.08:\n",
    "#         result = 6\n",
    "#     if 1.08<x and x<=1.10:\n",
    "#         result = 7\n",
    "#     if 1.10<x and x<=1.15:\n",
    "#         result = 8\n",
    "#     if 1.15<x and x<=1.20:\n",
    "#         result = 9\n",
    "#     if x > 1.20:\n",
    "#         result = 10\n",
    "#     return result\n",
    "\n",
    "def getShuiPing(x):\n",
    "    result = 11\n",
    "    if x < 0.75:\n",
    "        result = 0\n",
    "    if 0.75<= x and x<=0.85:\n",
    "        result = 1\n",
    "    if 0.85<x and x<=0.90:\n",
    "        result = 2\n",
    "    if 0.90<x and x<=0.95:\n",
    "        result = 3\n",
    "    if 0.95<x and x<=1.00:\n",
    "        result = 4\n",
    "    if 1.00<x and x<=1.08:\n",
    "        result = 5\n",
    "    if 1.08<x:\n",
    "        result = 6\n",
    "    return result\n",
    "\n",
    "def num_fea_dis(df,features):\n",
    "    for f in features:\n",
    "        nm = f+'_'+'shuiPing'\n",
    "        df[nm] = df[f].map(getShuiPing)\n",
    "    return df"
   ]
  },
  {
   "cell_type": "code",
   "execution_count": 162,
   "metadata": {
    "ExecuteTime": {
     "end_time": "2021-09-27T11:11:12.694868Z",
     "start_time": "2021-09-27T11:11:03.310644Z"
    },
    "id": "2m0feaeSEdIQ"
   },
   "outputs": [],
   "source": [
    "myclient = pymongo.MongoClient(\"mongodb://localhost:27017/\")\n",
    "mydb = myclient[\"soccerData\"]\n",
    "mycol = mydb[\"midDaxiao007v2\"]\n",
    "data_mid = pd.DataFrame(list(mycol.find()))\n",
    "data_mid = data_mid.drop(['_id','place'], axis=1)"
   ]
  },
  {
   "cell_type": "code",
   "execution_count": 163,
   "metadata": {
    "ExecuteTime": {
     "end_time": "2021-09-27T11:11:13.007216Z",
     "start_time": "2021-09-27T11:11:12.696888Z"
    }
   },
   "outputs": [
    {
     "name": "stdout",
     "output_type": "stream",
     "text": [
      "<class 'pandas.core.frame.DataFrame'>\n",
      "RangeIndex: 421507 entries, 0 to 421506\n",
      "Data columns (total 18 columns):\n",
      " #   Column                   Non-Null Count   Dtype  \n",
      "---  ------                   --------------   -----  \n",
      " 0   guestGoal                421507 non-null  int64  \n",
      " 1   lianShai                 421507 non-null  object \n",
      " 2   masterGoal               421507 non-null  int64  \n",
      " 3   midGuestGoal             421507 non-null  object \n",
      " 4   midMasterGoal            421507 non-null  object \n",
      " 5   time                     421507 non-null  object \n",
      " 6   guestOdd_End_Ji_3        412749 non-null  float64\n",
      " 7   guestOdd_Start_Ji_3      412749 non-null  float64\n",
      " 8   masterOdd_End_Ji_3       412749 non-null  float64\n",
      " 9   masterOdd_Start_Ji_3     412749 non-null  float64\n",
      " 10  pankouOdd_End_Ji_3       412749 non-null  object \n",
      " 11  pankou_Start_Ji_3        412749 non-null  object \n",
      " 12  guestOdd_End_Zhong_3     334424 non-null  float64\n",
      " 13  guestOdd_Start_Zhong_3   334424 non-null  float64\n",
      " 14  masterOdd_End_Zhong_3    334424 non-null  float64\n",
      " 15  masterOdd_Start_Zhong_3  334424 non-null  float64\n",
      " 16  pankouOdd_End_Zhong_3    334424 non-null  object \n",
      " 17  pankou_Start_Zhong_3     334424 non-null  object \n",
      "dtypes: float64(8), int64(2), object(8)\n",
      "memory usage: 57.9+ MB\n"
     ]
    }
   ],
   "source": [
    "data_mid.info()"
   ]
  },
  {
   "cell_type": "code",
   "execution_count": 164,
   "metadata": {
    "ExecuteTime": {
     "end_time": "2021-09-27T11:11:13.022692Z",
     "start_time": "2021-09-27T11:11:13.010217Z"
    }
   },
   "outputs": [],
   "source": [
    "# data_mid = pd.read_csv('data_mid.csv')\n",
    "# data_mid = data_mid.drop(['Unnamed: 0'], axis=1)"
   ]
  },
  {
   "cell_type": "code",
   "execution_count": 165,
   "metadata": {
    "ExecuteTime": {
     "end_time": "2021-09-27T11:11:13.052983Z",
     "start_time": "2021-09-27T11:11:13.025695Z"
    }
   },
   "outputs": [],
   "source": [
    "pd.set_option('display.max_columns', None)"
   ]
  },
  {
   "cell_type": "code",
   "execution_count": 166,
   "metadata": {
    "ExecuteTime": {
     "end_time": "2021-09-27T11:11:13.581541Z",
     "start_time": "2021-09-27T11:11:13.054749Z"
    }
   },
   "outputs": [],
   "source": [
    "data_mid = data_mid.dropna()"
   ]
  },
  {
   "cell_type": "code",
   "execution_count": 167,
   "metadata": {
    "ExecuteTime": {
     "end_time": "2021-09-27T11:12:27.900891Z",
     "start_time": "2021-09-27T11:11:13.583527Z"
    }
   },
   "outputs": [
    {
     "name": "stdout",
     "output_type": "stream",
     "text": [
      "Memory usage of dataframe is 47.21 MB\n",
      "Memory usage after optimization is: 32.92 MB\n",
      "Decreased by 30.3%\n"
     ]
    }
   ],
   "source": [
    "data_mid = reduce_mem_usage(data_mid)\n",
    "data_mid = preF(data_mid)"
   ]
  },
  {
   "cell_type": "code",
   "execution_count": 168,
   "metadata": {
    "ExecuteTime": {
     "end_time": "2021-09-27T11:12:27.915888Z",
     "start_time": "2021-09-27T11:12:27.902880Z"
    }
   },
   "outputs": [],
   "source": [
    "# data_mid = num_fea_dis(data_mid,fes)"
   ]
  },
  {
   "cell_type": "code",
   "execution_count": 169,
   "metadata": {
    "ExecuteTime": {
     "end_time": "2021-09-27T11:12:27.948038Z",
     "start_time": "2021-09-27T11:12:27.917903Z"
    }
   },
   "outputs": [],
   "source": [
    "# data_mid['daxiaoTypeStartOdd'] = data_mid['daxiaoMasterStartOdd_shuiPing'].astype(str) + data_mid['daxiaoGuestStartOdd_shuiPing'].astype(str) + data_mid['daxiaoPankouStart'].astype(str)\n",
    "# data_mid['daxiaoTypeOdd'] = data_mid['daxiaoMasterOdd_shuiPing'].astype(str) + data_mid['daxiaoGuestOdd_shuiPing'].astype(str) + data_mid['daxiaoPankou'].astype(str)\n",
    "# data_mid['daxiaoTypeStartMidOdd'] = data_mid['daxiaoMasterStartOddMid_shuiPing'].astype(str) + data_mid['daxiaoGuestStartOddMid_shuiPing'].astype(str) + data_mid['daxiaoPankouStartMid'].astype(str)\n",
    "# data_mid['daxiaoTypeMidOdd'] = data_mid['daxiaoMasterOddMid_shuiPing'].astype(str) + data_mid['daxiaoGuestOddMid_shuiPing'].astype(str) + data_mid['daxiaoPankouMid'].astype(str)\n",
    "    \n",
    "# data_mid['daxiaoTypeAllOdd'] = data_mid['daxiaoTypeStartOdd'] + data_mid['daxiaoTypeOdd'] + data_mid['daxiaoTypeStartMidOdd'] + data_mid['daxiaoTypeMidOdd'] + data_mid['zhongbifengNew']\n",
    "    \n",
    "# data_mid = data_mid.drop(['daxiaoTypeStartOdd', 'daxiaoTypeOdd','daxiaoTypeStartMidOdd','daxiaoTypeMidOdd'], axis=1)\n",
    "\n",
    "# for col in fes:\n",
    "#     data_mid = data_mid.drop(col+\"_shuiPing\", axis=1)"
   ]
  },
  {
   "cell_type": "code",
   "execution_count": null,
   "metadata": {
    "ExecuteTime": {
     "end_time": "2021-09-23T15:31:42.876473Z",
     "start_time": "2021-09-23T15:31:42.855471Z"
    }
   },
   "outputs": [],
   "source": []
  },
  {
   "cell_type": "code",
   "execution_count": null,
   "metadata": {
    "ExecuteTime": {
     "end_time": "2021-09-19T16:21:29.679556Z",
     "start_time": "2021-09-19T16:21:29.638580Z"
    }
   },
   "outputs": [],
   "source": []
  },
  {
   "cell_type": "code",
   "execution_count": 170,
   "metadata": {
    "ExecuteTime": {
     "end_time": "2021-09-27T11:12:28.010648Z",
     "start_time": "2021-09-27T11:12:27.949997Z"
    }
   },
   "outputs": [
    {
     "data": {
      "text/plain": [
       "array(['1.82', '1.86', '1.84', '1.8', '1.83', '1.87', '1.7', '1.88',\n",
       "       '1.85', '1.9', '1.76', '1.89', '1.81', '1.91', '1.99', '2.2',\n",
       "       '1.92', '2.23', '1.77', '2.06', '2.04', '2.03', '1.97', '2.18',\n",
       "       '1.78', '1.98', '2.33', '2.07', '2.3', '2.43', '2.47', '1.95',\n",
       "       '2.0', '1.79', '1.75', '1.93', '1.72', '1.6', '1.96', '1.71',\n",
       "       '2.16', '2.05', '1.94', '2.12', '2.01', '2.35', '2.29', '2.08',\n",
       "       '2.81', '1.74', '2.25', '2.36', '1.73', '2.87', '2.19', '2.89',\n",
       "       '2.15', '2.61', '1.61', '2.02', '2.39', '2.14', '2.17', '2.26',\n",
       "       '2.1', '2.49', '2.21', '2.6', '2.51', '2.27', '2.24', '2.09',\n",
       "       '2.22', '2.37', '3.29', '2.32', '3.14', '2.7', '2.31', '2.11',\n",
       "       '1.54', '1.68'], dtype=object)"
      ]
     },
     "execution_count": 170,
     "metadata": {},
     "output_type": "execute_result"
    }
   ],
   "source": [
    "data_mid['water_type_mid'].unique()"
   ]
  },
  {
   "cell_type": "code",
   "execution_count": null,
   "metadata": {
    "ExecuteTime": {
     "end_time": "2021-09-24T15:09:34.010332Z",
     "start_time": "2021-09-24T15:09:33.724496Z"
    }
   },
   "outputs": [],
   "source": []
  },
  {
   "cell_type": "code",
   "execution_count": 171,
   "metadata": {
    "ExecuteTime": {
     "end_time": "2021-09-27T11:12:28.458899Z",
     "start_time": "2021-09-27T11:12:28.013647Z"
    }
   },
   "outputs": [
    {
     "name": "stdout",
     "output_type": "stream",
     "text": [
      "<class 'pandas.core.frame.DataFrame'>\n",
      "Int64Index: 325666 entries, 1 to 421506\n",
      "Data columns (total 18 columns):\n",
      " #   Column                   Non-Null Count   Dtype  \n",
      "---  ------                   --------------   -----  \n",
      " 0   lianShai                 325666 non-null  object \n",
      " 1   time                     325666 non-null  object \n",
      " 2   guestOdd_End_Ji_3        325666 non-null  float32\n",
      " 3   guestOdd_Start_Ji_3      325666 non-null  float32\n",
      " 4   masterOdd_End_Ji_3       325666 non-null  float32\n",
      " 5   masterOdd_Start_Ji_3     325666 non-null  float32\n",
      " 6   pankouOdd_End_Ji_3       325666 non-null  object \n",
      " 7   pankou_Start_Ji_3        325666 non-null  object \n",
      " 8   guestOdd_End_Zhong_3     325666 non-null  float32\n",
      " 9   guestOdd_Start_Zhong_3   325666 non-null  float32\n",
      " 10  masterOdd_End_Zhong_3    325666 non-null  float32\n",
      " 11  masterOdd_Start_Zhong_3  325666 non-null  float32\n",
      " 12  pankouOdd_End_Zhong_3    325666 non-null  object \n",
      " 13  pankou_Start_Zhong_3     325666 non-null  object \n",
      " 14  result                   325666 non-null  int64  \n",
      " 15  zhongbifengNew           325666 non-null  object \n",
      " 16  water_type_mid           325666 non-null  object \n",
      " 17  daxiaoTypeAll            325666 non-null  object \n",
      "dtypes: float32(8), int64(1), object(9)\n",
      "memory usage: 37.3+ MB\n"
     ]
    }
   ],
   "source": [
    "data_mid.info()"
   ]
  },
  {
   "cell_type": "code",
   "execution_count": 172,
   "metadata": {
    "ExecuteTime": {
     "end_time": "2021-09-27T11:12:28.474890Z",
     "start_time": "2021-09-27T11:12:28.461897Z"
    }
   },
   "outputs": [],
   "source": [
    "# data_mid['time'] = pd.to_datetime(data_mid['time'], format='%Y%m%d %H:%M:%S')\n",
    "# data_mid['year']    = data_mid['time'].dt.year\n",
    "# data_mid['month']   = data_mid['time'].dt.month\n",
    "# data_mid['weekofyear']     = data_mid['time'].dt.weekofyear\n",
    "# data_mid['day_of_year'] = data_mid['time'].dt.day_of_year\n",
    "# data_mid['weekday'] = data_mid['time'].dt.day_of_week\n",
    "# data_mid['is_year_start']    = data_mid['time'].dt.is_year_start \n",
    "# data_mid['is_quarter_start'] = data_mid['time'].dt.is_quarter_start \n",
    "# data_mid['is_month_start']   = data_mid['time'].dt.is_month_start \n",
    "# data_mid['is_month_end']     = data_mid['time'].dt.is_month_end\n",
    "# data_mid['is_weekend']       = np.where(data_mid['weekday'].isin([5,6]), 1,0)"
   ]
  },
  {
   "cell_type": "code",
   "execution_count": 173,
   "metadata": {
    "ExecuteTime": {
     "end_time": "2021-09-27T11:12:28.505905Z",
     "start_time": "2021-09-27T11:12:28.476889Z"
    }
   },
   "outputs": [],
   "source": [
    "# data_mid['time'] = data_mid['time'].astype(str)"
   ]
  },
  {
   "cell_type": "code",
   "execution_count": 174,
   "metadata": {
    "ExecuteTime": {
     "end_time": "2021-09-27T11:12:28.536968Z",
     "start_time": "2021-09-27T11:12:28.507902Z"
    },
    "id": "Et6vvrqFEdIc"
   },
   "outputs": [],
   "source": [
    "import gc\n",
    "\n",
    "def encode_CB(col1,col2,df1,name=\"\"):\n",
    "    if name == \"\":\n",
    "        nm = col1+'_'+col2\n",
    "    else:\n",
    "        nm = name\n",
    "    nm = col1+'_'+col2\n",
    "    df1[nm] = df1[col1].astype(str)+'_'+df1[col2].astype(str)\n",
    "\n",
    "def encode_CB3(col1,col2,col3,df1,name=\"\"):\n",
    "    if name == \"\":\n",
    "        nm = col1+'_'+col2+'_'+col3\n",
    "    else:\n",
    "        nm = name\n",
    "    df1[nm] = df1[col1].astype(str)+'_'+df1[col2].astype(str)+'_'+df1[col3].astype(str)"
   ]
  },
  {
   "cell_type": "code",
   "execution_count": 175,
   "metadata": {
    "ExecuteTime": {
     "end_time": "2021-09-27T11:12:28.567967Z",
     "start_time": "2021-09-27T11:12:28.538981Z"
    },
    "id": "nBk6_kynEdId"
   },
   "outputs": [],
   "source": [
    "# encode_CB(\"daxiaoPankou\",\"daxiaoPankouMid\",data_mid)\n",
    "# encode_CB(\"daxiaoPankouStartMid\",\"daxiaoPankouMid\",data_mid)"
   ]
  },
  {
   "cell_type": "code",
   "execution_count": 176,
   "metadata": {
    "ExecuteTime": {
     "end_time": "2021-09-27T11:12:28.600035Z",
     "start_time": "2021-09-27T11:12:28.569952Z"
    }
   },
   "outputs": [],
   "source": [
    "# data_mid = data_mid.sort_values('time')\n",
    "# train = data_mid[:230000]\n",
    "# test = data_mid[230000:]\n",
    "\n",
    "# idMap = data_mid[[\"place\", \"result\"]].set_index(\"place\").to_dict()[\"result\"]\n",
    "# test_y = test['result']\n",
    "# test = test.drop(['result'], axis=1)\n",
    "# data_mid = pd.concat([train,test])\n",
    "\n",
    "# fes = ['daxiaoMasterStartOdd','daxiaoGuestStartOdd',\n",
    "#        'daxiaoMasterOdd','daxiaoGuestOdd',\n",
    "#        'daxiaoMasterStartOddMid','daxiaoGuestStartOddMid',\n",
    "#        'daxiaoMasterOddMid','daxiaoGuestOddMid']\n",
    "\n",
    "# fes = []\n",
    "\n",
    "# listOdd = ['typeLinStartReal', 'typeLinEndReal','typeLinStart'] + fes\n",
    "\n",
    "# for day in [7,30,140]:\n",
    "#     for odd in listOdd:\n",
    "#         data_mid.sort_values([odd, 'time'], ascending=[True, True], inplace=True)\n",
    "#         def f_mean(x): return x.rolling(window=day, min_periods=1).mean()\n",
    "#         def f_std(x): return x.rolling(window=day, min_periods=1).std()\n",
    "#         function_list = [f_mean, f_std]\n",
    "#         function_name = ['mean', 'std']\n",
    "#         for i in range(len(function_list)):\n",
    "#             data_mid['stat_' + odd + \"_\" + function_name[i] + \"_\" + str(day)] = data_mid.sort_values(\n",
    "#                 'time').groupby([odd])['result'].apply(function_list[i])\n",
    "# data_mid['result'] = data_mid['place'].map(idMap)\n",
    "# data_mid = data_mid.sort_values('time')"
   ]
  },
  {
   "cell_type": "code",
   "execution_count": 177,
   "metadata": {
    "ExecuteTime": {
     "end_time": "2021-09-27T11:12:28.927075Z",
     "start_time": "2021-09-27T11:12:28.602162Z"
    }
   },
   "outputs": [
    {
     "name": "stdout",
     "output_type": "stream",
     "text": [
      "<class 'pandas.core.frame.DataFrame'>\n",
      "Int64Index: 325666 entries, 1 to 421506\n",
      "Data columns (total 18 columns):\n",
      " #   Column                   Non-Null Count   Dtype  \n",
      "---  ------                   --------------   -----  \n",
      " 0   lianShai                 325666 non-null  object \n",
      " 1   time                     325666 non-null  object \n",
      " 2   guestOdd_End_Ji_3        325666 non-null  float32\n",
      " 3   guestOdd_Start_Ji_3      325666 non-null  float32\n",
      " 4   masterOdd_End_Ji_3       325666 non-null  float32\n",
      " 5   masterOdd_Start_Ji_3     325666 non-null  float32\n",
      " 6   pankouOdd_End_Ji_3       325666 non-null  object \n",
      " 7   pankou_Start_Ji_3        325666 non-null  object \n",
      " 8   guestOdd_End_Zhong_3     325666 non-null  float32\n",
      " 9   guestOdd_Start_Zhong_3   325666 non-null  float32\n",
      " 10  masterOdd_End_Zhong_3    325666 non-null  float32\n",
      " 11  masterOdd_Start_Zhong_3  325666 non-null  float32\n",
      " 12  pankouOdd_End_Zhong_3    325666 non-null  object \n",
      " 13  pankou_Start_Zhong_3     325666 non-null  object \n",
      " 14  result                   325666 non-null  int64  \n",
      " 15  zhongbifengNew           325666 non-null  object \n",
      " 16  water_type_mid           325666 non-null  object \n",
      " 17  daxiaoTypeAll            325666 non-null  object \n",
      "dtypes: float32(8), int64(1), object(9)\n",
      "memory usage: 37.3+ MB\n"
     ]
    }
   ],
   "source": [
    "data_mid.info()"
   ]
  },
  {
   "cell_type": "code",
   "execution_count": 178,
   "metadata": {
    "ExecuteTime": {
     "end_time": "2021-09-27T11:12:28.942068Z",
     "start_time": "2021-09-27T11:12:28.930074Z"
    }
   },
   "outputs": [],
   "source": [
    "train = data_mid[:300000]\n",
    "test = data_mid[300000:]"
   ]
  },
  {
   "cell_type": "code",
   "execution_count": 179,
   "metadata": {
    "ExecuteTime": {
     "end_time": "2021-09-27T11:12:28.973078Z",
     "start_time": "2021-09-27T11:12:28.947064Z"
    },
    "id": "yLniPYUitKX0"
   },
   "outputs": [],
   "source": [
    "from sklearn.model_selection import  StratifiedKFold,KFold\n",
    "import category_encoders as ce\n",
    "\n",
    "def mean_woe_target_encoder(train,test,target,col,n_splits=10):\n",
    "    folds = StratifiedKFold(n_splits)\n",
    "\n",
    "    y_oof = np.zeros(train.shape[0])\n",
    "    y_oof_2= np.zeros(train.shape[0])\n",
    "    y_test_oof = np.zeros(test.shape[0]).reshape(-1,1)\n",
    "    y_test_oof2 = np.zeros(test.shape[0]).reshape(-1,1)\n",
    "\n",
    "    splits = folds.split(train, target)\n",
    "    \n",
    "    for fold_n, (train_index, valid_index) in enumerate(splits):\n",
    "        X_train, X_valid = train[col].iloc[train_index], train[col].iloc[valid_index]\n",
    "        y_train, y_valid = target.iloc[train_index], target.iloc[valid_index]\n",
    "        clf=ce.target_encoder.TargetEncoder()\n",
    "    \n",
    "        clf.fit(X_train.values,y_train.values)    \n",
    "        y_pred_valid = clf.transform(X_valid.values)\n",
    "\n",
    "        y_oof[valid_index] = y_pred_valid.values.reshape(1,-1)\n",
    "\n",
    "        tp=(clf.transform(test[col].values)/(n_splits*1.0)).values\n",
    "        tp=tp.reshape(-1,1)\n",
    "        y_test_oof+=tp    \n",
    "    \n",
    "        del X_train, X_valid, y_train, y_valid\n",
    "        gc.collect()    \n",
    "        \n",
    "    for fold_n, (train_index, valid_index) in enumerate(splits):\n",
    "        X_train, X_valid = train[col].iloc[train_index], train[col].iloc[valid_index]\n",
    "        y_train, y_valid = target.iloc[train_index], target.iloc[valid_index]\n",
    "        clf=ce.woe.WOEEncoder()\n",
    "    \n",
    "        clf.fit(X_train.values,y_train.values)    \n",
    "        y_pred_valid = clf.transform(X_valid.values)\n",
    "        y_oof2[valid_index] = y_pred_valid.values.reshape(1,-1)\n",
    "    \n",
    "        tp=(clf.transform(test[col].values)/(n_splits*1.0)).values\n",
    "        tp=tp.reshape(-1,1)\n",
    "        y_test_oof2+=tp    \n",
    "        del X_train, X_valid, y_train, y_valid\n",
    "        gc.collect()     \n",
    "    return y_oof,y_oof_2,y_test_oof,y_test_oof2"
   ]
  },
  {
   "cell_type": "code",
   "execution_count": null,
   "metadata": {
    "ExecuteTime": {
     "end_time": "2021-09-26T14:42:55.264798Z",
     "start_time": "2021-09-26T14:42:55.250806Z"
    }
   },
   "outputs": [],
   "source": []
  },
  {
   "cell_type": "code",
   "execution_count": 180,
   "metadata": {
    "ExecuteTime": {
     "end_time": "2021-09-27T11:12:29.129021Z",
     "start_time": "2021-09-27T11:12:28.975080Z"
    }
   },
   "outputs": [],
   "source": [
    "import gc\n",
    "cat_features = train.select_dtypes(include='object').columns"
   ]
  },
  {
   "cell_type": "code",
   "execution_count": 181,
   "metadata": {
    "ExecuteTime": {
     "end_time": "2021-09-27T11:12:29.314917Z",
     "start_time": "2021-09-27T11:12:29.132020Z"
    }
   },
   "outputs": [],
   "source": [
    "train_x =  train.drop(columns=['result'])\n",
    "train_y =  train['result']\n",
    "\n",
    "test_y = test['result']\n",
    "test_x =  test.drop(columns=['result'])"
   ]
  },
  {
   "cell_type": "code",
   "execution_count": null,
   "metadata": {
    "ExecuteTime": {
     "end_time": "2021-09-21T13:01:34.451068Z",
     "start_time": "2021-09-21T13:01:34.434078Z"
    }
   },
   "outputs": [],
   "source": []
  },
  {
   "cell_type": "code",
   "execution_count": 182,
   "metadata": {
    "ExecuteTime": {
     "end_time": "2021-09-27T11:12:29.638951Z",
     "start_time": "2021-09-27T11:12:29.320915Z"
    }
   },
   "outputs": [
    {
     "name": "stdout",
     "output_type": "stream",
     "text": [
      "<class 'pandas.core.frame.DataFrame'>\n",
      "Int64Index: 300000 entries, 1 to 388683\n",
      "Data columns (total 17 columns):\n",
      " #   Column                   Non-Null Count   Dtype  \n",
      "---  ------                   --------------   -----  \n",
      " 0   lianShai                 300000 non-null  object \n",
      " 1   time                     300000 non-null  object \n",
      " 2   guestOdd_End_Ji_3        300000 non-null  float32\n",
      " 3   guestOdd_Start_Ji_3      300000 non-null  float32\n",
      " 4   masterOdd_End_Ji_3       300000 non-null  float32\n",
      " 5   masterOdd_Start_Ji_3     300000 non-null  float32\n",
      " 6   pankouOdd_End_Ji_3       300000 non-null  object \n",
      " 7   pankou_Start_Ji_3        300000 non-null  object \n",
      " 8   guestOdd_End_Zhong_3     300000 non-null  float32\n",
      " 9   guestOdd_Start_Zhong_3   300000 non-null  float32\n",
      " 10  masterOdd_End_Zhong_3    300000 non-null  float32\n",
      " 11  masterOdd_Start_Zhong_3  300000 non-null  float32\n",
      " 12  pankouOdd_End_Zhong_3    300000 non-null  object \n",
      " 13  pankou_Start_Zhong_3     300000 non-null  object \n",
      " 14  zhongbifengNew           300000 non-null  object \n",
      " 15  water_type_mid           300000 non-null  object \n",
      " 16  daxiaoTypeAll            300000 non-null  object \n",
      "dtypes: float32(8), object(9)\n",
      "memory usage: 32.0+ MB\n"
     ]
    }
   ],
   "source": [
    "train_x.info()"
   ]
  },
  {
   "cell_type": "code",
   "execution_count": null,
   "metadata": {
    "ExecuteTime": {
     "end_time": "2021-09-21T13:01:49.599890Z",
     "start_time": "2021-09-21T13:01:49.320045Z"
    }
   },
   "outputs": [],
   "source": []
  },
  {
   "cell_type": "code",
   "execution_count": 183,
   "metadata": {
    "ExecuteTime": {
     "end_time": "2021-09-27T11:12:29.654194Z",
     "start_time": "2021-09-27T11:12:29.640951Z"
    }
   },
   "outputs": [],
   "source": [
    "# for col in ['daxiaoTypeStart','daxiaoType','daxiaoTypeStartMid','daxiaoTypeMid','daxiaoTypeAll','typeLinStart'\n",
    "#             ,'typeLinEnd','typeLinStartReal','typeLinEndReal','typeMidStart','typeMidEnd','TypeLin'\n",
    "#             ,'TypeLinReal','TypeMid','TypeLinMid','TypeAll','oldTypeLin','oldTypeMid','oldTypeLinMid','oldTypeAll']:\n",
    "#   y_oof,y_oof_2,y_test_oof,y_test_oof2 = mean_woe_target_encoder(train,test,train_y,col,n_splits=10)\n",
    "#   train_x[col] = y_oof\n",
    "#   test_x[col] = y_test_oof\n",
    "#   train[col] = y_oof\n",
    "#   test[col] = y_test_oof"
   ]
  },
  {
   "cell_type": "code",
   "execution_count": 184,
   "metadata": {
    "ExecuteTime": {
     "end_time": "2021-09-27T11:12:35.190558Z",
     "start_time": "2021-09-27T11:12:29.656152Z"
    }
   },
   "outputs": [
    {
     "name": "stderr",
     "output_type": "stream",
     "text": [
      "C:\\ProgramData\\Anaconda3\\lib\\site-packages\\category_encoders\\utils.py:21: FutureWarning: is_categorical is deprecated and will be removed in a future version.  Use is_categorical_dtype instead\n",
      "  elif pd.api.types.is_categorical(cols):\n",
      "C:\\Users\\24525\\AppData\\Roaming\\Python\\Python38\\site-packages\\pandas\\core\\frame.py:3607: SettingWithCopyWarning: \n",
      "A value is trying to be set on a copy of a slice from a DataFrame.\n",
      "Try using .loc[row_indexer,col_indexer] = value instead\n",
      "\n",
      "See the caveats in the documentation: https://pandas.pydata.org/pandas-docs/stable/user_guide/indexing.html#returning-a-view-versus-a-copy\n",
      "  self._set_item(key, value)\n"
     ]
    }
   ],
   "source": [
    "for col in ['daxiaoTypeAll']:\n",
    "  y_oof,y_oof_2,y_test_oof,y_test_oof2 = mean_woe_target_encoder(train,test,train_y,col,n_splits=10)\n",
    "  train_x[col] = y_oof\n",
    "  test_x[col] = y_test_oof\n",
    "  train[col] = y_oof\n",
    "  test[col] = y_test_oof"
   ]
  },
  {
   "cell_type": "code",
   "execution_count": 185,
   "metadata": {
    "ExecuteTime": {
     "end_time": "2021-09-27T11:12:35.205550Z",
     "start_time": "2021-09-27T11:12:35.194556Z"
    }
   },
   "outputs": [],
   "source": [
    "# for col in train.select_dtypes(include='object').columns:\n",
    "#   y_oof,y_oof_2,y_test_oof,y_test_oof2 = mean_woe_target_encoder(train,test,train_y,col,n_splits=10)\n",
    "#   train_x[col] = y_oof\n",
    "#   test_x[col] = y_test_oof\n",
    "#   train[col] = y_oof\n",
    "#   test[col] = y_test_oof"
   ]
  },
  {
   "cell_type": "code",
   "execution_count": 186,
   "metadata": {
    "ExecuteTime": {
     "end_time": "2021-09-27T11:12:35.236532Z",
     "start_time": "2021-09-27T11:12:35.208547Z"
    }
   },
   "outputs": [],
   "source": [
    "# te_cv = TargetEncoderCV(KFold(n_splits=3))\n",
    "# train_x = te_cv.fit_transform(train_x, train_y)\n",
    "# test_x = te_cv.transform(test_x)"
   ]
  },
  {
   "cell_type": "code",
   "execution_count": 187,
   "metadata": {
    "ExecuteTime": {
     "end_time": "2021-09-27T11:12:40.512511Z",
     "start_time": "2021-09-27T11:12:35.239531Z"
    },
    "id": "hccVqgJDEdIf"
   },
   "outputs": [],
   "source": [
    "import gc\n",
    "cat_features = train.select_dtypes(include='object').columns\n",
    "def encode_LE(col,train,test):\n",
    "    df_comb = pd.concat([train[col],test[col]],axis=0)\n",
    "    df_comb,_ = df_comb.factorize(sort=True)\n",
    "    nm = col\n",
    "    if df_comb.max()>32000: \n",
    "        train[nm] = df_comb[:len(train)].astype('int32')\n",
    "        test[nm] = df_comb[len(train):].astype('int32')\n",
    "    else:\n",
    "        train[nm] = df_comb[:len(train)].astype('int16')\n",
    "        test[nm] = df_comb[len(train):].astype('int16')\n",
    "    del df_comb; x=gc.collect()\n",
    "\n",
    "for col in cat_features:\n",
    "    encode_LE(col,train_x,test_x)\n",
    "    encode_LE(col,train,test)"
   ]
  },
  {
   "cell_type": "code",
   "execution_count": 188,
   "metadata": {
    "ExecuteTime": {
     "end_time": "2021-09-27T11:12:40.544509Z",
     "start_time": "2021-09-27T11:12:40.514510Z"
    },
    "id": "6M-y-IHqBEVD"
   },
   "outputs": [
    {
     "name": "stdout",
     "output_type": "stream",
     "text": [
      "<class 'pandas.core.frame.DataFrame'>\n",
      "Int64Index: 300000 entries, 1 to 388683\n",
      "Data columns (total 18 columns):\n",
      " #   Column                   Non-Null Count   Dtype  \n",
      "---  ------                   --------------   -----  \n",
      " 0   lianShai                 300000 non-null  int16  \n",
      " 1   time                     300000 non-null  int32  \n",
      " 2   guestOdd_End_Ji_3        300000 non-null  float32\n",
      " 3   guestOdd_Start_Ji_3      300000 non-null  float32\n",
      " 4   masterOdd_End_Ji_3       300000 non-null  float32\n",
      " 5   masterOdd_Start_Ji_3     300000 non-null  float32\n",
      " 6   pankouOdd_End_Ji_3       300000 non-null  int16  \n",
      " 7   pankou_Start_Ji_3        300000 non-null  int16  \n",
      " 8   guestOdd_End_Zhong_3     300000 non-null  float32\n",
      " 9   guestOdd_Start_Zhong_3   300000 non-null  float32\n",
      " 10  masterOdd_End_Zhong_3    300000 non-null  float32\n",
      " 11  masterOdd_Start_Zhong_3  300000 non-null  float32\n",
      " 12  pankouOdd_End_Zhong_3    300000 non-null  int16  \n",
      " 13  pankou_Start_Zhong_3     300000 non-null  int16  \n",
      " 14  result                   300000 non-null  int64  \n",
      " 15  zhongbifengNew           300000 non-null  int16  \n",
      " 16  water_type_mid           300000 non-null  int16  \n",
      " 17  daxiaoTypeAll            300000 non-null  float64\n",
      "dtypes: float32(8), float64(1), int16(7), int32(1), int64(1)\n",
      "memory usage: 21.2 MB\n"
     ]
    }
   ],
   "source": [
    "train.info()"
   ]
  },
  {
   "cell_type": "code",
   "execution_count": 189,
   "metadata": {
    "ExecuteTime": {
     "end_time": "2021-09-27T11:12:40.576084Z",
     "start_time": "2021-09-27T11:12:40.546491Z"
    }
   },
   "outputs": [
    {
     "name": "stdout",
     "output_type": "stream",
     "text": [
      "<class 'pandas.core.frame.DataFrame'>\n",
      "Int64Index: 25666 entries, 388684 to 421506\n",
      "Data columns (total 18 columns):\n",
      " #   Column                   Non-Null Count  Dtype  \n",
      "---  ------                   --------------  -----  \n",
      " 0   lianShai                 25666 non-null  int16  \n",
      " 1   time                     25666 non-null  int32  \n",
      " 2   guestOdd_End_Ji_3        25666 non-null  float32\n",
      " 3   guestOdd_Start_Ji_3      25666 non-null  float32\n",
      " 4   masterOdd_End_Ji_3       25666 non-null  float32\n",
      " 5   masterOdd_Start_Ji_3     25666 non-null  float32\n",
      " 6   pankouOdd_End_Ji_3       25666 non-null  int16  \n",
      " 7   pankou_Start_Ji_3        25666 non-null  int16  \n",
      " 8   guestOdd_End_Zhong_3     25666 non-null  float32\n",
      " 9   guestOdd_Start_Zhong_3   25666 non-null  float32\n",
      " 10  masterOdd_End_Zhong_3    25666 non-null  float32\n",
      " 11  masterOdd_Start_Zhong_3  25666 non-null  float32\n",
      " 12  pankouOdd_End_Zhong_3    25666 non-null  int16  \n",
      " 13  pankou_Start_Zhong_3     25666 non-null  int16  \n",
      " 14  result                   25666 non-null  int64  \n",
      " 15  zhongbifengNew           25666 non-null  int16  \n",
      " 16  water_type_mid           25666 non-null  int16  \n",
      " 17  daxiaoTypeAll            25666 non-null  float64\n",
      "dtypes: float32(8), float64(1), int16(7), int32(1), int64(1)\n",
      "memory usage: 1.8 MB\n"
     ]
    }
   ],
   "source": [
    "test.info()"
   ]
  },
  {
   "cell_type": "code",
   "execution_count": 190,
   "metadata": {
    "ExecuteTime": {
     "end_time": "2021-09-27T11:12:40.607465Z",
     "start_time": "2021-09-27T11:12:40.578083Z"
    }
   },
   "outputs": [
    {
     "data": {
      "text/html": [
       "<div>\n",
       "<style scoped>\n",
       "    .dataframe tbody tr th:only-of-type {\n",
       "        vertical-align: middle;\n",
       "    }\n",
       "\n",
       "    .dataframe tbody tr th {\n",
       "        vertical-align: top;\n",
       "    }\n",
       "\n",
       "    .dataframe thead th {\n",
       "        text-align: right;\n",
       "    }\n",
       "</style>\n",
       "<table border=\"1\" class=\"dataframe\">\n",
       "  <thead>\n",
       "    <tr style=\"text-align: right;\">\n",
       "      <th></th>\n",
       "      <th>lianShai</th>\n",
       "      <th>time</th>\n",
       "      <th>guestOdd_End_Ji_3</th>\n",
       "      <th>guestOdd_Start_Ji_3</th>\n",
       "      <th>masterOdd_End_Ji_3</th>\n",
       "      <th>masterOdd_Start_Ji_3</th>\n",
       "      <th>pankouOdd_End_Ji_3</th>\n",
       "      <th>pankou_Start_Ji_3</th>\n",
       "      <th>guestOdd_End_Zhong_3</th>\n",
       "      <th>guestOdd_Start_Zhong_3</th>\n",
       "      <th>masterOdd_End_Zhong_3</th>\n",
       "      <th>masterOdd_Start_Zhong_3</th>\n",
       "      <th>pankouOdd_End_Zhong_3</th>\n",
       "      <th>pankou_Start_Zhong_3</th>\n",
       "      <th>result</th>\n",
       "      <th>zhongbifengNew</th>\n",
       "      <th>water_type_mid</th>\n",
       "      <th>daxiaoTypeAll</th>\n",
       "    </tr>\n",
       "  </thead>\n",
       "  <tbody>\n",
       "    <tr>\n",
       "      <th>388684</th>\n",
       "      <td>334</td>\n",
       "      <td>16767</td>\n",
       "      <td>0.85</td>\n",
       "      <td>0.80</td>\n",
       "      <td>0.95</td>\n",
       "      <td>1.06</td>\n",
       "      <td>12</td>\n",
       "      <td>17</td>\n",
       "      <td>0.99</td>\n",
       "      <td>1.05</td>\n",
       "      <td>0.87</td>\n",
       "      <td>0.81</td>\n",
       "      <td>33</td>\n",
       "      <td>32</td>\n",
       "      <td>0</td>\n",
       "      <td>1</td>\n",
       "      <td>20</td>\n",
       "      <td>0.514251</td>\n",
       "    </tr>\n",
       "    <tr>\n",
       "      <th>388686</th>\n",
       "      <td>1713</td>\n",
       "      <td>16303</td>\n",
       "      <td>0.90</td>\n",
       "      <td>0.55</td>\n",
       "      <td>0.70</td>\n",
       "      <td>1.05</td>\n",
       "      <td>13</td>\n",
       "      <td>15</td>\n",
       "      <td>0.60</td>\n",
       "      <td>0.70</td>\n",
       "      <td>1.11</td>\n",
       "      <td>1.00</td>\n",
       "      <td>33</td>\n",
       "      <td>34</td>\n",
       "      <td>0</td>\n",
       "      <td>12</td>\n",
       "      <td>5</td>\n",
       "      <td>0.503593</td>\n",
       "    </tr>\n",
       "    <tr>\n",
       "      <th>388687</th>\n",
       "      <td>870</td>\n",
       "      <td>20872</td>\n",
       "      <td>0.85</td>\n",
       "      <td>0.90</td>\n",
       "      <td>0.91</td>\n",
       "      <td>0.90</td>\n",
       "      <td>11</td>\n",
       "      <td>16</td>\n",
       "      <td>0.80</td>\n",
       "      <td>0.80</td>\n",
       "      <td>1.00</td>\n",
       "      <td>1.00</td>\n",
       "      <td>35</td>\n",
       "      <td>34</td>\n",
       "      <td>0</td>\n",
       "      <td>12</td>\n",
       "      <td>14</td>\n",
       "      <td>0.411564</td>\n",
       "    </tr>\n",
       "    <tr>\n",
       "      <th>388689</th>\n",
       "      <td>1411</td>\n",
       "      <td>3671</td>\n",
       "      <td>0.91</td>\n",
       "      <td>0.88</td>\n",
       "      <td>0.96</td>\n",
       "      <td>0.99</td>\n",
       "      <td>9</td>\n",
       "      <td>14</td>\n",
       "      <td>0.90</td>\n",
       "      <td>0.90</td>\n",
       "      <td>0.96</td>\n",
       "      <td>0.96</td>\n",
       "      <td>5</td>\n",
       "      <td>5</td>\n",
       "      <td>1</td>\n",
       "      <td>0</td>\n",
       "      <td>20</td>\n",
       "      <td>0.388496</td>\n",
       "    </tr>\n",
       "    <tr>\n",
       "      <th>388690</th>\n",
       "      <td>201</td>\n",
       "      <td>84468</td>\n",
       "      <td>0.99</td>\n",
       "      <td>0.81</td>\n",
       "      <td>0.81</td>\n",
       "      <td>0.99</td>\n",
       "      <td>15</td>\n",
       "      <td>19</td>\n",
       "      <td>0.68</td>\n",
       "      <td>0.84</td>\n",
       "      <td>1.13</td>\n",
       "      <td>0.96</td>\n",
       "      <td>33</td>\n",
       "      <td>34</td>\n",
       "      <td>1</td>\n",
       "      <td>0</td>\n",
       "      <td>15</td>\n",
       "      <td>0.503593</td>\n",
       "    </tr>\n",
       "  </tbody>\n",
       "</table>\n",
       "</div>"
      ],
      "text/plain": [
       "        lianShai   time  guestOdd_End_Ji_3  guestOdd_Start_Ji_3  \\\n",
       "388684       334  16767               0.85                 0.80   \n",
       "388686      1713  16303               0.90                 0.55   \n",
       "388687       870  20872               0.85                 0.90   \n",
       "388689      1411   3671               0.91                 0.88   \n",
       "388690       201  84468               0.99                 0.81   \n",
       "\n",
       "        masterOdd_End_Ji_3  masterOdd_Start_Ji_3  pankouOdd_End_Ji_3  \\\n",
       "388684                0.95                  1.06                  12   \n",
       "388686                0.70                  1.05                  13   \n",
       "388687                0.91                  0.90                  11   \n",
       "388689                0.96                  0.99                   9   \n",
       "388690                0.81                  0.99                  15   \n",
       "\n",
       "        pankou_Start_Ji_3  guestOdd_End_Zhong_3  guestOdd_Start_Zhong_3  \\\n",
       "388684                 17                  0.99                    1.05   \n",
       "388686                 15                  0.60                    0.70   \n",
       "388687                 16                  0.80                    0.80   \n",
       "388689                 14                  0.90                    0.90   \n",
       "388690                 19                  0.68                    0.84   \n",
       "\n",
       "        masterOdd_End_Zhong_3  masterOdd_Start_Zhong_3  pankouOdd_End_Zhong_3  \\\n",
       "388684                   0.87                     0.81                     33   \n",
       "388686                   1.11                     1.00                     33   \n",
       "388687                   1.00                     1.00                     35   \n",
       "388689                   0.96                     0.96                      5   \n",
       "388690                   1.13                     0.96                     33   \n",
       "\n",
       "        pankou_Start_Zhong_3  result  zhongbifengNew  water_type_mid  \\\n",
       "388684                    32       0               1              20   \n",
       "388686                    34       0              12               5   \n",
       "388687                    34       0              12              14   \n",
       "388689                     5       1               0              20   \n",
       "388690                    34       1               0              15   \n",
       "\n",
       "        daxiaoTypeAll  \n",
       "388684       0.514251  \n",
       "388686       0.503593  \n",
       "388687       0.411564  \n",
       "388689       0.388496  \n",
       "388690       0.503593  "
      ]
     },
     "execution_count": 190,
     "metadata": {},
     "output_type": "execute_result"
    }
   ],
   "source": [
    "test.head()"
   ]
  },
  {
   "cell_type": "code",
   "execution_count": 191,
   "metadata": {
    "ExecuteTime": {
     "end_time": "2021-09-27T11:14:19.760720Z",
     "start_time": "2021-09-27T11:12:40.610449Z"
    },
    "colab": {
     "base_uri": "https://localhost:8080/"
    },
    "id": "t6udRIjZEdIg",
    "outputId": "d432b310-9fa8-41ca-dabc-5363d79fcd2b"
   },
   "outputs": [
    {
     "name": "stdout",
     "output_type": "stream",
     "text": [
      "Starting training... 0\n",
      "Starting training... 1\n",
      "Starting training... 2\n",
      "Starting training... 3\n",
      "Starting training... 4\n",
      "Starting training... 5\n",
      "Starting training... 6\n",
      "Starting training... 7\n",
      "Starting training... 8\n",
      "Starting training... 9\n",
      "Starting training... 10\n",
      "Starting training... 11\n",
      "Starting training... 12\n",
      "Starting training... 13\n",
      "Starting training... 14\n",
      "Starting training... 15\n",
      "accuarcy: 60.79%\n"
     ]
    }
   ],
   "source": [
    "from sklearn.metrics import roc_auc_score\n",
    "import lightgbm as lgb\n",
    "\n",
    "lgb_train = lgb.Dataset(train_x, train_y)\n",
    "\n",
    "# 参数设置\n",
    "params = {'num_leaves': 240, #结果对最终效果影响较大，越大值越好，太大会出现过拟合\n",
    "          'min_data_in_leaf': 30,\n",
    "          'objective': 'binary', #定义的目标函数\n",
    "          'max_depth': -1,\n",
    "          'learning_rate': 0.03,\n",
    "          \"min_sum_hessian_in_leaf\": 6,\n",
    "          \"boosting\": \"gbdt\",\n",
    "          \"feature_fraction\":  0.5992677823884304,\t#提取的特征比率\n",
    "          \"bagging_freq\": 4,\n",
    "          \"bagging_fraction\":0.7100471696361973,\n",
    "          \"bagging_seed\": 11,\n",
    "          \"lambda_l1\": 8.545500456265467e-05,\t\t\t\t#l1正则\n",
    "          'lambda_l2': 5.985747612243422e-07,\t\t#l2正则\n",
    "          \"verbosity\": -1,\n",
    "          \"nthread\": -1,\t\t#线程数量，-1表示全部线程，线程越多，运行的速度越快\n",
    "          'metric': {'binary_logloss', 'auc'},\t##评价函数选择\n",
    "          \"random_state\": 7,\t#随机数种子，可以防止每次运行的结果不一致\n",
    "          'min_child_samples': 67,\n",
    "          }\n",
    "\n",
    "y_pred = np.zeros(test_x.shape[0])\n",
    "\n",
    "folds = 16\n",
    "for i in range(folds):\n",
    "    print('Starting training...',i)\n",
    "    params['random_state'] = i + 2021\n",
    "    # 模型训练\n",
    "    gbm = lgb.train(params,\n",
    "                    lgb_train,\n",
    "                    num_boost_round=100)\n",
    "\n",
    "\n",
    "    # 模型预测\n",
    "    y_pred += gbm.predict(test_x, num_iteration=gbm.best_iteration) / folds\n",
    "\n",
    "accuracy = roc_auc_score(test_y, y_pred)\n",
    "print(\"accuarcy: %.2f%%\" % (accuracy*100.0))"
   ]
  },
  {
   "cell_type": "code",
   "execution_count": 192,
   "metadata": {
    "ExecuteTime": {
     "end_time": "2021-09-27T11:14:19.776711Z",
     "start_time": "2021-09-27T11:14:19.762719Z"
    }
   },
   "outputs": [
    {
     "name": "stdout",
     "output_type": "stream",
     "text": [
      "accuarcy: 70.77%\n",
      "(2224, 2)\n"
     ]
    }
   ],
   "source": [
    "from sklearn.metrics import roc_auc_score,accuracy_score\n",
    "test_new = pd.DataFrame({'result':test_y,'predict':y_pred})\n",
    "a = test_new[(test_new[\"predict\"] >= 0.66)]\n",
    "pred_labels = np.rint(a['predict'])\n",
    "accuracy = accuracy_score(a['result'], pred_labels)\n",
    "print(\"accuarcy: %.2f%%\" % (accuracy*100.0))\n",
    "print(a.shape)"
   ]
  },
  {
   "cell_type": "code",
   "execution_count": null,
   "metadata": {
    "ExecuteTime": {
     "end_time": "2021-09-20T12:50:00.629849Z",
     "start_time": "2021-09-20T12:50:00.621841Z"
    }
   },
   "outputs": [],
   "source": []
  },
  {
   "cell_type": "code",
   "execution_count": 193,
   "metadata": {
    "ExecuteTime": {
     "end_time": "2021-09-27T11:14:20.288877Z",
     "start_time": "2021-09-27T11:14:19.779709Z"
    }
   },
   "outputs": [
    {
     "data": {
      "image/png": "[encoded data removed]",
      "text/plain": [
       "<Figure size 720x720 with 1 Axes>"
      ]
     },
     "metadata": {
      "needs_background": "light"
     },
     "output_type": "display_data"
    }
   ],
   "source": [
    "fig, ax = plt.subplots(figsize=(10,10))\n",
    "lgb.plot_importance(gbm, max_num_features=60, height=0.5, ax=ax)\n",
    "plt.show()"
   ]
  },
  {
   "cell_type": "code",
   "execution_count": 194,
   "metadata": {
    "ExecuteTime": {
     "end_time": "2021-09-27T11:14:20.303856Z",
     "start_time": "2021-09-27T11:14:20.290863Z"
    },
    "colab": {
     "base_uri": "https://localhost:8080/",
     "height": 627
    },
    "id": "IZXxUWROEdIh",
    "outputId": "12c538c6-2264-45d8-dc48-14c8722a9428"
   },
   "outputs": [
    {
     "name": "stdout",
     "output_type": "stream",
     "text": [
      "<class 'pandas.core.frame.DataFrame'>\n",
      "Int64Index: 25666 entries, 388684 to 421506\n",
      "Data columns (total 17 columns):\n",
      " #   Column                   Non-Null Count  Dtype  \n",
      "---  ------                   --------------  -----  \n",
      " 0   lianShai                 25666 non-null  int16  \n",
      " 1   time                     25666 non-null  int32  \n",
      " 2   guestOdd_End_Ji_3        25666 non-null  float32\n",
      " 3   guestOdd_Start_Ji_3      25666 non-null  float32\n",
      " 4   masterOdd_End_Ji_3       25666 non-null  float32\n",
      " 5   masterOdd_Start_Ji_3     25666 non-null  float32\n",
      " 6   pankouOdd_End_Ji_3       25666 non-null  int16  \n",
      " 7   pankou_Start_Ji_3        25666 non-null  int16  \n",
      " 8   guestOdd_End_Zhong_3     25666 non-null  float32\n",
      " 9   guestOdd_Start_Zhong_3   25666 non-null  float32\n",
      " 10  masterOdd_End_Zhong_3    25666 non-null  float32\n",
      " 11  masterOdd_Start_Zhong_3  25666 non-null  float32\n",
      " 12  pankouOdd_End_Zhong_3    25666 non-null  int16  \n",
      " 13  pankou_Start_Zhong_3     25666 non-null  int16  \n",
      " 14  zhongbifengNew           25666 non-null  int16  \n",
      " 15  water_type_mid           25666 non-null  int16  \n",
      " 16  daxiaoTypeAll            25666 non-null  float64\n",
      "dtypes: float32(8), float64(1), int16(7), int32(1)\n",
      "memory usage: 1.6 MB\n"
     ]
    }
   ],
   "source": [
    "test_x.info()"
   ]
  },
  {
   "cell_type": "code",
   "execution_count": 195,
   "metadata": {
    "ExecuteTime": {
     "end_time": "2021-09-27T11:14:20.381896Z",
     "start_time": "2021-09-27T11:14:20.304869Z"
    },
    "id": "GdTAzUHLEdIi"
   },
   "outputs": [
    {
     "data": {
      "text/html": [
       "<div>\n",
       "<style scoped>\n",
       "    .dataframe tbody tr th:only-of-type {\n",
       "        vertical-align: middle;\n",
       "    }\n",
       "\n",
       "    .dataframe tbody tr th {\n",
       "        vertical-align: top;\n",
       "    }\n",
       "\n",
       "    .dataframe thead th {\n",
       "        text-align: right;\n",
       "    }\n",
       "</style>\n",
       "<table border=\"1\" class=\"dataframe\">\n",
       "  <thead>\n",
       "    <tr style=\"text-align: right;\">\n",
       "      <th></th>\n",
       "      <th>lianShai</th>\n",
       "      <th>time</th>\n",
       "      <th>guestOdd_End_Ji_3</th>\n",
       "      <th>guestOdd_Start_Ji_3</th>\n",
       "      <th>masterOdd_End_Ji_3</th>\n",
       "      <th>masterOdd_Start_Ji_3</th>\n",
       "      <th>pankouOdd_End_Ji_3</th>\n",
       "      <th>pankou_Start_Ji_3</th>\n",
       "      <th>guestOdd_End_Zhong_3</th>\n",
       "      <th>guestOdd_Start_Zhong_3</th>\n",
       "      <th>masterOdd_End_Zhong_3</th>\n",
       "      <th>masterOdd_Start_Zhong_3</th>\n",
       "      <th>pankouOdd_End_Zhong_3</th>\n",
       "      <th>pankou_Start_Zhong_3</th>\n",
       "      <th>zhongbifengNew</th>\n",
       "      <th>water_type_mid</th>\n",
       "      <th>daxiaoTypeAll</th>\n",
       "    </tr>\n",
       "  </thead>\n",
       "  <tbody>\n",
       "    <tr>\n",
       "      <th>388684</th>\n",
       "      <td>334</td>\n",
       "      <td>16767</td>\n",
       "      <td>0.85</td>\n",
       "      <td>0.80</td>\n",
       "      <td>0.95</td>\n",
       "      <td>1.06</td>\n",
       "      <td>12</td>\n",
       "      <td>17</td>\n",
       "      <td>0.99</td>\n",
       "      <td>1.05</td>\n",
       "      <td>0.87</td>\n",
       "      <td>0.81</td>\n",
       "      <td>33</td>\n",
       "      <td>32</td>\n",
       "      <td>1</td>\n",
       "      <td>20</td>\n",
       "      <td>0.514251</td>\n",
       "    </tr>\n",
       "    <tr>\n",
       "      <th>388686</th>\n",
       "      <td>1713</td>\n",
       "      <td>16303</td>\n",
       "      <td>0.90</td>\n",
       "      <td>0.55</td>\n",
       "      <td>0.70</td>\n",
       "      <td>1.05</td>\n",
       "      <td>13</td>\n",
       "      <td>15</td>\n",
       "      <td>0.60</td>\n",
       "      <td>0.70</td>\n",
       "      <td>1.11</td>\n",
       "      <td>1.00</td>\n",
       "      <td>33</td>\n",
       "      <td>34</td>\n",
       "      <td>12</td>\n",
       "      <td>5</td>\n",
       "      <td>0.503593</td>\n",
       "    </tr>\n",
       "    <tr>\n",
       "      <th>388687</th>\n",
       "      <td>870</td>\n",
       "      <td>20872</td>\n",
       "      <td>0.85</td>\n",
       "      <td>0.90</td>\n",
       "      <td>0.91</td>\n",
       "      <td>0.90</td>\n",
       "      <td>11</td>\n",
       "      <td>16</td>\n",
       "      <td>0.80</td>\n",
       "      <td>0.80</td>\n",
       "      <td>1.00</td>\n",
       "      <td>1.00</td>\n",
       "      <td>35</td>\n",
       "      <td>34</td>\n",
       "      <td>12</td>\n",
       "      <td>14</td>\n",
       "      <td>0.411564</td>\n",
       "    </tr>\n",
       "    <tr>\n",
       "      <th>388689</th>\n",
       "      <td>1411</td>\n",
       "      <td>3671</td>\n",
       "      <td>0.91</td>\n",
       "      <td>0.88</td>\n",
       "      <td>0.96</td>\n",
       "      <td>0.99</td>\n",
       "      <td>9</td>\n",
       "      <td>14</td>\n",
       "      <td>0.90</td>\n",
       "      <td>0.90</td>\n",
       "      <td>0.96</td>\n",
       "      <td>0.96</td>\n",
       "      <td>5</td>\n",
       "      <td>5</td>\n",
       "      <td>0</td>\n",
       "      <td>20</td>\n",
       "      <td>0.388496</td>\n",
       "    </tr>\n",
       "    <tr>\n",
       "      <th>388690</th>\n",
       "      <td>201</td>\n",
       "      <td>84468</td>\n",
       "      <td>0.99</td>\n",
       "      <td>0.81</td>\n",
       "      <td>0.81</td>\n",
       "      <td>0.99</td>\n",
       "      <td>15</td>\n",
       "      <td>19</td>\n",
       "      <td>0.68</td>\n",
       "      <td>0.84</td>\n",
       "      <td>1.13</td>\n",
       "      <td>0.96</td>\n",
       "      <td>33</td>\n",
       "      <td>34</td>\n",
       "      <td>0</td>\n",
       "      <td>15</td>\n",
       "      <td>0.503593</td>\n",
       "    </tr>\n",
       "  </tbody>\n",
       "</table>\n",
       "</div>"
      ],
      "text/plain": [
       "        lianShai   time  guestOdd_End_Ji_3  guestOdd_Start_Ji_3  \\\n",
       "388684       334  16767               0.85                 0.80   \n",
       "388686      1713  16303               0.90                 0.55   \n",
       "388687       870  20872               0.85                 0.90   \n",
       "388689      1411   3671               0.91                 0.88   \n",
       "388690       201  84468               0.99                 0.81   \n",
       "\n",
       "        masterOdd_End_Ji_3  masterOdd_Start_Ji_3  pankouOdd_End_Ji_3  \\\n",
       "388684                0.95                  1.06                  12   \n",
       "388686                0.70                  1.05                  13   \n",
       "388687                0.91                  0.90                  11   \n",
       "388689                0.96                  0.99                   9   \n",
       "388690                0.81                  0.99                  15   \n",
       "\n",
       "        pankou_Start_Ji_3  guestOdd_End_Zhong_3  guestOdd_Start_Zhong_3  \\\n",
       "388684                 17                  0.99                    1.05   \n",
       "388686                 15                  0.60                    0.70   \n",
       "388687                 16                  0.80                    0.80   \n",
       "388689                 14                  0.90                    0.90   \n",
       "388690                 19                  0.68                    0.84   \n",
       "\n",
       "        masterOdd_End_Zhong_3  masterOdd_Start_Zhong_3  pankouOdd_End_Zhong_3  \\\n",
       "388684                   0.87                     0.81                     33   \n",
       "388686                   1.11                     1.00                     33   \n",
       "388687                   1.00                     1.00                     35   \n",
       "388689                   0.96                     0.96                      5   \n",
       "388690                   1.13                     0.96                     33   \n",
       "\n",
       "        pankou_Start_Zhong_3  zhongbifengNew  water_type_mid  daxiaoTypeAll  \n",
       "388684                    32               1              20       0.514251  \n",
       "388686                    34              12               5       0.503593  \n",
       "388687                    34              12              14       0.411564  \n",
       "388689                     5               0              20       0.388496  \n",
       "388690                    34               0              15       0.503593  "
      ]
     },
     "execution_count": 195,
     "metadata": {},
     "output_type": "execute_result"
    }
   ],
   "source": [
    "test_x.head()"
   ]
  },
  {
   "cell_type": "code",
   "execution_count": 196,
   "metadata": {
    "ExecuteTime": {
     "end_time": "2021-09-27T11:16:23.591692Z",
     "start_time": "2021-09-27T11:14:20.383895Z"
    },
    "colab": {
     "base_uri": "https://localhost:8080/"
    },
    "id": "A867lIczEdIi",
    "outputId": "fe128cf3-a6d5-40d9-a372-6af3a61f6f8e"
   },
   "outputs": [
    {
     "name": "stdout",
     "output_type": "stream",
     "text": [
      "Training until validation scores don't improve for 300 rounds\n",
      "[200]\ttraining's auc: 0.70662\tvalid_1's auc: 0.618353\n",
      "[400]\ttraining's auc: 0.769683\tvalid_1's auc: 0.617203\n",
      "Early stopping, best iteration is:\n",
      "[133]\ttraining's auc: 0.680973\tvalid_1's auc: 0.618728\n",
      "[0.63686667 0.5827169  0.39723443 ... 0.38487326 0.4060338  0.49181503]\n",
      "Fold 1 | AUC: 0.6187280791171748\n",
      "Training until validation scores don't improve for 300 rounds\n",
      "[200]\ttraining's auc: 0.706448\tvalid_1's auc: 0.61035\n",
      "[400]\ttraining's auc: 0.768444\tvalid_1's auc: 0.608864\n",
      "Early stopping, best iteration is:\n",
      "[183]\ttraining's auc: 0.700098\tvalid_1's auc: 0.610487\n",
      "[0.34908739 0.53723158 0.64590646 ... 0.51137774 0.58307121 0.50476905]\n",
      "Fold 2 | AUC: 0.6104866252713924\n",
      "Training until validation scores don't improve for 300 rounds\n",
      "[200]\ttraining's auc: 0.708628\tvalid_1's auc: 0.611986\n",
      "[400]\ttraining's auc: 0.770703\tvalid_1's auc: 0.611285\n",
      "Early stopping, best iteration is:\n",
      "[239]\ttraining's auc: 0.721974\tvalid_1's auc: 0.612358\n",
      "[0.3623361  0.49686633 0.58303796 ... 0.73870273 0.6213599  0.45397633]\n",
      "Fold 3 | AUC: 0.6123583824363233\n",
      "Training until validation scores don't improve for 300 rounds\n",
      "[200]\ttraining's auc: 0.708657\tvalid_1's auc: 0.610869\n",
      "[400]\ttraining's auc: 0.770381\tvalid_1's auc: 0.609245\n",
      "Early stopping, best iteration is:\n",
      "[152]\ttraining's auc: 0.690785\tvalid_1's auc: 0.611539\n",
      "[0.57694444 0.30777859 0.43270978 ... 0.43867778 0.44603352 0.39085453]\n",
      "Fold 4 | AUC: 0.6115385327130913\n",
      "Training until validation scores don't improve for 300 rounds\n",
      "[200]\ttraining's auc: 0.706805\tvalid_1's auc: 0.613641\n",
      "[400]\ttraining's auc: 0.769018\tvalid_1's auc: 0.613121\n",
      "Early stopping, best iteration is:\n",
      "[240]\ttraining's auc: 0.721103\tvalid_1's auc: 0.613882\n",
      "[0.47155144 0.43563544 0.60473345 ... 0.55284467 0.4112433  0.39326776]\n",
      "Fold 5 | AUC: 0.6138821503173391\n",
      "\n",
      "Mean AUC = 0.6133987539710641\n",
      "Out of folds AUC = 0.6071513991490016\n"
     ]
    }
   ],
   "source": [
    "import lightgbm as lgb\n",
    "from sklearn.metrics import roc_auc_score,accuracy_score\n",
    "from sklearn.model_selection import StratifiedKFold\n",
    "import gc\n",
    "X = train_x\n",
    "y = train_y\n",
    "# del train_x,train_y\n",
    "# gc.collect()\n",
    "\n",
    "\n",
    "params = {'num_leaves': 240,  # 结果对最终效果影响较大，越大值越好，太大会出现过拟合\n",
    "          'min_data_in_leaf': 30,\n",
    "          'objective': 'binary',  # 定义的目标函数\n",
    "          'max_depth': -1,\n",
    "          'learning_rate': 0.03,\n",
    "          \"min_sum_hessian_in_leaf\": 6,\n",
    "          \"boosting\": \"gbdt\",\n",
    "          \"feature_fraction\":  0.5992677823884304,  # 提取的特征比率\n",
    "          \"bagging_freq\": 4,\n",
    "          \"bagging_fraction\": 0.7100471696361973,\n",
    "          \"bagging_seed\": 11,\n",
    "          \"lambda_l1\": 8.545500456265467e-05,  # l1正则\n",
    "          'lambda_l2': 5.985747612243422e-07,  # l2正则\n",
    "          \"verbosity\": -1,\n",
    "          \"nthread\": -1,  # 线程数量，-1表示全部线程，线程越多，运行的速度越快\n",
    "          'metric': {'auc'},  # 评价函数选择\n",
    "          \"random_state\": 2019,  # 随机数种子，可以防止每次运行的结果不一致\n",
    "          # 'device': 'gpu' ##如果安装的事gpu版本的lightgbm,可以加快运算\n",
    "          'min_child_samples': 67\n",
    "          }\n",
    "\n",
    "NFOLDS = 5\n",
    "folds = StratifiedKFold(n_splits=NFOLDS)\n",
    "\n",
    "columns = X.columns\n",
    "splits = folds.split(X, y)\n",
    "y_preds = np.zeros(test_x.shape[0])\n",
    "score = 0\n",
    "\n",
    "feature_importances = pd.DataFrame()\n",
    "feature_importances['feature'] = columns\n",
    "\n",
    "for fold_n, (train_index, valid_index) in enumerate(splits):\n",
    "    X_train, X_valid = X[columns].iloc[train_index], X[columns].iloc[valid_index]\n",
    "    y_train, y_valid = y.iloc[train_index], y.iloc[valid_index]\n",
    "\n",
    "    dtrain = lgb.Dataset(X_train, label=y_train)\n",
    "    dvalid = lgb.Dataset(X_valid, label=y_valid)\n",
    "\n",
    "    clf = lgb.train(params, dtrain, 1000, valid_sets=[\n",
    "                    dtrain, dvalid], verbose_eval=200, early_stopping_rounds=300)\n",
    "\n",
    "    feature_importances[f'fold_{fold_n + 1}'] = clf.feature_importance()\n",
    "\n",
    "    y_pred_valid = clf.predict(X_valid)\n",
    "    print(y_pred_valid)\n",
    "    print(f\"Fold {fold_n + 1} | AUC: {roc_auc_score(y_valid, y_pred_valid)}\")\n",
    "\n",
    "    score += roc_auc_score(y_valid, y_pred_valid) / NFOLDS\n",
    "    y_preds += clf.predict(test_x) / NFOLDS\n",
    "    del X_train, X_valid, y_train, y_valid\n",
    "    gc.collect()\n",
    "    \n",
    "print(f\"\\nMean AUC = {score}\")\n",
    "print(f\"Out of folds AUC = {roc_auc_score(test_y, y_preds)}\")"
   ]
  },
  {
   "cell_type": "code",
   "execution_count": 197,
   "metadata": {
    "ExecuteTime": {
     "end_time": "2021-09-27T11:16:23.606684Z",
     "start_time": "2021-09-27T11:16:23.593691Z"
    }
   },
   "outputs": [
    {
     "name": "stdout",
     "output_type": "stream",
     "text": [
      "accuarcy: 70.91%\n",
      "(2503, 2)\n"
     ]
    }
   ],
   "source": [
    "from sklearn.metrics import roc_auc_score,accuracy_score\n",
    "test_new = pd.DataFrame({'result':test_y,'predict':y_preds})\n",
    "a = test_new[(test_new[\"predict\"] >= 0.66)]\n",
    "pred_labels = np.rint(a['predict'])\n",
    "accuracy = accuracy_score(a['result'], pred_labels)\n",
    "print(\"accuarcy: %.2f%%\" % (accuracy*100.0))\n",
    "print(a.shape)"
   ]
  },
  {
   "cell_type": "code",
   "execution_count": null,
   "metadata": {
    "ExecuteTime": {
     "end_time": "2021-09-19T11:12:32.620176Z",
     "start_time": "2021-09-19T11:12:32.613179Z"
    }
   },
   "outputs": [],
   "source": []
  },
  {
   "cell_type": "code",
   "execution_count": 198,
   "metadata": {
    "ExecuteTime": {
     "end_time": "2021-09-27T11:16:24.086955Z",
     "start_time": "2021-09-27T11:16:23.608684Z"
    },
    "colab": {
     "base_uri": "https://localhost:8080/",
     "height": 953
    },
    "id": "xicUPt9ZEdIi",
    "outputId": "802b6bc7-0c1f-4a6d-8ce3-a757205632b8"
   },
   "outputs": [
    {
     "data": {
      "image/png": "[encoded data removed]",
      "text/plain": [
       "<Figure size 1152x1152 with 1 Axes>"
      ]
     },
     "metadata": {
      "needs_background": "light"
     },
     "output_type": "display_data"
    }
   ],
   "source": [
    "import seaborn as sns\n",
    "feature_importance_gain=pd.DataFrame()\n",
    "feature_importance_gain['feature']=columns\n",
    "feature_importance_gain['fold_1']=clf.feature_importance(importance_type='gain')\n",
    "feature_importance_gain['average'] = feature_importances[[f'fold_{fold_n + 1}' for fold_n in range(1)]].mean(axis=1)\n",
    "plt.figure(figsize=(16, 16))\n",
    "sns.barplot(data=feature_importance_gain.sort_values(by='average', ascending=False).head(50), x='average', y='feature');\n",
    "plt.title('100 TOP feature importance over {} folds average'.format(folds.n_splits));"
   ]
  },
  {
   "cell_type": "code",
   "execution_count": null,
   "metadata": {
    "ExecuteTime": {
     "end_time": "2021-09-17T13:46:15.075721Z",
     "start_time": "2021-09-17T13:46:13.358664Z"
    }
   },
   "outputs": [],
   "source": []
  },
  {
   "cell_type": "code",
   "execution_count": 199,
   "metadata": {
    "ExecuteTime": {
     "end_time": "2021-09-27T11:16:24.102946Z",
     "start_time": "2021-09-27T11:16:24.089940Z"
    },
    "id": "uh55l3HyEdIi"
   },
   "outputs": [],
   "source": [
    "# import seaborn as sns\n",
    "# sns.set()\n",
    "\n",
    "# import sweetviz as sv\n",
    "# # 可以选择目标特征\n",
    "# my_report = sv.analyze(train, target_feat ='result')\n",
    "# my_report.show_html()"
   ]
  },
  {
   "cell_type": "code",
   "execution_count": null,
   "metadata": {
    "ExecuteTime": {
     "end_time": "2021-09-19T10:57:59.677256Z",
     "start_time": "2021-09-19T10:57:59.647275Z"
    }
   },
   "outputs": [],
   "source": []
  },
  {
   "cell_type": "code",
   "execution_count": 200,
   "metadata": {
    "ExecuteTime": {
     "end_time": "2021-09-27T11:16:24.148907Z",
     "start_time": "2021-09-27T11:16:24.106931Z"
    },
    "colab": {
     "base_uri": "https://localhost:8080/"
    },
    "id": "8zSjBu_6EdIj",
    "outputId": "81692c28-e759-47b2-a248-7e1e880b2636"
   },
   "outputs": [],
   "source": [
    "new_featurs = [_f for _f, _score, _ in feature_scores if _score > 0]\n",
    "test_x = test_x[new_featurs]\n",
    "train_x = train_x[new_featurs]"
   ]
  },
  {
   "cell_type": "code",
   "execution_count": 201,
   "metadata": {
    "ExecuteTime": {
     "end_time": "2021-09-27T11:16:24.179889Z",
     "start_time": "2021-09-27T11:16:24.150906Z"
    }
   },
   "outputs": [],
   "source": [
    "import pandas as pd\n",
    "import numpy as np\n",
    "from sklearn.metrics import roc_auc_score\n",
    "from sklearn.model_selection import KFold\n",
    "import time\n",
    "from lightgbm import LGBMClassifier\n",
    "import lightgbm as lgb\n",
    "\n",
    "import matplotlib.pyplot as plt\n",
    "import matplotlib.gridspec as gridspec\n",
    "import seaborn as sns\n",
    "%matplotlib inline\n",
    "\n",
    "import warnings\n",
    "warnings.simplefilter('ignore', UserWarning)\n",
    "\n",
    "def get_feature_importances(data, shuffle, seed=None):\n",
    "    # Gather real features\n",
    "    train_features = [f for f in data if f not in ['result']]\n",
    "    # Go over fold and keep track of CV score (train and valid) and feature importances\n",
    "    \n",
    "    # Shuffle target if required\n",
    "    y = data['result'].copy()\n",
    "    if shuffle:\n",
    "        # Here you could as well use a binomial distribution\n",
    "        y = data['result'].copy().sample(frac=1.0)\n",
    "    \n",
    "    # Fit LightGBM in RF mode, yes it's quicker than sklearn RandomForest\n",
    "    dtrain = lgb.Dataset(data[train_features], y, free_raw_data=False, silent=True)\n",
    "    lgb_params = {\n",
    "        'objective': 'binary',\n",
    "        'boosting_type': 'rf',\n",
    "        'subsample': 0.623,\n",
    "        'colsample_bytree': 0.7,\n",
    "        'num_leaves': 127,\n",
    "        'max_depth': 8,\n",
    "        'seed': seed,\n",
    "        'bagging_freq': 1,\n",
    "        'n_jobs': 4\n",
    "    }\n",
    "    \n",
    "    # Fit the model\n",
    "    clf = lgb.train(params=lgb_params, train_set=dtrain, num_boost_round=200)\n",
    "\n",
    "    # Get feature importances\n",
    "    imp_df = pd.DataFrame()\n",
    "    imp_df[\"feature\"] = list(train_features)\n",
    "    imp_df[\"importance_gain\"] = clf.feature_importance(importance_type='gain')\n",
    "    imp_df[\"importance_split\"] = clf.feature_importance(importance_type='split')\n",
    "    imp_df['trn_score'] = roc_auc_score(y, clf.predict(data[train_features]))\n",
    "    \n",
    "    return imp_df"
   ]
  },
  {
   "cell_type": "code",
   "execution_count": 202,
   "metadata": {
    "ExecuteTime": {
     "end_time": "2021-09-27T11:16:33.642544Z",
     "start_time": "2021-09-27T11:16:24.181888Z"
    }
   },
   "outputs": [],
   "source": [
    "# Seed the unexpected randomness of this world\n",
    "np.random.seed(123)\n",
    "# Get the actual importance, i.e. without shuffling\n",
    "actual_imp_df = get_feature_importances(data=train, shuffle=False) "
   ]
  },
  {
   "cell_type": "code",
   "execution_count": null,
   "metadata": {
    "ExecuteTime": {
     "start_time": "2021-09-27T11:11:03.269Z"
    }
   },
   "outputs": [
    {
     "name": "stdout",
     "output_type": "stream",
     "text": [
      "Done with   57 of   80 (Spent   9.3 min)"
     ]
    }
   ],
   "source": [
    "null_imp_df = pd.DataFrame()\n",
    "nb_runs = 80\n",
    "import time\n",
    "start = time.time()\n",
    "dsp = ''\n",
    "for i in range(nb_runs):\n",
    "    # Get current run importances\n",
    "    imp_df = get_feature_importances(data=train, shuffle=True)\n",
    "    imp_df['run'] = i + 1 \n",
    "    # Concat the latest importances with the old ones\n",
    "    null_imp_df = pd.concat([null_imp_df, imp_df], axis=0)\n",
    "    # Erase previous message\n",
    "    for l in range(len(dsp)):\n",
    "        print('\\b', end='', flush=True)\n",
    "    # Display current run and time used\n",
    "    spent = (time.time() - start) / 60\n",
    "    dsp = 'Done with %4d of %4d (Spent %5.1f min)' % (i + 1, nb_runs, spent)\n",
    "    print(dsp, end='', flush=True)"
   ]
  },
  {
   "cell_type": "code",
   "execution_count": null,
   "metadata": {
    "ExecuteTime": {
     "start_time": "2021-09-27T11:11:03.273Z"
    }
   },
   "outputs": [],
   "source": [
    "feature_scores = []\n",
    "for _f in actual_imp_df['feature'].unique():\n",
    "    f_null_imps_gain = null_imp_df.loc[null_imp_df['feature'] == _f, 'importance_gain'].values\n",
    "    f_act_imps_gain = actual_imp_df.loc[actual_imp_df['feature'] == _f, 'importance_gain'].mean()\n",
    "    gain_score = np.log(1e-10 + f_act_imps_gain / (1 + np.percentile(f_null_imps_gain, 75)))  # Avoid didvide by zero\n",
    "    \n",
    "    f_null_imps_split = null_imp_df.loc[null_imp_df['feature'] == _f, 'importance_split'].values\n",
    "    f_act_imps_split = actual_imp_df.loc[actual_imp_df['feature'] == _f, 'importance_split'].mean()\n",
    "    split_score = np.log(1e-10 + f_act_imps_split / (1 + np.percentile(f_null_imps_split, 75)))  # Avoid didvide by zero\n",
    "    \n",
    "    feature_scores.append((_f, split_score, gain_score))\n",
    " \n",
    "scores_df = pd.DataFrame(feature_scores, columns=['feature', 'split_score', 'gain_score'])"
   ]
  },
  {
   "cell_type": "code",
   "execution_count": null,
   "metadata": {
    "ExecuteTime": {
     "end_time": "2021-09-19T12:12:59.700049Z",
     "start_time": "2021-09-19T12:04:29.374Z"
    }
   },
   "outputs": [],
   "source": []
  },
  {
   "cell_type": "code",
   "execution_count": null,
   "metadata": {
    "ExecuteTime": {
     "start_time": "2021-09-27T11:11:03.277Z"
    }
   },
   "outputs": [],
   "source": [
    "feature_scores = []\n",
    "for _f in actual_imp_df['feature'].unique():\n",
    "    f_null_imps_gain = null_imp_df.loc[null_imp_df['feature'] == _f, 'importance_gain'].values\n",
    "    f_act_imps_gain = actual_imp_df.loc[actual_imp_df['feature'] == _f, 'importance_gain'].mean()\n",
    "    gain_score = np.log(1e-10 + f_act_imps_gain / (1 + np.percentile(f_null_imps_gain, 75)))  # Avoid didvide by zero\n",
    "    f_null_imps_split = null_imp_df.loc[null_imp_df['feature'] == _f, 'importance_split'].values\n",
    "    f_act_imps_split = actual_imp_df.loc[actual_imp_df['feature'] == _f, 'importance_split'].mean()\n",
    "    split_score = np.log(1e-10 + f_act_imps_split / (1 + np.percentile(f_null_imps_split, 75)))  # Avoid didvide by zero\n",
    "    feature_scores.append((_f, split_score, gain_score))\n",
    "\n",
    "scores_df = pd.DataFrame(feature_scores, columns=['feature', 'split_score', 'gain_score'])\n",
    "\n",
    "plt.figure(figsize=(16, 16))\n",
    "gs = gridspec.GridSpec(1, 2)\n",
    "# Plot Split importances\n",
    "ax = plt.subplot(gs[0, 0])\n",
    "sns.barplot(x='split_score', y='feature', data=scores_df.sort_values('split_score', ascending=False).iloc[0:70], ax=ax)\n",
    "ax.set_title('Feature scores wrt split importances', fontweight='bold', fontsize=14)\n",
    "# Plot Gain importances\n",
    "ax = plt.subplot(gs[0, 1])\n",
    "sns.barplot(x='gain_score', y='feature', data=scores_df.sort_values('gain_score', ascending=False).iloc[0:70], ax=ax)\n",
    "ax.set_title('Feature scores wrt gain importances', fontweight='bold', fontsize=14)\n",
    "plt.tight_layout()"
   ]
  },
  {
   "cell_type": "code",
   "execution_count": null,
   "metadata": {
    "ExecuteTime": {
     "end_time": "2021-09-19T12:12:59.711043Z",
     "start_time": "2021-09-19T12:04:29.377Z"
    }
   },
   "outputs": [],
   "source": []
  },
  {
   "cell_type": "code",
   "execution_count": null,
   "metadata": {
    "ExecuteTime": {
     "start_time": "2021-09-27T11:11:03.285Z"
    }
   },
   "outputs": [],
   "source": [
    "# def score_feature_selection(df=None, train_features=None, target=None):\n",
    "#     # Fit LightGBM \n",
    "#     dtrain = lgb.Dataset(df[train_features], target, free_raw_data=False, silent=True)\n",
    "#     lgb_params = {\n",
    "#         'objective': 'binary',\n",
    "#         'boosting_type': 'gbdt',\n",
    "#         'learning_rate': .1,\n",
    "#         'subsample': 0.8,\n",
    "#         'colsample_bytree': 0.8,\n",
    "#         'num_leaves': 31,\n",
    "#         'max_depth': -1,\n",
    "#         'seed': 13,\n",
    "#         'n_jobs': 4,\n",
    "#         'min_split_gain': .00001,\n",
    "#         'reg_alpha': .00001,\n",
    "#         'reg_lambda': .00001,\n",
    "#         'metric': 'auc'\n",
    "#     }\n",
    "#     # Fit the model\n",
    "#     hist = lgb.cv(\n",
    "#         params=lgb_params, \n",
    "#         train_set=dtrain, \n",
    "#         num_boost_round=2000,\n",
    "#         nfold=5,\n",
    "#         stratified=True,\n",
    "#         shuffle=True,\n",
    "#         early_stopping_rounds=50,\n",
    "#         verbose_eval=0,\n",
    "#         seed=17)\n",
    "#     # Return the last mean / std values \n",
    "#     return hist['auc-mean'][-1], hist['auc-stdv'][-1]\n",
    "\n",
    "# # train.columns = test.columns\n",
    "# # features = [f for f in train.columns if f not in ['result']]\n",
    "# # score_feature_selection(df=train[features], train_features=features, target=train['result'])\n",
    "\n",
    "# categorical_feats = cat_features\n",
    "\n",
    "# for threshold in [0, 10, 20, 30 , 40, 50 ,60 , 70, 80 , 90, 95, 99]:\n",
    "#     split_feats     = [_f for _f, _score, _ in correlation_scores if _score >= threshold]\n",
    "#     # split_cat_feats = [_f for _f, _score, _ in correlation_scores if (_score >= threshold) & (_f in categorical_feats)]\n",
    "    \n",
    "#     gain_feats     = [_f for _f, _, _score in correlation_scores if _score >= threshold]\n",
    "#     # gain_cat_feats = [_f for _f, _, _score in correlation_scores if (_score >= threshold) & (_f in categorical_feats)]\n",
    "                                                                                             \n",
    "#     print('Results for threshold %3d' % threshold)\n",
    "#     split_results = score_feature_selection(df=train, train_features=split_feats, target=train['result'])\n",
    "#     print('\\t SPLIT : %.6f +/- %.6f' % (split_results[0], split_results[1]))\n",
    "#     gain_results = score_feature_selection(df=train, train_features=gain_feats, target=train['result'])\n",
    "#     print('\\t GAIN  : %.6f +/- %.6f' % (gain_results[0], gain_results[1]))"
   ]
  },
  {
   "cell_type": "code",
   "execution_count": null,
   "metadata": {
    "ExecuteTime": {
     "end_time": "2021-09-20T01:45:14.140018Z",
     "start_time": "2021-09-20T01:45:14.109273Z"
    }
   },
   "outputs": [],
   "source": []
  },
  {
   "cell_type": "code",
   "execution_count": null,
   "metadata": {
    "ExecuteTime": {
     "end_time": "2021-09-20T01:45:14.171316Z",
     "start_time": "2021-09-20T01:45:14.142030Z"
    }
   },
   "outputs": [],
   "source": []
  },
  {
   "cell_type": "code",
   "execution_count": null,
   "metadata": {
    "ExecuteTime": {
     "end_time": "2021-09-19T16:25:06.526487Z",
     "start_time": "2021-09-19T16:25:06.486509Z"
    }
   },
   "outputs": [],
   "source": []
  },
  {
   "cell_type": "code",
   "execution_count": null,
   "metadata": {
    "ExecuteTime": {
     "end_time": "2021-09-19T16:25:21.217475Z",
     "start_time": "2021-09-19T16:25:08.165901Z"
    }
   },
   "outputs": [],
   "source": []
  },
  {
   "cell_type": "code",
   "execution_count": null,
   "metadata": {
    "ExecuteTime": {
     "end_time": "2021-09-19T16:25:21.219474Z",
     "start_time": "2021-09-19T16:25:11.140Z"
    }
   },
   "outputs": [],
   "source": []
  },
  {
   "cell_type": "code",
   "execution_count": null,
   "metadata": {
    "ExecuteTime": {
     "end_time": "2021-09-19T16:17:28.362557Z",
     "start_time": "2021-09-19T16:17:28.328591Z"
    }
   },
   "outputs": [],
   "source": []
  },
  {
   "cell_type": "code",
   "execution_count": null,
   "metadata": {},
   "outputs": [],
   "source": []
  }
 ],
 "metadata": {
  "colab": {
   "collapsed_sections": [],
   "name": "NewXG.ipynb",
   "provenance": []
  },
  "kernelspec": {
   "display_name": "Python 3",
   "language": "python",
   "name": "python3"
  },
  "language_info": {
   "codemirror_mode": {
    "name": "ipython",
    "version": 3
   },
   "file_extension": ".py",
   "mimetype": "text/x-python",
   "name": "python",
   "nbconvert_exporter": "python",
   "pygments_lexer": "ipython3",
   "version": "3.8.5"
  },
  "toc": {
   "base_numbering": 1,
   "nav_menu": {},
   "number_sections": true,
   "sideBar": true,
   "skip_h1_title": false,
   "title_cell": "Table of Contents",
   "title_sidebar": "Contents",
   "toc_cell": false,
   "toc_position": {},
   "toc_section_display": true,
   "toc_window_display": false
  }
 },
 "nbformat": 4,
 "nbformat_minor": 1
}
