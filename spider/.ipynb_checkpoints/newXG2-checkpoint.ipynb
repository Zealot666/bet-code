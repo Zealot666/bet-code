{
 "cells": [
  {
   "cell_type": "code",
   "execution_count": 165,
   "metadata": {
    "ExecuteTime": {
     "end_time": "2021-09-23T15:29:01.090948Z",
     "start_time": "2021-09-23T15:29:01.085951Z"
    },
    "colab": {
     "base_uri": "https://localhost:8080/"
    },
    "id": "sweheA5JE1Um",
    "outputId": "3338da98-f3f9-414b-92c8-aa1c3070a18c"
   },
   "outputs": [],
   "source": [
    "import json\n",
    "import pandas as pd\n",
    "import pymongo\n",
    "import matplotlib as mpl\n",
    "import numpy as np\n",
    "import matplotlib.pyplot as plt"
   ]
  },
  {
   "cell_type": "code",
   "execution_count": 166,
   "metadata": {
    "ExecuteTime": {
     "end_time": "2021-09-23T15:29:01.377459Z",
     "start_time": "2021-09-23T15:29:01.360455Z"
    },
    "id": "dQ2cjdK9EdIH"
   },
   "outputs": [],
   "source": [
    "def reduce_mem_usage(df):\n",
    "    \"\"\" iterate through all the columns of a dataframe and modify the data type\n",
    "        to reduce memory usage.        \n",
    "    \"\"\"\n",
    "    start_mem = df.memory_usage().sum() / 1024**2\n",
    "    print('Memory usage of dataframe is {:.2f} MB'.format(start_mem))\n",
    "\n",
    "    for col in df.columns:\n",
    "        col_type = df[col].dtype\n",
    "        if col_type != object:\n",
    "            c_min = df[col].min()\n",
    "            c_max = df[col].max()\n",
    "            if str(col_type)[:3] == 'int':\n",
    "                if c_min > np.iinfo(np.int8).min and c_max < np.iinfo(np.int8).max:\n",
    "                    df[col] = df[col].astype(np.int8)\n",
    "                elif c_min > np.iinfo(np.int16).min and c_max < np.iinfo(np.int16).max:\n",
    "                    df[col] = df[col].astype(np.int16)\n",
    "                elif c_min > np.iinfo(np.int32).min and c_max < np.iinfo(np.int32).max:\n",
    "                    df[col] = df[col].astype(np.int32)\n",
    "                elif c_min > np.iinfo(np.int64).min and c_max < np.iinfo(np.int64).max:\n",
    "                    df[col] = df[col].astype(np.int64)\n",
    "            else:\n",
    "                df[col] = df[col].astype(np.float32)\n",
    "\n",
    "    end_mem = df.memory_usage().sum() / 1024**2\n",
    "    print('Memory usage after optimization is: {:.2f} MB'.format(end_mem))\n",
    "    print('Decreased by {:.1f}%'.format(\n",
    "        100 * (start_mem - end_mem) / start_mem))\n",
    "\n",
    "    return df"
   ]
  },
  {
   "cell_type": "code",
   "execution_count": 181,
   "metadata": {
    "ExecuteTime": {
     "end_time": "2021-09-23T15:38:49.658898Z",
     "start_time": "2021-09-23T15:38:49.638909Z"
    },
    "id": "EQ6sA0qwEdIJ"
   },
   "outputs": [],
   "source": [
    "def getGoalMid(masterGoal, guestGoal, masterMidGoal, guestMidGoal):\n",
    "    return masterGoal + guestGoal - masterMidGoal - guestMidGoal\n",
    "\n",
    "\n",
    "def removeSub(pankou):\n",
    "    pankou = pankou.replace(\"升\", \"\")\n",
    "    pankou = pankou.replace(\"降\", \"\")\n",
    "    return pankou.strip()\n",
    "\n",
    "\n",
    "def getResult(masterGoal, guestGoal, pankou):\n",
    "    pankouList = removeSub(pankou).split(\"/\")\n",
    "    row = 0\n",
    "    for p in pankouList:\n",
    "        row += float(p)\n",
    "    row = row / len(pankouList)\n",
    "\n",
    "    if masterGoal + guestGoal - row >= 0:\n",
    "        return 1\n",
    "    if masterGoal + guestGoal - row < 0:\n",
    "        return 0\n",
    "\n",
    "\n",
    "def getType(yapanMasterStartOdd, yapanGuestStartOdd, yapanPankouStart):\n",
    "    linTypeStart = get18(yapanMasterStartOdd, yapanGuestStartOdd)\n",
    "    return str(linTypeStart) + \"_\" + str(yapanPankouStart)\n",
    "\n",
    "\n",
    "def get18(master, guest):\n",
    "    if master > guest:\n",
    "        return 18\n",
    "    if master < guest:\n",
    "        return 81\n",
    "    if master == guest:\n",
    "        return 99\n",
    "\n",
    "\n",
    "def daxiao_num(x):\n",
    "    x_list = x.split(\"/\")\n",
    "    num = 0\n",
    "    for i in x_list:\n",
    "        num += float(i)\n",
    "    return (float(num)/len(x_list))\n",
    "\n",
    "\n",
    "def realDaxiao(x, master, guest):\n",
    "    return str(float(x) - master - guest)\n",
    "\n",
    "\n",
    "def shengjiang(start, end):\n",
    "    return ((end) - (start))\n",
    "\n",
    "def round2(x):\n",
    "    return round((x), 2)"
   ]
  },
  {
   "cell_type": "code",
   "execution_count": 182,
   "metadata": {
    "ExecuteTime": {
     "end_time": "2021-09-23T15:39:06.083222Z",
     "start_time": "2021-09-23T15:39:06.056239Z"
    },
    "id": "z5MN0RQYEdIK"
   },
   "outputs": [],
   "source": [
    "def fillNa(x, value):\n",
    "    if pd.isnull(x):\n",
    "        return value\n",
    "    else:\n",
    "        return x\n",
    "\n",
    "\n",
    "def preF(test):\n",
    "\n",
    "    test = test.drop(['a'], axis=1)\n",
    "\n",
    "    test = test.drop(['daxiaoMasterStartOddZao', 'daxiaoGuestStartOddZao', 'daxiaoPankouStartZao',\n",
    "                      'daxiaoMasterOddZao', 'daxiaoGuestOddZao', 'daxiaoPankouZao'], axis=1)\n",
    "\n",
    "    test['result'] = test.apply(lambda x: getResult(\n",
    "        x['masterGoal'], x['guestGoal'], x['daxiaoPankouMid']), axis=1)\n",
    "\n",
    "    test['goalMid'] = test.apply(lambda x: getGoalMid(\n",
    "        x['masterGoal'], x['guestGoal'], x['masterMidGoal'], x['guestMidGoal']), axis=1)\n",
    "\n",
    "    test['zhongbifengNew'] = test['masterMidGoal'].astype(\n",
    "        str) + \"_\" + test['guestMidGoal'].astype(str)\n",
    "\n",
    "#     test['zhongbifeng'] = test['masterMidGoal']+ test['guestMidGoal']\n",
    "    test[\"water_type_mid\"] =  test['daxiaoMasterOddMid'] + test['daxiaoGuestOddMid']\n",
    "    test[\"water_type_mid\"] =  test[\"water_type_mid\"].map(round2)\n",
    "    test[\"water_type_mid\"] =  test[\"water_type_mid\"].astype(str)\n",
    "\n",
    "    test['daxiaoPankouStart'] = test.apply(\n",
    "        lambda x: removeSub(x['daxiaoPankouStart']), axis=1)\n",
    "    test['daxiaoPankou'] = test.apply(\n",
    "        lambda x: removeSub(x['daxiaoPankou']), axis=1)\n",
    "\n",
    "    test['daxiaoPankouStartMid'] = test.apply(\n",
    "        lambda x: removeSub(x['daxiaoPankouStartMid']), axis=1)\n",
    "    test['daxiaoPankouMid'] = test.apply(\n",
    "        lambda x: removeSub(x['daxiaoPankouMid']), axis=1)\n",
    "\n",
    "    pankou = [\"daxiaoPankouStart\",\"daxiaoPankou\",\"daxiaoPankouStartMid\",\"daxiaoPankouMid\"]\n",
    "\n",
    "    for col in pankou:\n",
    "        test[col] = test[col].map(daxiao_num)\n",
    "\n",
    "    pankou = [\"daxiaoPankouMid\"]\n",
    "\n",
    "    for col in pankou:\n",
    "        nm = col+\"Real\"\n",
    "        test[nm] = test.apply(lambda x: realDaxiao(x[col],x['masterMidGoal'],x['guestMidGoal']), axis=1)\n",
    "\n",
    "#     test['daxiaoPankouShengJiang'] = test.apply(lambda x: shengjiang(x['daxiaoPankouStart'],x['daxiaoPankou']), axis=1)\n",
    "\n",
    "#     test['daxiaoPankouMidShengJiang'] = test.apply(lambda x: shengjiang(x['daxiaoPankouStartMid'],x['daxiaoPankouMid']), axis=1)\n",
    "\n",
    "\n",
    "    test['daxiaoTypeStart'] = test.apply(lambda x: getType(\n",
    "        x['daxiaoMasterStartOdd'], x['daxiaoGuestStartOdd'], x['daxiaoPankouStart']), axis=1)\n",
    "    test['daxiaoType'] = test.apply(lambda x: getType(\n",
    "        x['daxiaoMasterOdd'], x['daxiaoGuestOdd'], x['daxiaoPankou']), axis=1)\n",
    "    test['daxiaoTypeStartMid'] = test.apply(lambda x: getType(\n",
    "        x['daxiaoMasterStartOddMid'], x['daxiaoGuestStartOddMid'], x['daxiaoPankouStartMid']), axis=1)\n",
    "    test['daxiaoTypeMid'] = test.apply(lambda x: getType(\n",
    "        x['daxiaoMasterOddMid'], x['daxiaoGuestOddMid'], x['daxiaoPankouMid']), axis=1)\n",
    "\n",
    "    test['daxiaoTypeAll'] = test['daxiaoTypeMid'] + test['daxiaoTypeStartMid'] + test['daxiaoType'] + test['daxiaoTypeStart'] + test['zhongbifengNew']\n",
    "\n",
    "    test = test.drop(['daxiaoTypeStart', 'daxiaoType','daxiaoTypeStartMid','daxiaoTypeMid','zhongbifengNew'], axis=1)\n",
    "\n",
    "\n",
    "#     test['MasterOddFlowMid'+] = test[\"daxiaoMasterOddMid\"] - test[\"daxiaoMasterStartOddMid\"]\n",
    "#     test['MasterOddFlow'] = test[\"daxiaoMasterOdd\"] - test[\"daxiaoMasterStartOdd\"]\n",
    "\n",
    "    test = test[test['goalMid'] >= 0]\n",
    "#     test = test[(test['daxiaoMasterStartOdd'] >= 0.75) & (test['daxiaoMasterStartOdd'] < 1.20)]\n",
    "#     test = test[(test['daxiaoMasterOdd'] >= 0.75) & (test['daxiaoMasterOdd'] < 1.20)]\n",
    "#     test = test[(test['daxiaoGuestOddMid'] >= 0.75) & (test['daxiaoGuestOddMid'] < 1.20)]\n",
    "#     test = test[test['daxiaoPankouMid'].astype(float) <= test['daxiaoPankou'].astype(float)]\n",
    "#     test = test[(test[\"daxiaoPankouMidReal\"].astype(float)<=2) & (test[\"daxiaoPankouMidReal\"].astype(float)>=1)]\n",
    "\n",
    "    test = test.drop(columns=['masterGoal', 'guestGoal', \"goalMid\"])\n",
    "    test = test.drop(columns=['masterMidGoal', 'guestMidGoal'])\n",
    "\n",
    "    return test"
   ]
  },
  {
   "cell_type": "code",
   "execution_count": 183,
   "metadata": {
    "ExecuteTime": {
     "end_time": "2021-09-23T15:39:06.567945Z",
     "start_time": "2021-09-23T15:39:06.560949Z"
    },
    "id": "vN7FAlDIEdIO"
   },
   "outputs": [],
   "source": [
    "# def getShuiPing(x):\n",
    "#     result = 11\n",
    "#     if x <= 0.75:\n",
    "#         result = 0\n",
    "#     if 0.75< x and x<=0.80:\n",
    "#         result = 1\n",
    "#     if 0.80<x and x<=0.85:\n",
    "#         result = 3\n",
    "#     if 0.85<x and x<=0.90:\n",
    "#         result = 4\n",
    "#     if 0.95<x and x<=1.00:\n",
    "#         result = 5\n",
    "#     if 1.00<x and x<=1.08:\n",
    "#         result = 6\n",
    "#     if 1.08<x and x<=1.10:\n",
    "#         result = 7\n",
    "#     if 1.10<x and x<=1.15:\n",
    "#         result = 8\n",
    "#     if 1.15<x and x<=1.20:\n",
    "#         result = 9\n",
    "#     if x > 1.20:\n",
    "#         result = 10\n",
    "#     return result\n",
    "\n",
    "def getShuiPing(x):\n",
    "    result = 11\n",
    "    if x < 0.75:\n",
    "        result = 0\n",
    "    if 0.75<= x and x<=0.85:\n",
    "        result = 1\n",
    "    if 0.85<x and x<=0.90:\n",
    "        result = 2\n",
    "    if 0.90<x and x<=0.95:\n",
    "        result = 3\n",
    "    if 0.95<x and x<=1.00:\n",
    "        result = 4\n",
    "    if 1.00<x and x<=1.08:\n",
    "        result = 5\n",
    "    if 1.08<x:\n",
    "        result = 6\n",
    "    return result\n",
    "\n",
    "def num_fea_dis(df,features):\n",
    "    for f in features:\n",
    "        nm = f+'_'+'shuiPing'\n",
    "        df[nm] = df[f].map(getShuiPing)\n",
    "    return df"
   ]
  },
  {
   "cell_type": "code",
   "execution_count": 184,
   "metadata": {
    "ExecuteTime": {
     "end_time": "2021-09-23T15:39:13.304941Z",
     "start_time": "2021-09-23T15:39:06.830299Z"
    },
    "id": "2m0feaeSEdIQ"
   },
   "outputs": [],
   "source": [
    "myclient = pymongo.MongoClient(\"mongodb://localhost:27017/\")\n",
    "mydb = myclient[\"soccerData\"]\n",
    "mycol = mydb[\"midRawData007\"]\n",
    "data_mid = pd.DataFrame(list(mycol.find()))\n",
    "data_mid = data_mid.drop(['_id','place'], axis=1)"
   ]
  },
  {
   "cell_type": "code",
   "execution_count": 185,
   "metadata": {
    "ExecuteTime": {
     "end_time": "2021-09-23T15:39:13.320906Z",
     "start_time": "2021-09-23T15:39:13.306913Z"
    }
   },
   "outputs": [],
   "source": [
    "# data_mid = pd.read_csv('data_mid.csv')\n",
    "# data_mid = data_mid.drop(['Unnamed: 0'], axis=1)"
   ]
  },
  {
   "cell_type": "code",
   "execution_count": 186,
   "metadata": {
    "ExecuteTime": {
     "end_time": "2021-09-23T15:39:13.641862Z",
     "start_time": "2021-09-23T15:39:13.323903Z"
    }
   },
   "outputs": [],
   "source": [
    "pd.set_option('display.max_columns', None)\n",
    "data_mid = data_mid[data_mid[\"daxiaoPankou\"] != \"0-0\"]"
   ]
  },
  {
   "cell_type": "code",
   "execution_count": null,
   "metadata": {
    "ExecuteTime": {
     "end_time": "2021-09-19T16:21:03.778710Z",
     "start_time": "2021-09-19T16:21:03.766716Z"
    }
   },
   "outputs": [],
   "source": []
  },
  {
   "cell_type": "code",
   "execution_count": 187,
   "metadata": {
    "ExecuteTime": {
     "end_time": "2021-09-23T15:40:06.507316Z",
     "start_time": "2021-09-23T15:39:13.644861Z"
    }
   },
   "outputs": [],
   "source": [
    "# data_mid = reduce_mem_usage(data_mid)\n",
    "data_mid = preF(data_mid)"
   ]
  },
  {
   "cell_type": "code",
   "execution_count": 188,
   "metadata": {
    "ExecuteTime": {
     "end_time": "2021-09-23T15:40:06.523308Z",
     "start_time": "2021-09-23T15:40:06.509315Z"
    }
   },
   "outputs": [],
   "source": [
    "# data_mid = num_fea_dis(data_mid,fes)"
   ]
  },
  {
   "cell_type": "code",
   "execution_count": 189,
   "metadata": {
    "ExecuteTime": {
     "end_time": "2021-09-23T15:40:06.554289Z",
     "start_time": "2021-09-23T15:40:06.525306Z"
    }
   },
   "outputs": [],
   "source": [
    "# data_mid['daxiaoTypeStartOdd'] = data_mid['daxiaoMasterStartOdd_shuiPing'].astype(str) + data_mid['daxiaoGuestStartOdd_shuiPing'].astype(str) + data_mid['daxiaoPankouStart'].astype(str)\n",
    "# data_mid['daxiaoTypeOdd'] = data_mid['daxiaoMasterOdd_shuiPing'].astype(str) + data_mid['daxiaoGuestOdd_shuiPing'].astype(str) + data_mid['daxiaoPankou'].astype(str)\n",
    "# data_mid['daxiaoTypeStartMidOdd'] = data_mid['daxiaoMasterStartOddMid_shuiPing'].astype(str) + data_mid['daxiaoGuestStartOddMid_shuiPing'].astype(str) + data_mid['daxiaoPankouStartMid'].astype(str)\n",
    "# data_mid['daxiaoTypeMidOdd'] = data_mid['daxiaoMasterOddMid_shuiPing'].astype(str) + data_mid['daxiaoGuestOddMid_shuiPing'].astype(str) + data_mid['daxiaoPankouMid'].astype(str)\n",
    "    \n",
    "# data_mid['daxiaoTypeAllOdd'] = data_mid['daxiaoTypeStartOdd'] + data_mid['daxiaoTypeOdd'] + data_mid['daxiaoTypeStartMidOdd'] + data_mid['daxiaoTypeMidOdd'] + data_mid['zhongbifengNew']\n",
    "    \n",
    "# data_mid = data_mid.drop(['daxiaoTypeStartOdd', 'daxiaoTypeOdd','daxiaoTypeStartMidOdd','daxiaoTypeMidOdd'], axis=1)\n",
    "\n",
    "# for col in fes:\n",
    "#     data_mid = data_mid.drop(col+\"_shuiPing\", axis=1)"
   ]
  },
  {
   "cell_type": "code",
   "execution_count": null,
   "metadata": {
    "ExecuteTime": {
     "end_time": "2021-09-23T15:31:42.876473Z",
     "start_time": "2021-09-23T15:31:42.855471Z"
    }
   },
   "outputs": [],
   "source": []
  },
  {
   "cell_type": "code",
   "execution_count": null,
   "metadata": {
    "ExecuteTime": {
     "end_time": "2021-09-19T16:21:29.679556Z",
     "start_time": "2021-09-19T16:21:29.638580Z"
    }
   },
   "outputs": [],
   "source": []
  },
  {
   "cell_type": "code",
   "execution_count": 190,
   "metadata": {
    "ExecuteTime": {
     "end_time": "2021-09-23T15:40:06.632245Z",
     "start_time": "2021-09-23T15:40:06.557289Z"
    }
   },
   "outputs": [
    {
     "data": {
      "text/plain": [
       "array(['1.86', '1.82', '1.87', '1.8', '1.89', '1.84', '1.88', '1.7',\n",
       "       '1.81', '1.85', '1.83', '1.9', '1.96', '1.76', '1.92', '1.91',\n",
       "       '2.14', '1.95', '1.93', '2.01', '2.08', '2.06', '1.97', '1.99',\n",
       "       '2.3', '2.16', '1.94', '4.26', '2.33', '1.98', '1.78', '1.77',\n",
       "       '1.6', '1.71', '2.1', '1.72', '2.21'], dtype=object)"
      ]
     },
     "execution_count": 190,
     "metadata": {},
     "output_type": "execute_result"
    }
   ],
   "source": [
    "data_mid['water_type_mid'].unique()"
   ]
  },
  {
   "cell_type": "code",
   "execution_count": 178,
   "metadata": {
    "ExecuteTime": {
     "end_time": "2021-09-23T15:29:54.769469Z",
     "start_time": "2021-09-23T15:29:54.729492Z"
    }
   },
   "outputs": [
    {
     "data": {
      "text/html": [
       "<div>\n",
       "<style scoped>\n",
       "    .dataframe tbody tr th:only-of-type {\n",
       "        vertical-align: middle;\n",
       "    }\n",
       "\n",
       "    .dataframe tbody tr th {\n",
       "        vertical-align: top;\n",
       "    }\n",
       "\n",
       "    .dataframe thead th {\n",
       "        text-align: right;\n",
       "    }\n",
       "</style>\n",
       "<table border=\"1\" class=\"dataframe\">\n",
       "  <thead>\n",
       "    <tr style=\"text-align: right;\">\n",
       "      <th></th>\n",
       "      <th>time</th>\n",
       "      <th>daxiaoMasterStartOdd</th>\n",
       "      <th>daxiaoGuestStartOdd</th>\n",
       "      <th>daxiaoPankouStart</th>\n",
       "      <th>daxiaoMasterOdd</th>\n",
       "      <th>daxiaoGuestOdd</th>\n",
       "      <th>daxiaoPankou</th>\n",
       "      <th>daxiaoMasterStartOddMid</th>\n",
       "      <th>daxiaoGuestStartOddMid</th>\n",
       "      <th>daxiaoPankouStartMid</th>\n",
       "      <th>daxiaoMasterOddMid</th>\n",
       "      <th>daxiaoGuestOddMid</th>\n",
       "      <th>daxiaoPankouMid</th>\n",
       "      <th>result</th>\n",
       "      <th>water_type_mid</th>\n",
       "      <th>daxiaoTypeAll</th>\n",
       "    </tr>\n",
       "  </thead>\n",
       "  <tbody>\n",
       "    <tr>\n",
       "      <th>0</th>\n",
       "      <td>2021-07-02 00:00:00</td>\n",
       "      <td>0.82</td>\n",
       "      <td>1.05</td>\n",
       "      <td>2.25</td>\n",
       "      <td>1.02</td>\n",
       "      <td>0.85</td>\n",
       "      <td>2.50</td>\n",
       "      <td>0.84</td>\n",
       "      <td>1.02</td>\n",
       "      <td>4.25</td>\n",
       "      <td>0.85</td>\n",
       "      <td>1.01</td>\n",
       "      <td>4.25</td>\n",
       "      <td>0</td>\n",
       "      <td>1.8599999999999999</td>\n",
       "      <td>81_4.2581_4.2518_2.581_2.252_1</td>\n",
       "    </tr>\n",
       "    <tr>\n",
       "      <th>1</th>\n",
       "      <td>2021-07-02 00:00:00</td>\n",
       "      <td>0.82</td>\n",
       "      <td>1.05</td>\n",
       "      <td>2.25</td>\n",
       "      <td>1.02</td>\n",
       "      <td>0.85</td>\n",
       "      <td>2.50</td>\n",
       "      <td>0.84</td>\n",
       "      <td>1.02</td>\n",
       "      <td>4.25</td>\n",
       "      <td>0.85</td>\n",
       "      <td>1.01</td>\n",
       "      <td>4.25</td>\n",
       "      <td>0</td>\n",
       "      <td>1.8599999999999999</td>\n",
       "      <td>81_4.2581_4.2518_2.581_2.252_1</td>\n",
       "    </tr>\n",
       "    <tr>\n",
       "      <th>2</th>\n",
       "      <td>2021-07-21 00:00:00</td>\n",
       "      <td>1.05</td>\n",
       "      <td>0.81</td>\n",
       "      <td>2.00</td>\n",
       "      <td>1.01</td>\n",
       "      <td>0.85</td>\n",
       "      <td>2.00</td>\n",
       "      <td>1.04</td>\n",
       "      <td>0.82</td>\n",
       "      <td>1.00</td>\n",
       "      <td>1.05</td>\n",
       "      <td>0.81</td>\n",
       "      <td>1.00</td>\n",
       "      <td>1</td>\n",
       "      <td>1.86</td>\n",
       "      <td>18_1.018_1.018_2.018_2.00_0</td>\n",
       "    </tr>\n",
       "    <tr>\n",
       "      <th>3</th>\n",
       "      <td>2021-07-21 00:00:00</td>\n",
       "      <td>1.05</td>\n",
       "      <td>0.81</td>\n",
       "      <td>2.00</td>\n",
       "      <td>1.01</td>\n",
       "      <td>0.85</td>\n",
       "      <td>2.00</td>\n",
       "      <td>1.04</td>\n",
       "      <td>0.82</td>\n",
       "      <td>1.00</td>\n",
       "      <td>1.05</td>\n",
       "      <td>0.81</td>\n",
       "      <td>1.00</td>\n",
       "      <td>1</td>\n",
       "      <td>1.86</td>\n",
       "      <td>18_1.018_1.018_2.018_2.00_0</td>\n",
       "    </tr>\n",
       "    <tr>\n",
       "      <th>4</th>\n",
       "      <td>2021-07-04 00:00:00</td>\n",
       "      <td>1.02</td>\n",
       "      <td>0.85</td>\n",
       "      <td>3.00</td>\n",
       "      <td>0.94</td>\n",
       "      <td>0.92</td>\n",
       "      <td>2.75</td>\n",
       "      <td>0.83</td>\n",
       "      <td>1.03</td>\n",
       "      <td>1.75</td>\n",
       "      <td>0.87</td>\n",
       "      <td>0.99</td>\n",
       "      <td>1.75</td>\n",
       "      <td>1</td>\n",
       "      <td>1.8599999999999999</td>\n",
       "      <td>81_1.7581_1.7518_2.7518_3.00_0</td>\n",
       "    </tr>\n",
       "  </tbody>\n",
       "</table>\n",
       "</div>"
      ],
      "text/plain": [
       "                  time  daxiaoMasterStartOdd  daxiaoGuestStartOdd  \\\n",
       "0  2021-07-02 00:00:00                  0.82                 1.05   \n",
       "1  2021-07-02 00:00:00                  0.82                 1.05   \n",
       "2  2021-07-21 00:00:00                  1.05                 0.81   \n",
       "3  2021-07-21 00:00:00                  1.05                 0.81   \n",
       "4  2021-07-04 00:00:00                  1.02                 0.85   \n",
       "\n",
       "   daxiaoPankouStart  daxiaoMasterOdd  daxiaoGuestOdd  daxiaoPankou  \\\n",
       "0               2.25             1.02            0.85          2.50   \n",
       "1               2.25             1.02            0.85          2.50   \n",
       "2               2.00             1.01            0.85          2.00   \n",
       "3               2.00             1.01            0.85          2.00   \n",
       "4               3.00             0.94            0.92          2.75   \n",
       "\n",
       "   daxiaoMasterStartOddMid  daxiaoGuestStartOddMid  daxiaoPankouStartMid  \\\n",
       "0                     0.84                    1.02                  4.25   \n",
       "1                     0.84                    1.02                  4.25   \n",
       "2                     1.04                    0.82                  1.00   \n",
       "3                     1.04                    0.82                  1.00   \n",
       "4                     0.83                    1.03                  1.75   \n",
       "\n",
       "   daxiaoMasterOddMid  daxiaoGuestOddMid  daxiaoPankouMid  result  \\\n",
       "0                0.85               1.01             4.25       0   \n",
       "1                0.85               1.01             4.25       0   \n",
       "2                1.05               0.81             1.00       1   \n",
       "3                1.05               0.81             1.00       1   \n",
       "4                0.87               0.99             1.75       1   \n",
       "\n",
       "       water_type_mid                   daxiaoTypeAll  \n",
       "0  1.8599999999999999  81_4.2581_4.2518_2.581_2.252_1  \n",
       "1  1.8599999999999999  81_4.2581_4.2518_2.581_2.252_1  \n",
       "2                1.86     18_1.018_1.018_2.018_2.00_0  \n",
       "3                1.86     18_1.018_1.018_2.018_2.00_0  \n",
       "4  1.8599999999999999  81_1.7581_1.7518_2.7518_3.00_0  "
      ]
     },
     "execution_count": 178,
     "metadata": {},
     "output_type": "execute_result"
    }
   ],
   "source": [
    "data_mid.head()"
   ]
  },
  {
   "cell_type": "code",
   "execution_count": 139,
   "metadata": {
    "ExecuteTime": {
     "end_time": "2021-09-23T15:27:20.317252Z",
     "start_time": "2021-09-23T15:27:20.164387Z"
    }
   },
   "outputs": [
    {
     "name": "stdout",
     "output_type": "stream",
     "text": [
      "<class 'pandas.core.frame.DataFrame'>\n",
      "Int64Index: 256390 entries, 0 to 256431\n",
      "Data columns (total 16 columns):\n",
      " #   Column                   Non-Null Count   Dtype  \n",
      "---  ------                   --------------   -----  \n",
      " 0   time                     256390 non-null  object \n",
      " 1   daxiaoMasterStartOdd     256390 non-null  float32\n",
      " 2   daxiaoGuestStartOdd      256390 non-null  float32\n",
      " 3   daxiaoPankouStart        256390 non-null  float64\n",
      " 4   daxiaoMasterOdd          256390 non-null  float32\n",
      " 5   daxiaoGuestOdd           256390 non-null  float32\n",
      " 6   daxiaoPankou             256390 non-null  float64\n",
      " 7   daxiaoMasterStartOddMid  256390 non-null  float32\n",
      " 8   daxiaoGuestStartOddMid   256390 non-null  float32\n",
      " 9   daxiaoPankouStartMid     256390 non-null  float64\n",
      " 10  daxiaoMasterOddMid       256390 non-null  float32\n",
      " 11  daxiaoGuestOddMid        256390 non-null  float32\n",
      " 12  daxiaoPankouMid          256390 non-null  float64\n",
      " 13  result                   256390 non-null  int64  \n",
      " 14  water_type_mid           256390 non-null  object \n",
      " 15  daxiaoTypeAll            256390 non-null  object \n",
      "dtypes: float32(8), float64(4), int64(1), object(3)\n",
      "memory usage: 25.4+ MB\n"
     ]
    }
   ],
   "source": [
    "data_mid.info()"
   ]
  },
  {
   "cell_type": "code",
   "execution_count": 140,
   "metadata": {
    "ExecuteTime": {
     "end_time": "2021-09-23T15:27:20.333257Z",
     "start_time": "2021-09-23T15:27:20.320264Z"
    }
   },
   "outputs": [],
   "source": [
    "# data_mid['time'] = pd.to_datetime(data_mid['time'], format='%Y%m%d %H:%M:%S')\n",
    "# data_mid['year']    = data_mid['time'].dt.year\n",
    "# data_mid['month']   = data_mid['time'].dt.month\n",
    "# data_mid['weekofyear']     = data_mid['time'].dt.weekofyear\n",
    "# data_mid['day_of_year'] = data_mid['time'].dt.day_of_year\n",
    "# data_mid['weekday'] = data_mid['time'].dt.day_of_week\n",
    "# data_mid['is_year_start']    = data_mid['time'].dt.is_year_start \n",
    "# data_mid['is_quarter_start'] = data_mid['time'].dt.is_quarter_start \n",
    "# data_mid['is_month_start']   = data_mid['time'].dt.is_month_start \n",
    "# data_mid['is_month_end']     = data_mid['time'].dt.is_month_end\n",
    "# data_mid['is_weekend']       = np.where(data_mid['weekday'].isin([5,6]), 1,0)"
   ]
  },
  {
   "cell_type": "code",
   "execution_count": 141,
   "metadata": {
    "ExecuteTime": {
     "end_time": "2021-09-23T15:27:20.365239Z",
     "start_time": "2021-09-23T15:27:20.335256Z"
    }
   },
   "outputs": [],
   "source": [
    "# data_mid['time'] = data_mid['time'].astype(str)"
   ]
  },
  {
   "cell_type": "code",
   "execution_count": 142,
   "metadata": {
    "ExecuteTime": {
     "end_time": "2021-09-23T15:27:20.396222Z",
     "start_time": "2021-09-23T15:27:20.367237Z"
    },
    "id": "Et6vvrqFEdIc"
   },
   "outputs": [],
   "source": [
    "import gc\n",
    "\n",
    "def encode_CB(col1,col2,df1,name=\"\"):\n",
    "    if name == \"\":\n",
    "        nm = col1+'_'+col2\n",
    "    else:\n",
    "        nm = name\n",
    "    nm = col1+'_'+col2\n",
    "    df1[nm] = df1[col1].astype(str)+'_'+df1[col2].astype(str)\n",
    "\n",
    "def encode_CB3(col1,col2,col3,df1,name=\"\"):\n",
    "    if name == \"\":\n",
    "        nm = col1+'_'+col2+'_'+col3\n",
    "    else:\n",
    "        nm = name\n",
    "    df1[nm] = df1[col1].astype(str)+'_'+df1[col2].astype(str)+'_'+df1[col3].astype(str)"
   ]
  },
  {
   "cell_type": "code",
   "execution_count": 143,
   "metadata": {
    "ExecuteTime": {
     "end_time": "2021-09-23T15:27:20.427241Z",
     "start_time": "2021-09-23T15:27:20.398220Z"
    },
    "id": "nBk6_kynEdId"
   },
   "outputs": [],
   "source": [
    "# encode_CB(\"daxiaoPankou\",\"daxiaoPankouMid\",data_mid)\n",
    "# encode_CB(\"daxiaoPankouStartMid\",\"daxiaoPankouMid\",data_mid)"
   ]
  },
  {
   "cell_type": "code",
   "execution_count": 144,
   "metadata": {
    "ExecuteTime": {
     "end_time": "2021-09-23T15:27:20.473214Z",
     "start_time": "2021-09-23T15:27:20.429240Z"
    }
   },
   "outputs": [],
   "source": [
    "# data_mid = data_mid.sort_values('time')\n",
    "# train = data_mid[:230000]\n",
    "# test = data_mid[230000:]\n",
    "\n",
    "# idMap = data_mid[[\"place\", \"result\"]].set_index(\"place\").to_dict()[\"result\"]\n",
    "# test_y = test['result']\n",
    "# test = test.drop(['result'], axis=1)\n",
    "# data_mid = pd.concat([train,test])\n",
    "\n",
    "# fes = ['daxiaoMasterStartOdd','daxiaoGuestStartOdd',\n",
    "#        'daxiaoMasterOdd','daxiaoGuestOdd',\n",
    "#        'daxiaoMasterStartOddMid','daxiaoGuestStartOddMid',\n",
    "#        'daxiaoMasterOddMid','daxiaoGuestOddMid']\n",
    "\n",
    "# fes = []\n",
    "\n",
    "# listOdd = ['typeLinStartReal', 'typeLinEndReal','typeLinStart'] + fes\n",
    "\n",
    "# for day in [7,30,140]:\n",
    "#     for odd in listOdd:\n",
    "#         data_mid.sort_values([odd, 'time'], ascending=[True, True], inplace=True)\n",
    "#         def f_mean(x): return x.rolling(window=day, min_periods=1).mean()\n",
    "#         def f_std(x): return x.rolling(window=day, min_periods=1).std()\n",
    "#         function_list = [f_mean, f_std]\n",
    "#         function_name = ['mean', 'std']\n",
    "#         for i in range(len(function_list)):\n",
    "#             data_mid['stat_' + odd + \"_\" + function_name[i] + \"_\" + str(day)] = data_mid.sort_values(\n",
    "#                 'time').groupby([odd])['result'].apply(function_list[i])\n",
    "# data_mid['result'] = data_mid['place'].map(idMap)\n",
    "# data_mid = data_mid.sort_values('time')"
   ]
  },
  {
   "cell_type": "code",
   "execution_count": 145,
   "metadata": {
    "ExecuteTime": {
     "end_time": "2021-09-23T15:27:20.631125Z",
     "start_time": "2021-09-23T15:27:20.475214Z"
    }
   },
   "outputs": [
    {
     "name": "stdout",
     "output_type": "stream",
     "text": [
      "<class 'pandas.core.frame.DataFrame'>\n",
      "Int64Index: 256390 entries, 0 to 256431\n",
      "Data columns (total 16 columns):\n",
      " #   Column                   Non-Null Count   Dtype  \n",
      "---  ------                   --------------   -----  \n",
      " 0   time                     256390 non-null  object \n",
      " 1   daxiaoMasterStartOdd     256390 non-null  float32\n",
      " 2   daxiaoGuestStartOdd      256390 non-null  float32\n",
      " 3   daxiaoPankouStart        256390 non-null  float64\n",
      " 4   daxiaoMasterOdd          256390 non-null  float32\n",
      " 5   daxiaoGuestOdd           256390 non-null  float32\n",
      " 6   daxiaoPankou             256390 non-null  float64\n",
      " 7   daxiaoMasterStartOddMid  256390 non-null  float32\n",
      " 8   daxiaoGuestStartOddMid   256390 non-null  float32\n",
      " 9   daxiaoPankouStartMid     256390 non-null  float64\n",
      " 10  daxiaoMasterOddMid       256390 non-null  float32\n",
      " 11  daxiaoGuestOddMid        256390 non-null  float32\n",
      " 12  daxiaoPankouMid          256390 non-null  float64\n",
      " 13  result                   256390 non-null  int64  \n",
      " 14  water_type_mid           256390 non-null  object \n",
      " 15  daxiaoTypeAll            256390 non-null  object \n",
      "dtypes: float32(8), float64(4), int64(1), object(3)\n",
      "memory usage: 25.4+ MB\n"
     ]
    }
   ],
   "source": [
    "data_mid.info()"
   ]
  },
  {
   "cell_type": "code",
   "execution_count": 146,
   "metadata": {
    "ExecuteTime": {
     "end_time": "2021-09-23T15:27:20.647115Z",
     "start_time": "2021-09-23T15:27:20.633123Z"
    }
   },
   "outputs": [],
   "source": [
    "train = data_mid[:230000]\n",
    "test = data_mid[230000:]"
   ]
  },
  {
   "cell_type": "code",
   "execution_count": 147,
   "metadata": {
    "ExecuteTime": {
     "end_time": "2021-09-23T15:27:20.742060Z",
     "start_time": "2021-09-23T15:27:20.649114Z"
    },
    "id": "yLniPYUitKX0"
   },
   "outputs": [],
   "source": [
    "from sklearn.model_selection import  StratifiedKFold,KFold\n",
    "import category_encoders as ce\n",
    "\n",
    "def mean_woe_target_encoder(train,test,target,col,n_splits=10):\n",
    "    folds = StratifiedKFold(n_splits)\n",
    "\n",
    "    y_oof = np.zeros(train.shape[0])\n",
    "    y_oof_2= np.zeros(train.shape[0])\n",
    "    y_test_oof = np.zeros(test.shape[0]).reshape(-1,1)\n",
    "    y_test_oof2 = np.zeros(test.shape[0]).reshape(-1,1)\n",
    "\n",
    "    splits = folds.split(train, target)\n",
    "    \n",
    "    for fold_n, (train_index, valid_index) in enumerate(splits):\n",
    "        X_train, X_valid = train[col].iloc[train_index], train[col].iloc[valid_index]\n",
    "        y_train, y_valid = target.iloc[train_index], target.iloc[valid_index]\n",
    "        clf=ce.target_encoder.TargetEncoder()\n",
    "    \n",
    "        clf.fit(X_train.values,y_train.values)    \n",
    "        y_pred_valid = clf.transform(X_valid.values)\n",
    "\n",
    "        y_oof[valid_index] = y_pred_valid.values.reshape(1,-1)\n",
    "\n",
    "        tp=(clf.transform(test[col].values)/(n_splits*1.0)).values\n",
    "        tp=tp.reshape(-1,1)\n",
    "        y_test_oof+=tp    \n",
    "    \n",
    "        del X_train, X_valid, y_train, y_valid\n",
    "        gc.collect()    \n",
    "        \n",
    "    for fold_n, (train_index, valid_index) in enumerate(splits):\n",
    "        X_train, X_valid = train[col].iloc[train_index], train[col].iloc[valid_index]\n",
    "        y_train, y_valid = target.iloc[train_index], target.iloc[valid_index]\n",
    "        clf=ce.woe.WOEEncoder()\n",
    "    \n",
    "        clf.fit(X_train.values,y_train.values)    \n",
    "        y_pred_valid = clf.transform(X_valid.values)\n",
    "        y_oof2[valid_index] = y_pred_valid.values.reshape(1,-1)\n",
    "    \n",
    "        tp=(clf.transform(test[col].values)/(n_splits*1.0)).values\n",
    "        tp=tp.reshape(-1,1)\n",
    "        y_test_oof2+=tp    \n",
    "        del X_train, X_valid, y_train, y_valid\n",
    "        gc.collect()     \n",
    "    return y_oof,y_oof_2,y_test_oof,y_test_oof2"
   ]
  },
  {
   "cell_type": "code",
   "execution_count": 148,
   "metadata": {
    "ExecuteTime": {
     "end_time": "2021-09-23T15:27:20.788035Z",
     "start_time": "2021-09-23T15:27:20.746059Z"
    }
   },
   "outputs": [],
   "source": [
    "from sklearn.base import BaseEstimator, TransformerMixin\n",
    "from sklearn.base import clone\n",
    "from sklearn.model_selection import check_cv\n",
    "\n",
    "from category_encoders import CatBoostEncoder\n",
    "\n",
    "import pandas as pd\n",
    "import numpy as np\n",
    "\n",
    "\n",
    "class TargetEncoderCV(BaseEstimator, TransformerMixin):\n",
    "\n",
    "    def __init__(self, cv, **cbe_params):\n",
    "        self.cv = cv\n",
    "        self.cbe_params = cbe_params\n",
    "\n",
    "    @property\n",
    "    def _n_splits(self):\n",
    "        return check_cv(self.cv).n_splits\n",
    "\n",
    "    def fit_transform(self, X: pd.DataFrame, y) -> pd.DataFrame:\n",
    "        self.cbe_ = []\n",
    "        cv = check_cv(self.cv)\n",
    "\n",
    "        cbe = CatBoostEncoder(\n",
    "            cols=X.columns.tolist(),\n",
    "            return_df=False,\n",
    "            **self.cbe_params\n",
    "        )\n",
    "\n",
    "        X_transformed = np.zeros_like(X, dtype=np.float64)\n",
    "        for train_idx, valid_idx in cv.split(X, y):\n",
    "            self.cbe_.append(\n",
    "                clone(cbe).fit(X.loc[train_idx], y.iloc[train_idx])\n",
    "            )\n",
    "            X_transformed[valid_idx] = self.cbe_[-1].transform(\n",
    "                X.loc[valid_idx]\n",
    "            )\n",
    "\n",
    "        return pd.DataFrame(X_transformed, columns=X.columns, index=X.index)\n",
    "\n",
    "    def transform(self, X: pd.DataFrame) -> pd.DataFrame:\n",
    "        X_transformed = np.zeros_like(X, dtype=np.float64)\n",
    "        for cbe in self.cbe_:\n",
    "            X_transformed += cbe.transform(X) / self._n_splits\n",
    "        return pd.DataFrame(X_transformed, columns=X.columns, index=X.index)"
   ]
  },
  {
   "cell_type": "code",
   "execution_count": 149,
   "metadata": {
    "ExecuteTime": {
     "end_time": "2021-09-23T15:27:20.849998Z",
     "start_time": "2021-09-23T15:27:20.791033Z"
    }
   },
   "outputs": [],
   "source": [
    "import gc\n",
    "cat_features = train.select_dtypes(include='object').columns"
   ]
  },
  {
   "cell_type": "code",
   "execution_count": 150,
   "metadata": {
    "ExecuteTime": {
     "end_time": "2021-09-23T15:27:20.926954Z",
     "start_time": "2021-09-23T15:27:20.851998Z"
    }
   },
   "outputs": [],
   "source": [
    "train_x =  train.drop(columns=['result'])\n",
    "train_y =  train['result']\n",
    "\n",
    "test_y = test['result']\n",
    "test_x =  test.drop(columns=['result'])\n",
    "\n",
    "# train_x = train_x.reset_index()\n",
    "# test_x  = test_x.reset_index()\n",
    "\n",
    "# train_y = train_y.reset_index()['result']\n",
    "# test_y = test_y.reset_index()['result']"
   ]
  },
  {
   "cell_type": "code",
   "execution_count": null,
   "metadata": {
    "ExecuteTime": {
     "end_time": "2021-09-21T13:01:34.451068Z",
     "start_time": "2021-09-21T13:01:34.434078Z"
    }
   },
   "outputs": [],
   "source": []
  },
  {
   "cell_type": "code",
   "execution_count": 151,
   "metadata": {
    "ExecuteTime": {
     "end_time": "2021-09-23T15:27:21.038905Z",
     "start_time": "2021-09-23T15:27:20.928954Z"
    }
   },
   "outputs": [
    {
     "name": "stdout",
     "output_type": "stream",
     "text": [
      "<class 'pandas.core.frame.DataFrame'>\n",
      "Int64Index: 230000 entries, 0 to 230041\n",
      "Data columns (total 15 columns):\n",
      " #   Column                   Non-Null Count   Dtype  \n",
      "---  ------                   --------------   -----  \n",
      " 0   time                     230000 non-null  object \n",
      " 1   daxiaoMasterStartOdd     230000 non-null  float32\n",
      " 2   daxiaoGuestStartOdd      230000 non-null  float32\n",
      " 3   daxiaoPankouStart        230000 non-null  float64\n",
      " 4   daxiaoMasterOdd          230000 non-null  float32\n",
      " 5   daxiaoGuestOdd           230000 non-null  float32\n",
      " 6   daxiaoPankou             230000 non-null  float64\n",
      " 7   daxiaoMasterStartOddMid  230000 non-null  float32\n",
      " 8   daxiaoGuestStartOddMid   230000 non-null  float32\n",
      " 9   daxiaoPankouStartMid     230000 non-null  float64\n",
      " 10  daxiaoMasterOddMid       230000 non-null  float32\n",
      " 11  daxiaoGuestOddMid        230000 non-null  float32\n",
      " 12  daxiaoPankouMid          230000 non-null  float64\n",
      " 13  water_type_mid           230000 non-null  object \n",
      " 14  daxiaoTypeAll            230000 non-null  object \n",
      "dtypes: float32(8), float64(4), object(3)\n",
      "memory usage: 21.1+ MB\n"
     ]
    }
   ],
   "source": [
    "train_x.info()"
   ]
  },
  {
   "cell_type": "code",
   "execution_count": null,
   "metadata": {
    "ExecuteTime": {
     "end_time": "2021-09-21T13:01:49.599890Z",
     "start_time": "2021-09-21T13:01:49.320045Z"
    }
   },
   "outputs": [],
   "source": []
  },
  {
   "cell_type": "code",
   "execution_count": 152,
   "metadata": {
    "ExecuteTime": {
     "end_time": "2021-09-23T15:27:21.054882Z",
     "start_time": "2021-09-23T15:27:21.040890Z"
    }
   },
   "outputs": [],
   "source": [
    "# for col in ['daxiaoTypeStart','daxiaoType','daxiaoTypeStartMid','daxiaoTypeMid','daxiaoTypeAll','typeLinStart'\n",
    "#             ,'typeLinEnd','typeLinStartReal','typeLinEndReal','typeMidStart','typeMidEnd','TypeLin'\n",
    "#             ,'TypeLinReal','TypeMid','TypeLinMid','TypeAll','oldTypeLin','oldTypeMid','oldTypeLinMid','oldTypeAll']:\n",
    "#   y_oof,y_oof_2,y_test_oof,y_test_oof2 = mean_woe_target_encoder(train,test,train_y,col,n_splits=10)\n",
    "#   train_x[col] = y_oof\n",
    "#   test_x[col] = y_test_oof\n",
    "#   train[col] = y_oof\n",
    "#   test[col] = y_test_oof"
   ]
  },
  {
   "cell_type": "code",
   "execution_count": 153,
   "metadata": {
    "ExecuteTime": {
     "end_time": "2021-09-23T15:27:24.396029Z",
     "start_time": "2021-09-23T15:27:21.056880Z"
    }
   },
   "outputs": [
    {
     "name": "stderr",
     "output_type": "stream",
     "text": [
      "C:\\ProgramData\\Anaconda3\\lib\\site-packages\\category_encoders\\utils.py:21: FutureWarning: is_categorical is deprecated and will be removed in a future version.  Use is_categorical_dtype instead\n",
      "  elif pd.api.types.is_categorical(cols):\n",
      "C:\\Users\\24525\\AppData\\Roaming\\Python\\Python38\\site-packages\\pandas\\core\\frame.py:3607: SettingWithCopyWarning: \n",
      "A value is trying to be set on a copy of a slice from a DataFrame.\n",
      "Try using .loc[row_indexer,col_indexer] = value instead\n",
      "\n",
      "See the caveats in the documentation: https://pandas.pydata.org/pandas-docs/stable/user_guide/indexing.html#returning-a-view-versus-a-copy\n",
      "  self._set_item(key, value)\n"
     ]
    }
   ],
   "source": [
    "for col in ['daxiaoTypeAll']:\n",
    "  y_oof,y_oof_2,y_test_oof,y_test_oof2 = mean_woe_target_encoder(train,test,train_y,col,n_splits=10)\n",
    "  train_x[col] = y_oof\n",
    "  test_x[col] = y_test_oof\n",
    "  train[col] = y_oof\n",
    "  test[col] = y_test_oof"
   ]
  },
  {
   "cell_type": "code",
   "execution_count": 154,
   "metadata": {
    "ExecuteTime": {
     "end_time": "2021-09-23T15:27:24.412020Z",
     "start_time": "2021-09-23T15:27:24.398028Z"
    }
   },
   "outputs": [],
   "source": [
    "# for col in train.select_dtypes(include='object').columns:\n",
    "#   y_oof,y_oof_2,y_test_oof,y_test_oof2 = mean_woe_target_encoder(train,test,train_y,col,n_splits=10)\n",
    "#   train_x[col] = y_oof\n",
    "#   test_x[col] = y_test_oof\n",
    "#   train[col] = y_oof\n",
    "#   test[col] = y_test_oof"
   ]
  },
  {
   "cell_type": "code",
   "execution_count": 155,
   "metadata": {
    "ExecuteTime": {
     "end_time": "2021-09-23T15:27:24.444023Z",
     "start_time": "2021-09-23T15:27:24.414019Z"
    }
   },
   "outputs": [],
   "source": [
    "# te_cv = TargetEncoderCV(KFold(n_splits=3))\n",
    "# train_x = te_cv.fit_transform(train_x, train_y)\n",
    "# test_x = te_cv.transform(test_x)"
   ]
  },
  {
   "cell_type": "code",
   "execution_count": 156,
   "metadata": {
    "ExecuteTime": {
     "end_time": "2021-09-23T15:27:25.237609Z",
     "start_time": "2021-09-23T15:27:24.446023Z"
    },
    "id": "hccVqgJDEdIf"
   },
   "outputs": [],
   "source": [
    "import gc\n",
    "cat_features = train.select_dtypes(include='object').columns\n",
    "def encode_LE(col,train,test):\n",
    "    df_comb = pd.concat([train[col],test[col]],axis=0)\n",
    "    df_comb,_ = df_comb.factorize(sort=True)\n",
    "    nm = col\n",
    "    if df_comb.max()>32000: \n",
    "        train[nm] = df_comb[:len(train)].astype('int32')\n",
    "        test[nm] = df_comb[len(train):].astype('int32')\n",
    "    else:\n",
    "        train[nm] = df_comb[:len(train)].astype('int16')\n",
    "        test[nm] = df_comb[len(train):].astype('int16')\n",
    "    del df_comb; x=gc.collect()\n",
    "\n",
    "for col in cat_features:\n",
    "    encode_LE(col,train_x,test_x)\n",
    "    encode_LE(col,train,test)"
   ]
  },
  {
   "cell_type": "code",
   "execution_count": 157,
   "metadata": {
    "ExecuteTime": {
     "end_time": "2021-09-23T15:27:25.269553Z",
     "start_time": "2021-09-23T15:27:25.239568Z"
    },
    "id": "6M-y-IHqBEVD"
   },
   "outputs": [
    {
     "name": "stdout",
     "output_type": "stream",
     "text": [
      "<class 'pandas.core.frame.DataFrame'>\n",
      "Int64Index: 230000 entries, 0 to 230041\n",
      "Data columns (total 16 columns):\n",
      " #   Column                   Non-Null Count   Dtype  \n",
      "---  ------                   --------------   -----  \n",
      " 0   time                     230000 non-null  int16  \n",
      " 1   daxiaoMasterStartOdd     230000 non-null  float32\n",
      " 2   daxiaoGuestStartOdd      230000 non-null  float32\n",
      " 3   daxiaoPankouStart        230000 non-null  float64\n",
      " 4   daxiaoMasterOdd          230000 non-null  float32\n",
      " 5   daxiaoGuestOdd           230000 non-null  float32\n",
      " 6   daxiaoPankou             230000 non-null  float64\n",
      " 7   daxiaoMasterStartOddMid  230000 non-null  float32\n",
      " 8   daxiaoGuestStartOddMid   230000 non-null  float32\n",
      " 9   daxiaoPankouStartMid     230000 non-null  float64\n",
      " 10  daxiaoMasterOddMid       230000 non-null  float32\n",
      " 11  daxiaoGuestOddMid        230000 non-null  float32\n",
      " 12  daxiaoPankouMid          230000 non-null  float64\n",
      " 13  result                   230000 non-null  int64  \n",
      " 14  water_type_mid           230000 non-null  int16  \n",
      " 15  daxiaoTypeAll            230000 non-null  float64\n",
      "dtypes: float32(8), float64(5), int16(2), int64(1)\n",
      "memory usage: 20.2 MB\n"
     ]
    }
   ],
   "source": [
    "train.info()"
   ]
  },
  {
   "cell_type": "code",
   "execution_count": 158,
   "metadata": {
    "ExecuteTime": {
     "end_time": "2021-09-23T15:27:25.285543Z",
     "start_time": "2021-09-23T15:27:25.272550Z"
    }
   },
   "outputs": [
    {
     "name": "stdout",
     "output_type": "stream",
     "text": [
      "<class 'pandas.core.frame.DataFrame'>\n",
      "Int64Index: 26390 entries, 230042 to 256431\n",
      "Data columns (total 16 columns):\n",
      " #   Column                   Non-Null Count  Dtype  \n",
      "---  ------                   --------------  -----  \n",
      " 0   time                     26390 non-null  int16  \n",
      " 1   daxiaoMasterStartOdd     26390 non-null  float32\n",
      " 2   daxiaoGuestStartOdd      26390 non-null  float32\n",
      " 3   daxiaoPankouStart        26390 non-null  float64\n",
      " 4   daxiaoMasterOdd          26390 non-null  float32\n",
      " 5   daxiaoGuestOdd           26390 non-null  float32\n",
      " 6   daxiaoPankou             26390 non-null  float64\n",
      " 7   daxiaoMasterStartOddMid  26390 non-null  float32\n",
      " 8   daxiaoGuestStartOddMid   26390 non-null  float32\n",
      " 9   daxiaoPankouStartMid     26390 non-null  float64\n",
      " 10  daxiaoMasterOddMid       26390 non-null  float32\n",
      " 11  daxiaoGuestOddMid        26390 non-null  float32\n",
      " 12  daxiaoPankouMid          26390 non-null  float64\n",
      " 13  result                   26390 non-null  int64  \n",
      " 14  water_type_mid           26390 non-null  int16  \n",
      " 15  daxiaoTypeAll            26390 non-null  float64\n",
      "dtypes: float32(8), float64(5), int16(2), int64(1)\n",
      "memory usage: 2.3 MB\n"
     ]
    }
   ],
   "source": [
    "test.info()"
   ]
  },
  {
   "cell_type": "code",
   "execution_count": 159,
   "metadata": {
    "ExecuteTime": {
     "end_time": "2021-09-23T15:27:25.333514Z",
     "start_time": "2021-09-23T15:27:25.289541Z"
    }
   },
   "outputs": [
    {
     "data": {
      "text/html": [
       "<div>\n",
       "<style scoped>\n",
       "    .dataframe tbody tr th:only-of-type {\n",
       "        vertical-align: middle;\n",
       "    }\n",
       "\n",
       "    .dataframe tbody tr th {\n",
       "        vertical-align: top;\n",
       "    }\n",
       "\n",
       "    .dataframe thead th {\n",
       "        text-align: right;\n",
       "    }\n",
       "</style>\n",
       "<table border=\"1\" class=\"dataframe\">\n",
       "  <thead>\n",
       "    <tr style=\"text-align: right;\">\n",
       "      <th></th>\n",
       "      <th>time</th>\n",
       "      <th>daxiaoMasterStartOdd</th>\n",
       "      <th>daxiaoGuestStartOdd</th>\n",
       "      <th>daxiaoPankouStart</th>\n",
       "      <th>daxiaoMasterOdd</th>\n",
       "      <th>daxiaoGuestOdd</th>\n",
       "      <th>daxiaoPankou</th>\n",
       "      <th>daxiaoMasterStartOddMid</th>\n",
       "      <th>daxiaoGuestStartOddMid</th>\n",
       "      <th>daxiaoPankouStartMid</th>\n",
       "      <th>daxiaoMasterOddMid</th>\n",
       "      <th>daxiaoGuestOddMid</th>\n",
       "      <th>daxiaoPankouMid</th>\n",
       "      <th>result</th>\n",
       "      <th>water_type_mid</th>\n",
       "      <th>daxiaoTypeAll</th>\n",
       "    </tr>\n",
       "  </thead>\n",
       "  <tbody>\n",
       "    <tr>\n",
       "      <th>230042</th>\n",
       "      <td>1228</td>\n",
       "      <td>0.87</td>\n",
       "      <td>1.02</td>\n",
       "      <td>3.25</td>\n",
       "      <td>0.97</td>\n",
       "      <td>0.93</td>\n",
       "      <td>3.25</td>\n",
       "      <td>0.87</td>\n",
       "      <td>1.01</td>\n",
       "      <td>1.75</td>\n",
       "      <td>0.88</td>\n",
       "      <td>1.00</td>\n",
       "      <td>1.75</td>\n",
       "      <td>1</td>\n",
       "      <td>28</td>\n",
       "      <td>0.648611</td>\n",
       "    </tr>\n",
       "    <tr>\n",
       "      <th>230043</th>\n",
       "      <td>1395</td>\n",
       "      <td>0.98</td>\n",
       "      <td>0.90</td>\n",
       "      <td>2.25</td>\n",
       "      <td>0.82</td>\n",
       "      <td>1.06</td>\n",
       "      <td>2.25</td>\n",
       "      <td>0.90</td>\n",
       "      <td>0.97</td>\n",
       "      <td>1.25</td>\n",
       "      <td>0.88</td>\n",
       "      <td>0.99</td>\n",
       "      <td>1.25</td>\n",
       "      <td>1</td>\n",
       "      <td>25</td>\n",
       "      <td>0.454587</td>\n",
       "    </tr>\n",
       "    <tr>\n",
       "      <th>230044</th>\n",
       "      <td>1697</td>\n",
       "      <td>0.94</td>\n",
       "      <td>0.94</td>\n",
       "      <td>2.00</td>\n",
       "      <td>1.01</td>\n",
       "      <td>0.89</td>\n",
       "      <td>1.75</td>\n",
       "      <td>1.07</td>\n",
       "      <td>0.81</td>\n",
       "      <td>1.00</td>\n",
       "      <td>1.04</td>\n",
       "      <td>0.84</td>\n",
       "      <td>1.00</td>\n",
       "      <td>1</td>\n",
       "      <td>27</td>\n",
       "      <td>0.505078</td>\n",
       "    </tr>\n",
       "    <tr>\n",
       "      <th>230045</th>\n",
       "      <td>1426</td>\n",
       "      <td>0.78</td>\n",
       "      <td>1.08</td>\n",
       "      <td>2.25</td>\n",
       "      <td>0.86</td>\n",
       "      <td>1.00</td>\n",
       "      <td>2.25</td>\n",
       "      <td>1.01</td>\n",
       "      <td>0.85</td>\n",
       "      <td>2.25</td>\n",
       "      <td>0.96</td>\n",
       "      <td>0.90</td>\n",
       "      <td>2.25</td>\n",
       "      <td>1</td>\n",
       "      <td>21</td>\n",
       "      <td>0.396853</td>\n",
       "    </tr>\n",
       "    <tr>\n",
       "      <th>230046</th>\n",
       "      <td>1228</td>\n",
       "      <td>0.87</td>\n",
       "      <td>1.02</td>\n",
       "      <td>3.25</td>\n",
       "      <td>0.97</td>\n",
       "      <td>0.93</td>\n",
       "      <td>3.25</td>\n",
       "      <td>0.87</td>\n",
       "      <td>1.01</td>\n",
       "      <td>1.75</td>\n",
       "      <td>0.88</td>\n",
       "      <td>1.00</td>\n",
       "      <td>1.75</td>\n",
       "      <td>1</td>\n",
       "      <td>28</td>\n",
       "      <td>0.648611</td>\n",
       "    </tr>\n",
       "  </tbody>\n",
       "</table>\n",
       "</div>"
      ],
      "text/plain": [
       "        time  daxiaoMasterStartOdd  daxiaoGuestStartOdd  daxiaoPankouStart  \\\n",
       "230042  1228                  0.87                 1.02               3.25   \n",
       "230043  1395                  0.98                 0.90               2.25   \n",
       "230044  1697                  0.94                 0.94               2.00   \n",
       "230045  1426                  0.78                 1.08               2.25   \n",
       "230046  1228                  0.87                 1.02               3.25   \n",
       "\n",
       "        daxiaoMasterOdd  daxiaoGuestOdd  daxiaoPankou  \\\n",
       "230042             0.97            0.93          3.25   \n",
       "230043             0.82            1.06          2.25   \n",
       "230044             1.01            0.89          1.75   \n",
       "230045             0.86            1.00          2.25   \n",
       "230046             0.97            0.93          3.25   \n",
       "\n",
       "        daxiaoMasterStartOddMid  daxiaoGuestStartOddMid  daxiaoPankouStartMid  \\\n",
       "230042                     0.87                    1.01                  1.75   \n",
       "230043                     0.90                    0.97                  1.25   \n",
       "230044                     1.07                    0.81                  1.00   \n",
       "230045                     1.01                    0.85                  2.25   \n",
       "230046                     0.87                    1.01                  1.75   \n",
       "\n",
       "        daxiaoMasterOddMid  daxiaoGuestOddMid  daxiaoPankouMid  result  \\\n",
       "230042                0.88               1.00             1.75       1   \n",
       "230043                0.88               0.99             1.25       1   \n",
       "230044                1.04               0.84             1.00       1   \n",
       "230045                0.96               0.90             2.25       1   \n",
       "230046                0.88               1.00             1.75       1   \n",
       "\n",
       "        water_type_mid  daxiaoTypeAll  \n",
       "230042              28       0.648611  \n",
       "230043              25       0.454587  \n",
       "230044              27       0.505078  \n",
       "230045              21       0.396853  \n",
       "230046              28       0.648611  "
      ]
     },
     "execution_count": 159,
     "metadata": {},
     "output_type": "execute_result"
    }
   ],
   "source": [
    "test.head()"
   ]
  },
  {
   "cell_type": "code",
   "execution_count": 160,
   "metadata": {
    "ExecuteTime": {
     "end_time": "2021-09-23T15:28:07.147550Z",
     "start_time": "2021-09-23T15:27:25.335514Z"
    },
    "colab": {
     "base_uri": "https://localhost:8080/"
    },
    "id": "t6udRIjZEdIg",
    "outputId": "d432b310-9fa8-41ca-dabc-5363d79fcd2b"
   },
   "outputs": [
    {
     "name": "stdout",
     "output_type": "stream",
     "text": [
      "Starting training... 0\n",
      "Starting training... 1\n",
      "Starting training... 2\n",
      "Starting training... 3\n",
      "Starting training... 4\n",
      "Starting training... 5\n",
      "Starting training... 6\n",
      "Starting training... 7\n",
      "Starting training... 8\n",
      "Starting training... 9\n",
      "Starting training... 10\n",
      "Starting training... 11\n",
      "Starting training... 12\n",
      "Starting training... 13\n",
      "Starting training... 14\n",
      "Starting training... 15\n",
      "accuarcy: 61.22%\n"
     ]
    }
   ],
   "source": [
    "from sklearn.metrics import roc_auc_score\n",
    "import lightgbm as lgb\n",
    "\n",
    "lgb_train = lgb.Dataset(train_x, train_y)\n",
    "\n",
    "# 参数设置\n",
    "params = {'num_leaves': 240, #结果对最终效果影响较大，越大值越好，太大会出现过拟合\n",
    "          'min_data_in_leaf': 30,\n",
    "          'objective': 'binary', #定义的目标函数\n",
    "          'max_depth': -1,\n",
    "          'learning_rate': 0.03,\n",
    "          \"min_sum_hessian_in_leaf\": 6,\n",
    "          \"boosting\": \"gbdt\",\n",
    "          \"feature_fraction\":  0.5992677823884304,\t#提取的特征比率\n",
    "          \"bagging_freq\": 4,\n",
    "          \"bagging_fraction\":0.7100471696361973,\n",
    "          \"bagging_seed\": 11,\n",
    "          \"lambda_l1\": 8.545500456265467e-05,\t\t\t\t#l1正则\n",
    "          'lambda_l2': 5.985747612243422e-07,\t\t#l2正则\n",
    "          \"verbosity\": -1,\n",
    "          \"nthread\": -1,\t\t#线程数量，-1表示全部线程，线程越多，运行的速度越快\n",
    "          'metric': {'binary_logloss', 'auc'},\t##评价函数选择\n",
    "          \"random_state\": 7,\t#随机数种子，可以防止每次运行的结果不一致\n",
    "          'min_child_samples': 67,\n",
    "          }\n",
    "\n",
    "y_pred = np.zeros(test_x.shape[0])\n",
    "\n",
    "folds = 16\n",
    "for i in range(folds):\n",
    "    print('Starting training...',i)\n",
    "    params['random_state'] = i + 2021\n",
    "    # 模型训练\n",
    "    gbm = lgb.train(params,\n",
    "                    lgb_train,\n",
    "                    num_boost_round=100)\n",
    "\n",
    "\n",
    "    # 模型预测\n",
    "    y_pred += gbm.predict(test_x, num_iteration=gbm.best_iteration) / folds\n",
    "\n",
    "accuracy = roc_auc_score(test_y, y_pred)\n",
    "print(\"accuarcy: %.2f%%\" % (accuracy*100.0))"
   ]
  },
  {
   "cell_type": "code",
   "execution_count": 161,
   "metadata": {
    "ExecuteTime": {
     "end_time": "2021-09-23T15:28:07.163542Z",
     "start_time": "2021-09-23T15:28:07.148550Z"
    }
   },
   "outputs": [
    {
     "name": "stdout",
     "output_type": "stream",
     "text": [
      "accuarcy: 71.30%\n",
      "(2390, 2)\n"
     ]
    }
   ],
   "source": [
    "from sklearn.metrics import roc_auc_score,accuracy_score\n",
    "test_new = pd.DataFrame({'result':test_y,'predict':y_pred})\n",
    "a = test_new[(test_new[\"predict\"] >= 0.66)]\n",
    "pred_labels = np.rint(a['predict'])\n",
    "accuracy = accuracy_score(a['result'], pred_labels)\n",
    "print(\"accuarcy: %.2f%%\" % (accuracy*100.0))\n",
    "print(a.shape)"
   ]
  },
  {
   "cell_type": "code",
   "execution_count": null,
   "metadata": {
    "ExecuteTime": {
     "end_time": "2021-09-20T12:50:00.629849Z",
     "start_time": "2021-09-20T12:50:00.621841Z"
    }
   },
   "outputs": [],
   "source": []
  },
  {
   "cell_type": "code",
   "execution_count": 162,
   "metadata": {
    "ExecuteTime": {
     "end_time": "2021-09-23T15:28:07.726220Z",
     "start_time": "2021-09-23T15:28:07.165541Z"
    }
   },
   "outputs": [
    {
     "data": {
      "image/png": "[encoded data removed]",
      "text/plain": [
       "<Figure size 720x720 with 1 Axes>"
      ]
     },
     "metadata": {
      "needs_background": "light"
     },
     "output_type": "display_data"
    }
   ],
   "source": [
    "fig, ax = plt.subplots(figsize=(10,10))\n",
    "lgb.plot_importance(gbm, max_num_features=60, height=0.5, ax=ax)\n",
    "plt.show()"
   ]
  },
  {
   "cell_type": "code",
   "execution_count": null,
   "metadata": {
    "ExecuteTime": {
     "end_time": "2021-09-19T00:50:23.969602Z",
     "start_time": "2021-09-19T00:50:23.959609Z"
    },
    "colab": {
     "base_uri": "https://localhost:8080/",
     "height": 627
    },
    "id": "IZXxUWROEdIh",
    "outputId": "12c538c6-2264-45d8-dc48-14c8722a9428"
   },
   "outputs": [],
   "source": []
  },
  {
   "cell_type": "code",
   "execution_count": 163,
   "metadata": {
    "ExecuteTime": {
     "end_time": "2021-09-23T15:28:07.757201Z",
     "start_time": "2021-09-23T15:28:07.728218Z"
    },
    "id": "GdTAzUHLEdIi"
   },
   "outputs": [
    {
     "name": "stdout",
     "output_type": "stream",
     "text": [
      "<class 'pandas.core.frame.DataFrame'>\n",
      "Int64Index: 26390 entries, 230042 to 256431\n",
      "Data columns (total 15 columns):\n",
      " #   Column                   Non-Null Count  Dtype  \n",
      "---  ------                   --------------  -----  \n",
      " 0   time                     26390 non-null  int16  \n",
      " 1   daxiaoMasterStartOdd     26390 non-null  float32\n",
      " 2   daxiaoGuestStartOdd      26390 non-null  float32\n",
      " 3   daxiaoPankouStart        26390 non-null  float64\n",
      " 4   daxiaoMasterOdd          26390 non-null  float32\n",
      " 5   daxiaoGuestOdd           26390 non-null  float32\n",
      " 6   daxiaoPankou             26390 non-null  float64\n",
      " 7   daxiaoMasterStartOddMid  26390 non-null  float32\n",
      " 8   daxiaoGuestStartOddMid   26390 non-null  float32\n",
      " 9   daxiaoPankouStartMid     26390 non-null  float64\n",
      " 10  daxiaoMasterOddMid       26390 non-null  float32\n",
      " 11  daxiaoGuestOddMid        26390 non-null  float32\n",
      " 12  daxiaoPankouMid          26390 non-null  float64\n",
      " 13  water_type_mid           26390 non-null  int16  \n",
      " 14  daxiaoTypeAll            26390 non-null  float64\n",
      "dtypes: float32(8), float64(5), int16(2)\n",
      "memory usage: 2.1 MB\n"
     ]
    }
   ],
   "source": [
    "test_x.info()"
   ]
  },
  {
   "cell_type": "code",
   "execution_count": 164,
   "metadata": {
    "ExecuteTime": {
     "end_time": "2021-09-23T15:28:58.788956Z",
     "start_time": "2021-09-23T15:28:07.759200Z"
    },
    "colab": {
     "base_uri": "https://localhost:8080/"
    },
    "id": "A867lIczEdIi",
    "outputId": "fe128cf3-a6d5-40d9-a372-6af3a61f6f8e"
   },
   "outputs": [
    {
     "name": "stdout",
     "output_type": "stream",
     "text": [
      "Training until validation scores don't improve for 300 rounds\n",
      "[200]\ttraining's auc: 0.804568\tvalid_1's auc: 0.609332\n",
      "[400]\ttraining's auc: 0.892991\tvalid_1's auc: 0.605708\n",
      "Early stopping, best iteration is:\n",
      "[112]\ttraining's auc: 0.746146\tvalid_1's auc: 0.611393\n",
      "[0.43721851 0.43721851 0.66218951 ... 0.75836366 0.75836366 0.46654273]\n",
      "Fold 1 | AUC: 0.6113925177474404\n",
      "Training until validation scores don't improve for 300 rounds\n",
      "[200]\ttraining's auc: 0.804881\tvalid_1's auc: 0.606724\n",
      "Early stopping, best iteration is:\n",
      "[47]\ttraining's auc: 0.697694\tvalid_1's auc: 0.609765\n",
      "[0.44153097 0.44791014 0.44791014 ... 0.41439148 0.53011622 0.53011622]\n",
      "Fold 2 | AUC: 0.609765333743296\n",
      "Training until validation scores don't improve for 300 rounds\n",
      "[200]\ttraining's auc: 0.804551\tvalid_1's auc: 0.61439\n",
      "Early stopping, best iteration is:\n",
      "[47]\ttraining's auc: 0.696812\tvalid_1's auc: 0.615616\n",
      "[0.47756131 0.47756131 0.48206771 ... 0.52961563 0.50169119 0.47914053]\n",
      "Fold 3 | AUC: 0.6156155550951509\n",
      "Training until validation scores don't improve for 300 rounds\n",
      "[200]\ttraining's auc: 0.80289\tvalid_1's auc: 0.612195\n",
      "[400]\ttraining's auc: 0.890937\tvalid_1's auc: 0.608123\n",
      "Early stopping, best iteration is:\n",
      "[183]\ttraining's auc: 0.792525\tvalid_1's auc: 0.612883\n",
      "[0.46682683 0.40795404 0.40795404 ... 0.39497204 0.57003577 0.57003577]\n",
      "Fold 4 | AUC: 0.6128834008383673\n"
     ]
    },
    {
     "ename": "KeyboardInterrupt",
     "evalue": "",
     "output_type": "error",
     "traceback": [
      "\u001b[1;31m---------------------------------------------------------------------------\u001b[0m",
      "\u001b[1;31mKeyboardInterrupt\u001b[0m                         Traceback (most recent call last)",
      "\u001b[1;32m<ipython-input-164-d4f060d3b9d8>\u001b[0m in \u001b[0;36m<module>\u001b[1;34m\u001b[0m\n\u001b[0;32m     48\u001b[0m     \u001b[0mdvalid\u001b[0m \u001b[1;33m=\u001b[0m \u001b[0mlgb\u001b[0m\u001b[1;33m.\u001b[0m\u001b[0mDataset\u001b[0m\u001b[1;33m(\u001b[0m\u001b[0mX_valid\u001b[0m\u001b[1;33m,\u001b[0m \u001b[0mlabel\u001b[0m\u001b[1;33m=\u001b[0m\u001b[0my_valid\u001b[0m\u001b[1;33m)\u001b[0m\u001b[1;33m\u001b[0m\u001b[1;33m\u001b[0m\u001b[0m\n\u001b[0;32m     49\u001b[0m \u001b[1;33m\u001b[0m\u001b[0m\n\u001b[1;32m---> 50\u001b[1;33m     clf = lgb.train(params, dtrain, 1000, valid_sets=[\n\u001b[0m\u001b[0;32m     51\u001b[0m                     dtrain, dvalid], verbose_eval=200, early_stopping_rounds=300)\n\u001b[0;32m     52\u001b[0m \u001b[1;33m\u001b[0m\u001b[0m\n",
      "\u001b[1;32m~\\AppData\\Roaming\\Python\\Python38\\site-packages\\lightgbm\\engine.py\u001b[0m in \u001b[0;36mtrain\u001b[1;34m(params, train_set, num_boost_round, valid_sets, valid_names, fobj, feval, init_model, feature_name, categorical_feature, early_stopping_rounds, evals_result, verbose_eval, learning_rates, keep_training_booster, callbacks)\u001b[0m\n\u001b[0;32m    226\u001b[0m     \u001b[1;31m# construct booster\u001b[0m\u001b[1;33m\u001b[0m\u001b[1;33m\u001b[0m\u001b[1;33m\u001b[0m\u001b[0m\n\u001b[0;32m    227\u001b[0m     \u001b[1;32mtry\u001b[0m\u001b[1;33m:\u001b[0m\u001b[1;33m\u001b[0m\u001b[1;33m\u001b[0m\u001b[0m\n\u001b[1;32m--> 228\u001b[1;33m         \u001b[0mbooster\u001b[0m \u001b[1;33m=\u001b[0m \u001b[0mBooster\u001b[0m\u001b[1;33m(\u001b[0m\u001b[0mparams\u001b[0m\u001b[1;33m=\u001b[0m\u001b[0mparams\u001b[0m\u001b[1;33m,\u001b[0m \u001b[0mtrain_set\u001b[0m\u001b[1;33m=\u001b[0m\u001b[0mtrain_set\u001b[0m\u001b[1;33m)\u001b[0m\u001b[1;33m\u001b[0m\u001b[1;33m\u001b[0m\u001b[0m\n\u001b[0m\u001b[0;32m    229\u001b[0m         \u001b[1;32mif\u001b[0m \u001b[0mis_valid_contain_train\u001b[0m\u001b[1;33m:\u001b[0m\u001b[1;33m\u001b[0m\u001b[1;33m\u001b[0m\u001b[0m\n\u001b[0;32m    230\u001b[0m             \u001b[0mbooster\u001b[0m\u001b[1;33m.\u001b[0m\u001b[0mset_train_data_name\u001b[0m\u001b[1;33m(\u001b[0m\u001b[0mtrain_data_name\u001b[0m\u001b[1;33m)\u001b[0m\u001b[1;33m\u001b[0m\u001b[1;33m\u001b[0m\u001b[0m\n",
      "\u001b[1;32m~\\AppData\\Roaming\\Python\\Python38\\site-packages\\lightgbm\\basic.py\u001b[0m in \u001b[0;36m__init__\u001b[1;34m(self, params, train_set, model_file, model_str, silent)\u001b[0m\n\u001b[0;32m   1712\u001b[0m             \u001b[0mself\u001b[0m\u001b[1;33m.\u001b[0m\u001b[0mhandle\u001b[0m \u001b[1;33m=\u001b[0m \u001b[0mctypes\u001b[0m\u001b[1;33m.\u001b[0m\u001b[0mc_void_p\u001b[0m\u001b[1;33m(\u001b[0m\u001b[1;33m)\u001b[0m\u001b[1;33m\u001b[0m\u001b[1;33m\u001b[0m\u001b[0m\n\u001b[0;32m   1713\u001b[0m             _safe_call(_LIB.LGBM_BoosterCreate(\n\u001b[1;32m-> 1714\u001b[1;33m                 \u001b[0mtrain_set\u001b[0m\u001b[1;33m.\u001b[0m\u001b[0mconstruct\u001b[0m\u001b[1;33m(\u001b[0m\u001b[1;33m)\u001b[0m\u001b[1;33m.\u001b[0m\u001b[0mhandle\u001b[0m\u001b[1;33m,\u001b[0m\u001b[1;33m\u001b[0m\u001b[1;33m\u001b[0m\u001b[0m\n\u001b[0m\u001b[0;32m   1715\u001b[0m                 \u001b[0mc_str\u001b[0m\u001b[1;33m(\u001b[0m\u001b[0mparams_str\u001b[0m\u001b[1;33m)\u001b[0m\u001b[1;33m,\u001b[0m\u001b[1;33m\u001b[0m\u001b[1;33m\u001b[0m\u001b[0m\n\u001b[0;32m   1716\u001b[0m                 ctypes.byref(self.handle)))\n",
      "\u001b[1;32m~\\AppData\\Roaming\\Python\\Python38\\site-packages\\lightgbm\\basic.py\u001b[0m in \u001b[0;36mconstruct\u001b[1;34m(self)\u001b[0m\n\u001b[0;32m   1079\u001b[0m             \u001b[1;32melse\u001b[0m\u001b[1;33m:\u001b[0m\u001b[1;33m\u001b[0m\u001b[1;33m\u001b[0m\u001b[0m\n\u001b[0;32m   1080\u001b[0m                 \u001b[1;31m# create train\u001b[0m\u001b[1;33m\u001b[0m\u001b[1;33m\u001b[0m\u001b[1;33m\u001b[0m\u001b[0m\n\u001b[1;32m-> 1081\u001b[1;33m                 self._lazy_init(self.data, label=self.label,\n\u001b[0m\u001b[0;32m   1082\u001b[0m                                 \u001b[0mweight\u001b[0m\u001b[1;33m=\u001b[0m\u001b[0mself\u001b[0m\u001b[1;33m.\u001b[0m\u001b[0mweight\u001b[0m\u001b[1;33m,\u001b[0m \u001b[0mgroup\u001b[0m\u001b[1;33m=\u001b[0m\u001b[0mself\u001b[0m\u001b[1;33m.\u001b[0m\u001b[0mgroup\u001b[0m\u001b[1;33m,\u001b[0m\u001b[1;33m\u001b[0m\u001b[1;33m\u001b[0m\u001b[0m\n\u001b[0;32m   1083\u001b[0m                                 \u001b[0minit_score\u001b[0m\u001b[1;33m=\u001b[0m\u001b[0mself\u001b[0m\u001b[1;33m.\u001b[0m\u001b[0minit_score\u001b[0m\u001b[1;33m,\u001b[0m \u001b[0mpredictor\u001b[0m\u001b[1;33m=\u001b[0m\u001b[0mself\u001b[0m\u001b[1;33m.\u001b[0m\u001b[0m_predictor\u001b[0m\u001b[1;33m,\u001b[0m\u001b[1;33m\u001b[0m\u001b[1;33m\u001b[0m\u001b[0m\n",
      "\u001b[1;32m~\\AppData\\Roaming\\Python\\Python38\\site-packages\\lightgbm\\basic.py\u001b[0m in \u001b[0;36m_lazy_init\u001b[1;34m(self, data, label, reference, weight, group, init_score, predictor, silent, feature_name, categorical_feature, params)\u001b[0m\n\u001b[0;32m    885\u001b[0m             \u001b[0mself\u001b[0m\u001b[1;33m.\u001b[0m\u001b[0m__init_from_csc\u001b[0m\u001b[1;33m(\u001b[0m\u001b[0mdata\u001b[0m\u001b[1;33m,\u001b[0m \u001b[0mparams_str\u001b[0m\u001b[1;33m,\u001b[0m \u001b[0mref_dataset\u001b[0m\u001b[1;33m)\u001b[0m\u001b[1;33m\u001b[0m\u001b[1;33m\u001b[0m\u001b[0m\n\u001b[0;32m    886\u001b[0m         \u001b[1;32melif\u001b[0m \u001b[0misinstance\u001b[0m\u001b[1;33m(\u001b[0m\u001b[0mdata\u001b[0m\u001b[1;33m,\u001b[0m \u001b[0mnp\u001b[0m\u001b[1;33m.\u001b[0m\u001b[0mndarray\u001b[0m\u001b[1;33m)\u001b[0m\u001b[1;33m:\u001b[0m\u001b[1;33m\u001b[0m\u001b[1;33m\u001b[0m\u001b[0m\n\u001b[1;32m--> 887\u001b[1;33m             \u001b[0mself\u001b[0m\u001b[1;33m.\u001b[0m\u001b[0m__init_from_np2d\u001b[0m\u001b[1;33m(\u001b[0m\u001b[0mdata\u001b[0m\u001b[1;33m,\u001b[0m \u001b[0mparams_str\u001b[0m\u001b[1;33m,\u001b[0m \u001b[0mref_dataset\u001b[0m\u001b[1;33m)\u001b[0m\u001b[1;33m\u001b[0m\u001b[1;33m\u001b[0m\u001b[0m\n\u001b[0m\u001b[0;32m    888\u001b[0m         \u001b[1;32melif\u001b[0m \u001b[0misinstance\u001b[0m\u001b[1;33m(\u001b[0m\u001b[0mdata\u001b[0m\u001b[1;33m,\u001b[0m \u001b[0mlist\u001b[0m\u001b[1;33m)\u001b[0m \u001b[1;32mand\u001b[0m \u001b[0mlen\u001b[0m\u001b[1;33m(\u001b[0m\u001b[0mdata\u001b[0m\u001b[1;33m)\u001b[0m \u001b[1;33m>\u001b[0m \u001b[1;36m0\u001b[0m \u001b[1;32mand\u001b[0m \u001b[0mall\u001b[0m\u001b[1;33m(\u001b[0m\u001b[0misinstance\u001b[0m\u001b[1;33m(\u001b[0m\u001b[0mx\u001b[0m\u001b[1;33m,\u001b[0m \u001b[0mnp\u001b[0m\u001b[1;33m.\u001b[0m\u001b[0mndarray\u001b[0m\u001b[1;33m)\u001b[0m \u001b[1;32mfor\u001b[0m \u001b[0mx\u001b[0m \u001b[1;32min\u001b[0m \u001b[0mdata\u001b[0m\u001b[1;33m)\u001b[0m\u001b[1;33m:\u001b[0m\u001b[1;33m\u001b[0m\u001b[1;33m\u001b[0m\u001b[0m\n\u001b[0;32m    889\u001b[0m             \u001b[0mself\u001b[0m\u001b[1;33m.\u001b[0m\u001b[0m__init_from_list_np2d\u001b[0m\u001b[1;33m(\u001b[0m\u001b[0mdata\u001b[0m\u001b[1;33m,\u001b[0m \u001b[0mparams_str\u001b[0m\u001b[1;33m,\u001b[0m \u001b[0mref_dataset\u001b[0m\u001b[1;33m)\u001b[0m\u001b[1;33m\u001b[0m\u001b[1;33m\u001b[0m\u001b[0m\n",
      "\u001b[1;32m~\\AppData\\Roaming\\Python\\Python38\\site-packages\\lightgbm\\basic.py\u001b[0m in \u001b[0;36m__init_from_np2d\u001b[1;34m(self, mat, params_str, ref_dataset)\u001b[0m\n\u001b[0;32m    927\u001b[0m \u001b[1;33m\u001b[0m\u001b[0m\n\u001b[0;32m    928\u001b[0m         \u001b[0mptr_data\u001b[0m\u001b[1;33m,\u001b[0m \u001b[0mtype_ptr_data\u001b[0m\u001b[1;33m,\u001b[0m \u001b[0m_\u001b[0m \u001b[1;33m=\u001b[0m \u001b[0mc_float_array\u001b[0m\u001b[1;33m(\u001b[0m\u001b[0mdata\u001b[0m\u001b[1;33m)\u001b[0m\u001b[1;33m\u001b[0m\u001b[1;33m\u001b[0m\u001b[0m\n\u001b[1;32m--> 929\u001b[1;33m         _safe_call(_LIB.LGBM_DatasetCreateFromMat(\n\u001b[0m\u001b[0;32m    930\u001b[0m             \u001b[0mptr_data\u001b[0m\u001b[1;33m,\u001b[0m\u001b[1;33m\u001b[0m\u001b[1;33m\u001b[0m\u001b[0m\n\u001b[0;32m    931\u001b[0m             \u001b[0mctypes\u001b[0m\u001b[1;33m.\u001b[0m\u001b[0mc_int\u001b[0m\u001b[1;33m(\u001b[0m\u001b[0mtype_ptr_data\u001b[0m\u001b[1;33m)\u001b[0m\u001b[1;33m,\u001b[0m\u001b[1;33m\u001b[0m\u001b[1;33m\u001b[0m\u001b[0m\n",
      "\u001b[1;31mKeyboardInterrupt\u001b[0m: "
     ]
    }
   ],
   "source": [
    "import lightgbm as lgb\n",
    "from sklearn.metrics import roc_auc_score,accuracy_score\n",
    "from sklearn.model_selection import StratifiedKFold\n",
    "import gc\n",
    "X = train_x\n",
    "y = train_y\n",
    "# del train_x,train_y\n",
    "# gc.collect()\n",
    "\n",
    "\n",
    "params = {'num_leaves': 240,  # 结果对最终效果影响较大，越大值越好，太大会出现过拟合\n",
    "          'min_data_in_leaf': 30,\n",
    "          'objective': 'binary',  # 定义的目标函数\n",
    "          'max_depth': -1,\n",
    "          'learning_rate': 0.03,\n",
    "          \"min_sum_hessian_in_leaf\": 6,\n",
    "          \"boosting\": \"gbdt\",\n",
    "          \"feature_fraction\":  0.5992677823884304,  # 提取的特征比率\n",
    "          \"bagging_freq\": 4,\n",
    "          \"bagging_fraction\": 0.7100471696361973,\n",
    "          \"bagging_seed\": 11,\n",
    "          \"lambda_l1\": 8.545500456265467e-05,  # l1正则\n",
    "          'lambda_l2': 5.985747612243422e-07,  # l2正则\n",
    "          \"verbosity\": -1,\n",
    "          \"nthread\": -1,  # 线程数量，-1表示全部线程，线程越多，运行的速度越快\n",
    "          'metric': {'auc'},  # 评价函数选择\n",
    "          \"random_state\": 2019,  # 随机数种子，可以防止每次运行的结果不一致\n",
    "          # 'device': 'gpu' ##如果安装的事gpu版本的lightgbm,可以加快运算\n",
    "          'min_child_samples': 67\n",
    "          }\n",
    "\n",
    "NFOLDS = 5\n",
    "folds = StratifiedKFold(n_splits=NFOLDS)\n",
    "\n",
    "columns = X.columns\n",
    "splits = folds.split(X, y)\n",
    "y_preds = np.zeros(test_x.shape[0])\n",
    "score = 0\n",
    "\n",
    "feature_importances = pd.DataFrame()\n",
    "feature_importances['feature'] = columns\n",
    "\n",
    "for fold_n, (train_index, valid_index) in enumerate(splits):\n",
    "    X_train, X_valid = X[columns].iloc[train_index], X[columns].iloc[valid_index]\n",
    "    y_train, y_valid = y.iloc[train_index], y.iloc[valid_index]\n",
    "\n",
    "    dtrain = lgb.Dataset(X_train, label=y_train)\n",
    "    dvalid = lgb.Dataset(X_valid, label=y_valid)\n",
    "\n",
    "    clf = lgb.train(params, dtrain, 1000, valid_sets=[\n",
    "                    dtrain, dvalid], verbose_eval=200, early_stopping_rounds=300)\n",
    "\n",
    "    feature_importances[f'fold_{fold_n + 1}'] = clf.feature_importance()\n",
    "\n",
    "    y_pred_valid = clf.predict(X_valid)\n",
    "    print(y_pred_valid)\n",
    "    print(f\"Fold {fold_n + 1} | AUC: {roc_auc_score(y_valid, y_pred_valid)}\")\n",
    "\n",
    "    score += roc_auc_score(y_valid, y_pred_valid) / NFOLDS\n",
    "    y_preds += clf.predict(test_x) / NFOLDS\n",
    "    del X_train, X_valid, y_train, y_valid\n",
    "    gc.collect()\n",
    "    \n",
    "print(f\"\\nMean AUC = {score}\")\n",
    "print(f\"Out of folds AUC = {roc_auc_score(test_y, y_preds)}\")"
   ]
  },
  {
   "cell_type": "code",
   "execution_count": null,
   "metadata": {
    "ExecuteTime": {
     "end_time": "2021-09-23T15:28:58.790955Z",
     "start_time": "2021-09-23T15:26:30.552Z"
    }
   },
   "outputs": [],
   "source": [
    "from sklearn.metrics import roc_auc_score,accuracy_score\n",
    "test_new = pd.DataFrame({'result':test_y,'predict':y_preds})\n",
    "a = test_new[(test_new[\"predict\"] >= 0.62)]\n",
    "pred_labels = np.rint(a['predict'])\n",
    "accuracy = accuracy_score(a['result'], pred_labels)\n",
    "print(\"accuarcy: %.2f%%\" % (accuracy*100.0))\n",
    "print(a.shape)"
   ]
  },
  {
   "cell_type": "code",
   "execution_count": null,
   "metadata": {
    "ExecuteTime": {
     "end_time": "2021-09-19T11:12:32.620176Z",
     "start_time": "2021-09-19T11:12:32.613179Z"
    }
   },
   "outputs": [],
   "source": []
  },
  {
   "cell_type": "code",
   "execution_count": null,
   "metadata": {
    "ExecuteTime": {
     "end_time": "2021-09-23T15:28:58.792954Z",
     "start_time": "2021-09-23T15:26:30.555Z"
    },
    "colab": {
     "base_uri": "https://localhost:8080/",
     "height": 953
    },
    "id": "xicUPt9ZEdIi",
    "outputId": "802b6bc7-0c1f-4a6d-8ce3-a757205632b8"
   },
   "outputs": [],
   "source": [
    "import seaborn as sns\n",
    "feature_importance_gain=pd.DataFrame()\n",
    "feature_importance_gain['feature']=columns\n",
    "feature_importance_gain['fold_1']=clf.feature_importance(importance_type='gain')\n",
    "feature_importance_gain['average'] = feature_importances[[f'fold_{fold_n + 1}' for fold_n in range(1)]].mean(axis=1)\n",
    "plt.figure(figsize=(16, 16))\n",
    "sns.barplot(data=feature_importance_gain.sort_values(by='average', ascending=False).head(50), x='average', y='feature');\n",
    "plt.title('100 TOP feature importance over {} folds average'.format(folds.n_splits));"
   ]
  },
  {
   "cell_type": "code",
   "execution_count": null,
   "metadata": {
    "ExecuteTime": {
     "end_time": "2021-09-17T13:46:15.075721Z",
     "start_time": "2021-09-17T13:46:13.358664Z"
    }
   },
   "outputs": [],
   "source": []
  },
  {
   "cell_type": "code",
   "execution_count": null,
   "metadata": {
    "ExecuteTime": {
     "end_time": "2021-09-23T15:28:58.793952Z",
     "start_time": "2021-09-23T15:26:30.561Z"
    },
    "id": "uh55l3HyEdIi"
   },
   "outputs": [],
   "source": [
    "# import seaborn as sns\n",
    "# sns.set()\n",
    "\n",
    "# import sweetviz as sv\n",
    "# # 可以选择目标特征\n",
    "# my_report = sv.analyze(train, target_feat ='result')\n",
    "# my_report.show_html()"
   ]
  },
  {
   "cell_type": "code",
   "execution_count": null,
   "metadata": {
    "ExecuteTime": {
     "end_time": "2021-09-19T10:57:59.677256Z",
     "start_time": "2021-09-19T10:57:59.647275Z"
    }
   },
   "outputs": [],
   "source": []
  },
  {
   "cell_type": "code",
   "execution_count": null,
   "metadata": {
    "ExecuteTime": {
     "end_time": "2021-09-23T15:28:58.794952Z",
     "start_time": "2021-09-23T15:26:30.566Z"
    },
    "colab": {
     "base_uri": "https://localhost:8080/"
    },
    "id": "8zSjBu_6EdIj",
    "outputId": "81692c28-e759-47b2-a248-7e1e880b2636"
   },
   "outputs": [],
   "source": [
    "# new_featurs = [_f for _f, _score, _ in feature_scores if _score > 0]\n",
    "# test_x = test_x[new_featurs]\n",
    "# train_x = train_x[new_featurs]"
   ]
  },
  {
   "cell_type": "code",
   "execution_count": null,
   "metadata": {
    "ExecuteTime": {
     "end_time": "2021-09-23T15:28:58.796951Z",
     "start_time": "2021-09-23T15:26:30.568Z"
    }
   },
   "outputs": [],
   "source": [
    "import pandas as pd\n",
    "import numpy as np\n",
    "from sklearn.metrics import roc_auc_score\n",
    "from sklearn.model_selection import KFold\n",
    "import time\n",
    "from lightgbm import LGBMClassifier\n",
    "import lightgbm as lgb\n",
    "\n",
    "import matplotlib.pyplot as plt\n",
    "import matplotlib.gridspec as gridspec\n",
    "import seaborn as sns\n",
    "%matplotlib inline\n",
    "\n",
    "import warnings\n",
    "warnings.simplefilter('ignore', UserWarning)\n",
    "\n",
    "def get_feature_importances(data, shuffle, seed=None):\n",
    "    # Gather real features\n",
    "    train_features = [f for f in data if f not in ['result']]\n",
    "    # Go over fold and keep track of CV score (train and valid) and feature importances\n",
    "    \n",
    "    # Shuffle target if required\n",
    "    y = data['result'].copy()\n",
    "    if shuffle:\n",
    "        # Here you could as well use a binomial distribution\n",
    "        y = data['result'].copy().sample(frac=1.0)\n",
    "    \n",
    "    # Fit LightGBM in RF mode, yes it's quicker than sklearn RandomForest\n",
    "    dtrain = lgb.Dataset(data[train_features], y, free_raw_data=False, silent=True)\n",
    "    lgb_params = {\n",
    "        'objective': 'binary',\n",
    "        'boosting_type': 'rf',\n",
    "        'subsample': 0.623,\n",
    "        'colsample_bytree': 0.7,\n",
    "        'num_leaves': 127,\n",
    "        'max_depth': 8,\n",
    "        'seed': seed,\n",
    "        'bagging_freq': 1,\n",
    "        'n_jobs': 4\n",
    "    }\n",
    "    \n",
    "    # Fit the model\n",
    "    clf = lgb.train(params=lgb_params, train_set=dtrain, num_boost_round=200)\n",
    "\n",
    "    # Get feature importances\n",
    "    imp_df = pd.DataFrame()\n",
    "    imp_df[\"feature\"] = list(train_features)\n",
    "    imp_df[\"importance_gain\"] = clf.feature_importance(importance_type='gain')\n",
    "    imp_df[\"importance_split\"] = clf.feature_importance(importance_type='split')\n",
    "    imp_df['trn_score'] = roc_auc_score(y, clf.predict(data[train_features]))\n",
    "    \n",
    "    return imp_df"
   ]
  },
  {
   "cell_type": "code",
   "execution_count": null,
   "metadata": {
    "ExecuteTime": {
     "end_time": "2021-09-23T15:28:58.797950Z",
     "start_time": "2021-09-23T15:26:30.571Z"
    }
   },
   "outputs": [],
   "source": [
    "# Seed the unexpected randomness of this world\n",
    "np.random.seed(123)\n",
    "# Get the actual importance, i.e. without shuffling\n",
    "actual_imp_df = get_feature_importances(data=train, shuffle=False) "
   ]
  },
  {
   "cell_type": "code",
   "execution_count": null,
   "metadata": {
    "ExecuteTime": {
     "end_time": "2021-09-23T15:28:58.800949Z",
     "start_time": "2021-09-23T15:26:30.574Z"
    }
   },
   "outputs": [],
   "source": [
    "# null_imp_df = pd.DataFrame()\n",
    "# nb_runs = 80\n",
    "# import time\n",
    "# start = time.time()\n",
    "# dsp = ''\n",
    "# for i in range(nb_runs):\n",
    "#     # Get current run importances\n",
    "#     imp_df = get_feature_importances(data=train, shuffle=True)\n",
    "#     imp_df['run'] = i + 1 \n",
    "#     # Concat the latest importances with the old ones\n",
    "#     null_imp_df = pd.concat([null_imp_df, imp_df], axis=0)\n",
    "#     # Erase previous message\n",
    "#     for l in range(len(dsp)):\n",
    "#         print('\\b', end='', flush=True)\n",
    "#     # Display current run and time used\n",
    "#     spent = (time.time() - start) / 60\n",
    "#     dsp = 'Done with %4d of %4d (Spent %5.1f min)' % (i + 1, nb_runs, spent)\n",
    "#     print(dsp, end='', flush=True)"
   ]
  },
  {
   "cell_type": "code",
   "execution_count": null,
   "metadata": {
    "ExecuteTime": {
     "end_time": "2021-09-23T15:28:58.801949Z",
     "start_time": "2021-09-23T15:26:30.576Z"
    }
   },
   "outputs": [],
   "source": [
    "feature_scores = []\n",
    "for _f in actual_imp_df['feature'].unique():\n",
    "    f_null_imps_gain = null_imp_df.loc[null_imp_df['feature'] == _f, 'importance_gain'].values\n",
    "    f_act_imps_gain = actual_imp_df.loc[actual_imp_df['feature'] == _f, 'importance_gain'].mean()\n",
    "    gain_score = np.log(1e-10 + f_act_imps_gain / (1 + np.percentile(f_null_imps_gain, 75)))  # Avoid didvide by zero\n",
    "    \n",
    "    f_null_imps_split = null_imp_df.loc[null_imp_df['feature'] == _f, 'importance_split'].values\n",
    "    f_act_imps_split = actual_imp_df.loc[actual_imp_df['feature'] == _f, 'importance_split'].mean()\n",
    "    split_score = np.log(1e-10 + f_act_imps_split / (1 + np.percentile(f_null_imps_split, 75)))  # Avoid didvide by zero\n",
    "    \n",
    "    feature_scores.append((_f, split_score, gain_score))\n",
    " \n",
    "scores_df = pd.DataFrame(feature_scores, columns=['feature', 'split_score', 'gain_score'])"
   ]
  },
  {
   "cell_type": "code",
   "execution_count": null,
   "metadata": {
    "ExecuteTime": {
     "end_time": "2021-09-19T12:12:59.700049Z",
     "start_time": "2021-09-19T12:04:29.374Z"
    }
   },
   "outputs": [],
   "source": []
  },
  {
   "cell_type": "code",
   "execution_count": null,
   "metadata": {
    "ExecuteTime": {
     "end_time": "2021-09-23T15:28:58.802948Z",
     "start_time": "2021-09-23T15:26:30.581Z"
    }
   },
   "outputs": [],
   "source": [
    "feature_scores = []\n",
    "for _f in actual_imp_df['feature'].unique():\n",
    "    f_null_imps_gain = null_imp_df.loc[null_imp_df['feature'] == _f, 'importance_gain'].values\n",
    "    f_act_imps_gain = actual_imp_df.loc[actual_imp_df['feature'] == _f, 'importance_gain'].mean()\n",
    "    gain_score = np.log(1e-10 + f_act_imps_gain / (1 + np.percentile(f_null_imps_gain, 75)))  # Avoid didvide by zero\n",
    "    f_null_imps_split = null_imp_df.loc[null_imp_df['feature'] == _f, 'importance_split'].values\n",
    "    f_act_imps_split = actual_imp_df.loc[actual_imp_df['feature'] == _f, 'importance_split'].mean()\n",
    "    split_score = np.log(1e-10 + f_act_imps_split / (1 + np.percentile(f_null_imps_split, 75)))  # Avoid didvide by zero\n",
    "    feature_scores.append((_f, split_score, gain_score))\n",
    "\n",
    "scores_df = pd.DataFrame(feature_scores, columns=['feature', 'split_score', 'gain_score'])\n",
    "\n",
    "plt.figure(figsize=(16, 16))\n",
    "gs = gridspec.GridSpec(1, 2)\n",
    "# Plot Split importances\n",
    "ax = plt.subplot(gs[0, 0])\n",
    "sns.barplot(x='split_score', y='feature', data=scores_df.sort_values('split_score', ascending=False).iloc[0:70], ax=ax)\n",
    "ax.set_title('Feature scores wrt split importances', fontweight='bold', fontsize=14)\n",
    "# Plot Gain importances\n",
    "ax = plt.subplot(gs[0, 1])\n",
    "sns.barplot(x='gain_score', y='feature', data=scores_df.sort_values('gain_score', ascending=False).iloc[0:70], ax=ax)\n",
    "ax.set_title('Feature scores wrt gain importances', fontweight='bold', fontsize=14)\n",
    "plt.tight_layout()"
   ]
  },
  {
   "cell_type": "code",
   "execution_count": null,
   "metadata": {
    "ExecuteTime": {
     "end_time": "2021-09-19T12:12:59.711043Z",
     "start_time": "2021-09-19T12:04:29.377Z"
    }
   },
   "outputs": [],
   "source": []
  },
  {
   "cell_type": "code",
   "execution_count": null,
   "metadata": {
    "ExecuteTime": {
     "end_time": "2021-09-23T15:28:58.804947Z",
     "start_time": "2021-09-23T15:26:30.585Z"
    }
   },
   "outputs": [],
   "source": [
    "# def score_feature_selection(df=None, train_features=None, target=None):\n",
    "#     # Fit LightGBM \n",
    "#     dtrain = lgb.Dataset(df[train_features], target, free_raw_data=False, silent=True)\n",
    "#     lgb_params = {\n",
    "#         'objective': 'binary',\n",
    "#         'boosting_type': 'gbdt',\n",
    "#         'learning_rate': .1,\n",
    "#         'subsample': 0.8,\n",
    "#         'colsample_bytree': 0.8,\n",
    "#         'num_leaves': 31,\n",
    "#         'max_depth': -1,\n",
    "#         'seed': 13,\n",
    "#         'n_jobs': 4,\n",
    "#         'min_split_gain': .00001,\n",
    "#         'reg_alpha': .00001,\n",
    "#         'reg_lambda': .00001,\n",
    "#         'metric': 'auc'\n",
    "#     }\n",
    "#     # Fit the model\n",
    "#     hist = lgb.cv(\n",
    "#         params=lgb_params, \n",
    "#         train_set=dtrain, \n",
    "#         num_boost_round=2000,\n",
    "#         nfold=5,\n",
    "#         stratified=True,\n",
    "#         shuffle=True,\n",
    "#         early_stopping_rounds=50,\n",
    "#         verbose_eval=0,\n",
    "#         seed=17)\n",
    "#     # Return the last mean / std values \n",
    "#     return hist['auc-mean'][-1], hist['auc-stdv'][-1]\n",
    "\n",
    "# # train.columns = test.columns\n",
    "# # features = [f for f in train.columns if f not in ['result']]\n",
    "# # score_feature_selection(df=train[features], train_features=features, target=train['result'])\n",
    "\n",
    "# categorical_feats = cat_features\n",
    "\n",
    "# for threshold in [0, 10, 20, 30 , 40, 50 ,60 , 70, 80 , 90, 95, 99]:\n",
    "#     split_feats     = [_f for _f, _score, _ in correlation_scores if _score >= threshold]\n",
    "#     # split_cat_feats = [_f for _f, _score, _ in correlation_scores if (_score >= threshold) & (_f in categorical_feats)]\n",
    "    \n",
    "#     gain_feats     = [_f for _f, _, _score in correlation_scores if _score >= threshold]\n",
    "#     # gain_cat_feats = [_f for _f, _, _score in correlation_scores if (_score >= threshold) & (_f in categorical_feats)]\n",
    "                                                                                             \n",
    "#     print('Results for threshold %3d' % threshold)\n",
    "#     split_results = score_feature_selection(df=train, train_features=split_feats, target=train['result'])\n",
    "#     print('\\t SPLIT : %.6f +/- %.6f' % (split_results[0], split_results[1]))\n",
    "#     gain_results = score_feature_selection(df=train, train_features=gain_feats, target=train['result'])\n",
    "#     print('\\t GAIN  : %.6f +/- %.6f' % (gain_results[0], gain_results[1]))"
   ]
  },
  {
   "cell_type": "code",
   "execution_count": null,
   "metadata": {
    "ExecuteTime": {
     "end_time": "2021-09-20T01:45:14.140018Z",
     "start_time": "2021-09-20T01:45:14.109273Z"
    }
   },
   "outputs": [],
   "source": []
  },
  {
   "cell_type": "code",
   "execution_count": null,
   "metadata": {
    "ExecuteTime": {
     "end_time": "2021-09-20T01:45:14.171316Z",
     "start_time": "2021-09-20T01:45:14.142030Z"
    }
   },
   "outputs": [],
   "source": []
  },
  {
   "cell_type": "code",
   "execution_count": null,
   "metadata": {
    "ExecuteTime": {
     "end_time": "2021-09-19T16:25:06.526487Z",
     "start_time": "2021-09-19T16:25:06.486509Z"
    }
   },
   "outputs": [],
   "source": []
  },
  {
   "cell_type": "code",
   "execution_count": null,
   "metadata": {
    "ExecuteTime": {
     "end_time": "2021-09-19T16:25:21.217475Z",
     "start_time": "2021-09-19T16:25:08.165901Z"
    }
   },
   "outputs": [],
   "source": []
  },
  {
   "cell_type": "code",
   "execution_count": null,
   "metadata": {
    "ExecuteTime": {
     "end_time": "2021-09-19T16:25:21.219474Z",
     "start_time": "2021-09-19T16:25:11.140Z"
    }
   },
   "outputs": [],
   "source": []
  },
  {
   "cell_type": "code",
   "execution_count": null,
   "metadata": {
    "ExecuteTime": {
     "end_time": "2021-09-19T16:17:28.362557Z",
     "start_time": "2021-09-19T16:17:28.328591Z"
    }
   },
   "outputs": [],
   "source": []
  },
  {
   "cell_type": "code",
   "execution_count": null,
   "metadata": {},
   "outputs": [],
   "source": []
  }
 ],
 "metadata": {
  "colab": {
   "collapsed_sections": [],
   "name": "NewXG.ipynb",
   "provenance": []
  },
  "kernelspec": {
   "display_name": "Python 3",
   "language": "python",
   "name": "python3"
  },
  "language_info": {
   "codemirror_mode": {
    "name": "ipython",
    "version": 3
   },
   "file_extension": ".py",
   "mimetype": "text/x-python",
   "name": "python",
   "nbconvert_exporter": "python",
   "pygments_lexer": "ipython3",
   "version": "3.8.5"
  },
  "toc": {
   "base_numbering": 1,
   "nav_menu": {},
   "number_sections": true,
   "sideBar": true,
   "skip_h1_title": false,
   "title_cell": "Table of Contents",
   "title_sidebar": "Contents",
   "toc_cell": false,
   "toc_position": {},
   "toc_section_display": true,
   "toc_window_display": false
  }
 },
 "nbformat": 4,
 "nbformat_minor": 1
}
