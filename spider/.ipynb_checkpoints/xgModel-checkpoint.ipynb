{
 "cells": [
  {
   "cell_type": "code",
   "execution_count": 1,
   "metadata": {
    "ExecuteTime": {
     "end_time": "2021-07-25T12:42:57.987491Z",
     "start_time": "2021-07-25T12:42:56.478884Z"
    }
   },
   "outputs": [],
   "source": [
    "import json\n",
    "import pandas as pd\n",
    "import pymongo\n",
    "import matplotlib as mpl\n",
    "import numpy as np\n",
    "import matplotlib.pyplot as plt"
   ]
  },
  {
   "cell_type": "code",
   "execution_count": 2,
   "metadata": {
    "ExecuteTime": {
     "end_time": "2021-07-25T12:42:58.003160Z",
     "start_time": "2021-07-25T12:42:57.989463Z"
    }
   },
   "outputs": [],
   "source": [
    "def reduce_mem_usage(df):\n",
    "    \"\"\" iterate through all the columns of a dataframe and modify the data type\n",
    "        to reduce memory usage.        \n",
    "    \"\"\"\n",
    "    start_mem = df.memory_usage().sum() / 1024**2\n",
    "    print('Memory usage of dataframe is {:.2f} MB'.format(start_mem))\n",
    "\n",
    "    for col in df.columns:\n",
    "        col_type = df[col].dtype\n",
    "        if col_type != object:\n",
    "            c_min = df[col].min()\n",
    "            c_max = df[col].max()\n",
    "            if str(col_type)[:3] == 'int':\n",
    "                if c_min > np.iinfo(np.int8).min and c_max < np.iinfo(np.int8).max:\n",
    "                    df[col] = df[col].astype(np.int8)\n",
    "                elif c_min > np.iinfo(np.int16).min and c_max < np.iinfo(np.int16).max:\n",
    "                    df[col] = df[col].astype(np.int16)\n",
    "                elif c_min > np.iinfo(np.int32).min and c_max < np.iinfo(np.int32).max:\n",
    "                    df[col] = df[col].astype(np.int32)\n",
    "                elif c_min > np.iinfo(np.int64).min and c_max < np.iinfo(np.int64).max:\n",
    "                    df[col] = df[col].astype(np.int64)\n",
    "            else:\n",
    "                df[col] = df[col].astype(np.float32)\n",
    "\n",
    "    end_mem = df.memory_usage().sum() / 1024**2\n",
    "    print('Memory usage after optimization is: {:.2f} MB'.format(end_mem))\n",
    "    print('Decreased by {:.1f}%'.format(\n",
    "        100 * (start_mem - end_mem) / start_mem))\n",
    "\n",
    "    return df"
   ]
  },
  {
   "cell_type": "code",
   "execution_count": 3,
   "metadata": {
    "ExecuteTime": {
     "end_time": "2021-07-25T12:42:58.048573Z",
     "start_time": "2021-07-25T12:42:58.006158Z"
    }
   },
   "outputs": [],
   "source": [
    "def getGoalMid(masterGoal, guestGoal, masterMidGoal,guestMidGoal):\n",
    "    if masterGoal + guestGoal - masterMidGoal - guestMidGoal >= 4:\n",
    "        return 4\n",
    "    else:\n",
    "        return masterGoal + guestGoal - masterMidGoal - guestMidGoal\n",
    "        \n",
    "def removeSub(pankou):\n",
    "    pankou = pankou.replace(\"升\",\"\")\n",
    "    pankou = pankou.replace(\"降\",\"\")\n",
    "    return pankou.strip()\n",
    "\n",
    "def getResult(masterGoal, guestGoal, masterMidGoal,guestMidGoal,pankou):\n",
    "    pankouList = removeSub(pankou).split(\"/\")\n",
    "    row = 0\n",
    "    for p in pankouList:\n",
    "        row += float(p)\n",
    "    row = row / len(pankouList)\n",
    "    \n",
    "    if masterGoal + guestGoal - row >= 0:\n",
    "        return 1\n",
    "    if masterGoal + guestGoal - row < 0:\n",
    "        return 0\n",
    "\n",
    "def getType(yapanMasterStartOdd, yapanGuestStartOdd, yapanPankouStart):\n",
    "    linTypeStart = get18(yapanMasterStartOdd, yapanGuestStartOdd)\n",
    "    return str(linTypeStart) + \"_\" + yapanPankouStart\n",
    "\n",
    "def get18(master,guest):\n",
    "    if master > guest:\n",
    "        return 18\n",
    "    if master < guest:\n",
    "        return 81\n",
    "    if master == guest:\n",
    "        return 99\n",
    "\n",
    "def daxiao_num(x):\n",
    "    x_list = x.split(\"/\")\n",
    "    num = 0\n",
    "    for i in x_list:\n",
    "        num += float(i)\n",
    "    return str(float(num)/len(x_list))\n",
    "\n",
    "def realDaxiao(x,master,guest):\n",
    "    return str(float(x) - master - guest)\n",
    "\n",
    "def shengjiang(start,end):\n",
    "    return str(float(end) - float(start))"
   ]
  },
  {
   "cell_type": "code",
   "execution_count": 4,
   "metadata": {
    "ExecuteTime": {
     "end_time": "2021-07-25T12:42:58.080594Z",
     "start_time": "2021-07-25T12:42:58.051558Z"
    }
   },
   "outputs": [],
   "source": [
    "def fillNa(x,value):\n",
    "    if pd.isnull(x):\n",
    "        return value\n",
    "    else:\n",
    "        return x\n",
    "    \n",
    "def preF(test):\n",
    "    \n",
    "#     test = test.drop(['daxiaoMasterStartOddZao', 'daxiaoGuestStartOddZao','daxiaoPankouStartZao',\n",
    "#                       'daxiaoMasterOddZao', 'daxiaoGuestOddZao','daxiaoPankouZao'], axis=1)\n",
    "    \n",
    "\n",
    "    cols_with_missing = (col for col in test.columns \n",
    "                                 if test[col].isnull().any())\n",
    "    for col in cols_with_missing:\n",
    "        test[col + '_was_missing'] = test[col].isnull()\n",
    "        \n",
    "    for col in ['daxiaoPankouZao','daxiaoPankouStartZao']:\n",
    "        test[col] = test.apply(lambda x: fillNa(x[col], \"-9999\"), axis=1)\n",
    "\n",
    "    for col in ['daxiaoMasterStartOddZao', 'daxiaoGuestStartOddZao','daxiaoMasterOddZao', 'daxiaoGuestOddZao']:\n",
    "        test[col] = test.apply(lambda x: fillNa(x[col], -9999), axis=1)\n",
    "        \n",
    "    test['result'] = test.apply(lambda x: getResult(\n",
    "        x['masterGoal'], x['guestGoal'], x['masterMidGoal'], x['guestMidGoal'], x['daxiaoPankouMid']), axis=1)\n",
    "    \n",
    "    test['goalMid'] = test.apply(lambda x: getGoalMid(\n",
    "        x['masterGoal'], x['guestGoal'], x['masterMidGoal'], x['guestMidGoal']), axis=1)    \n",
    "    \n",
    "    test['zhongbifeng'] = test['masterMidGoal'] + test['guestMidGoal']\n",
    "\n",
    "\n",
    "    \n",
    "    test['daxiaoPankouStart'] = test.apply(\n",
    "        lambda x: removeSub(x['daxiaoPankouStart']), axis=1)\n",
    "    test['daxiaoPankou'] = test.apply(\n",
    "        lambda x: removeSub(x['daxiaoPankou']), axis=1)\n",
    "    test['daxiaoPankouStartMid'] = test.apply(\n",
    "        lambda x: removeSub(x['daxiaoPankouStartMid']), axis=1)\n",
    "    test['daxiaoPankouMid'] = test.apply(\n",
    "        lambda x: removeSub(x['daxiaoPankouMid']), axis=1)\n",
    "    test['daxiaoPankouStartZao'] = test.apply(\n",
    "        lambda x: removeSub(x['daxiaoPankouStartMid']), axis=1)\n",
    "    test['daxiaoPankouZao'] = test.apply(\n",
    "        lambda x: removeSub(x['daxiaoPankouMid']), axis=1)\n",
    "    \n",
    "\n",
    "#     pankou = [\"daxiaoPankouStart\",\"daxiaoPankou\",\"daxiaoPankouStartMid\",\"daxiaoPankouMid\"]\n",
    "    \n",
    "    pankou = [\"daxiaoPankouStart\",\"daxiaoPankou\",\"daxiaoPankouStartMid\",\"daxiaoPankouMid\",\"daxiaoPankouStartZao\",\"daxiaoPankouZao\"]\n",
    "\n",
    "    for col in pankou:\n",
    "        test[col] = test[col].map(daxiao_num)\n",
    "        nm = col+\"_\"+\"real\"\n",
    "        test[nm] = test.apply(lambda x: realDaxiao(x[col],x['masterMidGoal'],x['guestMidGoal']), axis=1)\n",
    "    \n",
    "    \n",
    "    test['daxiaoPankouShengJiang'] = test.apply(lambda x: shengjiang(x['daxiaoPankouStart'],x['daxiaoPankou']), axis=1)\n",
    "    \n",
    "    test['daxiaoPankouMidShengJiang'] = test.apply(lambda x: shengjiang(x['daxiaoPankouStartMid'],x['daxiaoPankouMid']), axis=1)\n",
    "\n",
    "    test['daxiaoTypeStart'] = test.apply(lambda x: getType(\n",
    "        x['daxiaoMasterStartOdd'], x['daxiaoGuestStartOdd'], x['daxiaoPankouStart']), axis=1)\n",
    "    test['daxiaoType'] = test.apply(lambda x: getType(\n",
    "        x['daxiaoMasterOdd'], x['daxiaoGuestOdd'], x['daxiaoPankou']), axis=1)\n",
    "    test['daxiaoTypeStartMid'] = test.apply(lambda x: getType(\n",
    "        x['daxiaoMasterStartOddMid'], x['daxiaoGuestStartOddMid'], x['daxiaoPankouStartMid']), axis=1)\n",
    "    test['daxiaoTypeMid'] = test.apply(lambda x: getType(\n",
    "        x['daxiaoMasterOddMid'], x['daxiaoGuestOddMid'], x['daxiaoPankouMid']), axis=1)\n",
    "    \n",
    "    test['daxiaoTypeStartZao'] = test.apply(lambda x: getType(\n",
    "        x['daxiaoMasterStartOddZao'], x['daxiaoGuestStartOddZao'], x['daxiaoPankouStartZao']), axis=1)\n",
    "    test['daxiaoTypeZao'] = test.apply(lambda x: getType(\n",
    "        x['daxiaoMasterOddZao'], x['daxiaoGuestOddZao'], x['daxiaoPankouZao']), axis=1)\n",
    "        \n",
    "    test['daxiaoTypeStartReal'] = test.apply(lambda x: getType(\n",
    "        x['daxiaoMasterStartOdd'], x['daxiaoGuestStartOdd'], x['daxiaoPankouStart_real']), axis=1)\n",
    "    test['daxiaoTypeReal'] = test.apply(lambda x: getType(\n",
    "        x['daxiaoMasterOdd'], x['daxiaoGuestOdd'], x['daxiaoPankou_real']), axis=1)\n",
    "    \n",
    "    test['daxiaoTypeStartMidReal'] = test.apply(lambda x: getType(\n",
    "        x['daxiaoMasterStartOddMid'], x['daxiaoGuestStartOddMid'], x['daxiaoPankouStartMid_real']), axis=1)\n",
    "    test['daxiaoTypeMidReal'] = test.apply(lambda x: getType(\n",
    "        x['daxiaoMasterOddMid'], x['daxiaoGuestOddMid'], x['daxiaoPankouMid_real']), axis=1)\n",
    "    \n",
    "    test['daxiaoTypeStartZaoReal'] = test.apply(lambda x: getType(\n",
    "        x['daxiaoMasterStartOddZao'], x['daxiaoGuestStartOddZao'], x['daxiaoPankouStartZao_real']), axis=1)\n",
    "    test['daxiaoTypeZaoReal'] = test.apply(lambda x: getType(\n",
    "        x['daxiaoMasterOddZao'], x['daxiaoGuestOddZao'], x['daxiaoPankouZao_real']), axis=1)\n",
    "\n",
    "    test = test[test['goalMid'] >= 0]\n",
    "    test = test[(test['daxiaoMasterStartOdd'] >= 0.75) & (test['daxiaoMasterStartOdd'] < 1.20)]\n",
    "    test = test[(test['daxiaoMasterOdd'] >= 0.75) & (test['daxiaoMasterOdd'] < 1.20)]\n",
    "    test = test[(test['daxiaoGuestOddMid'] >= 0.75) & (test['daxiaoGuestOddMid'] < 1.20)]\n",
    "    test = test[test['zhongbifeng'].astype(float) <= test['daxiaoPankou'].astype(float)]\n",
    "    test = test.drop(columns=['masterGoal', 'guestGoal', \"goalMid\"])\n",
    "    \n",
    "    return test"
   ]
  },
  {
   "cell_type": "code",
   "execution_count": 5,
   "metadata": {
    "ExecuteTime": {
     "end_time": "2021-07-25T12:42:58.111630Z",
     "start_time": "2021-07-25T12:42:58.082582Z"
    }
   },
   "outputs": [],
   "source": [
    "def getShuiPing(x):\n",
    "    result = 11\n",
    "    if x <= 0.75:\n",
    "        result = 0\n",
    "    if 0.75< x and x<=0.80:\n",
    "        result = 1\n",
    "    if 0.80<x and x<=0.85:\n",
    "        result = 3\n",
    "    if 0.85<x and x<=0.90:\n",
    "        result = 4\n",
    "    if 0.95<x and x<=1.00:\n",
    "        result = 5\n",
    "    if 1.00<x and x<=1.08:\n",
    "        result = 6\n",
    "    if 1.08<x and x<=1.10:\n",
    "        result = 7\n",
    "    if 1.10<x and x<=1.15:\n",
    "        result = 8\n",
    "    if 1.15<x and x<=1.20:\n",
    "        result = 9\n",
    "    if x > 1.20:\n",
    "        result = 10\n",
    "    return result\n",
    "        \n",
    "def num_fea_dis(df,features):\n",
    "    for f in features:\n",
    "        nm = f+'_'+'shuiPing'\n",
    "        df[nm] = df[f].map(getShuiPing)\n",
    "    return df"
   ]
  },
  {
   "cell_type": "code",
   "execution_count": 6,
   "metadata": {
    "ExecuteTime": {
     "end_time": "2021-07-25T12:42:58.141656Z",
     "start_time": "2021-07-25T12:42:58.113627Z"
    }
   },
   "outputs": [],
   "source": [
    "# myclient = pymongo.MongoClient(\"mongodb://localhost:27017/\")\n",
    "# mydb = myclient[\"soccerData\"]\n",
    "# mycol = mydb[\"midRawData007\"]\n",
    "# test = pd.DataFrame(list(mycol.find({\"time\":{\"$gte\":\"2021-00-00 00:00:00\"}})))\n",
    "# test = test.drop(['_id','place',\"time\"], axis=1)"
   ]
  },
  {
   "cell_type": "code",
   "execution_count": 7,
   "metadata": {
    "ExecuteTime": {
     "end_time": "2021-07-25T12:42:58.250711Z",
     "start_time": "2021-07-25T12:42:58.143655Z"
    }
   },
   "outputs": [],
   "source": []
  },
  {
   "cell_type": "code",
   "execution_count": 9,
   "metadata": {
    "ExecuteTime": {
     "end_time": "2021-07-25T12:43:12.347859Z",
     "start_time": "2021-07-25T12:42:59.652535Z"
    }
   },
   "outputs": [
    {
     "name": "stdout",
     "output_type": "stream",
     "text": [
      "Memory usage of dataframe is 3.73 MB\n",
      "Memory usage after optimization is: 2.12 MB\n",
      "Decreased by 43.2%\n"
     ]
    }
   ],
   "source": [
    "test = pd.read_csv('test.csv')\n",
    "test = reduce_mem_usage(test)\n",
    "test = preF(test)\n",
    "\n",
    "fes = ['daxiaoMasterStartOdd','daxiaoGuestStartOdd',\n",
    "       'daxiaoMasterOdd','daxiaoGuestOdd',\n",
    "       'daxiaoMasterStartOddMid','daxiaoGuestStartOddMid',\n",
    "       'daxiaoMasterOddMid','daxiaoGuestOddMid',\n",
    "       \"daxiaoMasterStartOddZao\",\"daxiaoGuestStartOddZao\",\n",
    "       \"daxiaoMasterOddZao\",\"daxiaoGuestOddZao\"]\n",
    "\n",
    "# fes = ['daxiaoMasterStartOdd','daxiaoGuestStartOdd',\n",
    "#        'daxiaoMasterOdd','daxiaoGuestOdd',\n",
    "#        'daxiaoMasterStartOddMid','daxiaoGuestStartOddMid',\n",
    "#        'daxiaoMasterOddMid','daxiaoGuestOddMid']\n",
    "\n",
    "test= num_fea_dis(test,fes)"
   ]
  },
  {
   "cell_type": "code",
   "execution_count": 10,
   "metadata": {
    "ExecuteTime": {
     "end_time": "2021-07-25T12:43:12.393112Z",
     "start_time": "2021-07-25T12:43:12.348613Z"
    }
   },
   "outputs": [
    {
     "name": "stdout",
     "output_type": "stream",
     "text": [
      "<class 'pandas.core.frame.DataFrame'>\n",
      "Int64Index: 18526 entries, 0 to 22247\n",
      "Data columns (total 60 columns):\n",
      " #   Column                               Non-Null Count  Dtype  \n",
      "---  ------                               --------------  -----  \n",
      " 0   masterMidGoal                        18526 non-null  int8   \n",
      " 1   guestMidGoal                         18526 non-null  int8   \n",
      " 2   daxiaoMasterStartOddZao              18526 non-null  float64\n",
      " 3   daxiaoGuestStartOddZao               18526 non-null  float64\n",
      " 4   daxiaoPankouStartZao                 18526 non-null  object \n",
      " 5   daxiaoMasterOddZao                   18526 non-null  float64\n",
      " 6   daxiaoGuestOddZao                    18526 non-null  float64\n",
      " 7   daxiaoPankouZao                      18526 non-null  object \n",
      " 8   daxiaoMasterStartOdd                 18526 non-null  float32\n",
      " 9   daxiaoGuestStartOdd                  18526 non-null  float32\n",
      " 10  daxiaoPankouStart                    18526 non-null  object \n",
      " 11  daxiaoMasterOdd                      18526 non-null  float32\n",
      " 12  daxiaoGuestOdd                       18526 non-null  float32\n",
      " 13  daxiaoPankou                         18526 non-null  object \n",
      " 14  daxiaoMasterStartOddMid              18526 non-null  float32\n",
      " 15  daxiaoGuestStartOddMid               18526 non-null  float32\n",
      " 16  daxiaoPankouStartMid                 18526 non-null  object \n",
      " 17  daxiaoMasterOddMid                   18526 non-null  float32\n",
      " 18  daxiaoGuestOddMid                    18526 non-null  float32\n",
      " 19  daxiaoPankouMid                      18526 non-null  object \n",
      " 20  daxiaoMasterStartOddZao_was_missing  18526 non-null  bool   \n",
      " 21  daxiaoGuestStartOddZao_was_missing   18526 non-null  bool   \n",
      " 22  daxiaoPankouStartZao_was_missing     18526 non-null  bool   \n",
      " 23  daxiaoMasterOddZao_was_missing       18526 non-null  bool   \n",
      " 24  daxiaoGuestOddZao_was_missing        18526 non-null  bool   \n",
      " 25  daxiaoPankouZao_was_missing          18526 non-null  bool   \n",
      " 26  result                               18526 non-null  int64  \n",
      " 27  zhongbifeng                          18526 non-null  int8   \n",
      " 28  daxiaoPankouStart_real               18526 non-null  object \n",
      " 29  daxiaoPankou_real                    18526 non-null  object \n",
      " 30  daxiaoPankouStartMid_real            18526 non-null  object \n",
      " 31  daxiaoPankouMid_real                 18526 non-null  object \n",
      " 32  daxiaoPankouStartZao_real            18526 non-null  object \n",
      " 33  daxiaoPankouZao_real                 18526 non-null  object \n",
      " 34  daxiaoPankouShengJiang               18526 non-null  object \n",
      " 35  daxiaoPankouMidShengJiang            18526 non-null  object \n",
      " 36  daxiaoTypeStart                      18526 non-null  object \n",
      " 37  daxiaoType                           18526 non-null  object \n",
      " 38  daxiaoTypeStartMid                   18526 non-null  object \n",
      " 39  daxiaoTypeMid                        18526 non-null  object \n",
      " 40  daxiaoTypeStartZao                   18526 non-null  object \n",
      " 41  daxiaoTypeZao                        18526 non-null  object \n",
      " 42  daxiaoTypeStartReal                  18526 non-null  object \n",
      " 43  daxiaoTypeReal                       18526 non-null  object \n",
      " 44  daxiaoTypeStartMidReal               18526 non-null  object \n",
      " 45  daxiaoTypeMidReal                    18526 non-null  object \n",
      " 46  daxiaoTypeStartZaoReal               18526 non-null  object \n",
      " 47  daxiaoTypeZaoReal                    18526 non-null  object \n",
      " 48  daxiaoMasterStartOdd_shuiPing        18526 non-null  int64  \n",
      " 49  daxiaoGuestStartOdd_shuiPing         18526 non-null  int64  \n",
      " 50  daxiaoMasterOdd_shuiPing             18526 non-null  int64  \n",
      " 51  daxiaoGuestOdd_shuiPing              18526 non-null  int64  \n",
      " 52  daxiaoMasterStartOddMid_shuiPing     18526 non-null  int64  \n",
      " 53  daxiaoGuestStartOddMid_shuiPing      18526 non-null  int64  \n",
      " 54  daxiaoMasterOddMid_shuiPing          18526 non-null  int64  \n",
      " 55  daxiaoGuestOddMid_shuiPing           18526 non-null  int64  \n",
      " 56  daxiaoMasterStartOddZao_shuiPing     18526 non-null  int64  \n",
      " 57  daxiaoGuestStartOddZao_shuiPing      18526 non-null  int64  \n",
      " 58  daxiaoMasterOddZao_shuiPing          18526 non-null  int64  \n",
      " 59  daxiaoGuestOddZao_shuiPing           18526 non-null  int64  \n",
      "dtypes: bool(6), float32(8), float64(4), int64(13), int8(3), object(26)\n",
      "memory usage: 6.9+ MB\n"
     ]
    }
   ],
   "source": [
    "test.info()"
   ]
  },
  {
   "cell_type": "code",
   "execution_count": null,
   "metadata": {},
   "outputs": [],
   "source": []
  },
  {
   "cell_type": "code",
   "execution_count": null,
   "metadata": {
    "ExecuteTime": {
     "end_time": "2021-07-25T02:41:07.391546Z",
     "start_time": "2021-07-25T02:41:07.363574Z"
    }
   },
   "outputs": [],
   "source": []
  },
  {
   "cell_type": "code",
   "execution_count": null,
   "metadata": {
    "ExecuteTime": {
     "end_time": "2021-07-25T03:03:37.059192Z",
     "start_time": "2021-07-25T03:03:37.029195Z"
    }
   },
   "outputs": [],
   "source": []
  },
  {
   "cell_type": "code",
   "execution_count": 11,
   "metadata": {
    "ExecuteTime": {
     "end_time": "2021-07-25T12:43:12.440070Z",
     "start_time": "2021-07-25T12:43:12.395084Z"
    },
    "scrolled": true
   },
   "outputs": [],
   "source": [
    "# myclient = pymongo.MongoClient(\"mongodb://localhost:27017/\")\n",
    "# mydb = myclient[\"soccerData\"]\n",
    "# mycol = mydb[\"midRawData007\"]\n",
    "\n",
    "# train = pd.DataFrame(list(mycol.find({\"time\":{\"$lt\":\"2021-00-00 00:00:00\",}})))\n",
    "# train = train.drop(['_id','place'], axis=1)"
   ]
  },
  {
   "cell_type": "code",
   "execution_count": 12,
   "metadata": {
    "ExecuteTime": {
     "end_time": "2021-07-25T12:46:11.195770Z",
     "start_time": "2021-07-25T12:43:12.442069Z"
    }
   },
   "outputs": [
    {
     "name": "stdout",
     "output_type": "stream",
     "text": [
      "Memory usage of dataframe is 51.56 MB\n",
      "Memory usage after optimization is: 29.30 MB\n",
      "Decreased by 43.2%\n"
     ]
    }
   ],
   "source": [
    "train = pd.read_csv('train.csv')\n",
    "train = reduce_mem_usage(train)\n",
    "train = preF(train)\n",
    "train = num_fea_dis(train,fes)"
   ]
  },
  {
   "cell_type": "code",
   "execution_count": 13,
   "metadata": {
    "ExecuteTime": {
     "end_time": "2021-07-25T12:46:11.558500Z",
     "start_time": "2021-07-25T12:46:11.196706Z"
    }
   },
   "outputs": [
    {
     "name": "stdout",
     "output_type": "stream",
     "text": [
      "<class 'pandas.core.frame.DataFrame'>\n",
      "Int64Index: 244819 entries, 1 to 307211\n",
      "Data columns (total 60 columns):\n",
      " #   Column                               Non-Null Count   Dtype  \n",
      "---  ------                               --------------   -----  \n",
      " 0   masterMidGoal                        244819 non-null  int8   \n",
      " 1   guestMidGoal                         244819 non-null  int8   \n",
      " 2   daxiaoMasterStartOdd                 244819 non-null  float32\n",
      " 3   daxiaoGuestStartOdd                  244819 non-null  float32\n",
      " 4   daxiaoPankouStart                    244819 non-null  object \n",
      " 5   daxiaoMasterOdd                      244819 non-null  float32\n",
      " 6   daxiaoGuestOdd                       244819 non-null  float32\n",
      " 7   daxiaoPankou                         244819 non-null  object \n",
      " 8   daxiaoMasterStartOddMid              244819 non-null  float32\n",
      " 9   daxiaoGuestStartOddMid               244819 non-null  float32\n",
      " 10  daxiaoPankouStartMid                 244819 non-null  object \n",
      " 11  daxiaoMasterOddMid                   244819 non-null  float32\n",
      " 12  daxiaoGuestOddMid                    244819 non-null  float32\n",
      " 13  daxiaoPankouMid                      244819 non-null  object \n",
      " 14  daxiaoMasterStartOddZao              244819 non-null  float64\n",
      " 15  daxiaoGuestStartOddZao               244819 non-null  float64\n",
      " 16  daxiaoPankouStartZao                 244819 non-null  object \n",
      " 17  daxiaoMasterOddZao                   244819 non-null  float64\n",
      " 18  daxiaoGuestOddZao                    244819 non-null  float64\n",
      " 19  daxiaoPankouZao                      244819 non-null  object \n",
      " 20  daxiaoMasterStartOddZao_was_missing  244819 non-null  bool   \n",
      " 21  daxiaoGuestStartOddZao_was_missing   244819 non-null  bool   \n",
      " 22  daxiaoPankouStartZao_was_missing     244819 non-null  bool   \n",
      " 23  daxiaoMasterOddZao_was_missing       244819 non-null  bool   \n",
      " 24  daxiaoGuestOddZao_was_missing        244819 non-null  bool   \n",
      " 25  daxiaoPankouZao_was_missing          244819 non-null  bool   \n",
      " 26  result                               244819 non-null  int64  \n",
      " 27  zhongbifeng                          244819 non-null  int8   \n",
      " 28  daxiaoPankouStart_real               244819 non-null  object \n",
      " 29  daxiaoPankou_real                    244819 non-null  object \n",
      " 30  daxiaoPankouStartMid_real            244819 non-null  object \n",
      " 31  daxiaoPankouMid_real                 244819 non-null  object \n",
      " 32  daxiaoPankouStartZao_real            244819 non-null  object \n",
      " 33  daxiaoPankouZao_real                 244819 non-null  object \n",
      " 34  daxiaoPankouShengJiang               244819 non-null  object \n",
      " 35  daxiaoPankouMidShengJiang            244819 non-null  object \n",
      " 36  daxiaoTypeStart                      244819 non-null  object \n",
      " 37  daxiaoType                           244819 non-null  object \n",
      " 38  daxiaoTypeStartMid                   244819 non-null  object \n",
      " 39  daxiaoTypeMid                        244819 non-null  object \n",
      " 40  daxiaoTypeStartZao                   244819 non-null  object \n",
      " 41  daxiaoTypeZao                        244819 non-null  object \n",
      " 42  daxiaoTypeStartReal                  244819 non-null  object \n",
      " 43  daxiaoTypeReal                       244819 non-null  object \n",
      " 44  daxiaoTypeStartMidReal               244819 non-null  object \n",
      " 45  daxiaoTypeMidReal                    244819 non-null  object \n",
      " 46  daxiaoTypeStartZaoReal               244819 non-null  object \n",
      " 47  daxiaoTypeZaoReal                    244819 non-null  object \n",
      " 48  daxiaoMasterStartOdd_shuiPing        244819 non-null  int64  \n",
      " 49  daxiaoGuestStartOdd_shuiPing         244819 non-null  int64  \n",
      " 50  daxiaoMasterOdd_shuiPing             244819 non-null  int64  \n",
      " 51  daxiaoGuestOdd_shuiPing              244819 non-null  int64  \n",
      " 52  daxiaoMasterStartOddMid_shuiPing     244819 non-null  int64  \n",
      " 53  daxiaoGuestStartOddMid_shuiPing      244819 non-null  int64  \n",
      " 54  daxiaoMasterOddMid_shuiPing          244819 non-null  int64  \n",
      " 55  daxiaoGuestOddMid_shuiPing           244819 non-null  int64  \n",
      " 56  daxiaoMasterStartOddZao_shuiPing     244819 non-null  int64  \n",
      " 57  daxiaoGuestStartOddZao_shuiPing      244819 non-null  int64  \n",
      " 58  daxiaoMasterOddZao_shuiPing          244819 non-null  int64  \n",
      " 59  daxiaoGuestOddZao_shuiPing           244819 non-null  int64  \n",
      "dtypes: bool(6), float32(8), float64(4), int64(13), int8(3), object(26)\n",
      "memory usage: 91.8+ MB\n"
     ]
    }
   ],
   "source": [
    "train.info()"
   ]
  },
  {
   "cell_type": "code",
   "execution_count": 14,
   "metadata": {
    "ExecuteTime": {
     "end_time": "2021-07-25T12:46:11.605474Z",
     "start_time": "2021-07-25T12:46:11.560499Z"
    }
   },
   "outputs": [
    {
     "name": "stdout",
     "output_type": "stream",
     "text": [
      "<class 'pandas.core.frame.DataFrame'>\n",
      "Int64Index: 18526 entries, 0 to 22247\n",
      "Data columns (total 60 columns):\n",
      " #   Column                               Non-Null Count  Dtype  \n",
      "---  ------                               --------------  -----  \n",
      " 0   masterMidGoal                        18526 non-null  int8   \n",
      " 1   guestMidGoal                         18526 non-null  int8   \n",
      " 2   daxiaoMasterStartOddZao              18526 non-null  float64\n",
      " 3   daxiaoGuestStartOddZao               18526 non-null  float64\n",
      " 4   daxiaoPankouStartZao                 18526 non-null  object \n",
      " 5   daxiaoMasterOddZao                   18526 non-null  float64\n",
      " 6   daxiaoGuestOddZao                    18526 non-null  float64\n",
      " 7   daxiaoPankouZao                      18526 non-null  object \n",
      " 8   daxiaoMasterStartOdd                 18526 non-null  float32\n",
      " 9   daxiaoGuestStartOdd                  18526 non-null  float32\n",
      " 10  daxiaoPankouStart                    18526 non-null  object \n",
      " 11  daxiaoMasterOdd                      18526 non-null  float32\n",
      " 12  daxiaoGuestOdd                       18526 non-null  float32\n",
      " 13  daxiaoPankou                         18526 non-null  object \n",
      " 14  daxiaoMasterStartOddMid              18526 non-null  float32\n",
      " 15  daxiaoGuestStartOddMid               18526 non-null  float32\n",
      " 16  daxiaoPankouStartMid                 18526 non-null  object \n",
      " 17  daxiaoMasterOddMid                   18526 non-null  float32\n",
      " 18  daxiaoGuestOddMid                    18526 non-null  float32\n",
      " 19  daxiaoPankouMid                      18526 non-null  object \n",
      " 20  daxiaoMasterStartOddZao_was_missing  18526 non-null  bool   \n",
      " 21  daxiaoGuestStartOddZao_was_missing   18526 non-null  bool   \n",
      " 22  daxiaoPankouStartZao_was_missing     18526 non-null  bool   \n",
      " 23  daxiaoMasterOddZao_was_missing       18526 non-null  bool   \n",
      " 24  daxiaoGuestOddZao_was_missing        18526 non-null  bool   \n",
      " 25  daxiaoPankouZao_was_missing          18526 non-null  bool   \n",
      " 26  result                               18526 non-null  int64  \n",
      " 27  zhongbifeng                          18526 non-null  int8   \n",
      " 28  daxiaoPankouStart_real               18526 non-null  object \n",
      " 29  daxiaoPankou_real                    18526 non-null  object \n",
      " 30  daxiaoPankouStartMid_real            18526 non-null  object \n",
      " 31  daxiaoPankouMid_real                 18526 non-null  object \n",
      " 32  daxiaoPankouStartZao_real            18526 non-null  object \n",
      " 33  daxiaoPankouZao_real                 18526 non-null  object \n",
      " 34  daxiaoPankouShengJiang               18526 non-null  object \n",
      " 35  daxiaoPankouMidShengJiang            18526 non-null  object \n",
      " 36  daxiaoTypeStart                      18526 non-null  object \n",
      " 37  daxiaoType                           18526 non-null  object \n",
      " 38  daxiaoTypeStartMid                   18526 non-null  object \n",
      " 39  daxiaoTypeMid                        18526 non-null  object \n",
      " 40  daxiaoTypeStartZao                   18526 non-null  object \n",
      " 41  daxiaoTypeZao                        18526 non-null  object \n",
      " 42  daxiaoTypeStartReal                  18526 non-null  object \n",
      " 43  daxiaoTypeReal                       18526 non-null  object \n",
      " 44  daxiaoTypeStartMidReal               18526 non-null  object \n",
      " 45  daxiaoTypeMidReal                    18526 non-null  object \n",
      " 46  daxiaoTypeStartZaoReal               18526 non-null  object \n",
      " 47  daxiaoTypeZaoReal                    18526 non-null  object \n",
      " 48  daxiaoMasterStartOdd_shuiPing        18526 non-null  int64  \n",
      " 49  daxiaoGuestStartOdd_shuiPing         18526 non-null  int64  \n",
      " 50  daxiaoMasterOdd_shuiPing             18526 non-null  int64  \n",
      " 51  daxiaoGuestOdd_shuiPing              18526 non-null  int64  \n",
      " 52  daxiaoMasterStartOddMid_shuiPing     18526 non-null  int64  \n",
      " 53  daxiaoGuestStartOddMid_shuiPing      18526 non-null  int64  \n",
      " 54  daxiaoMasterOddMid_shuiPing          18526 non-null  int64  \n",
      " 55  daxiaoGuestOddMid_shuiPing           18526 non-null  int64  \n",
      " 56  daxiaoMasterStartOddZao_shuiPing     18526 non-null  int64  \n",
      " 57  daxiaoGuestStartOddZao_shuiPing      18526 non-null  int64  \n",
      " 58  daxiaoMasterOddZao_shuiPing          18526 non-null  int64  \n",
      " 59  daxiaoGuestOddZao_shuiPing           18526 non-null  int64  \n",
      "dtypes: bool(6), float32(8), float64(4), int64(13), int8(3), object(26)\n",
      "memory usage: 6.9+ MB\n"
     ]
    }
   ],
   "source": [
    "test.info()"
   ]
  },
  {
   "cell_type": "code",
   "execution_count": 15,
   "metadata": {
    "ExecuteTime": {
     "end_time": "2021-07-25T12:46:11.636456Z",
     "start_time": "2021-07-25T12:46:11.607473Z"
    }
   },
   "outputs": [],
   "source": [
    "import gc\n",
    "\n",
    "def encode_CB(col1,col2,df1,df2):\n",
    "    nm = col1+'_'+col2\n",
    "    df1[nm] = df1[col1].astype(str)+'_'+df1[col2].astype(str)\n",
    "    df2[nm] = df2[col1].astype(str)+'_'+df2[col2].astype(str) \n",
    "\n",
    "def encode_CB3(col1,col2,col3,df1,df2,name=\"\"):\n",
    "    if name == \"\":\n",
    "        nm = col1+'_'+col2+'_'+col3\n",
    "    else:\n",
    "        nm = name\n",
    "    df1[nm] = df1[col1].astype(str)+'_'+df1[col2].astype(str)+'_'+df1[col3].astype(str)\n",
    "    df2[nm] = df2[col1].astype(str)+'_'+df2[col2].astype(str)+'_'+df2[col3].astype(str)\n"
   ]
  },
  {
   "cell_type": "code",
   "execution_count": 16,
   "metadata": {
    "ExecuteTime": {
     "end_time": "2021-07-25T12:46:16.996384Z",
     "start_time": "2021-07-25T12:46:11.638455Z"
    }
   },
   "outputs": [],
   "source": [
    "encode_CB3(\"daxiaoMasterStartOdd_shuiPing\",\"daxiaoGuestStartOdd_shuiPing\",\"daxiaoPankouStart\",train,test,\"typeLinStart\")\n",
    "encode_CB3(\"daxiaoMasterOdd_shuiPing\",\"daxiaoGuestOdd_shuiPing\",\"daxiaoPankou\",train,test,\"typeLinEnd\")\n",
    "\n",
    "encode_CB3(\"daxiaoMasterStartOddMid_shuiPing\",\"daxiaoGuestStartOddMid_shuiPing\",\"daxiaoPankouStartMid\",train,test,\"typeMidStart\")\n",
    "encode_CB3(\"daxiaoMasterOddMid_shuiPing\",\"daxiaoGuestOddMid_shuiPing\",\"daxiaoPankouMid\",train,test,\"typeMidEnd\")\n",
    "\n",
    "encode_CB3(\"daxiaoMasterStartOddZao_shuiPing\",\"daxiaoGuestStartOddZao_shuiPing\",\"daxiaoPankouStartZao\",train,test,\"typeZaoStart\")\n",
    "encode_CB3(\"daxiaoMasterOddZao_shuiPing\",\"daxiaoGuestOddZao_shuiPing\",\"daxiaoPankouZao\",train,test,\"typeZaoEnd\")\n",
    "\n",
    "\n",
    "encode_CB3(\"zhongbifeng\",\"typeLinStart\",\"typeLinEnd\",train,test,\"TypeLin\")\n",
    "\n",
    "encode_CB3(\"zhongbifeng\",\"typeMidStart\",\"typeMidEnd\",train,test,\"TypeMid\")\n",
    "\n",
    "encode_CB3(\"zhongbifeng\",\"typeZaoStart\",\"typeZaoEnd\",train,test,\"TypeZao\")\n",
    "\n",
    "encode_CB3(\"zhongbifeng\",\"typeLinStart\",\"typeMidEnd\",train,test,\"TypeLinMid\")\n",
    "\n",
    "encode_CB3(\"zhongbifeng\",\"typeZaoStart\",\"typeLinEnd\",train,test,\"TypeZaoLin\")\n",
    "\n",
    "encode_CB3(\"TypeLin\",\"typeMidStart\",\"typeMidEnd\",train,test,\"TypeAll\")\n",
    "\n",
    "encode_CB3(\"TypeAll\",\"typeZaoStart\",\"typeZaoEnd\",train,test,\"TypeAllZAO\")"
   ]
  },
  {
   "cell_type": "code",
   "execution_count": 17,
   "metadata": {
    "ExecuteTime": {
     "end_time": "2021-07-25T12:46:22.894427Z",
     "start_time": "2021-07-25T12:46:16.999382Z"
    }
   },
   "outputs": [],
   "source": [
    "encode_CB(\"daxiaoPankou\",\"daxiaoPankouMid\",train,test)\n",
    "encode_CB(\"daxiaoPankouStart\",\"daxiaoPankouMid\",train,test)\n",
    "\n",
    "encode_CB(\"daxiaoPankouStart\",\"daxiaoPankou\",train,test)\n",
    "encode_CB(\"daxiaoPankouStartMid\",\"daxiaoPankouMid\",train,test)\n",
    "\n",
    "encode_CB(\"daxiaoPankouStartZao\",\"daxiaoPankouZao\",train,test)\n",
    "encode_CB(\"daxiaoPankouStartZao\",\"daxiaoPankou\",train,test)\n",
    "encode_CB(\"daxiaoPankouStartZao\",\"daxiaoPankouMid\",train,test)\n",
    "\n",
    "\n",
    "encode_CB(\"daxiaoPankou_real\",\"daxiaoPankouMid_real\",train,test)\n",
    "encode_CB(\"daxiaoPankouStart_real\",\"daxiaoPankou_real\",train,test)\n",
    "encode_CB(\"daxiaoPankouStartMid_real\",\"daxiaoPankouMid_real\",train,test)\n",
    "\n",
    "encode_CB(\"daxiaoType\",\"daxiaoTypeMid\",train,test)\n",
    "encode_CB(\"daxiaoTypeStart\",\"daxiaoType\",train,test)\n",
    "encode_CB(\"daxiaoTypeStartMid\",\"daxiaoTypeMid\",train,test)\n",
    "\n",
    "\n",
    "encode_CB(\"daxiaoTypeReal\",\"daxiaoTypeMidReal\",train,test)\n",
    "encode_CB(\"daxiaoTypeStartReal\",\"daxiaoTypeReal\",train,test)\n",
    "encode_CB(\"daxiaoTypeStartMidReal\",\"daxiaoTypeMidReal\",train,test)\n",
    "\n",
    "encode_CB(\"zhongbifeng\",\"daxiaoPankouShengJiang\",train,test)\n",
    "encode_CB(\"zhongbifeng\",\"daxiaoPankouMidShengJiang\",train,test)\n",
    "\n",
    "\n",
    "encode_CB3(\"zhongbifeng\",\"daxiaoPankou\",\"daxiaoPankouMid\",train,test)\n",
    "encode_CB3(\"zhongbifeng\",\"daxiaoPankouStart\",\"daxiaoPankou\",train,test)\n",
    "encode_CB3(\"zhongbifeng\",\"daxiaoPankouStartMid\",\"daxiaoPankouMid\",train,test)\n",
    "\n",
    "encode_CB3(\"zhongbifeng\",\"daxiaoType\",\"daxiaoTypeMid\",train,test)\n",
    "\n",
    "encode_CB3(\"zhongbifeng\",\"daxiaoTypeStart\",\"daxiaoType\",train,test,\"oldTypeLin\")\n",
    "encode_CB3(\"zhongbifeng\",\"daxiaoTypeStartMid\",\"daxiaoTypeMid\",train,test,\"oldTypeMid\")\n",
    "\n",
    "encode_CB3(\"oldTypeLin\",\"daxiaoTypeStartMid\",\"daxiaoTypeMid\",train,test,\"oldTypeLinMid\")\n",
    "\n",
    "encode_CB3(\"oldTypeLinMid\",\"daxiaoTypeStartZao\",\"daxiaoTypeZao\",train,test,\"oldTypeLinMidZao\")\n",
    "\n",
    "\n",
    "encode_CB3(\"zhongbifeng\",\"daxiaoPankou_real\",\"daxiaoPankouMid_real\",train,test)\n",
    "encode_CB3(\"zhongbifeng\",\"daxiaoPankouStart_real\",\"daxiaoPankou_real\",train,test)\n",
    "encode_CB3(\"zhongbifeng\",\"daxiaoPankouStartMid_real\",\"daxiaoPankouMid_real\",train,test)\n",
    "\n",
    "encode_CB3(\"zhongbifeng\",\"daxiaoTypeReal\",\"daxiaoTypeMidReal\",train,test)\n",
    "encode_CB3(\"zhongbifeng\",\"daxiaoTypeStartReal\",\"daxiaoTypeReal\",train,test)\n",
    "encode_CB3(\"zhongbifeng\",\"daxiaoTypeStartMidReal\",\"daxiaoTypeMidReal\",train,test)"
   ]
  },
  {
   "cell_type": "code",
   "execution_count": 18,
   "metadata": {
    "ExecuteTime": {
     "end_time": "2021-07-25T12:46:30.607033Z",
     "start_time": "2021-07-25T12:46:22.896411Z"
    }
   },
   "outputs": [],
   "source": [
    "def encode_Count(df1, df2, col):\n",
    "    df = df1[[col, 'result']]\n",
    "    nm = col+'_COUNT'\n",
    "    dicts = df.groupby(col)['result'].sum().to_dict()\n",
    "    df1[nm] = df1[col].map(dicts).astype(int)\n",
    "    \n",
    "    df2[nm] = df2[col].map(dicts)\n",
    "#     df2[nm] = df2.apply(lambda x: fillNa(x[nm], 9999), axis=1)\n",
    "#     df2[nm] = df2[nm].astype(int)\n",
    "\n",
    "    nm = col+'_ALL'\n",
    "    dicts = df.groupby(col)['result'].count().to_dict()\n",
    "    df1[nm] = df1[col].map(dicts)\n",
    "    \n",
    "    df2[nm] = df2[col].map(dicts)\n",
    "#     df2[nm] = df2.apply(lambda x: fillNa(x[nm], 1), axis=1)\n",
    "#     df2[nm] = df2[nm].astype(int)\n",
    "\n",
    "    nm = col+'_CT'\n",
    "    df1[nm] = df1[col+'_COUNT'] / df1[col+'_ALL']\n",
    "    df2[nm] = df2[col+'_COUNT'] / df2[col+'_ALL']\n",
    "\n",
    "\n",
    "for col in [\"TypeMid\", \"TypeLinMid\", \"TypeZao\", \"TypeZaoLin\",\"oldTypeLinMidZao\"]:\n",
    "    encode_Count(train, test, col)\n",
    "    test = test.drop([col+'_ALL', col+'_COUNT'], axis=1)\n",
    "    train = train.drop([col+'_ALL', col+'_COUNT'], axis=1)"
   ]
  },
  {
   "cell_type": "code",
   "execution_count": 19,
   "metadata": {
    "ExecuteTime": {
     "end_time": "2021-07-25T12:46:30.638000Z",
     "start_time": "2021-07-25T12:46:30.609017Z"
    }
   },
   "outputs": [
    {
     "name": "stdout",
     "output_type": "stream",
     "text": [
      "<class 'pandas.core.frame.DataFrame'>\n",
      "Int64Index: 244819 entries, 1 to 307211\n",
      "Columns: 110 entries, masterMidGoal to oldTypeLinMidZao_CT\n",
      "dtypes: bool(6), float32(8), float64(9), int64(13), int8(3), object(71)\n",
      "memory usage: 185.1+ MB\n"
     ]
    }
   ],
   "source": [
    "train.info()"
   ]
  },
  {
   "cell_type": "code",
   "execution_count": 20,
   "metadata": {
    "ExecuteTime": {
     "end_time": "2021-07-25T12:46:30.684974Z",
     "start_time": "2021-07-25T12:46:30.639999Z"
    }
   },
   "outputs": [
    {
     "name": "stdout",
     "output_type": "stream",
     "text": [
      "<class 'pandas.core.frame.DataFrame'>\n",
      "Int64Index: 18526 entries, 0 to 22247\n",
      "Columns: 110 entries, masterMidGoal to oldTypeLinMidZao_CT\n",
      "dtypes: bool(6), float32(8), float64(9), int64(13), int8(3), object(71)\n",
      "memory usage: 14.0+ MB\n"
     ]
    }
   ],
   "source": [
    "test.info()"
   ]
  },
  {
   "cell_type": "code",
   "execution_count": null,
   "metadata": {
    "ExecuteTime": {
     "end_time": "2021-07-25T12:27:52.243162Z",
     "start_time": "2021-07-25T12:27:46.277264Z"
    },
    "scrolled": true
   },
   "outputs": [],
   "source": []
  },
  {
   "cell_type": "code",
   "execution_count": null,
   "metadata": {
    "ExecuteTime": {
     "end_time": "2021-07-25T12:27:54.189047Z",
     "start_time": "2021-07-25T12:27:53.365526Z"
    }
   },
   "outputs": [],
   "source": [
    "train_x =  train.drop(columns=['result'])\n",
    "train_y =  train['result']\n",
    "\n",
    "test_x =  test.drop(columns=['result'])\n",
    "test_y =  test['result']\n"
   ]
  },
  {
   "cell_type": "code",
   "execution_count": null,
   "metadata": {
    "ExecuteTime": {
     "end_time": "2021-07-25T12:29:25.829173Z",
     "start_time": "2021-07-25T12:27:54.192047Z"
    }
   },
   "outputs": [],
   "source": [
    "import category_encoders as ce\n",
    "\n",
    "cat_features = train_x.select_dtypes(include='object').columns\n",
    "# test_x[cat_features] = test_x[cat_features].astype('category')\n",
    "# train_x[cat_features] = train_x[cat_features].astype('category')\n",
    "\n",
    "target_enc = ce.TargetEncoder(cols=cat_features)\n",
    "target_enc.fit(train_x[cat_features], train_y)\n",
    "\n",
    "train_x[cat_features] = target_enc.transform(train_x[cat_features])\n",
    "\n",
    "test_x[cat_features] = target_enc.transform(test_x[cat_features])\n",
    "\n",
    "import category_encoders as ce\n",
    "\n",
    "cat_features = train_x.select_dtypes(include='category').columns\n",
    "\n",
    "target_enc = ce.TargetEncoder(cols=cat_features)\n",
    "target_enc.fit(train_x[cat_features], train_y)\n",
    "\n",
    "train_x[cat_features] = target_enc.transform(train_x[cat_features])\n",
    "\n",
    "test_x[cat_features] = target_enc.transform(test_x[cat_features])"
   ]
  },
  {
   "cell_type": "code",
   "execution_count": null,
   "metadata": {
    "ExecuteTime": {
     "end_time": "2021-07-25T12:29:25.924124Z",
     "start_time": "2021-07-25T12:29:25.830173Z"
    }
   },
   "outputs": [],
   "source": []
  },
  {
   "cell_type": "code",
   "execution_count": null,
   "metadata": {
    "ExecuteTime": {
     "end_time": "2021-07-25T12:30:14.435404Z",
     "start_time": "2021-07-25T12:29:26.021038Z"
    }
   },
   "outputs": [],
   "source": [
    "from sklearn.metrics import roc_auc_score\n",
    "import lightgbm as lgb\n",
    "\n",
    "lgb_train = lgb.Dataset(train_x, train_y)\n",
    "\n",
    "# 参数设置\n",
    "params = {'num_leaves': 240, #结果对最终效果影响较大，越大值越好，太大会出现过拟合\n",
    "          'min_data_in_leaf': 30,\n",
    "          'objective': 'binary', #定义的目标函数\n",
    "          'max_depth': -1,\n",
    "          'learning_rate': 0.03,\n",
    "          \"min_sum_hessian_in_leaf\": 6,\n",
    "          \"boosting\": \"gbdt\",\n",
    "          \"feature_fraction\":  0.5992677823884304,\t#提取的特征比率\n",
    "          \"bagging_freq\": 4,\n",
    "          \"bagging_fraction\":0.7100471696361973,\n",
    "          \"bagging_seed\": 11,\n",
    "          \"lambda_l1\": 8.545500456265467e-05,\t\t\t\t#l1正则\n",
    "          'lambda_l2': 5.985747612243422e-07,\t\t#l2正则\n",
    "          \"verbosity\": -1,\n",
    "          \"nthread\": -1,\t\t#线程数量，-1表示全部线程，线程越多，运行的速度越快\n",
    "          'metric': {'binary_logloss', 'auc'},\t##评价函数选择\n",
    "          \"random_state\": 2019,\t#随机数种子，可以防止每次运行的结果不一致\n",
    "          # 'device': 'gpu' ##如果安装的事gpu版本的lightgbm,可以加快运算\n",
    "          'min_child_samples': 67,\n",
    "          }\n",
    "\n",
    "\n",
    "print('Starting training...')\n",
    "# 模型训练\n",
    "gbm = lgb.train(params,\n",
    "                lgb_train,\n",
    "                num_boost_round=20)\n",
    "\n",
    "\n",
    "# 模型预测\n",
    "y_pred = gbm.predict(test_x, num_iteration=gbm.best_iteration)\n",
    "\n",
    "accuracy = roc_auc_score(test_y, y_pred)\n",
    "print(\"accuarcy: %.2f%%\" % (accuracy*100.0))\n",
    "\n",
    "cv_results = lgb.cv(params, lgb_train, num_boost_round=500, nfold=5, \n",
    "                    verbose_eval=20, early_stopping_rounds=40)\n",
    "\n",
    "np.array(cv_results[\"auc-mean\"]).mean()"
   ]
  },
  {
   "cell_type": "code",
   "execution_count": null,
   "metadata": {
    "ExecuteTime": {
     "end_time": "2021-07-25T12:30:18.093768Z",
     "start_time": "2021-07-25T12:30:14.438419Z"
    }
   },
   "outputs": [],
   "source": [
    "fig, ax = plt.subplots(figsize=(10,10))\n",
    "lgb.plot_importance(gbm, max_num_features=60, height=0.5, ax=ax)\n",
    "plt.show()"
   ]
  },
  {
   "cell_type": "code",
   "execution_count": null,
   "metadata": {
    "ExecuteTime": {
     "end_time": "2021-07-25T05:56:39.960095Z",
     "start_time": "2021-07-25T05:54:40.298Z"
    }
   },
   "outputs": [],
   "source": [
    "\n"
   ]
  },
  {
   "cell_type": "code",
   "execution_count": null,
   "metadata": {
    "ExecuteTime": {
     "end_time": "2021-07-25T05:58:38.346852Z",
     "start_time": "2021-07-25T05:57:37.693019Z"
    }
   },
   "outputs": [],
   "source": [
    "import gc\n",
    "X=train_x\n",
    "y=train_y\n",
    "# del train_x,train_y\n",
    "# gc.collect()\n",
    "\n",
    "from sklearn.model_selection import StratifiedKFold\n",
    "from sklearn.metrics import roc_auc_score\n",
    "\n",
    "import lightgbm as lgb\n",
    "params = {'num_leaves': 240, #结果对最终效果影响较大，越大值越好，太大会出现过拟合\n",
    "          'min_data_in_leaf': 30,\n",
    "          'objective': 'binary', #定义的目标函数\n",
    "          'max_depth': -1,\n",
    "          'learning_rate': 0.03,\n",
    "          \"min_sum_hessian_in_leaf\": 6,\n",
    "          \"boosting\": \"gbdt\",\n",
    "          \"feature_fraction\":  0.5992677823884304,\t#提取的特征比率\n",
    "          \"bagging_freq\": 4,\n",
    "          \"bagging_fraction\":0.7100471696361973,\n",
    "          \"bagging_seed\": 11,\n",
    "          \"lambda_l1\": 8.545500456265467e-05,\t\t\t\t#l1正则\n",
    "          'lambda_l2': 5.985747612243422e-07,\t\t#l2正则\n",
    "          \"verbosity\": -1,\n",
    "          \"nthread\": -1,\t\t\t\t#线程数量，-1表示全部线程，线程越多，运行的速度越快\n",
    "          'metric': {'binary_logloss', 'auc'},\t##评价函数选择\n",
    "          \"random_state\": 2019,\t#随机数种子，可以防止每次运行的结果不一致\n",
    "          # 'device': 'gpu' ##如果安装的事gpu版本的lightgbm,可以加快运算\n",
    "          'min_child_samples': 67,\n",
    "          }\n",
    "\n",
    "NFOLDS = 5\n",
    "folds = StratifiedKFold(n_splits=NFOLDS)\n",
    "\n",
    "columns = X.columns\n",
    "splits = folds.split(X, y)\n",
    "y_oof = np.zeros(X.shape[0])\n",
    "score = 0\n",
    "\n",
    "feature_importances = pd.DataFrame()\n",
    "feature_importances['feature'] = columns\n",
    "  \n",
    "for fold_n, (train_index, valid_index) in enumerate(splits):\n",
    "    X_train, X_valid = X[columns].iloc[train_index], X[columns].iloc[valid_index]\n",
    "    y_train, y_valid = y.iloc[train_index], y.iloc[valid_index]\n",
    "    \n",
    "    dtrain = lgb.Dataset(X_train, label=y_train)\n",
    "    dvalid = lgb.Dataset(X_valid, label=y_valid)\n",
    "\n",
    "    clf = lgb.train(params, dtrain, 1000, valid_sets = [dtrain, dvalid], verbose_eval=200, early_stopping_rounds=100)\n",
    "    \n",
    "    feature_importances[f'fold_{fold_n + 1}'] = clf.feature_importance()\n",
    "    \n",
    "    y_pred_valid = clf.predict(X_valid)\n",
    "    y_oof[valid_index] = y_pred_valid\n",
    "    print(y_pred_valid)\n",
    "    print(f\"Fold {fold_n + 1} | AUC: {roc_auc_score(y_valid, y_pred_valid)}\")\n",
    "    \n",
    "    score += roc_auc_score(y_valid, y_pred_valid) / NFOLDS\n",
    "    \n",
    "    del X_train, X_valid, y_train, y_valid\n",
    "    gc.collect()\n",
    "\n",
    "print(f\"\\nMean AUC = {score}\")"
   ]
  },
  {
   "cell_type": "code",
   "execution_count": null,
   "metadata": {
    "ExecuteTime": {
     "end_time": "2021-07-25T05:58:39.949406Z",
     "start_time": "2021-07-25T05:58:38.349851Z"
    }
   },
   "outputs": [],
   "source": [
    "import seaborn as sns\n",
    "feature_importance_gain=pd.DataFrame()\n",
    "feature_importance_gain['feature']=columns\n",
    "feature_importance_gain['fold_1']=clf.feature_importance(importance_type='gain')\n",
    "feature_importance_gain['average'] = feature_importances[[f'fold_{fold_n + 1}' for fold_n in range(1)]].mean(axis=1)\n",
    "plt.figure(figsize=(16, 16))\n",
    "sns.barplot(data=feature_importance_gain.sort_values(by='average', ascending=False).head(50), x='average', y='feature');\n",
    "plt.title('100 TOP feature importance over {} folds average'.format(folds.n_splits));"
   ]
  },
  {
   "cell_type": "code",
   "execution_count": null,
   "metadata": {
    "ExecuteTime": {
     "end_time": "2021-07-24T08:59:02.650960Z",
     "start_time": "2021-07-24T08:59:02.621977Z"
    }
   },
   "outputs": [],
   "source": [
    "\n",
    "\n",
    "\n",
    "\n",
    "\n",
    "\n",
    "\n",
    "\n",
    "\n",
    "\n"
   ]
  },
  {
   "cell_type": "code",
   "execution_count": null,
   "metadata": {
    "ExecuteTime": {
     "end_time": "2021-07-21T05:11:55.580441Z",
     "start_time": "2021-07-21T04:24:43.282Z"
    }
   },
   "outputs": [],
   "source": [
    "import sweetviz as sv\n",
    "# 可以选择目标特征\n",
    "train = pd.concat([train_x,train_y],axis=1)\n",
    "my_report = sv.analyze(train, target_feat ='result')\n",
    "my_report.show_html()"
   ]
  },
  {
   "cell_type": "code",
   "execution_count": null,
   "metadata": {
    "ExecuteTime": {
     "end_time": "2021-07-21T04:16:52.191069Z",
     "start_time": "2021-07-21T04:16:52.171080Z"
    }
   },
   "outputs": [],
   "source": [
    "import sweetviz as sv\n",
    "# 可以选择目标特征\n",
    "my_report = sv.analyze(test, target_feat ='result')\n",
    "my_report.show_html()"
   ]
  },
  {
   "cell_type": "code",
   "execution_count": null,
   "metadata": {
    "ExecuteTime": {
     "end_time": "2021-07-21T06:57:00.418641Z",
     "start_time": "2021-07-21T06:57:00.393654Z"
    }
   },
   "outputs": [],
   "source": [
    "\n",
    "\n",
    "\n",
    "\n",
    "\n",
    "\n"
   ]
  },
  {
   "cell_type": "code",
   "execution_count": null,
   "metadata": {
    "ExecuteTime": {
     "start_time": "2021-07-24T17:26:17.284Z"
    }
   },
   "outputs": [],
   "source": []
  },
  {
   "cell_type": "code",
   "execution_count": null,
   "metadata": {
    "ExecuteTime": {
     "end_time": "2021-07-24T17:19:12.669262Z",
     "start_time": "2021-07-24T17:19:12.463380Z"
    }
   },
   "outputs": [],
   "source": []
  },
  {
   "cell_type": "code",
   "execution_count": null,
   "metadata": {
    "ExecuteTime": {
     "end_time": "2021-07-24T22:09:24.023039Z",
     "start_time": "2021-07-24T17:26:50.076Z"
    }
   },
   "outputs": [],
   "source": [
    "from catboost import CatBoostClassifier\n",
    "clf = CatBoostClassifier(loss_function=\"Logloss\",\n",
    "                           eval_metric=\"AUC\",\n",
    "                           learning_rate=0.01,\n",
    "                           iterations=7000,\n",
    "                           l2_leaf_reg=50,\n",
    "                           random_seed=432013,\n",
    "                           od_type=\"Iter\",\n",
    "                           depth=5,\n",
    "                           early_stopping_rounds=15000,\n",
    "                           border_count=64\n",
    "                           #has_time= True \n",
    "                          )\n",
    "\n",
    "clf.fit(train_x, train_y)\n",
    "\n",
    "prediction = clf.predict_proba(test_x)[:,1]\n",
    "\n",
    "accuracy = roc_auc_score(test_y, prediction)\n",
    "print(\"accuarcy: %.2f%%\" % (accuracy*100.0))"
   ]
  },
  {
   "cell_type": "code",
   "execution_count": null,
   "metadata": {
    "ExecuteTime": {
     "end_time": "2021-07-24T22:09:24.025038Z",
     "start_time": "2021-07-24T17:26:50.897Z"
    }
   },
   "outputs": [],
   "source": [
    "from lightgbm import LGBMClassifier\n",
    "\n",
    "params = {'num_leaves': 240, #结果对最终效果影响较大，越大值越好，太大会出现过拟合\n",
    "          'min_data_in_leaf': 30,\n",
    "          'objective': 'binary', #定义的目标函数\n",
    "          'max_depth': -1,\n",
    "          'learning_rate': 0.03,\n",
    "          \"min_sum_hessian_in_leaf\": 6,\n",
    "          \"boosting\": \"gbdt\",\n",
    "          \"feature_fraction\":  0.5992677823884304,\t#提取的特征比率\n",
    "          \"bagging_freq\": 4,\n",
    "          \"bagging_fraction\":0.7100471696361973,\n",
    "          \"bagging_seed\": 11,\n",
    "          \"lambda_l1\": 8.545500456265467e-05,\t\t\t\t#l1正则\n",
    "          'lambda_l2': 5.985747612243422e-07,\t\t#l2正则\n",
    "          \"verbosity\": -1,\n",
    "          \"nthread\": -1,\t\t#线程数量，-1表示全部线程，线程越多，运行的速度越快\n",
    "          'metric': {'binary_logloss', 'auc'},\t##评价函数选择\n",
    "          \"random_state\": 2019,\t#随机数种子，可以防止每次运行的结果不一致\n",
    "          # 'device': 'gpu' ##如果安装的事gpu版本的lightgbm,可以加快运算\n",
    "          'min_child_samples': 67,\n",
    "          }\n",
    "\n",
    "\n",
    "xgb = XGBClassifier()\n",
    "\n",
    "gbm = LGBMClassifier(**params)\n",
    "\n",
    "classifiers = [clf,gbm]\n",
    "\n",
    "from combo.models.classifier_stacking import Stacking\n",
    "\n",
    "clf = Stacking(base_estimators=classifiers, n_folds=5, shuffle_data=False,\n",
    "             keep_original=True, use_proba=True, random_state=2021)\n",
    "\n",
    "clf.fit(train_x, train_y)\n",
    "y_test_predict = clf.predict_proba(test_x)\n",
    "\n",
    "accuracy = roc_auc_score(test_y, y_test_predict)\n",
    "print(\"accuarcy: %.2f%%\" % (accuracy*100.0))"
   ]
  },
  {
   "cell_type": "code",
   "execution_count": null,
   "metadata": {
    "ExecuteTime": {
     "end_time": "2021-07-25T12:31:05.991218Z",
     "start_time": "2021-07-25T12:31:05.255639Z"
    }
   },
   "outputs": [],
   "source": []
  }
 ],
 "metadata": {
  "kernelspec": {
   "display_name": "Python 3",
   "language": "python",
   "name": "python3"
  },
  "language_info": {
   "codemirror_mode": {
    "name": "ipython",
    "version": 3
   },
   "file_extension": ".py",
   "mimetype": "text/x-python",
   "name": "python",
   "nbconvert_exporter": "python",
   "pygments_lexer": "ipython3",
   "version": "3.8.5"
  },
  "toc": {
   "base_numbering": 1,
   "nav_menu": {},
   "number_sections": true,
   "sideBar": true,
   "skip_h1_title": false,
   "title_cell": "Table of Contents",
   "title_sidebar": "Contents",
   "toc_cell": false,
   "toc_position": {},
   "toc_section_display": true,
   "toc_window_display": false
  }
 },
 "nbformat": 4,
 "nbformat_minor": 4
}
