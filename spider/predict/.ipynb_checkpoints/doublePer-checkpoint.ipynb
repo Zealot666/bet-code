{
 "cells": [
  {
   "cell_type": "code",
   "execution_count": 1,
   "metadata": {
    "ExecuteTime": {
     "end_time": "2021-10-13T23:19:44.297838Z",
     "start_time": "2021-10-13T23:19:42.247125Z"
    }
   },
   "outputs": [],
   "source": [
    "import json\n",
    "import pandas as pd\n",
    "import pymongo\n",
    "import matplotlib as mpl\n",
    "import numpy as np\n",
    "import matplotlib.pyplot as plt"
   ]
  },
  {
   "cell_type": "code",
   "execution_count": 2,
   "metadata": {
    "ExecuteTime": {
     "end_time": "2021-10-13T23:19:44.312832Z",
     "start_time": "2021-10-13T23:19:44.299839Z"
    }
   },
   "outputs": [],
   "source": [
    "def getGoalMid(masterGoal, guestGoal, masterMidGoal, guestMidGoal):\n",
    "    return int(masterGoal) + int(guestGoal) - int(masterMidGoal) - int(guestMidGoal)\n",
    "\n",
    "\n",
    "def removeSub(pankou):\n",
    "    pankou = pankou.replace(\"升\", \"\")\n",
    "    pankou = pankou.replace(\"降\", \"\")\n",
    "    return pankou.strip()\n",
    "\n",
    "\n",
    "def getResult(masterGoal, guestGoal, pankou):\n",
    "    pankouList = removeSub(pankou).split(\"/\")\n",
    "    row = 0\n",
    "    for p in pankouList:\n",
    "        row += float(p)\n",
    "    row = row / len(pankouList)\n",
    "    \n",
    "    row = 1\n",
    "    if masterGoal + guestGoal - row >= 0:\n",
    "        return 1\n",
    "    if masterGoal + guestGoal - row < 0:\n",
    "        return 0\n",
    "\n",
    "\n",
    "def getType(yapanMasterStartOdd, yapanGuestStartOdd, yapanPankouStart):\n",
    "    linTypeStart = get18(yapanMasterStartOdd, yapanGuestStartOdd)\n",
    "    return str(linTypeStart) + \"_\" + str(yapanPankouStart)\n",
    "\n",
    "\n",
    "def get18(master, guest):\n",
    "    if master > guest:\n",
    "        return 18\n",
    "    if master < guest:\n",
    "        return 81\n",
    "    if master == guest:\n",
    "        return 99\n",
    "\n",
    "\n",
    "def daxiao_num(x):\n",
    "    x_list = x.split(\"/\")\n",
    "    num = 0\n",
    "    for i in x_list:\n",
    "        num += float(i)\n",
    "    return (float(num)/len(x_list))\n",
    "\n",
    "\n",
    "def realDaxiao(x, master, guest):\n",
    "    return float(x) - int(master) - int(guest)\n",
    "\n",
    "\n",
    "def shengjiang(start, end):\n",
    "    return ((end) - (start))\n",
    "\n",
    "def round2(x):\n",
    "    return round((x), 2)"
   ]
  },
  {
   "cell_type": "code",
   "execution_count": 89,
   "metadata": {
    "ExecuteTime": {
     "end_time": "2021-10-11T00:18:06.444303Z",
     "start_time": "2021-10-11T00:18:06.415320Z"
    }
   },
   "outputs": [],
   "source": [
    "def fillNa(x, value):\n",
    "    if pd.isnull(x):\n",
    "        return value\n",
    "    else:\n",
    "        return x\n",
    "\n",
    "    \n",
    "def preF(test):\n",
    "    test['zhongbifengNew'] = test['midMasterGoal'].astype(\n",
    "        str) + \"_\" + test['midGuestGoal'].astype(str)\n",
    "\n",
    "    test[\"water_type_mid\"] =  test['masterOdd_End_Zhong_3'] + test['guestOdd_End_Zhong_3']\n",
    "    test[\"water_type_mid\"] =  test[\"water_type_mid\"].map(round2)\n",
    "    test[\"water_type_mid\"] =  test[\"water_type_mid\"].astype(str)\n",
    "\n",
    "    test['pankou_Start_Ji_3'] = test.apply(\n",
    "        lambda x: removeSub(x['pankou_Start_Ji_3']), axis=1)\n",
    "    test['pankouOdd_End_Ji_3'] = test.apply(\n",
    "        lambda x: removeSub(x['pankouOdd_End_Ji_3']), axis=1)\n",
    "\n",
    "    test['pankou_Start_Zhong_3'] = test.apply(\n",
    "        lambda x: removeSub(x['pankou_Start_Zhong_3']), axis=1)\n",
    "    test['pankouOdd_End_Zhong_3'] = test.apply(\n",
    "        lambda x: removeSub(x['pankouOdd_End_Zhong_3']), axis=1)\n",
    "\n",
    "    pankou = [\"pankou_Start_Ji_3\",\"pankouOdd_End_Ji_3\"]\n",
    "\n",
    "    for col in pankou:\n",
    "        test[col] = test[col].map(daxiao_num)\n",
    "\n",
    "    pankou = [\"pankouOdd_End_Zhong_3\",\"pankou_Start_Zhong_3\"]\n",
    "\n",
    "    for col in pankou:\n",
    "        nm = col\n",
    "        test[col] = test[col].map(daxiao_num)\n",
    "        test[nm] = test.apply(lambda x: realDaxiao(x[col],x['midGuestGoal'],x['midMasterGoal']), axis=1)\n",
    "\n",
    "    \n",
    "    test['daxiaoTypeStart'] = test.apply(lambda x: getType(\n",
    "        x['masterOdd_Start_Ji_3'], x['guestOdd_Start_Ji_3'], x['pankou_Start_Ji_3']), axis=1)\n",
    "    test['daxiaoType'] = test.apply(lambda x: getType(\n",
    "        x['masterOdd_End_Ji_3'], x['guestOdd_End_Ji_3'], x['pankouOdd_End_Ji_3']), axis=1)\n",
    "    test['daxiaoTypeStartMid'] = test.apply(lambda x: getType(\n",
    "        x['masterOdd_Start_Zhong_3'], x['guestOdd_Start_Zhong_3'], x['pankou_Start_Zhong_3']), axis=1)\n",
    "    test['daxiaoTypeMid'] = test.apply(lambda x: getType(\n",
    "        x['masterOdd_End_Zhong_3'], x['guestOdd_End_Zhong_3'], x['pankouOdd_End_Zhong_3']), axis=1)\n",
    "\n",
    "    test['daxiaoTypeAll'] = test['daxiaoTypeMid'] + test['daxiaoTypeStartMid'] + test['daxiaoType'] + test['daxiaoTypeStart'] + test['lianShai'] + test['zhongbifengNew']\n",
    "    \n",
    "\n",
    "    test = test.drop(['daxiaoTypeStart', 'daxiaoType','daxiaoTypeStartMid'], axis=1)\n",
    "\n",
    "    test = test.drop(columns=['midGuestGoal', 'midMasterGoal'])\n",
    "\n",
    "    return test"
   ]
  },
  {
   "cell_type": "code",
   "execution_count": 90,
   "metadata": {
    "ExecuteTime": {
     "end_time": "2021-10-11T00:18:06.475287Z",
     "start_time": "2021-10-11T00:18:06.446303Z"
    }
   },
   "outputs": [],
   "source": [
    "def getDay(x):\n",
    "    return x[:11] + \"00:00:00\""
   ]
  },
  {
   "cell_type": "code",
   "execution_count": 91,
   "metadata": {
    "ExecuteTime": {
     "end_time": "2021-10-11T00:18:06.585223Z",
     "start_time": "2021-10-11T00:18:06.477287Z"
    }
   },
   "outputs": [
    {
     "name": "stdout",
     "output_type": "stream",
     "text": [
      "17\n",
      "<class 'pandas.core.frame.DataFrame'>\n",
      "Int64Index: 1 entries, 0 to 0\n",
      "Data columns (total 18 columns):\n",
      " #   Column                   Non-Null Count  Dtype  \n",
      "---  ------                   --------------  -----  \n",
      " 0   time                     1 non-null      object \n",
      " 1   lianShai                 1 non-null      object \n",
      " 2   masterOdd_Start_Ji_3     1 non-null      float64\n",
      " 3   pankou_Start_Ji_3        1 non-null      float64\n",
      " 4   guestOdd_Start_Ji_3      1 non-null      float64\n",
      " 5   masterOdd_End_Ji_3       1 non-null      float64\n",
      " 6   pankouOdd_End_Ji_3       1 non-null      float64\n",
      " 7   guestOdd_End_Ji_3        1 non-null      float64\n",
      " 8   masterOdd_Start_Zhong_3  1 non-null      float64\n",
      " 9   pankou_Start_Zhong_3     1 non-null      float64\n",
      " 10  guestOdd_Start_Zhong_3   1 non-null      float64\n",
      " 11  masterOdd_End_Zhong_3    1 non-null      float64\n",
      " 12  pankouOdd_End_Zhong_3    1 non-null      float64\n",
      " 13  guestOdd_End_Zhong_3     1 non-null      float64\n",
      " 14  zhongbifengNew           1 non-null      object \n",
      " 15  water_type_mid           1 non-null      object \n",
      " 16  daxiaoTypeMid            1 non-null      object \n",
      " 17  daxiaoTypeAll            1 non-null      object \n",
      "dtypes: float64(12), object(6)\n",
      "memory usage: 152.0+ bytes\n"
     ]
    }
   ],
   "source": [
    "import pandas as pd\n",
    "dicaA = {'time': '2021-10-10 19:03:38', 'place': '2077933', 'midMasterGoal': '1', 'midGuestGoal': '1', 'lianShai': '西女超', 'masterOdd_Start_Ji_3': 0.7, 'pankou_Start_Ji_3': '3', 'guestOdd_Start_Ji_3': 1.11, 'masterOdd_End_Ji_3': 0.81, 'pankouOdd_End_Ji_3': '3', 'guestOdd_End_Ji_3': 0.99, 'masterOdd_Start_Zhong_3': 0.93, 'pankou_Start_Zhong_3': '3.5/4', 'guestOdd_Start_Zhong_3': 0.87, 'masterOdd_End_Zhong_3': 0.98, 'pankouOdd_End_Zhong_3': '3.5/4', 'guestOdd_End_Zhong_3': 0.82}\n",
    "print(len(dicaA))\n",
    "test_x = pd.DataFrame(dicaA,index = [0])\n",
    "test_x = test_x.dropna()\n",
    "test_x = preF(test_x)\n",
    "test_x['time'] = test_x['time'].map(getDay)\n",
    "test_x = test_x.drop(columns=['place'])\n",
    "test_x.info()"
   ]
  },
  {
   "cell_type": "code",
   "execution_count": 92,
   "metadata": {
    "ExecuteTime": {
     "end_time": "2021-10-11T00:18:08.131340Z",
     "start_time": "2021-10-11T00:18:06.587222Z"
    }
   },
   "outputs": [],
   "source": [
    "train_x = pd.read_csv(r'C:\\Users\\24525\\code\\spider\\train_x.csv')\n",
    "train_x = train_x.drop(columns=['Unnamed: 0'])\n",
    "train_x['water_type_mid'] = train_x['water_type_mid'].astype(str)"
   ]
  },
  {
   "cell_type": "code",
   "execution_count": null,
   "metadata": {
    "ExecuteTime": {
     "end_time": "2021-10-10T14:56:44.576218Z",
     "start_time": "2021-10-10T14:56:44.371327Z"
    }
   },
   "outputs": [],
   "source": []
  },
  {
   "cell_type": "code",
   "execution_count": 93,
   "metadata": {
    "ExecuteTime": {
     "end_time": "2021-10-11T00:18:10.084222Z",
     "start_time": "2021-10-11T00:18:08.133338Z"
    }
   },
   "outputs": [],
   "source": [
    "import gc\n",
    "cat_features = train_x.select_dtypes(include='object').columns\n",
    "def encode_LE(col,train,test):\n",
    "    df_comb = pd.concat([train[col],test[col]],axis=0)\n",
    "    df_comb,_ = df_comb.factorize(sort=True)\n",
    "    nm = col\n",
    "    if df_comb.max()>32000: \n",
    "        train[nm] = df_comb[:len(train)].astype('int32')\n",
    "        test[nm] = df_comb[len(train):].astype('int32')\n",
    "    else:\n",
    "        train[nm] = df_comb[:len(train)].astype('int16')\n",
    "        test[nm] = df_comb[len(train):].astype('int16')\n",
    "    del df_comb; x=gc.collect()\n",
    "\n",
    "for col in cat_features:\n",
    "    encode_LE(col,train_x,test_x)"
   ]
  },
  {
   "cell_type": "code",
   "execution_count": 94,
   "metadata": {
    "ExecuteTime": {
     "end_time": "2021-10-11T00:18:10.099213Z",
     "start_time": "2021-10-11T00:18:10.087220Z"
    }
   },
   "outputs": [
    {
     "data": {
      "text/plain": [
       "Index(['lianShai', 'time', 'zhongbifengNew', 'water_type_mid', 'daxiaoTypeMid',\n",
       "       'daxiaoTypeAll'],\n",
       "      dtype='object')"
      ]
     },
     "execution_count": 94,
     "metadata": {},
     "output_type": "execute_result"
    }
   ],
   "source": [
    "cat_features"
   ]
  },
  {
   "cell_type": "code",
   "execution_count": 95,
   "metadata": {
    "ExecuteTime": {
     "end_time": "2021-10-11T00:18:10.162177Z",
     "start_time": "2021-10-11T00:18:10.101212Z"
    }
   },
   "outputs": [
    {
     "name": "stdout",
     "output_type": "stream",
     "text": [
      "<class 'pandas.core.frame.DataFrame'>\n",
      "RangeIndex: 325666 entries, 0 to 325665\n",
      "Data columns (total 18 columns):\n",
      " #   Column                   Non-Null Count   Dtype  \n",
      "---  ------                   --------------   -----  \n",
      " 0   lianShai                 325666 non-null  int16  \n",
      " 1   time                     325666 non-null  int16  \n",
      " 2   guestOdd_End_Ji_3        325666 non-null  float64\n",
      " 3   guestOdd_Start_Ji_3      325666 non-null  float64\n",
      " 4   masterOdd_End_Ji_3       325666 non-null  float64\n",
      " 5   masterOdd_Start_Ji_3     325666 non-null  float64\n",
      " 6   pankouOdd_End_Ji_3       325666 non-null  float64\n",
      " 7   pankou_Start_Ji_3        325666 non-null  float64\n",
      " 8   guestOdd_End_Zhong_3     325666 non-null  float64\n",
      " 9   guestOdd_Start_Zhong_3   325666 non-null  float64\n",
      " 10  masterOdd_End_Zhong_3    325666 non-null  float64\n",
      " 11  masterOdd_Start_Zhong_3  325666 non-null  float64\n",
      " 12  pankouOdd_End_Zhong_3    325666 non-null  float64\n",
      " 13  pankou_Start_Zhong_3     325666 non-null  float64\n",
      " 14  zhongbifengNew           325666 non-null  int16  \n",
      " 15  water_type_mid           325666 non-null  int16  \n",
      " 16  daxiaoTypeMid            325666 non-null  int16  \n",
      " 17  daxiaoTypeAll            325666 non-null  int32  \n",
      "dtypes: float64(12), int16(5), int32(1)\n",
      "memory usage: 34.2 MB\n"
     ]
    }
   ],
   "source": [
    "train_x.info()"
   ]
  },
  {
   "cell_type": "code",
   "execution_count": 96,
   "metadata": {
    "ExecuteTime": {
     "end_time": "2021-10-11T00:18:10.664888Z",
     "start_time": "2021-10-11T00:18:10.163176Z"
    },
    "scrolled": true
   },
   "outputs": [
    {
     "name": "stdout",
     "output_type": "stream",
     "text": [
      "Starting training... 0\n",
      "Starting training... 1\n",
      "Starting training... 2\n",
      "Starting training... 3\n",
      "Starting training... 4\n",
      "Starting training... 5\n",
      "Starting training... 6\n",
      "Starting training... 7\n",
      "Starting training... 8\n",
      "Starting training... 9\n",
      "Starting training... 10\n",
      "Starting training... 11\n",
      "Starting training... 12\n",
      "Starting training... 13\n",
      "Starting training... 14\n",
      "Starting training... 15\n"
     ]
    }
   ],
   "source": [
    "import lightgbm as lgb\n",
    "\n",
    "y_pred = np.zeros(test_x.shape[0])\n",
    "\n",
    "folds = 16\n",
    "for i in range(folds):\n",
    "    print('Starting training...',i)\n",
    "    # 模型训练\n",
    "    model = 'D:\\\\' + \"model_\" + str(i) + '.txt'\n",
    "    gbm = lgb.Booster(model_file=model)\n",
    "\n",
    "    # 模型预测\n",
    "    y_pred += gbm.predict(test_x, num_iteration=gbm.best_iteration) / folds"
   ]
  },
  {
   "cell_type": "code",
   "execution_count": 97,
   "metadata": {
    "ExecuteTime": {
     "end_time": "2021-10-11T00:18:10.680882Z",
     "start_time": "2021-10-11T00:18:10.666888Z"
    }
   },
   "outputs": [
    {
     "data": {
      "text/plain": [
       "0.5345870396904165"
      ]
     },
     "execution_count": 97,
     "metadata": {},
     "output_type": "execute_result"
    }
   ],
   "source": [
    "y_pred[0]"
   ]
  },
  {
   "cell_type": "code",
   "execution_count": 98,
   "metadata": {
    "ExecuteTime": {
     "end_time": "2021-10-11T00:18:12.397897Z",
     "start_time": "2021-10-11T00:18:10.683878Z"
    }
   },
   "outputs": [],
   "source": [
    "train_x = pd.read_csv(r'C:\\Users\\24525\\code\\spider\\train_x.csv')\n",
    "train_x = train_x.drop(columns=['Unnamed: 0'])\n",
    "train_x['water_type_mid'] = train_x['water_type_mid'].astype(str)\n",
    "\n",
    "\n",
    "def getPer(dictA):\n",
    "    import pandas as pd\n",
    "    test_x = pd.DataFrame(dictA, index=[0])\n",
    "    test_x = test_x.dropna()\n",
    "    test_x = preF(test_x)\n",
    "    test_x['time'] = test_x['time'].map(getDay)\n",
    "    test_x = test_x.drop(columns=['place'])\n",
    "\n",
    "    cat_features = train_x.select_dtypes(include='object').columns\n",
    "    for col in cat_features:\n",
    "        encode_LE(col, train_x, test_x)\n",
    "\n",
    "    import lightgbm as lgb\n",
    "\n",
    "    y_pred = np.zeros(test_x.shape[0])\n",
    "\n",
    "    folds = 16\n",
    "    for i in range(folds):\n",
    "        model = 'D:\\\\' + \"model_\" + str(i) + '.txt'\n",
    "        gbm = lgb.Booster(model_file=model)\n",
    "        y_pred += gbm.predict(test_x, num_iteration=gbm.best_iteration) / folds\n",
    "\n",
    "    return y_pred[0]\n",
    "\n",
    "def getPerOne(dictA):\n",
    "    import pandas as pd\n",
    "    train_x = pd.read_csv(r'C:\\Users\\24525\\code\\spider\\train_x.csv')\n",
    "    train_x = train_x.drop(columns=['Unnamed: 0'])\n",
    "    train_x['water_type_mid'] = train_x['water_type_mid'].astype(str)\n",
    "    test_x = pd.DataFrame(dictA, index=[0])\n",
    "    test_x = test_x.dropna()\n",
    "    test_x = preF(test_x)\n",
    "    test_x['time'] = test_x['time'].map(getDay)\n",
    "    test_x = test_x.drop(columns=['place'])\n",
    "\n",
    "    cat_features = train_x.select_dtypes(include='object').columns\n",
    "    for col in cat_features:\n",
    "        encode_LE(col, train_x, test_x)\n",
    "\n",
    "    import lightgbm as lgb\n",
    "\n",
    "    folds = 16\n",
    "    y_pred = np.zeros(test_x.shape[0])\n",
    "\n",
    "    for i in range(folds):\n",
    "        model = 'C:\\\\Users\\\\24525\\\\code\\\\spider\\\\' + 'model_' + str(i) + \"_singe.txt\"\n",
    "        gbm = lgb.Booster(model_file=model)\n",
    "        y_pred += gbm.predict(test_x, num_iteration=gbm.best_iteration) / folds\n",
    "\n",
    "    return y_pred[0]"
   ]
  },
  {
   "cell_type": "code",
   "execution_count": 99,
   "metadata": {
    "ExecuteTime": {
     "end_time": "2021-10-11T00:18:16.689441Z",
     "start_time": "2021-10-11T00:18:12.400896Z"
    }
   },
   "outputs": [
    {
     "data": {
      "text/plain": [
       "0.7333840764762275"
      ]
     },
     "execution_count": 99,
     "metadata": {},
     "output_type": "execute_result"
    }
   ],
   "source": [
    "getPerOne(dicaA)"
   ]
  },
  {
   "cell_type": "code",
   "execution_count": null,
   "metadata": {
    "ExecuteTime": {
     "end_time": "2021-10-10T15:27:09.640181Z",
     "start_time": "2021-10-10T15:27:09.573220Z"
    }
   },
   "outputs": [],
   "source": []
  },
  {
   "cell_type": "code",
   "execution_count": null,
   "metadata": {},
   "outputs": [],
   "source": []
  }
 ],
 "metadata": {
  "kernelspec": {
   "display_name": "Python 3",
   "language": "python",
   "name": "python3"
  },
  "language_info": {
   "codemirror_mode": {
    "name": "ipython",
    "version": 3
   },
   "file_extension": ".py",
   "mimetype": "text/x-python",
   "name": "python",
   "nbconvert_exporter": "python",
   "pygments_lexer": "ipython3",
   "version": "3.8.5"
  },
  "toc": {
   "base_numbering": 1,
   "nav_menu": {},
   "number_sections": true,
   "sideBar": true,
   "skip_h1_title": false,
   "title_cell": "Table of Contents",
   "title_sidebar": "Contents",
   "toc_cell": false,
   "toc_position": {},
   "toc_section_display": true,
   "toc_window_display": false
  }
 },
 "nbformat": 4,
 "nbformat_minor": 4
}
