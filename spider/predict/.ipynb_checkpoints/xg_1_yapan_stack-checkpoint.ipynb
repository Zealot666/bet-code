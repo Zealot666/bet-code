{
 "cells": [
  {
   "cell_type": "code",
   "execution_count": 1,
   "metadata": {
    "ExecuteTime": {
     "end_time": "2021-11-17T12:38:08.084528Z",
     "start_time": "2021-11-17T12:38:06.873480Z"
    },
    "colab": {
     "base_uri": "https://localhost:8080/"
    },
    "id": "sweheA5JE1Um",
    "outputId": "3338da98-f3f9-414b-92c8-aa1c3070a18c"
   },
   "outputs": [],
   "source": [
    "import json\n",
    "import pandas as pd\n",
    "\n",
    "import pymongo\n",
    "import matplotlib as mpl\n",
    "import numpy as np\n",
    "import matplotlib.pyplot as plt"
   ]
  },
  {
   "cell_type": "code",
   "execution_count": 2,
   "metadata": {
    "ExecuteTime": {
     "end_time": "2021-11-17T12:38:08.100506Z",
     "start_time": "2021-11-17T12:38:08.087513Z"
    },
    "id": "dQ2cjdK9EdIH"
   },
   "outputs": [],
   "source": [
    "def reduce_mem_usage(df):\n",
    "    \"\"\" iterate through all the columns of a dataframe and modify the data type\n",
    "        to reduce memory usage.        \n",
    "    \"\"\"\n",
    "    start_mem = df.memory_usage().sum() / 1024**2\n",
    "    print('Memory usage of dataframe is {:.2f} MB'.format(start_mem))\n",
    "\n",
    "    for col in df.columns:\n",
    "        col_type = df[col].dtype\n",
    "        if col_type != object:\n",
    "            c_min = df[col].min()\n",
    "            c_max = df[col].max()\n",
    "            if str(col_type)[:3] == 'int':\n",
    "                if c_min > np.iinfo(np.int8).min and c_max < np.iinfo(np.int8).max:\n",
    "                    df[col] = df[col].astype(np.int8)\n",
    "                elif c_min > np.iinfo(np.int16).min and c_max < np.iinfo(np.int16).max:\n",
    "                    df[col] = df[col].astype(np.int16)\n",
    "                elif c_min > np.iinfo(np.int32).min and c_max < np.iinfo(np.int32).max:\n",
    "                    df[col] = df[col].astype(np.int32)\n",
    "                elif c_min > np.iinfo(np.int64).min and c_max < np.iinfo(np.int64).max:\n",
    "                    df[col] = df[col].astype(np.int64)\n",
    "            else:\n",
    "                df[col] = df[col].astype(np.float32)\n",
    "\n",
    "    end_mem = df.memory_usage().sum() / 1024**2\n",
    "    print('Memory usage after optimization is: {:.2f} MB'.format(end_mem))\n",
    "    print('Decreased by {:.1f}%'.format(\n",
    "        100 * (start_mem - end_mem) / start_mem))\n",
    "\n",
    "    return df"
   ]
  },
  {
   "cell_type": "code",
   "execution_count": 3,
   "metadata": {
    "ExecuteTime": {
     "end_time": "2021-11-17T12:38:08.131953Z",
     "start_time": "2021-11-17T12:38:08.105502Z"
    },
    "id": "EQ6sA0qwEdIJ"
   },
   "outputs": [],
   "source": [
    "def getGoalMid(masterGoal, guestGoal, masterMidGoal, guestMidGoal):\n",
    "    return int(masterGoal) + int(guestGoal) - int(masterMidGoal) - int(guestMidGoal)\n",
    "\n",
    "\n",
    "def removeSub(pankou):\n",
    "    pankou = pankou.replace(\"升\", \"\")\n",
    "    pankou = pankou.replace(\"降\", \"\")\n",
    "    return pankou.strip()\n",
    "\n",
    "\n",
    "def getResultOne(pankou):\n",
    "    row = 1\n",
    "    if pankou - row >= 0:\n",
    "        return 1\n",
    "    if pankou - row < 0:\n",
    "        return 0\n",
    "    \n",
    "def getType(yapanMasterStartOdd, yapanGuestStartOdd, yapanPankouStart):\n",
    "    linTypeStart = get18(yapanMasterStartOdd, yapanGuestStartOdd)\n",
    "    return str(linTypeStart) + \"_\" + str(yapanPankouStart)\n",
    "\n",
    "\n",
    "def get18(master, guest):\n",
    "    if master > guest:\n",
    "        return 18\n",
    "    if master < guest:\n",
    "        return 81\n",
    "    if master == guest:\n",
    "        return 99\n",
    "\n",
    "\n",
    "def daxiao_num(x):\n",
    "    x_list = x.split(\"/\")\n",
    "    num = 0\n",
    "    for i in x_list:\n",
    "        num += float(i)\n",
    "    return (float(num)/len(x_list))\n",
    "\n",
    "\n",
    "def realDaxiao(x, master, guest):\n",
    "    return float(x) - int(master) - int(guest)\n",
    "\n",
    "\n",
    "def shengjiang(start, end):\n",
    "    return ((end) - (start))\n",
    "\n",
    "def round2(x):\n",
    "    return round((x), 2)"
   ]
  },
  {
   "cell_type": "code",
   "execution_count": 4,
   "metadata": {
    "ExecuteTime": {
     "end_time": "2021-11-17T12:38:08.163617Z",
     "start_time": "2021-11-17T12:38:08.134966Z"
    }
   },
   "outputs": [],
   "source": [
    "def getShuiPing(x):\n",
    "    result = 11\n",
    "    if x < 0.75:\n",
    "        result = 0\n",
    "    if 0.75<= x and x<=0.85:\n",
    "        result = 1\n",
    "    if 0.85<x and x<=0.90:\n",
    "        result = 2\n",
    "    if 0.90<x and x<=0.95:\n",
    "        result = 3\n",
    "    if 0.95<x and x<=1.00:\n",
    "        result = 4\n",
    "    if 1.00<x and x<=1.08:\n",
    "        result = 5\n",
    "    if 1.08<x:\n",
    "        result = 6\n",
    "    return result\n",
    "\n",
    "def num_fea_dis(df,features):\n",
    "    for f in features:\n",
    "        nm = f+'_'+'shuiPing'\n",
    "        df[nm] = df[f].map(getShuiPing)\n",
    "    return df"
   ]
  },
  {
   "cell_type": "code",
   "execution_count": 5,
   "metadata": {
    "ExecuteTime": {
     "end_time": "2021-11-17T12:38:08.210558Z",
     "start_time": "2021-11-17T12:38:08.167602Z"
    },
    "id": "z5MN0RQYEdIK"
   },
   "outputs": [],
   "source": [
    "def fillNa(x, value):\n",
    "    if pd.isnull(x):\n",
    "        return value\n",
    "    else:\n",
    "        return x\n",
    "\n",
    "    \n",
    "def preF(test):\n",
    "    test['goalMid'] = test.apply(lambda x: getGoalMid(\n",
    "        x['masterGoal'], x['guestGoal'], x['midGuestGoal'], x['midMasterGoal']), axis=1)\n",
    "    \n",
    "    test = test[test['goalMid'] >= 0]\n",
    "\n",
    "    test['result'] = test['goalMid'].map(getResultOne)\n",
    "    \n",
    "    test['zhongbifengNew'] = test['midMasterGoal'].astype(\n",
    "        str) + \"_\" + test['midGuestGoal'].astype(str)\n",
    "\n",
    "    test[\"water_type_mid\"] =  test['masterOdd_End_Zhong_3'] + test['guestOdd_End_Zhong_3']\n",
    "    test[\"water_type_mid\"] =  test[\"water_type_mid\"].map(round2)\n",
    "    test[\"water_type_mid\"] =  test[\"water_type_mid\"].astype(str)\n",
    "\n",
    "    test['pankou_Start_Ji_3'] = test.apply(\n",
    "        lambda x: removeSub(x['pankou_Start_Ji_3']), axis=1)\n",
    "    test['pankouOdd_End_Ji_3'] = test.apply(\n",
    "        lambda x: removeSub(x['pankouOdd_End_Ji_3']), axis=1)\n",
    "\n",
    "    test['pankou_Start_Zhong_3'] = test.apply(\n",
    "        lambda x: removeSub(x['pankou_Start_Zhong_3']), axis=1)\n",
    "    test['pankouOdd_End_Zhong_3'] = test.apply(\n",
    "        lambda x: removeSub(x['pankouOdd_End_Zhong_3']), axis=1)\n",
    "\n",
    "    pankou = [\"pankou_Start_Ji_3\",\"pankouOdd_End_Ji_3\"]\n",
    "\n",
    "    for col in pankou:\n",
    "#         test[col] = test[col].map(daxiao_num)\n",
    "        test[col] = test[col].astype(str)\n",
    "\n",
    "    pankou = [\"pankouOdd_End_Zhong_3\",\"pankou_Start_Zhong_3\"]\n",
    "\n",
    "    for col in pankou:\n",
    "#         nm = col\n",
    "#         test[col] = test[col].map(daxiao_num)\n",
    "#         test[nm] = test.apply(lambda x: realDaxiao(x[col],x['midGuestGoal'],x['midMasterGoal']), axis=1)\n",
    "        test[col] = test[col].astype(str)\n",
    "\n",
    "\n",
    "    \n",
    "    fes = ['masterOdd_Start_Ji_3', 'masterOdd_End_Ji_3',\n",
    "           'masterOdd_Start_Zhong_3', 'masterOdd_End_Zhong_3']\n",
    "    \n",
    "    num_fea_dis(test, fes)\n",
    "\n",
    "    test['daxiaoTypeStart'] = test['masterOdd_Start_Ji_3_shuiPing'].astype(str) + test['pankou_Start_Ji_3'].astype(str)\n",
    "    test['daxiaoType'] = test['masterOdd_End_Ji_3_shuiPing'].astype(str) + test['pankouOdd_End_Ji_3'].astype(str)\n",
    "    test['daxiaoTypeStartMid'] = test['masterOdd_Start_Zhong_3_shuiPing'].astype(str) + test['pankou_Start_Zhong_3'].astype(str)\n",
    "    test['daxiaoTypeMid'] = test['masterOdd_End_Zhong_3_shuiPing'].astype(str) + test['pankouOdd_End_Zhong_3'].astype(str)\n",
    "    \n",
    "\n",
    "#     test['daxiaoTypeAll'] = test['daxiaoTypeMid'] + test['daxiaoTypeStartMid'] + test['daxiaoType'] + test['daxiaoTypeStart'] + test['lianShai'] + test['zhongbifengNew']\n",
    "\n",
    "#     test['daxiaoTypeMidAll'] = test['daxiaoTypeMid'] + test['daxiaoTypeStartMid'] + test['lianShai'] + test['zhongbifengNew']\n",
    "    \n",
    "    test = test.drop(['masterOdd_Start_Ji_3_shuiPing', 'masterOdd_End_Ji_3_shuiPing',\n",
    "                      'masterOdd_Start_Zhong_3_shuiPing','masterOdd_End_Zhong_3_shuiPing'], axis=1)\n",
    "    \n",
    "\n",
    "#     test = test.drop(['daxiaoTypeStart', 'daxiaoType','daxiaoTypeStartMid'], axis=1)\n",
    "\n",
    "\n",
    "    test = test.drop(columns=['masterGoal', 'guestGoal', \"goalMid\"])\n",
    "    test = test.drop(columns=['midGuestGoal', 'midMasterGoal'])\n",
    "\n",
    "    return test"
   ]
  },
  {
   "cell_type": "code",
   "execution_count": 6,
   "metadata": {
    "ExecuteTime": {
     "end_time": "2021-11-17T12:38:08.242582Z",
     "start_time": "2021-11-17T12:38:08.215558Z"
    }
   },
   "outputs": [],
   "source": [
    "def fillNa(x, value):\n",
    "    if pd.isnull(x):\n",
    "        return value\n",
    "    else:\n",
    "        return x\n",
    "\n",
    "    \n",
    "def preF(test,typeA):\n",
    "    test['goalMid'] = test.apply(lambda x: getGoalMid(\n",
    "        x['masterGoal'], x['guestGoal'], x['midGuestGoal'], x['midMasterGoal']), axis=1)\n",
    "    \n",
    "    test = test[test['goalMid'] >= 0]\n",
    "    \n",
    "    test['result'] = test['goalMid'].map(getResultOne)\n",
    "\n",
    "    test['zhongbifengNew'] = test['midMasterGoal'].astype(\n",
    "        str) + \"_\" + test['midGuestGoal'].astype(str)\n",
    "\n",
    "    test[\"water_type_mid\"] =  test['masterOdd_End_Zhong_3'] + test['guestOdd_End_Zhong_3']\n",
    "    test[\"water_type_mid\"] =  test[\"water_type_mid\"].map(round2)\n",
    "    test[\"water_type_mid\"] =  test[\"water_type_mid\"].astype(str)\n",
    "\n",
    "    test['pankou_Start_Ji_3'] = test.apply(\n",
    "        lambda x: removeSub(x['pankou_Start_Ji_3']), axis=1)\n",
    "    test['pankouOdd_End_Ji_3'] = test.apply(\n",
    "        lambda x: removeSub(x['pankouOdd_End_Ji_3']), axis=1)\n",
    "\n",
    "    test['pankou_Start_Zhong_3'] = test.apply(\n",
    "        lambda x: removeSub(x['pankou_Start_Zhong_3']), axis=1)\n",
    "    test['pankouOdd_End_Zhong_3'] = test.apply(\n",
    "        lambda x: removeSub(x['pankouOdd_End_Zhong_3']), axis=1)\n",
    "\n",
    "    pankou = [\"pankou_Start_Ji_3\",\"pankouOdd_End_Ji_3\"]\n",
    "    if (typeA != \"yapan\"):\n",
    "        for col in pankou:\n",
    "            test[col] = test[col].map(daxiao_num)\n",
    "            test[col] = test[col].astype(str)\n",
    "        \n",
    "    pankou = [\"pankouOdd_End_Zhong_3\",\"pankou_Start_Zhong_3\"]\n",
    "    \n",
    "    if (typeA != \"yapan\"):\n",
    "        for col in pankou:\n",
    "            test[col] = test[col].map(daxiao_num)\n",
    "            nm = col + \"Real\"\n",
    "            test[nm] = test.apply(lambda x: realDaxiao(x[col],x['midGuestGoal'],x['midMasterGoal']), axis=1)\n",
    "            test[nm] = test[nm].astype(str)\n",
    "\n",
    "    \n",
    "    fes = ['masterOdd_Start_Ji_3', 'masterOdd_End_Ji_3',\n",
    "           'masterOdd_Start_Zhong_3', 'masterOdd_End_Zhong_3']\n",
    "    \n",
    "    num_fea_dis(test, fes)\n",
    "    \n",
    "    test['daxiaoTypeStart'] = test['masterOdd_Start_Ji_3_shuiPing'].astype(str) + test['pankou_Start_Ji_3'] + test['zhongbifengNew']\n",
    "    test['daxiaoType'] = test['masterOdd_End_Ji_3_shuiPing'].astype(str) + test['pankouOdd_End_Ji_3'] + test['zhongbifengNew']\n",
    "    \n",
    "    if (typeA != \"yapan\"):\n",
    "        test['daxiaoTypeStartMid'] = test['masterOdd_Start_Zhong_3_shuiPing'].astype(str) + test['pankou_Start_Zhong_3Real'] + test['zhongbifengNew']\n",
    "        test['daxiaoTypeMid'] = test['masterOdd_End_Zhong_3_shuiPing'].astype(str) + test['pankouOdd_End_Zhong_3Real'] + test['zhongbifengNew']\n",
    "    else:\n",
    "        test['daxiaoTypeStartMid'] = test['masterOdd_Start_Zhong_3_shuiPing'].astype(str) + test['pankou_Start_Zhong_3'] + test['zhongbifengNew']\n",
    "        test['daxiaoTypeMid'] = test['masterOdd_End_Zhong_3_shuiPing'].astype(str) + test['pankouOdd_End_Zhong_3'] + test['zhongbifengNew']\n",
    "    \n",
    "#     test['daxiaoTypeStart'] = test.apply(lambda x: getType(\n",
    "#         x['masterOdd_Start_Ji_3'], x['guestOdd_Start_Ji_3'], x['pankou_Start_Ji_3']), axis=1)\n",
    "#     test['daxiaoType'] = test.apply(lambda x: getType(\n",
    "#         x['masterOdd_End_Ji_3'], x['guestOdd_End_Ji_3'], x['pankouOdd_End_Ji_3']), axis=1)\n",
    "#     test['daxiaoTypeStartMid'] = test.apply(lambda x: getType(\n",
    "#         x['masterOdd_Start_Zhong_3'], x['guestOdd_Start_Zhong_3'], x['pankou_Start_Zhong_3']), axis=1)\n",
    "#     test['daxiaoTypeMid'] = test.apply(lambda x: getType(\n",
    "#         x['masterOdd_End_Zhong_3'], x['guestOdd_End_Zhong_3'], x['pankouOdd_End_Zhong_3']), axis=1)\n",
    "\n",
    "#     test['daxiaoTypeAll'] = test['pankouOdd_End_Ji_3']  + test['pankouOdd_End_Zhong_3'] + test['lianShai'] + test['zhongbifengNew']\n",
    "    \n",
    "#     test['daxiaoTypeMidAll'] = test['daxiaoTypeMid'] + test['daxiaoType'] + test['lianShai'] + test['zhongbifengNew']\n",
    "\n",
    "    test = test.drop(['masterOdd_Start_Ji_3_shuiPing', 'masterOdd_End_Ji_3_shuiPing',\n",
    "                      'masterOdd_Start_Zhong_3_shuiPing','masterOdd_End_Zhong_3_shuiPing'], axis=1)\n",
    "    \n",
    "\n",
    "#     test = test.drop(['daxiaoTypeStart', 'daxiaoType','daxiaoTypeStartMid'], axis=1)\n",
    "\n",
    "\n",
    "#     test['MasterOddFlowMid'+] = test[\"daxiaoMasterOddMid\"] - test[\"daxiaoMasterStartOddMid\"]\n",
    "#     test['MasterOddFlow'] = test[\"daxiaoMasterOdd\"] - test[\"daxiaoMasterStartOdd\"]\n",
    "\n",
    "#     test = test[(test['daxiaoMasterStartOdd'] >= 0.75) & (test['daxiaoMasterStartOdd'] < 1.20)]\n",
    "#     test = test[(test['daxiaoMasterOdd'] >= 0.75) & (test['daxiaoMasterOdd'] < 1.20)]\n",
    "#     test = test[(test['daxiaoGuestOddMid'] >= 0.75) & (test['daxiaoGuestOddMid'] < 1.20)]\n",
    "#     test = test[test['daxiaoPankouMid'].astype(float) <= test['daxiaoPankou'].astype(float)]\n",
    "#     test = test[(test[\"daxiaoPankouMidReal\"].astype(float)<=2) & (test[\"daxiaoPankouMidReal\"].astype(float)>=1)]\n",
    "\n",
    "    test = test.drop(columns=['masterGoal', 'guestGoal', \"goalMid\"])\n",
    "    test = test.drop(columns=['midGuestGoal', 'midMasterGoal'])\n",
    "\n",
    "    return test"
   ]
  },
  {
   "cell_type": "code",
   "execution_count": 7,
   "metadata": {
    "ExecuteTime": {
     "end_time": "2021-11-17T12:38:08.274615Z",
     "start_time": "2021-11-17T12:38:08.244541Z"
    },
    "id": "vN7FAlDIEdIO"
   },
   "outputs": [],
   "source": [
    "def getShuiPing(x):\n",
    "    result = 11\n",
    "    if x < 0.75:\n",
    "        result = 0\n",
    "    if 0.75<= x and x<=0.85:\n",
    "        result = 1\n",
    "    if 0.85<x and x<=0.90:\n",
    "        result = 2\n",
    "    if 0.90<x and x<=0.95:\n",
    "        result = 3\n",
    "    if 0.95<x and x<=1.00:\n",
    "        result = 4\n",
    "    if 1.00<x and x<=1.08:\n",
    "        result = 5\n",
    "    if 1.08<x:\n",
    "        result = 6\n",
    "    return result\n",
    "\n",
    "def num_fea_dis(df,features):\n",
    "    for f in features:\n",
    "        nm = f+'_'+'shuiPing'\n",
    "        df[nm] = df[f].map(getShuiPing)\n",
    "    return df"
   ]
  },
  {
   "cell_type": "code",
   "execution_count": 8,
   "metadata": {
    "ExecuteTime": {
     "end_time": "2021-11-17T12:38:08.306430Z",
     "start_time": "2021-11-17T12:38:08.276588Z"
    }
   },
   "outputs": [],
   "source": [
    "def getDay(x):\n",
    "    return x[:11] + \"00:00:00\""
   ]
  },
  {
   "cell_type": "code",
   "execution_count": 9,
   "metadata": {
    "ExecuteTime": {
     "end_time": "2021-11-17T12:38:36.330392Z",
     "start_time": "2021-11-17T12:38:08.308429Z"
    },
    "id": "2m0feaeSEdIQ"
   },
   "outputs": [
    {
     "name": "stdout",
     "output_type": "stream",
     "text": [
      "Memory usage of dataframe is 36.88 MB\n",
      "Memory usage after optimization is: 25.72 MB\n",
      "Decreased by 30.3%\n",
      "<class 'pandas.core.frame.DataFrame'>\n",
      "Int64Index: 254420 entries, 0 to 254419\n",
      "Data columns (total 21 columns):\n",
      " #   Column                   Non-Null Count   Dtype  \n",
      "---  ------                   --------------   -----  \n",
      " 0   lianShai                 254420 non-null  object \n",
      " 1   place                    254420 non-null  object \n",
      " 2   guestOdd_End_Ji_3        254420 non-null  float32\n",
      " 3   guestOdd_End_Zhong_3     254420 non-null  float32\n",
      " 4   guestOdd_Start_Ji_3      254420 non-null  float32\n",
      " 5   guestOdd_Start_Zhong_3   254420 non-null  float32\n",
      " 6   masterOdd_End_Ji_3       254420 non-null  float32\n",
      " 7   masterOdd_End_Zhong_3    254420 non-null  float32\n",
      " 8   masterOdd_Start_Ji_3     254420 non-null  float32\n",
      " 9   masterOdd_Start_Zhong_3  254420 non-null  float32\n",
      " 10  pankouOdd_End_Ji_3       254420 non-null  object \n",
      " 11  pankouOdd_End_Zhong_3    254420 non-null  object \n",
      " 12  pankou_Start_Ji_3        254420 non-null  object \n",
      " 13  pankou_Start_Zhong_3     254420 non-null  object \n",
      " 14  result                   254420 non-null  int64  \n",
      " 15  zhongbifengNew           254420 non-null  object \n",
      " 16  water_type_mid           254420 non-null  object \n",
      " 17  daxiaoTypeStart          254420 non-null  object \n",
      " 18  daxiaoType               254420 non-null  object \n",
      " 19  daxiaoTypeStartMid       254420 non-null  object \n",
      " 20  daxiaoTypeMid            254420 non-null  object \n",
      "dtypes: float32(8), int64(1), object(12)\n",
      "memory usage: 34.9+ MB\n"
     ]
    }
   ],
   "source": [
    "myclient = pymongo.MongoClient(\"mongodb://localhost:27017/\")\n",
    "mydb = myclient[\"soccerData\"]\n",
    "mycol = mydb[\"win007yapanv3\"]\n",
    "data_mid = pd.DataFrame(list(mycol.find()))\n",
    "data_mid = data_mid.drop(['_id','time'], axis=1)\n",
    "data_mid = data_mid.dropna()\n",
    "data_mid = reduce_mem_usage(data_mid)\n",
    "data_mid = preF(data_mid,\"yapan\")\n",
    "data_mid.info()"
   ]
  },
  {
   "cell_type": "code",
   "execution_count": 10,
   "metadata": {
    "ExecuteTime": {
     "end_time": "2021-11-17T12:38:36.345383Z",
     "start_time": "2021-11-17T12:38:36.335389Z"
    }
   },
   "outputs": [],
   "source": [
    "pd.set_option('display.max_columns', None)"
   ]
  },
  {
   "cell_type": "code",
   "execution_count": 11,
   "metadata": {
    "ExecuteTime": {
     "end_time": "2021-11-17T12:39:31.565238Z",
     "start_time": "2021-11-17T12:38:36.349381Z"
    }
   },
   "outputs": [
    {
     "name": "stdout",
     "output_type": "stream",
     "text": [
      "Memory usage of dataframe is 50.58 MB\n",
      "Memory usage after optimization is: 35.27 MB\n",
      "Decreased by 30.3%\n",
      "<class 'pandas.core.frame.DataFrame'>\n",
      "Int64Index: 348917 entries, 0 to 348916\n",
      "Data columns (total 20 columns):\n",
      " #   Column                     Non-Null Count   Dtype  \n",
      "---  ------                     --------------   -----  \n",
      " 0   place                      348917 non-null  object \n",
      " 1   guestOdd_End_Ji_3          348917 non-null  float32\n",
      " 2   guestOdd_End_Zhong_3       348917 non-null  float32\n",
      " 3   guestOdd_Start_Ji_3        348917 non-null  float32\n",
      " 4   guestOdd_Start_Zhong_3     348917 non-null  float32\n",
      " 5   masterOdd_End_Ji_3         348917 non-null  float32\n",
      " 6   masterOdd_End_Zhong_3      348917 non-null  float32\n",
      " 7   masterOdd_Start_Ji_3       348917 non-null  float32\n",
      " 8   masterOdd_Start_Zhong_3    348917 non-null  float32\n",
      " 9   pankouOdd_End_Ji_3         348917 non-null  object \n",
      " 10  pankouOdd_End_Zhong_3      348917 non-null  float64\n",
      " 11  pankou_Start_Ji_3          348917 non-null  object \n",
      " 12  pankou_Start_Zhong_3       348917 non-null  float64\n",
      " 13  water_type_mid             348917 non-null  object \n",
      " 14  pankouOdd_End_Zhong_3Real  348917 non-null  object \n",
      " 15  pankou_Start_Zhong_3Real   348917 non-null  object \n",
      " 16  daxiaoTypeStart            348917 non-null  object \n",
      " 17  daxiaoType                 348917 non-null  object \n",
      " 18  daxiaoTypeStartMid         348917 non-null  object \n",
      " 19  daxiaoTypeMid              348917 non-null  object \n",
      "dtypes: float32(8), float64(2), object(10)\n",
      "memory usage: 45.3+ MB\n"
     ]
    }
   ],
   "source": [
    "myclient = pymongo.MongoClient(\"mongodb://localhost:27017/\")\n",
    "mydb = myclient[\"soccerData\"]\n",
    "mycol = mydb[\"midDaxiao007v3\"]\n",
    "data_da = pd.DataFrame(list(mycol.find()))\n",
    "data_da = data_da.drop(['_id','time'], axis=1)\n",
    "data_da = data_da.dropna()\n",
    "data_da = reduce_mem_usage(data_da)\n",
    "data_da = preF(data_da,\"daxiao\")\n",
    "data_da = data_da.drop(['result','lianShai','zhongbifengNew'], axis=1)\n",
    "data_da.info()"
   ]
  },
  {
   "cell_type": "code",
   "execution_count": 12,
   "metadata": {
    "ExecuteTime": {
     "end_time": "2021-11-17T12:39:35.747321Z",
     "start_time": "2021-11-17T12:39:31.567237Z"
    }
   },
   "outputs": [],
   "source": [
    "result = pd.merge(data_mid, data_da, how='left', on=['place'])\n",
    "result = result.dropna()\n",
    "result = result.drop(['place'], axis=1)"
   ]
  },
  {
   "cell_type": "code",
   "execution_count": 13,
   "metadata": {
    "ExecuteTime": {
     "end_time": "2021-11-17T12:39:35.763316Z",
     "start_time": "2021-11-17T12:39:35.750320Z"
    }
   },
   "outputs": [],
   "source": [
    "train = result"
   ]
  },
  {
   "cell_type": "code",
   "execution_count": 14,
   "metadata": {
    "ExecuteTime": {
     "end_time": "2021-11-17T12:39:42.935978Z",
     "start_time": "2021-11-17T12:39:35.767310Z"
    }
   },
   "outputs": [],
   "source": [
    "train.to_csv(\"train_2.txt\")"
   ]
  },
  {
   "cell_type": "code",
   "execution_count": 15,
   "metadata": {
    "ExecuteTime": {
     "end_time": "2021-11-17T12:39:44.935048Z",
     "start_time": "2021-11-17T12:39:42.937977Z"
    }
   },
   "outputs": [],
   "source": [
    "train2 = pd.read_csv(\"train_2.txt\")"
   ]
  },
  {
   "cell_type": "code",
   "execution_count": 16,
   "metadata": {
    "ExecuteTime": {
     "end_time": "2021-11-17T12:39:45.137362Z",
     "start_time": "2021-11-17T12:39:44.937047Z"
    }
   },
   "outputs": [
    {
     "name": "stdout",
     "output_type": "stream",
     "text": [
      "<class 'pandas.core.frame.DataFrame'>\n",
      "RangeIndex: 222521 entries, 0 to 222520\n",
      "Data columns (total 40 columns):\n",
      " #   Column                     Non-Null Count   Dtype  \n",
      "---  ------                     --------------   -----  \n",
      " 0   Unnamed: 0                 222521 non-null  int64  \n",
      " 1   lianShai                   222521 non-null  object \n",
      " 2   guestOdd_End_Ji_3_x        222521 non-null  float64\n",
      " 3   guestOdd_End_Zhong_3_x     222521 non-null  float64\n",
      " 4   guestOdd_Start_Ji_3_x      222521 non-null  float64\n",
      " 5   guestOdd_Start_Zhong_3_x   222521 non-null  float64\n",
      " 6   masterOdd_End_Ji_3_x       222521 non-null  float64\n",
      " 7   masterOdd_End_Zhong_3_x    222521 non-null  float64\n",
      " 8   masterOdd_Start_Ji_3_x     222521 non-null  float64\n",
      " 9   masterOdd_Start_Zhong_3_x  222521 non-null  float64\n",
      " 10  pankouOdd_End_Ji_3_x       222521 non-null  object \n",
      " 11  pankouOdd_End_Zhong_3_x    222521 non-null  object \n",
      " 12  pankou_Start_Ji_3_x        222521 non-null  object \n",
      " 13  pankou_Start_Zhong_3_x     222521 non-null  object \n",
      " 14  result                     222521 non-null  int64  \n",
      " 15  zhongbifengNew             222521 non-null  object \n",
      " 16  water_type_mid_x           222521 non-null  float64\n",
      " 17  daxiaoTypeStart_x          222521 non-null  object \n",
      " 18  daxiaoType_x               222521 non-null  object \n",
      " 19  daxiaoTypeStartMid_x       222521 non-null  object \n",
      " 20  daxiaoTypeMid_x            222521 non-null  object \n",
      " 21  guestOdd_End_Ji_3_y        222521 non-null  float64\n",
      " 22  guestOdd_End_Zhong_3_y     222521 non-null  float64\n",
      " 23  guestOdd_Start_Ji_3_y      222521 non-null  float64\n",
      " 24  guestOdd_Start_Zhong_3_y   222521 non-null  float64\n",
      " 25  masterOdd_End_Ji_3_y       222521 non-null  float64\n",
      " 26  masterOdd_End_Zhong_3_y    222521 non-null  float64\n",
      " 27  masterOdd_Start_Ji_3_y     222521 non-null  float64\n",
      " 28  masterOdd_Start_Zhong_3_y  222521 non-null  float64\n",
      " 29  pankouOdd_End_Ji_3_y       222521 non-null  float64\n",
      " 30  pankouOdd_End_Zhong_3_y    222521 non-null  float64\n",
      " 31  pankou_Start_Ji_3_y        222521 non-null  float64\n",
      " 32  pankou_Start_Zhong_3_y     222521 non-null  float64\n",
      " 33  water_type_mid_y           222521 non-null  float64\n",
      " 34  pankouOdd_End_Zhong_3Real  222521 non-null  float64\n",
      " 35  pankou_Start_Zhong_3Real   222521 non-null  float64\n",
      " 36  daxiaoTypeStart_y          222521 non-null  object \n",
      " 37  daxiaoType_y               222521 non-null  object \n",
      " 38  daxiaoTypeStartMid_y       222521 non-null  object \n",
      " 39  daxiaoTypeMid_y            222521 non-null  object \n",
      "dtypes: float64(24), int64(2), object(14)\n",
      "memory usage: 67.9+ MB\n"
     ]
    }
   ],
   "source": [
    "train2.info()"
   ]
  },
  {
   "cell_type": "code",
   "execution_count": 17,
   "metadata": {
    "ExecuteTime": {
     "end_time": "2021-11-17T12:39:45.169344Z",
     "start_time": "2021-11-17T12:39:45.139361Z"
    }
   },
   "outputs": [
    {
     "data": {
      "text/plain": [
       "1    176448\n",
       "0     46073\n",
       "Name: result, dtype: int64"
      ]
     },
     "execution_count": 17,
     "metadata": {},
     "output_type": "execute_result"
    }
   ],
   "source": [
    "train2['result'].value_counts()"
   ]
  },
  {
   "cell_type": "code",
   "execution_count": 18,
   "metadata": {
    "ExecuteTime": {
     "end_time": "2021-11-17T12:39:45.747032Z",
     "start_time": "2021-11-17T12:39:45.171343Z"
    }
   },
   "outputs": [
    {
     "name": "stdout",
     "output_type": "stream",
     "text": [
      "<class 'pandas.core.frame.DataFrame'>\n",
      "Int64Index: 222521 entries, 0 to 254428\n",
      "Data columns (total 39 columns):\n",
      " #   Column                     Non-Null Count   Dtype  \n",
      "---  ------                     --------------   -----  \n",
      " 0   lianShai                   222521 non-null  object \n",
      " 1   guestOdd_End_Ji_3_x        222521 non-null  float32\n",
      " 2   guestOdd_End_Zhong_3_x     222521 non-null  float32\n",
      " 3   guestOdd_Start_Ji_3_x      222521 non-null  float32\n",
      " 4   guestOdd_Start_Zhong_3_x   222521 non-null  float32\n",
      " 5   masterOdd_End_Ji_3_x       222521 non-null  float32\n",
      " 6   masterOdd_End_Zhong_3_x    222521 non-null  float32\n",
      " 7   masterOdd_Start_Ji_3_x     222521 non-null  float32\n",
      " 8   masterOdd_Start_Zhong_3_x  222521 non-null  float32\n",
      " 9   pankouOdd_End_Ji_3_x       222521 non-null  object \n",
      " 10  pankouOdd_End_Zhong_3_x    222521 non-null  object \n",
      " 11  pankou_Start_Ji_3_x        222521 non-null  object \n",
      " 12  pankou_Start_Zhong_3_x     222521 non-null  object \n",
      " 13  result                     222521 non-null  int64  \n",
      " 14  zhongbifengNew             222521 non-null  object \n",
      " 15  water_type_mid_x           222521 non-null  object \n",
      " 16  daxiaoTypeStart_x          222521 non-null  object \n",
      " 17  daxiaoType_x               222521 non-null  object \n",
      " 18  daxiaoTypeStartMid_x       222521 non-null  object \n",
      " 19  daxiaoTypeMid_x            222521 non-null  object \n",
      " 20  guestOdd_End_Ji_3_y        222521 non-null  float32\n",
      " 21  guestOdd_End_Zhong_3_y     222521 non-null  float32\n",
      " 22  guestOdd_Start_Ji_3_y      222521 non-null  float32\n",
      " 23  guestOdd_Start_Zhong_3_y   222521 non-null  float32\n",
      " 24  masterOdd_End_Ji_3_y       222521 non-null  float32\n",
      " 25  masterOdd_End_Zhong_3_y    222521 non-null  float32\n",
      " 26  masterOdd_Start_Ji_3_y     222521 non-null  float32\n",
      " 27  masterOdd_Start_Zhong_3_y  222521 non-null  float32\n",
      " 28  pankouOdd_End_Ji_3_y       222521 non-null  object \n",
      " 29  pankouOdd_End_Zhong_3_y    222521 non-null  float64\n",
      " 30  pankou_Start_Ji_3_y        222521 non-null  object \n",
      " 31  pankou_Start_Zhong_3_y     222521 non-null  float64\n",
      " 32  water_type_mid_y           222521 non-null  object \n",
      " 33  pankouOdd_End_Zhong_3Real  222521 non-null  object \n",
      " 34  pankou_Start_Zhong_3Real   222521 non-null  object \n",
      " 35  daxiaoTypeStart_y          222521 non-null  object \n",
      " 36  daxiaoType_y               222521 non-null  object \n",
      " 37  daxiaoTypeStartMid_y       222521 non-null  object \n",
      " 38  daxiaoTypeMid_y            222521 non-null  object \n",
      "dtypes: float32(16), float64(2), int64(1), object(20)\n",
      "memory usage: 54.3+ MB\n"
     ]
    }
   ],
   "source": [
    "train.info()"
   ]
  },
  {
   "cell_type": "code",
   "execution_count": 19,
   "metadata": {
    "ExecuteTime": {
     "end_time": "2021-11-17T12:39:45.763024Z",
     "start_time": "2021-11-17T12:39:45.749032Z"
    }
   },
   "outputs": [],
   "source": [
    "# mycol = mydb[\"win007yapantest\"]\n",
    "# test = pd.DataFrame(list(mycol.find()))\n",
    "# test = test.drop(['_id','time'], axis=1)\n",
    "# test = test.dropna()\n",
    "# test = reduce_mem_usage(test)\n",
    "# test = preF(test)"
   ]
  },
  {
   "cell_type": "code",
   "execution_count": 21,
   "metadata": {
    "ExecuteTime": {
     "end_time": "2021-11-17T15:24:41.593801Z",
     "start_time": "2021-11-17T15:24:39.989164Z"
    }
   },
   "outputs": [
    {
     "name": "stdout",
     "output_type": "stream",
     "text": [
      "Memory usage of dataframe is 0.56 MB\n",
      "Memory usage after optimization is: 0.39 MB\n",
      "Decreased by 30.3%\n",
      "Memory usage of dataframe is 1.03 MB\n",
      "Memory usage after optimization is: 0.72 MB\n",
      "Decreased by 30.3%\n"
     ]
    }
   ],
   "source": [
    "mycol = mydb[\"win007yapantest\"]\n",
    "test = pd.DataFrame(list(mycol.find()))\n",
    "test = test.drop(['_id','time'], axis=1)\n",
    "test = test.dropna()\n",
    "test = reduce_mem_usage(test)\n",
    "test = preF(test,\"yapan\")\n",
    "\n",
    "mycol = mydb[\"win007daxiaotest\"]\n",
    "test_da = pd.DataFrame(list(mycol.find()))\n",
    "test_da = test_da.drop(['_id','time'], axis=1)\n",
    "test_da = test_da.dropna()\n",
    "test_da = reduce_mem_usage(test_da)\n",
    "test_da = preF(test_da,\"da\")\n",
    "test_da = test_da.drop(['result','lianShai','zhongbifengNew'], axis=1)\n",
    "\n",
    "test = pd.merge(test, test_da, how='left', on=['place'])\n",
    "test = test.drop(['place'], axis=1)\n",
    "test = test.dropna()"
   ]
  },
  {
   "cell_type": "code",
   "execution_count": 22,
   "metadata": {
    "ExecuteTime": {
     "end_time": "2021-11-17T15:24:42.765655Z",
     "start_time": "2021-11-17T15:24:41.595800Z"
    }
   },
   "outputs": [
    {
     "name": "stdout",
     "output_type": "stream",
     "text": [
      "Memory usage of dataframe is 1.03 MB\n",
      "Memory usage after optimization is: 0.72 MB\n",
      "Decreased by 30.3%\n",
      "<class 'pandas.core.frame.DataFrame'>\n",
      "Int64Index: 7083 entries, 0 to 7082\n",
      "Data columns (total 20 columns):\n",
      " #   Column                     Non-Null Count  Dtype  \n",
      "---  ------                     --------------  -----  \n",
      " 0   place                      7083 non-null   object \n",
      " 1   guestOdd_End_Ji_3          7083 non-null   float32\n",
      " 2   guestOdd_End_Zhong_3       7083 non-null   float32\n",
      " 3   guestOdd_Start_Ji_3        7083 non-null   float32\n",
      " 4   guestOdd_Start_Zhong_3     7083 non-null   float32\n",
      " 5   masterOdd_End_Ji_3         7083 non-null   float32\n",
      " 6   masterOdd_End_Zhong_3      7083 non-null   float32\n",
      " 7   masterOdd_Start_Ji_3       7083 non-null   float32\n",
      " 8   masterOdd_Start_Zhong_3    7083 non-null   float32\n",
      " 9   pankouOdd_End_Ji_3         7083 non-null   object \n",
      " 10  pankouOdd_End_Zhong_3      7083 non-null   float64\n",
      " 11  pankou_Start_Ji_3          7083 non-null   object \n",
      " 12  pankou_Start_Zhong_3       7083 non-null   float64\n",
      " 13  water_type_mid             7083 non-null   object \n",
      " 14  pankouOdd_End_Zhong_3Real  7083 non-null   object \n",
      " 15  pankou_Start_Zhong_3Real   7083 non-null   object \n",
      " 16  daxiaoTypeStart            7083 non-null   object \n",
      " 17  daxiaoType                 7083 non-null   object \n",
      " 18  daxiaoTypeStartMid         7083 non-null   object \n",
      " 19  daxiaoTypeMid              7083 non-null   object \n",
      "dtypes: float32(8), float64(2), object(10)\n",
      "memory usage: 940.7+ KB\n"
     ]
    }
   ],
   "source": [
    "mycol = mydb[\"win007daxiaotest\"]\n",
    "test_da = pd.DataFrame(list(mycol.find()))\n",
    "test_da = test_da.drop(['_id','time'], axis=1)\n",
    "test_da = test_da.dropna()\n",
    "test_da = reduce_mem_usage(test_da)\n",
    "test_da = preF(test_da,\"daxiao\")\n",
    "test_da = test_da.drop(['result','lianShai','zhongbifengNew'], axis=1)\n",
    "test_da.info()"
   ]
  },
  {
   "cell_type": "code",
   "execution_count": 23,
   "metadata": {
    "ExecuteTime": {
     "end_time": "2021-11-17T15:24:44.810737Z",
     "start_time": "2021-11-17T15:24:42.768653Z"
    }
   },
   "outputs": [],
   "source": [
    "from sklearn.model_selection import  StratifiedKFold,KFold\n",
    "import category_encoders as ce\n",
    "import gc\n",
    "def mean_woe_target_encoder(train,test,target,col,n_splits=10):\n",
    "    folds = StratifiedKFold(n_splits)\n",
    "\n",
    "    y_oof = np.zeros(train.shape[0])\n",
    "    y_oof_2= np.zeros(train.shape[0])\n",
    "    y_test_oof = np.zeros(test.shape[0]).reshape(-1,1)\n",
    "    y_test_oof2 = np.zeros(test.shape[0]).reshape(-1,1)\n",
    "\n",
    "    splits = folds.split(train, target)\n",
    "    \n",
    "    for fold_n, (train_index, valid_index) in enumerate(splits):\n",
    "        X_train, X_valid = train[col].iloc[train_index], train[col].iloc[valid_index]\n",
    "        y_train, y_valid = target.iloc[train_index], target.iloc[valid_index]\n",
    "        clf=ce.target_encoder.TargetEncoder()\n",
    "    \n",
    "        clf.fit(X_train.values,y_train.values)    \n",
    "        y_pred_valid = clf.transform(X_valid.values)\n",
    "\n",
    "        y_oof[valid_index] = y_pred_valid.values.reshape(1,-1)\n",
    "\n",
    "        tp=(clf.transform(test[col].values)/(n_splits*1.0)).values\n",
    "        tp=tp.reshape(-1,1)\n",
    "        y_test_oof+=tp    \n",
    "    \n",
    "        del X_train, X_valid, y_train, y_valid\n",
    "        gc.collect()    \n",
    "    return y_oof,y_test_oof"
   ]
  },
  {
   "cell_type": "code",
   "execution_count": null,
   "metadata": {
    "ExecuteTime": {
     "end_time": "2021-10-17T12:01:41.415060Z",
     "start_time": "2021-10-17T12:01:41.371086Z"
    }
   },
   "outputs": [],
   "source": []
  },
  {
   "cell_type": "code",
   "execution_count": 24,
   "metadata": {
    "ExecuteTime": {
     "end_time": "2021-11-17T15:25:58.990882Z",
     "start_time": "2021-11-17T15:24:44.812736Z"
    }
   },
   "outputs": [],
   "source": [
    "train_x =  train.drop(columns=['result'])\n",
    "train_y =  train['result']\n",
    "\n",
    "test_x =  test.drop(columns=['result'])\n",
    "test_y = test['result']\n",
    "for col in train.select_dtypes(include='object').columns:\n",
    "  y_oof,y_test_oof = mean_woe_target_encoder(train_x,test_x,train_y,col,n_splits=10)\n",
    "  train_x[col] = y_oof\n",
    "  test_x[col] = y_test_oof"
   ]
  },
  {
   "cell_type": "code",
   "execution_count": null,
   "metadata": {
    "ExecuteTime": {
     "end_time": "2021-10-21T14:37:15.474790Z",
     "start_time": "2021-10-21T14:37:12.179Z"
    }
   },
   "outputs": [],
   "source": []
  },
  {
   "cell_type": "code",
   "execution_count": null,
   "metadata": {
    "ExecuteTime": {
     "end_time": "2021-10-21T14:37:15.475803Z",
     "start_time": "2021-10-21T14:37:12.488Z"
    }
   },
   "outputs": [],
   "source": []
  },
  {
   "cell_type": "code",
   "execution_count": 25,
   "metadata": {
    "ExecuteTime": {
     "end_time": "2021-11-17T15:27:56.867385Z",
     "start_time": "2021-11-17T15:25:58.992895Z"
    },
    "colab": {
     "base_uri": "https://localhost:8080/"
    },
    "id": "t6udRIjZEdIg",
    "outputId": "d432b310-9fa8-41ca-dabc-5363d79fcd2b"
   },
   "outputs": [
    {
     "name": "stdout",
     "output_type": "stream",
     "text": [
      "Starting training... 0\n",
      "Starting training... 1\n",
      "accuarcy: 59.39%\n"
     ]
    }
   ],
   "source": [
    "from sklearn.metrics import roc_auc_score\n",
    "import lightgbm as lgb\n",
    "\n",
    "lgb_train = lgb.Dataset(train_x, train_y)\n",
    "\n",
    "# 参数设置\n",
    "params = {'num_leaves': 240, #结果对最终效果影响较大，越大值越好，太大会出现过拟合\n",
    "          'min_data_in_leaf': 30,\n",
    "          'objective': 'binary', #定义的目标函数\n",
    "          'max_depth': -1,\n",
    "          'learning_rate': 0.03,\n",
    "          \"min_sum_hessian_in_leaf\": 6,\n",
    "          \"boosting\": \"gbdt\",\n",
    "          \"feature_fraction\":  0.5992677823884304,\t#提取的特征比率\n",
    "          \"bagging_freq\": 4,\n",
    "          \"bagging_fraction\":0.7100471696361973,\n",
    "          \"bagging_seed\": 11,\n",
    "          \"lambda_l1\": 8.545500456265467e-05,\t\t\t\t#l1正则\n",
    "          'lambda_l2': 5.985747612243422e-07,\t\t#l2正则\n",
    "          \"verbosity\": -1,\n",
    "          \"nthread\": -1,\t\t#线程数量，-1表示全部线程，线程越多，运行的速度越快\n",
    "          'metric': {'binary_logloss', 'auc'},\t##评价函数选择\n",
    "          \"random_state\": 7,\t#随机数种子，可以防止每次运行的结果不一致\n",
    "          'min_child_samples': 67,\n",
    "          }\n",
    "\n",
    "y_pred = np.zeros(test_x.shape[0])\n",
    "y_pred_train = np.zeros(train_x.shape[0])\n",
    "\n",
    "folds = 2\n",
    "for i in range(folds):\n",
    "    print('Starting training...',i)\n",
    "    params['random_state'] = i + 2021\n",
    "    # 模型训练\n",
    "    gbm = lgb.train(params,\n",
    "                    lgb_train,\n",
    "                    num_boost_round=1000)\n",
    "    \n",
    "#     model = 'C:\\\\Users\\\\24525\\\\code\\\\spider\\\\test\\\\' + 'test_' + str(i) + \"_singe.txt\"\n",
    "    \n",
    "#     gbm.save_model(model)\n",
    "\n",
    "    y_pred_train += gbm.predict(train_x, num_iteration=gbm.best_iteration) / folds\n",
    "\n",
    "    # 模型预测\n",
    "    y_pred += gbm.predict(test_x, num_iteration=gbm.best_iteration) / folds\n",
    "\n",
    "accuracy = roc_auc_score(test_y, y_pred)\n",
    "print(\"accuarcy: %.2f%%\" % (accuracy*100.0))"
   ]
  },
  {
   "cell_type": "code",
   "execution_count": 26,
   "metadata": {
    "ExecuteTime": {
     "end_time": "2021-11-17T15:27:56.898366Z",
     "start_time": "2021-11-17T15:27:56.870383Z"
    },
    "scrolled": true
   },
   "outputs": [
    {
     "name": "stdout",
     "output_type": "stream",
     "text": [
      "accuarcy: 84.57%\n",
      "(1264, 2)\n"
     ]
    }
   ],
   "source": [
    "from sklearn.metrics import roc_auc_score,accuracy_score\n",
    "test_new = pd.DataFrame({'result':test_y,'predict':y_pred})\n",
    "a = test_new[(test_new[\"predict\"] >= 0.82)]\n",
    "pred_labels = np.rint(a['predict'])\n",
    "accuracy = accuracy_score(a['result'], pred_labels)\n",
    "print(\"accuarcy: %.2f%%\" % (accuracy*100.0))\n",
    "print(a.shape)"
   ]
  },
  {
   "cell_type": "code",
   "execution_count": 27,
   "metadata": {
    "ExecuteTime": {
     "end_time": "2021-11-17T15:27:56.930353Z",
     "start_time": "2021-11-17T15:27:56.900365Z"
    }
   },
   "outputs": [
    {
     "name": "stdout",
     "output_type": "stream",
     "text": [
      "<class 'pandas.core.frame.DataFrame'>\n",
      "Int64Index: 3006 entries, 0 to 3849\n",
      "Data columns (total 38 columns):\n",
      " #   Column                     Non-Null Count  Dtype  \n",
      "---  ------                     --------------  -----  \n",
      " 0   lianShai                   3006 non-null   float64\n",
      " 1   guestOdd_End_Ji_3_x        3006 non-null   float32\n",
      " 2   guestOdd_End_Zhong_3_x     3006 non-null   float32\n",
      " 3   guestOdd_Start_Ji_3_x      3006 non-null   float32\n",
      " 4   guestOdd_Start_Zhong_3_x   3006 non-null   float32\n",
      " 5   masterOdd_End_Ji_3_x       3006 non-null   float32\n",
      " 6   masterOdd_End_Zhong_3_x    3006 non-null   float32\n",
      " 7   masterOdd_Start_Ji_3_x     3006 non-null   float32\n",
      " 8   masterOdd_Start_Zhong_3_x  3006 non-null   float32\n",
      " 9   pankouOdd_End_Ji_3_x       3006 non-null   float64\n",
      " 10  pankouOdd_End_Zhong_3_x    3006 non-null   float64\n",
      " 11  pankou_Start_Ji_3_x        3006 non-null   float64\n",
      " 12  pankou_Start_Zhong_3_x     3006 non-null   float64\n",
      " 13  zhongbifengNew             3006 non-null   float64\n",
      " 14  water_type_mid_x           3006 non-null   float64\n",
      " 15  daxiaoTypeStart_x          3006 non-null   float64\n",
      " 16  daxiaoType_x               3006 non-null   float64\n",
      " 17  daxiaoTypeStartMid_x       3006 non-null   float64\n",
      " 18  daxiaoTypeMid_x            3006 non-null   float64\n",
      " 19  guestOdd_End_Ji_3_y        3006 non-null   float32\n",
      " 20  guestOdd_End_Zhong_3_y     3006 non-null   float32\n",
      " 21  guestOdd_Start_Ji_3_y      3006 non-null   float32\n",
      " 22  guestOdd_Start_Zhong_3_y   3006 non-null   float32\n",
      " 23  masterOdd_End_Ji_3_y       3006 non-null   float32\n",
      " 24  masterOdd_End_Zhong_3_y    3006 non-null   float32\n",
      " 25  masterOdd_Start_Ji_3_y     3006 non-null   float32\n",
      " 26  masterOdd_Start_Zhong_3_y  3006 non-null   float32\n",
      " 27  pankouOdd_End_Ji_3_y       3006 non-null   float64\n",
      " 28  pankouOdd_End_Zhong_3_y    3006 non-null   float64\n",
      " 29  pankou_Start_Ji_3_y        3006 non-null   float64\n",
      " 30  pankou_Start_Zhong_3_y     3006 non-null   float64\n",
      " 31  water_type_mid_y           3006 non-null   float64\n",
      " 32  pankouOdd_End_Zhong_3Real  3006 non-null   float64\n",
      " 33  pankou_Start_Zhong_3Real   3006 non-null   float64\n",
      " 34  daxiaoTypeStart_y          3006 non-null   float64\n",
      " 35  daxiaoType_y               3006 non-null   float64\n",
      " 36  daxiaoTypeStartMid_y       3006 non-null   float64\n",
      " 37  daxiaoTypeMid_y            3006 non-null   float64\n",
      "dtypes: float32(16), float64(22)\n",
      "memory usage: 728.0 KB\n"
     ]
    }
   ],
   "source": [
    "test_x.info()"
   ]
  },
  {
   "cell_type": "code",
   "execution_count": 28,
   "metadata": {
    "ExecuteTime": {
     "end_time": "2021-11-17T15:27:56.962316Z",
     "start_time": "2021-11-17T15:27:56.933352Z"
    }
   },
   "outputs": [],
   "source": [
    "test2 = test.copy(deep=True)\n",
    "test2[\"result\"] = test_y\n",
    "test2['predict'] = y_pred"
   ]
  },
  {
   "cell_type": "code",
   "execution_count": 44,
   "metadata": {
    "ExecuteTime": {
     "end_time": "2021-11-17T15:56:36.704647Z",
     "start_time": "2021-11-17T15:56:36.688655Z"
    }
   },
   "outputs": [
    {
     "data": {
      "text/plain": [
       "1.5     476\n",
       "1.75    366\n",
       "2.0     182\n",
       "1.25    112\n",
       "2.25     65\n",
       "2.5      26\n",
       "2.75     13\n",
       "1.0       7\n",
       "3.5       6\n",
       "3.25      4\n",
       "3.0       4\n",
       "3.75      1\n",
       "5.75      1\n",
       "4.0       1\n",
       "Name: pankouOdd_End_Zhong_3Real, dtype: int64"
      ]
     },
     "execution_count": 44,
     "metadata": {},
     "output_type": "execute_result"
    }
   ],
   "source": [
    "test2[(test2[\"predict\"] >= 0.82)]['pankouOdd_End_Zhong_3Real'].value_counts()"
   ]
  },
  {
   "cell_type": "code",
   "execution_count": 45,
   "metadata": {
    "ExecuteTime": {
     "end_time": "2021-11-17T15:56:47.701364Z",
     "start_time": "2021-11-17T15:56:47.692368Z"
    }
   },
   "outputs": [],
   "source": [
    "zhongList = test2[(test2[\"predict\"] >= 0.82)]['zhongbifengNew'].unique()\n",
    "import warnings\n",
    "warnings.filterwarnings('ignore')"
   ]
  },
  {
   "cell_type": "code",
   "execution_count": 46,
   "metadata": {
    "ExecuteTime": {
     "end_time": "2021-11-17T15:56:49.077552Z",
     "start_time": "2021-11-17T15:56:48.952624Z"
    }
   },
   "outputs": [
    {
     "name": "stdout",
     "output_type": "stream",
     "text": [
      "accuarcy: 100.00% 1.0 0_0\n",
      "(2, 40)\n",
      "accuarcy: 100.00% 1.0 1_0\n",
      "(1, 40)\n",
      "accuarcy: 100.00% 1.0 3_1\n",
      "(1, 40)\n"
     ]
    }
   ],
   "source": [
    "for i in [\"1.0\"]:\n",
    "    for j in zhongList:\n",
    "        a = test2[(test2[\"predict\"] >= 0.82)]\n",
    "        a = a[(a[\"pankouOdd_End_Zhong_3Real\"] == i)]\n",
    "        a = a[(a[\"zhongbifengNew\"] == j)]\n",
    "        pred_labels = np.rint(a['predict'])\n",
    "        accuracy = accuracy_score(a['result'], pred_labels)\n",
    "        if (a.shape[0] != 0 and accuracy > 0.85):\n",
    "            print(\"accuarcy: %.2f%%\" % (accuracy*100.0),i,j)\n",
    "            print(a.shape)"
   ]
  },
  {
   "cell_type": "code",
   "execution_count": 50,
   "metadata": {
    "ExecuteTime": {
     "end_time": "2021-11-17T15:58:43.323797Z",
     "start_time": "2021-11-17T15:58:43.181878Z"
    }
   },
   "outputs": [
    {
     "name": "stdout",
     "output_type": "stream",
     "text": [
      "accuarcy: 100.00% 1.25 2_2\n",
      "(3, 40)\n",
      "accuarcy: 100.00% 1.25 0_2\n",
      "(11, 40)\n",
      "accuarcy: 100.00% 1.25 3_1\n",
      "(1, 40)\n",
      "accuarcy: 90.91% 1.25 1_1\n",
      "(11, 40)\n",
      "accuarcy: 100.00% 1.25 3_0\n",
      "(3, 40)\n",
      "accuarcy: 100.00% 1.25 4_0\n",
      "(2, 40)\n"
     ]
    }
   ],
   "source": [
    "for i in [\"1.25\"]:\n",
    "    for j in zhongList:\n",
    "        a = test2[(test2[\"predict\"] >= 0.82)]\n",
    "        a = a[(a[\"pankouOdd_End_Zhong_3Real\"] == i)]\n",
    "        a = a[(a[\"zhongbifengNew\"] == j)]\n",
    "        pred_labels = np.rint(a['predict'])\n",
    "        accuracy = accuracy_score(a['result'], pred_labels)\n",
    "        if (a.shape[0] != 0 and accuracy > 0.85):\n",
    "            print(\"accuarcy: %.2f%%\" % (accuracy*100.0),i,j)\n",
    "            print(a.shape)"
   ]
  },
  {
   "cell_type": "code",
   "execution_count": 51,
   "metadata": {
    "ExecuteTime": {
     "end_time": "2021-11-17T15:58:45.888084Z",
     "start_time": "2021-11-17T15:58:45.743162Z"
    }
   },
   "outputs": [
    {
     "name": "stdout",
     "output_type": "stream",
     "text": [
      "accuarcy: 86.05% 1.5 2_0\n",
      "(43, 40)\n",
      "accuarcy: 85.71% 1.5 1_2\n",
      "(14, 40)\n",
      "accuarcy: 100.00% 1.5 3_0\n",
      "(11, 40)\n",
      "accuarcy: 100.00% 1.5 0_4\n",
      "(2, 40)\n",
      "accuarcy: 100.00% 1.5 3_2\n",
      "(1, 40)\n",
      "accuarcy: 100.00% 1.5 4_1\n",
      "(1, 40)\n"
     ]
    }
   ],
   "source": [
    "for i in [\"1.5\"]:\n",
    "    for j in zhongList:\n",
    "        a = test2[(test2[\"predict\"] >= 0.82)]\n",
    "        a = a[(a[\"pankouOdd_End_Zhong_3Real\"] == i)]\n",
    "        a = a[(a[\"zhongbifengNew\"] == j)]\n",
    "        pred_labels = np.rint(a['predict'])\n",
    "        accuracy = accuracy_score(a['result'], pred_labels)\n",
    "        if (a.shape[0] != 0 and accuracy > 0.85):\n",
    "            print(\"accuarcy: %.2f%%\" % (accuracy*100.0),i,j)\n",
    "            print(a.shape)"
   ]
  },
  {
   "cell_type": "code",
   "execution_count": 52,
   "metadata": {
    "ExecuteTime": {
     "end_time": "2021-11-17T15:58:47.919789Z",
     "start_time": "2021-11-17T15:58:47.767397Z"
    }
   },
   "outputs": [
    {
     "name": "stdout",
     "output_type": "stream",
     "text": [
      "accuarcy: 93.18% 1.75 2_0\n",
      "(44, 40)\n",
      "accuarcy: 86.67% 1.75 0_1\n",
      "(60, 40)\n",
      "accuarcy: 91.23% 1.75 0_0\n",
      "(57, 40)\n",
      "accuarcy: 100.00% 1.75 5_0\n",
      "(2, 40)\n",
      "accuarcy: 100.00% 1.75 0_2\n",
      "(26, 40)\n",
      "accuarcy: 85.71% 1.75 0_3\n",
      "(7, 40)\n",
      "accuarcy: 100.00% 1.75 3_1\n",
      "(5, 40)\n",
      "accuarcy: 85.71% 1.75 1_1\n",
      "(35, 40)\n",
      "accuarcy: 100.00% 1.75 3_0\n",
      "(6, 40)\n",
      "accuarcy: 85.71% 1.75 1_3\n",
      "(7, 40)\n",
      "accuarcy: 100.00% 1.75 4_2\n",
      "(1, 40)\n",
      "accuarcy: 100.00% 1.75 6_1\n",
      "(1, 40)\n",
      "accuarcy: 100.00% 1.75 2_3\n",
      "(2, 40)\n",
      "accuarcy: 100.00% 1.75 1_4\n",
      "(2, 40)\n",
      "accuarcy: 100.00% 1.75 3_3\n",
      "(1, 40)\n"
     ]
    }
   ],
   "source": [
    "for i in [\"1.75\"]:\n",
    "    for j in zhongList:\n",
    "        a = test2[(test2[\"predict\"] >= 0.82)]\n",
    "        a = a[(a[\"pankouOdd_End_Zhong_3Real\"] == i)]\n",
    "        a = a[(a[\"zhongbifengNew\"] == j)]\n",
    "        pred_labels = np.rint(a['predict'])\n",
    "        accuracy = accuracy_score(a['result'], pred_labels)\n",
    "        if (a.shape[0] != 0 and accuracy > 0.85):\n",
    "            print(\"accuarcy: %.2f%%\" % (accuracy*100.0),i,j)\n",
    "            print(a.shape)"
   ]
  },
  {
   "cell_type": "code",
   "execution_count": null,
   "metadata": {
    "ExecuteTime": {
     "end_time": "2021-11-17T15:27:57.185596Z",
     "start_time": "2021-11-17T15:27:57.139632Z"
    }
   },
   "outputs": [],
   "source": [
    "from sklearn.linear_model import LogisticRegression\n",
    "\n",
    "linear_regression = LinearRegression()\n",
    "\n",
    "fig, ax = plt.subplots(figsize=(10,10))\n",
    "lgb.plot_importance(gbm, max_num_features=60, height=0.5, ax=ax)\n",
    "plt.show()"
   ]
  },
  {
   "cell_type": "code",
   "execution_count": 36,
   "metadata": {
    "ExecuteTime": {
     "end_time": "2021-11-17T15:27:58.598857Z",
     "start_time": "2021-11-17T15:27:58.413598Z"
    }
   },
   "outputs": [
    {
     "ename": "NameError",
     "evalue": "name 'stop' is not defined",
     "output_type": "error",
     "traceback": [
      "\u001b[1;31m---------------------------------------------------------------------------\u001b[0m",
      "\u001b[1;31mNameError\u001b[0m                                 Traceback (most recent call last)",
      "\u001b[1;32m<ipython-input-36-4f76a9dad686>\u001b[0m in \u001b[0;36m<module>\u001b[1;34m\u001b[0m\n\u001b[1;32m----> 1\u001b[1;33m \u001b[0mstop\u001b[0m\u001b[1;33m\u001b[0m\u001b[1;33m\u001b[0m\u001b[0m\n\u001b[0m",
      "\u001b[1;31mNameError\u001b[0m: name 'stop' is not defined"
     ]
    }
   ],
   "source": [
    "stop"
   ]
  },
  {
   "cell_type": "code",
   "execution_count": null,
   "metadata": {
    "ExecuteTime": {
     "end_time": "2021-11-17T15:27:58.602839Z",
     "start_time": "2021-11-17T15:24:45.383Z"
    },
    "colab": {
     "base_uri": "https://localhost:8080/"
    },
    "id": "A867lIczEdIi",
    "outputId": "fe128cf3-a6d5-40d9-a372-6af3a61f6f8e"
   },
   "outputs": [],
   "source": [
    "import lightgbm as lgb\n",
    "from sklearn.metrics import roc_auc_score,accuracy_score\n",
    "from sklearn.model_selection import StratifiedKFold\n",
    "import gc\n",
    "X = train_x\n",
    "y = train_y\n",
    "# del train_x,train_y\n",
    "# gc.collect()\n",
    "\n",
    "\n",
    "params = {'num_leaves': 240,  # 结果对最终效果影响较大，越大值越好，太大会出现过拟合\n",
    "          'min_data_in_leaf': 30,\n",
    "          'objective': 'binary',  # 定义的目标函数\n",
    "          'max_depth': -1,\n",
    "          'learning_rate': 0.03,\n",
    "          \"min_sum_hessian_in_leaf\": 6,\n",
    "          \"boosting\": \"gbdt\",\n",
    "          \"feature_fraction\":  0.5992677823884304,  # 提取的特征比率\n",
    "          \"bagging_freq\": 4,\n",
    "          \"bagging_fraction\": 0.7100471696361973,\n",
    "          \"bagging_seed\": 11,\n",
    "          \"lambda_l1\": 8.545500456265467e-05,  # l1正则\n",
    "          'lambda_l2': 5.985747612243422e-07,  # l2正则\n",
    "          \"verbosity\": -1,\n",
    "          \"nthread\": -1,  # 线程数量，-1表示全部线程，线程越多，运行的速度越快\n",
    "          'metric': {'auc'},  # 评价函数选择\n",
    "          \"random_state\": 2019,  # 随机数种子，可以防止每次运行的结果不一致\n",
    "          # 'device': 'gpu' ##如果安装的事gpu版本的lightgbm,可以加快运算\n",
    "          'min_child_samples': 67\n",
    "          }\n",
    "\n",
    "NFOLDS = 5\n",
    "folds = StratifiedKFold(n_splits=NFOLDS)\n",
    "\n",
    "columns = X.columns\n",
    "splits = folds.split(X, y)\n",
    "y_preds = np.zeros(test_x.shape[0])\n",
    "y_preds_train  = np.zeros(train_x.shape[0])\n",
    "score = 0\n",
    "\n",
    "feature_importances = pd.DataFrame()\n",
    "feature_importances['feature'] = columns\n",
    "\n",
    "for fold_n, (train_index, valid_index) in enumerate(splits):\n",
    "    X_train, X_valid = X[columns].iloc[train_index], X[columns].iloc[valid_index]\n",
    "    y_train, y_valid = y.iloc[train_index], y.iloc[valid_index]\n",
    "\n",
    "    dtrain = lgb.Dataset(X_train, label=y_train)\n",
    "    dvalid = lgb.Dataset(X_valid, label=y_valid)\n",
    "\n",
    "    clf = lgb.train(params, dtrain, 1000, valid_sets=[\n",
    "                    dtrain, dvalid], verbose_eval=200, early_stopping_rounds=300)\n",
    "\n",
    "    feature_importances[f'fold_{fold_n + 1}'] = clf.feature_importance()\n",
    "\n",
    "    y_pred_valid = clf.predict(X_valid)\n",
    "    print(y_pred_valid)\n",
    "    print(f\"Fold {fold_n + 1} | AUC: {roc_auc_score(y_valid, y_pred_valid)}\")\n",
    "\n",
    "    score += roc_auc_score(y_valid, y_pred_valid) / NFOLDS\n",
    "    y_preds += clf.predict(test_x) / NFOLDS\n",
    "    \n",
    "    y_pred_valid = clf.predict(X_valid)\n",
    "    y_preds_train[valid_index] = y_pred_valid\n",
    "    \n",
    "    del X_train, X_valid, y_train, y_valid\n",
    "    gc.collect()\n",
    "    \n",
    "print(f\"\\nMean AUC = {score}\")\n",
    "print(f\"Out of folds AUC = {roc_auc_score(y, y_preds_train)}\")"
   ]
  },
  {
   "cell_type": "code",
   "execution_count": null,
   "metadata": {
    "ExecuteTime": {
     "end_time": "2021-11-17T15:27:58.603839Z",
     "start_time": "2021-11-17T15:24:45.427Z"
    }
   },
   "outputs": [],
   "source": [
    "from sklearn.metrics import roc_auc_score,accuracy_score\n",
    "test_new = pd.DataFrame({'result':test_y,'predict':y_preds})\n",
    "a = test_new[(test_new[\"predict\"] >= 0.82)]\n",
    "pred_labels = np.rint(a['predict'])\n",
    "accuracy = accuracy_score(a['result'], pred_labels)\n",
    "print(\"accuarcy: %.2f%%\" % (accuracy*100.0))\n",
    "print(a.shape)"
   ]
  },
  {
   "cell_type": "code",
   "execution_count": null,
   "metadata": {
    "ExecuteTime": {
     "end_time": "2021-10-22T00:29:23.376386Z",
     "start_time": "2021-10-22T00:29:23.174931Z"
    }
   },
   "outputs": [],
   "source": []
  },
  {
   "cell_type": "code",
   "execution_count": null,
   "metadata": {
    "ExecuteTime": {
     "end_time": "2021-10-22T00:29:24.020793Z",
     "start_time": "2021-10-22T00:29:23.632989Z"
    }
   },
   "outputs": [],
   "source": []
  },
  {
   "cell_type": "code",
   "execution_count": null,
   "metadata": {
    "ExecuteTime": {
     "end_time": "2021-10-22T06:28:21.649355Z",
     "start_time": "2021-10-22T06:28:21.603368Z"
    }
   },
   "outputs": [],
   "source": []
  },
  {
   "cell_type": "code",
   "execution_count": null,
   "metadata": {
    "ExecuteTime": {
     "end_time": "2021-10-22T00:29:25.735638Z",
     "start_time": "2021-10-22T00:29:24.980897Z"
    }
   },
   "outputs": [],
   "source": []
  },
  {
   "cell_type": "code",
   "execution_count": null,
   "metadata": {
    "ExecuteTime": {
     "end_time": "2021-11-17T15:27:58.604838Z",
     "start_time": "2021-11-17T15:24:45.631Z"
    },
    "colab": {
     "base_uri": "https://localhost:8080/",
     "height": 953
    },
    "id": "xicUPt9ZEdIi",
    "outputId": "802b6bc7-0c1f-4a6d-8ce3-a757205632b8"
   },
   "outputs": [],
   "source": [
    "# import seaborn as sns\n",
    "# feature_importance_gain=pd.DataFrame()\n",
    "# feature_importance_gain['feature']=columns\n",
    "# feature_importance_gain['fold_1']=clf.feature_importance(importance_type='gain')\n",
    "# feature_importance_gain['average'] = feature_importances[[f'fold_{fold_n + 1}' for fold_n in range(1)]].mean(axis=1)\n",
    "# plt.figure(figsize=(16, 16))\n",
    "# sns.barplot(data=feature_importance_gain.sort_values(by='average', ascending=False).head(50), x='average', y='feature');\n",
    "# plt.title('100 TOP feature importance over {} folds average'.format(folds.n_splits));"
   ]
  },
  {
   "cell_type": "code",
   "execution_count": null,
   "metadata": {
    "ExecuteTime": {
     "end_time": "2021-11-17T15:27:58.605838Z",
     "start_time": "2021-11-17T15:24:45.675Z"
    }
   },
   "outputs": [],
   "source": [
    "test2 = test.copy(deep=True)\n",
    "test2[\"result\"] = test_y\n",
    "test2['predict'] = y_preds"
   ]
  },
  {
   "cell_type": "code",
   "execution_count": null,
   "metadata": {
    "ExecuteTime": {
     "end_time": "2021-11-17T15:27:58.606837Z",
     "start_time": "2021-11-17T15:24:45.718Z"
    }
   },
   "outputs": [],
   "source": [
    "for i in [\"1.5\",\"2.5\",\"3.5\",\"4.5\"]:\n",
    "    a = test2[(test2[\"predict\"] >= 0.82)]\n",
    "    a = a[(a[\"pankouOdd_End_Zhong_3_y\"] == i)]\n",
    "    pred_labels = np.rint(a['predict'])\n",
    "    accuracy = accuracy_score(a['result'], pred_labels)\n",
    "    print(\"accuarcy: %.2f%%\" % (accuracy*100.0),i)\n",
    "    print(a.shape)"
   ]
  },
  {
   "cell_type": "code",
   "execution_count": null,
   "metadata": {
    "ExecuteTime": {
     "end_time": "2021-11-17T15:27:58.607837Z",
     "start_time": "2021-11-17T15:24:45.765Z"
    },
    "id": "uh55l3HyEdIi"
   },
   "outputs": [],
   "source": [
    "# import seaborn as sns\n",
    "# sns.set()\n",
    "\n",
    "# import sweetviz as sv\n",
    "# # 可以选择目标特征\n",
    "# my_report = sv.analyze(train, target_feat ='result')\n",
    "# my_report.show_html()"
   ]
  },
  {
   "cell_type": "code",
   "execution_count": null,
   "metadata": {
    "ExecuteTime": {
     "end_time": "2021-09-19T10:57:59.677256Z",
     "start_time": "2021-09-19T10:57:59.647275Z"
    }
   },
   "outputs": [],
   "source": []
  },
  {
   "cell_type": "code",
   "execution_count": null,
   "metadata": {
    "ExecuteTime": {
     "end_time": "2021-11-17T15:27:58.612834Z",
     "start_time": "2021-11-17T15:24:45.848Z"
    },
    "colab": {
     "base_uri": "https://localhost:8080/"
    },
    "id": "8zSjBu_6EdIj",
    "outputId": "81692c28-e759-47b2-a248-7e1e880b2636"
   },
   "outputs": [],
   "source": [
    "new_featurs = [_f for _f, _score, _ in feature_scores if _score > 0]\n",
    "test_x = test_x[new_featurs]\n",
    "train_x = train_x[new_featurs]"
   ]
  },
  {
   "cell_type": "code",
   "execution_count": null,
   "metadata": {
    "ExecuteTime": {
     "end_time": "2021-11-17T15:27:58.613833Z",
     "start_time": "2021-11-17T15:24:45.937Z"
    }
   },
   "outputs": [],
   "source": [
    "import pandas as pd\n",
    "import numpy as np\n",
    "from sklearn.metrics import roc_auc_score\n",
    "from sklearn.model_selection import KFold\n",
    "import time\n",
    "from lightgbm import LGBMClassifier\n",
    "import lightgbm as lgb\n",
    "\n",
    "import matplotlib.pyplot as plt\n",
    "import matplotlib.gridspec as gridspec\n",
    "import seaborn as sns\n",
    "%matplotlib inline\n",
    "\n",
    "import warnings\n",
    "warnings.simplefilter('ignore', UserWarning)\n",
    "\n",
    "def get_feature_importances(data, shuffle, seed=None):\n",
    "    # Gather real features\n",
    "    train_features = [f for f in data if f not in ['result']]\n",
    "    # Go over fold and keep track of CV score (train and valid) and feature importances\n",
    "    \n",
    "    # Shuffle target if required\n",
    "    y = data['result'].copy()\n",
    "    if shuffle:\n",
    "        # Here you could as well use a binomial distribution\n",
    "        y = data['result'].copy().sample(frac=1.0)\n",
    "    \n",
    "    # Fit LightGBM in RF mode, yes it's quicker than sklearn RandomForest\n",
    "    dtrain = lgb.Dataset(data[train_features], y, free_raw_data=False, silent=True)\n",
    "    lgb_params = {\n",
    "        'objective': 'binary',\n",
    "        'boosting_type': 'rf',\n",
    "        'subsample': 0.623,\n",
    "        'colsample_bytree': 0.7,\n",
    "        'num_leaves': 127,\n",
    "        'max_depth': 8,\n",
    "        'seed': seed,\n",
    "        'bagging_freq': 1,\n",
    "        'n_jobs': 4\n",
    "    }\n",
    "    \n",
    "    # Fit the model\n",
    "    clf = lgb.train(params=lgb_params, train_set=dtrain, num_boost_round=200)\n",
    "\n",
    "    # Get feature importances\n",
    "    imp_df = pd.DataFrame()\n",
    "    imp_df[\"feature\"] = list(train_features)\n",
    "    imp_df[\"importance_gain\"] = clf.feature_importance(importance_type='gain')\n",
    "    imp_df[\"importance_split\"] = clf.feature_importance(importance_type='split')\n",
    "    imp_df['trn_score'] = roc_auc_score(y, clf.predict(data[train_features]))\n",
    "    \n",
    "    return imp_df"
   ]
  },
  {
   "cell_type": "code",
   "execution_count": null,
   "metadata": {
    "ExecuteTime": {
     "end_time": "2021-11-17T15:27:58.615832Z",
     "start_time": "2021-11-17T15:24:46.009Z"
    }
   },
   "outputs": [],
   "source": [
    "# Seed the unexpected randomness of this world\n",
    "np.random.seed(123)\n",
    "# Get the actual importance, i.e. without shuffling\n",
    "actual_imp_df = get_feature_importances(data=train, shuffle=False) "
   ]
  },
  {
   "cell_type": "code",
   "execution_count": null,
   "metadata": {
    "ExecuteTime": {
     "end_time": "2021-11-17T15:27:58.616832Z",
     "start_time": "2021-11-17T15:24:46.082Z"
    }
   },
   "outputs": [],
   "source": []
  },
  {
   "cell_type": "code",
   "execution_count": null,
   "metadata": {
    "ExecuteTime": {
     "end_time": "2021-11-17T15:27:58.617831Z",
     "start_time": "2021-11-17T15:24:46.145Z"
    }
   },
   "outputs": [],
   "source": [
    "\n",
    "\n",
    "\n",
    "\n",
    "M[0], split_results[1]))\n",
    "#     gain_results = score_feature_selection(df=train, train_features=gain_feats, target=train['result'])\n",
    "#     print('\\t GAIN  : %.6f +/- %.6f' % (gain_results[0], gain_results[1]))"
   ]
  },
  {
   "cell_type": "code",
   "execution_count": null,
   "metadata": {
    "ExecuteTime": {
     "end_time": "2021-11-17T15:27:58.620829Z",
     "start_time": "2021-11-17T15:24:47.501Z"
    }
   },
   "outputs": [],
   "source": [
    "from sklearn.preprocessing import StandardScaler\n",
    "from sklearn.metrics import mean_squared_error\n",
    "from sklearn.model_selection import KFold\n",
    "from tensorflow import keras\n",
    "from tensorflow.keras import layers"
   ]
  },
  {
   "cell_type": "code",
   "execution_count": null,
   "metadata": {
    "ExecuteTime": {
     "end_time": "2021-11-17T15:27:58.621828Z",
     "start_time": "2021-11-17T15:24:47.546Z"
    }
   },
   "outputs": [],
   "source": [
    "for c in train_x.columns:\n",
    "    prep = StandardScaler()\n",
    "    train_x[c] = prep.fit_transform(train_x[[c]])\n",
    "    test_x[c] = prep.fit_transform(test_x[[c]])"
   ]
  },
  {
   "cell_type": "code",
   "execution_count": null,
   "metadata": {
    "ExecuteTime": {
     "end_time": "2021-11-17T15:27:58.622828Z",
     "start_time": "2021-11-17T15:24:47.602Z"
    }
   },
   "outputs": [],
   "source": [
    "test_x.head()"
   ]
  },
  {
   "cell_type": "code",
   "execution_count": 53,
   "metadata": {
    "ExecuteTime": {
     "end_time": "2021-11-17T15:59:33.462971Z",
     "start_time": "2021-11-17T15:59:33.447980Z"
    }
   },
   "outputs": [],
   "source": [
    "lgb_params = {\n",
    "    'objective': 'binary',\n",
    "    'n_estimators': 20000,\n",
    "    'random_state': 42,\n",
    "    'learning_rate': 8e-3,\n",
    "    'subsample': 0.6,\n",
    "    'subsample_freq': 1,\n",
    "    'colsample_bytree': 0.4,\n",
    "    'reg_alpha': 10.0,\n",
    "    'reg_lambda': 1e-1,\n",
    "    'min_child_weight': 256,\n",
    "    'min_child_samples': 20,\n",
    "}\n",
    "\n",
    "lgb_params = {'num_leaves': 240,  # 结果对最终效果影响较大，越大值越好，太大会出现过拟合\n",
    "          'min_data_in_leaf': 30,\n",
    "          'objective': 'binary',  # 定义的目标函数\n",
    "          'max_depth': -1,\n",
    "          'learning_rate': 0.03,\n",
    "          \"min_sum_hessian_in_leaf\": 6,\n",
    "          \"boosting\": \"gbdt\",\n",
    "          \"feature_fraction\":  0.5992677823884304,  # 提取的特征比率\n",
    "          \"bagging_freq\": 4,\n",
    "          \"bagging_fraction\": 0.7100471696361973,\n",
    "          \"bagging_seed\": 11,\n",
    "          \"lambda_l1\": 8.545500456265467e-05,  # l1正则\n",
    "          'lambda_l2': 5.985747612243422e-07,  # l2正则\n",
    "          \"verbosity\": -1,\n",
    "          \"nthread\": -1,  # 线程数量，-1表示全部线程，线程越多，运行的速度越快\n",
    "          \"random_state\": 2019,  # 随机数种子，可以防止每次运行的结果不一致\n",
    "          # 'device': 'gpu' ##如果安装的事gpu版本的lightgbm,可以加快运算\n",
    "          'min_child_samples': 67\n",
    "          }\n",
    "\n",
    "\n",
    "xgb_params = {'n_estimators': 10000,\n",
    "               'learning_rate': 0.03689407512484644,\n",
    "               'max_depth': 8,\n",
    "               'colsample_bytree': 0.3723914688159835,\n",
    "               'subsample': 0.780714581166012,\n",
    "               'eval_metric': 'auc',\n",
    "               'use_label_encoder': False,\n",
    "               'gamma': 0,\n",
    "               'reg_lambda': 50.0,\n",
    "               'gpu_id': 0,\n",
    "               'objective': 'binary:logistic',\n",
    "               'random_state': 42}\n",
    "\n",
    "\n",
    "cat_params = {'iterations': 17298,\n",
    "               'learning_rate': 0.03429054860458741,\n",
    "               'reg_lambda': 0.3242286463210283,\n",
    "               'subsample': 0.9433911589913944,\n",
    "               'random_strength': 22.4849972385133,\n",
    "               'depth': 8,\n",
    "               'min_data_in_leaf': 4,\n",
    "               'leaf_estimation_iterations': 8,\n",
    "               'task_type':\"GPU\",\n",
    "               'bootstrap_type':'Poisson',\n",
    "               'verbose' : 1,\n",
    "               'early_stopping_rounds' : 200,\n",
    "               'eval_metric' : 'AUC'}"
   ]
  },
  {
   "cell_type": "code",
   "execution_count": 54,
   "metadata": {
    "ExecuteTime": {
     "end_time": "2021-11-17T15:59:46.643418Z",
     "start_time": "2021-11-17T15:59:46.088013Z"
    }
   },
   "outputs": [],
   "source": [
    "from xgboost import XGBClassifier\n",
    "from lightgbm import LGBMClassifier\n",
    "from catboost import CatBoostClassifier\n",
    "\n",
    "lgbm = LGBMClassifier(**lgb_params)\n",
    "\n",
    "xgb = XGBClassifier(**xgb_params)\n",
    "\n",
    "cat = CatBoostClassifier(**cat_params)"
   ]
  },
  {
   "cell_type": "code",
   "execution_count": 55,
   "metadata": {
    "ExecuteTime": {
     "end_time": "2021-11-17T15:59:47.372393Z",
     "start_time": "2021-11-17T15:59:47.358415Z"
    }
   },
   "outputs": [],
   "source": [
    "index_x = []\n",
    "index_y = []\n",
    "index = []\n",
    "i=0\n",
    "for c in train_x.columns:\n",
    "    index.append(i)\n",
    "    if \"_x\" not in c and \"_y\" not in c:\n",
    "        index_x.append(i)\n",
    "        index_y.append(i)\n",
    "    if \"_x\" in c:\n",
    "        index_x.append(i)\n",
    "        \n",
    "    if \"_y\" in c:\n",
    "        index_y.append(i)\n",
    "    i +=1"
   ]
  },
  {
   "cell_type": "code",
   "execution_count": null,
   "metadata": {
    "ExecuteTime": {
     "end_time": "2021-10-22T07:38:32.711327Z",
     "start_time": "2021-10-22T07:38:32.680329Z"
    }
   },
   "outputs": [],
   "source": []
  },
  {
   "cell_type": "code",
   "execution_count": 56,
   "metadata": {
    "ExecuteTime": {
     "end_time": "2021-11-17T15:59:48.450770Z",
     "start_time": "2021-11-17T15:59:48.133937Z"
    }
   },
   "outputs": [],
   "source": [
    "from sklearn import model_selection\n",
    "from sklearn.linear_model import LogisticRegression\n",
    "from sklearn.neighbors import KNeighborsClassifier\n",
    "from sklearn.naive_bayes import GaussianNB \n",
    "from sklearn.ensemble import RandomForestClassifier\n",
    "from mlxtend.classifier import StackingCVClassifier,StackingClassifier\n",
    "from sklearn.pipeline import make_pipeline\n",
    "from mlxtend.feature_selection import ColumnSelector\n",
    "\n",
    "lr = LogisticRegression()\n",
    "\n",
    "pipe1 = make_pipeline(ColumnSelector(cols=index_x),\n",
    "                      lgbm)\n",
    "\n",
    "pipe2 = make_pipeline(ColumnSelector(cols=index_x),\n",
    "                      xgb)\n",
    "\n",
    "pipe3 = make_pipeline(ColumnSelector(cols=index_x),\n",
    "                      cat)\n",
    "\n",
    "pipe4 = make_pipeline(ColumnSelector(cols=index_y),\n",
    "                      lgbm)\n",
    "\n",
    "pipe5 = make_pipeline(ColumnSelector(cols=index_y),\n",
    "                      xgb)\n",
    "\n",
    "pipe6 = make_pipeline(ColumnSelector(cols=index_y),\n",
    "                      cat)\n",
    "\n",
    "pipe7 = make_pipeline(ColumnSelector(cols=index),\n",
    "                      lgbm)\n",
    "\n",
    "pipe8 = make_pipeline(ColumnSelector(cols=index),\n",
    "                      xgb)\n",
    "\n",
    "pipe9 = make_pipeline(ColumnSelector(cols=index),\n",
    "                      cat)\n",
    "\n",
    "sclf = StackingCVClassifier(classifiers=[pipe1,pipe4],\n",
    "                            use_probas=True,\n",
    "                            meta_classifier=lr)"
   ]
  },
  {
   "cell_type": "code",
   "execution_count": null,
   "metadata": {
    "ExecuteTime": {
     "end_time": "2021-11-17T15:27:58.630824Z",
     "start_time": "2021-11-17T15:24:47.922Z"
    }
   },
   "outputs": [],
   "source": [
    "scoresList = []\n",
    "for clf, label in zip([pipe2,pipe5,pipe8,sclf], \n",
    "                      ['pipe1', \n",
    "                       'pipe4','pipe7',\n",
    "                       'StackingClassifier']):\n",
    "\n",
    "    scores = model_selection.cross_val_score(clf, train_x, train_y, \n",
    "                                              cv=5, scoring='roc_auc')\n",
    "    \n",
    "    scoresList.append((scores.mean(), scores.std(), label))\n",
    "    print(\"Accuracy: %0.2f (+/- %0.2f) [%s]\" \n",
    "          % (scores.mean(), scores.std(), label))"
   ]
  },
  {
   "cell_type": "code",
   "execution_count": null,
   "metadata": {
    "ExecuteTime": {
     "end_time": "2021-11-17T15:27:58.633836Z",
     "start_time": "2021-11-17T15:24:48.017Z"
    }
   },
   "outputs": [],
   "source": [
    "scoresList"
   ]
  },
  {
   "cell_type": "code",
   "execution_count": 57,
   "metadata": {
    "ExecuteTime": {
     "end_time": "2021-11-17T16:00:15.990067Z",
     "start_time": "2021-11-17T15:59:56.017907Z"
    }
   },
   "outputs": [],
   "source": [
    "statcker = sclf.fit(train_x,train_y)"
   ]
  },
  {
   "cell_type": "code",
   "execution_count": 58,
   "metadata": {
    "ExecuteTime": {
     "end_time": "2021-11-17T16:00:16.054016Z",
     "start_time": "2021-11-17T16:00:15.992066Z"
    }
   },
   "outputs": [
    {
     "name": "stdout",
     "output_type": "stream",
     "text": [
      "accuarcy: 59.95%\n"
     ]
    }
   ],
   "source": [
    "y_preds = statcker.predict_proba(test_x)[:, 1]\n",
    "accuracy = roc_auc_score(test_y, y_preds)\n",
    "print(\"accuarcy: %.2f%%\" % (accuracy*100.0))"
   ]
  },
  {
   "cell_type": "code",
   "execution_count": 59,
   "metadata": {
    "ExecuteTime": {
     "end_time": "2021-11-17T16:00:18.704733Z",
     "start_time": "2021-11-17T16:00:16.056015Z"
    }
   },
   "outputs": [
    {
     "name": "stdout",
     "output_type": "stream",
     "text": [
      "accuarcy: 71.33%\n"
     ]
    }
   ],
   "source": [
    "y_pred_train = statcker.predict_proba(train_x)[:, 1]\n",
    "accuracy = roc_auc_score(train_y, y_pred_train)\n",
    "print(\"accuarcy: %.2f%%\" % (accuracy*100.0))"
   ]
  },
  {
   "cell_type": "code",
   "execution_count": 61,
   "metadata": {
    "ExecuteTime": {
     "end_time": "2021-11-17T16:03:52.061384Z",
     "start_time": "2021-11-17T16:03:52.048388Z"
    }
   },
   "outputs": [
    {
     "name": "stdout",
     "output_type": "stream",
     "text": [
      "accuarcy: 84.69%\n",
      "(1104, 2)\n"
     ]
    }
   ],
   "source": [
    "from sklearn.metrics import roc_auc_score,accuracy_score\n",
    "test_new = pd.DataFrame({'result':test_y,'predict':y_preds})\n",
    "a = test_new[(test_new[\"predict\"] >= 0.82)]\n",
    "pred_labels = np.rint(a['predict'])\n",
    "accuracy = accuracy_score(a['result'], pred_labels)\n",
    "print(\"accuarcy: %.2f%%\" % (accuracy*100.0))\n",
    "print(a.shape)"
   ]
  },
  {
   "cell_type": "code",
   "execution_count": 62,
   "metadata": {
    "ExecuteTime": {
     "end_time": "2021-11-17T16:03:53.103184Z",
     "start_time": "2021-11-17T16:03:53.092190Z"
    }
   },
   "outputs": [],
   "source": [
    "test2 = test.copy(deep=True)\n",
    "test2[\"result\"] = test_y\n",
    "test2['predict'] = y_preds"
   ]
  },
  {
   "cell_type": "code",
   "execution_count": null,
   "metadata": {
    "ExecuteTime": {
     "end_time": "2021-11-17T15:27:58.639819Z",
     "start_time": "2021-11-17T15:24:48.727Z"
    }
   },
   "outputs": [],
   "source": [
    "test2[(test2[\"predict\"] >= 0.82)]['pankouOdd_End_Zhong_3_y'].value_counts()"
   ]
  },
  {
   "cell_type": "code",
   "execution_count": null,
   "metadata": {
    "ExecuteTime": {
     "end_time": "2021-11-17T15:27:58.640817Z",
     "start_time": "2021-11-17T15:24:48.979Z"
    }
   },
   "outputs": [],
   "source": [
    "for i in [\"1.25\",\"1.50\"]:\n",
    "    for j in zhongList:\n",
    "        a = test2[(test2[\"predict\"] >= 0.82)]\n",
    "        a = a[(a[\"pankouOdd_End_Zhong_3Real\"] == i)]\n",
    "        a = a[(a[\"zhongbifengNew\"] == j)]\n",
    "        pred_labels = np.rint(a['predict'])\n",
    "        accuracy = accuracy_score(a['result'], pred_labels)\n",
    "        if (a.shape[0] != 0 and accuracy > 0.85):\n",
    "            print(\"accuarcy: %.2f%%\" % (accuracy*100.0),i,j)\n",
    "            print(a.shape)"
   ]
  },
  {
   "cell_type": "code",
   "execution_count": null,
   "metadata": {
    "ExecuteTime": {
     "end_time": "2021-11-17T15:27:58.641817Z",
     "start_time": "2021-11-17T15:24:49.320Z"
    }
   },
   "outputs": [],
   "source": [
    "# import joblib\n",
    "# joblib.dump(statcker, 'statcker.model')\n",
    "# lr = joblib.load('statcker.model')"
   ]
  }
 ],
 "metadata": {
  "colab": {
   "collapsed_sections": [],
   "name": "NewXG.ipynb",
   "provenance": []
  },
  "kernelspec": {
   "display_name": "Python 3",
   "language": "python",
   "name": "python3"
  },
  "language_info": {
   "codemirror_mode": {
    "name": "ipython",
    "version": 3
   },
   "file_extension": ".py",
   "mimetype": "text/x-python",
   "name": "python",
   "nbconvert_exporter": "python",
   "pygments_lexer": "ipython3",
   "version": "3.8.5"
  },
  "toc": {
   "base_numbering": 1,
   "nav_menu": {},
   "number_sections": true,
   "sideBar": true,
   "skip_h1_title": false,
   "title_cell": "Table of Contents",
   "title_sidebar": "Contents",
   "toc_cell": false,
   "toc_position": {},
   "toc_section_display": true,
   "toc_window_display": false
  }
 },
 "nbformat": 4,
 "nbformat_minor": 1
}
