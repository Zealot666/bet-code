{
 "cells": [
  {
   "cell_type": "code",
   "execution_count": 1,
   "metadata": {
    "ExecuteTime": {
     "end_time": "2021-11-07T01:28:42.718770Z",
     "start_time": "2021-11-07T01:28:40.945784Z"
    },
    "colab": {
     "base_uri": "https://localhost:8080/"
    },
    "id": "sweheA5JE1Um",
    "outputId": "3338da98-f3f9-414b-92c8-aa1c3070a18c"
   },
   "outputs": [],
   "source": [
    "import json\n",
    "import pandas as pd\n",
    "\n",
    "import pymongo\n",
    "import matplotlib as mpl\n",
    "import numpy as np\n",
    "import matplotlib.pyplot as plt"
   ]
  },
  {
   "cell_type": "code",
   "execution_count": 2,
   "metadata": {
    "ExecuteTime": {
     "end_time": "2021-11-07T01:28:42.733762Z",
     "start_time": "2021-11-07T01:28:42.720769Z"
    },
    "id": "dQ2cjdK9EdIH"
   },
   "outputs": [],
   "source": [
    "def reduce_mem_usage(df):\n",
    "    \"\"\" iterate through all the columns of a dataframe and modify the data type\n",
    "        to reduce memory usage.        \n",
    "    \"\"\"\n",
    "    start_mem = df.memory_usage().sum() / 1024**2\n",
    "    print('Memory usage of dataframe is {:.2f} MB'.format(start_mem))\n",
    "\n",
    "    for col in df.columns:\n",
    "        col_type = df[col].dtype\n",
    "        if col_type != object:\n",
    "            c_min = df[col].min()\n",
    "            c_max = df[col].max()\n",
    "            if str(col_type)[:3] == 'int':\n",
    "                if c_min > np.iinfo(np.int8).min and c_max < np.iinfo(np.int8).max:\n",
    "                    df[col] = df[col].astype(np.int8)\n",
    "                elif c_min > np.iinfo(np.int16).min and c_max < np.iinfo(np.int16).max:\n",
    "                    df[col] = df[col].astype(np.int16)\n",
    "                elif c_min > np.iinfo(np.int32).min and c_max < np.iinfo(np.int32).max:\n",
    "                    df[col] = df[col].astype(np.int32)\n",
    "                elif c_min > np.iinfo(np.int64).min and c_max < np.iinfo(np.int64).max:\n",
    "                    df[col] = df[col].astype(np.int64)\n",
    "            else:\n",
    "                df[col] = df[col].astype(np.float32)\n",
    "\n",
    "    end_mem = df.memory_usage().sum() / 1024**2\n",
    "    print('Memory usage after optimization is: {:.2f} MB'.format(end_mem))\n",
    "    print('Decreased by {:.1f}%'.format(\n",
    "        100 * (start_mem - end_mem) / start_mem))\n",
    "\n",
    "    return df"
   ]
  },
  {
   "cell_type": "code",
   "execution_count": 3,
   "metadata": {
    "ExecuteTime": {
     "end_time": "2021-11-07T01:28:42.795725Z",
     "start_time": "2021-11-07T01:28:42.735761Z"
    },
    "id": "EQ6sA0qwEdIJ"
   },
   "outputs": [],
   "source": [
    "def getGoalMid(masterGoal, guestGoal, masterMidGoal, guestMidGoal):\n",
    "    return int(masterGoal) + int(guestGoal) - int(masterMidGoal) - int(guestMidGoal)\n",
    "\n",
    "\n",
    "def removeSub(pankou):\n",
    "    pankou = pankou.replace(\"升\", \"\")\n",
    "    pankou = pankou.replace(\"降\", \"\")\n",
    "    return pankou.strip()\n",
    "\n",
    "\n",
    "def getResultOne(pankou):\n",
    "    row = 1\n",
    "    if pankou - row >= 0:\n",
    "        return 1\n",
    "    if pankou - row < 0:\n",
    "        return 0\n",
    "    \n",
    "def getType(yapanMasterStartOdd, yapanGuestStartOdd, yapanPankouStart):\n",
    "    linTypeStart = get18(yapanMasterStartOdd, yapanGuestStartOdd)\n",
    "    return str(linTypeStart) + \"_\" + str(yapanPankouStart)\n",
    "\n",
    "\n",
    "def get18(master, guest):\n",
    "    if master > guest:\n",
    "        return 18\n",
    "    if master < guest:\n",
    "        return 81\n",
    "    if master == guest:\n",
    "        return 99\n",
    "\n",
    "\n",
    "def daxiao_num(x):\n",
    "    x_list = x.split(\"/\")\n",
    "    num = 0\n",
    "    for i in x_list:\n",
    "        num += float(i)\n",
    "    return (float(num)/len(x_list))\n",
    "\n",
    "\n",
    "def realDaxiao(x, master, guest):\n",
    "    return float(x) - int(master) - int(guest)\n",
    "\n",
    "\n",
    "def shengjiang(start, end):\n",
    "    return ((end) - (start))\n",
    "\n",
    "def round2(x):\n",
    "    return round((x), 2)"
   ]
  },
  {
   "cell_type": "code",
   "execution_count": 4,
   "metadata": {
    "ExecuteTime": {
     "end_time": "2021-11-07T01:28:42.873681Z",
     "start_time": "2021-11-07T01:28:42.797725Z"
    }
   },
   "outputs": [],
   "source": [
    "def getShuiPing(x):\n",
    "    result = 11\n",
    "    if x < 0.75:\n",
    "        result = 0\n",
    "    if 0.75<= x and x<=0.85:\n",
    "        result = 1\n",
    "    if 0.85<x and x<=0.90:\n",
    "        result = 2\n",
    "    if 0.90<x and x<=0.95:\n",
    "        result = 3\n",
    "    if 0.95<x and x<=1.00:\n",
    "        result = 4\n",
    "    if 1.00<x and x<=1.08:\n",
    "        result = 5\n",
    "    if 1.08<x:\n",
    "        result = 6\n",
    "    return result\n",
    "\n",
    "def num_fea_dis(df,features):\n",
    "    for f in features:\n",
    "        nm = f+'_'+'shuiPing'\n",
    "        df[nm] = df[f].map(getShuiPing)\n",
    "    return df"
   ]
  },
  {
   "cell_type": "code",
   "execution_count": 5,
   "metadata": {
    "ExecuteTime": {
     "end_time": "2021-11-07T01:28:42.935646Z",
     "start_time": "2021-11-07T01:28:42.875680Z"
    },
    "id": "z5MN0RQYEdIK"
   },
   "outputs": [],
   "source": [
    "def fillNa(x, value):\n",
    "    if pd.isnull(x):\n",
    "        return value\n",
    "    else:\n",
    "        return x\n",
    "\n",
    "    \n",
    "def preF(test):\n",
    "    test['goalMid'] = test.apply(lambda x: getGoalMid(\n",
    "        x['masterGoal'], x['guestGoal'], x['midGuestGoal'], x['midMasterGoal']), axis=1)\n",
    "    \n",
    "    test = test[test['goalMid'] >= 0]\n",
    "\n",
    "    test['result'] = test['goalMid'].map(getResultOne)\n",
    "    \n",
    "    test['zhongbifengNew'] = test['midMasterGoal'].astype(\n",
    "        str) + \"_\" + test['midGuestGoal'].astype(str)\n",
    "\n",
    "    test[\"water_type_mid\"] =  test['masterOdd_End_Zhong_3'] + test['guestOdd_End_Zhong_3']\n",
    "    test[\"water_type_mid\"] =  test[\"water_type_mid\"].map(round2)\n",
    "    test[\"water_type_mid\"] =  test[\"water_type_mid\"].astype(str)\n",
    "\n",
    "    test['pankou_Start_Ji_3'] = test.apply(\n",
    "        lambda x: removeSub(x['pankou_Start_Ji_3']), axis=1)\n",
    "    test['pankouOdd_End_Ji_3'] = test.apply(\n",
    "        lambda x: removeSub(x['pankouOdd_End_Ji_3']), axis=1)\n",
    "\n",
    "    test['pankou_Start_Zhong_3'] = test.apply(\n",
    "        lambda x: removeSub(x['pankou_Start_Zhong_3']), axis=1)\n",
    "    test['pankouOdd_End_Zhong_3'] = test.apply(\n",
    "        lambda x: removeSub(x['pankouOdd_End_Zhong_3']), axis=1)\n",
    "\n",
    "    pankou = [\"pankou_Start_Ji_3\",\"pankouOdd_End_Ji_3\"]\n",
    "\n",
    "    for col in pankou:\n",
    "#         test[col] = test[col].map(daxiao_num)\n",
    "        test[col] = test[col].astype(str)\n",
    "\n",
    "    pankou = [\"pankouOdd_End_Zhong_3\",\"pankou_Start_Zhong_3\"]\n",
    "\n",
    "    for col in pankou:\n",
    "#         nm = col\n",
    "#         test[col] = test[col].map(daxiao_num)\n",
    "#         test[nm] = test.apply(lambda x: realDaxiao(x[col],x['midGuestGoal'],x['midMasterGoal']), axis=1)\n",
    "        test[col] = test[col].astype(str)\n",
    "\n",
    "\n",
    "    \n",
    "    fes = ['masterOdd_Start_Ji_3', 'masterOdd_End_Ji_3',\n",
    "           'masterOdd_Start_Zhong_3', 'masterOdd_End_Zhong_3']\n",
    "    \n",
    "    num_fea_dis(test, fes)\n",
    "\n",
    "    test['daxiaoTypeStart'] = test['masterOdd_Start_Ji_3_shuiPing'].astype(str) + test['pankou_Start_Ji_3'].astype(str)\n",
    "    test['daxiaoType'] = test['masterOdd_End_Ji_3_shuiPing'].astype(str) + test['pankouOdd_End_Ji_3'].astype(str)\n",
    "    test['daxiaoTypeStartMid'] = test['masterOdd_Start_Zhong_3_shuiPing'].astype(str) + test['pankou_Start_Zhong_3'].astype(str)\n",
    "    test['daxiaoTypeMid'] = test['masterOdd_End_Zhong_3_shuiPing'].astype(str) + test['pankouOdd_End_Zhong_3'].astype(str)\n",
    "    \n",
    "\n",
    "#     test['daxiaoTypeAll'] = test['daxiaoTypeMid'] + test['daxiaoTypeStartMid'] + test['daxiaoType'] + test['daxiaoTypeStart'] + test['lianShai'] + test['zhongbifengNew']\n",
    "\n",
    "#     test['daxiaoTypeMidAll'] = test['daxiaoTypeMid'] + test['daxiaoTypeStartMid'] + test['lianShai'] + test['zhongbifengNew']\n",
    "    \n",
    "    test = test.drop(['masterOdd_Start_Ji_3_shuiPing', 'masterOdd_End_Ji_3_shuiPing',\n",
    "                      'masterOdd_Start_Zhong_3_shuiPing','masterOdd_End_Zhong_3_shuiPing'], axis=1)\n",
    "    \n",
    "\n",
    "#     test = test.drop(['daxiaoTypeStart', 'daxiaoType','daxiaoTypeStartMid'], axis=1)\n",
    "\n",
    "\n",
    "    test = test.drop(columns=['masterGoal', 'guestGoal', \"goalMid\"])\n",
    "    test = test.drop(columns=['midGuestGoal', 'midMasterGoal'])\n",
    "\n",
    "    return test"
   ]
  },
  {
   "cell_type": "code",
   "execution_count": 6,
   "metadata": {
    "ExecuteTime": {
     "end_time": "2021-11-07T01:28:43.028593Z",
     "start_time": "2021-11-07T01:28:42.937645Z"
    },
    "id": "vN7FAlDIEdIO"
   },
   "outputs": [],
   "source": [
    "def getShuiPing(x):\n",
    "    result = 11\n",
    "    if x < 0.75:\n",
    "        result = 0\n",
    "    if 0.75<= x and x<=0.85:\n",
    "        result = 1\n",
    "    if 0.85<x and x<=0.90:\n",
    "        result = 2\n",
    "    if 0.90<x and x<=0.95:\n",
    "        result = 3\n",
    "    if 0.95<x and x<=1.00:\n",
    "        result = 4\n",
    "    if 1.00<x and x<=1.08:\n",
    "        result = 5\n",
    "    if 1.08<x:\n",
    "        result = 6\n",
    "    return result\n",
    "\n",
    "def num_fea_dis(df,features):\n",
    "    for f in features:\n",
    "        nm = f+'_'+'shuiPing'\n",
    "        df[nm] = df[f].map(getShuiPing)\n",
    "    return df"
   ]
  },
  {
   "cell_type": "code",
   "execution_count": 7,
   "metadata": {
    "ExecuteTime": {
     "end_time": "2021-11-07T01:28:43.105548Z",
     "start_time": "2021-11-07T01:28:43.030592Z"
    }
   },
   "outputs": [],
   "source": [
    "def getDay(x):\n",
    "    return x[:11] + \"00:00:00\""
   ]
  },
  {
   "cell_type": "code",
   "execution_count": 8,
   "metadata": {
    "ExecuteTime": {
     "end_time": "2021-11-07T01:29:10.044677Z",
     "start_time": "2021-11-07T01:28:43.108549Z"
    },
    "id": "2m0feaeSEdIQ"
   },
   "outputs": [
    {
     "name": "stdout",
     "output_type": "stream",
     "text": [
      "Memory usage of dataframe is 36.88 MB\n",
      "Memory usage after optimization is: 25.72 MB\n",
      "Decreased by 30.3%\n",
      "<class 'pandas.core.frame.DataFrame'>\n",
      "Int64Index: 254420 entries, 0 to 254419\n",
      "Data columns (total 21 columns):\n",
      " #   Column                   Non-Null Count   Dtype  \n",
      "---  ------                   --------------   -----  \n",
      " 0   lianShai                 254420 non-null  object \n",
      " 1   place                    254420 non-null  object \n",
      " 2   guestOdd_End_Ji_3        254420 non-null  float32\n",
      " 3   guestOdd_End_Zhong_3     254420 non-null  float32\n",
      " 4   guestOdd_Start_Ji_3      254420 non-null  float32\n",
      " 5   guestOdd_Start_Zhong_3   254420 non-null  float32\n",
      " 6   masterOdd_End_Ji_3       254420 non-null  float32\n",
      " 7   masterOdd_End_Zhong_3    254420 non-null  float32\n",
      " 8   masterOdd_Start_Ji_3     254420 non-null  float32\n",
      " 9   masterOdd_Start_Zhong_3  254420 non-null  float32\n",
      " 10  pankouOdd_End_Ji_3       254420 non-null  object \n",
      " 11  pankouOdd_End_Zhong_3    254420 non-null  object \n",
      " 12  pankou_Start_Ji_3        254420 non-null  object \n",
      " 13  pankou_Start_Zhong_3     254420 non-null  object \n",
      " 14  result                   254420 non-null  int64  \n",
      " 15  zhongbifengNew           254420 non-null  object \n",
      " 16  water_type_mid           254420 non-null  object \n",
      " 17  daxiaoTypeStart          254420 non-null  object \n",
      " 18  daxiaoType               254420 non-null  object \n",
      " 19  daxiaoTypeStartMid       254420 non-null  object \n",
      " 20  daxiaoTypeMid            254420 non-null  object \n",
      "dtypes: float32(8), int64(1), object(12)\n",
      "memory usage: 34.9+ MB\n"
     ]
    }
   ],
   "source": [
    "myclient = pymongo.MongoClient(\"mongodb://localhost:27017/\")\n",
    "mydb = myclient[\"soccerData\"]\n",
    "mycol = mydb[\"win007yapanv3\"]\n",
    "data_mid = pd.DataFrame(list(mycol.find()))\n",
    "data_mid = data_mid.drop(['_id','time'], axis=1)\n",
    "data_mid = data_mid.dropna()\n",
    "data_mid = reduce_mem_usage(data_mid)\n",
    "data_mid = preF(data_mid)\n",
    "data_mid.info()"
   ]
  },
  {
   "cell_type": "code",
   "execution_count": 9,
   "metadata": {
    "ExecuteTime": {
     "end_time": "2021-11-07T01:29:10.059670Z",
     "start_time": "2021-11-07T01:29:10.046676Z"
    }
   },
   "outputs": [],
   "source": [
    "pd.set_option('display.max_columns', None)"
   ]
  },
  {
   "cell_type": "code",
   "execution_count": 10,
   "metadata": {
    "ExecuteTime": {
     "end_time": "2021-11-07T01:29:44.781831Z",
     "start_time": "2021-11-07T01:29:10.061668Z"
    }
   },
   "outputs": [
    {
     "name": "stdout",
     "output_type": "stream",
     "text": [
      "Memory usage of dataframe is 50.58 MB\n",
      "Memory usage after optimization is: 35.27 MB\n",
      "Decreased by 30.3%\n",
      "<class 'pandas.core.frame.DataFrame'>\n",
      "Int64Index: 348917 entries, 0 to 348916\n",
      "Data columns (total 18 columns):\n",
      " #   Column                   Non-Null Count   Dtype  \n",
      "---  ------                   --------------   -----  \n",
      " 0   place                    348917 non-null  object \n",
      " 1   guestOdd_End_Ji_3        348917 non-null  float32\n",
      " 2   guestOdd_End_Zhong_3     348917 non-null  float32\n",
      " 3   guestOdd_Start_Ji_3      348917 non-null  float32\n",
      " 4   guestOdd_Start_Zhong_3   348917 non-null  float32\n",
      " 5   masterOdd_End_Ji_3       348917 non-null  float32\n",
      " 6   masterOdd_End_Zhong_3    348917 non-null  float32\n",
      " 7   masterOdd_Start_Ji_3     348917 non-null  float32\n",
      " 8   masterOdd_Start_Zhong_3  348917 non-null  float32\n",
      " 9   pankouOdd_End_Ji_3       348917 non-null  object \n",
      " 10  pankouOdd_End_Zhong_3    348917 non-null  object \n",
      " 11  pankou_Start_Ji_3        348917 non-null  object \n",
      " 12  pankou_Start_Zhong_3     348917 non-null  object \n",
      " 13  water_type_mid           348917 non-null  object \n",
      " 14  daxiaoTypeStart          348917 non-null  object \n",
      " 15  daxiaoType               348917 non-null  object \n",
      " 16  daxiaoTypeStartMid       348917 non-null  object \n",
      " 17  daxiaoTypeMid            348917 non-null  object \n",
      "dtypes: float32(8), object(10)\n",
      "memory usage: 39.9+ MB\n"
     ]
    }
   ],
   "source": [
    "myclient = pymongo.MongoClient(\"mongodb://localhost:27017/\")\n",
    "mydb = myclient[\"soccerData\"]\n",
    "mycol = mydb[\"midDaxiao007v3\"]\n",
    "data_da = pd.DataFrame(list(mycol.find()))\n",
    "data_da = data_da.drop(['_id','time'], axis=1)\n",
    "data_da = data_da.dropna()\n",
    "data_da = reduce_mem_usage(data_da)\n",
    "data_da = preF(data_da)\n",
    "data_da = data_da.drop(['result','lianShai','zhongbifengNew'], axis=1)\n",
    "data_da.info()"
   ]
  },
  {
   "cell_type": "code",
   "execution_count": 11,
   "metadata": {
    "ExecuteTime": {
     "end_time": "2021-11-07T01:29:48.308804Z",
     "start_time": "2021-11-07T01:29:44.783817Z"
    }
   },
   "outputs": [],
   "source": [
    "result = pd.merge(data_mid, data_da, how='left', on=['place'])\n",
    "result = result.dropna()\n",
    "result = result.drop(['place'], axis=1)"
   ]
  },
  {
   "cell_type": "code",
   "execution_count": 12,
   "metadata": {
    "ExecuteTime": {
     "end_time": "2021-11-07T01:29:48.323795Z",
     "start_time": "2021-11-07T01:29:48.312799Z"
    }
   },
   "outputs": [],
   "source": [
    "train = result"
   ]
  },
  {
   "cell_type": "code",
   "execution_count": null,
   "metadata": {},
   "outputs": [],
   "source": []
  },
  {
   "cell_type": "code",
   "execution_count": 13,
   "metadata": {
    "ExecuteTime": {
     "end_time": "2021-11-07T01:29:48.943461Z",
     "start_time": "2021-11-07T01:29:48.326793Z"
    }
   },
   "outputs": [
    {
     "name": "stdout",
     "output_type": "stream",
     "text": [
      "<class 'pandas.core.frame.DataFrame'>\n",
      "Int64Index: 222521 entries, 0 to 254428\n",
      "Data columns (total 37 columns):\n",
      " #   Column                     Non-Null Count   Dtype  \n",
      "---  ------                     --------------   -----  \n",
      " 0   lianShai                   222521 non-null  object \n",
      " 1   guestOdd_End_Ji_3_x        222521 non-null  float32\n",
      " 2   guestOdd_End_Zhong_3_x     222521 non-null  float32\n",
      " 3   guestOdd_Start_Ji_3_x      222521 non-null  float32\n",
      " 4   guestOdd_Start_Zhong_3_x   222521 non-null  float32\n",
      " 5   masterOdd_End_Ji_3_x       222521 non-null  float32\n",
      " 6   masterOdd_End_Zhong_3_x    222521 non-null  float32\n",
      " 7   masterOdd_Start_Ji_3_x     222521 non-null  float32\n",
      " 8   masterOdd_Start_Zhong_3_x  222521 non-null  float32\n",
      " 9   pankouOdd_End_Ji_3_x       222521 non-null  object \n",
      " 10  pankouOdd_End_Zhong_3_x    222521 non-null  object \n",
      " 11  pankou_Start_Ji_3_x        222521 non-null  object \n",
      " 12  pankou_Start_Zhong_3_x     222521 non-null  object \n",
      " 13  result                     222521 non-null  int64  \n",
      " 14  zhongbifengNew             222521 non-null  object \n",
      " 15  water_type_mid_x           222521 non-null  object \n",
      " 16  daxiaoTypeStart_x          222521 non-null  object \n",
      " 17  daxiaoType_x               222521 non-null  object \n",
      " 18  daxiaoTypeStartMid_x       222521 non-null  object \n",
      " 19  daxiaoTypeMid_x            222521 non-null  object \n",
      " 20  guestOdd_End_Ji_3_y        222521 non-null  float32\n",
      " 21  guestOdd_End_Zhong_3_y     222521 non-null  float32\n",
      " 22  guestOdd_Start_Ji_3_y      222521 non-null  float32\n",
      " 23  guestOdd_Start_Zhong_3_y   222521 non-null  float32\n",
      " 24  masterOdd_End_Ji_3_y       222521 non-null  float32\n",
      " 25  masterOdd_End_Zhong_3_y    222521 non-null  float32\n",
      " 26  masterOdd_Start_Ji_3_y     222521 non-null  float32\n",
      " 27  masterOdd_Start_Zhong_3_y  222521 non-null  float32\n",
      " 28  pankouOdd_End_Ji_3_y       222521 non-null  object \n",
      " 29  pankouOdd_End_Zhong_3_y    222521 non-null  object \n",
      " 30  pankou_Start_Ji_3_y        222521 non-null  object \n",
      " 31  pankou_Start_Zhong_3_y     222521 non-null  object \n",
      " 32  water_type_mid_y           222521 non-null  object \n",
      " 33  daxiaoTypeStart_y          222521 non-null  object \n",
      " 34  daxiaoType_y               222521 non-null  object \n",
      " 35  daxiaoTypeStartMid_y       222521 non-null  object \n",
      " 36  daxiaoTypeMid_y            222521 non-null  object \n",
      "dtypes: float32(16), int64(1), object(20)\n",
      "memory usage: 50.9+ MB\n"
     ]
    }
   ],
   "source": [
    "train.info()"
   ]
  },
  {
   "cell_type": "code",
   "execution_count": 14,
   "metadata": {
    "ExecuteTime": {
     "end_time": "2021-11-07T01:29:48.974447Z",
     "start_time": "2021-11-07T01:29:48.945460Z"
    }
   },
   "outputs": [],
   "source": [
    "# mycol = mydb[\"win007yapantest\"]\n",
    "# test = pd.DataFrame(list(mycol.find()))\n",
    "# test = test.drop(['_id','time'], axis=1)\n",
    "# test = test.dropna()\n",
    "# test = reduce_mem_usage(test)\n",
    "# test = preF(test)"
   ]
  },
  {
   "cell_type": "code",
   "execution_count": 15,
   "metadata": {
    "ExecuteTime": {
     "end_time": "2021-11-07T01:29:50.090805Z",
     "start_time": "2021-11-07T01:29:48.976441Z"
    }
   },
   "outputs": [
    {
     "name": "stdout",
     "output_type": "stream",
     "text": [
      "Memory usage of dataframe is 0.46 MB\n",
      "Memory usage after optimization is: 0.32 MB\n",
      "Decreased by 30.3%\n",
      "Memory usage of dataframe is 0.96 MB\n",
      "Memory usage after optimization is: 0.67 MB\n",
      "Decreased by 30.3%\n"
     ]
    }
   ],
   "source": [
    "mycol = mydb[\"win007yapantest\"]\n",
    "test = pd.DataFrame(list(mycol.find()))\n",
    "test = test.drop(['_id','time'], axis=1)\n",
    "test = test.dropna()\n",
    "test = reduce_mem_usage(test)\n",
    "test = preF(test)\n",
    "\n",
    "mycol = mydb[\"win007daxiaotest\"]\n",
    "test_da = pd.DataFrame(list(mycol.find()))\n",
    "test_da = test_da.drop(['_id','time'], axis=1)\n",
    "test_da = test_da.dropna()\n",
    "test_da = reduce_mem_usage(test_da)\n",
    "test_da = preF(test_da)\n",
    "test_da = test_da.drop(['result','lianShai','zhongbifengNew'], axis=1)\n",
    "\n",
    "test = pd.merge(test, test_da, how='left', on=['place'])\n",
    "test = test.drop(['place'], axis=1)\n",
    "test = test.dropna()"
   ]
  },
  {
   "cell_type": "code",
   "execution_count": 16,
   "metadata": {
    "ExecuteTime": {
     "end_time": "2021-11-07T01:29:50.121789Z",
     "start_time": "2021-11-07T01:29:50.092803Z"
    }
   },
   "outputs": [
    {
     "name": "stdout",
     "output_type": "stream",
     "text": [
      "<class 'pandas.core.frame.DataFrame'>\n",
      "Int64Index: 2643 entries, 1 to 3178\n",
      "Data columns (total 37 columns):\n",
      " #   Column                     Non-Null Count  Dtype  \n",
      "---  ------                     --------------  -----  \n",
      " 0   lianShai                   2643 non-null   object \n",
      " 1   guestOdd_End_Ji_3_x        2643 non-null   float32\n",
      " 2   guestOdd_End_Zhong_3_x     2643 non-null   float32\n",
      " 3   guestOdd_Start_Ji_3_x      2643 non-null   float32\n",
      " 4   guestOdd_Start_Zhong_3_x   2643 non-null   float32\n",
      " 5   masterOdd_End_Ji_3_x       2643 non-null   float32\n",
      " 6   masterOdd_End_Zhong_3_x    2643 non-null   float32\n",
      " 7   masterOdd_Start_Ji_3_x     2643 non-null   float32\n",
      " 8   masterOdd_Start_Zhong_3_x  2643 non-null   float32\n",
      " 9   pankouOdd_End_Ji_3_x       2643 non-null   object \n",
      " 10  pankouOdd_End_Zhong_3_x    2643 non-null   object \n",
      " 11  pankou_Start_Ji_3_x        2643 non-null   object \n",
      " 12  pankou_Start_Zhong_3_x     2643 non-null   object \n",
      " 13  result                     2643 non-null   int64  \n",
      " 14  zhongbifengNew             2643 non-null   object \n",
      " 15  water_type_mid_x           2643 non-null   object \n",
      " 16  daxiaoTypeStart_x          2643 non-null   object \n",
      " 17  daxiaoType_x               2643 non-null   object \n",
      " 18  daxiaoTypeStartMid_x       2643 non-null   object \n",
      " 19  daxiaoTypeMid_x            2643 non-null   object \n",
      " 20  guestOdd_End_Ji_3_y        2643 non-null   float32\n",
      " 21  guestOdd_End_Zhong_3_y     2643 non-null   float32\n",
      " 22  guestOdd_Start_Ji_3_y      2643 non-null   float32\n",
      " 23  guestOdd_Start_Zhong_3_y   2643 non-null   float32\n",
      " 24  masterOdd_End_Ji_3_y       2643 non-null   float32\n",
      " 25  masterOdd_End_Zhong_3_y    2643 non-null   float32\n",
      " 26  masterOdd_Start_Ji_3_y     2643 non-null   float32\n",
      " 27  masterOdd_Start_Zhong_3_y  2643 non-null   float32\n",
      " 28  pankouOdd_End_Ji_3_y       2643 non-null   object \n",
      " 29  pankouOdd_End_Zhong_3_y    2643 non-null   object \n",
      " 30  pankou_Start_Ji_3_y        2643 non-null   object \n",
      " 31  pankou_Start_Zhong_3_y     2643 non-null   object \n",
      " 32  water_type_mid_y           2643 non-null   object \n",
      " 33  daxiaoTypeStart_y          2643 non-null   object \n",
      " 34  daxiaoType_y               2643 non-null   object \n",
      " 35  daxiaoTypeStartMid_y       2643 non-null   object \n",
      " 36  daxiaoTypeMid_y            2643 non-null   object \n",
      "dtypes: float32(16), int64(1), object(20)\n",
      "memory usage: 619.5+ KB\n"
     ]
    }
   ],
   "source": [
    "test.info()"
   ]
  },
  {
   "cell_type": "code",
   "execution_count": 17,
   "metadata": {
    "ExecuteTime": {
     "end_time": "2021-11-07T01:29:54.005565Z",
     "start_time": "2021-11-07T01:29:50.123786Z"
    }
   },
   "outputs": [],
   "source": [
    "from sklearn.model_selection import  StratifiedKFold,KFold\n",
    "import category_encoders as ce\n",
    "import gc\n",
    "def mean_woe_target_encoder(train,test,target,col,n_splits=10):\n",
    "    folds = StratifiedKFold(n_splits)\n",
    "\n",
    "    y_oof = np.zeros(train.shape[0])\n",
    "    y_oof_2= np.zeros(train.shape[0])\n",
    "    y_test_oof = np.zeros(test.shape[0]).reshape(-1,1)\n",
    "    y_test_oof2 = np.zeros(test.shape[0]).reshape(-1,1)\n",
    "\n",
    "    splits = folds.split(train, target)\n",
    "    \n",
    "    for fold_n, (train_index, valid_index) in enumerate(splits):\n",
    "        X_train, X_valid = train[col].iloc[train_index], train[col].iloc[valid_index]\n",
    "        y_train, y_valid = target.iloc[train_index], target.iloc[valid_index]\n",
    "        clf=ce.target_encoder.TargetEncoder()\n",
    "    \n",
    "        clf.fit(X_train.values,y_train.values)    \n",
    "        y_pred_valid = clf.transform(X_valid.values)\n",
    "\n",
    "        y_oof[valid_index] = y_pred_valid.values.reshape(1,-1)\n",
    "\n",
    "        tp=(clf.transform(test[col].values)/(n_splits*1.0)).values\n",
    "        tp=tp.reshape(-1,1)\n",
    "        y_test_oof+=tp    \n",
    "    \n",
    "        del X_train, X_valid, y_train, y_valid\n",
    "        gc.collect()    \n",
    "    return y_oof,y_test_oof"
   ]
  },
  {
   "cell_type": "code",
   "execution_count": null,
   "metadata": {
    "ExecuteTime": {
     "end_time": "2021-10-17T12:01:41.415060Z",
     "start_time": "2021-10-17T12:01:41.371086Z"
    }
   },
   "outputs": [],
   "source": []
  },
  {
   "cell_type": "code",
   "execution_count": null,
   "metadata": {
    "ExecuteTime": {
     "start_time": "2021-11-07T01:28:40.996Z"
    }
   },
   "outputs": [],
   "source": [
    "train_x =  train.drop(columns=['result'])\n",
    "train_y =  train['result']\n",
    "\n",
    "test_x =  test.drop(columns=['result'])\n",
    "test_y = test['result']\n",
    "for col in train.select_dtypes(include='object').columns:\n",
    "  y_oof,y_test_oof = mean_woe_target_encoder(train_x,test_x,train_y,col,n_splits=10)\n",
    "  train_x[col] = y_oof\n",
    "  test_x[col] = y_test_oof"
   ]
  },
  {
   "cell_type": "code",
   "execution_count": null,
   "metadata": {
    "ExecuteTime": {
     "end_time": "2021-10-21T14:37:15.474790Z",
     "start_time": "2021-10-21T14:37:12.179Z"
    }
   },
   "outputs": [],
   "source": []
  },
  {
   "cell_type": "code",
   "execution_count": null,
   "metadata": {
    "ExecuteTime": {
     "end_time": "2021-10-21T14:37:15.475803Z",
     "start_time": "2021-10-21T14:37:12.488Z"
    }
   },
   "outputs": [],
   "source": []
  },
  {
   "cell_type": "code",
   "execution_count": null,
   "metadata": {
    "ExecuteTime": {
     "start_time": "2021-11-07T01:28:41.002Z"
    },
    "colab": {
     "base_uri": "https://localhost:8080/"
    },
    "id": "t6udRIjZEdIg",
    "outputId": "d432b310-9fa8-41ca-dabc-5363d79fcd2b"
   },
   "outputs": [],
   "source": [
    "from sklearn.metrics import roc_auc_score\n",
    "import lightgbm as lgb\n",
    "\n",
    "lgb_train = lgb.Dataset(train_x, train_y)\n",
    "\n",
    "# 参数设置\n",
    "params = {'num_leaves': 240, #结果对最终效果影响较大，越大值越好，太大会出现过拟合\n",
    "          'min_data_in_leaf': 30,\n",
    "          'objective': 'binary', #定义的目标函数\n",
    "          'max_depth': -1,\n",
    "          'learning_rate': 0.03,\n",
    "          \"min_sum_hessian_in_leaf\": 6,\n",
    "          \"boosting\": \"gbdt\",\n",
    "          \"feature_fraction\":  0.5992677823884304,\t#提取的特征比率\n",
    "          \"bagging_freq\": 4,\n",
    "          \"bagging_fraction\":0.7100471696361973,\n",
    "          \"bagging_seed\": 11,\n",
    "          \"lambda_l1\": 8.545500456265467e-05,\t\t\t\t#l1正则\n",
    "          'lambda_l2': 5.985747612243422e-07,\t\t#l2正则\n",
    "          \"verbosity\": -1,\n",
    "          \"nthread\": -1,\t\t#线程数量，-1表示全部线程，线程越多，运行的速度越快\n",
    "          'metric': {'binary_logloss', 'auc'},\t##评价函数选择\n",
    "          \"random_state\": 7,\t#随机数种子，可以防止每次运行的结果不一致\n",
    "          'min_child_samples': 67,\n",
    "          }\n",
    "\n",
    "y_pred = np.zeros(test_x.shape[0])\n",
    "y_pred_train = np.zeros(train_x.shape[0])\n",
    "\n",
    "folds = 2\n",
    "for i in range(folds):\n",
    "    print('Starting training...',i)\n",
    "    params['random_state'] = i + 2021\n",
    "    # 模型训练\n",
    "    gbm = lgb.train(params,\n",
    "                    lgb_train,\n",
    "                    num_boost_round=1000)\n",
    "    \n",
    "#     model = 'C:\\\\Users\\\\24525\\\\code\\\\spider\\\\test\\\\' + 'test_' + str(i) + \"_singe.txt\"\n",
    "    \n",
    "#     gbm.save_model(model)\n",
    "\n",
    "    y_pred_train += gbm.predict(train_x, num_iteration=gbm.best_iteration) / folds\n",
    "\n",
    "    # 模型预测\n",
    "    y_pred += gbm.predict(test_x, num_iteration=gbm.best_iteration) / folds\n",
    "\n",
    "accuracy = roc_auc_score(test_y, y_pred)\n",
    "print(\"accuarcy: %.2f%%\" % (accuracy*100.0))"
   ]
  },
  {
   "cell_type": "code",
   "execution_count": null,
   "metadata": {
    "ExecuteTime": {
     "start_time": "2021-11-07T01:28:41.004Z"
    },
    "scrolled": true
   },
   "outputs": [],
   "source": [
    "from sklearn.metrics import roc_auc_score,accuracy_score\n",
    "test_new = pd.DataFrame({'result':test_y,'predict':y_pred})\n",
    "a = test_new[(test_new[\"predict\"] >= 0.82)]\n",
    "pred_labels = np.rint(a['predict'])\n",
    "accuracy = accuracy_score(a['result'], pred_labels)\n",
    "print(\"accuarcy: %.2f%%\" % (accuracy*100.0))\n",
    "print(a.shape)"
   ]
  },
  {
   "cell_type": "code",
   "execution_count": null,
   "metadata": {
    "ExecuteTime": {
     "start_time": "2021-11-07T01:28:41.007Z"
    }
   },
   "outputs": [],
   "source": [
    "test_x.info()"
   ]
  },
  {
   "cell_type": "code",
   "execution_count": null,
   "metadata": {
    "ExecuteTime": {
     "start_time": "2021-11-07T01:28:41.010Z"
    }
   },
   "outputs": [],
   "source": [
    "test2 = test.copy(deep=True)\n",
    "test2[\"result\"] = test_y\n",
    "test2['predict'] = y_pred"
   ]
  },
  {
   "cell_type": "code",
   "execution_count": null,
   "metadata": {
    "ExecuteTime": {
     "start_time": "2021-11-07T01:28:41.014Z"
    }
   },
   "outputs": [],
   "source": [
    "test2[(test2[\"predict\"] >= 0.82)]['pankouOdd_End_Zhong_3_y'].value_counts()"
   ]
  },
  {
   "cell_type": "code",
   "execution_count": null,
   "metadata": {
    "ExecuteTime": {
     "start_time": "2021-11-07T01:28:41.016Z"
    }
   },
   "outputs": [],
   "source": [
    "for i in [\"平手\",\"平手/半球\",\"半球\",\"受让平手/半球\",\"受让半球\"]:\n",
    "    a = test2[(test2[\"predict\"] >= 0.82)]\n",
    "    a = a[(a[\"pankouOdd_End_Zhong_3_x\"] == i)]\n",
    "    pred_labels = np.rint(a['predict'])\n",
    "    accuracy = accuracy_score(a['result'], pred_labels)\n",
    "    print(\"accuarcy: %.2f%%\" % (accuracy*100.0),i)\n",
    "    print(a.shape)"
   ]
  },
  {
   "cell_type": "code",
   "execution_count": null,
   "metadata": {
    "ExecuteTime": {
     "start_time": "2021-11-07T01:28:41.019Z"
    }
   },
   "outputs": [],
   "source": [
    "for i in [\"1\",\"2\",\"3\",\"4\"]:\n",
    "    a = test2[(test2[\"predict\"] >= 0.85)]\n",
    "    a = a[(a[\"pankouOdd_End_Zhong_3_y\"] == i)]\n",
    "    pred_labels = np.rint(a['predict'])\n",
    "    accuracy = accuracy_score(a['result'], pred_labels)\n",
    "    print(\"accuarcy: %.2f%%\" % (accuracy*100.0),i)\n",
    "    print(a.shape)"
   ]
  },
  {
   "cell_type": "code",
   "execution_count": null,
   "metadata": {
    "ExecuteTime": {
     "start_time": "2021-11-07T01:28:41.027Z"
    }
   },
   "outputs": [],
   "source": [
    "for i in [\"1/1.5\",\"2/2.5\",\"3/3.5\",\"4/4.5\"]:\n",
    "    a = test2[(test2[\"predict\"] >= 0.85)]\n",
    "    a = a[(a[\"pankouOdd_End_Zhong_3_y\"] == i)]\n",
    "    pred_labels = np.rint(a['predict'])\n",
    "    accuracy = accuracy_score(a['result'], pred_labels)\n",
    "    print(\"accuarcy: %.2f%%\" % (accuracy*100.0),i)\n",
    "    print(a.shape)"
   ]
  },
  {
   "cell_type": "code",
   "execution_count": null,
   "metadata": {
    "ExecuteTime": {
     "start_time": "2021-11-07T01:28:41.030Z"
    }
   },
   "outputs": [],
   "source": [
    "for i in [\"1.5\",\"2.5\",\"3.5\",\"4.5\",\"5.5\"]:\n",
    "        a = test2[(test2[\"predict\"] >= 0.85)]\n",
    "        a = a[(a[\"pankouOdd_End_Zhong_3_y\"] == i)]\n",
    "        pred_labels = np.rint(a['predict'])\n",
    "        accuracy = accuracy_score(a['result'], pred_labels)\n",
    "        print(\"accuarcy: %.2f%%\" % (accuracy*100.0),i)\n",
    "        print(a.shape)"
   ]
  },
  {
   "cell_type": "code",
   "execution_count": null,
   "metadata": {
    "ExecuteTime": {
     "start_time": "2021-11-07T01:28:41.035Z"
    }
   },
   "outputs": [],
   "source": [
    "for i in [\"1.5/2\",\"2.5/3\",\"3.5/4\",\"4/4.5\"]:\n",
    "    a = test2[(test2[\"predict\"] >= 0.85)]\n",
    "    a = a[(a[\"pankouOdd_End_Zhong_3_y\"] == i)]\n",
    "    pred_labels = np.rint(a['predict'])\n",
    "    accuracy = accuracy_score(a['result'], pred_labels)\n",
    "    print(\"accuarcy: %.2f%%\" % (accuracy*100.0),i)\n",
    "    print(a.shape)"
   ]
  },
  {
   "cell_type": "markdown",
   "metadata": {
    "ExecuteTime": {
     "end_time": "2021-10-17T13:44:15.447112Z",
     "start_time": "2021-10-17T13:44:15.439117Z"
    }
   },
   "source": [
    "from sklearn.linear_model import LogisticRegression\n",
    "\n",
    "linear_regression = LinearRegression()"
   ]
  },
  {
   "cell_type": "code",
   "execution_count": null,
   "metadata": {
    "ExecuteTime": {
     "start_time": "2021-11-07T01:28:41.039Z"
    }
   },
   "outputs": [],
   "source": [
    "fig, ax = plt.subplots(figsize=(10,10))\n",
    "lgb.plot_importance(gbm, max_num_features=60, height=0.5, ax=ax)\n",
    "plt.show()"
   ]
  },
  {
   "cell_type": "code",
   "execution_count": null,
   "metadata": {
    "ExecuteTime": {
     "start_time": "2021-11-07T01:28:41.042Z"
    }
   },
   "outputs": [],
   "source": [
    "stop"
   ]
  },
  {
   "cell_type": "code",
   "execution_count": null,
   "metadata": {
    "ExecuteTime": {
     "start_time": "2021-11-07T01:28:41.045Z"
    },
    "colab": {
     "base_uri": "https://localhost:8080/"
    },
    "id": "A867lIczEdIi",
    "outputId": "fe128cf3-a6d5-40d9-a372-6af3a61f6f8e"
   },
   "outputs": [],
   "source": [
    "import lightgbm as lgb\n",
    "from sklearn.metrics import roc_auc_score,accuracy_score\n",
    "from sklearn.model_selection import StratifiedKFold\n",
    "import gc\n",
    "X = train_x\n",
    "y = train_y\n",
    "# del train_x,train_y\n",
    "# gc.collect()\n",
    "\n",
    "\n",
    "params = {'num_leaves': 240,  # 结果对最终效果影响较大，越大值越好，太大会出现过拟合\n",
    "          'min_data_in_leaf': 30,\n",
    "          'objective': 'binary',  # 定义的目标函数\n",
    "          'max_depth': -1,\n",
    "          'learning_rate': 0.03,\n",
    "          \"min_sum_hessian_in_leaf\": 6,\n",
    "          \"boosting\": \"gbdt\",\n",
    "          \"feature_fraction\":  0.5992677823884304,  # 提取的特征比率\n",
    "          \"bagging_freq\": 4,\n",
    "          \"bagging_fraction\": 0.7100471696361973,\n",
    "          \"bagging_seed\": 11,\n",
    "          \"lambda_l1\": 8.545500456265467e-05,  # l1正则\n",
    "          'lambda_l2': 5.985747612243422e-07,  # l2正则\n",
    "          \"verbosity\": -1,\n",
    "          \"nthread\": -1,  # 线程数量，-1表示全部线程，线程越多，运行的速度越快\n",
    "          'metric': {'auc'},  # 评价函数选择\n",
    "          \"random_state\": 2019,  # 随机数种子，可以防止每次运行的结果不一致\n",
    "          # 'device': 'gpu' ##如果安装的事gpu版本的lightgbm,可以加快运算\n",
    "          'min_child_samples': 67\n",
    "          }\n",
    "\n",
    "NFOLDS = 5\n",
    "folds = StratifiedKFold(n_splits=NFOLDS)\n",
    "\n",
    "columns = X.columns\n",
    "splits = folds.split(X, y)\n",
    "y_preds = np.zeros(test_x.shape[0])\n",
    "y_preds_train  = np.zeros(train_x.shape[0])\n",
    "score = 0\n",
    "\n",
    "feature_importances = pd.DataFrame()\n",
    "feature_importances['feature'] = columns\n",
    "\n",
    "for fold_n, (train_index, valid_index) in enumerate(splits):\n",
    "    X_train, X_valid = X[columns].iloc[train_index], X[columns].iloc[valid_index]\n",
    "    y_train, y_valid = y.iloc[train_index], y.iloc[valid_index]\n",
    "\n",
    "    dtrain = lgb.Dataset(X_train, label=y_train)\n",
    "    dvalid = lgb.Dataset(X_valid, label=y_valid)\n",
    "\n",
    "    clf = lgb.train(params, dtrain, 1000, valid_sets=[\n",
    "                    dtrain, dvalid], verbose_eval=200, early_stopping_rounds=300)\n",
    "\n",
    "    feature_importances[f'fold_{fold_n + 1}'] = clf.feature_importance()\n",
    "\n",
    "    y_pred_valid = clf.predict(X_valid)\n",
    "    print(y_pred_valid)\n",
    "    print(f\"Fold {fold_n + 1} | AUC: {roc_auc_score(y_valid, y_pred_valid)}\")\n",
    "\n",
    "    score += roc_auc_score(y_valid, y_pred_valid) / NFOLDS\n",
    "    y_preds += clf.predict(test_x) / NFOLDS\n",
    "    \n",
    "    y_pred_valid = clf.predict(X_valid)\n",
    "    y_preds_train[valid_index] = y_pred_valid\n",
    "    \n",
    "    del X_train, X_valid, y_train, y_valid\n",
    "    gc.collect()\n",
    "    \n",
    "print(f\"\\nMean AUC = {score}\")\n",
    "print(f\"Out of folds AUC = {roc_auc_score(y, y_preds_train)}\")"
   ]
  },
  {
   "cell_type": "code",
   "execution_count": null,
   "metadata": {
    "ExecuteTime": {
     "start_time": "2021-11-07T01:28:41.050Z"
    }
   },
   "outputs": [],
   "source": [
    "from sklearn.metrics import roc_auc_score,accuracy_score\n",
    "test_new = pd.DataFrame({'result':test_y,'predict':y_preds})\n",
    "a = test_new[(test_new[\"predict\"] >= 0.82)]\n",
    "pred_labels = np.rint(a['predict'])\n",
    "accuracy = accuracy_score(a['result'], pred_labels)\n",
    "print(\"accuarcy: %.2f%%\" % (accuracy*100.0))\n",
    "print(a.shape)"
   ]
  },
  {
   "cell_type": "code",
   "execution_count": null,
   "metadata": {
    "ExecuteTime": {
     "end_time": "2021-10-22T00:29:23.376386Z",
     "start_time": "2021-10-22T00:29:23.174931Z"
    }
   },
   "outputs": [],
   "source": []
  },
  {
   "cell_type": "code",
   "execution_count": null,
   "metadata": {
    "ExecuteTime": {
     "end_time": "2021-10-22T00:29:24.020793Z",
     "start_time": "2021-10-22T00:29:23.632989Z"
    }
   },
   "outputs": [],
   "source": []
  },
  {
   "cell_type": "code",
   "execution_count": null,
   "metadata": {
    "ExecuteTime": {
     "end_time": "2021-10-22T06:28:21.649355Z",
     "start_time": "2021-10-22T06:28:21.603368Z"
    }
   },
   "outputs": [],
   "source": []
  },
  {
   "cell_type": "code",
   "execution_count": null,
   "metadata": {
    "ExecuteTime": {
     "end_time": "2021-10-22T00:29:25.735638Z",
     "start_time": "2021-10-22T00:29:24.980897Z"
    }
   },
   "outputs": [],
   "source": []
  },
  {
   "cell_type": "code",
   "execution_count": null,
   "metadata": {
    "ExecuteTime": {
     "start_time": "2021-11-07T01:28:41.062Z"
    },
    "colab": {
     "base_uri": "https://localhost:8080/",
     "height": 953
    },
    "id": "xicUPt9ZEdIi",
    "outputId": "802b6bc7-0c1f-4a6d-8ce3-a757205632b8"
   },
   "outputs": [],
   "source": [
    "# import seaborn as sns\n",
    "# feature_importance_gain=pd.DataFrame()\n",
    "# feature_importance_gain['feature']=columns\n",
    "# feature_importance_gain['fold_1']=clf.feature_importance(importance_type='gain')\n",
    "# feature_importance_gain['average'] = feature_importances[[f'fold_{fold_n + 1}' for fold_n in range(1)]].mean(axis=1)\n",
    "# plt.figure(figsize=(16, 16))\n",
    "# sns.barplot(data=feature_importance_gain.sort_values(by='average', ascending=False).head(50), x='average', y='feature');\n",
    "# plt.title('100 TOP feature importance over {} folds average'.format(folds.n_splits));"
   ]
  },
  {
   "cell_type": "code",
   "execution_count": null,
   "metadata": {
    "ExecuteTime": {
     "start_time": "2021-11-07T01:28:41.065Z"
    }
   },
   "outputs": [],
   "source": [
    "test2 = test.copy(deep=True)\n",
    "test2[\"result\"] = test_y\n",
    "test2['predict'] = y_preds"
   ]
  },
  {
   "cell_type": "code",
   "execution_count": null,
   "metadata": {
    "ExecuteTime": {
     "start_time": "2021-11-07T01:28:41.068Z"
    }
   },
   "outputs": [],
   "source": [
    "for i in [\"1.5\",\"2.5\",\"3.5\",\"4.5\"]:\n",
    "    a = test2[(test2[\"predict\"] >= 0.82)]\n",
    "    a = a[(a[\"pankouOdd_End_Zhong_3_y\"] == i)]\n",
    "    pred_labels = np.rint(a['predict'])\n",
    "    accuracy = accuracy_score(a['result'], pred_labels)\n",
    "    print(\"accuarcy: %.2f%%\" % (accuracy*100.0),i)\n",
    "    print(a.shape)"
   ]
  },
  {
   "cell_type": "code",
   "execution_count": null,
   "metadata": {
    "ExecuteTime": {
     "start_time": "2021-11-07T01:28:41.071Z"
    },
    "id": "uh55l3HyEdIi"
   },
   "outputs": [],
   "source": [
    "# import seaborn as sns\n",
    "# sns.set()\n",
    "\n",
    "# import sweetviz as sv\n",
    "# # 可以选择目标特征\n",
    "# my_report = sv.analyze(train, target_feat ='result')\n",
    "# my_report.show_html()"
   ]
  },
  {
   "cell_type": "code",
   "execution_count": null,
   "metadata": {
    "ExecuteTime": {
     "end_time": "2021-09-19T10:57:59.677256Z",
     "start_time": "2021-09-19T10:57:59.647275Z"
    }
   },
   "outputs": [],
   "source": []
  },
  {
   "cell_type": "code",
   "execution_count": null,
   "metadata": {
    "ExecuteTime": {
     "start_time": "2021-11-07T01:28:41.076Z"
    },
    "colab": {
     "base_uri": "https://localhost:8080/"
    },
    "id": "8zSjBu_6EdIj",
    "outputId": "81692c28-e759-47b2-a248-7e1e880b2636"
   },
   "outputs": [],
   "source": [
    "new_featurs = [_f for _f, _score, _ in feature_scores if _score > 0]\n",
    "test_x = test_x[new_featurs]\n",
    "train_x = train_x[new_featurs]"
   ]
  },
  {
   "cell_type": "code",
   "execution_count": null,
   "metadata": {
    "ExecuteTime": {
     "start_time": "2021-11-07T01:28:41.078Z"
    }
   },
   "outputs": [],
   "source": [
    "import pandas as pd\n",
    "import numpy as np\n",
    "from sklearn.metrics import roc_auc_score\n",
    "from sklearn.model_selection import KFold\n",
    "import time\n",
    "from lightgbm import LGBMClassifier\n",
    "import lightgbm as lgb\n",
    "\n",
    "import matplotlib.pyplot as plt\n",
    "import matplotlib.gridspec as gridspec\n",
    "import seaborn as sns\n",
    "%matplotlib inline\n",
    "\n",
    "import warnings\n",
    "warnings.simplefilter('ignore', UserWarning)\n",
    "\n",
    "def get_feature_importances(data, shuffle, seed=None):\n",
    "    # Gather real features\n",
    "    train_features = [f for f in data if f not in ['result']]\n",
    "    # Go over fold and keep track of CV score (train and valid) and feature importances\n",
    "    \n",
    "    # Shuffle target if required\n",
    "    y = data['result'].copy()\n",
    "    if shuffle:\n",
    "        # Here you could as well use a binomial distribution\n",
    "        y = data['result'].copy().sample(frac=1.0)\n",
    "    \n",
    "    # Fit LightGBM in RF mode, yes it's quicker than sklearn RandomForest\n",
    "    dtrain = lgb.Dataset(data[train_features], y, free_raw_data=False, silent=True)\n",
    "    lgb_params = {\n",
    "        'objective': 'binary',\n",
    "        'boosting_type': 'rf',\n",
    "        'subsample': 0.623,\n",
    "        'colsample_bytree': 0.7,\n",
    "        'num_leaves': 127,\n",
    "        'max_depth': 8,\n",
    "        'seed': seed,\n",
    "        'bagging_freq': 1,\n",
    "        'n_jobs': 4\n",
    "    }\n",
    "    \n",
    "    # Fit the model\n",
    "    clf = lgb.train(params=lgb_params, train_set=dtrain, num_boost_round=200)\n",
    "\n",
    "    # Get feature importances\n",
    "    imp_df = pd.DataFrame()\n",
    "    imp_df[\"feature\"] = list(train_features)\n",
    "    imp_df[\"importance_gain\"] = clf.feature_importance(importance_type='gain')\n",
    "    imp_df[\"importance_split\"] = clf.feature_importance(importance_type='split')\n",
    "    imp_df['trn_score'] = roc_auc_score(y, clf.predict(data[train_features]))\n",
    "    \n",
    "    return imp_df"
   ]
  },
  {
   "cell_type": "code",
   "execution_count": null,
   "metadata": {
    "ExecuteTime": {
     "start_time": "2021-11-07T01:28:41.082Z"
    }
   },
   "outputs": [],
   "source": [
    "# Seed the unexpected randomness of this world\n",
    "np.random.seed(123)\n",
    "# Get the actual importance, i.e. without shuffling\n",
    "actual_imp_df = get_feature_importances(data=train, shuffle=False) "
   ]
  },
  {
   "cell_type": "code",
   "execution_count": null,
   "metadata": {
    "ExecuteTime": {
     "start_time": "2021-11-07T01:28:41.085Z"
    }
   },
   "outputs": [],
   "source": [
    "null_imp_df = pd.DataFrame()\n",
    "nb_runs = 80\n",
    "import time\n",
    "start = time.time()\n",
    "dsp = ''\n",
    "for i in range(nb_runs):\n",
    "    # Get current run importances\n",
    "    imp_df = get_feature_importances(data=train, shuffle=True)\n",
    "    imp_df['run'] = i + 1 \n",
    "    # Concat the latest importances with the old ones\n",
    "    null_imp_df = pd.concat([null_imp_df, imp_df], axis=0)\n",
    "    # Erase previous message\n",
    "    for l in range(len(dsp)):\n",
    "        print('\\b', end='', flush=True)\n",
    "    # Display current run and time used\n",
    "    spent = (time.time() - start) / 60\n",
    "    dsp = 'Done with %4d of %4d (Spent %5.1f min)' % (i + 1, nb_runs, spent)\n",
    "    print(dsp, end='', flush=True)"
   ]
  },
  {
   "cell_type": "code",
   "execution_count": null,
   "metadata": {
    "ExecuteTime": {
     "start_time": "2021-11-07T01:28:41.088Z"
    }
   },
   "outputs": [],
   "source": [
    "feature_scores = []\n",
    "for _f in actual_imp_df['feature'].unique():\n",
    "    f_null_imps_gain = null_imp_df.loc[null_imp_df['feature'] == _f, 'importance_gain'].values\n",
    "    f_act_imps_gain = actual_imp_df.loc[actual_imp_df['feature'] == _f, 'importance_gain'].mean()\n",
    "    gain_score = np.log(1e-10 + f_act_imps_gain / (1 + np.percentile(f_null_imps_gain, 75)))  # Avoid didvide by zero\n",
    "    \n",
    "    f_null_imps_split = null_imp_df.loc[null_imp_df['feature'] == _f, 'importance_split'].values\n",
    "    f_act_imps_split = actual_imp_df.loc[actual_imp_df['feature'] == _f, 'importance_split'].mean()\n",
    "    split_score = np.log(1e-10 + f_act_imps_split / (1 + np.percentile(f_null_imps_split, 75)))  # Avoid didvide by zero\n",
    "    \n",
    "    feature_scores.append((_f, split_score, gain_score))\n",
    " \n",
    "scores_df = pd.DataFrame(feature_scores, columns=['feature', 'split_score', 'gain_score'])"
   ]
  },
  {
   "cell_type": "code",
   "execution_count": null,
   "metadata": {
    "ExecuteTime": {
     "end_time": "2021-09-19T12:12:59.700049Z",
     "start_time": "2021-09-19T12:04:29.374Z"
    }
   },
   "outputs": [],
   "source": []
  },
  {
   "cell_type": "code",
   "execution_count": null,
   "metadata": {
    "ExecuteTime": {
     "start_time": "2021-11-07T01:28:41.092Z"
    }
   },
   "outputs": [],
   "source": [
    "feature_scores = []\n",
    "for _f in actual_imp_df['feature'].unique():\n",
    "    f_null_imps_gain = null_imp_df.loc[null_imp_df['feature'] == _f, 'importance_gain'].values\n",
    "    f_act_imps_gain = actual_imp_df.loc[actual_imp_df['feature'] == _f, 'importance_gain'].mean()\n",
    "    gain_score = np.log(1e-10 + f_act_imps_gain / (1 + np.percentile(f_null_imps_gain, 75)))  # Avoid didvide by zero\n",
    "    f_null_imps_split = null_imp_df.loc[null_imp_df['feature'] == _f, 'importance_split'].values\n",
    "    f_act_imps_split = actual_imp_df.loc[actual_imp_df['feature'] == _f, 'importance_split'].mean()\n",
    "    split_score = np.log(1e-10 + f_act_imps_split / (1 + np.percentile(f_null_imps_split, 75)))  # Avoid didvide by zero\n",
    "    feature_scores.append((_f, split_score, gain_score))\n",
    "\n",
    "scores_df = pd.DataFrame(feature_scores, columns=['feature', 'split_score', 'gain_score'])\n",
    "\n",
    "plt.figure(figsize=(16, 16))\n",
    "gs = gridspec.GridSpec(1, 2)\n",
    "# Plot Split importances\n",
    "ax = plt.subplot(gs[0, 0])\n",
    "sns.barplot(x='split_score', y='feature', data=scores_df.sort_values('split_score', ascending=False).iloc[0:70], ax=ax)\n",
    "ax.set_title('Feature scores wrt split importances', fontweight='bold', fontsize=14)\n",
    "# Plot Gain importances\n",
    "ax = plt.subplot(gs[0, 1])\n",
    "sns.barplot(x='gain_score', y='feature', data=scores_df.sort_values('gain_score', ascending=False).iloc[0:70], ax=ax)\n",
    "ax.set_title('Feature scores wrt gain importances', fontweight='bold', fontsize=14)\n",
    "plt.tight_layout()"
   ]
  },
  {
   "cell_type": "code",
   "execution_count": null,
   "metadata": {
    "ExecuteTime": {
     "end_time": "2021-09-19T12:12:59.711043Z",
     "start_time": "2021-09-19T12:04:29.377Z"
    }
   },
   "outputs": [],
   "source": []
  },
  {
   "cell_type": "code",
   "execution_count": null,
   "metadata": {
    "ExecuteTime": {
     "start_time": "2021-11-07T01:28:41.097Z"
    }
   },
   "outputs": [],
   "source": [
    "# def score_feature_selection(df=None, train_features=None, target=None):\n",
    "#     # Fit LightGBM \n",
    "#     dtrain = lgb.Dataset(df[train_features], target, free_raw_data=False, silent=True)\n",
    "#     lgb_params = {\n",
    "#         'objective': 'binary',\n",
    "#         'boosting_type': 'gbdt',\n",
    "#         'learning_rate': .1,\n",
    "#         'subsample': 0.8,\n",
    "#         'colsample_bytree': 0.8,\n",
    "#         'num_leaves': 31,\n",
    "#         'max_depth': -1,\n",
    "#         'seed': 13,\n",
    "#         'n_jobs': 4,\n",
    "#         'min_split_gain': .00001,\n",
    "#         'reg_alpha': .00001,\n",
    "#         'reg_lambda': .00001,\n",
    "#         'metric': 'auc'\n",
    "#     }\n",
    "#     # Fit the model\n",
    "#     hist = lgb.cv(\n",
    "#         params=lgb_params, \n",
    "#         train_set=dtrain, \n",
    "#         num_boost_round=2000,\n",
    "#         nfold=5,\n",
    "#         stratified=True,\n",
    "#         shuffle=True,\n",
    "#         early_stopping_rounds=50,\n",
    "#         verbose_eval=0,\n",
    "#         seed=17)\n",
    "#     # Return the last mean / std values \n",
    "#     return hist['auc-mean'][-1], hist['auc-stdv'][-1]\n",
    "\n",
    "# # train.columns = test.columns\n",
    "# # features = [f for f in train.columns if f not in ['result']]\n",
    "# # score_feature_selection(df=train[features], train_features=features, target=train['result'])\n",
    "\n",
    "# categorical_feats = cat_features\n",
    "\n",
    "# for threshold in [0, 10, 20, 30 , 40, 50 ,60 , 70, 80 , 90, 95, 99]:\n",
    "#     split_feats     = [_f for _f, _score, _ in correlation_scores if _score >= threshold]\n",
    "#     # split_cat_feats = [_f for _f, _score, _ in correlation_scores if (_score >= threshold) & (_f in categorical_feats)]\n",
    "    \n",
    "#     gain_feats     = [_f for _f, _, _score in correlation_scores if _score >= threshold]\n",
    "#     # gain_cat_feats = [_f for _f, _, _score in correlation_scores if (_score >= threshold) & (_f in categorical_feats)]\n",
    "                                                                                             \n",
    "#     print('Results for threshold %3d' % threshold)\n",
    "#     split_results = score_feature_selection(df=train, train_features=split_feats, target=train['result'])\n",
    "#     print('\\t SPLIT : %.6f +/- %.6f' % (split_results[0], split_results[1]))\n",
    "#     gain_results = score_feature_selection(df=train, train_features=gain_feats, target=train['result'])\n",
    "#     print('\\t GAIN  : %.6f +/- %.6f' % (gain_results[0], gain_results[1]))"
   ]
  },
  {
   "cell_type": "code",
   "execution_count": null,
   "metadata": {
    "ExecuteTime": {
     "start_time": "2021-11-07T01:28:41.099Z"
    }
   },
   "outputs": [],
   "source": [
    "from sklearn.preprocessing import StandardScaler\n",
    "from sklearn.metrics import mean_squared_error\n",
    "from sklearn.model_selection import KFold\n",
    "from tensorflow import keras\n",
    "from tensorflow.keras import layers"
   ]
  },
  {
   "cell_type": "code",
   "execution_count": null,
   "metadata": {
    "ExecuteTime": {
     "start_time": "2021-11-07T01:28:41.101Z"
    }
   },
   "outputs": [],
   "source": [
    "for c in train_x.columns:\n",
    "    prep = StandardScaler()\n",
    "    train_x[c] = prep.fit_transform(train_x[[c]])\n",
    "    test_x[c] = prep.fit_transform(test_x[[c]])"
   ]
  },
  {
   "cell_type": "code",
   "execution_count": null,
   "metadata": {
    "ExecuteTime": {
     "start_time": "2021-11-07T01:28:41.103Z"
    }
   },
   "outputs": [],
   "source": [
    "test_x.head()"
   ]
  },
  {
   "cell_type": "code",
   "execution_count": null,
   "metadata": {
    "ExecuteTime": {
     "start_time": "2021-11-07T01:28:41.106Z"
    }
   },
   "outputs": [],
   "source": [
    "lgb_params = {\n",
    "    'objective': 'binary',\n",
    "    'n_estimators': 20000,\n",
    "    'random_state': 42,\n",
    "    'learning_rate': 8e-3,\n",
    "    'subsample': 0.6,\n",
    "    'subsample_freq': 1,\n",
    "    'colsample_bytree': 0.4,\n",
    "    'reg_alpha': 10.0,\n",
    "    'reg_lambda': 1e-1,\n",
    "    'min_child_weight': 256,\n",
    "    'min_child_samples': 20,\n",
    "}\n",
    "\n",
    "lgb_params = {'num_leaves': 240,  # 结果对最终效果影响较大，越大值越好，太大会出现过拟合\n",
    "          'min_data_in_leaf': 30,\n",
    "          'objective': 'binary',  # 定义的目标函数\n",
    "          'max_depth': -1,\n",
    "          'learning_rate': 0.03,\n",
    "          \"min_sum_hessian_in_leaf\": 6,\n",
    "          \"boosting\": \"gbdt\",\n",
    "          \"feature_fraction\":  0.5992677823884304,  # 提取的特征比率\n",
    "          \"bagging_freq\": 4,\n",
    "          \"bagging_fraction\": 0.7100471696361973,\n",
    "          \"bagging_seed\": 11,\n",
    "          \"lambda_l1\": 8.545500456265467e-05,  # l1正则\n",
    "          'lambda_l2': 5.985747612243422e-07,  # l2正则\n",
    "          \"verbosity\": -1,\n",
    "          \"nthread\": -1,  # 线程数量，-1表示全部线程，线程越多，运行的速度越快\n",
    "          \"random_state\": 2019,  # 随机数种子，可以防止每次运行的结果不一致\n",
    "          # 'device': 'gpu' ##如果安装的事gpu版本的lightgbm,可以加快运算\n",
    "          'min_child_samples': 67\n",
    "          }\n",
    "\n",
    "\n",
    "xgb_params = {'n_estimators': 10000,\n",
    "               'learning_rate': 0.03689407512484644,\n",
    "               'max_depth': 8,\n",
    "               'colsample_bytree': 0.3723914688159835,\n",
    "               'subsample': 0.780714581166012,\n",
    "               'eval_metric': 'auc',\n",
    "               'use_label_encoder': False,\n",
    "               'gamma': 0,\n",
    "               'reg_lambda': 50.0,\n",
    "               'gpu_id': 0,\n",
    "               'objective': 'binary:logistic',\n",
    "               'random_state': 42}\n",
    "\n",
    "\n",
    "cat_params = {'iterations': 17298,\n",
    "               'learning_rate': 0.03429054860458741,\n",
    "               'reg_lambda': 0.3242286463210283,\n",
    "               'subsample': 0.9433911589913944,\n",
    "               'random_strength': 22.4849972385133,\n",
    "               'depth': 8,\n",
    "               'min_data_in_leaf': 4,\n",
    "               'leaf_estimation_iterations': 8,\n",
    "               'task_type':\"GPU\",\n",
    "               'bootstrap_type':'Poisson',\n",
    "               'verbose' : 1,\n",
    "               'early_stopping_rounds' : 200,\n",
    "               'eval_metric' : 'AUC'}"
   ]
  },
  {
   "cell_type": "code",
   "execution_count": null,
   "metadata": {
    "ExecuteTime": {
     "start_time": "2021-11-07T01:28:41.109Z"
    }
   },
   "outputs": [],
   "source": [
    "from xgboost import XGBClassifier\n",
    "from lightgbm import LGBMClassifier\n",
    "from catboost import CatBoostClassifier\n",
    "\n",
    "lgbm = LGBMClassifier(**lgb_params)\n",
    "\n",
    "xgb = XGBClassifier(**xgb_params)\n",
    "\n",
    "cat = CatBoostClassifier(**cat_params)"
   ]
  },
  {
   "cell_type": "code",
   "execution_count": null,
   "metadata": {
    "ExecuteTime": {
     "start_time": "2021-11-07T01:28:41.111Z"
    }
   },
   "outputs": [],
   "source": [
    "index_x = []\n",
    "index_y = []\n",
    "index = []\n",
    "i=0\n",
    "for c in train_x.columns:\n",
    "    index.append(i)\n",
    "    if \"_x\" not in c and \"_y\" not in c:\n",
    "        index_x.append(i)\n",
    "        index_y.append(i)\n",
    "    if \"_x\" in c:\n",
    "        index_x.append(i)\n",
    "        \n",
    "    if \"_y\" in c:\n",
    "        index_y.append(i)\n",
    "    i +=1"
   ]
  },
  {
   "cell_type": "code",
   "execution_count": null,
   "metadata": {
    "ExecuteTime": {
     "end_time": "2021-10-22T07:38:32.711327Z",
     "start_time": "2021-10-22T07:38:32.680329Z"
    }
   },
   "outputs": [],
   "source": []
  },
  {
   "cell_type": "code",
   "execution_count": null,
   "metadata": {
    "ExecuteTime": {
     "start_time": "2021-11-07T01:28:41.115Z"
    }
   },
   "outputs": [],
   "source": [
    "from sklearn import model_selection\n",
    "from sklearn.linear_model import LogisticRegression\n",
    "from sklearn.neighbors import KNeighborsClassifier\n",
    "from sklearn.naive_bayes import GaussianNB \n",
    "from sklearn.ensemble import RandomForestClassifier\n",
    "from mlxtend.classifier import StackingCVClassifier,StackingClassifier\n",
    "from sklearn.pipeline import make_pipeline\n",
    "from mlxtend.feature_selection import ColumnSelector\n",
    "\n",
    "lr = LogisticRegression()\n",
    "\n",
    "pipe1 = make_pipeline(ColumnSelector(cols=index_x),\n",
    "                      lgbm)\n",
    "\n",
    "pipe2 = make_pipeline(ColumnSelector(cols=index_x),\n",
    "                      xgb)\n",
    "\n",
    "pipe3 = make_pipeline(ColumnSelector(cols=index_x),\n",
    "                      cat)\n",
    "\n",
    "pipe4 = make_pipeline(ColumnSelector(cols=index_y),\n",
    "                      lgbm)\n",
    "\n",
    "pipe5 = make_pipeline(ColumnSelector(cols=index_y),\n",
    "                      xgb)\n",
    "\n",
    "pipe6 = make_pipeline(ColumnSelector(cols=index_y),\n",
    "                      cat)\n",
    "\n",
    "pipe7 = make_pipeline(ColumnSelector(cols=index),\n",
    "                      lgbm)\n",
    "\n",
    "pipe8 = make_pipeline(ColumnSelector(cols=index),\n",
    "                      xgb)\n",
    "\n",
    "pipe9 = make_pipeline(ColumnSelector(cols=index),\n",
    "                      cat)\n",
    "\n",
    "sclf = StackingCVClassifier(classifiers=[pipe2,pipe5],\n",
    "                            use_probas=True,\n",
    "                            meta_classifier=lr)"
   ]
  },
  {
   "cell_type": "code",
   "execution_count": null,
   "metadata": {
    "ExecuteTime": {
     "start_time": "2021-11-07T01:28:41.117Z"
    }
   },
   "outputs": [],
   "source": [
    "# scoresList = []\n",
    "# for clf, label in zip([pipe1,pipe2,pipe3,pipe4,pipe5,pipe6,pipe7,pipe8,pipe9,sclf], \n",
    "#                       ['pipe1', \n",
    "#                        'pipe2', 'pipe3','pipe4','pipe5','pipe6','pipe7','pipe8','pipe9',\n",
    "#                        'StackingClassifier']):\n",
    "\n",
    "#     scores = model_selection.cross_val_score(clf, train_x, train_y, \n",
    "#                                               cv=3, scoring='roc_auc')\n",
    "    \n",
    "#     scoresList.append((scores.mean(), scores.std(), label))\n",
    "#     print(\"Accuracy: %0.2f (+/- %0.2f) [%s]\" \n",
    "#           % (scores.mean(), scores.std(), label))"
   ]
  },
  {
   "cell_type": "code",
   "execution_count": null,
   "metadata": {
    "ExecuteTime": {
     "start_time": "2021-11-07T01:28:41.120Z"
    }
   },
   "outputs": [],
   "source": [
    "scoresList = []\n",
    "for clf, label in zip([pipe2,pipe5,pipe8,sclf], \n",
    "                      ['pipe1', \n",
    "                       'pipe4','pipe7',\n",
    "                       'StackingClassifier']):\n",
    "\n",
    "    scores = model_selection.cross_val_score(clf, train_x, train_y, \n",
    "                                              cv=5, scoring='roc_auc')\n",
    "    \n",
    "    scoresList.append((scores.mean(), scores.std(), label))\n",
    "    print(\"Accuracy: %0.2f (+/- %0.2f) [%s]\" \n",
    "          % (scores.mean(), scores.std(), label))"
   ]
  },
  {
   "cell_type": "code",
   "execution_count": null,
   "metadata": {
    "ExecuteTime": {
     "start_time": "2021-11-07T01:28:41.124Z"
    }
   },
   "outputs": [],
   "source": [
    "scoresList"
   ]
  },
  {
   "cell_type": "code",
   "execution_count": null,
   "metadata": {
    "ExecuteTime": {
     "start_time": "2021-11-07T01:28:41.126Z"
    }
   },
   "outputs": [],
   "source": [
    "statcker = sclf.fit(train_x,train_y)"
   ]
  },
  {
   "cell_type": "code",
   "execution_count": null,
   "metadata": {
    "ExecuteTime": {
     "start_time": "2021-11-07T01:28:41.130Z"
    }
   },
   "outputs": [],
   "source": [
    "y_preds = statcker.predict_proba(test_x)[:, 1]\n",
    "accuracy = roc_auc_score(test_y, y_preds)\n",
    "print(\"accuarcy: %.2f%%\" % (accuracy*100.0))"
   ]
  },
  {
   "cell_type": "code",
   "execution_count": null,
   "metadata": {
    "ExecuteTime": {
     "start_time": "2021-11-07T01:28:41.132Z"
    }
   },
   "outputs": [],
   "source": [
    "y_pred_train = statcker.predict_proba(train_x)[:, 1]\n",
    "accuracy = roc_auc_score(train_y, y_pred_train)\n",
    "print(\"accuarcy: %.2f%%\" % (accuracy*100.0))"
   ]
  },
  {
   "cell_type": "code",
   "execution_count": null,
   "metadata": {
    "ExecuteTime": {
     "start_time": "2021-11-07T01:28:41.134Z"
    }
   },
   "outputs": [],
   "source": [
    "from sklearn.metrics import roc_auc_score,accuracy_score\n",
    "test_new = pd.DataFrame({'result':test_y,'predict':y_preds})\n",
    "a = test_new[(test_new[\"predict\"] >= 0.85)]\n",
    "pred_labels = np.rint(a['predict'])\n",
    "accuracy = accuracy_score(a['result'], pred_labels)\n",
    "print(\"accuarcy: %.2f%%\" % (accuracy*100.0))\n",
    "print(a.shape)"
   ]
  },
  {
   "cell_type": "code",
   "execution_count": null,
   "metadata": {
    "ExecuteTime": {
     "start_time": "2021-11-07T01:28:41.136Z"
    }
   },
   "outputs": [],
   "source": [
    "test2 = test.copy(deep=True)\n",
    "test2[\"result\"] = test_y\n",
    "test2['predict'] = y_preds"
   ]
  },
  {
   "cell_type": "code",
   "execution_count": null,
   "metadata": {
    "ExecuteTime": {
     "start_time": "2021-11-07T01:28:41.138Z"
    }
   },
   "outputs": [],
   "source": [
    "test2[(test2[\"predict\"] >= 0.82)]['pankouOdd_End_Zhong_3_y'].value_counts()"
   ]
  },
  {
   "cell_type": "code",
   "execution_count": null,
   "metadata": {
    "ExecuteTime": {
     "start_time": "2021-11-07T01:28:41.140Z"
    }
   },
   "outputs": [],
   "source": [
    "for i in [\"1\",\"2\",\"3\",\"4\",\"5\",\"6\"]:\n",
    "    a = test2[(test2[\"predict\"] >= 0.85)]\n",
    "    a = a[(a[\"pankouOdd_End_Zhong_3_y\"] == i)]\n",
    "    pred_labels = np.rint(a['predict'])\n",
    "    accuracy = accuracy_score(a['result'], pred_labels)\n",
    "    print(\"accuarcy: %.2f%%\" % (accuracy*100.0),i)\n",
    "    print(a.shape)"
   ]
  },
  {
   "cell_type": "code",
   "execution_count": null,
   "metadata": {
    "ExecuteTime": {
     "start_time": "2021-11-07T01:28:41.142Z"
    }
   },
   "outputs": [],
   "source": [
    "for i in [\"1/1.5\", \"2/2.5\", \"3/3.5\"]:\n",
    "    a = test2[(test2[\"predict\"] >= 0.85)]\n",
    "    a = a[(a[\"pankouOdd_End_Zhong_3_y\"] == i)]\n",
    "    pred_labels = np.rint(a['predict'])\n",
    "    accuracy = accuracy_score(a['result'], pred_labels)\n",
    "    print(\"accuarcy: %.2f%%\" % (accuracy*100.0), i)\n",
    "    print(a.shape)"
   ]
  },
  {
   "cell_type": "code",
   "execution_count": null,
   "metadata": {
    "ExecuteTime": {
     "start_time": "2021-11-07T01:28:41.150Z"
    }
   },
   "outputs": [],
   "source": [
    "for i in [\"1.5\",\"2.5\",\"3.5\",\"4.5\"]:\n",
    "    a = test2[(test2[\"predict\"] >= 0.85)]\n",
    "    a = a[(a[\"pankouOdd_End_Zhong_3_y\"] == i)]\n",
    "    pred_labels = np.rint(a['predict'])\n",
    "    accuracy = accuracy_score(a['result'], pred_labels)\n",
    "    print(\"accuarcy: %.2f%%\" % (accuracy*100.0),i)\n",
    "    print(a.shape)"
   ]
  },
  {
   "cell_type": "code",
   "execution_count": null,
   "metadata": {
    "ExecuteTime": {
     "start_time": "2021-11-07T01:28:41.153Z"
    }
   },
   "outputs": [],
   "source": [
    "for i in [\"1.5/2\",\"2.5/3\",\"3.5/4\",\"4.5/5\"]:\n",
    "    a = test2[(test2[\"predict\"] >= 0.85)]\n",
    "    a = a[(a[\"pankouOdd_End_Zhong_3_y\"] == i)]\n",
    "    pred_labels = np.rint(a['predict'])\n",
    "    accuracy = accuracy_score(a['result'], pred_labels)\n",
    "    print(\"accuarcy: %.2f%%\" % (accuracy*100.0),i)\n",
    "    print(a.shape)"
   ]
  },
  {
   "cell_type": "code",
   "execution_count": null,
   "metadata": {
    "ExecuteTime": {
     "start_time": "2021-11-07T01:28:41.159Z"
    }
   },
   "outputs": [],
   "source": [
    "import joblib\n",
    "joblib.dump(statcker, 'statcker.model')\n",
    "lr = joblib.load('statcker.model')"
   ]
  },
  {
   "cell_type": "code",
   "execution_count": null,
   "metadata": {
    "ExecuteTime": {
     "end_time": "2021-10-25T13:05:14.063234Z",
     "start_time": "2021-10-25T13:01:05.160Z"
    }
   },
   "outputs": [],
   "source": []
  },
  {
   "cell_type": "code",
   "execution_count": null,
   "metadata": {},
   "outputs": [],
   "source": []
  }
 ],
 "metadata": {
  "colab": {
   "collapsed_sections": [],
   "name": "NewXG.ipynb",
   "provenance": []
  },
  "kernelspec": {
   "display_name": "Python 3",
   "language": "python",
   "name": "python3"
  },
  "language_info": {
   "codemirror_mode": {
    "name": "ipython",
    "version": 3
   },
   "file_extension": ".py",
   "mimetype": "text/x-python",
   "name": "python",
   "nbconvert_exporter": "python",
   "pygments_lexer": "ipython3",
   "version": "3.8.5"
  },
  "toc": {
   "base_numbering": 1,
   "nav_menu": {},
   "number_sections": true,
   "sideBar": true,
   "skip_h1_title": false,
   "title_cell": "Table of Contents",
   "title_sidebar": "Contents",
   "toc_cell": false,
   "toc_position": {},
   "toc_section_display": true,
   "toc_window_display": false
  }
 },
 "nbformat": 4,
 "nbformat_minor": 1
}
