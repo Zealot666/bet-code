{
 "cells": [
  {
   "cell_type": "code",
   "execution_count": 1,
   "metadata": {
    "ExecuteTime": {
     "end_time": "2022-02-14T00:33:26.316150Z",
     "start_time": "2022-02-14T00:33:24.101882Z"
    },
    "colab": {
     "base_uri": "https://localhost:8080/"
    },
    "id": "sweheA5JE1Um",
    "outputId": "3338da98-f3f9-414b-92c8-aa1c3070a18c"
   },
   "outputs": [],
   "source": [
    "import json\n",
    "import pandas as pd\n",
    "\n",
    "import pymongo\n",
    "import matplotlib as mpl\n",
    "import numpy as np\n",
    "import matplotlib.pyplot as plt\n",
    "\n",
    "import warnings\n",
    "warnings.filterwarnings(\"ignore\")"
   ]
  },
  {
   "cell_type": "code",
   "execution_count": 2,
   "metadata": {
    "ExecuteTime": {
     "end_time": "2022-02-14T00:33:26.347140Z",
     "start_time": "2022-02-14T00:33:26.317149Z"
    },
    "id": "dQ2cjdK9EdIH"
   },
   "outputs": [],
   "source": [
    "def reduce_mem_usage(df, verbose=False):\n",
    "    numerics = ['int16', 'int32', 'int64', 'float16', 'float32', 'float64']\n",
    "    start_mem = df.memory_usage().sum() / 1024**2\n",
    "    for col in df.columns:\n",
    "        col_type = df[col].dtypes\n",
    "        if col_type in numerics:\n",
    "            c_min = df[col].min()\n",
    "            c_max = df[col].max()\n",
    "            if str(col_type)[:3] == 'int':\n",
    "                if c_min > np.iinfo(np.int8).min and c_max < np.iinfo(np.int8).max:\n",
    "                    df[col] = df[col].astype(np.int8)\n",
    "                elif c_min > np.iinfo(np.int16).min and c_max < np.iinfo(np.int16).max:\n",
    "                    df[col] = df[col].astype(np.int16)\n",
    "                elif c_min > np.iinfo(np.int32).min and c_max < np.iinfo(np.int32).max:\n",
    "                    df[col] = df[col].astype(np.int32)\n",
    "                elif c_min > np.iinfo(np.int64).min and c_max < np.iinfo(np.int64).max:\n",
    "                    df[col] = df[col].astype(np.int64)\n",
    "            else:\n",
    "                c_prec = df[col].apply(lambda x: np.finfo(x).precision).max()\n",
    "                if c_min > np.finfo(np.float16).min and c_max < np.finfo(np.float16).max and c_prec == np.finfo(np.float16).precision:\n",
    "                    df[col] = df[col].astype(np.float16)\n",
    "                elif c_min > np.finfo(np.float32).min and c_max < np.finfo(np.float32).max and c_prec == np.finfo(np.float32).precision:\n",
    "                    df[col] = df[col].astype(np.float32)\n",
    "                else:\n",
    "                    df[col] = df[col].astype(np.float64)\n",
    "    end_mem = df.memory_usage().sum() / 1024**2\n",
    "    if verbose: print('Mem. usage decreased to {:5.2f} Mb ({:.1f}% reduction)'.format(end_mem, 100 * (start_mem - end_mem) / start_mem))\n",
    "    return df"
   ]
  },
  {
   "cell_type": "code",
   "execution_count": 3,
   "metadata": {
    "ExecuteTime": {
     "end_time": "2022-02-14T00:33:26.378129Z",
     "start_time": "2022-02-14T00:33:26.352138Z"
    }
   },
   "outputs": [],
   "source": [
    "import numpy as np\n",
    " \n",
    "class Performance:\n",
    "    \"\"\"\n",
    "    定义一个类，用来分类器的性能度量\n",
    "    \"\"\"\n",
    "    def __init__(self, labels, scores, threshold=0.5):\n",
    "        \"\"\"\n",
    "        :param labels:数组类型，真实的标签\n",
    "        :param scores:数组类型，分类器的得分\n",
    "        :param threshold:检测阈值\n",
    "        \"\"\"\n",
    "        self.labels = labels\n",
    "        self.scores = scores\n",
    "        self.threshold = threshold\n",
    "        self.db = self.get_db()\n",
    "        self.TP, self.FP, self.FN, self.TN = self.get_confusion_matrix()\n",
    " \n",
    "    def accuracy(self):\n",
    "        \"\"\"\n",
    "        :return: 正确率\n",
    "        \"\"\"\n",
    "        return (self.TP + self.TN) / (self.TP + self.FN + self.FP + self.TN)\n",
    " \n",
    "    def presision(self):\n",
    "        \"\"\"\n",
    "        :return: 准确率\n",
    "        \"\"\"\n",
    "        if (self.TP + self.FP) == 0:\n",
    "            return 0\n",
    "        return self.TP / (self.TP + self.FP)\n",
    "    \n",
    "    def presision2(self):\n",
    "        \"\"\"\n",
    "        :return: 准确率\n",
    "        \"\"\"\n",
    "        if (self.TN + self.FN) == 0:\n",
    "            return 0\n",
    "        return self.TN / (self.TN + self.FN)\n",
    "    \n",
    "    def get_db(self):\n",
    "        db = []\n",
    "        for i in range(len(self.labels)):\n",
    "            db.append([self.labels[i], self.scores[i]])\n",
    "        db = sorted(db, key=lambda x: x[1], reverse=True)\n",
    "        return db\n",
    "\n",
    "    def get_confusion_matrix(self):\n",
    "        \"\"\"\n",
    "        计算混淆矩阵\n",
    "        :return:\n",
    "        \"\"\"\n",
    "        tp, fp, fn, tn = 0., 0., 0., 0.\n",
    "        for i in range(len(self.labels)):\n",
    "            if self.labels[i] == 1 and self.scores[i] >= self.threshold:\n",
    "                tp += 1\n",
    "            elif self.labels[i] == 0 and self.scores[i] >= self.threshold:\n",
    "                fp += 1\n",
    "            elif self.labels[i] == 1 and self.scores[i] < self.threshold:\n",
    "                fn += 1\n",
    "            else:\n",
    "                tn += 1\n",
    "        return [tp, fp, fn, tn]"
   ]
  },
  {
   "cell_type": "code",
   "execution_count": 4,
   "metadata": {
    "ExecuteTime": {
     "end_time": "2022-02-14T00:33:26.393124Z",
     "start_time": "2022-02-14T00:33:26.380129Z"
    },
    "id": "EQ6sA0qwEdIJ"
   },
   "outputs": [],
   "source": [
    "def getGoalMid(masterGoal, guestGoal, masterMidGoal, guestMidGoal):\n",
    "    return int(masterGoal) + int(guestGoal) - int(masterMidGoal) - int(guestMidGoal)\n",
    "\n",
    "\n",
    "def removeSub(pankou):\n",
    "    pankou = pankou.replace(\"升\", \"\")\n",
    "    pankou = pankou.replace(\"降\", \"\")\n",
    "    return pankou.strip()\n",
    "\n",
    "\n",
    "def getResultOne(goalMid, pankou):\n",
    "    row = pankou\n",
    "    row = 0\n",
    "    if goalMid - float(row) > 0:\n",
    "        return 1\n",
    "    if goalMid - float(row) <= 0:\n",
    "        return 0\n",
    "    \n",
    "def getType(yapanMasterStartOdd, yapanGuestStartOdd, yapanPankouStart):\n",
    "    linTypeStart = get18(yapanMasterStartOdd, yapanGuestStartOdd)\n",
    "    return str(linTypeStart)\n",
    "\n",
    "\n",
    "def get18(master, guest):\n",
    "    if master > guest:\n",
    "        return 18\n",
    "    if master < guest:\n",
    "        return 81\n",
    "    if master == guest:\n",
    "        return 99\n",
    "\n",
    "\n",
    "def daxiao_num(x):\n",
    "    x_list = x.split(\"/\")\n",
    "    num = 0\n",
    "    for i in x_list:\n",
    "        num += float(i)\n",
    "    return (float(num)/len(x_list))\n",
    "\n",
    "\n",
    "def realDaxiao(x, master, guest):\n",
    "    return float(x) - float(master) - float(guest)\n",
    "\n",
    "\n",
    "def shengjiang(start, end):\n",
    "    return ((end) - (start))\n",
    "\n",
    "def round2(x):\n",
    "    return round((x), 2)"
   ]
  },
  {
   "cell_type": "code",
   "execution_count": 5,
   "metadata": {
    "ExecuteTime": {
     "end_time": "2022-02-14T00:33:26.408119Z",
     "start_time": "2022-02-14T00:33:26.395124Z"
    }
   },
   "outputs": [],
   "source": [
    "def getShuiPing(x):\n",
    "    result = 11\n",
    "    if x < 0.75:\n",
    "        result = 0\n",
    "    if 0.75<= x and x<=0.85:\n",
    "        result = 1\n",
    "    if 0.85<x and x<=0.90:\n",
    "        result = 2\n",
    "    if 0.90<x and x<=0.95:\n",
    "        result = 3\n",
    "    if 0.95<x and x<=1.00:\n",
    "        result = 4\n",
    "    if 1.00<x and x<=1.08:\n",
    "        result = 5\n",
    "    if 1.08<x:\n",
    "        result = 6\n",
    "    return result\n",
    "\n",
    "def num_fea_dis(df,features):\n",
    "    for f in features:\n",
    "        nm = f+'_'+'shuiPing'\n",
    "        df[nm] = df[f].map(getShuiPing)\n",
    "    return df"
   ]
  },
  {
   "cell_type": "code",
   "execution_count": 6,
   "metadata": {
    "ExecuteTime": {
     "end_time": "2022-02-14T00:33:26.438110Z",
     "start_time": "2022-02-14T00:33:26.410119Z"
    }
   },
   "outputs": [],
   "source": [
    "def getLastTime(x):\n",
    "    if x >= 45 and x < 50 :\n",
    "        return 0 \n",
    "    if x >= 50 and x < 60 :\n",
    "        return 1 \n",
    "    if x >= 60 and x <= 75:\n",
    "        return 2\n",
    "    return 3\n",
    "\n",
    "def getResult65(zhong,last):\n",
    "    sum1 = 0\n",
    "    for i in zhong.split('-'):\n",
    "        sum1 += int(i)\n",
    "    sum2 = 0\n",
    "    for i in last.split('-'):\n",
    "        sum2 += int(i)\n",
    "    return sum2 - sum1\n",
    "\n",
    "def getResultNew(x):\n",
    "    if x >= 1:\n",
    "        return 1\n",
    "    return 0\n",
    "\n",
    "def pankouFlow(x,y):\n",
    "    return float(x) - float(y)"
   ]
  },
  {
   "cell_type": "code",
   "execution_count": 7,
   "metadata": {
    "ExecuteTime": {
     "end_time": "2022-02-14T00:33:26.469099Z",
     "start_time": "2022-02-14T00:33:26.441109Z"
    },
    "id": "z5MN0RQYEdIK"
   },
   "outputs": [],
   "source": [
    "def fillNa(x, value):\n",
    "    if pd.isnull(x):\n",
    "        return value\n",
    "    else:\n",
    "        return x\n",
    "\n",
    "    \n",
    "def preF(test):\n",
    "    test['goalMid'] = test.apply(lambda x: getGoalMid(\n",
    "        x['masterGoal'], x['guestGoal'], x['midGuestGoal'], x['midMasterGoal']), axis=1)\n",
    "    \n",
    "    test = test[test['goalMid'] >= 0]\n",
    "    \n",
    "    test['bifeng'] = test['masterGoal'].astype(\n",
    "        str) + \"-\" + test['guestGoal'].astype(str)\n",
    "    \n",
    "    test['zhongbifengNew'] = test['midMasterGoal'].astype(\n",
    "        str) + \"-\" + test['midGuestGoal'].astype(str)\n",
    "    \n",
    "    test['allbifeng'] = test['lastBifeng'].astype(\n",
    "        str) + \"-\" + test['zhongbifengNew'].astype(str)\n",
    "            \n",
    "    pankou = [\"pankouOdd_End_Zhong_3\",\"pankou_Start_Zhong_3\"] + [\"pankou_Start_Ji_3\",\"pankouOdd_End_Ji_3\"]\n",
    "\n",
    "    for col in pankou:\n",
    "        test[col] = test[col].astype(str)\n",
    "        test[col] = test[col].map(daxiao_num)\n",
    "        test[col] = test[col].astype(str)\n",
    "        nm = col + \"Real\"\n",
    "        test[nm] = test.apply(lambda x: realDaxiao(x[col],x['midGuestGoal'],x['midMasterGoal']), axis=1)\n",
    "        test[nm] = test[nm].astype(str)\n",
    "        \n",
    "    test['allbifengNew'] = test['allbifeng'].astype(\n",
    "        str) + \"-\" + test['pankouOdd_End_Zhong_3Real'].astype(str) + \"-\" + test['pankouOdd_End_Ji_3'].astype(str)\n",
    "    \n",
    "    fes = ['masterOdd_Start_Ji_3', 'masterOdd_End_Ji_3',\n",
    "           'masterOdd_Start_Zhong_3', 'masterOdd_End_Zhong_3'] + ['guestOdd_Start_Ji_3', 'guestOdd_End_Ji_3',\n",
    "           'guestOdd_Start_Zhong_3', 'guestOdd_End_Zhong_3']\n",
    "    \n",
    "    \n",
    "    num_fea_dis(test, fes)\n",
    "    \n",
    "    test['daxiaoTypeStart'] = test.apply(lambda x: getType(x['masterOdd_Start_Ji_3'], x['guestOdd_Start_Ji_3'],x['pankou_Start_Ji_3']), axis=1)\n",
    "    test['daxiaoType'] = test.apply(lambda x: getType(x['masterOdd_End_Ji_3'], x['guestOdd_End_Ji_3'],x['pankouOdd_End_Ji_3']), axis=1)\n",
    "    test['daxiaoTypeStartMid'] = test.apply(lambda x: getType(x['masterOdd_Start_Zhong_3'], x['guestOdd_Start_Zhong_3'],x['pankou_Start_Zhong_3Real']), axis=1)\n",
    "    test['daxiaoTypeMid'] = test.apply(lambda x: getType(x['masterOdd_End_Zhong_3'], x['guestOdd_End_Zhong_3'],x['pankouOdd_End_Zhong_3Real']), axis=1)\n",
    "    \n",
    "    test[\"daxiaoTypeCompare\"] = test[\"daxiaoType\"] == test[\"daxiaoTypeMid\"]\n",
    "\n",
    "    test['daxiaoTypeStart'] = test['masterOdd_Start_Ji_3_shuiPing'].astype(str) + test['daxiaoTypeStart']\n",
    "    test['daxiaoType'] = test['masterOdd_End_Ji_3_shuiPing'].astype(str) + test['daxiaoType']\n",
    "    test['daxiaoTypeStartMid'] = test['masterOdd_Start_Zhong_3_shuiPing'].astype(str) + test['daxiaoTypeStartMid']\n",
    "    test['daxiaoTypeMid'] = test['masterOdd_End_Zhong_3_shuiPing'].astype(str) + test['daxiaoTypeMid']\n",
    " \n",
    "    test['daxiaoTypeALL'] = test['daxiaoTypeStart'] + test['daxiaoType'] + test['zhongbifengNew']\n",
    "    test['daxiaoTypeMidALL'] = test['daxiaoTypeStartMid'] + test['daxiaoTypeMid'] + test['zhongbifengNew']\n",
    "    \n",
    "    test['daxiaoPankou'] = test['pankou_Start_Ji_3'] + test['pankouOdd_End_Ji_3']\n",
    "    test['daxiaoPankouMid'] = test['pankou_Start_Zhong_3Real'] + test['pankouOdd_End_Zhong_3Real']\n",
    "    test['daxiaoPankouALL'] = test['daxiaoPankou'] + test['daxiaoPankouMid'] + test['zhongbifengNew']\n",
    "\n",
    "    test['MasterOddFlowPankou'] = test[\"pankouOdd_End_Ji_3\"].astype(float) - test[\"pankou_Start_Ji_3\"].astype(float)\n",
    "    test['MasterOddFlowPankouMid'] = test[\"pankou_Start_Zhong_3\"].astype(float) - test[\"pankouOdd_End_Zhong_3\"].astype(float)\n",
    "    test['MasterOddFlow'] = test[\"masterOdd_Start_Ji_3\"] - test[\"masterOdd_End_Ji_3\"]\n",
    "#     test['MasterOddFlowMid'] = test[\"masterOdd_Start_Zhong_3\"] - test[\"masterOdd_End_Zhong_3\"]\n",
    "#     test['MasterOddFlowALL'] = test[\"MasterOddFlow\"] + test[\"MasterOddFlowPankou\"]\n",
    "#     test['MasterOddFlowALLMid'] = test[\"MasterOddFlowMid\"] + test[\"MasterOddFlowPankouMid\"]\n",
    "\n",
    "    test = test.drop(['masterOdd_Start_Ji_3_shuiPing', 'masterOdd_End_Ji_3_shuiPing',\n",
    "                      'masterOdd_Start_Zhong_3_shuiPing','masterOdd_End_Zhong_3_shuiPing'], axis=1)\n",
    "    \n",
    "    test = test.drop(['guestOdd_Start_Ji_3_shuiPing', 'guestOdd_End_Ji_3_shuiPing',\n",
    "                      'guestOdd_Start_Zhong_3_shuiPing','guestOdd_End_Zhong_3_shuiPing'], axis=1)\n",
    "    \n",
    "    test = test.drop(columns=['masterGoal', 'guestGoal', \"goalMid\"])\n",
    "    test = test.drop(columns=['midGuestGoal', 'midMasterGoal',\"time\"])\n",
    "    test[\"lastTime\"] = test[\"lastTime\"].astype(int)\n",
    "    \n",
    "    test = test[(test[\"lastTime\"] <= 90) & (test[\"lastTime\"] >= 45)]\n",
    "    test[\"result\"] =  test.apply(lambda x: getResult65(x['lastBifeng'], x['bifeng']), axis=1)\n",
    "    test = test[test[\"result\"] >= 0]\n",
    "    test[\"result\"] = test[\"result\"].map(getResultNew)\n",
    "    test = test.drop([\"bifeng\"], axis=1)\n",
    "    test[\"pankouOdd_End_Zhong_3Real\"] = test[\"pankouOdd_End_Zhong_3Real\"].astype(float)\n",
    "#     test = test[(test[\"pankouOdd_End_Zhong_3Real\"] <= 1.75)&(test[\"pankouOdd_End_Zhong_3Real\"] >= 1.0)]\n",
    "    return test"
   ]
  },
  {
   "cell_type": "code",
   "execution_count": 8,
   "metadata": {
    "ExecuteTime": {
     "end_time": "2022-02-14T00:34:26.313318Z",
     "start_time": "2022-02-14T00:33:26.471099Z"
    },
    "id": "vN7FAlDIEdIO"
   },
   "outputs": [
    {
     "name": "stdout",
     "output_type": "stream",
     "text": [
      "(189432, 20)\n",
      "(187944, 36)\n"
     ]
    }
   ],
   "source": [
    "myclient = pymongo.MongoClient(\"mongodb://localhost:27017/\")\n",
    "mydb = myclient[\"soccerData\"]\n",
    "mycol = mydb[\"win007Lastv3\"]\n",
    "# data_mid = pd.DataFrame(list(mycol.find({})))\n",
    "data_mid = pd.DataFrame(list(mycol.find({\"time\":{\"$gte\":\"2015-01-01 00:00:00\",\"$lt\":\"2021-01-01 00:00:00\"}})))\n",
    "data_mid = data_mid.drop(['_id',\"place\"], axis=1)\n",
    "# data_mid.to_csv('train.txt')\n",
    "\n",
    "# data_mid = pd.read_csv('train.txt')\n",
    "# data_mid = data_mid.drop(['Unnamed: 0'], axis=1)\n",
    "\n",
    "data_mid = data_mid.dropna()\n",
    "data_mid = reduce_mem_usage(data_mid)\n",
    "data_mid = data_mid[data_mid[\"lastTime\"]!=\"中场\"]\n",
    "print(data_mid.shape)\n",
    "data_mid = preF(data_mid)\n",
    "print(data_mid.shape)\n",
    "# data_mid.to_csv('data_mid.txt')"
   ]
  },
  {
   "cell_type": "code",
   "execution_count": null,
   "metadata": {
    "ExecuteTime": {
     "end_time": "2022-02-08T13:39:21.072596Z",
     "start_time": "2022-02-08T13:39:20.884638Z"
    }
   },
   "outputs": [],
   "source": []
  },
  {
   "cell_type": "code",
   "execution_count": null,
   "metadata": {
    "ExecuteTime": {
     "end_time": "2022-02-08T13:39:21.104568Z",
     "start_time": "2022-02-08T13:39:21.073585Z"
    }
   },
   "outputs": [],
   "source": []
  },
  {
   "cell_type": "code",
   "execution_count": null,
   "metadata": {
    "ExecuteTime": {
     "end_time": "2022-01-22T05:11:34.513138Z",
     "start_time": "2022-01-22T05:11:34.302206Z"
    }
   },
   "outputs": [],
   "source": []
  },
  {
   "cell_type": "code",
   "execution_count": 9,
   "metadata": {
    "ExecuteTime": {
     "end_time": "2022-02-14T00:34:26.328311Z",
     "start_time": "2022-02-14T00:34:26.317317Z"
    }
   },
   "outputs": [],
   "source": [
    "# train = data_mid\n",
    "# print(train.shape)\n",
    "# train[\"result\"] =  train.apply(lambda x: getResult65(x['lastBifeng'], x['bifeng']), axis=1)\n",
    "# train = train[train[\"result\"] >= 0]\n",
    "# print(train.shape)\n",
    "# train[\"result\"] = train[\"result\"].map(getResultNew)\n",
    "# train[\"result\"].value_counts()[1] / (train[\"result\"].value_counts()[0] + train[\"result\"].value_counts()[1])\n",
    "# train = train[train[\"lastTime\"] <= 70]\n",
    "# print(train.shape)\n",
    "# train = train[(train[\"pankouOdd_End_Zhong_3Real\"] == \"1.25\")]\n",
    "# print(train.shape)\n",
    "# train = train[(train[\"lastBifeng\"] == \"1-1\") |(train[\"lastBifeng\"] == \"1-1\")]\n",
    "# print(train.shape)\n",
    "# train = train[(train[\"zhongbifengNew\"] == \"1-0\") |(train[\"zhongbifengNew\"] == \"0-1\")]\n",
    "# print(train.shape)\n",
    "# train = train[(train[\"pankouOdd_End_Ji_3\"] == \"2.5\") | (train[\"pankouOdd_End_Ji_3\"] == \"2.25\")]\n",
    "# print(train.shape)\n",
    "# train = train[(train[\"daxiaoType\"] == train[\"daxiaoTypeMid\"])]\n",
    "# print(train.shape)\n",
    "# # train = train[(train[\"daxiaoTypeStart\"] == \"18\")]\n",
    "# train[\"result\"].value_counts()\n",
    "# print(train[\"result\"].value_counts()[1])\n",
    "# print(train[\"result\"].value_counts()[0])\n",
    "# train[\"result\"].value_counts()[1] / (train[\"result\"].value_counts()[0] + train[\"result\"].value_counts()[1])"
   ]
  },
  {
   "cell_type": "code",
   "execution_count": 10,
   "metadata": {
    "ExecuteTime": {
     "end_time": "2022-02-14T00:34:26.343307Z",
     "start_time": "2022-02-14T00:34:26.330311Z"
    }
   },
   "outputs": [],
   "source": [
    "train = data_mid\n",
    "# train[\"lastTime\"] = train[\"lastTime\"].astype(int)\n",
    "# train = train[train[\"lastTime\"] <= 70]\n",
    "# train[\"lastTime\"] = train[\"lastTime\"].map(getLastTime)\n",
    "# train = train[train[\"lastTime\"]!=2]\n",
    "# train[\"result\"] =  train.apply(lambda x: getResult65(x['lastBifeng'], x['bifeng']), axis=1)\n",
    "# train = train[train[\"result\"] >= 0]\n",
    "# train[\"result\"] = train[\"result\"].map(getResultNew)\n",
    "# train = train.drop([\"bifeng\"], axis=1)\n",
    "# train[\"pankouOdd_End_Zhong_3Real\"] = train[\"pankouOdd_End_Zhong_3Real\"].astype(float)\n",
    "# train = train[(train[\"pankouOdd_End_Zhong_3Real\"] == 1.25)&(train[\"pankouOdd_End_Zhong_3Real\"] >= 1.0)]"
   ]
  },
  {
   "cell_type": "code",
   "execution_count": 11,
   "metadata": {
    "ExecuteTime": {
     "end_time": "2022-02-14T00:34:26.359302Z",
     "start_time": "2022-02-14T00:34:26.345307Z"
    },
    "scrolled": true
   },
   "outputs": [],
   "source": [
    "# train.to_csv(\"train_1.txt\")"
   ]
  },
  {
   "cell_type": "code",
   "execution_count": 12,
   "metadata": {
    "ExecuteTime": {
     "end_time": "2022-02-14T00:34:27.972769Z",
     "start_time": "2022-02-14T00:34:26.361301Z"
    }
   },
   "outputs": [
    {
     "name": "stdout",
     "output_type": "stream",
     "text": [
      "(4585, 20)\n",
      "(4546, 36)\n"
     ]
    }
   ],
   "source": [
    "myclient = pymongo.MongoClient(\"mongodb://localhost:27017/\")\n",
    "mydb = myclient[\"soccerData\"]\n",
    "mycol = mydb[\"win007Lastv2test\"]\n",
    "test = pd.DataFrame(list(mycol.find({\"time\":{\"$gte\":\"2021-01-01 00:00:00\"}})))\n",
    "test = test.dropna()\n",
    "test = test[test[\"lastTime\"]!=\"中场\"]\n",
    "test = test.drop(['_id',\"place\"], axis=1)\n",
    "print(test.shape)\n",
    "test = preF(test)\n",
    "print(test.shape)"
   ]
  },
  {
   "cell_type": "code",
   "execution_count": 13,
   "metadata": {
    "ExecuteTime": {
     "end_time": "2022-02-14T00:34:27.989764Z",
     "start_time": "2022-02-14T00:34:27.975769Z"
    }
   },
   "outputs": [],
   "source": [
    "# test = test[test[\"lianShai_count\"] > 100]"
   ]
  },
  {
   "cell_type": "code",
   "execution_count": 14,
   "metadata": {
    "ExecuteTime": {
     "end_time": "2022-02-14T00:34:28.005759Z",
     "start_time": "2022-02-14T00:34:27.992763Z"
    }
   },
   "outputs": [],
   "source": [
    "# test = test.drop(['place'], axis=1)\n",
    "# test = test.dropna()\n",
    "# test = preF(test)"
   ]
  },
  {
   "cell_type": "code",
   "execution_count": null,
   "metadata": {
    "ExecuteTime": {
     "end_time": "2022-02-14T00:09:27.635222Z",
     "start_time": "2022-02-14T00:09:27.615228Z"
    }
   },
   "outputs": [],
   "source": []
  },
  {
   "cell_type": "code",
   "execution_count": null,
   "metadata": {},
   "outputs": [],
   "source": []
  },
  {
   "cell_type": "code",
   "execution_count": 15,
   "metadata": {
    "ExecuteTime": {
     "end_time": "2022-02-14T00:34:28.039747Z",
     "start_time": "2022-02-14T00:34:28.016755Z"
    }
   },
   "outputs": [],
   "source": [
    "# test[\"lastTime\"] = test[\"lastTime\"].astype(int)\n",
    "# test = test[test[\"lastTime\"] <= 70]\n",
    "# test[\"lastTime\"] = test[\"lastTime\"].map(getLastTime)\n",
    "# test = test[test[\"lastTime\"]!=2]\n",
    "# test[\"result\"] =  test.apply(lambda x: getResult65(x['lastBifeng'], x['bifeng']), axis=1)\n",
    "# test = test[test[\"result\"] >= 0]\n",
    "# test[\"result\"] = test[\"result\"].map(getResultNew)\n",
    "# test = test.drop([\"bifeng\"], axis=1)\n",
    "# test[\"pankouOdd_End_Zhong_3Real\"] = test[\"pankouOdd_End_Zhong_3Real\"].astype(float)\n",
    "# test = test[(test[\"pankouOdd_End_Zhong_3Real\"] == 1.25)&(test[\"pankouOdd_End_Zhong_3Real\"] >= 1.0)]"
   ]
  },
  {
   "cell_type": "code",
   "execution_count": 16,
   "metadata": {
    "ExecuteTime": {
     "end_time": "2022-02-14T00:34:28.225685Z",
     "start_time": "2022-02-14T00:34:28.044745Z"
    }
   },
   "outputs": [
    {
     "name": "stdout",
     "output_type": "stream",
     "text": [
      "<class 'pandas.core.frame.DataFrame'>\n",
      "Int64Index: 4546 entries, 0 to 4621\n",
      "Data columns (total 36 columns):\n",
      " #   Column                     Non-Null Count  Dtype  \n",
      "---  ------                     --------------  -----  \n",
      " 0   lianShai                   4546 non-null   object \n",
      " 1   guestOdd_End_Ji_3          4546 non-null   float64\n",
      " 2   guestOdd_End_Zhong_3       4546 non-null   float64\n",
      " 3   guestOdd_Start_Ji_3        4546 non-null   float64\n",
      " 4   guestOdd_Start_Zhong_3     4546 non-null   float64\n",
      " 5   lastBifeng                 4546 non-null   object \n",
      " 6   lastTime                   4546 non-null   int32  \n",
      " 7   masterOdd_End_Ji_3         4546 non-null   float64\n",
      " 8   masterOdd_End_Zhong_3      4546 non-null   float64\n",
      " 9   masterOdd_Start_Ji_3       4546 non-null   float64\n",
      " 10  masterOdd_Start_Zhong_3    4546 non-null   float64\n",
      " 11  pankouOdd_End_Ji_3         4546 non-null   object \n",
      " 12  pankouOdd_End_Zhong_3      4546 non-null   object \n",
      " 13  pankou_Start_Ji_3          4546 non-null   object \n",
      " 14  pankou_Start_Zhong_3       4546 non-null   object \n",
      " 15  zhongbifengNew             4546 non-null   object \n",
      " 16  allbifeng                  4546 non-null   object \n",
      " 17  pankouOdd_End_Zhong_3Real  4546 non-null   float64\n",
      " 18  pankou_Start_Zhong_3Real   4546 non-null   object \n",
      " 19  pankou_Start_Ji_3Real      4546 non-null   object \n",
      " 20  pankouOdd_End_Ji_3Real     4546 non-null   object \n",
      " 21  allbifengNew               4546 non-null   object \n",
      " 22  daxiaoTypeStart            4546 non-null   object \n",
      " 23  daxiaoType                 4546 non-null   object \n",
      " 24  daxiaoTypeStartMid         4546 non-null   object \n",
      " 25  daxiaoTypeMid              4546 non-null   object \n",
      " 26  daxiaoTypeCompare          4546 non-null   bool   \n",
      " 27  daxiaoTypeALL              4546 non-null   object \n",
      " 28  daxiaoTypeMidALL           4546 non-null   object \n",
      " 29  daxiaoPankou               4546 non-null   object \n",
      " 30  daxiaoPankouMid            4546 non-null   object \n",
      " 31  daxiaoPankouALL            4546 non-null   object \n",
      " 32  MasterOddFlowPankou        4546 non-null   float64\n",
      " 33  MasterOddFlowPankouMid     4546 non-null   float64\n",
      " 34  MasterOddFlow              4546 non-null   float64\n",
      " 35  result                     4546 non-null   int64  \n",
      "dtypes: bool(1), float64(12), int32(1), int64(1), object(21)\n",
      "memory usage: 1.2+ MB\n"
     ]
    }
   ],
   "source": [
    "test.info()"
   ]
  },
  {
   "cell_type": "code",
   "execution_count": 17,
   "metadata": {
    "ExecuteTime": {
     "end_time": "2022-02-14T00:34:29.023421Z",
     "start_time": "2022-02-14T00:34:28.229684Z"
    }
   },
   "outputs": [
    {
     "name": "stdout",
     "output_type": "stream",
     "text": [
      "<class 'pandas.core.frame.DataFrame'>\n",
      "Int64Index: 187944 entries, 0 to 189431\n",
      "Data columns (total 36 columns):\n",
      " #   Column                     Non-Null Count   Dtype  \n",
      "---  ------                     --------------   -----  \n",
      " 0   lianShai                   187944 non-null  object \n",
      " 1   guestOdd_End_Ji_3          187944 non-null  float64\n",
      " 2   guestOdd_End_Zhong_3       187944 non-null  float64\n",
      " 3   guestOdd_Start_Ji_3        187944 non-null  float64\n",
      " 4   guestOdd_Start_Zhong_3     187944 non-null  float64\n",
      " 5   lastBifeng                 187944 non-null  object \n",
      " 6   lastTime                   187944 non-null  int32  \n",
      " 7   masterOdd_End_Ji_3         187944 non-null  float64\n",
      " 8   masterOdd_End_Zhong_3      187944 non-null  float64\n",
      " 9   masterOdd_Start_Ji_3       187944 non-null  float64\n",
      " 10  masterOdd_Start_Zhong_3    187944 non-null  float64\n",
      " 11  pankouOdd_End_Ji_3         187944 non-null  object \n",
      " 12  pankouOdd_End_Zhong_3      187944 non-null  object \n",
      " 13  pankou_Start_Ji_3          187944 non-null  object \n",
      " 14  pankou_Start_Zhong_3       187944 non-null  object \n",
      " 15  zhongbifengNew             187944 non-null  object \n",
      " 16  allbifeng                  187944 non-null  object \n",
      " 17  pankouOdd_End_Zhong_3Real  187944 non-null  float64\n",
      " 18  pankou_Start_Zhong_3Real   187944 non-null  object \n",
      " 19  pankou_Start_Ji_3Real      187944 non-null  object \n",
      " 20  pankouOdd_End_Ji_3Real     187944 non-null  object \n",
      " 21  allbifengNew               187944 non-null  object \n",
      " 22  daxiaoTypeStart            187944 non-null  object \n",
      " 23  daxiaoType                 187944 non-null  object \n",
      " 24  daxiaoTypeStartMid         187944 non-null  object \n",
      " 25  daxiaoTypeMid              187944 non-null  object \n",
      " 26  daxiaoTypeCompare          187944 non-null  bool   \n",
      " 27  daxiaoTypeALL              187944 non-null  object \n",
      " 28  daxiaoTypeMidALL           187944 non-null  object \n",
      " 29  daxiaoPankou               187944 non-null  object \n",
      " 30  daxiaoPankouMid            187944 non-null  object \n",
      " 31  daxiaoPankouALL            187944 non-null  object \n",
      " 32  MasterOddFlowPankou        187944 non-null  float64\n",
      " 33  MasterOddFlowPankouMid     187944 non-null  float64\n",
      " 34  MasterOddFlow              187944 non-null  float64\n",
      " 35  result                     187944 non-null  int64  \n",
      "dtypes: bool(1), float64(12), int32(1), int64(1), object(21)\n",
      "memory usage: 51.1+ MB\n"
     ]
    }
   ],
   "source": [
    "train.info()"
   ]
  },
  {
   "cell_type": "code",
   "execution_count": null,
   "metadata": {
    "ExecuteTime": {
     "end_time": "2021-11-28T15:14:13.672983Z",
     "start_time": "2021-11-28T15:14:13.611018Z"
    }
   },
   "outputs": [],
   "source": []
  },
  {
   "cell_type": "code",
   "execution_count": 18,
   "metadata": {
    "ExecuteTime": {
     "end_time": "2022-02-14T00:34:30.517927Z",
     "start_time": "2022-02-14T00:34:29.026421Z"
    }
   },
   "outputs": [],
   "source": [
    "from sklearn.model_selection import  StratifiedKFold,KFold\n",
    "import category_encoders as ce\n",
    "import gc\n",
    "def mean_woe_target_encoder(train,test,target,col,n_splits=10):\n",
    "    folds = StratifiedKFold(n_splits)\n",
    "\n",
    "    y_oof = np.zeros(train.shape[0])\n",
    "    y_oof_2= np.zeros(train.shape[0])\n",
    "    y_test_oof = np.zeros(test.shape[0]).reshape(-1,1)\n",
    "    y_test_oof2 = np.zeros(test.shape[0]).reshape(-1,1)\n",
    "\n",
    "    splits = folds.split(train, target)\n",
    "    \n",
    "    for fold_n, (train_index, valid_index) in enumerate(splits):\n",
    "        X_train, X_valid = train[col].iloc[train_index], train[col].iloc[valid_index]\n",
    "        y_train, y_valid = target.iloc[train_index], target.iloc[valid_index]\n",
    "        clf=ce.target_encoder.TargetEncoder()\n",
    "    \n",
    "        clf.fit(X_train.values,y_train.values)    \n",
    "        y_pred_valid = clf.transform(X_valid.values)\n",
    "\n",
    "        y_oof[valid_index] = y_pred_valid.values.reshape(1,-1)\n",
    "\n",
    "        tp=(clf.transform(test[col].values)/(n_splits*1.0)).values\n",
    "        tp=tp.reshape(-1,1)\n",
    "        y_test_oof+=tp    \n",
    "    \n",
    "        del X_train, X_valid, y_train, y_valid\n",
    "        gc.collect()    \n",
    "    return y_oof,y_test_oof"
   ]
  },
  {
   "cell_type": "code",
   "execution_count": 19,
   "metadata": {
    "ExecuteTime": {
     "end_time": "2022-02-14T00:34:30.627891Z",
     "start_time": "2022-02-14T00:34:30.519927Z"
    }
   },
   "outputs": [],
   "source": [
    "train_x =  train.drop(columns=['result'])\n",
    "train_y =  train['result']\n",
    "\n",
    "test_x =  test.drop(columns=['result'])\n",
    "test_y = test['result']"
   ]
  },
  {
   "cell_type": "code",
   "execution_count": 20,
   "metadata": {
    "ExecuteTime": {
     "end_time": "2022-02-14T00:35:20.428429Z",
     "start_time": "2022-02-14T00:34:30.629890Z"
    }
   },
   "outputs": [],
   "source": [
    "for col in train.select_dtypes(include='object').columns:\n",
    "  y_oof,y_test_oof = mean_woe_target_encoder(train_x,test_x,train_y,col,n_splits=10)\n",
    "  train_x[col] = y_oof\n",
    "  test_x[col] = y_test_oof"
   ]
  },
  {
   "cell_type": "code",
   "execution_count": 21,
   "metadata": {
    "ExecuteTime": {
     "end_time": "2022-02-14T00:35:20.443425Z",
     "start_time": "2022-02-14T00:35:20.430430Z"
    }
   },
   "outputs": [
    {
     "data": {
      "text/plain": [
       "0       0-0\n",
       "1       2-0\n",
       "2       2-0\n",
       "3       0-1\n",
       "4       1-1\n",
       "       ... \n",
       "4617    0-0\n",
       "4618    0-1\n",
       "4619    2-0\n",
       "4620    0-0\n",
       "4621    2-0\n",
       "Name: zhongbifengNew, Length: 4546, dtype: object"
      ]
     },
     "execution_count": 21,
     "metadata": {},
     "output_type": "execute_result"
    }
   ],
   "source": [
    "test[\"zhongbifengNew\"]"
   ]
  },
  {
   "cell_type": "code",
   "execution_count": 22,
   "metadata": {
    "ExecuteTime": {
     "end_time": "2022-02-14T00:35:20.503404Z",
     "start_time": "2022-02-14T00:35:20.447424Z"
    }
   },
   "outputs": [
    {
     "name": "stdout",
     "output_type": "stream",
     "text": [
      "<class 'pandas.core.frame.DataFrame'>\n",
      "Int64Index: 187944 entries, 0 to 189431\n",
      "Data columns (total 35 columns):\n",
      " #   Column                     Non-Null Count   Dtype  \n",
      "---  ------                     --------------   -----  \n",
      " 0   lianShai                   187944 non-null  float64\n",
      " 1   guestOdd_End_Ji_3          187944 non-null  float64\n",
      " 2   guestOdd_End_Zhong_3       187944 non-null  float64\n",
      " 3   guestOdd_Start_Ji_3        187944 non-null  float64\n",
      " 4   guestOdd_Start_Zhong_3     187944 non-null  float64\n",
      " 5   lastBifeng                 187944 non-null  float64\n",
      " 6   lastTime                   187944 non-null  int32  \n",
      " 7   masterOdd_End_Ji_3         187944 non-null  float64\n",
      " 8   masterOdd_End_Zhong_3      187944 non-null  float64\n",
      " 9   masterOdd_Start_Ji_3       187944 non-null  float64\n",
      " 10  masterOdd_Start_Zhong_3    187944 non-null  float64\n",
      " 11  pankouOdd_End_Ji_3         187944 non-null  float64\n",
      " 12  pankouOdd_End_Zhong_3      187944 non-null  float64\n",
      " 13  pankou_Start_Ji_3          187944 non-null  float64\n",
      " 14  pankou_Start_Zhong_3       187944 non-null  float64\n",
      " 15  zhongbifengNew             187944 non-null  float64\n",
      " 16  allbifeng                  187944 non-null  float64\n",
      " 17  pankouOdd_End_Zhong_3Real  187944 non-null  float64\n",
      " 18  pankou_Start_Zhong_3Real   187944 non-null  float64\n",
      " 19  pankou_Start_Ji_3Real      187944 non-null  float64\n",
      " 20  pankouOdd_End_Ji_3Real     187944 non-null  float64\n",
      " 21  allbifengNew               187944 non-null  float64\n",
      " 22  daxiaoTypeStart            187944 non-null  float64\n",
      " 23  daxiaoType                 187944 non-null  float64\n",
      " 24  daxiaoTypeStartMid         187944 non-null  float64\n",
      " 25  daxiaoTypeMid              187944 non-null  float64\n",
      " 26  daxiaoTypeCompare          187944 non-null  bool   \n",
      " 27  daxiaoTypeALL              187944 non-null  float64\n",
      " 28  daxiaoTypeMidALL           187944 non-null  float64\n",
      " 29  daxiaoPankou               187944 non-null  float64\n",
      " 30  daxiaoPankouMid            187944 non-null  float64\n",
      " 31  daxiaoPankouALL            187944 non-null  float64\n",
      " 32  MasterOddFlowPankou        187944 non-null  float64\n",
      " 33  MasterOddFlowPankouMid     187944 non-null  float64\n",
      " 34  MasterOddFlow              187944 non-null  float64\n",
      "dtypes: bool(1), float64(33), int32(1)\n",
      "memory usage: 49.6 MB\n"
     ]
    }
   ],
   "source": [
    "train_x.info()"
   ]
  },
  {
   "cell_type": "code",
   "execution_count": null,
   "metadata": {
    "ExecuteTime": {
     "end_time": "2022-01-10T14:47:17.675632Z",
     "start_time": "2022-01-10T14:46:30.190691Z"
    }
   },
   "outputs": [],
   "source": []
  },
  {
   "cell_type": "code",
   "execution_count": null,
   "metadata": {
    "ExecuteTime": {
     "end_time": "2022-01-10T14:47:17.707622Z",
     "start_time": "2022-01-10T14:47:17.678631Z"
    }
   },
   "outputs": [],
   "source": []
  },
  {
   "cell_type": "code",
   "execution_count": null,
   "metadata": {
    "ExecuteTime": {
     "end_time": "2022-02-14T00:21:17.408583Z",
     "start_time": "2022-02-14T00:21:15.931080Z"
    }
   },
   "outputs": [],
   "source": []
  },
  {
   "cell_type": "code",
   "execution_count": 23,
   "metadata": {
    "ExecuteTime": {
     "end_time": "2022-02-14T00:37:06.533355Z",
     "start_time": "2022-02-14T00:35:20.505404Z"
    },
    "colab": {
     "base_uri": "https://localhost:8080/"
    },
    "id": "A867lIczEdIi",
    "outputId": "fe128cf3-a6d5-40d9-a372-6af3a61f6f8e"
   },
   "outputs": [
    {
     "name": "stdout",
     "output_type": "stream",
     "text": [
      "Training until validation scores don't improve for 300 rounds\n",
      "[200]\ttraining's auc: 0.808197\tvalid_1's auc: 0.708745\n",
      "[400]\ttraining's auc: 0.871746\tvalid_1's auc: 0.707114\n",
      "Early stopping, best iteration is:\n",
      "[141]\ttraining's auc: 0.786695\tvalid_1's auc: 0.70927\n",
      "[0.34580463 0.653763   0.72864853 ... 0.59676593 0.71880254 0.63620271]\n",
      "Fold 1 | AUC: 0.7092703126564894\n",
      "Training until validation scores don't improve for 300 rounds\n",
      "[200]\ttraining's auc: 0.809401\tvalid_1's auc: 0.707637\n",
      "[400]\ttraining's auc: 0.871398\tvalid_1's auc: 0.707154\n",
      "Early stopping, best iteration is:\n",
      "[241]\ttraining's auc: 0.82298\tvalid_1's auc: 0.707855\n",
      "[0.66770739 0.80198379 0.34843644 ... 0.78657394 0.77128355 0.68501876]\n",
      "Fold 2 | AUC: 0.7078553544410011\n",
      "Training until validation scores don't improve for 300 rounds\n",
      "[200]\ttraining's auc: 0.808234\tvalid_1's auc: 0.7079\n",
      "[400]\ttraining's auc: 0.869824\tvalid_1's auc: 0.706838\n",
      "Early stopping, best iteration is:\n",
      "[126]\ttraining's auc: 0.780343\tvalid_1's auc: 0.708276\n",
      "[0.7247103  0.89502966 0.64523819 ... 0.48600967 0.76254686 0.51881344]\n",
      "Fold 3 | AUC: 0.7082764523175356\n",
      "Training until validation scores don't improve for 300 rounds\n",
      "[200]\ttraining's auc: 0.807973\tvalid_1's auc: 0.711782\n",
      "[400]\ttraining's auc: 0.870664\tvalid_1's auc: 0.709936\n",
      "Early stopping, best iteration is:\n",
      "[108]\ttraining's auc: 0.774081\tvalid_1's auc: 0.712349\n",
      "[0.91525101 0.79208597 0.64154347 ... 0.59955592 0.49673292 0.33862028]\n",
      "Fold 4 | AUC: 0.7123486971926896\n",
      "Training until validation scores don't improve for 300 rounds\n",
      "[200]\ttraining's auc: 0.807973\tvalid_1's auc: 0.707405\n",
      "[400]\ttraining's auc: 0.870909\tvalid_1's auc: 0.706101\n",
      "Early stopping, best iteration is:\n",
      "[131]\ttraining's auc: 0.782615\tvalid_1's auc: 0.707806\n",
      "[0.54847326 0.30122158 0.67256207 ... 0.77661318 0.37543455 0.70606312]\n",
      "Fold 5 | AUC: 0.707805645893124\n",
      "\n",
      "Mean AUC = 0.7091112925001679\n",
      "Out of folds AUC = 0.7087765020042601\n"
     ]
    }
   ],
   "source": [
    "import lightgbm as lgb\n",
    "from sklearn.metrics import roc_auc_score,accuracy_score\n",
    "from sklearn.model_selection import StratifiedKFold\n",
    "import gc,joblib\n",
    "X = train_x\n",
    "y = train_y\n",
    "# del train_x,train_y\n",
    "# gc.collect()\n",
    "\n",
    "\n",
    "params = {'num_leaves': 240,  # 结果对最终效果影响较大，越大值越好，太大会出现过拟合\n",
    "          'min_data_in_leaf': 30,\n",
    "          'objective': 'binary',  # 定义的目标函数\n",
    "          'max_depth': -1,\n",
    "          'learning_rate': 0.03,\n",
    "          \"min_sum_hessian_in_leaf\": 6,\n",
    "          \"boosting\": \"gbdt\",\n",
    "          \"feature_fraction\":  0.5992677823884304,  # 提取的特征比率\n",
    "          \"bagging_freq\": 4,\n",
    "          \"bagging_fraction\": 0.7100471696361973,\n",
    "          \"bagging_seed\": 11,\n",
    "          \"lambda_l1\": 8.545500456265467e-05,  # l1正则\n",
    "          'lambda_l2': 5.985747612243422e-07,  # l2正则\n",
    "          \"verbosity\": -1,\n",
    "          \"nthread\": -1,  # 线程数量，-1表示全部线程，线程越多，运行的速度越快\n",
    "          'metric': {'auc'},  # 评价函数选择\n",
    "          \"random_state\": 2019,  # 随机数种子，可以防止每次运行的结果不一致\n",
    "          # 'device': 'gpu' ##如果安装的事gpu版本的lightgbm,可以加快运算\n",
    "          'min_child_samples': 67\n",
    "          }\n",
    "\n",
    "NFOLDS = 5\n",
    "folds = StratifiedKFold(n_splits=NFOLDS)\n",
    "\n",
    "columns = X.columns\n",
    "splits = folds.split(X, y)\n",
    "y_preds = np.zeros(test_x.shape[0])\n",
    "y_preds_train  = np.zeros(train_x.shape[0])\n",
    "score = 0\n",
    "\n",
    "feature_importances = pd.DataFrame()\n",
    "feature_importances['feature'] = columns\n",
    "\n",
    "for fold_n, (train_index, valid_index) in enumerate(splits):\n",
    "    X_train, X_valid = X[columns].iloc[train_index], X[columns].iloc[valid_index]\n",
    "    y_train, y_valid = y.iloc[train_index], y.iloc[valid_index]\n",
    "\n",
    "    dtrain = lgb.Dataset(X_train, label=y_train)\n",
    "    dvalid = lgb.Dataset(X_valid, label=y_valid)\n",
    "\n",
    "    clf = lgb.train(params, dtrain, 1000, valid_sets=[\n",
    "                    dtrain, dvalid], verbose_eval=200, early_stopping_rounds=300)\n",
    "\n",
    "    feature_importances[f'fold_{fold_n + 1}'] = clf.feature_importance()\n",
    "\n",
    "    y_pred_valid = clf.predict(X_valid)\n",
    "    print(y_pred_valid)\n",
    "    print(f\"Fold {fold_n + 1} | AUC: {roc_auc_score(y_valid, y_pred_valid)}\")\n",
    "\n",
    "    score += roc_auc_score(y_valid, y_pred_valid) / NFOLDS\n",
    "    y_preds += clf.predict(test_x) / NFOLDS\n",
    "    \n",
    "    model = 'C:\\\\Users\\\\24525\\\\code\\\\spider\\\\model\\\\' + 'gbm_' + str(fold_n) + \"_singe.txt\"\n",
    "#     joblib.dump(clf,model)\n",
    "    \n",
    "    y_pred_valid = clf.predict(X_valid)\n",
    "    y_preds_train[valid_index] = y_pred_valid\n",
    "    \n",
    "    del X_train, X_valid, y_train, y_valid\n",
    "    gc.collect()\n",
    "    \n",
    "print(f\"\\nMean AUC = {score}\")\n",
    "print(f\"Out of folds AUC = {roc_auc_score(train_y, y_preds_train)}\")"
   ]
  },
  {
   "cell_type": "code",
   "execution_count": 24,
   "metadata": {
    "ExecuteTime": {
     "end_time": "2022-02-14T00:37:06.549350Z",
     "start_time": "2022-02-14T00:37:06.535354Z"
    }
   },
   "outputs": [
    {
     "name": "stdout",
     "output_type": "stream",
     "text": [
      "accuarcy: 79.22%\n",
      "(669, 2)\n"
     ]
    }
   ],
   "source": [
    "from sklearn.metrics import roc_auc_score,accuracy_score\n",
    "test_new = pd.DataFrame({'result':test_y,'predict':y_preds})\n",
    "a = test_new[test_new[\"predict\"] >= 0.75]\n",
    "pred_labels = np.rint(a['predict'])\n",
    "accuracy = accuracy_score(a['result'], pred_labels)\n",
    "print(\"accuarcy: %.2f%%\" % (accuracy*100.0))\n",
    "print(a.shape)"
   ]
  },
  {
   "cell_type": "code",
   "execution_count": 25,
   "metadata": {
    "ExecuteTime": {
     "end_time": "2022-02-14T00:37:06.596336Z",
     "start_time": "2022-02-14T00:37:06.551349Z"
    }
   },
   "outputs": [
    {
     "data": {
      "text/plain": [
       "1.50    246\n",
       "1.75    191\n",
       "2.00     88\n",
       "1.25     81\n",
       "2.25     28\n",
       "2.50     17\n",
       "2.75      9\n",
       "3.25      4\n",
       "1.00      4\n",
       "3.00      1\n",
       "Name: pankouOdd_End_Zhong_3Real, dtype: int64"
      ]
     },
     "execution_count": 25,
     "metadata": {},
     "output_type": "execute_result"
    }
   ],
   "source": [
    "test2 = test.copy(deep=True)\n",
    "test2[\"result\"] = test_y\n",
    "test2['predict'] = y_preds\n",
    "test2[(test2[\"predict\"] >=0.75)]['pankouOdd_End_Zhong_3Real'].value_counts()"
   ]
  },
  {
   "cell_type": "code",
   "execution_count": 26,
   "metadata": {
    "ExecuteTime": {
     "end_time": "2022-02-14T00:37:06.627324Z",
     "start_time": "2022-02-14T00:37:06.599334Z"
    }
   },
   "outputs": [
    {
     "name": "stdout",
     "output_type": "stream",
     "text": [
      "accuarcy: 78.01%\n",
      "(191, 37)\n"
     ]
    },
    {
     "data": {
      "text/plain": [
       "52    23\n",
       "54    19\n",
       "48    18\n",
       "51    18\n",
       "50    16\n",
       "47    16\n",
       "55    15\n",
       "56    14\n",
       "57    12\n",
       "49    12\n",
       "53    12\n",
       "46    11\n",
       "59     2\n",
       "58     2\n",
       "45     1\n",
       "Name: lastTime, dtype: int64"
      ]
     },
     "execution_count": 26,
     "metadata": {},
     "output_type": "execute_result"
    }
   ],
   "source": [
    "a = test2[(test2['pankouOdd_End_Zhong_3Real']==1.75) & (test2[\"predict\"]  >=0.75)]\n",
    "# a = a[(a['zhongbifengNew'] == '1-1') | (a['zhongbifengNew'] == '0-1') |(a['zhongbifengNew'] == '1-0')| (a['zhongbifengNew'] == '0-0')]\n",
    "accuracy = accuracy_score(a['result'], np.rint(a[\"predict\"]))\n",
    "print(\"accuarcy: %.2f%%\" % (accuracy*100.0))\n",
    "print(a.shape)\n",
    "a['lastTime'].value_counts()"
   ]
  },
  {
   "cell_type": "code",
   "execution_count": 27,
   "metadata": {
    "ExecuteTime": {
     "end_time": "2022-02-14T00:37:06.659313Z",
     "start_time": "2022-02-14T00:37:06.632322Z"
    }
   },
   "outputs": [
    {
     "name": "stdout",
     "output_type": "stream",
     "text": [
      "(246, 37)\n",
      "accuarcy: 79.27%\n"
     ]
    },
    {
     "data": {
      "text/plain": [
       "48    39\n",
       "52    35\n",
       "47    35\n",
       "50    30\n",
       "49    29\n",
       "51    28\n",
       "46    17\n",
       "53    12\n",
       "45     7\n",
       "54     6\n",
       "56     3\n",
       "57     3\n",
       "60     1\n",
       "59     1\n",
       "Name: lastTime, dtype: int64"
      ]
     },
     "execution_count": 27,
     "metadata": {},
     "output_type": "execute_result"
    }
   ],
   "source": [
    "a = test2[(test2['pankouOdd_End_Zhong_3Real']==1.5) & (test2[\"predict\"] >=0.75)]\n",
    "# a = a[a['zhongbifengNew'] == '0-0']\n",
    "# a = a[(a['zhongbifengNew'] != '1-1') & (a['zhongbifengNew'] != '0-1') & (a['zhongbifengNew'] != '1-0') & (a['zhongbifengNew'] != '0-0')]\n",
    "# a = a[(a['zhongbifengNew'] == '1-1') | (a['zhongbifengNew'] == '0-1') |(a['zhongbifengNew'] == '1-0')| (a['zhongbifengNew'] == '0-0')]\n",
    "# a = a[(a['zhongbifengNew'] == '1-0')]\n",
    "# a = a[a['lastBifeng'] == '0-2']\n",
    "# a = a[a['pankouOdd_End_Ji_3'] != \"3\"]\n",
    "print(a.shape)\n",
    "accuracy = accuracy_score(a['result'], np.rint(a[\"predict\"]))\n",
    "print(\"accuarcy: %.2f%%\" % (accuracy*100.0))\n",
    "a['lastTime'].value_counts()"
   ]
  },
  {
   "cell_type": "code",
   "execution_count": 28,
   "metadata": {
    "ExecuteTime": {
     "end_time": "2022-02-14T00:37:06.674308Z",
     "start_time": "2022-02-14T00:37:06.661313Z"
    }
   },
   "outputs": [
    {
     "name": "stdout",
     "output_type": "stream",
     "text": [
      "accuarcy: 80.68%\n",
      "(88, 37)\n"
     ]
    },
    {
     "data": {
      "text/plain": [
       "1-0    18\n",
       "2-0    12\n",
       "0-0    11\n",
       "1-1     8\n",
       "0-1     8\n",
       "1-2     5\n",
       "0-2     4\n",
       "3-1     3\n",
       "4-0     3\n",
       "3-0     3\n",
       "2-1     3\n",
       "2-3     2\n",
       "0-3     2\n",
       "2-2     2\n",
       "1-5     1\n",
       "7-0     1\n",
       "0-4     1\n",
       "4-1     1\n",
       "Name: zhongbifengNew, dtype: int64"
      ]
     },
     "execution_count": 28,
     "metadata": {},
     "output_type": "execute_result"
    }
   ],
   "source": [
    "a = test2[(test2['pankouOdd_End_Zhong_3Real']==2.0) & (test2[\"predict\"]  >=0.75)]\n",
    "# a = a[(a['zhongbifengNew'] != '1-1') & (a['zhongbifengNew'] != '0-1') & (a['zhongbifengNew'] != '1-0') & (a['zhongbifengNew'] != '0-0')]\n",
    "# a = a[(a['zhongbifengNew'] == '1-1') | (a['zhongbifengNew'] == '0-1') |(a['zhongbifengNew'] == '1-0')| (a['zhongbifengNew'] == '0-0')]\n",
    "accuracy = accuracy_score(a['result'], np.rint(a[\"predict\"]))\n",
    "print(\"accuarcy: %.2f%%\" % (accuracy*100.0))\n",
    "print(a.shape)\n",
    "a['zhongbifengNew'].value_counts()"
   ]
  },
  {
   "cell_type": "code",
   "execution_count": 29,
   "metadata": {
    "ExecuteTime": {
     "end_time": "2022-02-14T00:37:06.690302Z",
     "start_time": "2022-02-14T00:37:06.676307Z"
    }
   },
   "outputs": [
    {
     "name": "stdout",
     "output_type": "stream",
     "text": [
      "accuarcy: 78.59%\n",
      "(327, 37)\n"
     ]
    }
   ],
   "source": [
    "a = test2[((test2['pankouOdd_End_Zhong_3Real']==1.5) | (test2['pankouOdd_End_Zhong_3Real']==1.25)) & (test2[\"predict\"] >=0.75)]\n",
    "accuracy = accuracy_score(a['result'], np.rint(a[\"predict\"]))\n",
    "print(\"accuarcy: %.2f%%\" % (accuracy*100.0))\n",
    "print(a.shape)"
   ]
  },
  {
   "cell_type": "code",
   "execution_count": 30,
   "metadata": {
    "ExecuteTime": {
     "end_time": "2022-02-14T00:37:06.705298Z",
     "start_time": "2022-02-14T00:37:06.692302Z"
    }
   },
   "outputs": [],
   "source": [
    "zhongList = test2[\"zhongbifengNew\"].unique()"
   ]
  },
  {
   "cell_type": "code",
   "execution_count": null,
   "metadata": {
    "ExecuteTime": {
     "start_time": "2022-01-10T14:42:00.250Z"
    }
   },
   "outputs": [],
   "source": []
  },
  {
   "cell_type": "code",
   "execution_count": null,
   "metadata": {
    "ExecuteTime": {
     "end_time": "2022-01-02T04:53:43.788607Z",
     "start_time": "2022-01-02T04:53:43.769617Z"
    }
   },
   "outputs": [],
   "source": []
  },
  {
   "cell_type": "code",
   "execution_count": 31,
   "metadata": {
    "ExecuteTime": {
     "end_time": "2022-02-14T00:37:07.715965Z",
     "start_time": "2022-02-14T00:37:06.706298Z"
    }
   },
   "outputs": [
    {
     "data": {
      "image/png": "[encoded data removed]",
      "text/plain": [
       "<Figure size 1152x1152 with 1 Axes>"
      ]
     },
     "metadata": {
      "needs_background": "light"
     },
     "output_type": "display_data"
    }
   ],
   "source": [
    "import seaborn as sns\n",
    "feature_importance_gain=pd.DataFrame()\n",
    "feature_importance_gain['feature']=columns\n",
    "feature_importance_gain['fold_1']=clf.feature_importance(importance_type='gain')\n",
    "feature_importance_gain['average'] = feature_importances[[f'fold_{fold_n + 1}' for fold_n in range(1)]].mean(axis=1)\n",
    "plt.figure(figsize=(16, 16))\n",
    "sns.barplot(data=feature_importance_gain.sort_values(by='average', ascending=False).head(50), x='average', y='feature');\n",
    "plt.title('100 TOP feature importance over {} folds average'.format(folds.n_splits));"
   ]
  },
  {
   "cell_type": "code",
   "execution_count": 32,
   "metadata": {
    "ExecuteTime": {
     "end_time": "2022-02-14T00:37:09.160488Z",
     "start_time": "2022-02-14T00:37:07.717964Z"
    }
   },
   "outputs": [
    {
     "ename": "NameError",
     "evalue": "name 'ss' is not defined",
     "output_type": "error",
     "traceback": [
      "\u001b[1;31m---------------------------------------------------------------------------\u001b[0m",
      "\u001b[1;31mNameError\u001b[0m                                 Traceback (most recent call last)",
      "\u001b[1;32m~\\AppData\\Local\\Temp/ipykernel_85300/164596383.py\u001b[0m in \u001b[0;36m<module>\u001b[1;34m\u001b[0m\n\u001b[1;32m----> 1\u001b[1;33m \u001b[0mss\u001b[0m\u001b[1;33m\u001b[0m\u001b[1;33m\u001b[0m\u001b[0m\n\u001b[0m",
      "\u001b[1;31mNameError\u001b[0m: name 'ss' is not defined"
     ]
    }
   ],
   "source": [
    "ss"
   ]
  },
  {
   "cell_type": "code",
   "execution_count": null,
   "metadata": {
    "ExecuteTime": {
     "end_time": "2022-02-14T00:37:09.162485Z",
     "start_time": "2022-02-14T00:37:09.162485Z"
    },
    "id": "uh55l3HyEdIi"
   },
   "outputs": [],
   "source": [
    "# import seaborn as sns\n",
    "# sns.set()\n",
    "\n",
    "# import sweetviz as sv\n",
    "# # 可以选择目标特征\n",
    "# my_report = sv.analyze(train, target_feat ='result')\n",
    "# my_report.show_html()"
   ]
  },
  {
   "cell_type": "code",
   "execution_count": null,
   "metadata": {
    "ExecuteTime": {
     "end_time": "2021-09-19T10:57:59.677256Z",
     "start_time": "2021-09-19T10:57:59.647275Z"
    }
   },
   "outputs": [],
   "source": []
  },
  {
   "cell_type": "code",
   "execution_count": null,
   "metadata": {
    "ExecuteTime": {
     "end_time": "2022-01-07T15:48:25.896047Z",
     "start_time": "2022-01-07T15:45:59.245Z"
    },
    "colab": {
     "base_uri": "https://localhost:8080/"
    },
    "id": "8zSjBu_6EdIj",
    "outputId": "81692c28-e759-47b2-a248-7e1e880b2636"
   },
   "outputs": [],
   "source": []
  },
  {
   "cell_type": "code",
   "execution_count": null,
   "metadata": {
    "ExecuteTime": {
     "end_time": "2022-02-14T00:37:09.164485Z",
     "start_time": "2022-02-14T00:37:09.164485Z"
    }
   },
   "outputs": [],
   "source": [
    "lgb_params = {\n",
    "    'objective': 'binary',\n",
    "    'n_estimators': 20000,\n",
    "    'random_state': 42,\n",
    "    'learning_rate': 8e-3,\n",
    "    'subsample': 0.6,\n",
    "    'subsample_freq': 1,\n",
    "    'colsample_bytree': 0.4,\n",
    "    'reg_alpha': 10.0,\n",
    "    'reg_lambda': 1e-1,\n",
    "    'min_child_weight': 256,\n",
    "    'min_child_samples': 20,\n",
    "}\n",
    "\n",
    "\n",
    "xgb_params = {'n_estimators': 10000,\n",
    "               'learning_rate': 0.03689407512484644,\n",
    "               'max_depth': 8,\n",
    "               'colsample_bytree': 0.3723914688159835,\n",
    "               'subsample': 0.780714581166012,\n",
    "               'eval_metric': 'auc',\n",
    "               'use_label_encoder': False,\n",
    "               'gamma': 0,\n",
    "               'reg_lambda': 50.0,\n",
    "               'gpu_id': 0,\n",
    "               'objective': 'binary:logistic',\n",
    "               'random_state': 42}\n",
    "\n",
    "\n",
    "cat_params = {'iterations': 17298,\n",
    "               'learning_rate': 0.03429054860458741,\n",
    "               'reg_lambda': 0.3242286463210283,\n",
    "               'subsample': 0.9433911589913944,\n",
    "               'random_strength': 22.4849972385133,\n",
    "               'depth': 8,\n",
    "               'min_data_in_leaf': 4,\n",
    "               'leaf_estimation_iterations': 8,\n",
    "               'task_type':\"GPU\",\n",
    "               'bootstrap_type':'Poisson',\n",
    "               'verbose' : 500,\n",
    "               'early_stopping_rounds' : 200,\n",
    "               'eval_metric' : 'AUC',\n",
    "               'thread_count'=-1}"
   ]
  },
  {
   "cell_type": "code",
   "execution_count": null,
   "metadata": {
    "ExecuteTime": {
     "end_time": "2022-02-14T00:37:09.165485Z",
     "start_time": "2022-02-14T00:37:09.165485Z"
    }
   },
   "outputs": [],
   "source": [
    "from xgboost import XGBClassifier\n",
    "from lightgbm import LGBMClassifier\n",
    "from catboost import CatBoostClassifier\n",
    "\n",
    "lgbm = LGBMClassifier(**lgb_params)\n",
    "\n",
    "xgb = XGBClassifier(**xgb_params)\n",
    "\n",
    "cat = CatBoostClassifier(**cat_params)"
   ]
  },
  {
   "cell_type": "code",
   "execution_count": null,
   "metadata": {
    "ExecuteTime": {
     "end_time": "2022-02-14T00:37:09.166485Z",
     "start_time": "2022-02-14T00:37:09.166485Z"
    }
   },
   "outputs": [],
   "source": [
    "from sklearn import model_selection\n",
    "from sklearn.linear_model import LogisticRegression\n",
    "from sklearn.neighbors import KNeighborsClassifier\n",
    "from sklearn.naive_bayes import GaussianNB \n",
    "from sklearn.ensemble import RandomForestClassifier\n",
    "from mlxtend.classifier import StackingCVClassifier\n",
    "\n",
    "lr = LogisticRegression()\n",
    "\n",
    "sclf = StackingCVClassifier(classifiers=[lgbm, xgb,cat],\n",
    "                            use_probas=True,\n",
    "                            meta_classifier=lr,\n",
    "                            random_state=42)"
   ]
  },
  {
   "cell_type": "code",
   "execution_count": null,
   "metadata": {
    "ExecuteTime": {
     "end_time": "2021-11-26T15:41:42.278614Z",
     "start_time": "2021-11-26T15:41:42.255613Z"
    }
   },
   "outputs": [],
   "source": []
  },
  {
   "cell_type": "code",
   "execution_count": null,
   "metadata": {
    "ExecuteTime": {
     "end_time": "2022-02-14T00:37:09.168484Z",
     "start_time": "2022-02-14T00:37:09.168484Z"
    },
    "scrolled": true
   },
   "outputs": [],
   "source": [
    "statcker = sclf.fit(train_x, train_y)"
   ]
  },
  {
   "cell_type": "code",
   "execution_count": null,
   "metadata": {
    "ExecuteTime": {
     "end_time": "2022-02-14T00:37:09.170483Z",
     "start_time": "2022-02-14T00:37:09.170483Z"
    }
   },
   "outputs": [],
   "source": [
    "y_pred = statcker.predict_proba(test_x)[:, 1]\n",
    "accuracy = roc_auc_score(test_y, y_pred)\n",
    "print(\"accuarcy: %.2f%%\" % (accuracy*100.0))"
   ]
  },
  {
   "cell_type": "code",
   "execution_count": null,
   "metadata": {
    "ExecuteTime": {
     "end_time": "2022-01-11T00:49:12.084860Z",
     "start_time": "2022-01-11T00:49:12.022881Z"
    }
   },
   "outputs": [],
   "source": []
  },
  {
   "cell_type": "code",
   "execution_count": null,
   "metadata": {},
   "outputs": [],
   "source": []
  }
 ],
 "metadata": {
  "colab": {
   "collapsed_sections": [],
   "name": "NewXG.ipynb",
   "provenance": []
  },
  "kernelspec": {
   "display_name": "Python 3 (ipykernel)",
   "language": "python",
   "name": "python3"
  },
  "language_info": {
   "codemirror_mode": {
    "name": "ipython",
    "version": 3
   },
   "file_extension": ".py",
   "mimetype": "text/x-python",
   "name": "python",
   "nbconvert_exporter": "python",
   "pygments_lexer": "ipython3",
   "version": "3.8.5"
  },
  "toc": {
   "base_numbering": 1,
   "nav_menu": {},
   "number_sections": true,
   "sideBar": true,
   "skip_h1_title": false,
   "title_cell": "Table of Contents",
   "title_sidebar": "Contents",
   "toc_cell": false,
   "toc_position": {},
   "toc_section_display": true,
   "toc_window_display": false
  }
 },
 "nbformat": 4,
 "nbformat_minor": 1
}
