{
 "cells": [
  {
   "cell_type": "code",
   "execution_count": 80,
   "metadata": {
    "ExecuteTime": {
     "end_time": "2021-11-24T12:15:54.732364Z",
     "start_time": "2021-11-24T12:15:54.728378Z"
    },
    "id": "sweheA5JE1Um"
   },
   "outputs": [],
   "source": [
    "import json\n",
    "import pandas as pd\n",
    "\n",
    "import pymongo\n",
    "import matplotlib as mpl\n",
    "import numpy as np\n",
    "import matplotlib.pyplot as plt"
   ]
  },
  {
   "cell_type": "code",
   "execution_count": 81,
   "metadata": {
    "ExecuteTime": {
     "end_time": "2021-11-24T12:15:55.077934Z",
     "start_time": "2021-11-24T12:15:54.734363Z"
    },
    "id": "zsdk2PFUyh7P"
   },
   "outputs": [],
   "source": [
    "import warnings\n",
    "warnings.filterwarnings('ignore')"
   ]
  },
  {
   "cell_type": "code",
   "execution_count": 82,
   "metadata": {
    "ExecuteTime": {
     "end_time": "2021-11-24T12:15:55.109975Z",
     "start_time": "2021-11-24T12:15:55.080919Z"
    },
    "id": "dQ2cjdK9EdIH"
   },
   "outputs": [],
   "source": [
    "def reduce_mem_usage(df, verbose=False):\n",
    "    numerics = ['int16', 'int32', 'int64', 'float16', 'float32', 'float64']\n",
    "    start_mem = df.memory_usage().sum() / 1024**2\n",
    "    for col in df.columns:\n",
    "        col_type = df[col].dtypes\n",
    "        if col_type in numerics:\n",
    "            c_min = df[col].min()\n",
    "            c_max = df[col].max()\n",
    "            if str(col_type)[:3] == 'int':\n",
    "                if c_min > np.iinfo(np.int8).min and c_max < np.iinfo(np.int8).max:\n",
    "                    df[col] = df[col].astype(np.int8)\n",
    "                elif c_min > np.iinfo(np.int16).min and c_max < np.iinfo(np.int16).max:\n",
    "                    df[col] = df[col].astype(np.int16)\n",
    "                elif c_min > np.iinfo(np.int32).min and c_max < np.iinfo(np.int32).max:\n",
    "                    df[col] = df[col].astype(np.int32)\n",
    "                elif c_min > np.iinfo(np.int64).min and c_max < np.iinfo(np.int64).max:\n",
    "                    df[col] = df[col].astype(np.int64)\n",
    "            else:\n",
    "                c_prec = df[col].apply(lambda x: np.finfo(x).precision).max()\n",
    "                if c_min > np.finfo(np.float16).min and c_max < np.finfo(np.float16).max and c_prec == np.finfo(np.float16).precision:\n",
    "                    df[col] = df[col].astype(np.float16)\n",
    "                elif c_min > np.finfo(np.float32).min and c_max < np.finfo(np.float32).max and c_prec == np.finfo(np.float32).precision:\n",
    "                    df[col] = df[col].astype(np.float32)\n",
    "                else:\n",
    "                    df[col] = df[col].astype(np.float64)\n",
    "    end_mem = df.memory_usage().sum() / 1024**2\n",
    "    if verbose: print('Mem. usage decreased to {:5.2f} Mb ({:.1f}% reduction)'.format(end_mem, 100 * (start_mem - end_mem) / start_mem))\n",
    "    return df"
   ]
  },
  {
   "cell_type": "code",
   "execution_count": 83,
   "metadata": {
    "ExecuteTime": {
     "end_time": "2021-11-24T12:15:55.156948Z",
     "start_time": "2021-11-24T12:15:55.111986Z"
    },
    "id": "EQ6sA0qwEdIJ"
   },
   "outputs": [],
   "source": [
    "def getGoalMid(masterGoal, guestGoal, masterMidGoal, guestMidGoal):\n",
    "    return int(masterGoal) + int(guestGoal) - int(masterMidGoal) - int(guestMidGoal)\n",
    "\n",
    "\n",
    "def removeSub(pankou):\n",
    "    pankou = pankou.replace(\"升\", \"\")\n",
    "    pankou = pankou.replace(\"降\", \"\")\n",
    "    return pankou.strip()\n",
    "\n",
    "\n",
    "def getResultOne(goalMid, pankou):\n",
    "    row = pankou\n",
    "    if goalMid - float(row) > 0:\n",
    "        return 1\n",
    "    if goalMid - float(row) <= 0:\n",
    "        return 0\n",
    "    \n",
    "def getType(yapanMasterStartOdd, yapanGuestStartOdd, yapanPankouStart):\n",
    "    linTypeStart = get18(yapanMasterStartOdd, yapanGuestStartOdd)\n",
    "    return str(linTypeStart) + \"_\" + str(yapanPankouStart)\n",
    "\n",
    "\n",
    "def get18(master, guest):\n",
    "    if master > guest:\n",
    "        return 18\n",
    "    if master < guest:\n",
    "        return 81\n",
    "    if master == guest:\n",
    "        return 99\n",
    "\n",
    "\n",
    "def daxiao_num(x):\n",
    "    x_list = x.split(\"/\")\n",
    "    num = 0\n",
    "    for i in x_list:\n",
    "        num += float(i)\n",
    "    return (float(num)/len(x_list))\n",
    "\n",
    "\n",
    "def realDaxiao(x, master, guest):\n",
    "    return float(x) - float(master) - float(guest)\n",
    "\n",
    "\n",
    "def shengjiang(start, end):\n",
    "    return ((end) - (start))\n",
    "\n",
    "def round2(x):\n",
    "    return round((x), 2)"
   ]
  },
  {
   "cell_type": "code",
   "execution_count": 84,
   "metadata": {
    "ExecuteTime": {
     "end_time": "2021-11-24T12:15:55.188814Z",
     "start_time": "2021-11-24T12:15:55.157897Z"
    },
    "id": "pp8R2fWxRhf0"
   },
   "outputs": [],
   "source": [
    "def getShuiPing(x):\n",
    "    result = 11\n",
    "    if x < 0.75:\n",
    "        result = 0\n",
    "    if 0.75<= x and x<=0.85:\n",
    "        result = 1\n",
    "    if 0.85<x and x<=0.90:\n",
    "        result = 2\n",
    "    if 0.90<x and x<=0.95:\n",
    "        result = 3\n",
    "    if 0.95<x and x<=1.00:\n",
    "        result = 4\n",
    "    if 1.00<x and x<=1.08:\n",
    "        result = 5\n",
    "    if 1.08<x:\n",
    "        result = 6\n",
    "    return result\n",
    "\n",
    "def num_fea_dis(df,features):\n",
    "    for f in features:\n",
    "        nm = f+'_'+'shuiPing'\n",
    "        df[nm] = df[f].map(getShuiPing)\n",
    "    return df"
   ]
  },
  {
   "cell_type": "code",
   "execution_count": 85,
   "metadata": {
    "ExecuteTime": {
     "end_time": "2021-11-24T12:15:55.219834Z",
     "start_time": "2021-11-24T12:15:55.189812Z"
    },
    "id": "z5MN0RQYEdIK"
   },
   "outputs": [],
   "source": [
    "def fillNa(x, value):\n",
    "    if pd.isnull(x):\n",
    "        return value\n",
    "    else:\n",
    "        return x\n",
    "\n",
    "    \n",
    "def preF(test):\n",
    "    test = test[(test['masterOdd_Start_Ji_3'] >= 0.50) & (test['masterOdd_Start_Ji_3'] < 2.00)]\n",
    "    test = test[(test['masterOdd_End_Ji_3'] >= 0.50) & (test['masterOdd_End_Ji_3'] < 2.00)]\n",
    "    test = test[(test['masterOdd_Start_Zhong_3'] >= 0.50) & (test['masterOdd_Start_Zhong_3'] < 2.00)]\n",
    "    test = test[(test['masterOdd_End_Zhong_3'] >= 0.50) & (test['masterOdd_End_Zhong_3'] < 2.00)]\n",
    "\n",
    "    test['goalMid'] = test.apply(lambda x: getGoalMid(\n",
    "        x['masterGoal'], x['guestGoal'], x['midGuestGoal'], x['midMasterGoal']), axis=1)\n",
    "    \n",
    "    test['zhongbifengNew'] = test['midMasterGoal'].astype(\n",
    "        str) + \"_\" + test['midGuestGoal'].astype(str)\n",
    "\n",
    "    test[\"water_type_mid\"] =  test['masterOdd_End_Zhong_3'] + test['guestOdd_End_Zhong_3']\n",
    "    test[\"water_type_mid\"] =  test[\"water_type_mid\"].map(round2)\n",
    "    test[\"water_type_mid\"] =  test[\"water_type_mid\"].astype(str)\n",
    "     \n",
    "    pankou = [\"pankouOdd_End_Zhong_3\",\"pankou_Start_Zhong_3\"] + [\"pankou_Start_Ji_3\",\"pankouOdd_End_Ji_3\"]\n",
    "\n",
    "    for col in pankou:\n",
    "        test[col] = test[col].map(daxiao_num)\n",
    "        test[col] = test[col].astype(str)\n",
    "        nm = col + \"Real\"\n",
    "        test[nm] = test.apply(lambda x: realDaxiao(x[col],x['midGuestGoal'],x['midMasterGoal']), axis=1)\n",
    "        test[nm] = test[nm].astype(str)\n",
    "\n",
    "    test['result'] = test.apply(lambda x: getResultOne(\n",
    "        x['goalMid'], x['pankouOdd_End_Zhong_3Real']), axis=1)\n",
    "    \n",
    "    fes = ['masterOdd_Start_Ji_3', 'masterOdd_End_Ji_3',\n",
    "           'masterOdd_Start_Zhong_3', 'masterOdd_End_Zhong_3'] + ['guestOdd_Start_Ji_3', 'guestOdd_End_Ji_3',\n",
    "           'guestOdd_Start_Zhong_3', 'guestOdd_End_Zhong_3']\n",
    "    \n",
    "    num_fea_dis(test, fes)\n",
    "    \n",
    "    test['daxiaoTypeStart'] = test['masterOdd_Start_Ji_3_shuiPing'].astype(str) + test['pankou_Start_Ji_3'] + test['zhongbifengNew']\n",
    "    test['daxiaoType'] = test['masterOdd_End_Ji_3_shuiPing'].astype(str) + test['pankouOdd_End_Ji_3'] + test['zhongbifengNew']\n",
    "    test['daxiaoTypeStartMid'] = test['masterOdd_Start_Zhong_3_shuiPing'].astype(str) + test['pankou_Start_Zhong_3Real'] + test['zhongbifengNew']\n",
    "    test['daxiaoTypeMid'] = test['masterOdd_End_Zhong_3_shuiPing'].astype(str) + test['pankouOdd_End_Zhong_3Real'] + test['zhongbifengNew']\n",
    "\n",
    "    test['daxiaoTypeALL'] = test['daxiaoTypeStart'] + test['daxiaoType']\n",
    "    test['daxiaoTypeMidALL'] = test['daxiaoTypeStartMid'] + test['daxiaoTypeMid']\n",
    "\n",
    "    test['daxiaoTypeStartGuest'] = test['guestOdd_Start_Ji_3_shuiPing'].astype(str) + test['pankou_Start_Ji_3'] + test['zhongbifengNew']\n",
    "    test['daxiaoTypeGuest'] = test['guestOdd_End_Ji_3_shuiPing'].astype(str) + test['pankouOdd_End_Ji_3'] + test['zhongbifengNew']\n",
    "    test['daxiaoTypeStartMidGuest'] = test['guestOdd_Start_Zhong_3_shuiPing'].astype(str) + test['pankou_Start_Zhong_3Real'] + test['zhongbifengNew']\n",
    "    test['daxiaoTypeMidGuest'] = test['guestOdd_End_Zhong_3_shuiPing'].astype(str) + test['pankouOdd_End_Zhong_3Real'] + test['zhongbifengNew']\n",
    "\n",
    "    test['daxiaoTypeALLGuest'] = test['daxiaoTypeStartGuest'] + test['daxiaoTypeGuest']\n",
    "    test['daxiaoTypeMidALLGuest'] = test['daxiaoTypeStartMidGuest'] + test['daxiaoTypeMidGuest']  \n",
    "\n",
    " \n",
    "    test['daxiaoPankou'] = test['pankou_Start_Ji_3'] + test['pankouOdd_End_Ji_3']\n",
    "    test['daxiaoPankouMid'] = test['pankou_Start_Zhong_3Real'] + test['pankouOdd_End_Zhong_3Real']\n",
    "    test['daxiaoPankouALL'] = test['daxiaoPankou'] + test['daxiaoPankouMid'] + test['zhongbifengNew']\n",
    "\n",
    "\n",
    "    test['MasterOddFlowPankou'] = test[\"pankouOdd_End_Ji_3\"].astype(float) - test[\"pankou_Start_Ji_3\"].astype(float)\n",
    "    test['MasterOddFlowPankouMid'] = test[\"pankou_Start_Zhong_3\"].astype(float) - test[\"pankouOdd_End_Zhong_3\"].astype(float)\n",
    "\n",
    "    test['MasterOddFlow'] = test[\"masterOdd_Start_Ji_3\"] - test[\"masterOdd_End_Ji_3\"]\n",
    "    test['MasterOddFlowMid'] = test[\"masterOdd_Start_Zhong_3\"] - test[\"masterOdd_End_Zhong_3\"]\n",
    "    test['MasterOddFlowALL'] = test[\"MasterOddFlow\"] + test[\"MasterOddFlowPankou\"]\n",
    "    test['MasterOddFlowALLMid'] = test[\"MasterOddFlowMid\"] + test[\"MasterOddFlowPankouMid\"]\n",
    "    \n",
    "    test = test.drop(columns=['masterOdd_Start_Ji_3_shuiPing', 'masterOdd_End_Ji_3_shuiPing', \"masterOdd_Start_Zhong_3_shuiPing\", \"masterOdd_End_Zhong_3_shuiPing\"])\n",
    "    test = test.drop(columns=['guestOdd_Start_Ji_3_shuiPing', 'guestOdd_End_Ji_3_shuiPing', \"guestOdd_Start_Zhong_3_shuiPing\", \"guestOdd_End_Zhong_3_shuiPing\"])\n",
    "    test = test.drop(columns=['masterGoal', 'guestGoal', \"goalMid\"])\n",
    "    test = test.drop(columns=['midGuestGoal', 'midMasterGoal'])\n",
    "    test = test.drop(columns=['time'])\n",
    "\n",
    "    return test"
   ]
  },
  {
   "cell_type": "code",
   "execution_count": 86,
   "metadata": {
    "ExecuteTime": {
     "end_time": "2021-11-24T12:17:15.204896Z",
     "start_time": "2021-11-24T12:15:55.221834Z"
    },
    "colab": {
     "base_uri": "https://localhost:8080/"
    },
    "id": "2m0feaeSEdIQ",
    "outputId": "4e236cee-c1e9-4450-86f2-46e4185c6789"
   },
   "outputs": [
    {
     "name": "stdout",
     "output_type": "stream",
     "text": [
      "<class 'pandas.core.frame.DataFrame'>\n",
      "Int64Index: 347032 entries, 0 to 348916\n",
      "Data columns (total 41 columns):\n",
      " #   Column                     Non-Null Count   Dtype  \n",
      "---  ------                     --------------   -----  \n",
      " 0   lianShai                   347032 non-null  object \n",
      " 1   guestOdd_End_Ji_3          347032 non-null  float64\n",
      " 2   guestOdd_End_Zhong_3       347032 non-null  float64\n",
      " 3   guestOdd_Start_Ji_3        347032 non-null  float64\n",
      " 4   guestOdd_Start_Zhong_3     347032 non-null  float64\n",
      " 5   masterOdd_End_Ji_3         347032 non-null  float64\n",
      " 6   masterOdd_End_Zhong_3      347032 non-null  float64\n",
      " 7   masterOdd_Start_Ji_3       347032 non-null  float64\n",
      " 8   masterOdd_Start_Zhong_3    347032 non-null  float64\n",
      " 9   pankouOdd_End_Ji_3         347032 non-null  object \n",
      " 10  pankouOdd_End_Zhong_3      347032 non-null  object \n",
      " 11  pankou_Start_Ji_3          347032 non-null  object \n",
      " 12  pankou_Start_Zhong_3       347032 non-null  object \n",
      " 13  zhongbifengNew             347032 non-null  object \n",
      " 14  water_type_mid             347032 non-null  object \n",
      " 15  pankouOdd_End_Zhong_3Real  347032 non-null  object \n",
      " 16  pankou_Start_Zhong_3Real   347032 non-null  object \n",
      " 17  pankou_Start_Ji_3Real      347032 non-null  object \n",
      " 18  pankouOdd_End_Ji_3Real     347032 non-null  object \n",
      " 19  result                     347032 non-null  int64  \n",
      " 20  daxiaoTypeStart            347032 non-null  object \n",
      " 21  daxiaoType                 347032 non-null  object \n",
      " 22  daxiaoTypeStartMid         347032 non-null  object \n",
      " 23  daxiaoTypeMid              347032 non-null  object \n",
      " 24  daxiaoTypeALL              347032 non-null  object \n",
      " 25  daxiaoTypeMidALL           347032 non-null  object \n",
      " 26  daxiaoTypeStartGuest       347032 non-null  object \n",
      " 27  daxiaoTypeGuest            347032 non-null  object \n",
      " 28  daxiaoTypeStartMidGuest    347032 non-null  object \n",
      " 29  daxiaoTypeMidGuest         347032 non-null  object \n",
      " 30  daxiaoTypeALLGuest         347032 non-null  object \n",
      " 31  daxiaoTypeMidALLGuest      347032 non-null  object \n",
      " 32  daxiaoPankou               347032 non-null  object \n",
      " 33  daxiaoPankouMid            347032 non-null  object \n",
      " 34  daxiaoPankouALL            347032 non-null  object \n",
      " 35  MasterOddFlowPankou        347032 non-null  float64\n",
      " 36  MasterOddFlowPankouMid     347032 non-null  float64\n",
      " 37  MasterOddFlow              347032 non-null  float64\n",
      " 38  MasterOddFlowMid           347032 non-null  float64\n",
      " 39  MasterOddFlowALL           347032 non-null  float64\n",
      " 40  MasterOddFlowALLMid        347032 non-null  float64\n",
      "dtypes: float64(14), int64(1), object(26)\n",
      "memory usage: 111.2+ MB\n"
     ]
    }
   ],
   "source": [
    "myclient = pymongo.MongoClient(\"mongodb://localhost:27017/\")\n",
    "mydb = myclient[\"soccerData\"]\n",
    "mycol = mydb[\"midDaxiao007v3\"]\n",
    "data_mid = pd.DataFrame(list(mycol.find()))\n",
    "data_mid = data_mid.drop(['_id','place'], axis=1)\n",
    "data_mid = data_mid.dropna()\n",
    "data_mid = reduce_mem_usage(data_mid)\n",
    "data_mid = preF(data_mid)\n",
    "data_mid.info()\n",
    "\n",
    "# data_mid = pd.read_csv('train.txt')\n",
    "# data_mid = data_mid.drop(['Unnamed: 0'], axis=1)"
   ]
  },
  {
   "cell_type": "code",
   "execution_count": 87,
   "metadata": {
    "ExecuteTime": {
     "end_time": "2021-11-24T12:17:15.717731Z",
     "start_time": "2021-11-24T12:17:15.208896Z"
    },
    "id": "nPbOZnzDRhf4"
   },
   "outputs": [],
   "source": [
    "train = data_mid"
   ]
  },
  {
   "cell_type": "code",
   "execution_count": 88,
   "metadata": {
    "ExecuteTime": {
     "end_time": "2021-11-24T12:17:16.443281Z",
     "start_time": "2021-11-24T12:17:15.720731Z"
    },
    "id": "QpLpI8FCRhf6"
   },
   "outputs": [],
   "source": [
    "myclient = pymongo.MongoClient(\"mongodb://localhost:27017/\")\n",
    "mycol = mydb[\"win007daxiaotest11\"]\n",
    "test = pd.DataFrame(list(mycol.find()))\n",
    "test = test.drop(['_id','place'], axis=1)\n",
    "test = test.dropna()\n",
    "test = reduce_mem_usage(test)\n",
    "test = preF(test)\n",
    "\n",
    "# test.to_csv('test_202111.txt')\n",
    "# test_da = pd.read_csv('test.txt')\n",
    "# test_da = test_da.drop(['Unnamed: 0'], axis=1)\n",
    "# mycol = mydb[\"win007yapantest\"]\n",
    "# test = pd.DataFrame(list(mycol.find()))\n",
    "# test = test.dropna()\n",
    "# test = test[['place']]"
   ]
  },
  {
   "cell_type": "code",
   "execution_count": 89,
   "metadata": {
    "ExecuteTime": {
     "end_time": "2021-11-24T12:17:16.459276Z",
     "start_time": "2021-11-24T12:17:16.445281Z"
    },
    "id": "vMOqUfP4Rhf6"
   },
   "outputs": [],
   "source": [
    "# from sklearn.model_selection import  StratifiedKFold,KFold\n",
    "# import category_encoders as ce\n",
    "# import gc\n",
    "# def mean_woe_target_encoder(train,test,target,col,n_splits=10):\n",
    "#     folds = StratifiedKFold(n_splits)\n",
    "\n",
    "#     y_oof = np.zeros(train.shape[0])\n",
    "#     y_oof_2= np.zeros(train.shape[0])\n",
    "#     y_test_oof = np.zeros(test.shape[0]).reshape(-1,1)\n",
    "#     y_test_oof2 = np.zeros(test.shape[0]).reshape(-1,1)\n",
    "\n",
    "#     splits = folds.split(train, target)\n",
    "    \n",
    "#     for fold_n, (train_index, valid_index) in enumerate(splits):\n",
    "#         X_train, X_valid = train[col].iloc[train_index], train[col].iloc[valid_index]\n",
    "#         y_train, y_valid = target.iloc[train_index], target.iloc[valid_index]\n",
    "#         clf=ce.target_encoder.TargetEncoder()\n",
    "    \n",
    "#         clf.fit(X_train.values,y_train.values)    \n",
    "#         y_pred_valid = clf.transform(X_valid.values)\n",
    "\n",
    "#         y_oof[valid_index] = y_pred_valid.values.reshape(1,-1)\n",
    "\n",
    "#         tp=(clf.transform(test[col].values)/(n_splits*1.0)).values\n",
    "#         tp=tp.reshape(-1,1)\n",
    "#         y_test_oof+=tp    \n",
    "    \n",
    "#         del X_train, X_valid, y_train, y_valid\n",
    "#         gc.collect()    \n",
    "#     return y_oof,y_test_oof"
   ]
  },
  {
   "cell_type": "code",
   "execution_count": 90,
   "metadata": {
    "ExecuteTime": {
     "end_time": "2021-11-24T12:17:16.490194Z",
     "start_time": "2021-11-24T12:17:16.461276Z"
    }
   },
   "outputs": [],
   "source": [
    "# for col in cat_features:\n",
    "#   y_oof,y_test_oof = mean_woe_target_encoder(train_x,test_x,train_y,col,n_splits=10)\n",
    "#   train_x[col] = y_oof\n",
    "#   test_x[col] = y_test_oof"
   ]
  },
  {
   "cell_type": "code",
   "execution_count": 91,
   "metadata": {
    "ExecuteTime": {
     "end_time": "2021-11-24T12:17:16.741146Z",
     "start_time": "2021-11-24T12:17:16.492194Z"
    },
    "id": "ifyVyBe0Rhf6"
   },
   "outputs": [],
   "source": [
    "train_x =  train.drop(columns=['result'])\n",
    "train_y =  train['result']\n",
    "\n",
    "test_x =  test.drop(columns=['result'])\n",
    "test_y = test['result']"
   ]
  },
  {
   "cell_type": "code",
   "execution_count": 92,
   "metadata": {
    "ExecuteTime": {
     "end_time": "2021-11-24T12:17:32.284593Z",
     "start_time": "2021-11-24T12:17:16.743145Z"
    },
    "id": "MSX6HV1gRhf7"
   },
   "outputs": [],
   "source": [
    "train_x = reduce_mem_usage(train_x)\n",
    "test_x = reduce_mem_usage(test_x)"
   ]
  },
  {
   "cell_type": "code",
   "execution_count": 93,
   "metadata": {
    "ExecuteTime": {
     "end_time": "2021-11-24T12:17:32.299354Z",
     "start_time": "2021-11-24T12:17:32.286360Z"
    },
    "id": "6VTDHhIiHQC0"
   },
   "outputs": [],
   "source": [
    "cat_features = test_x.select_dtypes(include='object').columns"
   ]
  },
  {
   "cell_type": "code",
   "execution_count": 94,
   "metadata": {
    "ExecuteTime": {
     "end_time": "2021-11-24T12:17:32.346774Z",
     "start_time": "2021-11-24T12:17:32.301344Z"
    }
   },
   "outputs": [
    {
     "data": {
      "text/plain": [
       "Index(['lianShai', 'pankouOdd_End_Ji_3', 'pankouOdd_End_Zhong_3',\n",
       "       'pankou_Start_Ji_3', 'pankou_Start_Zhong_3', 'zhongbifengNew',\n",
       "       'water_type_mid', 'pankouOdd_End_Zhong_3Real',\n",
       "       'pankou_Start_Zhong_3Real', 'pankou_Start_Ji_3Real',\n",
       "       'pankouOdd_End_Ji_3Real', 'daxiaoTypeStart', 'daxiaoType',\n",
       "       'daxiaoTypeStartMid', 'daxiaoTypeMid', 'daxiaoTypeALL',\n",
       "       'daxiaoTypeMidALL', 'daxiaoTypeStartGuest', 'daxiaoTypeGuest',\n",
       "       'daxiaoTypeStartMidGuest', 'daxiaoTypeMidGuest', 'daxiaoTypeALLGuest',\n",
       "       'daxiaoTypeMidALLGuest', 'daxiaoPankou', 'daxiaoPankouMid',\n",
       "       'daxiaoPankouALL'],\n",
       "      dtype='object')"
      ]
     },
     "execution_count": 94,
     "metadata": {},
     "output_type": "execute_result"
    }
   ],
   "source": [
    "cat_features"
   ]
  },
  {
   "cell_type": "code",
   "execution_count": null,
   "metadata": {
    "ExecuteTime": {
     "start_time": "2021-11-24T12:15:54.751Z"
    },
    "id": "uW3M1HAF0OVN"
   },
   "outputs": [],
   "source": [
    "import category_encoders as ce\n",
    "import joblib\n",
    "target_enc = ce.TargetEncoder(cols=cat_features)\n",
    "target_enc.fit(train[cat_features], train_y)\n",
    "\n",
    "joblib.dump(target_enc,\"target_enc.txt\")\n",
    "target_enc = joblib.load(\"target_enc.txt\")\n",
    "train_x[cat_features] = target_enc.transform(train_x[cat_features])\n",
    "test_x[cat_features] = target_enc.transform(test_x[cat_features])"
   ]
  },
  {
   "cell_type": "code",
   "execution_count": null,
   "metadata": {
    "ExecuteTime": {
     "start_time": "2021-11-24T12:15:54.753Z"
    }
   },
   "outputs": [],
   "source": [
    "test_x.info()"
   ]
  },
  {
   "cell_type": "code",
   "execution_count": null,
   "metadata": {
    "ExecuteTime": {
     "start_time": "2021-11-24T12:15:54.755Z"
    },
    "id": "u73qP-EARhf7"
   },
   "outputs": [],
   "source": [
    "# from sklearn.preprocessing import LabelEncoder\n",
    "\n",
    "# import gc\n",
    "\n",
    "# cat_features = train.select_dtypes(include='object').columns\n",
    "# def encode_LE(col,train,test):\n",
    "#         le = LabelEncoder()\n",
    "#         # le.fit(list(train[col]))\n",
    "#         # le_dict = dict(zip(le.classes_, le.transform(le.classes_)))\n",
    "#         # train[col] = train[col].apply(lambda x: le_dict.get(x, np.nan))\n",
    "#         # test[col] = test[col].apply(lambda x: le_dict.get(x, np.nan))\n",
    "#         le.fit(list(train[col])+list(test[col]))\n",
    "#         train[col] = le.transform(train[col])\n",
    "#         test[col]  = le.transform(test[col])\n",
    "# for col in cat_features:\n",
    "#     encode_LE(col,train_x,test_x)"
   ]
  },
  {
   "cell_type": "code",
   "execution_count": null,
   "metadata": {
    "ExecuteTime": {
     "start_time": "2021-11-24T12:15:54.757Z"
    },
    "colab": {
     "base_uri": "https://localhost:8080/"
    },
    "id": "JApr4rdnRhf-",
    "outputId": "7d82c01d-4de4-48c7-8853-51f27d27cd94"
   },
   "outputs": [],
   "source": [
    "import lightgbm as lgb\n",
    "from sklearn.metrics import roc_auc_score,accuracy_score\n",
    "from sklearn.model_selection import StratifiedKFold\n",
    "import gc\n",
    "X = train_x\n",
    "y = train_y\n",
    "# del train_x,train_y\n",
    "# gc.collect()\n",
    "\n",
    "\n",
    "params = {'num_leaves': 240,  # 结果对最终效果影响较大，越大值越好，太大会出现过拟合\n",
    "          'min_data_in_leaf': 30,\n",
    "          'objective': 'binary',  # 定义的目标函数\n",
    "          'max_depth': -1,\n",
    "          'learning_rate': 0.03,\n",
    "          \"min_sum_hessian_in_leaf\": 6,\n",
    "          \"boosting\": \"gbdt\",\n",
    "          \"feature_fraction\":  0.5992677823884304,  # 提取的特征比率\n",
    "          \"bagging_freq\": 4,\n",
    "          \"bagging_fraction\": 0.7100471696361973,\n",
    "          \"bagging_seed\": 11,\n",
    "          \"lambda_l1\": 8.545500456265467e-05,  # l1正则\n",
    "          'lambda_l2': 5.985747612243422e-07,  # l2正则\n",
    "          \"verbosity\": -1,\n",
    "          \"nthread\": -1,  # 线程数量，-1表示全部线程，线程越多，运行的速度越快\n",
    "          'metric': {'average_precision','auc'},  # 评价函数选择\n",
    "          \"random_state\": 2019,  # 随机数种子，可以防止每次运行的结果不一致\n",
    "          # 'device': 'gpu' ##如果安装的事gpu版本的lightgbm,可以加快运算\n",
    "          'min_child_samples': 67\n",
    "          }\n",
    "\n",
    "NFOLDS = 5\n",
    "folds = StratifiedKFold(n_splits=NFOLDS)\n",
    "\n",
    "columns = X.columns\n",
    "splits = folds.split(X, y)\n",
    "y_preds = np.zeros(test_x.shape[0])\n",
    "y_preds_train  = np.zeros(train_x.shape[0])\n",
    "score = 0\n",
    "\n",
    "feature_importances = pd.DataFrame()\n",
    "feature_importances['feature'] = columns\n",
    "\n",
    "for fold_n, (train_index, valid_index) in enumerate(splits):\n",
    "    X_train, X_valid = X[columns].iloc[train_index], X[columns].iloc[valid_index]\n",
    "    y_train, y_valid = y.iloc[train_index], y.iloc[valid_index]\n",
    "\n",
    "    dtrain = lgb.Dataset(X_train, label=y_train)\n",
    "    dvalid = lgb.Dataset(X_valid, label=y_valid)\n",
    "\n",
    "    clf = lgb.train(params, dtrain, 1000, valid_sets=[\n",
    "                    dtrain, dvalid], verbose_eval=200, early_stopping_rounds=300)\n",
    "\n",
    "    feature_importances[f'fold_{fold_n + 1}'] = clf.feature_importance()\n",
    "    model = \"gbm_\" + str(fold_n) + \".txt\"\n",
    "    joblib.dump(clf,model)\n",
    "    y_pred_valid = clf.predict(X_valid)\n",
    "    print(y_pred_valid)\n",
    "    print(f\"Fold {fold_n + 1} | AUC: {roc_auc_score(y_valid, y_pred_valid)}\")\n",
    "\n",
    "    score += roc_auc_score(y_valid, y_pred_valid) / NFOLDS\n",
    "    y_preds += clf.predict(test_x) / NFOLDS\n",
    "    \n",
    "    y_pred_valid = clf.predict(X_valid)\n",
    "    y_preds_train[valid_index] = y_pred_valid\n",
    "      \n",
    "    del X_train, X_valid, y_train, y_valid\n",
    "    gc.collect()\n",
    "    \n",
    "print(f\"\\nMean AUC = {score}\")\n",
    "print(f\"Out of folds AUC = {roc_auc_score(train_y, y_preds_train)}\")"
   ]
  },
  {
   "cell_type": "code",
   "execution_count": null,
   "metadata": {
    "ExecuteTime": {
     "start_time": "2021-11-24T12:15:54.759Z"
    },
    "colab": {
     "base_uri": "https://localhost:8080/"
    },
    "id": "B4kVCjNhuyRH",
    "outputId": "114fb5be-95ed-4a8f-f179-be75d1071110"
   },
   "outputs": [],
   "source": [
    "from sklearn.metrics import roc_auc_score,accuracy_score\n",
    "test_new = pd.DataFrame({'result':test_y,'predict':y_preds})\n",
    "a = test_new[(test_new[\"predict\"] >= 0.70)]\n",
    "pred_labels = np.rint(a['predict'])\n",
    "accuracy = accuracy_score(a['result'], pred_labels)\n",
    "print(\"accuarcy: %.2f%%\" % (accuracy*100.0))\n",
    "print(a.shape)"
   ]
  },
  {
   "cell_type": "code",
   "execution_count": null,
   "metadata": {
    "ExecuteTime": {
     "start_time": "2021-11-24T12:15:54.761Z"
    },
    "colab": {
     "base_uri": "https://localhost:8080/"
    },
    "id": "R6SqWlaXRhf_",
    "outputId": "db9696cf-7b3f-4c72-a4ac-851bb299927d"
   },
   "outputs": [],
   "source": [
    "test2 = test.copy(deep=True)\n",
    "test2[\"result\"] = test_y\n",
    "test2['predict'] = y_preds\n",
    "\n",
    "for i in [\"1.0\",\"1.25\",\"1.5\",\"1.75\",\"2.0\",\"2.25\",\"2.5\"]:\n",
    "    a = test2[(test2[\"predict\"] >= 0.80)]\n",
    "    a = a[(a[\"pankouOdd_End_Zhong_3Real\"] == i)]\n",
    "    if (a.shape[0] != 0):\n",
    "        pred_labels = np.rint(a['predict'])\n",
    "        accuracy = accuracy_score(a['result'], pred_labels)\n",
    "        if (accuracy > 0.70):\n",
    "          print(\"accuarcy: %.2f%%\" % (accuracy*100.0),i)\n",
    "          print(a.shape)"
   ]
  },
  {
   "cell_type": "code",
   "execution_count": null,
   "metadata": {
    "ExecuteTime": {
     "start_time": "2021-11-24T12:15:54.762Z"
    }
   },
   "outputs": [],
   "source": [
    "import numpy as np\n",
    "import matplotlib.pyplot as plt\n",
    " \n",
    "class Performance:\n",
    "    \"\"\"\n",
    "    定义一个类，用来分类器的性能度量\n",
    "    \"\"\"\n",
    "    def __init__(self, labels, scores, threshold=0.5):\n",
    "        \"\"\"\n",
    "        :param labels:数组类型，真实的标签\n",
    "        :param scores:数组类型，分类器的得分\n",
    "        :param threshold:检测阈值\n",
    "        \"\"\"\n",
    "        self.labels = labels\n",
    "        self.scores = scores\n",
    "        self.threshold = threshold\n",
    "        self.db = self.get_db()\n",
    "        self.TP, self.FP, self.FN, self.TN = self.get_confusion_matrix()\n",
    " \n",
    "    def accuracy(self):\n",
    "        \"\"\"\n",
    "        :return: 正确率\n",
    "        \"\"\"\n",
    "        return (self.TP + self.TN) / (self.TP + self.FN + self.FP + self.TN)\n",
    " \n",
    "    def presision(self):\n",
    "        \"\"\"\n",
    "        :return: 准确率\n",
    "        \"\"\"\n",
    "        if (self.TP + self.FP) == 0:\n",
    "            return 0\n",
    "        return self.TP / (self.TP + self.FP)\n",
    "    \n",
    "    def get_db(self):\n",
    "        db = []\n",
    "        for i in range(len(self.labels)):\n",
    "            db.append([self.labels[i], self.scores[i]])\n",
    "        db = sorted(db, key=lambda x: x[1], reverse=True)\n",
    "        return db\n",
    "\n",
    "    def get_confusion_matrix(self):\n",
    "        \"\"\"\n",
    "        计算混淆矩阵\n",
    "        :return:\n",
    "        \"\"\"\n",
    "        tp, fp, fn, tn = 0., 0., 0., 0.\n",
    "        for i in range(len(self.labels)):\n",
    "            if self.labels[i] == 1 and self.scores[i] >= self.threshold:\n",
    "                tp += 1\n",
    "            elif self.labels[i] == 0 and self.scores[i] >= self.threshold:\n",
    "                fp += 1\n",
    "            elif self.labels[i] == 1 and self.scores[i] < self.threshold:\n",
    "                fn += 1\n",
    "            else:\n",
    "                tn += 1\n",
    "        return [tp, fp, fn, tn]"
   ]
  },
  {
   "cell_type": "code",
   "execution_count": null,
   "metadata": {
    "ExecuteTime": {
     "start_time": "2021-11-24T12:15:54.764Z"
    }
   },
   "outputs": [],
   "source": [
    "from sklearn.metrics import precision_score\n",
    "for i in [\"1.0\", \"1.25\", \"1.50\"]:\n",
    "    for per in range(50, 100):\n",
    "        a = test2[(test2[\"pankouOdd_End_Zhong_3Real\"] == i)]\n",
    "        if (a.shape[0] != 0):\n",
    "            p = Performance(np.array(a['result'].to_list()), np.array(\n",
    "                a['predict'].to_list()), per/100)\n",
    "            pre = p.presision()\n",
    "            lenth = (p.get_confusion_matrix()[0] + p.get_confusion_matrix()[0])\n",
    "            if (pre > 0.55 and lenth > 10):\n",
    "                print(i, \"pre: %.2f%%\" % (pre*100.0), per, a.shape[0], lenth)"
   ]
  },
  {
   "cell_type": "code",
   "execution_count": null,
   "metadata": {
    "ExecuteTime": {
     "start_time": "2021-11-24T12:15:54.766Z"
    }
   },
   "outputs": [],
   "source": [
    "a[[\"predict\",\"result\"]]"
   ]
  },
  {
   "cell_type": "code",
   "execution_count": null,
   "metadata": {
    "ExecuteTime": {
     "start_time": "2021-11-24T12:15:54.768Z"
    }
   },
   "outputs": [],
   "source": [
    "a"
   ]
  },
  {
   "cell_type": "code",
   "execution_count": null,
   "metadata": {
    "ExecuteTime": {
     "start_time": "2021-11-24T12:15:54.769Z"
    },
    "id": "xVqVRfpuRhf_"
   },
   "outputs": [],
   "source": [
    "import seaborn as sns\n",
    "feature_importance_gain=pd.DataFrame()\n",
    "feature_importance_gain['feature']=columns\n",
    "feature_importance_gain['fold_1']=clf.feature_importance(importance_type='gain')\n",
    "feature_importance_gain['average'] = feature_importances[[f'fold_{fold_n + 1}' for fold_n in range(1)]].mean(axis=1)\n",
    "plt.figure(figsize=(16, 16))\n",
    "sns.barplot(data=feature_importance_gain.sort_values(by='average', ascending=False).head(50), x='average', y='feature')\n",
    "plt.title('100 TOP feature importance over {} folds average'.format(folds.n_splits))"
   ]
  },
  {
   "cell_type": "code",
   "execution_count": null,
   "metadata": {
    "ExecuteTime": {
     "start_time": "2021-11-24T12:15:54.771Z"
    },
    "id": "5KaA5wjXRhf_"
   },
   "outputs": [],
   "source": [
    "test_x.info()"
   ]
  },
  {
   "cell_type": "code",
   "execution_count": null,
   "metadata": {
    "ExecuteTime": {
     "start_time": "2021-11-24T12:15:54.772Z"
    },
    "id": "1vSPr1irKyCB"
   },
   "outputs": [],
   "source": [
    "stop"
   ]
  },
  {
   "cell_type": "code",
   "execution_count": null,
   "metadata": {
    "ExecuteTime": {
     "start_time": "2021-11-24T12:15:54.774Z"
    },
    "id": "HEoCA3ywRhgA"
   },
   "outputs": [],
   "source": [
    "from catboost import CatBoostClassifier\n",
    "from xgboost import XGBClassifier\n",
    "from lightgbm import LGBMClassifier\n",
    "from sklearn.metrics import roc_auc_score,accuracy_score,accuracy_score\n",
    "\n",
    "lgb_params = {'num_leaves': 240,  # 结果对最终效果影响较大，越大值越好，太大会出现过拟合\n",
    "          'min_data_in_leaf': 30,\n",
    "          'objective': 'binary',  # 定义的目标函数\n",
    "          'max_depth': -1,\n",
    "          'learning_rate': 0.03,\n",
    "          \"min_sum_hessian_in_leaf\": 6,\n",
    "          \"boosting\": \"gbdt\",\n",
    "          \"feature_fraction\":  0.5992677823884304,  # 提取的特征比率\n",
    "          \"bagging_freq\": 4,\n",
    "          \"bagging_fraction\": 0.7100471696361973,\n",
    "          \"bagging_seed\": 11,\n",
    "          \"lambda_l1\": 8.545500456265467e-05,  # l1正则\n",
    "          'lambda_l2': 5.985747612243422e-07,  # l2正则\n",
    "          \"verbosity\": -1,\n",
    "          \"nthread\": -1,  # 线程数量，-1表示全部线程，线程越多，运行的速度越快\n",
    "          \"random_state\": 2019,  # 随机数种子，可以防止每次运行的结果不一致\n",
    "          # 'device': 'gpu' ##如果安装的事gpu版本的lightgbm,可以加快运算\n",
    "          'min_child_samples': 67\n",
    "          }\n",
    "\n",
    "\n",
    "xgb_params = {'n_estimators': 10000,\n",
    "               'learning_rate': 0.03689407512484644,\n",
    "               'max_depth': 8,\n",
    "               'colsample_bytree': 0.3723914688159835,\n",
    "               'subsample': 0.780714581166012,\n",
    "               'eval_metric': 'auc',\n",
    "               'use_label_encoder': False,\n",
    "               'gamma': 0,\n",
    "               'reg_lambda': 50.0,\n",
    "               'gpu_id': 0,\n",
    "               'objective': 'binary:logistic',\n",
    "               'random_state': 42}\n",
    "\n",
    "\n",
    "cat_params = {'iterations': 17298,\n",
    "               'learning_rate': 0.03429054860458741,\n",
    "               'reg_lambda': 0.3242286463210283,\n",
    "               'subsample': 0.9433911589913944,\n",
    "               'random_strength': 22.4849972385133,\n",
    "               'depth': 8,\n",
    "               'min_data_in_leaf': 4,\n",
    "               'leaf_estimation_iterations': 8,\n",
    "               'task_type':\"GPU\",\n",
    "               'bootstrap_type':'Poisson',\n",
    "               'verbose' : 1,\n",
    "               'early_stopping_rounds' : 200,\n",
    "               'eval_metric' : 'AUC'}\n",
    "\n",
    "\n",
    "lgbm = LGBMClassifier(**lgb_params)\n",
    "\n",
    "xgb = XGBClassifier(**xgb_params)\n",
    "\n",
    "cat = CatBoostClassifier(**cat_params)"
   ]
  },
  {
   "cell_type": "code",
   "execution_count": null,
   "metadata": {
    "ExecuteTime": {
     "start_time": "2021-11-24T12:15:54.777Z"
    },
    "id": "xsYhpadlRhgA"
   },
   "outputs": [],
   "source": [
    "import six\n",
    "import sys\n",
    "sys.modules['sklearn.externals.six'] = six\n",
    "\n",
    "from sklearn import model_selection\n",
    "from sklearn.linear_model import LogisticRegression\n",
    "from sklearn.neighbors import KNeighborsClassifier\n",
    "from sklearn.naive_bayes import GaussianNB \n",
    "from sklearn.ensemble import RandomForestClassifier\n",
    "from mlxtend.classifier import StackingCVClassifier\n",
    "from sklearn.pipeline import make_pipeline\n",
    "\n",
    "lr = LogisticRegression()\n",
    "\n",
    "sclf = StackingCVClassifier(classifiers=[lgbm,xgb,cat],\n",
    "                            use_probas=True,\n",
    "                            meta_classifier=lr)"
   ]
  },
  {
   "cell_type": "code",
   "execution_count": null,
   "metadata": {
    "ExecuteTime": {
     "start_time": "2021-11-24T12:15:54.779Z"
    },
    "id": "vcZAibyGRhgA"
   },
   "outputs": [],
   "source": [
    "clf = sclf.fit(train_x.values, train_y.values)\n",
    "\n",
    "y_pred = clf.predict_proba(test_x)[:, 1]\n",
    "\n",
    "accuracy = roc_auc_score(test_y, y_pred)\n",
    "print(\"accuarcy: %.2f%%\" % (accuracy*100.0))"
   ]
  },
  {
   "cell_type": "code",
   "execution_count": null,
   "metadata": {
    "ExecuteTime": {
     "start_time": "2021-11-24T12:15:54.810Z"
    },
    "id": "NACDQMsuRhgA"
   },
   "outputs": [],
   "source": [
    "# clf = cat.fit(train_x, train_y)\n",
    "\n",
    "# y_pred = clf.predict_proba(test_x)[:, 1]\n",
    "\n",
    "# accuracy = roc_auc_score(test_y, y_pred)\n",
    "# print(\"accuarcy: %.2f%%\" % (accuracy*100.0))"
   ]
  },
  {
   "cell_type": "code",
   "execution_count": null,
   "metadata": {
    "ExecuteTime": {
     "start_time": "2021-11-24T12:15:54.813Z"
    },
    "id": "EzZ7HmG7RhgB"
   },
   "outputs": [],
   "source": [
    "test_new = pd.DataFrame({'result':test_y,'predict':y_pred})\n",
    "a = test_new[(test_new[\"predict\"] >= 0.82)]\n",
    "pred_labels = np.rint(a['predict'])\n",
    "accuracy = accuracy_score(a['result'], pred_labels)\n",
    "print(\"accuarcy: %.2f%%\" % (accuracy*100.0))\n",
    "print(a.shape)"
   ]
  },
  {
   "cell_type": "code",
   "execution_count": null,
   "metadata": {
    "ExecuteTime": {
     "start_time": "2021-11-24T12:15:54.816Z"
    },
    "id": "2Ul-mFC-RhgB"
   },
   "outputs": [],
   "source": [
    "test2 = test.copy(deep=True)\n",
    "test2[\"result\"] = test_y\n",
    "test2['predict'] = y_pred"
   ]
  },
  {
   "cell_type": "code",
   "execution_count": null,
   "metadata": {
    "ExecuteTime": {
     "start_time": "2021-11-24T12:15:54.845Z"
    },
    "id": "hHNmFPAgRhgB"
   },
   "outputs": [],
   "source": [
    "zhongList = test['zhongbifengNew'].unique()"
   ]
  },
  {
   "cell_type": "code",
   "execution_count": null,
   "metadata": {
    "ExecuteTime": {
     "start_time": "2021-11-24T12:15:54.848Z"
    },
    "id": "CM91svMRRhgB"
   },
   "outputs": [],
   "source": [
    "test2[(test2[\"predict\"] >= 0.82)]['pankouOdd_End_Zhong_3Real'].value_counts()"
   ]
  },
  {
   "cell_type": "code",
   "execution_count": null,
   "metadata": {
    "ExecuteTime": {
     "start_time": "2021-11-24T12:15:54.850Z"
    },
    "id": "obxDmT70RhgC"
   },
   "outputs": [],
   "source": [
    "for i in [\"1.0\"]:\n",
    "    for j in zhongList:\n",
    "        a = test2[(test2[\"predict\"] >= 0.50)]\n",
    "        a = a[(a[\"pankouOdd_End_Zhong_3Real\"] == i)]\n",
    "        a = a[(a[\"zhongbifengNew\"] == j)]\n",
    "        if a.shape[0] != 0:\n",
    "            pred_labels = np.rint(a['predict'])\n",
    "            accuracy = accuracy_score(a['result'], pred_labels)\n",
    "            if accuracy > 0.70:\n",
    "                print(\"accuarcy: %.2f%%\" % (accuracy*100.0),i,j)\n",
    "                print(a.shape)"
   ]
  },
  {
   "cell_type": "code",
   "execution_count": null,
   "metadata": {
    "ExecuteTime": {
     "start_time": "2021-11-24T12:15:54.852Z"
    },
    "id": "lUs4lSD4RhgC"
   },
   "outputs": [],
   "source": [
    "fea_ = statcker.feature_importances_\n",
    "fea_name = statcker.feature_names_\n",
    "featrue_im = pd.DataFrame({'per':fea_,'name':fea_name})\n",
    "featrue_im = featrue_im.sort_values(by='per', ascending=True)\n",
    "plt.figure(figsize=(10, 10))\n",
    "plt.barh(featrue_im[\"name\"],featrue_im[\"per\"],height =0.5)"
   ]
  },
  {
   "cell_type": "code",
   "execution_count": null,
   "metadata": {
    "ExecuteTime": {
     "start_time": "2021-11-24T12:15:54.854Z"
    },
    "id": "fPDHJpbcRhgD"
   },
   "outputs": [],
   "source": [
    "import gc\n",
    "X = train_x\n",
    "y = train_y\n",
    "NFOLDS = 5\n",
    "folds = StratifiedKFold(n_splits=NFOLDS)\n",
    "columns = X.columns\n",
    "splits = folds.split(X, y)\n",
    "y_preds = np.zeros(test_x.shape[0])\n",
    "score = 0\n",
    "\n",
    "\n",
    "for fold_n, (train_index, valid_index) in enumerate(splits):\n",
    "    X_train, X_valid = X[columns].iloc[train_index], X[columns].iloc[valid_index]\n",
    "    y_train, y_valid = y.iloc[train_index], y.iloc[valid_index]\n",
    "\n",
    "    clf = cat.fit(X_train,y_train,eval_set=(X_valid,y_valid))\n",
    "\n",
    "    y_pred_valid = clf.predict_proba(X_valid)[:, 1]\n",
    "    print(y_pred_valid)\n",
    "    print(f\"Fold {fold_n + 1} | AUC: {roc_auc_score(y_valid, y_pred_valid)}\")\n",
    "    \n",
    "    score += roc_auc_score(y_valid, y_pred_valid) / NFOLDS\n",
    "    y_preds += clf.predict_proba(test_x)[:, 1]/ NFOLDS\n",
    "        \n",
    "    del X_train, X_valid, y_train, y_valid\n",
    "    gc.collect()\n",
    "    \n",
    "print(f\"\\nMean AUC = {score}\")"
   ]
  },
  {
   "cell_type": "code",
   "execution_count": null,
   "metadata": {
    "ExecuteTime": {
     "start_time": "2021-11-24T12:15:54.856Z"
    },
    "id": "_Wy82ptIRhgD"
   },
   "outputs": [],
   "source": [
    "accuracy = roc_auc_score(test_y, y_preds)\n",
    "print(\"accuarcy: %.2f%%\" % (accuracy*100.0))"
   ]
  },
  {
   "cell_type": "code",
   "execution_count": null,
   "metadata": {
    "ExecuteTime": {
     "start_time": "2021-11-24T12:15:54.859Z"
    },
    "id": "VJjPH7bmRhgD"
   },
   "outputs": [],
   "source": [
    "from sklearn.metrics import roc_auc_score,accuracy_score\n",
    "test_new = pd.DataFrame({'result':test_y,'predict':y_pred})\n",
    "a = test_new[(test_new[\"predict\"] >= 0.80)]\n",
    "pred_labels = np.rint(a['predict'])\n",
    "accuracy = accuracy_score(a['result'], pred_labels)\n",
    "print(\"accuarcy: %.2f%%\" % (accuracy*100.0))\n",
    "print(a.shape)"
   ]
  },
  {
   "cell_type": "code",
   "execution_count": null,
   "metadata": {
    "ExecuteTime": {
     "start_time": "2021-11-24T12:15:54.861Z"
    },
    "id": "z8QHb94NRhgD"
   },
   "outputs": [],
   "source": [
    "test2 = test.copy(deep=True)\n",
    "test2[\"result\"] = test_y\n",
    "test2['predict'] = y_preds"
   ]
  },
  {
   "cell_type": "code",
   "execution_count": null,
   "metadata": {
    "ExecuteTime": {
     "start_time": "2021-11-24T12:15:54.864Z"
    },
    "id": "MgHZjhxaRhgD"
   },
   "outputs": [],
   "source": [
    "test2[(test2[\"predict\"] >= 0.70)]['pankouOdd_End_Zhong_3Real'].value_counts()"
   ]
  },
  {
   "cell_type": "code",
   "execution_count": null,
   "metadata": {
    "ExecuteTime": {
     "start_time": "2021-11-24T12:15:54.866Z"
    },
    "id": "LT_Ue5I0RhgD"
   },
   "outputs": [],
   "source": [
    "for i in [\"1.25\"]:\n",
    "    for j in zhongList:\n",
    "        a = test2[(test2[\"predict\"] >= 0.75)]\n",
    "        a = a[(a[\"pankouOdd_End_Zhong_3Real\"] == i)]\n",
    "        a = a[(a[\"zhongbifengNew\"] == j)]\n",
    "        if a.shape[0] != 0:\n",
    "            pred_labels = np.rint(a['predict'])\n",
    "            accuracy = accuracy_score(a['result'], pred_labels)\n",
    "            if accuracy > 0.85:\n",
    "                print(\"accuarcy: %.2f%%\" % (accuracy*100.0),i,j)\n",
    "                print(a.shape)"
   ]
  },
  {
   "cell_type": "code",
   "execution_count": null,
   "metadata": {
    "ExecuteTime": {
     "start_time": "2021-11-24T12:15:54.868Z"
    },
    "id": "l1v-KG-8RhgE"
   },
   "outputs": [],
   "source": [
    "for i in [\"1.5\"]:\n",
    "    for j in zhongList:\n",
    "        a = test2[(test2[\"predict\"] >= 0.80)]\n",
    "        a = a[(a[\"pankouOdd_End_Zhong_3Real\"] == i)]\n",
    "        a = a[(a[\"zhongbifengNew\"] == j)]\n",
    "        if a.shape[0] != 0:\n",
    "            pred_labels = np.rint(a['predict'])\n",
    "            accuracy = accuracy_score(a['result'], pred_labels)\n",
    "            if accuracy > 0.85:\n",
    "                print(\"accuarcy: %.2f%%\" % (accuracy*100.0),i,j)\n",
    "                print(a.shape)"
   ]
  },
  {
   "cell_type": "code",
   "execution_count": null,
   "metadata": {
    "ExecuteTime": {
     "start_time": "2021-11-24T12:15:54.870Z"
    },
    "id": "TzJuwcE9RhgE"
   },
   "outputs": [],
   "source": [
    "import joblib\n",
    "joblib.dump(clf, 'statcker_daxiao.model')"
   ]
  },
  {
   "cell_type": "code",
   "execution_count": null,
   "metadata": {
    "ExecuteTime": {
     "start_time": "2021-11-24T12:15:54.873Z"
    },
    "id": "9lSchR4PRhgE"
   },
   "outputs": [],
   "source": [
    "test_x"
   ]
  },
  {
   "cell_type": "code",
   "execution_count": null,
   "metadata": {
    "ExecuteTime": {
     "start_time": "2021-11-24T12:15:54.875Z"
    },
    "id": "1RRuwCMXRhgE"
   },
   "outputs": [],
   "source": [
    "!pip install hypergbm"
   ]
  },
  {
   "cell_type": "code",
   "execution_count": null,
   "metadata": {
    "ExecuteTime": {
     "start_time": "2021-11-24T12:15:54.878Z"
    },
    "id": "JImG8QF70sgL"
   },
   "outputs": [],
   "source": [
    "train_data = pd.concat([train_x,train_y],axis=1)"
   ]
  },
  {
   "cell_type": "code",
   "execution_count": null,
   "metadata": {
    "ExecuteTime": {
     "start_time": "2021-11-24T12:15:54.884Z"
    },
    "id": "w26f3Pfe07TY"
   },
   "outputs": [],
   "source": [
    "from sklearn.metrics import classification_report\n",
    "from hypergbm import make_experiment\n",
    "from hypernets.core.trial import TrialHistory\n",
    "from hypernets.searchers import PlaybackSearcher\n",
    "from hypergbm.search_space import GeneralSearchSpaceGenerator\n",
    "from hypernets.searchers import EvolutionSearcher\n",
    "from hypernets.experiment.cfg import ExperimentCfg as cfg\n",
    "cfg.experiment_discriminator=None\n",
    "\n",
    "experiment = make_experiment(train_data,target='result',reward_metric='precision')\n",
    "estimator = experiment.run()"
   ]
  },
  {
   "cell_type": "code",
   "execution_count": null,
   "metadata": {
    "ExecuteTime": {
     "start_time": "2021-11-24T12:15:54.887Z"
    },
    "id": "1MaXrROz0_x5"
   },
   "outputs": [],
   "source": [
    "y_pred=estimator.predict(test_x)\n",
    "print(classification_report(test_y, y_pred, digits=5))"
   ]
  },
  {
   "cell_type": "code",
   "execution_count": null,
   "metadata": {
    "ExecuteTime": {
     "start_time": "2021-11-24T12:15:54.891Z"
    },
    "id": "0hnVh9Nt2M1Q"
   },
   "outputs": [],
   "source": [
    "y_pred=estimator.predict_proba(test_x)[:,1]"
   ]
  },
  {
   "cell_type": "code",
   "execution_count": null,
   "metadata": {
    "ExecuteTime": {
     "start_time": "2021-11-24T12:15:54.893Z"
    },
    "id": "enjuh3kxC0L7"
   },
   "outputs": [],
   "source": [
    "from sklearn.metrics import roc_auc_score,accuracy_score\n",
    "test_new = pd.DataFrame({'result':test_y,'predict':y_pred})\n",
    "a = test_new[(test_new[\"predict\"] >= 0.53)]\n",
    "pred_labels = np.rint(a['predict'])\n",
    "accuracy = accuracy_score(a['result'], pred_labels)\n",
    "print(\"accuarcy: %.2f%%\" % (accuracy*100.0))\n",
    "print(a.shape)"
   ]
  },
  {
   "cell_type": "code",
   "execution_count": null,
   "metadata": {
    "ExecuteTime": {
     "start_time": "2021-11-24T12:15:54.895Z"
    },
    "id": "2XpjyrrzDZwu"
   },
   "outputs": [],
   "source": [
    "test2 = test.copy(deep=True)\n",
    "test2[\"result\"] = test_y\n",
    "test2['predict'] = y_pred"
   ]
  },
  {
   "cell_type": "code",
   "execution_count": null,
   "metadata": {
    "ExecuteTime": {
     "start_time": "2021-11-24T12:15:54.897Z"
    },
    "id": "F9YF5O5VDRF8"
   },
   "outputs": [],
   "source": [
    "zhongList = test2['zhongbifengNew'].unique()"
   ]
  },
  {
   "cell_type": "code",
   "execution_count": null,
   "metadata": {
    "ExecuteTime": {
     "start_time": "2021-11-24T12:15:54.899Z"
    },
    "id": "qxjeuN-OC3Ce"
   },
   "outputs": [],
   "source": [
    "for i in [\"1.0\",\"1.25\",\"1.5\"]:\n",
    "    for j in zhongList:\n",
    "        a = test2[test2[\"predict\"] > 0.50]\n",
    "        a = a[(a[\"pankouOdd_End_Zhong_3Real\"] == i)]\n",
    "        a = a[(a[\"zhongbifengNew\"] == j)]\n",
    "        if a.shape[0] != 0:\n",
    "            pred_labels = np.rint(a['predict'])\n",
    "            accuracy = accuracy_score(a['result'], pred_labels)\n",
    "            if accuracy > 0.70:\n",
    "                print(\"accuarcy: %.2f%%\" % (accuracy*100.0),i,j)\n",
    "                print(a.shape)"
   ]
  },
  {
   "cell_type": "code",
   "execution_count": null,
   "metadata": {
    "ExecuteTime": {
     "start_time": "2021-11-24T12:15:54.900Z"
    },
    "id": "5_OwVgYNDPTu"
   },
   "outputs": [],
   "source": [
    "!pip install xlearn"
   ]
  },
  {
   "cell_type": "code",
   "execution_count": null,
   "metadata": {
    "ExecuteTime": {
     "start_time": "2021-11-24T12:15:54.902Z"
    },
    "id": "sEXm8F70JmqX"
   },
   "outputs": [],
   "source": [
    "import xlearn as xl\n",
    "\n",
    "# Training task\n",
    "ffm_model = xl.create_ffm()                # Use field-aware factorization machine (ffm)\n",
    "ffm_model.setTrain(\"/content/drive/MyDrive/train.txt\")    # Set the path of training dataset\n",
    "ffm_model.setValidate(\"/content/drive/MyDrive/test.txt\")  # Set the path of validation dataset\n",
    "\n",
    "# Parameters:\n",
    "#  0. task: binary classification\n",
    "#  1. learning rate: 0.2\n",
    "#  2. regular lambda: 0.002\n",
    "#  3. evaluation metric: accuracy\n",
    "param = {'task':'binary', 'lr':0.2, 'lambda':0.002, 'metric':'acc'}\n",
    "\n",
    "# Start to train\n",
    "# The trained model will be stored in model.out\n",
    "ffm_model.fit(param, './model.out')\n",
    "\n",
    "# Prediction task\n",
    "ffm_model.setTest(\"./small_test.txt\")  # Set the path of test dataset\n",
    "ffm_model.setSigmoid()                 # Convert output to 0-1\n",
    "\n",
    "# Start to predict\n",
    "# The output result will be stored in output.txt\n",
    "ffm_model.predict(\"./model.out\", \"./output.txt\")"
   ]
  }
 ],
 "metadata": {
  "colab": {
   "collapsed_sections": [],
   "name": "newXG2_1_stack.ipynb",
   "provenance": []
  },
  "kernelspec": {
   "display_name": "Python 3",
   "language": "python",
   "name": "python3"
  },
  "language_info": {
   "codemirror_mode": {
    "name": "ipython",
    "version": 3
   },
   "file_extension": ".py",
   "mimetype": "text/x-python",
   "name": "python",
   "nbconvert_exporter": "python",
   "pygments_lexer": "ipython3",
   "version": "3.8.5"
  },
  "toc": {
   "base_numbering": 1,
   "nav_menu": {},
   "number_sections": true,
   "sideBar": true,
   "skip_h1_title": false,
   "title_cell": "Table of Contents",
   "title_sidebar": "Contents",
   "toc_cell": false,
   "toc_position": {},
   "toc_section_display": true,
   "toc_window_display": false
  }
 },
 "nbformat": 4,
 "nbformat_minor": 1
}
