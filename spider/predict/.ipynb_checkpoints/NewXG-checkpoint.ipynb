{
 "cells": [
  {
   "cell_type": "code",
   "execution_count": 1,
   "metadata": {
    "ExecuteTime": {
     "end_time": "2021-09-25T00:06:17.934352Z",
     "start_time": "2021-09-25T00:06:14.282301Z"
    },
    "colab": {
     "base_uri": "https://localhost:8080/"
    },
    "id": "sweheA5JE1Um",
    "outputId": "3338da98-f3f9-414b-92c8-aa1c3070a18c"
   },
   "outputs": [],
   "source": [
    "import json\n",
    "import pandas as pd\n",
    "import pymongo\n",
    "import matplotlib as mpl\n",
    "import numpy as np\n",
    "import matplotlib.pyplot as plt"
   ]
  },
  {
   "cell_type": "code",
   "execution_count": 2,
   "metadata": {
    "ExecuteTime": {
     "end_time": "2021-09-25T00:06:17.964322Z",
     "start_time": "2021-09-25T00:06:17.938336Z"
    },
    "id": "dQ2cjdK9EdIH"
   },
   "outputs": [],
   "source": [
    "def reduce_mem_usage(df):\n",
    "    \"\"\" iterate through all the columns of a dataframe and modify the data type\n",
    "        to reduce memory usage.        \n",
    "    \"\"\"\n",
    "    start_mem = df.memory_usage().sum() / 1024**2\n",
    "    print('Memory usage of dataframe is {:.2f} MB'.format(start_mem))\n",
    "\n",
    "    for col in df.columns:\n",
    "        col_type = df[col].dtype\n",
    "        if col_type != object:\n",
    "            c_min = df[col].min()\n",
    "            c_max = df[col].max()\n",
    "            if str(col_type)[:3] == 'int':\n",
    "                if c_min > np.iinfo(np.int8).min and c_max < np.iinfo(np.int8).max:\n",
    "                    df[col] = df[col].astype(np.int8)\n",
    "                elif c_min > np.iinfo(np.int16).min and c_max < np.iinfo(np.int16).max:\n",
    "                    df[col] = df[col].astype(np.int16)\n",
    "                elif c_min > np.iinfo(np.int32).min and c_max < np.iinfo(np.int32).max:\n",
    "                    df[col] = df[col].astype(np.int32)\n",
    "                elif c_min > np.iinfo(np.int64).min and c_max < np.iinfo(np.int64).max:\n",
    "                    df[col] = df[col].astype(np.int64)\n",
    "            else:\n",
    "                df[col] = df[col].astype(np.float32)\n",
    "\n",
    "    end_mem = df.memory_usage().sum() / 1024**2\n",
    "    print('Memory usage after optimization is: {:.2f} MB'.format(end_mem))\n",
    "    print('Decreased by {:.1f}%'.format(\n",
    "        100 * (start_mem - end_mem) / start_mem))\n",
    "\n",
    "    return df"
   ]
  },
  {
   "cell_type": "code",
   "execution_count": 3,
   "metadata": {
    "ExecuteTime": {
     "end_time": "2021-09-25T00:06:18.010196Z",
     "start_time": "2021-09-25T00:06:17.967319Z"
    },
    "id": "EQ6sA0qwEdIJ"
   },
   "outputs": [],
   "source": [
    "def getGoalMid(masterGoal, guestGoal, masterMidGoal, guestMidGoal):\n",
    "    return masterGoal + guestGoal - masterMidGoal - guestMidGoal\n",
    "\n",
    "\n",
    "def removeSub(pankou):\n",
    "    pankou = pankou.replace(\"升\", \"\")\n",
    "    pankou = pankou.replace(\"降\", \"\")\n",
    "    return pankou.strip()\n",
    "\n",
    "\n",
    "def getResult(masterGoal, guestGoal, pankou):\n",
    "    pankouList = removeSub(pankou).split(\"/\")\n",
    "    row = 0\n",
    "    for p in pankouList:\n",
    "        row += float(p)\n",
    "    row = row / len(pankouList)\n",
    "\n",
    "    if masterGoal + guestGoal - row >= 0:\n",
    "        return 1\n",
    "    if masterGoal + guestGoal - row < 0:\n",
    "        return 0\n",
    "\n",
    "\n",
    "def getType(yapanMasterStartOdd, yapanGuestStartOdd, yapanPankouStart):\n",
    "    linTypeStart = get18(yapanMasterStartOdd, yapanGuestStartOdd)\n",
    "    return str(linTypeStart) + \"_\" + str(yapanPankouStart)\n",
    "\n",
    "\n",
    "def get18(master, guest):\n",
    "    if master > guest:\n",
    "        return 18\n",
    "    if master < guest:\n",
    "        return 81\n",
    "    if master == guest:\n",
    "        return 99\n",
    "\n",
    "\n",
    "def daxiao_num(x):\n",
    "    x_list = x.split(\"/\")\n",
    "    num = 0\n",
    "    for i in x_list:\n",
    "        num += float(i)\n",
    "    return (float(num)/len(x_list))\n",
    "\n",
    "\n",
    "def realDaxiao(x, master, guest):\n",
    "    return str(float(x) - master - guest)\n",
    "\n",
    "\n",
    "def shengjiang(start, end):\n",
    "    return ((end) - (start))\n",
    "\n",
    "def round2(x):\n",
    "    return round((x), 2)"
   ]
  },
  {
   "cell_type": "code",
   "execution_count": 4,
   "metadata": {
    "ExecuteTime": {
     "end_time": "2021-09-25T00:06:18.040424Z",
     "start_time": "2021-09-25T00:06:18.013194Z"
    },
    "id": "z5MN0RQYEdIK"
   },
   "outputs": [],
   "source": [
    "def fillNa(x, value):\n",
    "    if pd.isnull(x):\n",
    "        return value\n",
    "    else:\n",
    "        return x\n",
    "\n",
    "\n",
    "def preF(test):\n",
    "\n",
    "    test = test.drop(['a'], axis=1)\n",
    "\n",
    "    test = test.drop(['daxiaoMasterStartOddZao', 'daxiaoGuestStartOddZao', 'daxiaoPankouStartZao',\n",
    "                      'daxiaoMasterOddZao', 'daxiaoGuestOddZao', 'daxiaoPankouZao'], axis=1)\n",
    "\n",
    "    test['result'] = test.apply(lambda x: getResult(\n",
    "        x['masterGoal'], x['guestGoal'], x['daxiaoPankouMid']), axis=1)\n",
    "\n",
    "    test['goalMid'] = test.apply(lambda x: getGoalMid(\n",
    "        x['masterGoal'], x['guestGoal'], x['masterMidGoal'], x['guestMidGoal']), axis=1)\n",
    "\n",
    "    test['zhongbifengNew'] = test['masterMidGoal'].astype(\n",
    "        str) + \"_\" + test['guestMidGoal'].astype(str)\n",
    "\n",
    "#     test['zhongbifeng'] = test['masterMidGoal']+ test['guestMidGoal']\n",
    "    test[\"water_type_mid\"] =  test['daxiaoMasterOddMid'] + test['daxiaoGuestOddMid']\n",
    "    test[\"water_type_mid\"] =  test[\"water_type_mid\"].map(round2)\n",
    "    test[\"water_type_mid\"] =  test[\"water_type_mid\"].astype(str)\n",
    "\n",
    "    test['daxiaoPankouStart'] = test.apply(\n",
    "        lambda x: removeSub(x['daxiaoPankouStart']), axis=1)\n",
    "    test['daxiaoPankou'] = test.apply(\n",
    "        lambda x: removeSub(x['daxiaoPankou']), axis=1)\n",
    "\n",
    "    test['daxiaoPankouStartMid'] = test.apply(\n",
    "        lambda x: removeSub(x['daxiaoPankouStartMid']), axis=1)\n",
    "    test['daxiaoPankouMid'] = test.apply(\n",
    "        lambda x: removeSub(x['daxiaoPankouMid']), axis=1)\n",
    "\n",
    "    pankou = [\"daxiaoPankouStart\",\"daxiaoPankou\",\"daxiaoPankouStartMid\",\"daxiaoPankouMid\"]\n",
    "\n",
    "    for col in pankou:\n",
    "        test[col] = test[col].map(daxiao_num)\n",
    "\n",
    "    pankou = [\"daxiaoPankouMid\"]\n",
    "\n",
    "    for col in pankou:\n",
    "        nm = col+\"Real\"\n",
    "        test[nm] = test.apply(lambda x: realDaxiao(x[col],x['masterMidGoal'],x['guestMidGoal']), axis=1)\n",
    "\n",
    "#     test['daxiaoPankouShengJiang'] = test.apply(lambda x: shengjiang(x['daxiaoPankouStart'],x['daxiaoPankou']), axis=1)\n",
    "\n",
    "#     test['daxiaoPankouMidShengJiang'] = test.apply(lambda x: shengjiang(x['daxiaoPankouStartMid'],x['daxiaoPankouMid']), axis=1)\n",
    "\n",
    "\n",
    "    test['daxiaoTypeStart'] = test.apply(lambda x: getType(\n",
    "        x['daxiaoMasterStartOdd'], x['daxiaoGuestStartOdd'], x['daxiaoPankouStart']), axis=1)\n",
    "    test['daxiaoType'] = test.apply(lambda x: getType(\n",
    "        x['daxiaoMasterOdd'], x['daxiaoGuestOdd'], x['daxiaoPankou']), axis=1)\n",
    "    test['daxiaoTypeStartMid'] = test.apply(lambda x: getType(\n",
    "        x['daxiaoMasterStartOddMid'], x['daxiaoGuestStartOddMid'], x['daxiaoPankouStartMid']), axis=1)\n",
    "    test['daxiaoTypeMid'] = test.apply(lambda x: getType(\n",
    "        x['daxiaoMasterOddMid'], x['daxiaoGuestOddMid'], x['daxiaoPankouMid']), axis=1)\n",
    "\n",
    "    test['daxiaoTypeAll'] = test['daxiaoTypeMid'] + test['daxiaoTypeStartMid'] + test['daxiaoType'] + test['daxiaoTypeStart'] + test['zhongbifengNew']\n",
    "\n",
    "    test = test.drop(['daxiaoTypeStart', 'daxiaoType','daxiaoTypeStartMid','daxiaoTypeMid','zhongbifengNew'], axis=1)\n",
    "\n",
    "\n",
    "#     test['MasterOddFlowMid'+] = test[\"daxiaoMasterOddMid\"] - test[\"daxiaoMasterStartOddMid\"]\n",
    "#     test['MasterOddFlow'] = test[\"daxiaoMasterOdd\"] - test[\"daxiaoMasterStartOdd\"]\n",
    "\n",
    "    test = test[test['goalMid'] >= 0]\n",
    "#     test = test[(test['daxiaoMasterStartOdd'] >= 0.75) & (test['daxiaoMasterStartOdd'] < 1.20)]\n",
    "#     test = test[(test['daxiaoMasterOdd'] >= 0.75) & (test['daxiaoMasterOdd'] < 1.20)]\n",
    "#     test = test[(test['daxiaoGuestOddMid'] >= 0.75) & (test['daxiaoGuestOddMid'] < 1.20)]\n",
    "#     test = test[test['daxiaoPankouMid'].astype(float) <= test['daxiaoPankou'].astype(float)]\n",
    "#     test = test[(test[\"daxiaoPankouMidReal\"].astype(float)<=2) & (test[\"daxiaoPankouMidReal\"].astype(float)>=1)]\n",
    "\n",
    "    test = test.drop(columns=['masterGoal', 'guestGoal', \"goalMid\"])\n",
    "    test = test.drop(columns=['masterMidGoal', 'guestMidGoal'])\n",
    "\n",
    "    return test"
   ]
  },
  {
   "cell_type": "code",
   "execution_count": 5,
   "metadata": {
    "ExecuteTime": {
     "end_time": "2021-09-25T00:06:18.071406Z",
     "start_time": "2021-09-25T00:06:18.043422Z"
    },
    "id": "vN7FAlDIEdIO"
   },
   "outputs": [],
   "source": [
    "# def getShuiPing(x):\n",
    "#     result = 11\n",
    "#     if x <= 0.75:\n",
    "#         result = 0\n",
    "#     if 0.75< x and x<=0.80:\n",
    "#         result = 1\n",
    "#     if 0.80<x and x<=0.85:\n",
    "#         result = 3\n",
    "#     if 0.85<x and x<=0.90:\n",
    "#         result = 4\n",
    "#     if 0.95<x and x<=1.00:\n",
    "#         result = 5\n",
    "#     if 1.00<x and x<=1.08:\n",
    "#         result = 6\n",
    "#     if 1.08<x and x<=1.10:\n",
    "#         result = 7\n",
    "#     if 1.10<x and x<=1.15:\n",
    "#         result = 8\n",
    "#     if 1.15<x and x<=1.20:\n",
    "#         result = 9\n",
    "#     if x > 1.20:\n",
    "#         result = 10\n",
    "#     return result\n",
    "\n",
    "def getShuiPing(x):\n",
    "    result = 11\n",
    "    if x < 0.75:\n",
    "        result = 0\n",
    "    if 0.75<= x and x<=0.85:\n",
    "        result = 1\n",
    "    if 0.85<x and x<=0.90:\n",
    "        result = 2\n",
    "    if 0.90<x and x<=0.95:\n",
    "        result = 3\n",
    "    if 0.95<x and x<=1.00:\n",
    "        result = 4\n",
    "    if 1.00<x and x<=1.08:\n",
    "        result = 5\n",
    "    if 1.08<x:\n",
    "        result = 6\n",
    "    return result\n",
    "\n",
    "def num_fea_dis(df,features):\n",
    "    for f in features:\n",
    "        nm = f+'_'+'shuiPing'\n",
    "        df[nm] = df[f].map(getShuiPing)\n",
    "    return df"
   ]
  },
  {
   "cell_type": "code",
   "execution_count": 6,
   "metadata": {
    "ExecuteTime": {
     "end_time": "2021-09-25T00:06:25.280422Z",
     "start_time": "2021-09-25T00:06:18.074404Z"
    },
    "id": "2m0feaeSEdIQ"
   },
   "outputs": [],
   "source": [
    "myclient = pymongo.MongoClient(\"mongodb://localhost:27017/\")\n",
    "mydb = myclient[\"soccerData\"]\n",
    "mycol = mydb[\"midRawData007\"]\n",
    "data_mid = pd.DataFrame(list(mycol.find()))\n",
    "data_mid = data_mid.drop(['_id','place'], axis=1)"
   ]
  },
  {
   "cell_type": "code",
   "execution_count": 7,
   "metadata": {
    "ExecuteTime": {
     "end_time": "2021-09-25T00:06:25.295398Z",
     "start_time": "2021-09-25T00:06:25.281407Z"
    }
   },
   "outputs": [],
   "source": [
    "# data_mid = pd.read_csv('data_mid.csv')\n",
    "# data_mid = data_mid.drop(['Unnamed: 0'], axis=1)"
   ]
  },
  {
   "cell_type": "code",
   "execution_count": 8,
   "metadata": {
    "ExecuteTime": {
     "end_time": "2021-09-25T00:06:25.543278Z",
     "start_time": "2021-09-25T00:06:25.298398Z"
    }
   },
   "outputs": [],
   "source": [
    "pd.set_option('display.max_columns', None)\n",
    "data_mid = data_mid[data_mid[\"daxiaoPankou\"] != \"0-0\"]"
   ]
  },
  {
   "cell_type": "code",
   "execution_count": null,
   "metadata": {
    "ExecuteTime": {
     "end_time": "2021-09-19T16:21:03.778710Z",
     "start_time": "2021-09-19T16:21:03.766716Z"
    }
   },
   "outputs": [],
   "source": []
  },
  {
   "cell_type": "code",
   "execution_count": 9,
   "metadata": {
    "ExecuteTime": {
     "end_time": "2021-09-25T00:07:20.698043Z",
     "start_time": "2021-09-25T00:06:25.546277Z"
    }
   },
   "outputs": [],
   "source": [
    "# data_mid = reduce_mem_usage(data_mid)\n",
    "data_mid = preF(data_mid)"
   ]
  },
  {
   "cell_type": "code",
   "execution_count": 10,
   "metadata": {
    "ExecuteTime": {
     "end_time": "2021-09-25T00:07:20.713033Z",
     "start_time": "2021-09-25T00:07:20.700039Z"
    }
   },
   "outputs": [],
   "source": [
    "# data_mid = num_fea_dis(data_mid,fes)"
   ]
  },
  {
   "cell_type": "code",
   "execution_count": 11,
   "metadata": {
    "ExecuteTime": {
     "end_time": "2021-09-25T00:07:20.743996Z",
     "start_time": "2021-09-25T00:07:20.715031Z"
    }
   },
   "outputs": [],
   "source": [
    "# data_mid['daxiaoTypeStartOdd'] = data_mid['daxiaoMasterStartOdd_shuiPing'].astype(str) + data_mid['daxiaoGuestStartOdd_shuiPing'].astype(str) + data_mid['daxiaoPankouStart'].astype(str)\n",
    "# data_mid['daxiaoTypeOdd'] = data_mid['daxiaoMasterOdd_shuiPing'].astype(str) + data_mid['daxiaoGuestOdd_shuiPing'].astype(str) + data_mid['daxiaoPankou'].astype(str)\n",
    "# data_mid['daxiaoTypeStartMidOdd'] = data_mid['daxiaoMasterStartOddMid_shuiPing'].astype(str) + data_mid['daxiaoGuestStartOddMid_shuiPing'].astype(str) + data_mid['daxiaoPankouStartMid'].astype(str)\n",
    "# data_mid['daxiaoTypeMidOdd'] = data_mid['daxiaoMasterOddMid_shuiPing'].astype(str) + data_mid['daxiaoGuestOddMid_shuiPing'].astype(str) + data_mid['daxiaoPankouMid'].astype(str)\n",
    "    \n",
    "# data_mid['daxiaoTypeAllOdd'] = data_mid['daxiaoTypeStartOdd'] + data_mid['daxiaoTypeOdd'] + data_mid['daxiaoTypeStartMidOdd'] + data_mid['daxiaoTypeMidOdd'] + data_mid['zhongbifengNew']\n",
    "    \n",
    "# data_mid = data_mid.drop(['daxiaoTypeStartOdd', 'daxiaoTypeOdd','daxiaoTypeStartMidOdd','daxiaoTypeMidOdd'], axis=1)\n",
    "\n",
    "# for col in fes:\n",
    "#     data_mid = data_mid.drop(col+\"_shuiPing\", axis=1)"
   ]
  },
  {
   "cell_type": "code",
   "execution_count": null,
   "metadata": {
    "ExecuteTime": {
     "end_time": "2021-09-23T15:31:42.876473Z",
     "start_time": "2021-09-23T15:31:42.855471Z"
    }
   },
   "outputs": [],
   "source": []
  },
  {
   "cell_type": "code",
   "execution_count": 12,
   "metadata": {
    "ExecuteTime": {
     "end_time": "2021-09-25T00:07:20.789819Z",
     "start_time": "2021-09-25T00:07:20.745995Z"
    }
   },
   "outputs": [],
   "source": [
    "data_mid = data_mid.head(200000)"
   ]
  },
  {
   "cell_type": "code",
   "execution_count": 13,
   "metadata": {
    "ExecuteTime": {
     "end_time": "2021-09-25T00:07:20.837809Z",
     "start_time": "2021-09-25T00:07:20.792803Z"
    }
   },
   "outputs": [
    {
     "data": {
      "text/plain": [
       "array(['1.86', '1.82', '1.87', '1.8', '1.89', '1.84', '1.88', '1.7',\n",
       "       '1.81', '1.85', '1.83', '1.9', '1.96', '1.76', '1.92', '1.91',\n",
       "       '2.14', '1.95', '1.93', '2.01', '2.08', '2.06', '1.97', '1.99',\n",
       "       '2.3', '2.16', '1.94', '4.26', '2.33', '1.98', '1.78', '1.77',\n",
       "       '1.6', '1.71', '2.1', '1.72'], dtype=object)"
      ]
     },
     "execution_count": 13,
     "metadata": {},
     "output_type": "execute_result"
    }
   ],
   "source": [
    "data_mid['water_type_mid'].unique()"
   ]
  },
  {
   "cell_type": "code",
   "execution_count": 14,
   "metadata": {
    "ExecuteTime": {
     "end_time": "2021-09-25T00:07:20.897796Z",
     "start_time": "2021-09-25T00:07:20.840808Z"
    }
   },
   "outputs": [
    {
     "data": {
      "text/html": [
       "<div>\n",
       "<style scoped>\n",
       "    .dataframe tbody tr th:only-of-type {\n",
       "        vertical-align: middle;\n",
       "    }\n",
       "\n",
       "    .dataframe tbody tr th {\n",
       "        vertical-align: top;\n",
       "    }\n",
       "\n",
       "    .dataframe thead th {\n",
       "        text-align: right;\n",
       "    }\n",
       "</style>\n",
       "<table border=\"1\" class=\"dataframe\">\n",
       "  <thead>\n",
       "    <tr style=\"text-align: right;\">\n",
       "      <th></th>\n",
       "      <th>time</th>\n",
       "      <th>daxiaoMasterStartOdd</th>\n",
       "      <th>daxiaoGuestStartOdd</th>\n",
       "      <th>daxiaoPankouStart</th>\n",
       "      <th>daxiaoMasterOdd</th>\n",
       "      <th>daxiaoGuestOdd</th>\n",
       "      <th>daxiaoPankou</th>\n",
       "      <th>daxiaoMasterStartOddMid</th>\n",
       "      <th>daxiaoGuestStartOddMid</th>\n",
       "      <th>daxiaoPankouStartMid</th>\n",
       "      <th>daxiaoMasterOddMid</th>\n",
       "      <th>daxiaoGuestOddMid</th>\n",
       "      <th>daxiaoPankouMid</th>\n",
       "      <th>result</th>\n",
       "      <th>water_type_mid</th>\n",
       "      <th>daxiaoPankouMidReal</th>\n",
       "      <th>daxiaoTypeAll</th>\n",
       "    </tr>\n",
       "  </thead>\n",
       "  <tbody>\n",
       "    <tr>\n",
       "      <th>0</th>\n",
       "      <td>2021-07-02 00:00:00</td>\n",
       "      <td>0.82</td>\n",
       "      <td>1.05</td>\n",
       "      <td>2.25</td>\n",
       "      <td>1.02</td>\n",
       "      <td>0.85</td>\n",
       "      <td>2.50</td>\n",
       "      <td>0.84</td>\n",
       "      <td>1.02</td>\n",
       "      <td>4.25</td>\n",
       "      <td>0.85</td>\n",
       "      <td>1.01</td>\n",
       "      <td>4.25</td>\n",
       "      <td>0</td>\n",
       "      <td>1.86</td>\n",
       "      <td>1.25</td>\n",
       "      <td>81_4.2581_4.2518_2.581_2.252_1</td>\n",
       "    </tr>\n",
       "    <tr>\n",
       "      <th>1</th>\n",
       "      <td>2021-07-02 00:00:00</td>\n",
       "      <td>0.82</td>\n",
       "      <td>1.05</td>\n",
       "      <td>2.25</td>\n",
       "      <td>1.02</td>\n",
       "      <td>0.85</td>\n",
       "      <td>2.50</td>\n",
       "      <td>0.84</td>\n",
       "      <td>1.02</td>\n",
       "      <td>4.25</td>\n",
       "      <td>0.85</td>\n",
       "      <td>1.01</td>\n",
       "      <td>4.25</td>\n",
       "      <td>0</td>\n",
       "      <td>1.86</td>\n",
       "      <td>1.25</td>\n",
       "      <td>81_4.2581_4.2518_2.581_2.252_1</td>\n",
       "    </tr>\n",
       "    <tr>\n",
       "      <th>2</th>\n",
       "      <td>2021-07-21 00:00:00</td>\n",
       "      <td>1.05</td>\n",
       "      <td>0.81</td>\n",
       "      <td>2.00</td>\n",
       "      <td>1.01</td>\n",
       "      <td>0.85</td>\n",
       "      <td>2.00</td>\n",
       "      <td>1.04</td>\n",
       "      <td>0.82</td>\n",
       "      <td>1.00</td>\n",
       "      <td>1.05</td>\n",
       "      <td>0.81</td>\n",
       "      <td>1.00</td>\n",
       "      <td>1</td>\n",
       "      <td>1.86</td>\n",
       "      <td>1.0</td>\n",
       "      <td>18_1.018_1.018_2.018_2.00_0</td>\n",
       "    </tr>\n",
       "    <tr>\n",
       "      <th>3</th>\n",
       "      <td>2021-07-21 00:00:00</td>\n",
       "      <td>1.05</td>\n",
       "      <td>0.81</td>\n",
       "      <td>2.00</td>\n",
       "      <td>1.01</td>\n",
       "      <td>0.85</td>\n",
       "      <td>2.00</td>\n",
       "      <td>1.04</td>\n",
       "      <td>0.82</td>\n",
       "      <td>1.00</td>\n",
       "      <td>1.05</td>\n",
       "      <td>0.81</td>\n",
       "      <td>1.00</td>\n",
       "      <td>1</td>\n",
       "      <td>1.86</td>\n",
       "      <td>1.0</td>\n",
       "      <td>18_1.018_1.018_2.018_2.00_0</td>\n",
       "    </tr>\n",
       "    <tr>\n",
       "      <th>4</th>\n",
       "      <td>2021-07-04 00:00:00</td>\n",
       "      <td>1.02</td>\n",
       "      <td>0.85</td>\n",
       "      <td>3.00</td>\n",
       "      <td>0.94</td>\n",
       "      <td>0.92</td>\n",
       "      <td>2.75</td>\n",
       "      <td>0.83</td>\n",
       "      <td>1.03</td>\n",
       "      <td>1.75</td>\n",
       "      <td>0.87</td>\n",
       "      <td>0.99</td>\n",
       "      <td>1.75</td>\n",
       "      <td>1</td>\n",
       "      <td>1.86</td>\n",
       "      <td>1.75</td>\n",
       "      <td>81_1.7581_1.7518_2.7518_3.00_0</td>\n",
       "    </tr>\n",
       "  </tbody>\n",
       "</table>\n",
       "</div>"
      ],
      "text/plain": [
       "                  time  daxiaoMasterStartOdd  daxiaoGuestStartOdd  \\\n",
       "0  2021-07-02 00:00:00                  0.82                 1.05   \n",
       "1  2021-07-02 00:00:00                  0.82                 1.05   \n",
       "2  2021-07-21 00:00:00                  1.05                 0.81   \n",
       "3  2021-07-21 00:00:00                  1.05                 0.81   \n",
       "4  2021-07-04 00:00:00                  1.02                 0.85   \n",
       "\n",
       "   daxiaoPankouStart  daxiaoMasterOdd  daxiaoGuestOdd  daxiaoPankou  \\\n",
       "0               2.25             1.02            0.85          2.50   \n",
       "1               2.25             1.02            0.85          2.50   \n",
       "2               2.00             1.01            0.85          2.00   \n",
       "3               2.00             1.01            0.85          2.00   \n",
       "4               3.00             0.94            0.92          2.75   \n",
       "\n",
       "   daxiaoMasterStartOddMid  daxiaoGuestStartOddMid  daxiaoPankouStartMid  \\\n",
       "0                     0.84                    1.02                  4.25   \n",
       "1                     0.84                    1.02                  4.25   \n",
       "2                     1.04                    0.82                  1.00   \n",
       "3                     1.04                    0.82                  1.00   \n",
       "4                     0.83                    1.03                  1.75   \n",
       "\n",
       "   daxiaoMasterOddMid  daxiaoGuestOddMid  daxiaoPankouMid  result  \\\n",
       "0                0.85               1.01             4.25       0   \n",
       "1                0.85               1.01             4.25       0   \n",
       "2                1.05               0.81             1.00       1   \n",
       "3                1.05               0.81             1.00       1   \n",
       "4                0.87               0.99             1.75       1   \n",
       "\n",
       "  water_type_mid daxiaoPankouMidReal                   daxiaoTypeAll  \n",
       "0           1.86                1.25  81_4.2581_4.2518_2.581_2.252_1  \n",
       "1           1.86                1.25  81_4.2581_4.2518_2.581_2.252_1  \n",
       "2           1.86                 1.0     18_1.018_1.018_2.018_2.00_0  \n",
       "3           1.86                 1.0     18_1.018_1.018_2.018_2.00_0  \n",
       "4           1.86                1.75  81_1.7581_1.7518_2.7518_3.00_0  "
      ]
     },
     "execution_count": 14,
     "metadata": {},
     "output_type": "execute_result"
    }
   ],
   "source": [
    "data_mid.head()"
   ]
  },
  {
   "cell_type": "code",
   "execution_count": 15,
   "metadata": {
    "ExecuteTime": {
     "end_time": "2021-09-25T00:07:21.051707Z",
     "start_time": "2021-09-25T00:07:20.900794Z"
    }
   },
   "outputs": [
    {
     "name": "stdout",
     "output_type": "stream",
     "text": [
      "<class 'pandas.core.frame.DataFrame'>\n",
      "Int64Index: 200000 entries, 0 to 200037\n",
      "Data columns (total 17 columns):\n",
      " #   Column                   Non-Null Count   Dtype  \n",
      "---  ------                   --------------   -----  \n",
      " 0   time                     200000 non-null  object \n",
      " 1   daxiaoMasterStartOdd     200000 non-null  float64\n",
      " 2   daxiaoGuestStartOdd      200000 non-null  float64\n",
      " 3   daxiaoPankouStart        200000 non-null  float64\n",
      " 4   daxiaoMasterOdd          200000 non-null  float64\n",
      " 5   daxiaoGuestOdd           200000 non-null  float64\n",
      " 6   daxiaoPankou             200000 non-null  float64\n",
      " 7   daxiaoMasterStartOddMid  200000 non-null  float64\n",
      " 8   daxiaoGuestStartOddMid   200000 non-null  float64\n",
      " 9   daxiaoPankouStartMid     200000 non-null  float64\n",
      " 10  daxiaoMasterOddMid       200000 non-null  float64\n",
      " 11  daxiaoGuestOddMid        200000 non-null  float64\n",
      " 12  daxiaoPankouMid          200000 non-null  float64\n",
      " 13  result                   200000 non-null  int64  \n",
      " 14  water_type_mid           200000 non-null  object \n",
      " 15  daxiaoPankouMidReal      200000 non-null  object \n",
      " 16  daxiaoTypeAll            200000 non-null  object \n",
      "dtypes: float64(12), int64(1), object(4)\n",
      "memory usage: 27.5+ MB\n"
     ]
    }
   ],
   "source": [
    "data_mid.info()"
   ]
  },
  {
   "cell_type": "code",
   "execution_count": 16,
   "metadata": {
    "ExecuteTime": {
     "end_time": "2021-09-25T00:07:21.067698Z",
     "start_time": "2021-09-25T00:07:21.054706Z"
    }
   },
   "outputs": [],
   "source": [
    "# data_mid['time'] = pd.to_datetime(data_mid['time'], format='%Y%m%d %H:%M:%S')\n",
    "# data_mid['year']    = data_mid['time'].dt.year\n",
    "# data_mid['month']   = data_mid['time'].dt.month\n",
    "# data_mid['weekofyear']     = data_mid['time'].dt.weekofyear\n",
    "# data_mid['day_of_year'] = data_mid['time'].dt.day_of_year\n",
    "# data_mid['weekday'] = data_mid['time'].dt.day_of_week\n",
    "# data_mid['is_year_start']    = data_mid['time'].dt.is_year_start \n",
    "# data_mid['is_quarter_start'] = data_mid['time'].dt.is_quarter_start \n",
    "# data_mid['is_month_start']   = data_mid['time'].dt.is_month_start \n",
    "# data_mid['is_month_end']     = data_mid['time'].dt.is_month_end\n",
    "# data_mid['is_weekend']       = np.where(data_mid['weekday'].isin([5,6]), 1,0)"
   ]
  },
  {
   "cell_type": "code",
   "execution_count": 17,
   "metadata": {
    "ExecuteTime": {
     "end_time": "2021-09-25T00:07:21.099304Z",
     "start_time": "2021-09-25T00:07:21.070696Z"
    }
   },
   "outputs": [],
   "source": [
    "# data_mid['time'] = data_mid['time'].astype(str)"
   ]
  },
  {
   "cell_type": "code",
   "execution_count": 18,
   "metadata": {
    "ExecuteTime": {
     "end_time": "2021-09-25T00:07:21.145748Z",
     "start_time": "2021-09-25T00:07:21.101303Z"
    },
    "id": "Et6vvrqFEdIc"
   },
   "outputs": [],
   "source": [
    "import gc\n",
    "\n",
    "def encode_CB(col1,col2,df1,name=\"\"):\n",
    "    if name == \"\":\n",
    "        nm = col1+'_'+col2\n",
    "    else:\n",
    "        nm = name\n",
    "    nm = col1+'_'+col2\n",
    "    df1[nm] = df1[col1].astype(str)+'_'+df1[col2].astype(str)\n",
    "\n",
    "def encode_CB3(col1,col2,col3,df1,name=\"\"):\n",
    "    if name == \"\":\n",
    "        nm = col1+'_'+col2+'_'+col3\n",
    "    else:\n",
    "        nm = name\n",
    "    df1[nm] = df1[col1].astype(str)+'_'+df1[col2].astype(str)+'_'+df1[col3].astype(str)"
   ]
  },
  {
   "cell_type": "code",
   "execution_count": 19,
   "metadata": {
    "ExecuteTime": {
     "end_time": "2021-09-25T00:07:21.177730Z",
     "start_time": "2021-09-25T00:07:21.147747Z"
    },
    "id": "nBk6_kynEdId"
   },
   "outputs": [],
   "source": [
    "# encode_CB(\"daxiaoPankou\",\"daxiaoPankouMid\",data_mid)\n",
    "# encode_CB(\"daxiaoPankouStartMid\",\"daxiaoPankouMid\",data_mid)"
   ]
  },
  {
   "cell_type": "code",
   "execution_count": 20,
   "metadata": {
    "ExecuteTime": {
     "end_time": "2021-09-25T00:07:21.208712Z",
     "start_time": "2021-09-25T00:07:21.179729Z"
    }
   },
   "outputs": [],
   "source": [
    "# data_mid = data_mid.sort_values('time')\n",
    "# train = data_mid[:230000]\n",
    "# test = data_mid[230000:]\n",
    "\n",
    "# idMap = data_mid[[\"place\", \"result\"]].set_index(\"place\").to_dict()[\"result\"]\n",
    "# test_y = test['result']\n",
    "# test = test.drop(['result'], axis=1)\n",
    "# data_mid = pd.concat([train,test])\n",
    "\n",
    "# fes = ['daxiaoMasterStartOdd','daxiaoGuestStartOdd',\n",
    "#        'daxiaoMasterOdd','daxiaoGuestOdd',\n",
    "#        'daxiaoMasterStartOddMid','daxiaoGuestStartOddMid',\n",
    "#        'daxiaoMasterOddMid','daxiaoGuestOddMid']\n",
    "\n",
    "# fes = []\n",
    "\n",
    "# listOdd = ['typeLinStartReal', 'typeLinEndReal','typeLinStart'] + fes\n",
    "\n",
    "# for day in [7,30,140]:\n",
    "#     for odd in listOdd:\n",
    "#         data_mid.sort_values([odd, 'time'], ascending=[True, True], inplace=True)\n",
    "#         def f_mean(x): return x.rolling(window=day, min_periods=1).mean()\n",
    "#         def f_std(x): return x.rolling(window=day, min_periods=1).std()\n",
    "#         function_list = [f_mean, f_std]\n",
    "#         function_name = ['mean', 'std']\n",
    "#         for i in range(len(function_list)):\n",
    "#             data_mid['stat_' + odd + \"_\" + function_name[i] + \"_\" + str(day)] = data_mid.sort_values(\n",
    "#                 'time').groupby([odd])['result'].apply(function_list[i])\n",
    "# data_mid['result'] = data_mid['place'].map(idMap)\n",
    "# data_mid = data_mid.sort_values('time')"
   ]
  },
  {
   "cell_type": "code",
   "execution_count": 21,
   "metadata": {
    "ExecuteTime": {
     "end_time": "2021-09-25T00:07:21.376629Z",
     "start_time": "2021-09-25T00:07:21.210711Z"
    }
   },
   "outputs": [
    {
     "name": "stdout",
     "output_type": "stream",
     "text": [
      "<class 'pandas.core.frame.DataFrame'>\n",
      "Int64Index: 200000 entries, 0 to 200037\n",
      "Data columns (total 17 columns):\n",
      " #   Column                   Non-Null Count   Dtype  \n",
      "---  ------                   --------------   -----  \n",
      " 0   time                     200000 non-null  object \n",
      " 1   daxiaoMasterStartOdd     200000 non-null  float64\n",
      " 2   daxiaoGuestStartOdd      200000 non-null  float64\n",
      " 3   daxiaoPankouStart        200000 non-null  float64\n",
      " 4   daxiaoMasterOdd          200000 non-null  float64\n",
      " 5   daxiaoGuestOdd           200000 non-null  float64\n",
      " 6   daxiaoPankou             200000 non-null  float64\n",
      " 7   daxiaoMasterStartOddMid  200000 non-null  float64\n",
      " 8   daxiaoGuestStartOddMid   200000 non-null  float64\n",
      " 9   daxiaoPankouStartMid     200000 non-null  float64\n",
      " 10  daxiaoMasterOddMid       200000 non-null  float64\n",
      " 11  daxiaoGuestOddMid        200000 non-null  float64\n",
      " 12  daxiaoPankouMid          200000 non-null  float64\n",
      " 13  result                   200000 non-null  int64  \n",
      " 14  water_type_mid           200000 non-null  object \n",
      " 15  daxiaoPankouMidReal      200000 non-null  object \n",
      " 16  daxiaoTypeAll            200000 non-null  object \n",
      "dtypes: float64(12), int64(1), object(4)\n",
      "memory usage: 27.5+ MB\n"
     ]
    }
   ],
   "source": [
    "data_mid.info()"
   ]
  },
  {
   "cell_type": "code",
   "execution_count": 22,
   "metadata": {
    "ExecuteTime": {
     "end_time": "2021-09-25T00:07:21.391620Z",
     "start_time": "2021-09-25T00:07:21.378628Z"
    }
   },
   "outputs": [],
   "source": [
    "train = data_mid[:180000]\n",
    "test = data_mid[180000:]"
   ]
  },
  {
   "cell_type": "code",
   "execution_count": 23,
   "metadata": {
    "ExecuteTime": {
     "end_time": "2021-09-25T00:07:26.734810Z",
     "start_time": "2021-09-25T00:07:21.396617Z"
    },
    "id": "yLniPYUitKX0"
   },
   "outputs": [],
   "source": [
    "from sklearn.model_selection import  StratifiedKFold,KFold\n",
    "import category_encoders as ce\n",
    "\n",
    "def mean_woe_target_encoder(train,test,target,col,n_splits=10):\n",
    "    folds = StratifiedKFold(n_splits)\n",
    "\n",
    "    y_oof = np.zeros(train.shape[0])\n",
    "    y_oof_2= np.zeros(train.shape[0])\n",
    "    y_test_oof = np.zeros(test.shape[0]).reshape(-1,1)\n",
    "    y_test_oof2 = np.zeros(test.shape[0]).reshape(-1,1)\n",
    "\n",
    "    splits = folds.split(train, target)\n",
    "    \n",
    "    for fold_n, (train_index, valid_index) in enumerate(splits):\n",
    "        X_train, X_valid = train[col].iloc[train_index], train[col].iloc[valid_index]\n",
    "        y_train, y_valid = target.iloc[train_index], target.iloc[valid_index]\n",
    "        clf=ce.target_encoder.TargetEncoder()\n",
    "    \n",
    "        clf.fit(X_train.values,y_train.values)    \n",
    "        y_pred_valid = clf.transform(X_valid.values)\n",
    "\n",
    "        y_oof[valid_index] = y_pred_valid.values.reshape(1,-1)\n",
    "\n",
    "        tp=(clf.transform(test[col].values)/(n_splits*1.0)).values\n",
    "        tp=tp.reshape(-1,1)\n",
    "        y_test_oof+=tp    \n",
    "    \n",
    "        del X_train, X_valid, y_train, y_valid\n",
    "        gc.collect()    \n",
    "        \n",
    "    for fold_n, (train_index, valid_index) in enumerate(splits):\n",
    "        X_train, X_valid = train[col].iloc[train_index], train[col].iloc[valid_index]\n",
    "        y_train, y_valid = target.iloc[train_index], target.iloc[valid_index]\n",
    "        clf=ce.woe.WOEEncoder()\n",
    "    \n",
    "        clf.fit(X_train.values,y_train.values)    \n",
    "        y_pred_valid = clf.transform(X_valid.values)\n",
    "        y_oof2[valid_index] = y_pred_valid.values.reshape(1,-1)\n",
    "    \n",
    "        tp=(clf.transform(test[col].values)/(n_splits*1.0)).values\n",
    "        tp=tp.reshape(-1,1)\n",
    "        y_test_oof2+=tp    \n",
    "        del X_train, X_valid, y_train, y_valid\n",
    "        gc.collect()     \n",
    "    return y_oof,y_oof_2,y_test_oof,y_test_oof2"
   ]
  },
  {
   "cell_type": "code",
   "execution_count": 24,
   "metadata": {
    "ExecuteTime": {
     "end_time": "2021-09-25T00:07:26.750799Z",
     "start_time": "2021-09-25T00:07:26.739806Z"
    }
   },
   "outputs": [],
   "source": [
    "from sklearn.base import BaseEstimator, TransformerMixin\n",
    "from sklearn.base import clone\n",
    "from sklearn.model_selection import check_cv\n",
    "\n",
    "from category_encoders import CatBoostEncoder\n",
    "\n",
    "import pandas as pd\n",
    "import numpy as np\n",
    "\n",
    "\n",
    "class TargetEncoderCV(BaseEstimator, TransformerMixin):\n",
    "\n",
    "    def __init__(self, cv, **cbe_params):\n",
    "        self.cv = cv\n",
    "        self.cbe_params = cbe_params\n",
    "\n",
    "    @property\n",
    "    def _n_splits(self):\n",
    "        return check_cv(self.cv).n_splits\n",
    "\n",
    "    def fit_transform(self, X: pd.DataFrame, y) -> pd.DataFrame:\n",
    "        self.cbe_ = []\n",
    "        cv = check_cv(self.cv)\n",
    "\n",
    "        cbe = CatBoostEncoder(\n",
    "            cols=X.columns.tolist(),\n",
    "            return_df=False,\n",
    "            **self.cbe_params\n",
    "        )\n",
    "\n",
    "        X_transformed = np.zeros_like(X, dtype=np.float64)\n",
    "        for train_idx, valid_idx in cv.split(X, y):\n",
    "            self.cbe_.append(\n",
    "                clone(cbe).fit(X.loc[train_idx], y.iloc[train_idx])\n",
    "            )\n",
    "            X_transformed[valid_idx] = self.cbe_[-1].transform(\n",
    "                X.loc[valid_idx]\n",
    "            )\n",
    "\n",
    "        return pd.DataFrame(X_transformed, columns=X.columns, index=X.index)\n",
    "\n",
    "    def transform(self, X: pd.DataFrame) -> pd.DataFrame:\n",
    "        X_transformed = np.zeros_like(X, dtype=np.float64)\n",
    "        for cbe in self.cbe_:\n",
    "            X_transformed += cbe.transform(X) / self._n_splits\n",
    "        return pd.DataFrame(X_transformed, columns=X.columns, index=X.index)"
   ]
  },
  {
   "cell_type": "code",
   "execution_count": 25,
   "metadata": {
    "ExecuteTime": {
     "end_time": "2021-09-25T00:07:26.827758Z",
     "start_time": "2021-09-25T00:07:26.756796Z"
    }
   },
   "outputs": [],
   "source": [
    "import gc\n",
    "cat_features = train.select_dtypes(include='object').columns"
   ]
  },
  {
   "cell_type": "code",
   "execution_count": 26,
   "metadata": {
    "ExecuteTime": {
     "end_time": "2021-09-25T00:07:26.890006Z",
     "start_time": "2021-09-25T00:07:26.829760Z"
    }
   },
   "outputs": [],
   "source": [
    "train_x =  train.drop(columns=['result'])\n",
    "train_y =  train['result']\n",
    "\n",
    "test_y = test['result']\n",
    "test_x =  test.drop(columns=['result'])\n",
    "\n",
    "# train_x = train_x.reset_index()\n",
    "# test_x  = test_x.reset_index()\n",
    "\n",
    "# train_y = train_y.reset_index()['result']\n",
    "# test_y = test_y.reset_index()['result']"
   ]
  },
  {
   "cell_type": "code",
   "execution_count": null,
   "metadata": {
    "ExecuteTime": {
     "end_time": "2021-09-21T13:01:34.451068Z",
     "start_time": "2021-09-21T13:01:34.434078Z"
    }
   },
   "outputs": [],
   "source": []
  },
  {
   "cell_type": "code",
   "execution_count": 27,
   "metadata": {
    "ExecuteTime": {
     "end_time": "2021-09-25T00:07:26.998943Z",
     "start_time": "2021-09-25T00:07:26.892005Z"
    }
   },
   "outputs": [
    {
     "name": "stdout",
     "output_type": "stream",
     "text": [
      "<class 'pandas.core.frame.DataFrame'>\n",
      "Int64Index: 180000 entries, 0 to 180033\n",
      "Data columns (total 16 columns):\n",
      " #   Column                   Non-Null Count   Dtype  \n",
      "---  ------                   --------------   -----  \n",
      " 0   time                     180000 non-null  object \n",
      " 1   daxiaoMasterStartOdd     180000 non-null  float64\n",
      " 2   daxiaoGuestStartOdd      180000 non-null  float64\n",
      " 3   daxiaoPankouStart        180000 non-null  float64\n",
      " 4   daxiaoMasterOdd          180000 non-null  float64\n",
      " 5   daxiaoGuestOdd           180000 non-null  float64\n",
      " 6   daxiaoPankou             180000 non-null  float64\n",
      " 7   daxiaoMasterStartOddMid  180000 non-null  float64\n",
      " 8   daxiaoGuestStartOddMid   180000 non-null  float64\n",
      " 9   daxiaoPankouStartMid     180000 non-null  float64\n",
      " 10  daxiaoMasterOddMid       180000 non-null  float64\n",
      " 11  daxiaoGuestOddMid        180000 non-null  float64\n",
      " 12  daxiaoPankouMid          180000 non-null  float64\n",
      " 13  water_type_mid           180000 non-null  object \n",
      " 14  daxiaoPankouMidReal      180000 non-null  object \n",
      " 15  daxiaoTypeAll            180000 non-null  object \n",
      "dtypes: float64(12), object(4)\n",
      "memory usage: 23.3+ MB\n"
     ]
    }
   ],
   "source": [
    "train_x.info()"
   ]
  },
  {
   "cell_type": "code",
   "execution_count": null,
   "metadata": {
    "ExecuteTime": {
     "end_time": "2021-09-21T13:01:49.599890Z",
     "start_time": "2021-09-21T13:01:49.320045Z"
    }
   },
   "outputs": [],
   "source": []
  },
  {
   "cell_type": "code",
   "execution_count": 28,
   "metadata": {
    "ExecuteTime": {
     "end_time": "2021-09-25T00:07:27.013935Z",
     "start_time": "2021-09-25T00:07:27.000942Z"
    }
   },
   "outputs": [],
   "source": [
    "# for col in ['daxiaoTypeStart','daxiaoType','daxiaoTypeStartMid','daxiaoTypeMid','daxiaoTypeAll','typeLinStart'\n",
    "#             ,'typeLinEnd','typeLinStartReal','typeLinEndReal','typeMidStart','typeMidEnd','TypeLin'\n",
    "#             ,'TypeLinReal','TypeMid','TypeLinMid','TypeAll','oldTypeLin','oldTypeMid','oldTypeLinMid','oldTypeAll']:\n",
    "#   y_oof,y_oof_2,y_test_oof,y_test_oof2 = mean_woe_target_encoder(train,test,train_y,col,n_splits=10)\n",
    "#   train_x[col] = y_oof\n",
    "#   test_x[col] = y_test_oof\n",
    "#   train[col] = y_oof\n",
    "#   test[col] = y_test_oof"
   ]
  },
  {
   "cell_type": "code",
   "execution_count": 29,
   "metadata": {
    "ExecuteTime": {
     "end_time": "2021-09-25T00:07:31.885700Z",
     "start_time": "2021-09-25T00:07:27.015934Z"
    }
   },
   "outputs": [
    {
     "name": "stderr",
     "output_type": "stream",
     "text": [
      "C:\\ProgramData\\Anaconda3\\lib\\site-packages\\category_encoders\\utils.py:21: FutureWarning: is_categorical is deprecated and will be removed in a future version.  Use is_categorical_dtype instead\n",
      "  elif pd.api.types.is_categorical(cols):\n",
      "C:\\Users\\24525\\AppData\\Roaming\\Python\\Python38\\site-packages\\pandas\\core\\frame.py:3607: SettingWithCopyWarning: \n",
      "A value is trying to be set on a copy of a slice from a DataFrame.\n",
      "Try using .loc[row_indexer,col_indexer] = value instead\n",
      "\n",
      "See the caveats in the documentation: https://pandas.pydata.org/pandas-docs/stable/user_guide/indexing.html#returning-a-view-versus-a-copy\n",
      "  self._set_item(key, value)\n"
     ]
    }
   ],
   "source": [
    "for col in ['daxiaoTypeAll']:\n",
    "  y_oof,y_oof_2,y_test_oof,y_test_oof2 = mean_woe_target_encoder(train,test,train_y,col,n_splits=10)\n",
    "  train_x[col] = y_oof\n",
    "  test_x[col] = y_test_oof\n",
    "  train[col] = y_oof\n",
    "  test[col] = y_test_oof"
   ]
  },
  {
   "cell_type": "code",
   "execution_count": 30,
   "metadata": {
    "ExecuteTime": {
     "end_time": "2021-09-25T00:07:31.900718Z",
     "start_time": "2021-09-25T00:07:31.888712Z"
    }
   },
   "outputs": [],
   "source": [
    "# for col in train.select_dtypes(include='object').columns:\n",
    "#   y_oof,y_oof_2,y_test_oof,y_test_oof2 = mean_woe_target_encoder(train,test,train_y,col,n_splits=10)\n",
    "#   train_x[col] = y_oof\n",
    "#   test_x[col] = y_test_oof\n",
    "#   train[col] = y_oof\n",
    "#   test[col] = y_test_oof"
   ]
  },
  {
   "cell_type": "code",
   "execution_count": 31,
   "metadata": {
    "ExecuteTime": {
     "end_time": "2021-09-25T00:07:31.932694Z",
     "start_time": "2021-09-25T00:07:31.903701Z"
    }
   },
   "outputs": [],
   "source": [
    "# te_cv = TargetEncoderCV(KFold(n_splits=3))\n",
    "# train_x = te_cv.fit_transform(train_x, train_y)\n",
    "# test_x = te_cv.transform(test_x)"
   ]
  },
  {
   "cell_type": "code",
   "execution_count": 32,
   "metadata": {
    "ExecuteTime": {
     "end_time": "2021-09-25T00:07:33.535776Z",
     "start_time": "2021-09-25T00:07:31.935693Z"
    },
    "id": "hccVqgJDEdIf"
   },
   "outputs": [],
   "source": [
    "import gc\n",
    "cat_features = train.select_dtypes(include='object').columns\n",
    "def encode_LE(col,train,test):\n",
    "    df_comb = pd.concat([train[col],test[col]],axis=0)\n",
    "    df_comb,_ = df_comb.factorize(sort=True)\n",
    "    nm = col\n",
    "    if df_comb.max()>32000: \n",
    "        train[nm] = df_comb[:len(train)].astype('int32')\n",
    "        test[nm] = df_comb[len(train):].astype('int32')\n",
    "    else:\n",
    "        train[nm] = df_comb[:len(train)].astype('int16')\n",
    "        test[nm] = df_comb[len(train):].astype('int16')\n",
    "    del df_comb; x=gc.collect()\n",
    "\n",
    "for col in cat_features:\n",
    "    encode_LE(col,train_x,test_x)\n",
    "    encode_LE(col,train,test)"
   ]
  },
  {
   "cell_type": "code",
   "execution_count": 33,
   "metadata": {
    "ExecuteTime": {
     "end_time": "2021-09-25T00:07:33.581750Z",
     "start_time": "2021-09-25T00:07:33.541773Z"
    },
    "id": "6M-y-IHqBEVD"
   },
   "outputs": [
    {
     "name": "stdout",
     "output_type": "stream",
     "text": [
      "<class 'pandas.core.frame.DataFrame'>\n",
      "Int64Index: 180000 entries, 0 to 180033\n",
      "Data columns (total 17 columns):\n",
      " #   Column                   Non-Null Count   Dtype  \n",
      "---  ------                   --------------   -----  \n",
      " 0   time                     180000 non-null  int16  \n",
      " 1   daxiaoMasterStartOdd     180000 non-null  float64\n",
      " 2   daxiaoGuestStartOdd      180000 non-null  float64\n",
      " 3   daxiaoPankouStart        180000 non-null  float64\n",
      " 4   daxiaoMasterOdd          180000 non-null  float64\n",
      " 5   daxiaoGuestOdd           180000 non-null  float64\n",
      " 6   daxiaoPankou             180000 non-null  float64\n",
      " 7   daxiaoMasterStartOddMid  180000 non-null  float64\n",
      " 8   daxiaoGuestStartOddMid   180000 non-null  float64\n",
      " 9   daxiaoPankouStartMid     180000 non-null  float64\n",
      " 10  daxiaoMasterOddMid       180000 non-null  float64\n",
      " 11  daxiaoGuestOddMid        180000 non-null  float64\n",
      " 12  daxiaoPankouMid          180000 non-null  float64\n",
      " 13  result                   180000 non-null  int64  \n",
      " 14  water_type_mid           180000 non-null  int16  \n",
      " 15  daxiaoPankouMidReal      180000 non-null  int16  \n",
      " 16  daxiaoTypeAll            180000 non-null  float64\n",
      "dtypes: float64(13), int16(3), int64(1)\n",
      "memory usage: 21.6 MB\n"
     ]
    }
   ],
   "source": [
    "train.info()"
   ]
  },
  {
   "cell_type": "code",
   "execution_count": 34,
   "metadata": {
    "ExecuteTime": {
     "end_time": "2021-09-25T00:07:33.612732Z",
     "start_time": "2021-09-25T00:07:33.585748Z"
    }
   },
   "outputs": [
    {
     "name": "stdout",
     "output_type": "stream",
     "text": [
      "<class 'pandas.core.frame.DataFrame'>\n",
      "Int64Index: 20000 entries, 180034 to 200037\n",
      "Data columns (total 17 columns):\n",
      " #   Column                   Non-Null Count  Dtype  \n",
      "---  ------                   --------------  -----  \n",
      " 0   time                     20000 non-null  int16  \n",
      " 1   daxiaoMasterStartOdd     20000 non-null  float64\n",
      " 2   daxiaoGuestStartOdd      20000 non-null  float64\n",
      " 3   daxiaoPankouStart        20000 non-null  float64\n",
      " 4   daxiaoMasterOdd          20000 non-null  float64\n",
      " 5   daxiaoGuestOdd           20000 non-null  float64\n",
      " 6   daxiaoPankou             20000 non-null  float64\n",
      " 7   daxiaoMasterStartOddMid  20000 non-null  float64\n",
      " 8   daxiaoGuestStartOddMid   20000 non-null  float64\n",
      " 9   daxiaoPankouStartMid     20000 non-null  float64\n",
      " 10  daxiaoMasterOddMid       20000 non-null  float64\n",
      " 11  daxiaoGuestOddMid        20000 non-null  float64\n",
      " 12  daxiaoPankouMid          20000 non-null  float64\n",
      " 13  result                   20000 non-null  int64  \n",
      " 14  water_type_mid           20000 non-null  int16  \n",
      " 15  daxiaoPankouMidReal      20000 non-null  int16  \n",
      " 16  daxiaoTypeAll            20000 non-null  float64\n",
      "dtypes: float64(13), int16(3), int64(1)\n",
      "memory usage: 2.4 MB\n"
     ]
    }
   ],
   "source": [
    "test.info()"
   ]
  },
  {
   "cell_type": "code",
   "execution_count": 35,
   "metadata": {
    "ExecuteTime": {
     "end_time": "2021-09-25T00:07:33.673697Z",
     "start_time": "2021-09-25T00:07:33.615731Z"
    }
   },
   "outputs": [
    {
     "data": {
      "text/html": [
       "<div>\n",
       "<style scoped>\n",
       "    .dataframe tbody tr th:only-of-type {\n",
       "        vertical-align: middle;\n",
       "    }\n",
       "\n",
       "    .dataframe tbody tr th {\n",
       "        vertical-align: top;\n",
       "    }\n",
       "\n",
       "    .dataframe thead th {\n",
       "        text-align: right;\n",
       "    }\n",
       "</style>\n",
       "<table border=\"1\" class=\"dataframe\">\n",
       "  <thead>\n",
       "    <tr style=\"text-align: right;\">\n",
       "      <th></th>\n",
       "      <th>time</th>\n",
       "      <th>daxiaoMasterStartOdd</th>\n",
       "      <th>daxiaoGuestStartOdd</th>\n",
       "      <th>daxiaoPankouStart</th>\n",
       "      <th>daxiaoMasterOdd</th>\n",
       "      <th>daxiaoGuestOdd</th>\n",
       "      <th>daxiaoPankou</th>\n",
       "      <th>daxiaoMasterStartOddMid</th>\n",
       "      <th>daxiaoGuestStartOddMid</th>\n",
       "      <th>daxiaoPankouStartMid</th>\n",
       "      <th>daxiaoMasterOddMid</th>\n",
       "      <th>daxiaoGuestOddMid</th>\n",
       "      <th>daxiaoPankouMid</th>\n",
       "      <th>result</th>\n",
       "      <th>water_type_mid</th>\n",
       "      <th>daxiaoPankouMidReal</th>\n",
       "      <th>daxiaoTypeAll</th>\n",
       "    </tr>\n",
       "  </thead>\n",
       "  <tbody>\n",
       "    <tr>\n",
       "      <th>180034</th>\n",
       "      <td>2076</td>\n",
       "      <td>0.88</td>\n",
       "      <td>1.00</td>\n",
       "      <td>3.00</td>\n",
       "      <td>0.81</td>\n",
       "      <td>1.07</td>\n",
       "      <td>3.00</td>\n",
       "      <td>0.84</td>\n",
       "      <td>1.03</td>\n",
       "      <td>1.50</td>\n",
       "      <td>0.89</td>\n",
       "      <td>0.98</td>\n",
       "      <td>1.50</td>\n",
       "      <td>0</td>\n",
       "      <td>14</td>\n",
       "      <td>6</td>\n",
       "      <td>0.442440</td>\n",
       "    </tr>\n",
       "    <tr>\n",
       "      <th>180035</th>\n",
       "      <td>2076</td>\n",
       "      <td>0.88</td>\n",
       "      <td>1.00</td>\n",
       "      <td>3.00</td>\n",
       "      <td>0.81</td>\n",
       "      <td>1.07</td>\n",
       "      <td>3.00</td>\n",
       "      <td>0.84</td>\n",
       "      <td>1.03</td>\n",
       "      <td>1.50</td>\n",
       "      <td>0.89</td>\n",
       "      <td>0.98</td>\n",
       "      <td>1.50</td>\n",
       "      <td>0</td>\n",
       "      <td>14</td>\n",
       "      <td>6</td>\n",
       "      <td>0.442440</td>\n",
       "    </tr>\n",
       "    <tr>\n",
       "      <th>180036</th>\n",
       "      <td>1564</td>\n",
       "      <td>0.98</td>\n",
       "      <td>0.88</td>\n",
       "      <td>2.75</td>\n",
       "      <td>0.89</td>\n",
       "      <td>0.97</td>\n",
       "      <td>2.75</td>\n",
       "      <td>0.82</td>\n",
       "      <td>1.04</td>\n",
       "      <td>1.25</td>\n",
       "      <td>0.82</td>\n",
       "      <td>1.04</td>\n",
       "      <td>1.25</td>\n",
       "      <td>1</td>\n",
       "      <td>13</td>\n",
       "      <td>5</td>\n",
       "      <td>0.343489</td>\n",
       "    </tr>\n",
       "    <tr>\n",
       "      <th>180037</th>\n",
       "      <td>2086</td>\n",
       "      <td>0.85</td>\n",
       "      <td>0.95</td>\n",
       "      <td>2.75</td>\n",
       "      <td>0.86</td>\n",
       "      <td>1.00</td>\n",
       "      <td>3.00</td>\n",
       "      <td>0.89</td>\n",
       "      <td>0.97</td>\n",
       "      <td>2.50</td>\n",
       "      <td>0.89</td>\n",
       "      <td>0.97</td>\n",
       "      <td>2.50</td>\n",
       "      <td>1</td>\n",
       "      <td>13</td>\n",
       "      <td>6</td>\n",
       "      <td>0.567709</td>\n",
       "    </tr>\n",
       "    <tr>\n",
       "      <th>180038</th>\n",
       "      <td>1728</td>\n",
       "      <td>0.98</td>\n",
       "      <td>0.90</td>\n",
       "      <td>2.25</td>\n",
       "      <td>0.92</td>\n",
       "      <td>0.96</td>\n",
       "      <td>2.25</td>\n",
       "      <td>0.73</td>\n",
       "      <td>1.16</td>\n",
       "      <td>2.00</td>\n",
       "      <td>0.73</td>\n",
       "      <td>1.16</td>\n",
       "      <td>2.00</td>\n",
       "      <td>0</td>\n",
       "      <td>16</td>\n",
       "      <td>4</td>\n",
       "      <td>0.762310</td>\n",
       "    </tr>\n",
       "  </tbody>\n",
       "</table>\n",
       "</div>"
      ],
      "text/plain": [
       "        time  daxiaoMasterStartOdd  daxiaoGuestStartOdd  daxiaoPankouStart  \\\n",
       "180034  2076                  0.88                 1.00               3.00   \n",
       "180035  2076                  0.88                 1.00               3.00   \n",
       "180036  1564                  0.98                 0.88               2.75   \n",
       "180037  2086                  0.85                 0.95               2.75   \n",
       "180038  1728                  0.98                 0.90               2.25   \n",
       "\n",
       "        daxiaoMasterOdd  daxiaoGuestOdd  daxiaoPankou  \\\n",
       "180034             0.81            1.07          3.00   \n",
       "180035             0.81            1.07          3.00   \n",
       "180036             0.89            0.97          2.75   \n",
       "180037             0.86            1.00          3.00   \n",
       "180038             0.92            0.96          2.25   \n",
       "\n",
       "        daxiaoMasterStartOddMid  daxiaoGuestStartOddMid  daxiaoPankouStartMid  \\\n",
       "180034                     0.84                    1.03                  1.50   \n",
       "180035                     0.84                    1.03                  1.50   \n",
       "180036                     0.82                    1.04                  1.25   \n",
       "180037                     0.89                    0.97                  2.50   \n",
       "180038                     0.73                    1.16                  2.00   \n",
       "\n",
       "        daxiaoMasterOddMid  daxiaoGuestOddMid  daxiaoPankouMid  result  \\\n",
       "180034                0.89               0.98             1.50       0   \n",
       "180035                0.89               0.98             1.50       0   \n",
       "180036                0.82               1.04             1.25       1   \n",
       "180037                0.89               0.97             2.50       1   \n",
       "180038                0.73               1.16             2.00       0   \n",
       "\n",
       "        water_type_mid  daxiaoPankouMidReal  daxiaoTypeAll  \n",
       "180034              14                    6       0.442440  \n",
       "180035              14                    6       0.442440  \n",
       "180036              13                    5       0.343489  \n",
       "180037              13                    6       0.567709  \n",
       "180038              16                    4       0.762310  "
      ]
     },
     "execution_count": 35,
     "metadata": {},
     "output_type": "execute_result"
    }
   ],
   "source": [
    "test.head()"
   ]
  },
  {
   "cell_type": "code",
   "execution_count": 36,
   "metadata": {
    "ExecuteTime": {
     "end_time": "2021-09-25T00:08:43.735545Z",
     "start_time": "2021-09-25T00:07:33.676695Z"
    },
    "colab": {
     "base_uri": "https://localhost:8080/"
    },
    "id": "t6udRIjZEdIg",
    "outputId": "d432b310-9fa8-41ca-dabc-5363d79fcd2b"
   },
   "outputs": [
    {
     "name": "stdout",
     "output_type": "stream",
     "text": [
      "Starting training... 0\n",
      "Starting training... 1\n",
      "Starting training... 2\n",
      "Starting training... 3\n",
      "Starting training... 4\n",
      "Starting training... 5\n",
      "Starting training... 6\n",
      "Starting training... 7\n",
      "Starting training... 8\n",
      "Starting training... 9\n",
      "Starting training... 10\n",
      "Starting training... 11\n",
      "Starting training... 12\n",
      "Starting training... 13\n",
      "Starting training... 14\n",
      "Starting training... 15\n",
      "accuarcy: 60.63%\n"
     ]
    }
   ],
   "source": [
    "from sklearn.metrics import roc_auc_score\n",
    "import lightgbm as lgb\n",
    "\n",
    "lgb_train = lgb.Dataset(train_x, train_y)\n",
    "\n",
    "# 参数设置\n",
    "params = {'num_leaves': 240, #结果对最终效果影响较大，越大值越好，太大会出现过拟合\n",
    "          'min_data_in_leaf': 30,\n",
    "          'objective': 'binary', #定义的目标函数\n",
    "          'max_depth': -1,\n",
    "          'learning_rate': 0.03,\n",
    "          \"min_sum_hessian_in_leaf\": 6,\n",
    "          \"boosting\": \"gbdt\",\n",
    "          \"feature_fraction\":  0.5992677823884304,\t#提取的特征比率\n",
    "          \"bagging_freq\": 4,\n",
    "          \"bagging_fraction\":0.7100471696361973,\n",
    "          \"bagging_seed\": 11,\n",
    "          \"lambda_l1\": 8.545500456265467e-05,\t\t\t\t#l1正则\n",
    "          'lambda_l2': 5.985747612243422e-07,\t\t#l2正则\n",
    "          \"verbosity\": -1,\n",
    "          \"nthread\": -1,\t\t#线程数量，-1表示全部线程，线程越多，运行的速度越快\n",
    "          'metric': {'binary_logloss', 'auc'},\t##评价函数选择\n",
    "          \"random_state\": 7,\t#随机数种子，可以防止每次运行的结果不一致\n",
    "          'min_child_samples': 67,\n",
    "          }\n",
    "\n",
    "y_pred = np.zeros(test_x.shape[0])\n",
    "\n",
    "folds = 16\n",
    "for i in range(folds):\n",
    "    print('Starting training...',i)\n",
    "    params['random_state'] = i + 2021\n",
    "    # 模型训练\n",
    "    gbm = lgb.train(params,\n",
    "                    lgb_train,\n",
    "                    num_boost_round=100)\n",
    "\n",
    "\n",
    "    # 模型预测\n",
    "    y_pred += gbm.predict(test_x, num_iteration=gbm.best_iteration) / folds\n",
    "\n",
    "accuracy = roc_auc_score(test_y, y_pred)\n",
    "print(\"accuarcy: %.2f%%\" % (accuracy*100.0))"
   ]
  },
  {
   "cell_type": "code",
   "execution_count": 37,
   "metadata": {
    "ExecuteTime": {
     "end_time": "2021-09-25T00:08:43.751536Z",
     "start_time": "2021-09-25T00:08:43.737543Z"
    }
   },
   "outputs": [
    {
     "name": "stdout",
     "output_type": "stream",
     "text": [
      "accuarcy: 68.86%\n",
      "(2004, 2)\n"
     ]
    }
   ],
   "source": [
    "from sklearn.metrics import roc_auc_score,accuracy_score\n",
    "test_new = pd.DataFrame({'result':test_y,'predict':y_pred})\n",
    "a = test_new[(test_new[\"predict\"] >= 0.66)]\n",
    "pred_labels = np.rint(a['predict'])\n",
    "accuracy = accuracy_score(a['result'], pred_labels)\n",
    "print(\"accuarcy: %.2f%%\" % (accuracy*100.0))\n",
    "print(a.shape)"
   ]
  },
  {
   "cell_type": "code",
   "execution_count": null,
   "metadata": {
    "ExecuteTime": {
     "end_time": "2021-09-20T12:50:00.629849Z",
     "start_time": "2021-09-20T12:50:00.621841Z"
    }
   },
   "outputs": [],
   "source": []
  },
  {
   "cell_type": "code",
   "execution_count": 38,
   "metadata": {
    "ExecuteTime": {
     "end_time": "2021-09-25T00:08:44.368112Z",
     "start_time": "2021-09-25T00:08:43.754535Z"
    }
   },
   "outputs": [
    {
     "data": {
      "image/png": "[encoded data removed]",
      "text/plain": [
       "<Figure size 720x720 with 1 Axes>"
      ]
     },
     "metadata": {
      "needs_background": "light"
     },
     "output_type": "display_data"
    }
   ],
   "source": [
    "fig, ax = plt.subplots(figsize=(10,10))\n",
    "lgb.plot_importance(gbm, max_num_features=60, height=0.5, ax=ax)\n",
    "plt.show()"
   ]
  },
  {
   "cell_type": "code",
   "execution_count": null,
   "metadata": {
    "ExecuteTime": {
     "end_time": "2021-09-19T00:50:23.969602Z",
     "start_time": "2021-09-19T00:50:23.959609Z"
    },
    "colab": {
     "base_uri": "https://localhost:8080/",
     "height": 627
    },
    "id": "IZXxUWROEdIh",
    "outputId": "12c538c6-2264-45d8-dc48-14c8722a9428"
   },
   "outputs": [],
   "source": []
  },
  {
   "cell_type": "code",
   "execution_count": 39,
   "metadata": {
    "ExecuteTime": {
     "end_time": "2021-09-25T00:08:44.398094Z",
     "start_time": "2021-09-25T00:08:44.375108Z"
    },
    "id": "GdTAzUHLEdIi"
   },
   "outputs": [
    {
     "name": "stdout",
     "output_type": "stream",
     "text": [
      "<class 'pandas.core.frame.DataFrame'>\n",
      "Int64Index: 20000 entries, 180034 to 200037\n",
      "Data columns (total 16 columns):\n",
      " #   Column                   Non-Null Count  Dtype  \n",
      "---  ------                   --------------  -----  \n",
      " 0   time                     20000 non-null  int16  \n",
      " 1   daxiaoMasterStartOdd     20000 non-null  float64\n",
      " 2   daxiaoGuestStartOdd      20000 non-null  float64\n",
      " 3   daxiaoPankouStart        20000 non-null  float64\n",
      " 4   daxiaoMasterOdd          20000 non-null  float64\n",
      " 5   daxiaoGuestOdd           20000 non-null  float64\n",
      " 6   daxiaoPankou             20000 non-null  float64\n",
      " 7   daxiaoMasterStartOddMid  20000 non-null  float64\n",
      " 8   daxiaoGuestStartOddMid   20000 non-null  float64\n",
      " 9   daxiaoPankouStartMid     20000 non-null  float64\n",
      " 10  daxiaoMasterOddMid       20000 non-null  float64\n",
      " 11  daxiaoGuestOddMid        20000 non-null  float64\n",
      " 12  daxiaoPankouMid          20000 non-null  float64\n",
      " 13  water_type_mid           20000 non-null  int16  \n",
      " 14  daxiaoPankouMidReal      20000 non-null  int16  \n",
      " 15  daxiaoTypeAll            20000 non-null  float64\n",
      "dtypes: float64(13), int16(3)\n",
      "memory usage: 2.3 MB\n"
     ]
    }
   ],
   "source": [
    "test_x.info()"
   ]
  },
  {
   "cell_type": "code",
   "execution_count": 40,
   "metadata": {
    "ExecuteTime": {
     "end_time": "2021-09-25T00:10:00.005040Z",
     "start_time": "2021-09-25T00:08:44.400094Z"
    },
    "colab": {
     "base_uri": "https://localhost:8080/"
    },
    "id": "A867lIczEdIi",
    "outputId": "fe128cf3-a6d5-40d9-a372-6af3a61f6f8e"
   },
   "outputs": [
    {
     "name": "stdout",
     "output_type": "stream",
     "text": [
      "Training until validation scores don't improve for 300 rounds\n",
      "[200]\ttraining's auc: 0.831732\tvalid_1's auc: 0.609412\n",
      "Early stopping, best iteration is:\n",
      "[75]\ttraining's auc: 0.735704\tvalid_1's auc: 0.612539\n",
      "[0.45532249 0.45532249 0.66146495 ... 0.62721659 0.62721659 0.43154799]\n",
      "Fold 1 | AUC: 0.6125391438336274\n",
      "Training until validation scores don't improve for 300 rounds\n",
      "[200]\ttraining's auc: 0.830702\tvalid_1's auc: 0.610184\n",
      "[400]\ttraining's auc: 0.922934\tvalid_1's auc: 0.606228\n",
      "Early stopping, best iteration is:\n",
      "[116]\ttraining's auc: 0.769046\tvalid_1's auc: 0.61142\n",
      "[0.58599407 0.69122412 0.69122412 ... 0.46052528 0.43975665 0.43975665]\n",
      "Fold 2 | AUC: 0.6114203929597358\n",
      "Training until validation scores don't improve for 300 rounds\n",
      "[200]\ttraining's auc: 0.831551\tvalid_1's auc: 0.611107\n",
      "Early stopping, best iteration is:\n",
      "[90]\ttraining's auc: 0.747838\tvalid_1's auc: 0.612874\n",
      "[0.41214993 0.42207518 0.46134676 ... 0.51203845 0.44939979 0.44939979]\n",
      "Fold 3 | AUC: 0.6128744215592343\n",
      "Training until validation scores don't improve for 300 rounds\n",
      "[200]\ttraining's auc: 0.831755\tvalid_1's auc: 0.616393\n",
      "Early stopping, best iteration is:\n",
      "[51]\ttraining's auc: 0.7155\tvalid_1's auc: 0.619539\n",
      "[0.53827708 0.49386273 0.53827708 ... 0.38620287 0.47751319 0.47751319]\n",
      "Fold 4 | AUC: 0.6195386240394302\n",
      "Training until validation scores don't improve for 300 rounds\n",
      "[200]\ttraining's auc: 0.830183\tvalid_1's auc: 0.611045\n",
      "Early stopping, best iteration is:\n",
      "[84]\ttraining's auc: 0.742597\tvalid_1's auc: 0.614586\n",
      "[0.44729746 0.44729746 0.43611499 ... 0.49308048 0.67489718 0.67489718]\n",
      "Fold 5 | AUC: 0.6145856586199404\n",
      "\n",
      "Mean AUC = 0.6141916482023936\n",
      "Out of folds AUC = 0.6075368996265408\n"
     ]
    }
   ],
   "source": [
    "import lightgbm as lgb\n",
    "from sklearn.metrics import roc_auc_score,accuracy_score\n",
    "from sklearn.model_selection import StratifiedKFold\n",
    "import gc\n",
    "X = train_x\n",
    "y = train_y\n",
    "# del train_x,train_y\n",
    "# gc.collect()\n",
    "\n",
    "\n",
    "params = {'num_leaves': 240,  # 结果对最终效果影响较大，越大值越好，太大会出现过拟合\n",
    "          'min_data_in_leaf': 30,\n",
    "          'objective': 'binary',  # 定义的目标函数\n",
    "          'max_depth': -1,\n",
    "          'learning_rate': 0.03,\n",
    "          \"min_sum_hessian_in_leaf\": 6,\n",
    "          \"boosting\": \"gbdt\",\n",
    "          \"feature_fraction\":  0.5992677823884304,  # 提取的特征比率\n",
    "          \"bagging_freq\": 4,\n",
    "          \"bagging_fraction\": 0.7100471696361973,\n",
    "          \"bagging_seed\": 11,\n",
    "          \"lambda_l1\": 8.545500456265467e-05,  # l1正则\n",
    "          'lambda_l2': 5.985747612243422e-07,  # l2正则\n",
    "          \"verbosity\": -1,\n",
    "          \"nthread\": -1,  # 线程数量，-1表示全部线程，线程越多，运行的速度越快\n",
    "          'metric': {'auc'},  # 评价函数选择\n",
    "          \"random_state\": 2019,  # 随机数种子，可以防止每次运行的结果不一致\n",
    "          # 'device': 'gpu' ##如果安装的事gpu版本的lightgbm,可以加快运算\n",
    "          'min_child_samples': 67\n",
    "          }\n",
    "\n",
    "NFOLDS = 5\n",
    "folds = StratifiedKFold(n_splits=NFOLDS)\n",
    "\n",
    "columns = X.columns\n",
    "splits = folds.split(X, y)\n",
    "y_preds = np.zeros(test_x.shape[0])\n",
    "score = 0\n",
    "\n",
    "feature_importances = pd.DataFrame()\n",
    "feature_importances['feature'] = columns\n",
    "\n",
    "for fold_n, (train_index, valid_index) in enumerate(splits):\n",
    "    X_train, X_valid = X[columns].iloc[train_index], X[columns].iloc[valid_index]\n",
    "    y_train, y_valid = y.iloc[train_index], y.iloc[valid_index]\n",
    "\n",
    "    dtrain = lgb.Dataset(X_train, label=y_train)\n",
    "    dvalid = lgb.Dataset(X_valid, label=y_valid)\n",
    "\n",
    "    clf = lgb.train(params, dtrain, 1000, valid_sets=[\n",
    "                    dtrain, dvalid], verbose_eval=200, early_stopping_rounds=300)\n",
    "\n",
    "    feature_importances[f'fold_{fold_n + 1}'] = clf.feature_importance()\n",
    "\n",
    "    y_pred_valid = clf.predict(X_valid)\n",
    "    print(y_pred_valid)\n",
    "    print(f\"Fold {fold_n + 1} | AUC: {roc_auc_score(y_valid, y_pred_valid)}\")\n",
    "\n",
    "    score += roc_auc_score(y_valid, y_pred_valid) / NFOLDS\n",
    "    y_preds += clf.predict(test_x) / NFOLDS\n",
    "    del X_train, X_valid, y_train, y_valid\n",
    "    gc.collect()\n",
    "    \n",
    "print(f\"\\nMean AUC = {score}\")\n",
    "print(f\"Out of folds AUC = {roc_auc_score(test_y, y_preds)}\")"
   ]
  },
  {
   "cell_type": "code",
   "execution_count": 41,
   "metadata": {
    "ExecuteTime": {
     "end_time": "2021-09-25T00:10:00.032023Z",
     "start_time": "2021-09-25T00:10:00.010037Z"
    }
   },
   "outputs": [
    {
     "name": "stdout",
     "output_type": "stream",
     "text": [
      "accuarcy: 67.08%\n",
      "(3062, 2)\n"
     ]
    }
   ],
   "source": [
    "from sklearn.metrics import roc_auc_score,accuracy_score\n",
    "test_new = pd.DataFrame({'result':test_y,'predict':y_preds})\n",
    "a = test_new[(test_new[\"predict\"] >= 0.62)]\n",
    "pred_labels = np.rint(a['predict'])\n",
    "accuracy = accuracy_score(a['result'], pred_labels)\n",
    "print(\"accuarcy: %.2f%%\" % (accuracy*100.0))\n",
    "print(a.shape)"
   ]
  },
  {
   "cell_type": "code",
   "execution_count": null,
   "metadata": {
    "ExecuteTime": {
     "end_time": "2021-09-19T11:12:32.620176Z",
     "start_time": "2021-09-19T11:12:32.613179Z"
    }
   },
   "outputs": [],
   "source": []
  },
  {
   "cell_type": "code",
   "execution_count": 42,
   "metadata": {
    "ExecuteTime": {
     "end_time": "2021-09-25T00:10:01.312290Z",
     "start_time": "2021-09-25T00:10:00.036021Z"
    },
    "colab": {
     "base_uri": "https://localhost:8080/",
     "height": 953
    },
    "id": "xicUPt9ZEdIi",
    "outputId": "802b6bc7-0c1f-4a6d-8ce3-a757205632b8"
   },
   "outputs": [
    {
     "data": {
      "image/png": "[encoded data removed]",
      "text/plain": [
       "<Figure size 1152x1152 with 1 Axes>"
      ]
     },
     "metadata": {
      "needs_background": "light"
     },
     "output_type": "display_data"
    }
   ],
   "source": [
    "import seaborn as sns\n",
    "feature_importance_gain=pd.DataFrame()\n",
    "feature_importance_gain['feature']=columns\n",
    "feature_importance_gain['fold_1']=clf.feature_importance(importance_type='gain')\n",
    "feature_importance_gain['average'] = feature_importances[[f'fold_{fold_n + 1}' for fold_n in range(1)]].mean(axis=1)\n",
    "plt.figure(figsize=(16, 16))\n",
    "sns.barplot(data=feature_importance_gain.sort_values(by='average', ascending=False).head(50), x='average', y='feature');\n",
    "plt.title('100 TOP feature importance over {} folds average'.format(folds.n_splits));"
   ]
  },
  {
   "cell_type": "code",
   "execution_count": null,
   "metadata": {
    "ExecuteTime": {
     "end_time": "2021-09-17T13:46:15.075721Z",
     "start_time": "2021-09-17T13:46:13.358664Z"
    }
   },
   "outputs": [],
   "source": []
  },
  {
   "cell_type": "code",
   "execution_count": 43,
   "metadata": {
    "ExecuteTime": {
     "end_time": "2021-09-25T00:10:01.327281Z",
     "start_time": "2021-09-25T00:10:01.318286Z"
    },
    "id": "uh55l3HyEdIi"
   },
   "outputs": [],
   "source": [
    "# import seaborn as sns\n",
    "# sns.set()\n",
    "\n",
    "# import sweetviz as sv\n",
    "# # 可以选择目标特征\n",
    "# my_report = sv.analyze(train, target_feat ='result')\n",
    "# my_report.show_html()"
   ]
  },
  {
   "cell_type": "code",
   "execution_count": null,
   "metadata": {
    "ExecuteTime": {
     "end_time": "2021-09-19T10:57:59.677256Z",
     "start_time": "2021-09-19T10:57:59.647275Z"
    }
   },
   "outputs": [],
   "source": []
  },
  {
   "cell_type": "code",
   "execution_count": 44,
   "metadata": {
    "ExecuteTime": {
     "end_time": "2021-09-25T00:10:01.373255Z",
     "start_time": "2021-09-25T00:10:01.330280Z"
    },
    "colab": {
     "base_uri": "https://localhost:8080/"
    },
    "id": "8zSjBu_6EdIj",
    "outputId": "81692c28-e759-47b2-a248-7e1e880b2636"
   },
   "outputs": [],
   "source": [
    "# new_featurs = [_f for _f, _score, _ in feature_scores if _score > 0]\n",
    "# test_x = test_x[new_featurs]\n",
    "# train_x = train_x[new_featurs]"
   ]
  },
  {
   "cell_type": "code",
   "execution_count": 45,
   "metadata": {
    "ExecuteTime": {
     "end_time": "2021-09-25T00:10:01.404238Z",
     "start_time": "2021-09-25T00:10:01.377253Z"
    }
   },
   "outputs": [],
   "source": [
    "import pandas as pd\n",
    "import numpy as np\n",
    "from sklearn.metrics import roc_auc_score\n",
    "from sklearn.model_selection import KFold\n",
    "import time\n",
    "from lightgbm import LGBMClassifier\n",
    "import lightgbm as lgb\n",
    "\n",
    "import matplotlib.pyplot as plt\n",
    "import matplotlib.gridspec as gridspec\n",
    "import seaborn as sns\n",
    "%matplotlib inline\n",
    "\n",
    "import warnings\n",
    "warnings.simplefilter('ignore', UserWarning)\n",
    "\n",
    "def get_feature_importances(data, shuffle, seed=None):\n",
    "    # Gather real features\n",
    "    train_features = [f for f in data if f not in ['result']]\n",
    "    # Go over fold and keep track of CV score (train and valid) and feature importances\n",
    "    \n",
    "    # Shuffle target if required\n",
    "    y = data['result'].copy()\n",
    "    if shuffle:\n",
    "        # Here you could as well use a binomial distribution\n",
    "        y = data['result'].copy().sample(frac=1.0)\n",
    "    \n",
    "    # Fit LightGBM in RF mode, yes it's quicker than sklearn RandomForest\n",
    "    dtrain = lgb.Dataset(data[train_features], y, free_raw_data=False, silent=True)\n",
    "    lgb_params = {\n",
    "        'objective': 'binary',\n",
    "        'boosting_type': 'rf',\n",
    "        'subsample': 0.623,\n",
    "        'colsample_bytree': 0.7,\n",
    "        'num_leaves': 127,\n",
    "        'max_depth': 8,\n",
    "        'seed': seed,\n",
    "        'bagging_freq': 1,\n",
    "        'n_jobs': 4\n",
    "    }\n",
    "    \n",
    "    # Fit the model\n",
    "    clf = lgb.train(params=lgb_params, train_set=dtrain, num_boost_round=200)\n",
    "\n",
    "    # Get feature importances\n",
    "    imp_df = pd.DataFrame()\n",
    "    imp_df[\"feature\"] = list(train_features)\n",
    "    imp_df[\"importance_gain\"] = clf.feature_importance(importance_type='gain')\n",
    "    imp_df[\"importance_split\"] = clf.feature_importance(importance_type='split')\n",
    "    imp_df['trn_score'] = roc_auc_score(y, clf.predict(data[train_features]))\n",
    "    \n",
    "    return imp_df"
   ]
  },
  {
   "cell_type": "code",
   "execution_count": 46,
   "metadata": {
    "ExecuteTime": {
     "end_time": "2021-09-25T00:10:10.717900Z",
     "start_time": "2021-09-25T00:10:01.407235Z"
    }
   },
   "outputs": [],
   "source": [
    "# Seed the unexpected randomness of this world\n",
    "np.random.seed(123)\n",
    "# Get the actual importance, i.e. without shuffling\n",
    "actual_imp_df = get_feature_importances(data=train, shuffle=False) "
   ]
  },
  {
   "cell_type": "code",
   "execution_count": 47,
   "metadata": {
    "ExecuteTime": {
     "end_time": "2021-09-25T00:10:10.731891Z",
     "start_time": "2021-09-25T00:10:10.722898Z"
    }
   },
   "outputs": [],
   "source": [
    "# null_imp_df = pd.DataFrame()\n",
    "# nb_runs = 80\n",
    "# import time\n",
    "# start = time.time()\n",
    "# dsp = ''\n",
    "# for i in range(nb_runs):\n",
    "#     # Get current run importances\n",
    "#     imp_df = get_feature_importances(data=train, shuffle=True)\n",
    "#     imp_df['run'] = i + 1 \n",
    "#     # Concat the latest importances with the old ones\n",
    "#     null_imp_df = pd.concat([null_imp_df, imp_df], axis=0)\n",
    "#     # Erase previous message\n",
    "#     for l in range(len(dsp)):\n",
    "#         print('\\b', end='', flush=True)\n",
    "#     # Display current run and time used\n",
    "#     spent = (time.time() - start) / 60\n",
    "#     dsp = 'Done with %4d of %4d (Spent %5.1f min)' % (i + 1, nb_runs, spent)\n",
    "#     print(dsp, end='', flush=True)"
   ]
  },
  {
   "cell_type": "code",
   "execution_count": 48,
   "metadata": {
    "ExecuteTime": {
     "end_time": "2021-09-25T00:10:12.695766Z",
     "start_time": "2021-09-25T00:10:10.738888Z"
    }
   },
   "outputs": [
    {
     "ename": "NameError",
     "evalue": "name 'null_imp_df' is not defined",
     "output_type": "error",
     "traceback": [
      "\u001b[1;31m---------------------------------------------------------------------------\u001b[0m",
      "\u001b[1;31mNameError\u001b[0m                                 Traceback (most recent call last)",
      "\u001b[1;32m<ipython-input-48-acdf9e7ba9e7>\u001b[0m in \u001b[0;36m<module>\u001b[1;34m\u001b[0m\n\u001b[0;32m      1\u001b[0m \u001b[0mfeature_scores\u001b[0m \u001b[1;33m=\u001b[0m \u001b[1;33m[\u001b[0m\u001b[1;33m]\u001b[0m\u001b[1;33m\u001b[0m\u001b[1;33m\u001b[0m\u001b[0m\n\u001b[0;32m      2\u001b[0m \u001b[1;32mfor\u001b[0m \u001b[0m_f\u001b[0m \u001b[1;32min\u001b[0m \u001b[0mactual_imp_df\u001b[0m\u001b[1;33m[\u001b[0m\u001b[1;34m'feature'\u001b[0m\u001b[1;33m]\u001b[0m\u001b[1;33m.\u001b[0m\u001b[0munique\u001b[0m\u001b[1;33m(\u001b[0m\u001b[1;33m)\u001b[0m\u001b[1;33m:\u001b[0m\u001b[1;33m\u001b[0m\u001b[1;33m\u001b[0m\u001b[0m\n\u001b[1;32m----> 3\u001b[1;33m     \u001b[0mf_null_imps_gain\u001b[0m \u001b[1;33m=\u001b[0m \u001b[0mnull_imp_df\u001b[0m\u001b[1;33m.\u001b[0m\u001b[0mloc\u001b[0m\u001b[1;33m[\u001b[0m\u001b[0mnull_imp_df\u001b[0m\u001b[1;33m[\u001b[0m\u001b[1;34m'feature'\u001b[0m\u001b[1;33m]\u001b[0m \u001b[1;33m==\u001b[0m \u001b[0m_f\u001b[0m\u001b[1;33m,\u001b[0m \u001b[1;34m'importance_gain'\u001b[0m\u001b[1;33m]\u001b[0m\u001b[1;33m.\u001b[0m\u001b[0mvalues\u001b[0m\u001b[1;33m\u001b[0m\u001b[1;33m\u001b[0m\u001b[0m\n\u001b[0m\u001b[0;32m      4\u001b[0m     \u001b[0mf_act_imps_gain\u001b[0m \u001b[1;33m=\u001b[0m \u001b[0mactual_imp_df\u001b[0m\u001b[1;33m.\u001b[0m\u001b[0mloc\u001b[0m\u001b[1;33m[\u001b[0m\u001b[0mactual_imp_df\u001b[0m\u001b[1;33m[\u001b[0m\u001b[1;34m'feature'\u001b[0m\u001b[1;33m]\u001b[0m \u001b[1;33m==\u001b[0m \u001b[0m_f\u001b[0m\u001b[1;33m,\u001b[0m \u001b[1;34m'importance_gain'\u001b[0m\u001b[1;33m]\u001b[0m\u001b[1;33m.\u001b[0m\u001b[0mmean\u001b[0m\u001b[1;33m(\u001b[0m\u001b[1;33m)\u001b[0m\u001b[1;33m\u001b[0m\u001b[1;33m\u001b[0m\u001b[0m\n\u001b[0;32m      5\u001b[0m     \u001b[0mgain_score\u001b[0m \u001b[1;33m=\u001b[0m \u001b[0mnp\u001b[0m\u001b[1;33m.\u001b[0m\u001b[0mlog\u001b[0m\u001b[1;33m(\u001b[0m\u001b[1;36m1e-10\u001b[0m \u001b[1;33m+\u001b[0m \u001b[0mf_act_imps_gain\u001b[0m \u001b[1;33m/\u001b[0m \u001b[1;33m(\u001b[0m\u001b[1;36m1\u001b[0m \u001b[1;33m+\u001b[0m \u001b[0mnp\u001b[0m\u001b[1;33m.\u001b[0m\u001b[0mpercentile\u001b[0m\u001b[1;33m(\u001b[0m\u001b[0mf_null_imps_gain\u001b[0m\u001b[1;33m,\u001b[0m \u001b[1;36m75\u001b[0m\u001b[1;33m)\u001b[0m\u001b[1;33m)\u001b[0m\u001b[1;33m)\u001b[0m  \u001b[1;31m# Avoid didvide by zero\u001b[0m\u001b[1;33m\u001b[0m\u001b[1;33m\u001b[0m\u001b[0m\n",
      "\u001b[1;31mNameError\u001b[0m: name 'null_imp_df' is not defined"
     ]
    }
   ],
   "source": [
    "feature_scores = []\n",
    "for _f in actual_imp_df['feature'].unique():\n",
    "    f_null_imps_gain = null_imp_df.loc[null_imp_df['feature'] == _f, 'importance_gain'].values\n",
    "    f_act_imps_gain = actual_imp_df.loc[actual_imp_df['feature'] == _f, 'importance_gain'].mean()\n",
    "    gain_score = np.log(1e-10 + f_act_imps_gain / (1 + np.percentile(f_null_imps_gain, 75)))  # Avoid didvide by zero\n",
    "    \n",
    "    f_null_imps_split = null_imp_df.loc[null_imp_df['feature'] == _f, 'importance_split'].values\n",
    "    f_act_imps_split = actual_imp_df.loc[actual_imp_df['feature'] == _f, 'importance_split'].mean()\n",
    "    split_score = np.log(1e-10 + f_act_imps_split / (1 + np.percentile(f_null_imps_split, 75)))  # Avoid didvide by zero\n",
    "    \n",
    "    feature_scores.append((_f, split_score, gain_score))\n",
    " \n",
    "scores_df = pd.DataFrame(feature_scores, columns=['feature', 'split_score', 'gain_score'])"
   ]
  },
  {
   "cell_type": "code",
   "execution_count": null,
   "metadata": {
    "ExecuteTime": {
     "end_time": "2021-09-19T12:12:59.700049Z",
     "start_time": "2021-09-19T12:04:29.374Z"
    }
   },
   "outputs": [],
   "source": []
  },
  {
   "cell_type": "code",
   "execution_count": null,
   "metadata": {
    "ExecuteTime": {
     "end_time": "2021-09-25T00:10:12.702764Z",
     "start_time": "2021-09-25T00:06:14.442Z"
    }
   },
   "outputs": [],
   "source": [
    "feature_scores = []\n",
    "for _f in actual_imp_df['feature'].unique():\n",
    "    f_null_imps_gain = null_imp_df.loc[null_imp_df['feature'] == _f, 'importance_gain'].values\n",
    "    f_act_imps_gain = actual_imp_df.loc[actual_imp_df['feature'] == _f, 'importance_gain'].mean()\n",
    "    gain_score = np.log(1e-10 + f_act_imps_gain / (1 + np.percentile(f_null_imps_gain, 75)))  # Avoid didvide by zero\n",
    "    f_null_imps_split = null_imp_df.loc[null_imp_df['feature'] == _f, 'importance_split'].values\n",
    "    f_act_imps_split = actual_imp_df.loc[actual_imp_df['feature'] == _f, 'importance_split'].mean()\n",
    "    split_score = np.log(1e-10 + f_act_imps_split / (1 + np.percentile(f_null_imps_split, 75)))  # Avoid didvide by zero\n",
    "    feature_scores.append((_f, split_score, gain_score))\n",
    "\n",
    "scores_df = pd.DataFrame(feature_scores, columns=['feature', 'split_score', 'gain_score'])\n",
    "\n",
    "plt.figure(figsize=(16, 16))\n",
    "gs = gridspec.GridSpec(1, 2)\n",
    "# Plot Split importances\n",
    "ax = plt.subplot(gs[0, 0])\n",
    "sns.barplot(x='split_score', y='feature', data=scores_df.sort_values('split_score', ascending=False).iloc[0:70], ax=ax)\n",
    "ax.set_title('Feature scores wrt split importances', fontweight='bold', fontsize=14)\n",
    "# Plot Gain importances\n",
    "ax = plt.subplot(gs[0, 1])\n",
    "sns.barplot(x='gain_score', y='feature', data=scores_df.sort_values('gain_score', ascending=False).iloc[0:70], ax=ax)\n",
    "ax.set_title('Feature scores wrt gain importances', fontweight='bold', fontsize=14)\n",
    "plt.tight_layout()"
   ]
  },
  {
   "cell_type": "code",
   "execution_count": null,
   "metadata": {
    "ExecuteTime": {
     "end_time": "2021-09-19T12:12:59.711043Z",
     "start_time": "2021-09-19T12:04:29.377Z"
    }
   },
   "outputs": [],
   "source": []
  },
  {
   "cell_type": "code",
   "execution_count": null,
   "metadata": {
    "ExecuteTime": {
     "end_time": "2021-09-25T00:10:12.704761Z",
     "start_time": "2021-09-25T00:06:14.446Z"
    }
   },
   "outputs": [],
   "source": [
    "# def score_feature_selection(df=None, train_features=None, target=None):\n",
    "#     # Fit LightGBM \n",
    "#     dtrain = lgb.Dataset(df[train_features], target, free_raw_data=False, silent=True)\n",
    "#     lgb_params = {\n",
    "#         'objective': 'binary',\n",
    "#         'boosting_type': 'gbdt',\n",
    "#         'learning_rate': .1,\n",
    "#         'subsample': 0.8,\n",
    "#         'colsample_bytree': 0.8,\n",
    "#         'num_leaves': 31,\n",
    "#         'max_depth': -1,\n",
    "#         'seed': 13,\n",
    "#         'n_jobs': 4,\n",
    "#         'min_split_gain': .00001,\n",
    "#         'reg_alpha': .00001,\n",
    "#         'reg_lambda': .00001,\n",
    "#         'metric': 'auc'\n",
    "#     }\n",
    "#     # Fit the model\n",
    "#     hist = lgb.cv(\n",
    "#         params=lgb_params, \n",
    "#         train_set=dtrain, \n",
    "#         num_boost_round=2000,\n",
    "#         nfold=5,\n",
    "#         stratified=True,\n",
    "#         shuffle=True,\n",
    "#         early_stopping_rounds=50,\n",
    "#         verbose_eval=0,\n",
    "#         seed=17)\n",
    "#     # Return the last mean / std values \n",
    "#     return hist['auc-mean'][-1], hist['auc-stdv'][-1]\n",
    "\n",
    "# # train.columns = test.columns\n",
    "# # features = [f for f in train.columns if f not in ['result']]\n",
    "# # score_feature_selection(df=train[features], train_features=features, target=train['result'])\n",
    "\n",
    "# categorical_feats = cat_features\n",
    "\n",
    "# for threshold in [0, 10, 20, 30 , 40, 50 ,60 , 70, 80 , 90, 95, 99]:\n",
    "#     split_feats     = [_f for _f, _score, _ in correlation_scores if _score >= threshold]\n",
    "#     # split_cat_feats = [_f for _f, _score, _ in correlation_scores if (_score >= threshold) & (_f in categorical_feats)]\n",
    "    \n",
    "#     gain_feats     = [_f for _f, _, _score in correlation_scores if _score >= threshold]\n",
    "#     # gain_cat_feats = [_f for _f, _, _score in correlation_scores if (_score >= threshold) & (_f in categorical_feats)]\n",
    "                                                                                             \n",
    "#     print('Results for threshold %3d' % threshold)\n",
    "#     split_results = score_feature_selection(df=train, train_features=split_feats, target=train['result'])\n",
    "#     print('\\t SPLIT : %.6f +/- %.6f' % (split_results[0], split_results[1]))\n",
    "#     gain_results = score_feature_selection(df=train, train_features=gain_feats, target=train['result'])\n",
    "#     print('\\t GAIN  : %.6f +/- %.6f' % (gain_results[0], gain_results[1]))"
   ]
  },
  {
   "cell_type": "code",
   "execution_count": null,
   "metadata": {
    "ExecuteTime": {
     "end_time": "2021-09-20T01:45:14.140018Z",
     "start_time": "2021-09-20T01:45:14.109273Z"
    }
   },
   "outputs": [],
   "source": []
  },
  {
   "cell_type": "code",
   "execution_count": null,
   "metadata": {
    "ExecuteTime": {
     "end_time": "2021-09-20T01:45:14.171316Z",
     "start_time": "2021-09-20T01:45:14.142030Z"
    }
   },
   "outputs": [],
   "source": []
  },
  {
   "cell_type": "code",
   "execution_count": null,
   "metadata": {
    "ExecuteTime": {
     "end_time": "2021-09-19T16:25:06.526487Z",
     "start_time": "2021-09-19T16:25:06.486509Z"
    }
   },
   "outputs": [],
   "source": []
  },
  {
   "cell_type": "code",
   "execution_count": null,
   "metadata": {
    "ExecuteTime": {
     "end_time": "2021-09-19T16:25:21.217475Z",
     "start_time": "2021-09-19T16:25:08.165901Z"
    }
   },
   "outputs": [],
   "source": []
  },
  {
   "cell_type": "code",
   "execution_count": null,
   "metadata": {
    "ExecuteTime": {
     "end_time": "2021-09-19T16:25:21.219474Z",
     "start_time": "2021-09-19T16:25:11.140Z"
    }
   },
   "outputs": [],
   "source": []
  },
  {
   "cell_type": "code",
   "execution_count": null,
   "metadata": {
    "ExecuteTime": {
     "end_time": "2021-09-19T16:17:28.362557Z",
     "start_time": "2021-09-19T16:17:28.328591Z"
    }
   },
   "outputs": [],
   "source": []
  },
  {
   "cell_type": "code",
   "execution_count": null,
   "metadata": {},
   "outputs": [],
   "source": []
  }
 ],
 "metadata": {
  "colab": {
   "collapsed_sections": [],
   "name": "NewXG.ipynb",
   "provenance": []
  },
  "kernelspec": {
   "display_name": "Python 3 (ipykernel)",
   "language": "python",
   "name": "python3"
  },
  "language_info": {
   "codemirror_mode": {
    "name": "ipython",
    "version": 3
   },
   "file_extension": ".py",
   "mimetype": "text/x-python",
   "name": "python",
   "nbconvert_exporter": "python",
   "pygments_lexer": "ipython3",
   "version": "3.8.5"
  },
  "toc": {
   "base_numbering": 1,
   "nav_menu": {},
   "number_sections": true,
   "sideBar": true,
   "skip_h1_title": false,
   "title_cell": "Table of Contents",
   "title_sidebar": "Contents",
   "toc_cell": false,
   "toc_position": {},
   "toc_section_display": true,
   "toc_window_display": false
  }
 },
 "nbformat": 4,
 "nbformat_minor": 1
}
