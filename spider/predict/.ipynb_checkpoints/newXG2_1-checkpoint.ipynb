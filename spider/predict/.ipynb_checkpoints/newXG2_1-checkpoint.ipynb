{
 "cells": [
  {
   "cell_type": "code",
   "execution_count": 1,
   "metadata": {
    "ExecuteTime": {
     "end_time": "2021-12-25T02:03:22.981053Z",
     "start_time": "2021-12-25T02:03:20.694213Z"
    },
    "colab": {
     "base_uri": "https://localhost:8080/"
    },
    "id": "sweheA5JE1Um",
    "outputId": "3338da98-f3f9-414b-92c8-aa1c3070a18c"
   },
   "outputs": [],
   "source": [
    "import json\n",
    "import pandas as pd\n",
    "\n",
    "import pymongo\n",
    "import matplotlib as mpl\n",
    "import numpy as np\n",
    "import matplotlib.pyplot as plt"
   ]
  },
  {
   "cell_type": "code",
   "execution_count": 2,
   "metadata": {
    "ExecuteTime": {
     "end_time": "2021-12-25T02:03:22.997022Z",
     "start_time": "2021-12-25T02:03:22.983023Z"
    },
    "id": "dQ2cjdK9EdIH"
   },
   "outputs": [],
   "source": [
    "def reduce_mem_usage(df, verbose=False):\n",
    "    numerics = ['int16', 'int32', 'int64', 'float16', 'float32', 'float64']\n",
    "    start_mem = df.memory_usage().sum() / 1024**2\n",
    "    for col in df.columns:\n",
    "        col_type = df[col].dtypes\n",
    "        if col_type in numerics:\n",
    "            c_min = df[col].min()\n",
    "            c_max = df[col].max()\n",
    "            if str(col_type)[:3] == 'int':\n",
    "                if c_min > np.iinfo(np.int8).min and c_max < np.iinfo(np.int8).max:\n",
    "                    df[col] = df[col].astype(np.int8)\n",
    "                elif c_min > np.iinfo(np.int16).min and c_max < np.iinfo(np.int16).max:\n",
    "                    df[col] = df[col].astype(np.int16)\n",
    "                elif c_min > np.iinfo(np.int32).min and c_max < np.iinfo(np.int32).max:\n",
    "                    df[col] = df[col].astype(np.int32)\n",
    "                elif c_min > np.iinfo(np.int64).min and c_max < np.iinfo(np.int64).max:\n",
    "                    df[col] = df[col].astype(np.int64)\n",
    "            else:\n",
    "                c_prec = df[col].apply(lambda x: np.finfo(x).precision).max()\n",
    "                if c_min > np.finfo(np.float16).min and c_max < np.finfo(np.float16).max and c_prec == np.finfo(np.float16).precision:\n",
    "                    df[col] = df[col].astype(np.float16)\n",
    "                elif c_min > np.finfo(np.float32).min and c_max < np.finfo(np.float32).max and c_prec == np.finfo(np.float32).precision:\n",
    "                    df[col] = df[col].astype(np.float32)\n",
    "                else:\n",
    "                    df[col] = df[col].astype(np.float64)\n",
    "    end_mem = df.memory_usage().sum() / 1024**2\n",
    "    if verbose: print('Mem. usage decreased to {:5.2f} Mb ({:.1f}% reduction)'.format(end_mem, 100 * (start_mem - end_mem) / start_mem))\n",
    "    return df"
   ]
  },
  {
   "cell_type": "code",
   "execution_count": 3,
   "metadata": {
    "ExecuteTime": {
     "end_time": "2021-12-25T02:03:23.045006Z",
     "start_time": "2021-12-25T02:03:22.999007Z"
    }
   },
   "outputs": [],
   "source": [
    "import numpy as np\n",
    "import matplotlib.pyplot as plt\n",
    " \n",
    "class Performance:\n",
    "    \"\"\"\n",
    "    定义一个类，用来分类器的性能度量\n",
    "    \"\"\"\n",
    "    def __init__(self, labels, scores, threshold=0.5):\n",
    "        \"\"\"\n",
    "        :param labels:数组类型，真实的标签\n",
    "        :param scores:数组类型，分类器的得分\n",
    "        :param threshold:检测阈值\n",
    "        \"\"\"\n",
    "        self.labels = labels\n",
    "        self.scores = scores\n",
    "        self.threshold = threshold\n",
    "        self.db = self.get_db()\n",
    "        self.TP, self.FP, self.FN, self.TN = self.get_confusion_matrix()\n",
    " \n",
    "    def accuracy(self):\n",
    "        \"\"\"\n",
    "        :return: 正确率\n",
    "        \"\"\"\n",
    "        return (self.TP + self.TN) / (self.TP + self.FN + self.FP + self.TN)\n",
    " \n",
    "    def presision(self):\n",
    "        \"\"\"\n",
    "        :return: 准确率\n",
    "        \"\"\"\n",
    "        if (self.TP + self.FP) == 0:\n",
    "            return 0\n",
    "        return self.TP / (self.TP + self.FP)\n",
    "    \n",
    "    def presision2(self):\n",
    "        \"\"\"\n",
    "        :return: 准确率\n",
    "        \"\"\"\n",
    "        if (self.TN + self.FN) == 0:\n",
    "            return 0\n",
    "        return self.TN / (self.TN + self.FN)\n",
    "    \n",
    "    def get_db(self):\n",
    "        db = []\n",
    "        for i in range(len(self.labels)):\n",
    "            db.append([self.labels[i], self.scores[i]])\n",
    "        db = sorted(db, key=lambda x: x[1], reverse=True)\n",
    "        return db\n",
    "\n",
    "    def get_confusion_matrix(self):\n",
    "        \"\"\"\n",
    "        计算混淆矩阵\n",
    "        :return:\n",
    "        \"\"\"\n",
    "        tp, fp, fn, tn = 0., 0., 0., 0.\n",
    "        for i in range(len(self.labels)):\n",
    "            if self.labels[i] == 1 and self.scores[i] >= self.threshold:\n",
    "                tp += 1\n",
    "            elif self.labels[i] == 0 and self.scores[i] >= self.threshold:\n",
    "                fp += 1\n",
    "            elif self.labels[i] == 1 and self.scores[i] < self.threshold:\n",
    "                fn += 1\n",
    "            else:\n",
    "                tn += 1\n",
    "        return [tp, fp, fn, tn]"
   ]
  },
  {
   "cell_type": "code",
   "execution_count": 4,
   "metadata": {
    "ExecuteTime": {
     "end_time": "2021-12-25T02:03:23.091991Z",
     "start_time": "2021-12-25T02:03:23.046991Z"
    },
    "id": "EQ6sA0qwEdIJ"
   },
   "outputs": [],
   "source": [
    "def getGoalMid(masterGoal, guestGoal, masterMidGoal, guestMidGoal):\n",
    "    return int(masterGoal) + int(guestGoal) - int(masterMidGoal) - int(guestMidGoal)\n",
    "\n",
    "\n",
    "def removeSub(pankou):\n",
    "    pankou = pankou.replace(\"升\", \"\")\n",
    "    pankou = pankou.replace(\"降\", \"\")\n",
    "    return pankou.strip()\n",
    "\n",
    "\n",
    "def getResultOne(goalMid, pankou):\n",
    "    row = pankou\n",
    "    row = 0\n",
    "    if goalMid - float(row) > 0:\n",
    "        return 1\n",
    "    if goalMid - float(row) <= 0:\n",
    "        return 0\n",
    "    \n",
    "def getType(yapanMasterStartOdd, yapanGuestStartOdd, yapanPankouStart):\n",
    "    linTypeStart = get18(yapanMasterStartOdd, yapanGuestStartOdd)\n",
    "    return str(linTypeStart) + \"_\" + str(yapanPankouStart)\n",
    "\n",
    "\n",
    "def get18(master, guest):\n",
    "    if master > guest:\n",
    "        return 18\n",
    "    if master < guest:\n",
    "        return 81\n",
    "    if master == guest:\n",
    "        return 99\n",
    "\n",
    "\n",
    "def daxiao_num(x):\n",
    "    x_list = x.split(\"/\")\n",
    "    num = 0\n",
    "    for i in x_list:\n",
    "        num += float(i)\n",
    "    return (float(num)/len(x_list))\n",
    "\n",
    "\n",
    "def realDaxiao(x, master, guest):\n",
    "    return float(x) - float(master) - float(guest)\n",
    "\n",
    "\n",
    "def shengjiang(start, end):\n",
    "    return ((end) - (start))\n",
    "\n",
    "def round2(x):\n",
    "    return round((x), 2)"
   ]
  },
  {
   "cell_type": "code",
   "execution_count": 5,
   "metadata": {
    "ExecuteTime": {
     "end_time": "2021-12-25T02:03:23.122977Z",
     "start_time": "2021-12-25T02:03:23.093977Z"
    }
   },
   "outputs": [],
   "source": [
    "def getShuiPing(x):\n",
    "    result = 11\n",
    "    if x < 0.75:\n",
    "        result = 0\n",
    "    if 0.75<= x and x<=0.85:\n",
    "        result = 1\n",
    "    if 0.85<x and x<=0.90:\n",
    "        result = 2\n",
    "    if 0.90<x and x<=0.95:\n",
    "        result = 3\n",
    "    if 0.95<x and x<=1.00:\n",
    "        result = 4\n",
    "    if 1.00<x and x<=1.08:\n",
    "        result = 5\n",
    "    if 1.08<x:\n",
    "        result = 6\n",
    "    return result\n",
    "\n",
    "def num_fea_dis(df,features):\n",
    "    for f in features:\n",
    "        nm = f+'_'+'shuiPing'\n",
    "        df[nm] = df[f].map(getShuiPing)\n",
    "    return df"
   ]
  },
  {
   "cell_type": "code",
   "execution_count": 11,
   "metadata": {
    "ExecuteTime": {
     "end_time": "2021-12-25T02:14:33.995892Z",
     "start_time": "2021-12-25T02:14:33.981897Z"
    },
    "id": "z5MN0RQYEdIK"
   },
   "outputs": [],
   "source": [
    "def fillNa(x, value):\n",
    "    if pd.isnull(x):\n",
    "        return value\n",
    "    else:\n",
    "        return x\n",
    "\n",
    "    \n",
    "def preF(test):\n",
    "    test['goalMid'] = test.apply(lambda x: getGoalMid(\n",
    "        x['masterGoal'], x['guestGoal'], x['midGuestGoal'], x['midMasterGoal']), axis=1)\n",
    "    \n",
    "    test = test[test['goalMid'] >= 0]\n",
    "    \n",
    "    test['zhongbifengNew'] = test['midMasterGoal'].astype(\n",
    "        str) + \"_\" + test['midGuestGoal'].astype(str)\n",
    "\n",
    "    pankou = [\"pankou_Start_Ji_3\",\"pankouOdd_End_Ji_3\"]\n",
    "\n",
    "#     for col in pankou:\n",
    "#         test[col] = test[col].map(daxiao_num)\n",
    "#         test[col] = test[col].astype(str)\n",
    "        \n",
    "    pankou = [\"pankouOdd_End_Zhong_3\",\"pankou_Start_Zhong_3\"] + [\"pankou_Start_Ji_3\",\"pankouOdd_End_Ji_3\"]\n",
    "\n",
    "    for col in pankou:\n",
    "        test[col] = test[col].map(daxiao_num)\n",
    "        test[col] = test[col].astype(str)\n",
    "        nm = col + \"Real\"\n",
    "        test[nm] = test.apply(lambda x: realDaxiao(x[col],x['midGuestGoal'],x['midMasterGoal']), axis=1)\n",
    "        test[nm] = test[nm].astype(str)\n",
    "\n",
    "    test['result'] = test.apply(lambda x: getResultOne(\n",
    "        x['goalMid'], x['pankouOdd_End_Zhong_3Real']), axis=1)\n",
    "    \n",
    "    fes = ['masterOdd_Start_Ji_3', 'masterOdd_End_Ji_3',\n",
    "           'masterOdd_Start_Zhong_3', 'masterOdd_End_Zhong_3'] + ['guestOdd_Start_Ji_3', 'guestOdd_End_Ji_3',\n",
    "           'guestOdd_Start_Zhong_3', 'guestOdd_End_Zhong_3']\n",
    "    \n",
    "    \n",
    "    num_fea_dis(test, fes)\n",
    "    \n",
    "    test['daxiaoTypeStart'] = test.apply(lambda x: getType(x['masterOdd_Start_Ji_3'], x['guestOdd_Start_Ji_3'],x['pankou_Start_Ji_3']), axis=1)\n",
    "    test['daxiaoType'] = test.apply(lambda x: getType(x['masterOdd_End_Ji_3'], x['guestOdd_End_Ji_3'],x['pankouOdd_End_Ji_3']), axis=1)\n",
    "    test['daxiaoTypeStartMid'] = test.apply(lambda x: getType(x['masterOdd_Start_Zhong_3'], x['guestOdd_Start_Zhong_3'],x['pankou_Start_Zhong_3Real']), axis=1)\n",
    "    test['daxiaoTypeMid'] = test.apply(lambda x: getType(x['masterOdd_End_Zhong_3'], x['guestOdd_End_Zhong_3'],x['pankouOdd_End_Zhong_3Real']), axis=1)\n",
    "    \n",
    "#     test['daxiaoTypeStart'] = test['masterOdd_Start_Ji_3_shuiPing'].astype(str) + test['daxiaoTypeStart']\n",
    "#     test['daxiaoType'] = test['masterOdd_End_Ji_3_shuiPing'].astype(str) + test['daxiaoType']\n",
    "#     test['daxiaoTypeStartMid'] = test['masterOdd_Start_Zhong_3_shuiPing'].astype(str) + test['daxiaoTypeStartMid']\n",
    "#     test['daxiaoTypeMid'] = test['masterOdd_End_Zhong_3_shuiPing'].astype(str) + test['daxiaoTypeMid']\n",
    " \n",
    "#     test['daxiaoTypeALL'] = test['daxiaoTypeStart'] + test['daxiaoType'] + test['zhongbifengNew']\n",
    "#     test['daxiaoTypeMidALL'] = test['daxiaoTypeStartMid'] + test['daxiaoTypeMid'] + test['zhongbifengNew']\n",
    "    \n",
    "#     test['daxiaoTypeStartGuest'] = test['guestOdd_Start_Ji_3_shuiPing'].astype(str) + test['pankou_Start_Ji_3'] + test['zhongbifengNew']\n",
    "#     test['daxiaoTypeGuest'] = test['guestOdd_End_Ji_3_shuiPing'].astype(str) + test['pankouOdd_End_Ji_3'] + test['zhongbifengNew']\n",
    "#     test['daxiaoTypeStartMidGuest'] = test['guestOdd_Start_Zhong_3_shuiPing'].astype(str) + test['pankou_Start_Zhong_3Real'] + test['zhongbifengNew']\n",
    "#     test['daxiaoTypeMidGuest'] = test['guestOdd_End_Zhong_3_shuiPing'].astype(str) + test['pankouOdd_End_Zhong_3Real'] + test['zhongbifengNew']\n",
    "\n",
    "#     test['daxiaoTypeALLGuest'] = test['daxiaoTypeStartGuest'] + test['daxiaoTypeGuest']\n",
    "#     test['daxiaoTypeMidALLGuest'] = test['daxiaoTypeStartMidGuest'] + test['daxiaoTypeMidGuest']  \n",
    "\n",
    " \n",
    "#     test['daxiaoPankou'] = test['pankou_Start_Ji_3'] + test['pankouOdd_End_Ji_3']\n",
    "#     test['daxiaoPankouMid'] = test['pankou_Start_Zhong_3Real'] + test['pankouOdd_End_Zhong_3Real']\n",
    "#     test['daxiaoPankouALL'] = test['daxiaoPankou'] + test['daxiaoPankouMid'] + test['zhongbifengNew']\n",
    "\n",
    "#     test['MasterOddFlowPankou'] = test[\"pankouOdd_End_Ji_3\"].astype(float) - test[\"pankou_Start_Ji_3\"].astype(float)\n",
    "#     test['MasterOddFlowPankouMid'] = test[\"pankou_Start_Zhong_3\"].astype(float) - test[\"pankouOdd_End_Zhong_3\"].astype(float)\n",
    "#     test['MasterOddFlow'] = test[\"masterOdd_Start_Ji_3\"] - test[\"masterOdd_End_Ji_3\"]\n",
    "#     test['MasterOddFlowMid'] = test[\"masterOdd_Start_Zhong_3\"] - test[\"masterOdd_End_Zhong_3\"]\n",
    "#     test['MasterOddFlowALL'] = test[\"MasterOddFlow\"] + test[\"MasterOddFlowPankou\"]\n",
    "#     test['MasterOddFlowALLMid'] = test[\"MasterOddFlowMid\"] + test[\"MasterOddFlowPankouMid\"]\n",
    "\n",
    "#     test = test.drop(['masterOdd_Start_Ji_3_shuiPing', 'masterOdd_End_Ji_3_shuiPing',\n",
    "#                       'masterOdd_Start_Zhong_3_shuiPing','masterOdd_End_Zhong_3_shuiPing'], axis=1)\n",
    "    \n",
    "    test = test.drop(columns=['masterGoal', 'guestGoal', \"goalMid\"])\n",
    "    test = test.drop(columns=['midGuestGoal', 'midMasterGoal',\"time\"])\n",
    "    return test"
   ]
  },
  {
   "cell_type": "code",
   "execution_count": 7,
   "metadata": {
    "ExecuteTime": {
     "end_time": "2021-12-25T02:03:23.217936Z",
     "start_time": "2021-12-25T02:03:23.172952Z"
    },
    "id": "vN7FAlDIEdIO"
   },
   "outputs": [],
   "source": []
  },
  {
   "cell_type": "code",
   "execution_count": 12,
   "metadata": {
    "ExecuteTime": {
     "end_time": "2021-12-25T02:15:35.691999Z",
     "start_time": "2021-12-25T02:14:43.576079Z"
    },
    "id": "2m0feaeSEdIQ"
   },
   "outputs": [
    {
     "name": "stdout",
     "output_type": "stream",
     "text": [
      "<class 'pandas.core.frame.DataFrame'>\n",
      "Int64Index: 199687 entries, 0 to 199686\n",
      "Data columns (total 34 columns):\n",
      " #   Column                            Non-Null Count   Dtype  \n",
      "---  ------                            --------------   -----  \n",
      " 0   lianShai                          199687 non-null  object \n",
      " 1   guestOdd_End_Ji_3                 199687 non-null  float64\n",
      " 2   guestOdd_End_Zhong_3              199687 non-null  float64\n",
      " 3   guestOdd_Start_Ji_3               199687 non-null  float64\n",
      " 4   guestOdd_Start_Zhong_3            199687 non-null  float64\n",
      " 5   lastBifeng                        199687 non-null  object \n",
      " 6   lastTime                          199687 non-null  int16  \n",
      " 7   masterOdd_End_Ji_3                199687 non-null  float64\n",
      " 8   masterOdd_End_Zhong_3             199687 non-null  float64\n",
      " 9   masterOdd_Start_Ji_3              199687 non-null  float64\n",
      " 10  masterOdd_Start_Zhong_3           199687 non-null  float64\n",
      " 11  pankouOdd_End_Ji_3                199687 non-null  object \n",
      " 12  pankouOdd_End_Zhong_3             199687 non-null  object \n",
      " 13  pankou_Start_Ji_3                 199687 non-null  object \n",
      " 14  pankou_Start_Zhong_3              199687 non-null  object \n",
      " 15  zhongbifengNew                    199687 non-null  object \n",
      " 16  water_type_mid                    199687 non-null  object \n",
      " 17  pankouOdd_End_Zhong_3Real         199687 non-null  object \n",
      " 18  pankou_Start_Zhong_3Real          199687 non-null  object \n",
      " 19  pankou_Start_Ji_3Real             199687 non-null  object \n",
      " 20  pankouOdd_End_Ji_3Real            199687 non-null  object \n",
      " 21  result                            199687 non-null  int64  \n",
      " 22  masterOdd_Start_Ji_3_shuiPing     199687 non-null  int64  \n",
      " 23  masterOdd_End_Ji_3_shuiPing       199687 non-null  int64  \n",
      " 24  masterOdd_Start_Zhong_3_shuiPing  199687 non-null  int64  \n",
      " 25  masterOdd_End_Zhong_3_shuiPing    199687 non-null  int64  \n",
      " 26  guestOdd_Start_Ji_3_shuiPing      199687 non-null  int64  \n",
      " 27  guestOdd_End_Ji_3_shuiPing        199687 non-null  int64  \n",
      " 28  guestOdd_Start_Zhong_3_shuiPing   199687 non-null  int64  \n",
      " 29  guestOdd_End_Zhong_3_shuiPing     199687 non-null  int64  \n",
      " 30  daxiaoTypeStart                   199687 non-null  object \n",
      " 31  daxiaoType                        199687 non-null  object \n",
      " 32  daxiaoTypeStartMid                199687 non-null  object \n",
      " 33  daxiaoTypeMid                     199687 non-null  object \n",
      "dtypes: float64(8), int16(1), int64(9), object(16)\n",
      "memory usage: 52.2+ MB\n"
     ]
    }
   ],
   "source": [
    "# myclient = pymongo.MongoClient(\"mongodb://localhost:27017/\")\n",
    "# mydb = myclient[\"soccerData\"]\n",
    "# mycol = mydb[\"win007Lastv1\"]\n",
    "# data_mid = pd.DataFrame(list(mycol.find()))\n",
    "# data_mid = data_mid.drop(['_id','place'], axis=1)\n",
    "# data_mid.to_csv('train.txt')\n",
    "\n",
    "data_mid = pd.read_csv('train.txt')\n",
    "data_mid = data_mid.drop(['Unnamed: 0'], axis=1)\n",
    "\n",
    "data_mid = data_mid.dropna()\n",
    "data_mid = reduce_mem_usage(data_mid)\n",
    "data_mid = preF(data_mid)\n",
    "# data_mid.to_csv('data_mid.txt')\n",
    "data_mid.info()"
   ]
  },
  {
   "cell_type": "code",
   "execution_count": 13,
   "metadata": {
    "ExecuteTime": {
     "end_time": "2021-12-25T02:15:35.723987Z",
     "start_time": "2021-12-25T02:15:35.693984Z"
    }
   },
   "outputs": [
    {
     "data": {
      "text/html": [
       "<div>\n",
       "<style scoped>\n",
       "    .dataframe tbody tr th:only-of-type {\n",
       "        vertical-align: middle;\n",
       "    }\n",
       "\n",
       "    .dataframe tbody tr th {\n",
       "        vertical-align: top;\n",
       "    }\n",
       "\n",
       "    .dataframe thead th {\n",
       "        text-align: right;\n",
       "    }\n",
       "</style>\n",
       "<table border=\"1\" class=\"dataframe\">\n",
       "  <thead>\n",
       "    <tr style=\"text-align: right;\">\n",
       "      <th></th>\n",
       "      <th>lianShai</th>\n",
       "      <th>guestOdd_End_Ji_3</th>\n",
       "      <th>guestOdd_End_Zhong_3</th>\n",
       "      <th>guestOdd_Start_Ji_3</th>\n",
       "      <th>guestOdd_Start_Zhong_3</th>\n",
       "      <th>lastBifeng</th>\n",
       "      <th>lastTime</th>\n",
       "      <th>masterOdd_End_Ji_3</th>\n",
       "      <th>masterOdd_End_Zhong_3</th>\n",
       "      <th>masterOdd_Start_Ji_3</th>\n",
       "      <th>...</th>\n",
       "      <th>masterOdd_Start_Zhong_3_shuiPing</th>\n",
       "      <th>masterOdd_End_Zhong_3_shuiPing</th>\n",
       "      <th>guestOdd_Start_Ji_3_shuiPing</th>\n",
       "      <th>guestOdd_End_Ji_3_shuiPing</th>\n",
       "      <th>guestOdd_Start_Zhong_3_shuiPing</th>\n",
       "      <th>guestOdd_End_Zhong_3_shuiPing</th>\n",
       "      <th>daxiaoTypeStart</th>\n",
       "      <th>daxiaoType</th>\n",
       "      <th>daxiaoTypeStartMid</th>\n",
       "      <th>daxiaoTypeMid</th>\n",
       "    </tr>\n",
       "  </thead>\n",
       "  <tbody>\n",
       "    <tr>\n",
       "      <th>0</th>\n",
       "      <td>女足四国</td>\n",
       "      <td>0.98</td>\n",
       "      <td>0.74</td>\n",
       "      <td>1.05</td>\n",
       "      <td>0.64</td>\n",
       "      <td>0-4</td>\n",
       "      <td>44</td>\n",
       "      <td>0.78</td>\n",
       "      <td>1.06</td>\n",
       "      <td>0.75</td>\n",
       "      <td>...</td>\n",
       "      <td>6</td>\n",
       "      <td>5</td>\n",
       "      <td>5</td>\n",
       "      <td>4</td>\n",
       "      <td>0</td>\n",
       "      <td>0</td>\n",
       "      <td>81_3.0</td>\n",
       "      <td>81_2.75</td>\n",
       "      <td>18_2.0</td>\n",
       "      <td>18_2.0</td>\n",
       "    </tr>\n",
       "    <tr>\n",
       "      <th>1</th>\n",
       "      <td>澳维超</td>\n",
       "      <td>0.86</td>\n",
       "      <td>0.91</td>\n",
       "      <td>0.94</td>\n",
       "      <td>0.91</td>\n",
       "      <td>0-2</td>\n",
       "      <td>59</td>\n",
       "      <td>1.00</td>\n",
       "      <td>0.95</td>\n",
       "      <td>0.92</td>\n",
       "      <td>...</td>\n",
       "      <td>3</td>\n",
       "      <td>3</td>\n",
       "      <td>3</td>\n",
       "      <td>2</td>\n",
       "      <td>3</td>\n",
       "      <td>3</td>\n",
       "      <td>81_2.75</td>\n",
       "      <td>18_2.75</td>\n",
       "      <td>18_1.5</td>\n",
       "      <td>18_1.5</td>\n",
       "    </tr>\n",
       "    <tr>\n",
       "      <th>2</th>\n",
       "      <td>澳昆超</td>\n",
       "      <td>0.90</td>\n",
       "      <td>0.74</td>\n",
       "      <td>0.78</td>\n",
       "      <td>0.81</td>\n",
       "      <td>0-1</td>\n",
       "      <td>72</td>\n",
       "      <td>0.86</td>\n",
       "      <td>1.06</td>\n",
       "      <td>0.98</td>\n",
       "      <td>...</td>\n",
       "      <td>4</td>\n",
       "      <td>5</td>\n",
       "      <td>1</td>\n",
       "      <td>2</td>\n",
       "      <td>1</td>\n",
       "      <td>0</td>\n",
       "      <td>18_4.25</td>\n",
       "      <td>81_4.25</td>\n",
       "      <td>18_2.5</td>\n",
       "      <td>18_2.5</td>\n",
       "    </tr>\n",
       "    <tr>\n",
       "      <th>3</th>\n",
       "      <td>乌克U21</td>\n",
       "      <td>0.80</td>\n",
       "      <td>0.89</td>\n",
       "      <td>0.85</td>\n",
       "      <td>0.82</td>\n",
       "      <td>1-2</td>\n",
       "      <td>57</td>\n",
       "      <td>0.96</td>\n",
       "      <td>0.91</td>\n",
       "      <td>0.95</td>\n",
       "      <td>...</td>\n",
       "      <td>4</td>\n",
       "      <td>3</td>\n",
       "      <td>1</td>\n",
       "      <td>1</td>\n",
       "      <td>1</td>\n",
       "      <td>2</td>\n",
       "      <td>18_3.25</td>\n",
       "      <td>18_3.25</td>\n",
       "      <td>18_1.5</td>\n",
       "      <td>18_1.5</td>\n",
       "    </tr>\n",
       "    <tr>\n",
       "      <th>4</th>\n",
       "      <td>俄青联</td>\n",
       "      <td>1.02</td>\n",
       "      <td>0.91</td>\n",
       "      <td>1.17</td>\n",
       "      <td>0.80</td>\n",
       "      <td>0-1</td>\n",
       "      <td>68</td>\n",
       "      <td>0.74</td>\n",
       "      <td>0.89</td>\n",
       "      <td>0.65</td>\n",
       "      <td>...</td>\n",
       "      <td>4</td>\n",
       "      <td>2</td>\n",
       "      <td>6</td>\n",
       "      <td>5</td>\n",
       "      <td>1</td>\n",
       "      <td>3</td>\n",
       "      <td>81_2.75</td>\n",
       "      <td>81_2.75</td>\n",
       "      <td>18_1.5</td>\n",
       "      <td>81_1.5</td>\n",
       "    </tr>\n",
       "  </tbody>\n",
       "</table>\n",
       "<p>5 rows × 34 columns</p>\n",
       "</div>"
      ],
      "text/plain": [
       "  lianShai  guestOdd_End_Ji_3  guestOdd_End_Zhong_3  guestOdd_Start_Ji_3  \\\n",
       "0     女足四国               0.98                  0.74                 1.05   \n",
       "1      澳维超               0.86                  0.91                 0.94   \n",
       "2      澳昆超               0.90                  0.74                 0.78   \n",
       "3    乌克U21               0.80                  0.89                 0.85   \n",
       "4      俄青联               1.02                  0.91                 1.17   \n",
       "\n",
       "   guestOdd_Start_Zhong_3 lastBifeng  lastTime  masterOdd_End_Ji_3  \\\n",
       "0                    0.64        0-4        44                0.78   \n",
       "1                    0.91        0-2        59                1.00   \n",
       "2                    0.81        0-1        72                0.86   \n",
       "3                    0.82        1-2        57                0.96   \n",
       "4                    0.80        0-1        68                0.74   \n",
       "\n",
       "   masterOdd_End_Zhong_3  masterOdd_Start_Ji_3  ...  \\\n",
       "0                   1.06                  0.75  ...   \n",
       "1                   0.95                  0.92  ...   \n",
       "2                   1.06                  0.98  ...   \n",
       "3                   0.91                  0.95  ...   \n",
       "4                   0.89                  0.65  ...   \n",
       "\n",
       "   masterOdd_Start_Zhong_3_shuiPing masterOdd_End_Zhong_3_shuiPing  \\\n",
       "0                                 6                              5   \n",
       "1                                 3                              3   \n",
       "2                                 4                              5   \n",
       "3                                 4                              3   \n",
       "4                                 4                              2   \n",
       "\n",
       "  guestOdd_Start_Ji_3_shuiPing guestOdd_End_Ji_3_shuiPing  \\\n",
       "0                            5                          4   \n",
       "1                            3                          2   \n",
       "2                            1                          2   \n",
       "3                            1                          1   \n",
       "4                            6                          5   \n",
       "\n",
       "  guestOdd_Start_Zhong_3_shuiPing guestOdd_End_Zhong_3_shuiPing  \\\n",
       "0                               0                             0   \n",
       "1                               3                             3   \n",
       "2                               1                             0   \n",
       "3                               1                             2   \n",
       "4                               1                             3   \n",
       "\n",
       "  daxiaoTypeStart daxiaoType daxiaoTypeStartMid daxiaoTypeMid  \n",
       "0          81_3.0    81_2.75             18_2.0        18_2.0  \n",
       "1         81_2.75    18_2.75             18_1.5        18_1.5  \n",
       "2         18_4.25    81_4.25             18_2.5        18_2.5  \n",
       "3         18_3.25    18_3.25             18_1.5        18_1.5  \n",
       "4         81_2.75    81_2.75             18_1.5        81_1.5  \n",
       "\n",
       "[5 rows x 34 columns]"
      ]
     },
     "execution_count": 13,
     "metadata": {},
     "output_type": "execute_result"
    }
   ],
   "source": [
    "data_mid.head()"
   ]
  },
  {
   "cell_type": "code",
   "execution_count": 14,
   "metadata": {
    "ExecuteTime": {
     "end_time": "2021-12-25T02:15:35.755964Z",
     "start_time": "2021-12-25T02:15:35.725973Z"
    }
   },
   "outputs": [],
   "source": [
    "pd.set_option('display.max_columns', None)\n",
    "\n",
    "train = data_mid\n",
    "train = train[train[\"lastTime\"] <= 70]"
   ]
  },
  {
   "cell_type": "code",
   "execution_count": 17,
   "metadata": {
    "ExecuteTime": {
     "end_time": "2021-12-25T02:17:09.385757Z",
     "start_time": "2021-12-25T02:17:09.375747Z"
    }
   },
   "outputs": [],
   "source": [
    "def getLastTime(x):\n",
    "    if x > 45 and x <60 :\n",
    "        return 0 \n",
    "    if x >=60 and x <=70:\n",
    "        return 1\n",
    "    return 2"
   ]
  },
  {
   "cell_type": "code",
   "execution_count": 19,
   "metadata": {
    "ExecuteTime": {
     "end_time": "2021-12-25T02:17:11.621366Z",
     "start_time": "2021-12-25T02:17:11.544391Z"
    }
   },
   "outputs": [
    {
     "name": "stderr",
     "output_type": "stream",
     "text": [
      "<ipython-input-19-e1940cc563f4>:1: SettingWithCopyWarning: \n",
      "A value is trying to be set on a copy of a slice from a DataFrame.\n",
      "Try using .loc[row_indexer,col_indexer] = value instead\n",
      "\n",
      "See the caveats in the documentation: https://pandas.pydata.org/pandas-docs/stable/user_guide/indexing.html#returning-a-view-versus-a-copy\n",
      "  train[\"lastTime\"] = train[\"lastTime\"].map(getLastTime)\n"
     ]
    }
   ],
   "source": [
    "train[\"lastTime\"] = train[\"lastTime\"].map(getLastTime)"
   ]
  },
  {
   "cell_type": "code",
   "execution_count": 20,
   "metadata": {
    "ExecuteTime": {
     "end_time": "2021-12-25T02:17:16.375128Z",
     "start_time": "2021-12-25T02:17:16.343139Z"
    }
   },
   "outputs": [
    {
     "data": {
      "text/html": [
       "<div>\n",
       "<style scoped>\n",
       "    .dataframe tbody tr th:only-of-type {\n",
       "        vertical-align: middle;\n",
       "    }\n",
       "\n",
       "    .dataframe tbody tr th {\n",
       "        vertical-align: top;\n",
       "    }\n",
       "\n",
       "    .dataframe thead th {\n",
       "        text-align: right;\n",
       "    }\n",
       "</style>\n",
       "<table border=\"1\" class=\"dataframe\">\n",
       "  <thead>\n",
       "    <tr style=\"text-align: right;\">\n",
       "      <th></th>\n",
       "      <th>lianShai</th>\n",
       "      <th>guestOdd_End_Ji_3</th>\n",
       "      <th>guestOdd_End_Zhong_3</th>\n",
       "      <th>guestOdd_Start_Ji_3</th>\n",
       "      <th>guestOdd_Start_Zhong_3</th>\n",
       "      <th>lastBifeng</th>\n",
       "      <th>lastTime</th>\n",
       "      <th>masterOdd_End_Ji_3</th>\n",
       "      <th>masterOdd_End_Zhong_3</th>\n",
       "      <th>masterOdd_Start_Ji_3</th>\n",
       "      <th>masterOdd_Start_Zhong_3</th>\n",
       "      <th>pankouOdd_End_Ji_3</th>\n",
       "      <th>pankouOdd_End_Zhong_3</th>\n",
       "      <th>pankou_Start_Ji_3</th>\n",
       "      <th>pankou_Start_Zhong_3</th>\n",
       "      <th>zhongbifengNew</th>\n",
       "      <th>water_type_mid</th>\n",
       "      <th>pankouOdd_End_Zhong_3Real</th>\n",
       "      <th>pankou_Start_Zhong_3Real</th>\n",
       "      <th>pankou_Start_Ji_3Real</th>\n",
       "      <th>pankouOdd_End_Ji_3Real</th>\n",
       "      <th>result</th>\n",
       "      <th>masterOdd_Start_Ji_3_shuiPing</th>\n",
       "      <th>masterOdd_End_Ji_3_shuiPing</th>\n",
       "      <th>masterOdd_Start_Zhong_3_shuiPing</th>\n",
       "      <th>masterOdd_End_Zhong_3_shuiPing</th>\n",
       "      <th>guestOdd_Start_Ji_3_shuiPing</th>\n",
       "      <th>guestOdd_End_Ji_3_shuiPing</th>\n",
       "      <th>guestOdd_Start_Zhong_3_shuiPing</th>\n",
       "      <th>guestOdd_End_Zhong_3_shuiPing</th>\n",
       "      <th>daxiaoTypeStart</th>\n",
       "      <th>daxiaoType</th>\n",
       "      <th>daxiaoTypeStartMid</th>\n",
       "      <th>daxiaoTypeMid</th>\n",
       "    </tr>\n",
       "  </thead>\n",
       "  <tbody>\n",
       "    <tr>\n",
       "      <th>0</th>\n",
       "      <td>女足四国</td>\n",
       "      <td>0.98</td>\n",
       "      <td>0.74</td>\n",
       "      <td>1.05</td>\n",
       "      <td>0.64</td>\n",
       "      <td>0-4</td>\n",
       "      <td>2</td>\n",
       "      <td>0.78</td>\n",
       "      <td>1.06</td>\n",
       "      <td>0.75</td>\n",
       "      <td>1.19</td>\n",
       "      <td>2.75</td>\n",
       "      <td>5.0</td>\n",
       "      <td>3.0</td>\n",
       "      <td>5.0</td>\n",
       "      <td>0_3</td>\n",
       "      <td>1.8</td>\n",
       "      <td>2.0</td>\n",
       "      <td>2.0</td>\n",
       "      <td>0.0</td>\n",
       "      <td>-0.25</td>\n",
       "      <td>1</td>\n",
       "      <td>1</td>\n",
       "      <td>1</td>\n",
       "      <td>6</td>\n",
       "      <td>5</td>\n",
       "      <td>5</td>\n",
       "      <td>4</td>\n",
       "      <td>0</td>\n",
       "      <td>0</td>\n",
       "      <td>81_3.0</td>\n",
       "      <td>81_2.75</td>\n",
       "      <td>18_2.0</td>\n",
       "      <td>18_2.0</td>\n",
       "    </tr>\n",
       "    <tr>\n",
       "      <th>1</th>\n",
       "      <td>澳维超</td>\n",
       "      <td>0.86</td>\n",
       "      <td>0.91</td>\n",
       "      <td>0.94</td>\n",
       "      <td>0.91</td>\n",
       "      <td>0-2</td>\n",
       "      <td>2</td>\n",
       "      <td>1.00</td>\n",
       "      <td>0.95</td>\n",
       "      <td>0.92</td>\n",
       "      <td>0.95</td>\n",
       "      <td>2.75</td>\n",
       "      <td>2.5</td>\n",
       "      <td>2.75</td>\n",
       "      <td>2.5</td>\n",
       "      <td>0_1</td>\n",
       "      <td>1.86</td>\n",
       "      <td>1.5</td>\n",
       "      <td>1.5</td>\n",
       "      <td>1.75</td>\n",
       "      <td>1.75</td>\n",
       "      <td>1</td>\n",
       "      <td>3</td>\n",
       "      <td>4</td>\n",
       "      <td>3</td>\n",
       "      <td>3</td>\n",
       "      <td>3</td>\n",
       "      <td>2</td>\n",
       "      <td>3</td>\n",
       "      <td>3</td>\n",
       "      <td>81_2.75</td>\n",
       "      <td>18_2.75</td>\n",
       "      <td>18_1.5</td>\n",
       "      <td>18_1.5</td>\n",
       "    </tr>\n",
       "    <tr>\n",
       "      <th>3</th>\n",
       "      <td>乌克U21</td>\n",
       "      <td>0.80</td>\n",
       "      <td>0.89</td>\n",
       "      <td>0.85</td>\n",
       "      <td>0.82</td>\n",
       "      <td>1-2</td>\n",
       "      <td>2</td>\n",
       "      <td>0.96</td>\n",
       "      <td>0.91</td>\n",
       "      <td>0.95</td>\n",
       "      <td>0.98</td>\n",
       "      <td>3.25</td>\n",
       "      <td>3.5</td>\n",
       "      <td>3.25</td>\n",
       "      <td>3.5</td>\n",
       "      <td>0_2</td>\n",
       "      <td>1.8</td>\n",
       "      <td>1.5</td>\n",
       "      <td>1.5</td>\n",
       "      <td>1.25</td>\n",
       "      <td>1.25</td>\n",
       "      <td>1</td>\n",
       "      <td>3</td>\n",
       "      <td>4</td>\n",
       "      <td>4</td>\n",
       "      <td>3</td>\n",
       "      <td>1</td>\n",
       "      <td>1</td>\n",
       "      <td>1</td>\n",
       "      <td>2</td>\n",
       "      <td>18_3.25</td>\n",
       "      <td>18_3.25</td>\n",
       "      <td>18_1.5</td>\n",
       "      <td>18_1.5</td>\n",
       "    </tr>\n",
       "    <tr>\n",
       "      <th>4</th>\n",
       "      <td>俄青联</td>\n",
       "      <td>1.02</td>\n",
       "      <td>0.91</td>\n",
       "      <td>1.17</td>\n",
       "      <td>0.80</td>\n",
       "      <td>0-1</td>\n",
       "      <td>2</td>\n",
       "      <td>0.74</td>\n",
       "      <td>0.89</td>\n",
       "      <td>0.65</td>\n",
       "      <td>1.00</td>\n",
       "      <td>2.75</td>\n",
       "      <td>1.5</td>\n",
       "      <td>2.75</td>\n",
       "      <td>1.5</td>\n",
       "      <td>0_0</td>\n",
       "      <td>1.8</td>\n",
       "      <td>1.5</td>\n",
       "      <td>1.5</td>\n",
       "      <td>2.75</td>\n",
       "      <td>2.75</td>\n",
       "      <td>1</td>\n",
       "      <td>0</td>\n",
       "      <td>0</td>\n",
       "      <td>4</td>\n",
       "      <td>2</td>\n",
       "      <td>6</td>\n",
       "      <td>5</td>\n",
       "      <td>1</td>\n",
       "      <td>3</td>\n",
       "      <td>81_2.75</td>\n",
       "      <td>81_2.75</td>\n",
       "      <td>18_1.5</td>\n",
       "      <td>81_1.5</td>\n",
       "    </tr>\n",
       "    <tr>\n",
       "      <th>6</th>\n",
       "      <td>澳维女超</td>\n",
       "      <td>0.90</td>\n",
       "      <td>0.79</td>\n",
       "      <td>0.90</td>\n",
       "      <td>0.82</td>\n",
       "      <td>3-1</td>\n",
       "      <td>2</td>\n",
       "      <td>0.80</td>\n",
       "      <td>1.01</td>\n",
       "      <td>0.80</td>\n",
       "      <td>0.98</td>\n",
       "      <td>3.5</td>\n",
       "      <td>5.0</td>\n",
       "      <td>3.5</td>\n",
       "      <td>5.0</td>\n",
       "      <td>2_1</td>\n",
       "      <td>1.8</td>\n",
       "      <td>2.0</td>\n",
       "      <td>2.0</td>\n",
       "      <td>0.5</td>\n",
       "      <td>0.5</td>\n",
       "      <td>1</td>\n",
       "      <td>1</td>\n",
       "      <td>1</td>\n",
       "      <td>4</td>\n",
       "      <td>5</td>\n",
       "      <td>2</td>\n",
       "      <td>2</td>\n",
       "      <td>1</td>\n",
       "      <td>1</td>\n",
       "      <td>81_3.5</td>\n",
       "      <td>81_3.5</td>\n",
       "      <td>18_2.0</td>\n",
       "      <td>18_2.0</td>\n",
       "    </tr>\n",
       "  </tbody>\n",
       "</table>\n",
       "</div>"
      ],
      "text/plain": [
       "  lianShai  guestOdd_End_Ji_3  guestOdd_End_Zhong_3  guestOdd_Start_Ji_3  \\\n",
       "0     女足四国               0.98                  0.74                 1.05   \n",
       "1      澳维超               0.86                  0.91                 0.94   \n",
       "3    乌克U21               0.80                  0.89                 0.85   \n",
       "4      俄青联               1.02                  0.91                 1.17   \n",
       "6     澳维女超               0.90                  0.79                 0.90   \n",
       "\n",
       "   guestOdd_Start_Zhong_3 lastBifeng  lastTime  masterOdd_End_Ji_3  \\\n",
       "0                    0.64        0-4         2                0.78   \n",
       "1                    0.91        0-2         2                1.00   \n",
       "3                    0.82        1-2         2                0.96   \n",
       "4                    0.80        0-1         2                0.74   \n",
       "6                    0.82        3-1         2                0.80   \n",
       "\n",
       "   masterOdd_End_Zhong_3  masterOdd_Start_Ji_3  masterOdd_Start_Zhong_3  \\\n",
       "0                   1.06                  0.75                     1.19   \n",
       "1                   0.95                  0.92                     0.95   \n",
       "3                   0.91                  0.95                     0.98   \n",
       "4                   0.89                  0.65                     1.00   \n",
       "6                   1.01                  0.80                     0.98   \n",
       "\n",
       "  pankouOdd_End_Ji_3 pankouOdd_End_Zhong_3 pankou_Start_Ji_3  \\\n",
       "0               2.75                   5.0               3.0   \n",
       "1               2.75                   2.5              2.75   \n",
       "3               3.25                   3.5              3.25   \n",
       "4               2.75                   1.5              2.75   \n",
       "6                3.5                   5.0               3.5   \n",
       "\n",
       "  pankou_Start_Zhong_3 zhongbifengNew water_type_mid  \\\n",
       "0                  5.0            0_3            1.8   \n",
       "1                  2.5            0_1           1.86   \n",
       "3                  3.5            0_2            1.8   \n",
       "4                  1.5            0_0            1.8   \n",
       "6                  5.0            2_1            1.8   \n",
       "\n",
       "  pankouOdd_End_Zhong_3Real pankou_Start_Zhong_3Real pankou_Start_Ji_3Real  \\\n",
       "0                       2.0                      2.0                   0.0   \n",
       "1                       1.5                      1.5                  1.75   \n",
       "3                       1.5                      1.5                  1.25   \n",
       "4                       1.5                      1.5                  2.75   \n",
       "6                       2.0                      2.0                   0.5   \n",
       "\n",
       "  pankouOdd_End_Ji_3Real  result  masterOdd_Start_Ji_3_shuiPing  \\\n",
       "0                  -0.25       1                              1   \n",
       "1                   1.75       1                              3   \n",
       "3                   1.25       1                              3   \n",
       "4                   2.75       1                              0   \n",
       "6                    0.5       1                              1   \n",
       "\n",
       "   masterOdd_End_Ji_3_shuiPing  masterOdd_Start_Zhong_3_shuiPing  \\\n",
       "0                            1                                 6   \n",
       "1                            4                                 3   \n",
       "3                            4                                 4   \n",
       "4                            0                                 4   \n",
       "6                            1                                 4   \n",
       "\n",
       "   masterOdd_End_Zhong_3_shuiPing  guestOdd_Start_Ji_3_shuiPing  \\\n",
       "0                               5                             5   \n",
       "1                               3                             3   \n",
       "3                               3                             1   \n",
       "4                               2                             6   \n",
       "6                               5                             2   \n",
       "\n",
       "   guestOdd_End_Ji_3_shuiPing  guestOdd_Start_Zhong_3_shuiPing  \\\n",
       "0                           4                                0   \n",
       "1                           2                                3   \n",
       "3                           1                                1   \n",
       "4                           5                                1   \n",
       "6                           2                                1   \n",
       "\n",
       "   guestOdd_End_Zhong_3_shuiPing daxiaoTypeStart daxiaoType  \\\n",
       "0                              0          81_3.0    81_2.75   \n",
       "1                              3         81_2.75    18_2.75   \n",
       "3                              2         18_3.25    18_3.25   \n",
       "4                              3         81_2.75    81_2.75   \n",
       "6                              1          81_3.5     81_3.5   \n",
       "\n",
       "  daxiaoTypeStartMid daxiaoTypeMid  \n",
       "0             18_2.0        18_2.0  \n",
       "1             18_1.5        18_1.5  \n",
       "3             18_1.5        18_1.5  \n",
       "4             18_1.5        81_1.5  \n",
       "6             18_2.0        18_2.0  "
      ]
     },
     "execution_count": 20,
     "metadata": {},
     "output_type": "execute_result"
    }
   ],
   "source": [
    "train.head()"
   ]
  },
  {
   "cell_type": "code",
   "execution_count": 15,
   "metadata": {
    "ExecuteTime": {
     "end_time": "2021-12-05T00:18:06.127531Z",
     "start_time": "2021-12-05T00:18:05.318993Z"
    }
   },
   "outputs": [],
   "source": [
    "# mycol = mydb[\"win007yapantest\"]\n",
    "# test = pd.DataFrame(list(mycol.find()))\n",
    "# test = test.dropna()\n",
    "# test = test[['place']]\n",
    "myclient = pymongo.MongoClient(\"mongodb://localhost:27017/\")\n",
    "mydb = myclient[\"soccerData\"]\n",
    "mycol = mydb[\"win007daxiaotest11\"]\n",
    "test = pd.DataFrame(list(mycol.find()))\n",
    "test = test.drop(['_id',\"place\"], axis=1)\n",
    "test = preF(test)"
   ]
  },
  {
   "cell_type": "code",
   "execution_count": 16,
   "metadata": {
    "ExecuteTime": {
     "end_time": "2021-12-05T00:18:06.142524Z",
     "start_time": "2021-12-05T00:18:06.129531Z"
    }
   },
   "outputs": [],
   "source": [
    "# test = test.drop(['place'], axis=1)\n",
    "# test = test.dropna()\n",
    "# test = preF(test)"
   ]
  },
  {
   "cell_type": "code",
   "execution_count": 17,
   "metadata": {
    "ExecuteTime": {
     "end_time": "2021-12-05T00:18:06.174505Z",
     "start_time": "2021-12-05T00:18:06.144522Z"
    }
   },
   "outputs": [],
   "source": [
    "# test_per = pd.read_csv(\"test_1102_per.txt\")\n",
    "# test_per = test_per.drop(['Unnamed: 0'], axis=1)\n",
    "# test_per[\"place\"] = test_per[\"place\"].astype(str)"
   ]
  },
  {
   "cell_type": "code",
   "execution_count": 18,
   "metadata": {
    "ExecuteTime": {
     "end_time": "2021-12-05T00:18:06.221478Z",
     "start_time": "2021-12-05T00:18:06.176504Z"
    }
   },
   "outputs": [
    {
     "name": "stdout",
     "output_type": "stream",
     "text": [
      "<class 'pandas.core.frame.DataFrame'>\n",
      "Int64Index: 2369 entries, 0 to 2368\n",
      "Data columns (total 35 columns):\n",
      " #   Column                            Non-Null Count  Dtype  \n",
      "---  ------                            --------------  -----  \n",
      " 0   lianShai                          2369 non-null   object \n",
      " 1   guestOdd_End_Ji_3                 2369 non-null   float64\n",
      " 2   guestOdd_End_Zhong_3              2369 non-null   float64\n",
      " 3   guestOdd_Start_Ji_3               2369 non-null   float64\n",
      " 4   guestOdd_Start_Zhong_3            2369 non-null   float64\n",
      " 5   masterOdd_End_Ji_3                2369 non-null   float64\n",
      " 6   masterOdd_End_Zhong_3             2369 non-null   float64\n",
      " 7   masterOdd_Start_Ji_3              2369 non-null   float64\n",
      " 8   masterOdd_Start_Zhong_3           2369 non-null   float64\n",
      " 9   pankouOdd_End_Ji_3                2369 non-null   object \n",
      " 10  pankouOdd_End_Zhong_3             2369 non-null   object \n",
      " 11  pankou_Start_Ji_3                 2369 non-null   object \n",
      " 12  pankou_Start_Zhong_3              2369 non-null   object \n",
      " 13  zhongbifengNew                    2369 non-null   object \n",
      " 14  water_type_mid                    2369 non-null   object \n",
      " 15  pankouOdd_End_Zhong_3Real         2369 non-null   object \n",
      " 16  pankou_Start_Zhong_3Real          2369 non-null   object \n",
      " 17  pankou_Start_Ji_3Real             2369 non-null   object \n",
      " 18  pankouOdd_End_Ji_3Real            2369 non-null   object \n",
      " 19  result                            2369 non-null   int64  \n",
      " 20  masterOdd_Start_Ji_3_shuiPing     2369 non-null   int64  \n",
      " 21  masterOdd_End_Ji_3_shuiPing       2369 non-null   int64  \n",
      " 22  masterOdd_Start_Zhong_3_shuiPing  2369 non-null   int64  \n",
      " 23  masterOdd_End_Zhong_3_shuiPing    2369 non-null   int64  \n",
      " 24  guestOdd_Start_Ji_3_shuiPing      2369 non-null   int64  \n",
      " 25  guestOdd_End_Ji_3_shuiPing        2369 non-null   int64  \n",
      " 26  guestOdd_Start_Zhong_3_shuiPing   2369 non-null   int64  \n",
      " 27  guestOdd_End_Zhong_3_shuiPing     2369 non-null   int64  \n",
      " 28  daxiaoTypeStart                   2369 non-null   object \n",
      " 29  daxiaoType                        2369 non-null   object \n",
      " 30  daxiaoTypeStartMid                2369 non-null   object \n",
      " 31  daxiaoTypeMid                     2369 non-null   object \n",
      " 32  daxiaoPankou                      2369 non-null   object \n",
      " 33  daxiaoPankouMid                   2369 non-null   object \n",
      " 34  daxiaoPankouALL                   2369 non-null   object \n",
      "dtypes: float64(8), int64(9), object(18)\n",
      "memory usage: 666.3+ KB\n"
     ]
    }
   ],
   "source": [
    "test.info()"
   ]
  },
  {
   "cell_type": "code",
   "execution_count": null,
   "metadata": {
    "ExecuteTime": {
     "end_time": "2021-11-28T14:40:29.482269Z",
     "start_time": "2021-11-28T14:40:29.458282Z"
    }
   },
   "outputs": [],
   "source": []
  },
  {
   "cell_type": "code",
   "execution_count": null,
   "metadata": {
    "ExecuteTime": {
     "end_time": "2021-11-28T15:14:13.672983Z",
     "start_time": "2021-11-28T15:14:13.611018Z"
    }
   },
   "outputs": [],
   "source": []
  },
  {
   "cell_type": "code",
   "execution_count": 19,
   "metadata": {
    "ExecuteTime": {
     "end_time": "2021-12-05T00:18:10.419806Z",
     "start_time": "2021-12-05T00:18:06.223478Z"
    }
   },
   "outputs": [],
   "source": [
    "from sklearn.model_selection import  StratifiedKFold,KFold\n",
    "import category_encoders as ce\n",
    "import gc\n",
    "def mean_woe_target_encoder(train,test,target,col,n_splits=10):\n",
    "    folds = StratifiedKFold(n_splits)\n",
    "\n",
    "    y_oof = np.zeros(train.shape[0])\n",
    "    y_oof_2= np.zeros(train.shape[0])\n",
    "    y_test_oof = np.zeros(test.shape[0]).reshape(-1,1)\n",
    "    y_test_oof2 = np.zeros(test.shape[0]).reshape(-1,1)\n",
    "\n",
    "    splits = folds.split(train, target)\n",
    "    \n",
    "    for fold_n, (train_index, valid_index) in enumerate(splits):\n",
    "        X_train, X_valid = train[col].iloc[train_index], train[col].iloc[valid_index]\n",
    "        y_train, y_valid = target.iloc[train_index], target.iloc[valid_index]\n",
    "        clf=ce.target_encoder.TargetEncoder()\n",
    "    \n",
    "        clf.fit(X_train.values,y_train.values)    \n",
    "        y_pred_valid = clf.transform(X_valid.values)\n",
    "\n",
    "        y_oof[valid_index] = y_pred_valid.values.reshape(1,-1)\n",
    "\n",
    "        tp=(clf.transform(test[col].values)/(n_splits*1.0)).values\n",
    "        tp=tp.reshape(-1,1)\n",
    "        y_test_oof+=tp    \n",
    "    \n",
    "        del X_train, X_valid, y_train, y_valid\n",
    "        gc.collect()    \n",
    "    return y_oof,y_test_oof"
   ]
  },
  {
   "cell_type": "code",
   "execution_count": 20,
   "metadata": {
    "ExecuteTime": {
     "end_time": "2021-12-05T00:18:10.562724Z",
     "start_time": "2021-12-05T00:18:10.421804Z"
    }
   },
   "outputs": [],
   "source": [
    "train_x =  train.drop(columns=['result'])\n",
    "train_y =  train['result']\n",
    "\n",
    "test_x =  test.drop(columns=['result'])\n",
    "test_y = test['result']"
   ]
  },
  {
   "cell_type": "code",
   "execution_count": 21,
   "metadata": {
    "ExecuteTime": {
     "end_time": "2021-12-05T00:19:07.192163Z",
     "start_time": "2021-12-05T00:18:10.565724Z"
    }
   },
   "outputs": [],
   "source": [
    "for col in train.select_dtypes(include='object').columns:\n",
    "  y_oof,y_test_oof = mean_woe_target_encoder(train_x,test_x,train_y,col,n_splits=10)\n",
    "  train_x[col] = y_oof\n",
    "  test_x[col] = y_test_oof"
   ]
  },
  {
   "cell_type": "code",
   "execution_count": 22,
   "metadata": {
    "ExecuteTime": {
     "end_time": "2021-12-05T00:19:07.208154Z",
     "start_time": "2021-12-05T00:19:07.195162Z"
    }
   },
   "outputs": [],
   "source": [
    "# from sklearn.preprocessing import LabelEncoder\n",
    "\n",
    "# import gc\n",
    "\n",
    "# cat_features = train.select_dtypes(include='object').columns\n",
    "\n",
    "# def encode_LE(col,train,test):\n",
    "#         le = LabelEncoder()\n",
    "#         le.fit(list(train[col])+list(test[col]))\n",
    "#         train[col] = le.transform(train[col])\n",
    "#         test[col]  = le.transform(test[col])\n",
    "# #     df_comb = pd.concat([train[col],test[col]],axis=0)\n",
    "# #     df_comb,_ = df_comb.factorize(sort=True)\n",
    "# #     nm = col\n",
    "# #     if df_comb.max()>32000: \n",
    "# #         train[nm] = df_comb[:len(train)].astype('int32')\n",
    "# #         test[nm] = df_comb[len(train):].astype('int32')\n",
    "# #     else:\n",
    "# #         train[nm] = df_comb[:len(train)].astype('int16')\n",
    "# #         test[nm] = df_comb[len(train):].astype('int16')\n",
    "# #     del df_comb; x=gc.collect()\n",
    "\n",
    "# for col in cat_features:\n",
    "#     encode_LE(col,train_x,test_x)"
   ]
  },
  {
   "cell_type": "code",
   "execution_count": null,
   "metadata": {
    "ExecuteTime": {
     "end_time": "2021-11-24T13:45:07.074271Z",
     "start_time": "2021-11-24T13:45:07.044294Z"
    }
   },
   "outputs": [],
   "source": []
  },
  {
   "cell_type": "code",
   "execution_count": 23,
   "metadata": {
    "ExecuteTime": {
     "end_time": "2021-12-05T00:19:23.670283Z",
     "start_time": "2021-12-05T00:19:07.212154Z"
    },
    "colab": {
     "base_uri": "https://localhost:8080/"
    },
    "id": "t6udRIjZEdIg",
    "outputId": "d432b310-9fa8-41ca-dabc-5363d79fcd2b"
   },
   "outputs": [
    {
     "name": "stdout",
     "output_type": "stream",
     "text": [
      "Starting training... 0\n",
      "Starting training... 1\n",
      "accuarcy: 60.60%\n"
     ]
    }
   ],
   "source": [
    "from sklearn.metrics import roc_auc_score\n",
    "import lightgbm as lgb\n",
    "\n",
    "lgb_train = lgb.Dataset(train_x, train_y)\n",
    "\n",
    "# 参数设置\n",
    "params = {'num_leaves': 240, #结果对最终效果影响较大，越大值越好，太大会出现过拟合\n",
    "          'min_data_in_leaf': 30,\n",
    "          'objective': 'binary', #定义的目标函数\n",
    "          'max_depth': -1,\n",
    "          'learning_rate': 0.03,\n",
    "          \"min_sum_hessian_in_leaf\": 6,\n",
    "          \"boosting\": \"gbdt\",\n",
    "          \"feature_fraction\":  0.5992677823884304,\t#提取的特征比率\n",
    "          \"bagging_freq\": 4,\n",
    "          \"bagging_fraction\":0.7100471696361973,\n",
    "          \"bagging_seed\": 11,\n",
    "          \"lambda_l1\": 8.545500456265467e-05,\t\t\t\t#l1正则\n",
    "          'lambda_l2': 5.985747612243422e-07,\t\t#l2正则\n",
    "          \"verbosity\": -1,\n",
    "          \"nthread\": -1,\t\t#线程数量，-1表示全部线程，线程越多，运行的速度越快\n",
    "          'metric': {'binary_logloss', 'auc'},\t##评价函数选择\n",
    "          \"random_state\": 7,\t#随机数种子，可以防止每次运行的结果不一致\n",
    "          'min_child_samples': 67,\n",
    "          }\n",
    "\n",
    "y_pred = np.zeros(test_x.shape[0])\n",
    "y_pred_train = np.zeros(train_x.shape[0])\n",
    "\n",
    "folds = 2\n",
    "for i in range(folds):\n",
    "    print('Starting training...',i)\n",
    "    params['random_state'] = i + 2021\n",
    "    # 模型训练\n",
    "    gbm = lgb.train(params,\n",
    "                    lgb_train,\n",
    "                    num_boost_round=100)\n",
    "    \n",
    "#     model = 'C:\\\\Users\\\\24525\\\\code\\\\spider\\\\test\\\\' + 'test_' + str(i) + \"_singe.txt\"\n",
    "    \n",
    "#     gbm.save_model(model)\n",
    "\n",
    "    y_pred_train += gbm.predict(train_x, num_iteration=gbm.best_iteration) / folds\n",
    "\n",
    "    # 模型预测\n",
    "    y_pred += gbm.predict(test_x, num_iteration=gbm.best_iteration) / folds\n",
    "\n",
    "accuracy = roc_auc_score(test_y, y_pred)\n",
    "print(\"accuarcy: %.2f%%\" % (accuracy*100.0))"
   ]
  },
  {
   "cell_type": "code",
   "execution_count": 24,
   "metadata": {
    "ExecuteTime": {
     "end_time": "2021-12-05T00:19:23.701285Z",
     "start_time": "2021-12-05T00:19:23.672283Z"
    },
    "scrolled": true
   },
   "outputs": [
    {
     "name": "stdout",
     "output_type": "stream",
     "text": [
      "accuarcy: nan%\n",
      "(0, 2)\n"
     ]
    },
    {
     "name": "stderr",
     "output_type": "stream",
     "text": [
      "C:\\ProgramData\\Anaconda3\\lib\\site-packages\\numpy\\lib\\function_base.py:380: RuntimeWarning: Mean of empty slice.\n",
      "  avg = a.mean(axis)\n",
      "C:\\ProgramData\\Anaconda3\\lib\\site-packages\\numpy\\core\\_methods.py:170: RuntimeWarning: invalid value encountered in double_scalars\n",
      "  ret = ret.dtype.type(ret / rcount)\n"
     ]
    }
   ],
   "source": [
    "from sklearn.metrics import roc_auc_score,accuracy_score\n",
    "test_new = pd.DataFrame({'result':test_y,'predict':y_pred})\n",
    "a = test_new[(test_new[\"predict\"] <= 0.40)]\n",
    "pred_labels = np.rint(a['predict'])\n",
    "accuracy = accuracy_score(a['result'], pred_labels)\n",
    "print(\"accuarcy: %.2f%%\" % (accuracy*100.0))\n",
    "print(a.shape)"
   ]
  },
  {
   "cell_type": "code",
   "execution_count": 25,
   "metadata": {
    "ExecuteTime": {
     "end_time": "2021-12-05T00:19:23.717275Z",
     "start_time": "2021-12-05T00:19:23.703286Z"
    }
   },
   "outputs": [],
   "source": [
    "test2 = test.copy(deep=True)\n",
    "test2[\"result\"] = test_y\n",
    "test2['predict'] = y_pred\n"
   ]
  },
  {
   "cell_type": "code",
   "execution_count": 26,
   "metadata": {
    "ExecuteTime": {
     "end_time": "2021-12-05T00:19:23.749275Z",
     "start_time": "2021-12-05T00:19:23.719275Z"
    }
   },
   "outputs": [
    {
     "data": {
      "text/plain": [
       "Series([], Name: pankouOdd_End_Zhong_3Real, dtype: int64)"
      ]
     },
     "execution_count": 26,
     "metadata": {},
     "output_type": "execute_result"
    }
   ],
   "source": [
    "test2[(test2[\"predict\"] <=0.40)]['pankouOdd_End_Zhong_3Real'].value_counts()"
   ]
  },
  {
   "cell_type": "code",
   "execution_count": 27,
   "metadata": {
    "ExecuteTime": {
     "end_time": "2021-12-05T00:19:25.178890Z",
     "start_time": "2021-12-05T00:19:23.751276Z"
    }
   },
   "outputs": [
    {
     "data": {
      "image/png": "[encoded data removed]",
      "text/plain": [
       "<Figure size 720x720 with 1 Axes>"
      ]
     },
     "metadata": {
      "needs_background": "light"
     },
     "output_type": "display_data"
    }
   ],
   "source": [
    "fig, ax = plt.subplots(figsize=(10,10))\n",
    "lgb.plot_importance(gbm, max_num_features=60, height=0.5, ax=ax)\n",
    "plt.show()"
   ]
  },
  {
   "cell_type": "code",
   "execution_count": 28,
   "metadata": {
    "ExecuteTime": {
     "end_time": "2021-12-05T00:19:25.210858Z",
     "start_time": "2021-12-05T00:19:25.180876Z"
    }
   },
   "outputs": [
    {
     "name": "stdout",
     "output_type": "stream",
     "text": [
      "<class 'pandas.core.frame.DataFrame'>\n",
      "Int64Index: 2369 entries, 0 to 2368\n",
      "Data columns (total 34 columns):\n",
      " #   Column                            Non-Null Count  Dtype  \n",
      "---  ------                            --------------  -----  \n",
      " 0   lianShai                          2369 non-null   float64\n",
      " 1   guestOdd_End_Ji_3                 2369 non-null   float64\n",
      " 2   guestOdd_End_Zhong_3              2369 non-null   float64\n",
      " 3   guestOdd_Start_Ji_3               2369 non-null   float64\n",
      " 4   guestOdd_Start_Zhong_3            2369 non-null   float64\n",
      " 5   masterOdd_End_Ji_3                2369 non-null   float64\n",
      " 6   masterOdd_End_Zhong_3             2369 non-null   float64\n",
      " 7   masterOdd_Start_Ji_3              2369 non-null   float64\n",
      " 8   masterOdd_Start_Zhong_3           2369 non-null   float64\n",
      " 9   pankouOdd_End_Ji_3                2369 non-null   float64\n",
      " 10  pankouOdd_End_Zhong_3             2369 non-null   float64\n",
      " 11  pankou_Start_Ji_3                 2369 non-null   float64\n",
      " 12  pankou_Start_Zhong_3              2369 non-null   float64\n",
      " 13  zhongbifengNew                    2369 non-null   float64\n",
      " 14  water_type_mid                    2369 non-null   float64\n",
      " 15  pankouOdd_End_Zhong_3Real         2369 non-null   float64\n",
      " 16  pankou_Start_Zhong_3Real          2369 non-null   float64\n",
      " 17  pankou_Start_Ji_3Real             2369 non-null   float64\n",
      " 18  pankouOdd_End_Ji_3Real            2369 non-null   float64\n",
      " 19  masterOdd_Start_Ji_3_shuiPing     2369 non-null   int64  \n",
      " 20  masterOdd_End_Ji_3_shuiPing       2369 non-null   int64  \n",
      " 21  masterOdd_Start_Zhong_3_shuiPing  2369 non-null   int64  \n",
      " 22  masterOdd_End_Zhong_3_shuiPing    2369 non-null   int64  \n",
      " 23  guestOdd_Start_Ji_3_shuiPing      2369 non-null   int64  \n",
      " 24  guestOdd_End_Ji_3_shuiPing        2369 non-null   int64  \n",
      " 25  guestOdd_Start_Zhong_3_shuiPing   2369 non-null   int64  \n",
      " 26  guestOdd_End_Zhong_3_shuiPing     2369 non-null   int64  \n",
      " 27  daxiaoTypeStart                   2369 non-null   float64\n",
      " 28  daxiaoType                        2369 non-null   float64\n",
      " 29  daxiaoTypeStartMid                2369 non-null   float64\n",
      " 30  daxiaoTypeMid                     2369 non-null   float64\n",
      " 31  daxiaoPankou                      2369 non-null   float64\n",
      " 32  daxiaoPankouMid                   2369 non-null   float64\n",
      " 33  daxiaoPankouALL                   2369 non-null   float64\n",
      "dtypes: float64(26), int64(8)\n",
      "memory usage: 647.8 KB\n"
     ]
    }
   ],
   "source": [
    "test_x.info()"
   ]
  },
  {
   "cell_type": "code",
   "execution_count": 29,
   "metadata": {
    "ExecuteTime": {
     "end_time": "2021-12-05T00:21:31.363890Z",
     "start_time": "2021-12-05T00:19:25.212857Z"
    },
    "colab": {
     "base_uri": "https://localhost:8080/"
    },
    "id": "A867lIczEdIi",
    "outputId": "fe128cf3-a6d5-40d9-a372-6af3a61f6f8e"
   },
   "outputs": [
    {
     "name": "stdout",
     "output_type": "stream",
     "text": [
      "Training until validation scores don't improve for 300 rounds\n",
      "[200]\ttraining's auc: 0.73609\tvalid_1's auc: 0.606909\n",
      "[400]\ttraining's auc: 0.817607\tvalid_1's auc: 0.605315\n",
      "Early stopping, best iteration is:\n",
      "[116]\ttraining's auc: 0.694014\tvalid_1's auc: 0.607779\n",
      "[0.87062647 0.83146653 0.76236242 ... 0.7200557  0.84032839 0.77791564]\n",
      "Fold 1 | AUC: 0.6077792753469313\n",
      "Training until validation scores don't improve for 300 rounds\n",
      "[200]\ttraining's auc: 0.734005\tvalid_1's auc: 0.606826\n",
      "Early stopping, best iteration is:\n",
      "[43]\ttraining's auc: 0.655058\tvalid_1's auc: 0.607465\n",
      "[0.75314213 0.78958522 0.80023597 ... 0.73193375 0.7611053  0.84003052]\n",
      "Fold 2 | AUC: 0.6074654573959599\n",
      "Training until validation scores don't improve for 300 rounds\n",
      "[200]\ttraining's auc: 0.735613\tvalid_1's auc: 0.616619\n",
      "[400]\ttraining's auc: 0.817267\tvalid_1's auc: 0.61549\n",
      "Early stopping, best iteration is:\n",
      "[175]\ttraining's auc: 0.722926\tvalid_1's auc: 0.616889\n",
      "[0.82524384 0.68794427 0.74359305 ... 0.75473556 0.85867594 0.87572329]\n",
      "Fold 3 | AUC: 0.6168886913389602\n",
      "Training until validation scores don't improve for 300 rounds\n",
      "[200]\ttraining's auc: 0.735564\tvalid_1's auc: 0.606309\n",
      "Early stopping, best iteration is:\n",
      "[82]\ttraining's auc: 0.675735\tvalid_1's auc: 0.606922\n",
      "[0.68881069 0.85375425 0.79852272 ... 0.75454109 0.72316651 0.71696169]\n",
      "Fold 4 | AUC: 0.6069216345481756\n",
      "Training until validation scores don't improve for 300 rounds\n",
      "[200]\ttraining's auc: 0.736301\tvalid_1's auc: 0.608347\n",
      "[400]\ttraining's auc: 0.819655\tvalid_1's auc: 0.60683\n",
      "Early stopping, best iteration is:\n",
      "[177]\ttraining's auc: 0.724804\tvalid_1's auc: 0.60897\n",
      "[0.86924338 0.73377782 0.75460305 ... 0.81962625 0.78218231 0.78336571]\n",
      "Fold 5 | AUC: 0.6089697876419132\n",
      "\n",
      "Mean AUC = 0.6096049692543881\n",
      "Out of folds AUC = 0.6092927223185152\n"
     ]
    }
   ],
   "source": [
    "import lightgbm as lgb\n",
    "from sklearn.metrics import roc_auc_score,accuracy_score\n",
    "from sklearn.model_selection import StratifiedKFold\n",
    "import gc,joblib\n",
    "X = train_x\n",
    "y = train_y\n",
    "# del train_x,train_y\n",
    "# gc.collect()\n",
    "\n",
    "\n",
    "params = {'num_leaves': 240,  # 结果对最终效果影响较大，越大值越好，太大会出现过拟合\n",
    "          'min_data_in_leaf': 30,\n",
    "          'objective': 'binary',  # 定义的目标函数\n",
    "          'max_depth': -1,\n",
    "          'learning_rate': 0.03,\n",
    "          \"min_sum_hessian_in_leaf\": 6,\n",
    "          \"boosting\": \"gbdt\",\n",
    "          \"feature_fraction\":  0.5992677823884304,  # 提取的特征比率\n",
    "          \"bagging_freq\": 4,\n",
    "          \"bagging_fraction\": 0.7100471696361973,\n",
    "          \"bagging_seed\": 11,\n",
    "          \"lambda_l1\": 8.545500456265467e-05,  # l1正则\n",
    "          'lambda_l2': 5.985747612243422e-07,  # l2正则\n",
    "          \"verbosity\": -1,\n",
    "          \"nthread\": -1,  # 线程数量，-1表示全部线程，线程越多，运行的速度越快\n",
    "          'metric': {'auc'},  # 评价函数选择\n",
    "          \"random_state\": 2019,  # 随机数种子，可以防止每次运行的结果不一致\n",
    "          # 'device': 'gpu' ##如果安装的事gpu版本的lightgbm,可以加快运算\n",
    "          'min_child_samples': 67\n",
    "          }\n",
    "\n",
    "NFOLDS = 5\n",
    "folds = StratifiedKFold(n_splits=NFOLDS)\n",
    "\n",
    "columns = X.columns\n",
    "splits = folds.split(X, y)\n",
    "y_preds = np.zeros(test_x.shape[0])\n",
    "y_preds_train  = np.zeros(train_x.shape[0])\n",
    "score = 0\n",
    "\n",
    "feature_importances = pd.DataFrame()\n",
    "feature_importances['feature'] = columns\n",
    "\n",
    "for fold_n, (train_index, valid_index) in enumerate(splits):\n",
    "    X_train, X_valid = X[columns].iloc[train_index], X[columns].iloc[valid_index]\n",
    "    y_train, y_valid = y.iloc[train_index], y.iloc[valid_index]\n",
    "\n",
    "    dtrain = lgb.Dataset(X_train, label=y_train)\n",
    "    dvalid = lgb.Dataset(X_valid, label=y_valid)\n",
    "\n",
    "    clf = lgb.train(params, dtrain, 1000, valid_sets=[\n",
    "                    dtrain, dvalid], verbose_eval=200, early_stopping_rounds=300)\n",
    "\n",
    "    feature_importances[f'fold_{fold_n + 1}'] = clf.feature_importance()\n",
    "\n",
    "    y_pred_valid = clf.predict(X_valid)\n",
    "    print(y_pred_valid)\n",
    "    print(f\"Fold {fold_n + 1} | AUC: {roc_auc_score(y_valid, y_pred_valid)}\")\n",
    "\n",
    "    score += roc_auc_score(y_valid, y_pred_valid) / NFOLDS\n",
    "    y_preds += clf.predict(test_x) / NFOLDS\n",
    "    \n",
    "#     model = 'C:\\\\Users\\\\24525\\\\code\\\\spider\\\\test\\\\' + 'gbm_' + str(fold_n) + \"_singe.txt\"\n",
    "#     joblib.dump(clf,model)\n",
    "    \n",
    "    y_pred_valid = clf.predict(X_valid)\n",
    "    y_preds_train[valid_index] = y_pred_valid\n",
    "    \n",
    "    del X_train, X_valid, y_train, y_valid\n",
    "    gc.collect()\n",
    "    \n",
    "print(f\"\\nMean AUC = {score}\")\n",
    "print(f\"Out of folds AUC = {roc_auc_score(train_y, y_preds_train)}\")"
   ]
  },
  {
   "cell_type": "code",
   "execution_count": 30,
   "metadata": {
    "ExecuteTime": {
     "end_time": "2021-12-05T00:21:31.379855Z",
     "start_time": "2021-12-05T00:21:31.365849Z"
    }
   },
   "outputs": [
    {
     "name": "stdout",
     "output_type": "stream",
     "text": [
      "accuarcy: nan%\n",
      "(0, 2)\n"
     ]
    },
    {
     "name": "stderr",
     "output_type": "stream",
     "text": [
      "C:\\ProgramData\\Anaconda3\\lib\\site-packages\\numpy\\lib\\function_base.py:380: RuntimeWarning: Mean of empty slice.\n",
      "  avg = a.mean(axis)\n",
      "C:\\ProgramData\\Anaconda3\\lib\\site-packages\\numpy\\core\\_methods.py:170: RuntimeWarning: invalid value encountered in double_scalars\n",
      "  ret = ret.dtype.type(ret / rcount)\n"
     ]
    }
   ],
   "source": [
    "from sklearn.metrics import roc_auc_score,accuracy_score\n",
    "test_new = pd.DataFrame({'result':test_y,'predict':y_preds})\n",
    "a = test_new[(test_new[\"predict\"] <= 0.50)]\n",
    "pred_labels = np.rint(a['predict'])\n",
    "accuracy = accuracy_score(a['result'], pred_labels)\n",
    "print(\"accuarcy: %.2f%%\" % (accuracy*100.0))\n",
    "print(a.shape)"
   ]
  },
  {
   "cell_type": "code",
   "execution_count": 31,
   "metadata": {
    "ExecuteTime": {
     "end_time": "2021-12-05T00:21:31.947760Z",
     "start_time": "2021-12-05T00:21:31.383839Z"
    }
   },
   "outputs": [
    {
     "ename": "NameError",
     "evalue": "name 'testo' is not defined",
     "output_type": "error",
     "traceback": [
      "\u001b[1;31m---------------------------------------------------------------------------\u001b[0m",
      "\u001b[1;31mNameError\u001b[0m                                 Traceback (most recent call last)",
      "\u001b[1;32m<ipython-input-31-e8629a245587>\u001b[0m in \u001b[0;36m<module>\u001b[1;34m\u001b[0m\n\u001b[0;32m      3\u001b[0m \u001b[0mtest2\u001b[0m\u001b[1;33m[\u001b[0m\u001b[1;34m'predict'\u001b[0m\u001b[1;33m]\u001b[0m \u001b[1;33m=\u001b[0m \u001b[0my_preds\u001b[0m\u001b[1;33m\u001b[0m\u001b[1;33m\u001b[0m\u001b[0m\n\u001b[0;32m      4\u001b[0m \u001b[1;33m\u001b[0m\u001b[0m\n\u001b[1;32m----> 5\u001b[1;33m \u001b[0mtesto\u001b[0m \u001b[1;33m=\u001b[0m \u001b[0mtesto\u001b[0m\u001b[1;33m.\u001b[0m\u001b[0mcopy\u001b[0m\u001b[1;33m(\u001b[0m\u001b[0mdeep\u001b[0m\u001b[1;33m=\u001b[0m\u001b[1;32mTrue\u001b[0m\u001b[1;33m)\u001b[0m\u001b[1;33m\u001b[0m\u001b[1;33m\u001b[0m\u001b[0m\n\u001b[0m\u001b[0;32m      6\u001b[0m \u001b[0mtesto\u001b[0m\u001b[1;33m[\u001b[0m\u001b[1;34m\"result\"\u001b[0m\u001b[1;33m]\u001b[0m \u001b[1;33m=\u001b[0m \u001b[0mtest_y\u001b[0m\u001b[1;33m\u001b[0m\u001b[1;33m\u001b[0m\u001b[0m\n\u001b[0;32m      7\u001b[0m \u001b[0mtesto\u001b[0m\u001b[1;33m[\u001b[0m\u001b[1;34m'predict'\u001b[0m\u001b[1;33m]\u001b[0m \u001b[1;33m=\u001b[0m \u001b[0my_preds\u001b[0m\u001b[1;33m\u001b[0m\u001b[1;33m\u001b[0m\u001b[0m\n",
      "\u001b[1;31mNameError\u001b[0m: name 'testo' is not defined"
     ]
    }
   ],
   "source": [
    "test2 = test.copy(deep=True)\n",
    "test2[\"result\"] = test_y\n",
    "test2['predict'] = y_preds\n",
    "\n",
    "testo = testo.copy(deep=True)\n",
    "testo[\"result\"] = test_y\n",
    "testo['predict'] = y_preds\n",
    "\n",
    "test2[(test2[\"predict\"] <=0.20)]['pankouOdd_End_Zhong_3Real'].value_counts()"
   ]
  },
  {
   "cell_type": "code",
   "execution_count": null,
   "metadata": {
    "ExecuteTime": {
     "end_time": "2021-12-05T00:21:31.949744Z",
     "start_time": "2021-12-05T00:18:05.974Z"
    }
   },
   "outputs": [],
   "source": [
    "a = test2[(test2[\"pankouOdd_End_Zhong_3Real\"] == \"1.25\")]"
   ]
  },
  {
   "cell_type": "code",
   "execution_count": null,
   "metadata": {
    "ExecuteTime": {
     "end_time": "2021-12-05T00:21:31.950744Z",
     "start_time": "2021-12-05T00:18:06.000Z"
    }
   },
   "outputs": [],
   "source": [
    "a['result'].value_counts()"
   ]
  },
  {
   "cell_type": "code",
   "execution_count": null,
   "metadata": {
    "ExecuteTime": {
     "end_time": "2021-12-05T00:21:31.951743Z",
     "start_time": "2021-12-05T00:18:06.026Z"
    }
   },
   "outputs": [],
   "source": [
    "zhongList = test['zhongbifengNew'].unique()"
   ]
  },
  {
   "cell_type": "code",
   "execution_count": null,
   "metadata": {
    "ExecuteTime": {
     "end_time": "2021-12-05T00:21:31.952743Z",
     "start_time": "2021-12-05T00:18:06.090Z"
    }
   },
   "outputs": [],
   "source": [
    "from sklearn.metrics import precision_score\n",
    "for i in [\"1.0\",\"1.25\"]:\n",
    "        for per in range(10, 90):\n",
    "            a = test2\n",
    "            a = a[(a[\"pankouOdd_End_Zhong_3Real\"] == i)]\n",
    "            if (a.shape[0] != 0):\n",
    "                p = Performance(np.array(a['result'].to_list()), np.array(\n",
    "                    a['predict'].to_list()), per/100)\n",
    "                pre = p.presision()\n",
    "                lenth = (p.get_confusion_matrix()[\n",
    "                         0] + p.get_confusion_matrix()[1])\n",
    "                if (pre > 0.40 and lenth > 0):\n",
    "                    print(i, \"pre: %.2f%%\" %\n",
    "                          (pre*100.0), per, a.shape[0], lenth)"
   ]
  },
  {
   "cell_type": "code",
   "execution_count": null,
   "metadata": {
    "ExecuteTime": {
     "end_time": "2021-12-05T00:21:31.953742Z",
     "start_time": "2021-12-05T00:18:06.137Z"
    }
   },
   "outputs": [],
   "source": [
    "match = test2\n",
    "b = set()\n",
    "for i in [\"1.25\"]:\n",
    "    for j in zhongList:\n",
    "        for per in range(40, 80):\n",
    "            a = match[(match[\"pankouOdd_End_Zhong_3Real\"] == i)]\n",
    "            a = a[(a[\"zhongbifengNew\"] == j)]\n",
    "            if (a.shape[0] != 0):\n",
    "                p = Performance(np.array(a['result'].to_list()), np.array(\n",
    "                    a['predict'].to_list()), per/100)\n",
    "                pre = p.presision()\n",
    "                lenth = (p.get_confusion_matrix()[\n",
    "                         0] + p.get_confusion_matrix()[1])\n",
    "                if (pre > 0.60 and lenth > 5):\n",
    "                    b.add(j)\n",
    "                    print(i, j, \"pre: %.2f%%\" %\n",
    "                          (pre*100.0), per, a.shape[0], lenth)"
   ]
  },
  {
   "cell_type": "code",
   "execution_count": null,
   "metadata": {
    "ExecuteTime": {
     "end_time": "2021-12-05T00:21:31.956741Z",
     "start_time": "2021-12-05T00:18:06.164Z"
    }
   },
   "outputs": [],
   "source": [
    "b"
   ]
  },
  {
   "cell_type": "code",
   "execution_count": null,
   "metadata": {
    "ExecuteTime": {
     "end_time": "2021-12-05T00:21:31.957740Z",
     "start_time": "2021-12-05T00:18:06.199Z"
    }
   },
   "outputs": [],
   "source": [
    "zhongList = test['zhongbifengNew'].unique()\n",
    "match = test2\n",
    "b = set()\n",
    "for i in [\"1.0\"]:\n",
    "    for j in zhongList:\n",
    "        for per in range(60, 100):\n",
    "            a = match[(match[\"pankouOdd_End_Zhong_3Real\"] == i)]\n",
    "            a = a[(a[\"zhongbifengNew\"] == j)]\n",
    "            if (a.shape[0] != 0):\n",
    "                p = Performance(np.array(a['result'].to_list()), np.array(\n",
    "                    a['predict'].to_list()), per/100)\n",
    "                pre = p.presision()\n",
    "                lenth = (p.get_confusion_matrix()[\n",
    "                         0] + p.get_confusion_matrix()[1])\n",
    "                if (pre > 0.75 and lenth > 5):\n",
    "                    b.add(j)\n",
    "                    print(i, j, \"pre: %.2f%%\" %\n",
    "                          (pre*100.0), per, a.shape[0], lenth)"
   ]
  },
  {
   "cell_type": "code",
   "execution_count": null,
   "metadata": {
    "ExecuteTime": {
     "end_time": "2021-12-05T00:17:38.980241Z",
     "start_time": "2021-12-05T00:15:35.382Z"
    }
   },
   "outputs": [],
   "source": [
    "b"
   ]
  },
  {
   "cell_type": "code",
   "execution_count": null,
   "metadata": {
    "ExecuteTime": {
     "end_time": "2021-12-05T00:17:38.981240Z",
     "start_time": "2021-12-05T00:15:35.385Z"
    }
   },
   "outputs": [],
   "source": [
    "import seaborn as sns\n",
    "feature_importance_gain=pd.DataFrame()\n",
    "feature_importance_gain['feature']=columns\n",
    "feature_importance_gain['fold_1']=clf.feature_importance(importance_type='gain')\n",
    "feature_importance_gain['average'] = feature_importances[[f'fold_{fold_n + 1}' for fold_n in range(1)]].mean(axis=1)\n",
    "plt.figure(figsize=(16, 16))\n",
    "sns.barplot(data=feature_importance_gain.sort_values(by='average', ascending=False).head(50), x='average', y='feature');\n",
    "plt.title('100 TOP feature importance over {} folds average'.format(folds.n_splits));"
   ]
  },
  {
   "cell_type": "code",
   "execution_count": null,
   "metadata": {
    "ExecuteTime": {
     "end_time": "2021-12-05T00:17:38.982240Z",
     "start_time": "2021-12-05T00:15:35.388Z"
    }
   },
   "outputs": [],
   "source": [
    "ss"
   ]
  },
  {
   "cell_type": "code",
   "execution_count": null,
   "metadata": {
    "ExecuteTime": {
     "end_time": "2021-12-05T00:17:38.984238Z",
     "start_time": "2021-12-05T00:15:35.390Z"
    },
    "id": "uh55l3HyEdIi"
   },
   "outputs": [],
   "source": [
    "# import seaborn as sns\n",
    "# sns.set()\n",
    "\n",
    "# import sweetviz as sv\n",
    "# # 可以选择目标特征\n",
    "# my_report = sv.analyze(train, target_feat ='result')\n",
    "# my_report.show_html()"
   ]
  },
  {
   "cell_type": "code",
   "execution_count": null,
   "metadata": {
    "ExecuteTime": {
     "end_time": "2021-09-19T10:57:59.677256Z",
     "start_time": "2021-09-19T10:57:59.647275Z"
    }
   },
   "outputs": [],
   "source": []
  },
  {
   "cell_type": "code",
   "execution_count": null,
   "metadata": {
    "ExecuteTime": {
     "end_time": "2021-12-05T00:17:38.985238Z",
     "start_time": "2021-12-05T00:15:35.396Z"
    },
    "colab": {
     "base_uri": "https://localhost:8080/"
    },
    "id": "8zSjBu_6EdIj",
    "outputId": "81692c28-e759-47b2-a248-7e1e880b2636"
   },
   "outputs": [],
   "source": [
    "# from sklearn.preprocessing import StandardScaler\n",
    "# from sklearn.metrics import mean_squared_error\n",
    "# from sklearn.model_selection import KFold\n",
    "# from tensorflow import keras\n",
    "# from tensorflow.keras import layers\n",
    "\n",
    "# for c in train_x.columns:\n",
    "#     prep = StandardScaler()\n",
    "#     train_x[c] = prep.fit_transform(train_x[[c]])\n",
    "#     test_x[c] = prep.fit_transform(test_x[[c]])"
   ]
  },
  {
   "cell_type": "code",
   "execution_count": null,
   "metadata": {
    "ExecuteTime": {
     "end_time": "2021-12-05T00:17:38.986237Z",
     "start_time": "2021-12-05T00:15:35.399Z"
    }
   },
   "outputs": [],
   "source": [
    "lgb_params = {\n",
    "    'objective': 'binary',\n",
    "    'n_estimators': 20000,\n",
    "    'random_state': 42,\n",
    "    'learning_rate': 8e-3,\n",
    "    'subsample': 0.6,\n",
    "    'subsample_freq': 1,\n",
    "    'colsample_bytree': 0.4,\n",
    "    'reg_alpha': 10.0,\n",
    "    'reg_lambda': 1e-1,\n",
    "    'min_child_weight': 256,\n",
    "    'min_child_samples': 20,\n",
    "}\n",
    "\n",
    "\n",
    "xgb_params = {'n_estimators': 10000,\n",
    "               'learning_rate': 0.03689407512484644,\n",
    "               'max_depth': 8,\n",
    "               'colsample_bytree': 0.3723914688159835,\n",
    "               'subsample': 0.780714581166012,\n",
    "               'eval_metric': 'auc',\n",
    "               'use_label_encoder': False,\n",
    "               'gamma': 0,\n",
    "               'reg_lambda': 50.0,\n",
    "               'gpu_id': 0,\n",
    "               'objective': 'binary:logistic',\n",
    "               'random_state': 42}\n",
    "\n",
    "\n",
    "cat_params = {'iterations': 17298,\n",
    "               'learning_rate': 0.03429054860458741,\n",
    "               'reg_lambda': 0.3242286463210283,\n",
    "               'subsample': 0.9433911589913944,\n",
    "               'random_strength': 22.4849972385133,\n",
    "               'depth': 8,\n",
    "               'min_data_in_leaf': 4,\n",
    "               'leaf_estimation_iterations': 8,\n",
    "               'task_type':\"GPU\",\n",
    "               'bootstrap_type':'Poisson',\n",
    "               'verbose' : 500,\n",
    "               'early_stopping_rounds' : 200,\n",
    "               'eval_metric' : 'AUC'}"
   ]
  },
  {
   "cell_type": "code",
   "execution_count": null,
   "metadata": {
    "ExecuteTime": {
     "end_time": "2021-12-05T00:17:38.987236Z",
     "start_time": "2021-12-05T00:15:35.402Z"
    }
   },
   "outputs": [],
   "source": [
    "from xgboost import XGBClassifier\n",
    "from lightgbm import LGBMClassifier\n",
    "from catboost import CatBoostClassifier\n",
    "\n",
    "lgbm = LGBMClassifier(**lgb_params)\n",
    "\n",
    "xgb = XGBClassifier(**xgb_params)\n",
    "\n",
    "cat = CatBoostClassifier(**cat_params)\n"
   ]
  },
  {
   "cell_type": "code",
   "execution_count": null,
   "metadata": {
    "ExecuteTime": {
     "end_time": "2021-12-05T00:17:38.988236Z",
     "start_time": "2021-12-05T00:15:35.405Z"
    }
   },
   "outputs": [],
   "source": [
    "from sklearn import model_selection\n",
    "from sklearn.linear_model import LogisticRegression\n",
    "from sklearn.neighbors import KNeighborsClassifier\n",
    "from sklearn.naive_bayes import GaussianNB \n",
    "from sklearn.ensemble import RandomForestClassifier\n",
    "from mlxtend.classifier import StackingCVClassifier\n",
    "\n",
    "lr = LogisticRegression()\n",
    "\n",
    "sclf = StackingCVClassifier(classifiers=[lgbm, xgb,cat],\n",
    "                            use_probas=True,\n",
    "                            meta_classifier=lr,\n",
    "                            random_state=42)"
   ]
  },
  {
   "cell_type": "code",
   "execution_count": null,
   "metadata": {
    "ExecuteTime": {
     "end_time": "2021-11-26T15:41:42.278614Z",
     "start_time": "2021-11-26T15:41:42.255613Z"
    }
   },
   "outputs": [],
   "source": []
  },
  {
   "cell_type": "code",
   "execution_count": null,
   "metadata": {
    "ExecuteTime": {
     "end_time": "2021-12-05T00:17:38.989235Z",
     "start_time": "2021-12-05T00:15:35.416Z"
    },
    "scrolled": true
   },
   "outputs": [],
   "source": [
    "statcker = sclf.fit(train_x, train_y)"
   ]
  },
  {
   "cell_type": "code",
   "execution_count": null,
   "metadata": {
    "ExecuteTime": {
     "end_time": "2021-12-05T00:17:38.990235Z",
     "start_time": "2021-12-05T00:15:35.418Z"
    }
   },
   "outputs": [],
   "source": [
    "y_pred = statcker.predict_proba(test_x)[:, 1]\n",
    "accuracy = roc_auc_score(test_y, y_pred)\n",
    "print(\"accuarcy: %.2f%%\" % (accuracy*100.0))"
   ]
  },
  {
   "cell_type": "code",
   "execution_count": null,
   "metadata": {
    "ExecuteTime": {
     "end_time": "2021-12-05T00:17:38.991234Z",
     "start_time": "2021-12-05T00:15:35.421Z"
    }
   },
   "outputs": [],
   "source": [
    "test2 = test.copy(deep=True)\n",
    "test2[\"result\"] = test_y\n",
    "test2['predict'] = y_pred"
   ]
  },
  {
   "cell_type": "code",
   "execution_count": null,
   "metadata": {
    "ExecuteTime": {
     "end_time": "2021-12-05T00:17:38.992234Z",
     "start_time": "2021-12-05T00:15:35.426Z"
    }
   },
   "outputs": [],
   "source": [
    "from sklearn.metrics import precision_score\n",
    "for i in [\"1.0\",\"1.25\"]:\n",
    "        for per in range(10, 100):\n",
    "            a = test2[(test2[\"pankouOdd_End_Zhong_3Real\"] == i)]\n",
    "            if (a.shape[0] != 0):\n",
    "                p = Performance(np.array(a['result'].to_list()), np.array(\n",
    "                    a['predict'].to_list()), per/100)\n",
    "                pre = p.presision()\n",
    "                lenth = (p.get_confusion_matrix()[\n",
    "                         0] + p.get_confusion_matrix()[1])\n",
    "                if (pre > 0.70 and lenth > 5):\n",
    "                    print(i, \"pre: %.2f%%\" %\n",
    "                          (pre*100.0), per, a.shape[0], lenth)"
   ]
  },
  {
   "cell_type": "code",
   "execution_count": null,
   "metadata": {
    "ExecuteTime": {
     "end_time": "2021-11-26T14:02:53.307272Z",
     "start_time": "2021-11-26T13:54:32.771Z"
    }
   },
   "outputs": [],
   "source": []
  },
  {
   "cell_type": "code",
   "execution_count": null,
   "metadata": {},
   "outputs": [],
   "source": []
  },
  {
   "cell_type": "code",
   "execution_count": null,
   "metadata": {},
   "outputs": [],
   "source": []
  }
 ],
 "metadata": {
  "colab": {
   "collapsed_sections": [],
   "name": "NewXG.ipynb",
   "provenance": []
  },
  "kernelspec": {
   "display_name": "Python 3",
   "language": "python",
   "name": "python3"
  },
  "language_info": {
   "codemirror_mode": {
    "name": "ipython",
    "version": 3
   },
   "file_extension": ".py",
   "mimetype": "text/x-python",
   "name": "python",
   "nbconvert_exporter": "python",
   "pygments_lexer": "ipython3",
   "version": "3.8.5"
  },
  "toc": {
   "base_numbering": 1,
   "nav_menu": {},
   "number_sections": true,
   "sideBar": true,
   "skip_h1_title": false,
   "title_cell": "Table of Contents",
   "title_sidebar": "Contents",
   "toc_cell": false,
   "toc_position": {},
   "toc_section_display": true,
   "toc_window_display": false
  }
 },
 "nbformat": 4,
 "nbformat_minor": 1
}
