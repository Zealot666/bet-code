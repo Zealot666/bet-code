{
 "cells": [
  {
   "cell_type": "code",
   "execution_count": 1,
   "metadata": {
    "ExecuteTime": {
     "end_time": "2022-05-22T03:19:35.837862Z",
     "start_time": "2022-05-22T03:19:33.744491Z"
    },
    "colab": {
     "base_uri": "https://localhost:8080/"
    },
    "id": "sweheA5JE1Um",
    "outputId": "3338da98-f3f9-414b-92c8-aa1c3070a18c"
   },
   "outputs": [],
   "source": [
    "import json\n",
    "import pandas as pd\n",
    "\n",
    "import pymongo\n",
    "import matplotlib as mpl\n",
    "import numpy as np\n",
    "import matplotlib.pyplot as plt\n",
    "\n",
    "import warnings\n",
    "warnings.filterwarnings(\"ignore\")"
   ]
  },
  {
   "cell_type": "code",
   "execution_count": 2,
   "metadata": {
    "ExecuteTime": {
     "end_time": "2022-05-22T03:19:35.852494Z",
     "start_time": "2022-05-22T03:19:35.838840Z"
    },
    "id": "dQ2cjdK9EdIH"
   },
   "outputs": [],
   "source": [
    "def reduce_mem_usage(df, verbose=False):\n",
    "    numerics = ['int16', 'int32', 'int64', 'float16', 'float32', 'float64']\n",
    "    start_mem = df.memory_usage().sum() / 1024**2\n",
    "    for col in df.columns:\n",
    "        col_type = df[col].dtypes\n",
    "        if col_type in numerics:\n",
    "            c_min = df[col].min()\n",
    "            c_max = df[col].max()\n",
    "            if str(col_type)[:3] == 'int':\n",
    "                if c_min > np.iinfo(np.int8).min and c_max < np.iinfo(np.int8).max:\n",
    "                    df[col] = df[col].astype(np.int8)\n",
    "                elif c_min > np.iinfo(np.int16).min and c_max < np.iinfo(np.int16).max:\n",
    "                    df[col] = df[col].astype(np.int16)\n",
    "                elif c_min > np.iinfo(np.int32).min and c_max < np.iinfo(np.int32).max:\n",
    "                    df[col] = df[col].astype(np.int32)\n",
    "                elif c_min > np.iinfo(np.int64).min and c_max < np.iinfo(np.int64).max:\n",
    "                    df[col] = df[col].astype(np.int64)\n",
    "            else:\n",
    "                c_prec = df[col].apply(lambda x: np.finfo(x).precision).max()\n",
    "                if c_min > np.finfo(np.float16).min and c_max < np.finfo(np.float16).max and c_prec == np.finfo(np.float16).precision:\n",
    "                    df[col] = df[col].astype(np.float16)\n",
    "                elif c_min > np.finfo(np.float32).min and c_max < np.finfo(np.float32).max and c_prec == np.finfo(np.float32).precision:\n",
    "                    df[col] = df[col].astype(np.float32)\n",
    "                else:\n",
    "                    df[col] = df[col].astype(np.float64)\n",
    "    end_mem = df.memory_usage().sum() / 1024**2\n",
    "    if verbose: print('Mem. usage decreased to {:5.2f} Mb ({:.1f}% reduction)'.format(end_mem, 100 * (start_mem - end_mem) / start_mem))\n",
    "    return df"
   ]
  },
  {
   "cell_type": "code",
   "execution_count": 3,
   "metadata": {
    "ExecuteTime": {
     "end_time": "2022-05-22T03:19:35.880779Z",
     "start_time": "2022-05-22T03:19:35.855423Z"
    }
   },
   "outputs": [],
   "source": [
    "import numpy as np\n",
    " \n",
    "class Performance:\n",
    "    \"\"\"\n",
    "    定义一个类，用来分类器的性能度量\n",
    "    \"\"\"\n",
    "    def __init__(self, labels, scores, threshold=0.5):\n",
    "        \"\"\"\n",
    "        :param labels:数组类型，真实的标签\n",
    "        :param scores:数组类型，分类器的得分\n",
    "        :param threshold:检测阈值\n",
    "        \"\"\"\n",
    "        self.labels = labels\n",
    "        self.scores = scores\n",
    "        self.threshold = threshold\n",
    "        self.db = self.get_db()\n",
    "        self.TP, self.FP, self.FN, self.TN = self.get_confusion_matrix()\n",
    " \n",
    "    def accuracy(self):\n",
    "        \"\"\"\n",
    "        :return: 正确率\n",
    "        \"\"\"\n",
    "        return (self.TP + self.TN) / (self.TP + self.FN + self.FP + self.TN)\n",
    " \n",
    "    def presision(self):\n",
    "        \"\"\"\n",
    "        :return: 准确率\n",
    "        \"\"\"\n",
    "        if (self.TP + self.FP) == 0:\n",
    "            return 0\n",
    "        return self.TP / (self.TP + self.FP)\n",
    "    \n",
    "    def presision2(self):\n",
    "        \"\"\"\n",
    "        :return: 准确率\n",
    "        \"\"\"\n",
    "        if (self.TN + self.FN) == 0:\n",
    "            return 0\n",
    "        return self.TN / (self.TN + self.FN)\n",
    "    \n",
    "    def get_db(self):\n",
    "        db = []\n",
    "        for i in range(len(self.labels)):\n",
    "            db.append([self.labels[i], self.scores[i]])\n",
    "        db = sorted(db, key=lambda x: x[1], reverse=True)\n",
    "        return db\n",
    "\n",
    "    def get_confusion_matrix(self):\n",
    "        \"\"\"\n",
    "        计算混淆矩阵\n",
    "        :return:\n",
    "        \"\"\"\n",
    "        tp, fp, fn, tn = 0., 0., 0., 0.\n",
    "        for i in range(len(self.labels)):\n",
    "            if self.labels[i] == 1 and self.scores[i] >= self.threshold:\n",
    "                tp += 1\n",
    "            elif self.labels[i] == 0 and self.scores[i] >= self.threshold:\n",
    "                fp += 1\n",
    "            elif self.labels[i] == 1 and self.scores[i] < self.threshold:\n",
    "                fn += 1\n",
    "            else:\n",
    "                tn += 1\n",
    "        return [tp, fp, fn, tn]"
   ]
  },
  {
   "cell_type": "code",
   "execution_count": 4,
   "metadata": {
    "ExecuteTime": {
     "end_time": "2022-05-22T03:19:35.898335Z",
     "start_time": "2022-05-22T03:19:35.882739Z"
    },
    "id": "EQ6sA0qwEdIJ"
   },
   "outputs": [],
   "source": [
    "def getGoalMid(masterGoal, guestGoal, masterMidGoal, guestMidGoal):\n",
    "    return int(masterGoal) + int(guestGoal) - int(masterMidGoal) - int(guestMidGoal)\n",
    "\n",
    "\n",
    "def removeSub(pankou):\n",
    "    pankou = pankou.replace(\"升\", \"\")\n",
    "    pankou = pankou.replace(\"降\", \"\")\n",
    "    return pankou.strip()\n",
    "\n",
    "\n",
    "def getResultOne(goalMid, pankou):\n",
    "    row = pankou\n",
    "    row = 0\n",
    "    if goalMid - float(row) > 0:\n",
    "        return 1\n",
    "    if goalMid - float(row) <= 0:\n",
    "        return 0\n",
    "    \n",
    "def getType(yapanMasterStartOdd, yapanGuestStartOdd, yapanPankouStart):\n",
    "    linTypeStart = get18(yapanMasterStartOdd, yapanGuestStartOdd)\n",
    "    return str(linTypeStart)\n",
    "\n",
    "\n",
    "def get18(master, guest):\n",
    "    if master > guest:\n",
    "        return 18\n",
    "    if master < guest:\n",
    "        return 81\n",
    "    if master == guest:\n",
    "        return 99\n",
    "\n",
    "\n",
    "def daxiao_num(x):\n",
    "    x_list = x.split(\"/\")\n",
    "    num = 0\n",
    "    for i in x_list:\n",
    "        num += float(i)\n",
    "    return (float(num)/len(x_list))\n",
    "\n",
    "\n",
    "def realDaxiao(x, master, guest):\n",
    "    return float(x) - float(master) - float(guest)\n",
    "\n",
    "def realDaxiao75(x, last):\n",
    "    master = last.split(\"-\")[0]\n",
    "    guest = last.split(\"-\")[1]\n",
    "    return float(x) - float(master) - float(guest)\n",
    "\n",
    "def shengjiang(start, end):\n",
    "    return ((end) - (start))\n",
    "\n",
    "def round2(x):\n",
    "    return round((x), 2)"
   ]
  },
  {
   "cell_type": "code",
   "execution_count": 5,
   "metadata": {
    "ExecuteTime": {
     "end_time": "2022-05-22T03:19:35.914918Z",
     "start_time": "2022-05-22T03:19:35.900287Z"
    }
   },
   "outputs": [],
   "source": [
    "def getShuiPing(x):\n",
    "    result = 11\n",
    "    if x < 0.75:\n",
    "        result = 0\n",
    "    if 0.75<= x and x<=0.85:\n",
    "        result = 1\n",
    "    if 0.85<x and x<=0.90:\n",
    "        result = 2\n",
    "    if 0.90<x and x<=0.95:\n",
    "        result = 3\n",
    "    if 0.95<x and x<=1.00:\n",
    "        result = 4\n",
    "    if 1.00<x and x<=1.08:\n",
    "        result = 5\n",
    "    if 1.08<x:\n",
    "        result = 6\n",
    "    return result\n",
    "\n",
    "def num_fea_dis(df,features):\n",
    "    for f in features:\n",
    "        nm = f+'_'+'shuiPing'\n",
    "        df[nm] = df[f].map(getShuiPing)\n",
    "    return df"
   ]
  },
  {
   "cell_type": "code",
   "execution_count": 6,
   "metadata": {
    "ExecuteTime": {
     "end_time": "2022-05-22T03:19:35.930522Z",
     "start_time": "2022-05-22T03:19:35.916868Z"
    }
   },
   "outputs": [],
   "source": [
    "def getLastTime(x):\n",
    "    if x >= 45 and x < 50 :\n",
    "        return 0 \n",
    "    if x >= 50 and x < 60 :\n",
    "        return 1 \n",
    "    if x >= 60 and x <= 75:\n",
    "        return 2\n",
    "    return 3\n",
    "\n",
    "def getResult65(zhong,last):\n",
    "    sum1 = 0\n",
    "    for i in zhong.split('-'):\n",
    "        sum1 += int(i)\n",
    "    sum2 = 0\n",
    "    for i in last.split('-'):\n",
    "        sum2 += int(i)\n",
    "    return sum2 - sum1\n",
    "\n",
    "def getResultNew(x):\n",
    "    if x >= 1:\n",
    "        return 1\n",
    "    return 0\n",
    "\n",
    "def pankouFlow(x,y):\n",
    "    return float(x) - float(y)"
   ]
  },
  {
   "cell_type": "code",
   "execution_count": 7,
   "metadata": {
    "ExecuteTime": {
     "end_time": "2022-05-22T03:19:35.950043Z",
     "start_time": "2022-05-22T03:19:35.932473Z"
    },
    "id": "z5MN0RQYEdIK"
   },
   "outputs": [],
   "source": [
    "def fillNa(x, value):\n",
    "    if pd.isnull(x):\n",
    "        return value\n",
    "    else:\n",
    "        return x\n",
    "\n",
    "    \n",
    "def preF(test):\n",
    "    test['goalMid'] = test.apply(lambda x: getGoalMid(\n",
    "        x['masterGoal'], x['guestGoal'], x['midGuestGoal'], x['midMasterGoal']), axis=1)\n",
    "    \n",
    "    test = test[test['goalMid'] >= 0]\n",
    "    \n",
    "    test['bifeng'] = test['masterGoal'].astype(\n",
    "        str) + \"-\" + test['guestGoal'].astype(str)\n",
    "    \n",
    "    test['zhongbifengNew'] = test['midMasterGoal'].astype(\n",
    "        str) + \"-\" + test['midGuestGoal'].astype(str)\n",
    "    \n",
    "    test['allbifeng'] = test['lastBifeng65'].astype(\n",
    "        str) + \"-\" + test['zhongbifengNew'].astype(str)\n",
    "            \n",
    "    pankou = [\"pankouOdd_End_Zhong_3\",\"pankou_Start_Zhong_3\"] + [\"pankou_Start_Ji_3\",\"pankouOdd_End_Ji_3\"] + [\"pankouOdd_End_65_3\",\"pankouOdd_End_75_3\",\"pankouOdd_End_80_3\"]\n",
    "\n",
    "    for col in pankou:\n",
    "        test[col] = test[col].astype(str)\n",
    "        test[col] = test[col].map(daxiao_num)\n",
    "        test[col] = test[col].astype(str)\n",
    "        nm = col + \"Real\"\n",
    "        test[nm] = test.apply(lambda x: realDaxiao(x[col],x['midGuestGoal'],x['midMasterGoal']), axis=1)\n",
    "        test[nm] = test[nm].astype(str)\n",
    "        \n",
    "#     test['allbifengNew'] = test['allbifeng'].astype(\n",
    "#         str) + \"-\" + test['pankouOdd_End_Zhong_3Real'].astype(str) + \"-\" + test['pankouOdd_End_Ji_3'].astype(str)\n",
    "    \n",
    "#     fes = ['masterOdd_Start_Ji_3', 'masterOdd_End_Ji_3',\n",
    "#            'masterOdd_Start_Zhong_3', 'masterOdd_End_Zhong_3'] + ['guestOdd_Start_Ji_3', 'guestOdd_End_Ji_3',\n",
    "#            'guestOdd_Start_Zhong_3', 'guestOdd_End_Zhong_3']\n",
    "    \n",
    "    \n",
    "#     num_fea_dis(test, fes)\n",
    "    \n",
    "#     test['daxiaoTypeStart'] = test.apply(lambda x: getType(x['masterOdd_Start_Ji_3'], x['guestOdd_Start_Ji_3'],x['pankou_Start_Ji_3']), axis=1)\n",
    "#     test['daxiaoType'] = test.apply(lambda x: getType(x['masterOdd_End_Ji_3'], x['guestOdd_End_Ji_3'],x['pankouOdd_End_Ji_3']), axis=1)\n",
    "#     test['daxiaoTypeStartMid'] = test.apply(lambda x: getType(x['masterOdd_Start_Zhong_3'], x['guestOdd_Start_Zhong_3'],x['pankou_Start_Zhong_3Real']), axis=1)\n",
    "#     test['daxiaoTypeMid'] = test.apply(lambda x: getType(x['masterOdd_End_Zhong_3'], x['guestOdd_End_Zhong_3'],x['pankouOdd_End_Zhong_3Real']), axis=1)\n",
    "    \n",
    "\n",
    "#     test['daxiaoTypeStart'] = test['masterOdd_Start_Ji_3_shuiPing'].astype(str) + test['daxiaoTypeStart']\n",
    "#     test['daxiaoType'] = test['masterOdd_End_Ji_3_shuiPing'].astype(str) + test['daxiaoType']\n",
    "    \n",
    "#     test['daxiaoTypeStartMid'] = test['masterOdd_Start_Zhong_3_shuiPing'].astype(str) + test['daxiaoTypeStartMid']\n",
    "#     test['daxiaoTypeMid'] = test['masterOdd_End_Zhong_3_shuiPing'].astype(str) + test['daxiaoTypeMid']\n",
    " \n",
    "#     test['daxiaoTypeALL'] = test['daxiaoTypeStart'] + test['daxiaoType'] + test['zhongbifengNew']\n",
    "#     test['daxiaoTypeMidALL'] = test['daxiaoTypeStartMid'] + test['daxiaoTypeMid'] + test['zhongbifengNew']\n",
    "    \n",
    "#     test['daxiaoPankou'] = test['pankou_Start_Ji_3'] + test['pankouOdd_End_Ji_3']\n",
    "#     test['daxiaoPankouMid'] = test['pankou_Start_Zhong_3Real'] + test['pankouOdd_End_Zhong_3Real']\n",
    "#     test['daxiaoPankouALL'] = test['daxiaoPankou'] + test['daxiaoPankouMid'] + test['zhongbifengNew']\n",
    "\n",
    "#     test['MasterOddFlowPankou'] = test[\"pankouOdd_End_Ji_3\"].astype(float) - test[\"pankou_Start_Ji_3\"].astype(float)\n",
    "#     test['MasterOddFlowPankouMid'] = test[\"pankou_Start_Zhong_3\"].astype(float) - test[\"pankouOdd_End_Zhong_3\"].astype(float)\n",
    "#     test['MasterOddFlow'] = test[\"masterOdd_Start_Ji_3\"] - test[\"masterOdd_End_Ji_3\"]\n",
    "    \n",
    "#     test['daxiaoTypeStartMidLast'] = test['masterOdd_Start_Zhong_3_shuiPing'].astype(str) + test['daxiaoTypeStartMid'] + test['lastBifeng'].astype(str)\n",
    "#     test['daxiaoTypeMidLast'] = test['masterOdd_End_Zhong_3_shuiPing'].astype(str) + test['daxiaoTypeMid'] + test['lastBifeng'].astype(str)\n",
    "#     test['daxiaoTypeStartLast'] = test['masterOdd_Start_Ji_3_shuiPing'].astype(str) + test['daxiaoTypeStart'] + test['lastBifeng'].astype(str)\n",
    "#     test['daxiaoTypeLast'] = test['masterOdd_End_Ji_3_shuiPing'].astype(str) + test['daxiaoType'] + test['lastBifeng'].astype(str)\n",
    "#     test['daxiaoPankouLast'] = test['pankou_Start_Ji_3'] + test['pankouOdd_End_Ji_3'] + test['lastBifeng'].astype(str)\n",
    "#     test['daxiaoPankouMidLast'] = test['pankou_Start_Zhong_3Real'] + test['pankouOdd_End_Zhong_3Real'] + test['lastBifeng'].astype(str)\n",
    "#     test['daxiaoPankouALLLast'] = test['daxiaoPankou'] + test['daxiaoPankouMid'] + test['zhongbifengNew'] + test['lastBifeng'].astype(str)\n",
    "        \n",
    "#     test = test.drop(['masterOdd_Start_Ji_3_shuiPing', 'masterOdd_End_Ji_3_shuiPing',\n",
    "#                       'masterOdd_Start_Zhong_3_shuiPing','masterOdd_End_Zhong_3_shuiPing'], axis=1)\n",
    "    \n",
    "#     test = test.drop(['guestOdd_Start_Ji_3_shuiPing', 'guestOdd_End_Ji_3_shuiPing',\n",
    "#                       'guestOdd_Start_Zhong_3_shuiPing','guestOdd_End_Zhong_3_shuiPing'], axis=1)\n",
    "    \n",
    "    test = test.drop(columns=['masterGoal', 'guestGoal', \"goalMid\"])\n",
    "    test = test.drop(columns=['midGuestGoal', 'midMasterGoal',\"time\"])\n",
    "    \n",
    "    test[\"result4565\"] =  test.apply(lambda x: getResult65(x['zhongbifengNew'], x['lastBifeng65']), axis=1)\n",
    "    test = test[test[\"result4565\"] == 1]\n",
    "    \n",
    "    test[\"result6580\"] =  test.apply(lambda x: getResult65(x['lastBifeng65'], x['lastBifeng80']), axis=1)\n",
    "    test = test[test[\"result6580\"] == 0]\n",
    "    \n",
    "    test[\"result\"] =  test.apply(lambda x: getResult65(x['lastBifeng80'], x['bifeng']), axis=1)\n",
    "    test = test[test[\"result\"] >= 0]\n",
    "    test[\"result\"] = test[\"result\"].map(getResultNew)\n",
    "    test = test.drop([\"bifeng\"], axis=1)\n",
    "    return test"
   ]
  },
  {
   "cell_type": "code",
   "execution_count": null,
   "metadata": {
    "ExecuteTime": {
     "end_time": "2022-04-18T06:46:03.573974Z",
     "start_time": "2022-04-18T06:46:03.550565Z"
    }
   },
   "outputs": [],
   "source": []
  },
  {
   "cell_type": "code",
   "execution_count": 8,
   "metadata": {
    "ExecuteTime": {
     "end_time": "2022-05-22T03:20:07.741369Z",
     "start_time": "2022-05-22T03:19:35.951980Z"
    },
    "id": "vN7FAlDIEdIO"
   },
   "outputs": [],
   "source": [
    "myclient = pymongo.MongoClient(\"mongodb://localhost:27017/\")\n",
    "mydb = myclient[\"soccerData\"]\n",
    "mycol = mydb[\"win007657580\"]\n",
    "data_mid = pd.DataFrame(list(mycol.find({\"time\":{\"$gte\":\"2015-01-01 00:00:00\",\"$lt\":\"2021-01-01 00:00:00\"}})))\n",
    "data_mid = data_mid.drop(['_id','place'], axis=1)\n",
    "data_mid = data_mid.dropna()\n",
    "data_mid = reduce_mem_usage(data_mid)\n",
    "data_mid = preF(data_mid)"
   ]
  },
  {
   "cell_type": "code",
   "execution_count": 9,
   "metadata": {
    "ExecuteTime": {
     "end_time": "2022-05-22T03:20:07.748201Z",
     "start_time": "2022-05-22T03:20:07.744296Z"
    }
   },
   "outputs": [],
   "source": [
    "train = data_mid\n",
    "\n",
    "# train.to_csv(\"train_5.txt\")"
   ]
  },
  {
   "cell_type": "code",
   "execution_count": 10,
   "metadata": {
    "ExecuteTime": {
     "end_time": "2022-05-22T03:20:07.793050Z",
     "start_time": "2022-05-22T03:20:07.750146Z"
    }
   },
   "outputs": [
    {
     "data": {
      "text/html": [
       "<div>\n",
       "<style scoped>\n",
       "    .dataframe tbody tr th:only-of-type {\n",
       "        vertical-align: middle;\n",
       "    }\n",
       "\n",
       "    .dataframe tbody tr th {\n",
       "        vertical-align: top;\n",
       "    }\n",
       "\n",
       "    .dataframe thead th {\n",
       "        text-align: right;\n",
       "    }\n",
       "</style>\n",
       "<table border=\"1\" class=\"dataframe\">\n",
       "  <thead>\n",
       "    <tr style=\"text-align: right;\">\n",
       "      <th></th>\n",
       "      <th>lianShai</th>\n",
       "      <th>guestOdd_End_65_3</th>\n",
       "      <th>guestOdd_End_75_3</th>\n",
       "      <th>guestOdd_End_80_3</th>\n",
       "      <th>guestOdd_End_Ji_3</th>\n",
       "      <th>guestOdd_End_Zhong_3</th>\n",
       "      <th>guestOdd_Start_Ji_3</th>\n",
       "      <th>guestOdd_Start_Zhong_3</th>\n",
       "      <th>lastBifeng65</th>\n",
       "      <th>lastBifeng75</th>\n",
       "      <th>...</th>\n",
       "      <th>pankouOdd_End_Zhong_3Real</th>\n",
       "      <th>pankou_Start_Zhong_3Real</th>\n",
       "      <th>pankou_Start_Ji_3Real</th>\n",
       "      <th>pankouOdd_End_Ji_3Real</th>\n",
       "      <th>pankouOdd_End_65_3Real</th>\n",
       "      <th>pankouOdd_End_75_3Real</th>\n",
       "      <th>pankouOdd_End_80_3Real</th>\n",
       "      <th>result4565</th>\n",
       "      <th>result6580</th>\n",
       "      <th>result</th>\n",
       "    </tr>\n",
       "  </thead>\n",
       "  <tbody>\n",
       "    <tr>\n",
       "      <th>4</th>\n",
       "      <td>西青U19</td>\n",
       "      <td>0.78</td>\n",
       "      <td>0.89</td>\n",
       "      <td>0.77</td>\n",
       "      <td>0.96</td>\n",
       "      <td>0.83</td>\n",
       "      <td>0.96</td>\n",
       "      <td>0.83</td>\n",
       "      <td>1-2</td>\n",
       "      <td>1-2</td>\n",
       "      <td>...</td>\n",
       "      <td>2.0</td>\n",
       "      <td>2.0</td>\n",
       "      <td>1.75</td>\n",
       "      <td>1.75</td>\n",
       "      <td>2.25</td>\n",
       "      <td>1.75</td>\n",
       "      <td>1.5</td>\n",
       "      <td>1</td>\n",
       "      <td>0</td>\n",
       "      <td>1</td>\n",
       "    </tr>\n",
       "    <tr>\n",
       "      <th>5</th>\n",
       "      <td>西丁</td>\n",
       "      <td>0.79</td>\n",
       "      <td>0.63</td>\n",
       "      <td>0.42</td>\n",
       "      <td>0.80</td>\n",
       "      <td>0.74</td>\n",
       "      <td>0.85</td>\n",
       "      <td>0.99</td>\n",
       "      <td>1-1</td>\n",
       "      <td>1-1</td>\n",
       "      <td>...</td>\n",
       "      <td>1.5</td>\n",
       "      <td>1.25</td>\n",
       "      <td>1.25</td>\n",
       "      <td>1.25</td>\n",
       "      <td>1.75</td>\n",
       "      <td>1.5</td>\n",
       "      <td>1.5</td>\n",
       "      <td>1</td>\n",
       "      <td>0</td>\n",
       "      <td>1</td>\n",
       "    </tr>\n",
       "    <tr>\n",
       "      <th>12</th>\n",
       "      <td>球会友谊</td>\n",
       "      <td>0.85</td>\n",
       "      <td>0.71</td>\n",
       "      <td>0.47</td>\n",
       "      <td>0.93</td>\n",
       "      <td>0.83</td>\n",
       "      <td>0.88</td>\n",
       "      <td>0.83</td>\n",
       "      <td>1-1</td>\n",
       "      <td>1-1</td>\n",
       "      <td>...</td>\n",
       "      <td>1.5</td>\n",
       "      <td>1.5</td>\n",
       "      <td>2.0</td>\n",
       "      <td>2.0</td>\n",
       "      <td>1.75</td>\n",
       "      <td>1.5</td>\n",
       "      <td>1.5</td>\n",
       "      <td>1</td>\n",
       "      <td>0</td>\n",
       "      <td>0</td>\n",
       "    </tr>\n",
       "    <tr>\n",
       "      <th>17</th>\n",
       "      <td>印度U18</td>\n",
       "      <td>0.90</td>\n",
       "      <td>0.92</td>\n",
       "      <td>0.61</td>\n",
       "      <td>0.80</td>\n",
       "      <td>0.86</td>\n",
       "      <td>0.95</td>\n",
       "      <td>1.05</td>\n",
       "      <td>1-3</td>\n",
       "      <td>1-3</td>\n",
       "      <td>...</td>\n",
       "      <td>1.5</td>\n",
       "      <td>1.25</td>\n",
       "      <td>-0.25</td>\n",
       "      <td>-0.25</td>\n",
       "      <td>1.75</td>\n",
       "      <td>1.5</td>\n",
       "      <td>1.5</td>\n",
       "      <td>1</td>\n",
       "      <td>0</td>\n",
       "      <td>1</td>\n",
       "    </tr>\n",
       "    <tr>\n",
       "      <th>21</th>\n",
       "      <td>西丙4</td>\n",
       "      <td>0.98</td>\n",
       "      <td>0.61</td>\n",
       "      <td>0.45</td>\n",
       "      <td>0.96</td>\n",
       "      <td>1.05</td>\n",
       "      <td>0.93</td>\n",
       "      <td>1.09</td>\n",
       "      <td>2-0</td>\n",
       "      <td>2-0</td>\n",
       "      <td>...</td>\n",
       "      <td>1.0</td>\n",
       "      <td>1.0</td>\n",
       "      <td>1.0</td>\n",
       "      <td>1.0</td>\n",
       "      <td>1.5</td>\n",
       "      <td>1.5</td>\n",
       "      <td>1.5</td>\n",
       "      <td>1</td>\n",
       "      <td>0</td>\n",
       "      <td>1</td>\n",
       "    </tr>\n",
       "  </tbody>\n",
       "</table>\n",
       "<p>5 rows × 37 columns</p>\n",
       "</div>"
      ],
      "text/plain": [
       "   lianShai  guestOdd_End_65_3  guestOdd_End_75_3  guestOdd_End_80_3  \\\n",
       "4     西青U19               0.78               0.89               0.77   \n",
       "5        西丁               0.79               0.63               0.42   \n",
       "12     球会友谊               0.85               0.71               0.47   \n",
       "17    印度U18               0.90               0.92               0.61   \n",
       "21      西丙4               0.98               0.61               0.45   \n",
       "\n",
       "    guestOdd_End_Ji_3  guestOdd_End_Zhong_3  guestOdd_Start_Ji_3  \\\n",
       "4                0.96                  0.83                 0.96   \n",
       "5                0.80                  0.74                 0.85   \n",
       "12               0.93                  0.83                 0.88   \n",
       "17               0.80                  0.86                 0.95   \n",
       "21               0.96                  1.05                 0.93   \n",
       "\n",
       "    guestOdd_Start_Zhong_3 lastBifeng65 lastBifeng75  ...  \\\n",
       "4                     0.83          1-2          1-2  ...   \n",
       "5                     0.99          1-1          1-1  ...   \n",
       "12                    0.83          1-1          1-1  ...   \n",
       "17                    1.05          1-3          1-3  ...   \n",
       "21                    1.09          2-0          2-0  ...   \n",
       "\n",
       "   pankouOdd_End_Zhong_3Real  pankou_Start_Zhong_3Real  pankou_Start_Ji_3Real  \\\n",
       "4                        2.0                       2.0                   1.75   \n",
       "5                        1.5                      1.25                   1.25   \n",
       "12                       1.5                       1.5                    2.0   \n",
       "17                       1.5                      1.25                  -0.25   \n",
       "21                       1.0                       1.0                    1.0   \n",
       "\n",
       "    pankouOdd_End_Ji_3Real  pankouOdd_End_65_3Real  pankouOdd_End_75_3Real  \\\n",
       "4                     1.75                    2.25                    1.75   \n",
       "5                     1.25                    1.75                     1.5   \n",
       "12                     2.0                    1.75                     1.5   \n",
       "17                   -0.25                    1.75                     1.5   \n",
       "21                     1.0                     1.5                     1.5   \n",
       "\n",
       "    pankouOdd_End_80_3Real  result4565 result6580 result  \n",
       "4                      1.5           1          0      1  \n",
       "5                      1.5           1          0      1  \n",
       "12                     1.5           1          0      0  \n",
       "17                     1.5           1          0      1  \n",
       "21                     1.5           1          0      1  \n",
       "\n",
       "[5 rows x 37 columns]"
      ]
     },
     "execution_count": 10,
     "metadata": {},
     "output_type": "execute_result"
    }
   ],
   "source": [
    "train.head()"
   ]
  },
  {
   "cell_type": "code",
   "execution_count": 11,
   "metadata": {
    "ExecuteTime": {
     "end_time": "2022-05-22T03:20:16.356721Z",
     "start_time": "2022-05-22T03:20:07.794034Z"
    }
   },
   "outputs": [
    {
     "name": "stdout",
     "output_type": "stream",
     "text": [
      "(34259, 30)\n",
      "(7543, 37)\n"
     ]
    }
   ],
   "source": [
    "myclient = pymongo.MongoClient(\"mongodb://localhost:27017/\")\n",
    "mydb = myclient[\"soccerData\"]\n",
    "mycol = mydb[\"win007657580\"]\n",
    "test = pd.DataFrame(list(mycol.find({\"time\":{\"$gte\":\"2021-01-01 00:00:00\",\"$lt\":\"2022-01-01 00:00:00\"}})))\n",
    "test = test.dropna()\n",
    "test = test.drop(['_id','place'], axis=1)\n",
    "print(test.shape)\n",
    "test = preF(test)\n",
    "print(test.shape)"
   ]
  },
  {
   "cell_type": "code",
   "execution_count": 12,
   "metadata": {
    "ExecuteTime": {
     "end_time": "2022-05-22T03:20:16.389872Z",
     "start_time": "2022-05-22T03:20:16.357690Z"
    }
   },
   "outputs": [
    {
     "data": {
      "text/html": [
       "<div>\n",
       "<style scoped>\n",
       "    .dataframe tbody tr th:only-of-type {\n",
       "        vertical-align: middle;\n",
       "    }\n",
       "\n",
       "    .dataframe tbody tr th {\n",
       "        vertical-align: top;\n",
       "    }\n",
       "\n",
       "    .dataframe thead th {\n",
       "        text-align: right;\n",
       "    }\n",
       "</style>\n",
       "<table border=\"1\" class=\"dataframe\">\n",
       "  <thead>\n",
       "    <tr style=\"text-align: right;\">\n",
       "      <th></th>\n",
       "      <th>lianShai</th>\n",
       "      <th>guestOdd_End_65_3</th>\n",
       "      <th>guestOdd_End_75_3</th>\n",
       "      <th>guestOdd_End_80_3</th>\n",
       "      <th>guestOdd_End_Ji_3</th>\n",
       "      <th>guestOdd_End_Zhong_3</th>\n",
       "      <th>guestOdd_Start_Ji_3</th>\n",
       "      <th>guestOdd_Start_Zhong_3</th>\n",
       "      <th>lastBifeng65</th>\n",
       "      <th>lastBifeng75</th>\n",
       "      <th>lastBifeng80</th>\n",
       "      <th>masterOdd_End_65_3</th>\n",
       "      <th>masterOdd_End_75_3</th>\n",
       "      <th>masterOdd_End_80_3</th>\n",
       "      <th>masterOdd_End_Ji_3</th>\n",
       "      <th>masterOdd_End_Zhong_3</th>\n",
       "      <th>masterOdd_Start_Ji_3</th>\n",
       "      <th>masterOdd_Start_Zhong_3</th>\n",
       "      <th>pankouOdd_End_65_3</th>\n",
       "      <th>pankouOdd_End_75_3</th>\n",
       "      <th>pankouOdd_End_80_3</th>\n",
       "      <th>pankouOdd_End_Ji_3</th>\n",
       "      <th>pankouOdd_End_Zhong_3</th>\n",
       "      <th>pankou_Start_Ji_3</th>\n",
       "      <th>pankou_Start_Zhong_3</th>\n",
       "      <th>zhongbifengNew</th>\n",
       "      <th>allbifeng</th>\n",
       "      <th>pankouOdd_End_Zhong_3Real</th>\n",
       "      <th>pankou_Start_Zhong_3Real</th>\n",
       "      <th>pankou_Start_Ji_3Real</th>\n",
       "      <th>pankouOdd_End_Ji_3Real</th>\n",
       "      <th>pankouOdd_End_65_3Real</th>\n",
       "      <th>pankouOdd_End_75_3Real</th>\n",
       "      <th>pankouOdd_End_80_3Real</th>\n",
       "      <th>result4565</th>\n",
       "      <th>result6580</th>\n",
       "      <th>result</th>\n",
       "    </tr>\n",
       "  </thead>\n",
       "  <tbody>\n",
       "    <tr>\n",
       "      <th>4</th>\n",
       "      <td>西青U19</td>\n",
       "      <td>0.78</td>\n",
       "      <td>0.89</td>\n",
       "      <td>0.77</td>\n",
       "      <td>0.96</td>\n",
       "      <td>0.83</td>\n",
       "      <td>0.96</td>\n",
       "      <td>0.83</td>\n",
       "      <td>1-2</td>\n",
       "      <td>1-2</td>\n",
       "      <td>1-2</td>\n",
       "      <td>1.02</td>\n",
       "      <td>0.91</td>\n",
       "      <td>1.03</td>\n",
       "      <td>0.80</td>\n",
       "      <td>0.97</td>\n",
       "      <td>0.80</td>\n",
       "      <td>0.97</td>\n",
       "      <td>4.25</td>\n",
       "      <td>3.75</td>\n",
       "      <td>3.5</td>\n",
       "      <td>3.75</td>\n",
       "      <td>4.0</td>\n",
       "      <td>3.75</td>\n",
       "      <td>4.0</td>\n",
       "      <td>0-2</td>\n",
       "      <td>1-2-0-2</td>\n",
       "      <td>2.0</td>\n",
       "      <td>2.0</td>\n",
       "      <td>1.75</td>\n",
       "      <td>1.75</td>\n",
       "      <td>2.25</td>\n",
       "      <td>1.75</td>\n",
       "      <td>1.5</td>\n",
       "      <td>1</td>\n",
       "      <td>0</td>\n",
       "      <td>1</td>\n",
       "    </tr>\n",
       "    <tr>\n",
       "      <th>5</th>\n",
       "      <td>西丁</td>\n",
       "      <td>0.79</td>\n",
       "      <td>0.63</td>\n",
       "      <td>0.42</td>\n",
       "      <td>0.80</td>\n",
       "      <td>0.74</td>\n",
       "      <td>0.85</td>\n",
       "      <td>0.99</td>\n",
       "      <td>1-1</td>\n",
       "      <td>1-1</td>\n",
       "      <td>1-1</td>\n",
       "      <td>1.01</td>\n",
       "      <td>1.20</td>\n",
       "      <td>1.61</td>\n",
       "      <td>1.00</td>\n",
       "      <td>1.06</td>\n",
       "      <td>0.95</td>\n",
       "      <td>0.81</td>\n",
       "      <td>2.75</td>\n",
       "      <td>2.5</td>\n",
       "      <td>2.5</td>\n",
       "      <td>2.25</td>\n",
       "      <td>2.5</td>\n",
       "      <td>2.25</td>\n",
       "      <td>2.25</td>\n",
       "      <td>1-0</td>\n",
       "      <td>1-1-1-0</td>\n",
       "      <td>1.5</td>\n",
       "      <td>1.25</td>\n",
       "      <td>1.25</td>\n",
       "      <td>1.25</td>\n",
       "      <td>1.75</td>\n",
       "      <td>1.5</td>\n",
       "      <td>1.5</td>\n",
       "      <td>1</td>\n",
       "      <td>0</td>\n",
       "      <td>1</td>\n",
       "    </tr>\n",
       "    <tr>\n",
       "      <th>12</th>\n",
       "      <td>球会友谊</td>\n",
       "      <td>0.85</td>\n",
       "      <td>0.71</td>\n",
       "      <td>0.47</td>\n",
       "      <td>0.93</td>\n",
       "      <td>0.83</td>\n",
       "      <td>0.88</td>\n",
       "      <td>0.83</td>\n",
       "      <td>1-1</td>\n",
       "      <td>1-1</td>\n",
       "      <td>1-1</td>\n",
       "      <td>1.01</td>\n",
       "      <td>1.17</td>\n",
       "      <td>1.63</td>\n",
       "      <td>0.87</td>\n",
       "      <td>1.03</td>\n",
       "      <td>0.92</td>\n",
       "      <td>1.03</td>\n",
       "      <td>2.75</td>\n",
       "      <td>2.5</td>\n",
       "      <td>2.5</td>\n",
       "      <td>3.0</td>\n",
       "      <td>2.5</td>\n",
       "      <td>3.0</td>\n",
       "      <td>2.5</td>\n",
       "      <td>1-0</td>\n",
       "      <td>1-1-1-0</td>\n",
       "      <td>1.5</td>\n",
       "      <td>1.5</td>\n",
       "      <td>2.0</td>\n",
       "      <td>2.0</td>\n",
       "      <td>1.75</td>\n",
       "      <td>1.5</td>\n",
       "      <td>1.5</td>\n",
       "      <td>1</td>\n",
       "      <td>0</td>\n",
       "      <td>0</td>\n",
       "    </tr>\n",
       "    <tr>\n",
       "      <th>17</th>\n",
       "      <td>印度U18</td>\n",
       "      <td>0.90</td>\n",
       "      <td>0.92</td>\n",
       "      <td>0.61</td>\n",
       "      <td>0.80</td>\n",
       "      <td>0.86</td>\n",
       "      <td>0.95</td>\n",
       "      <td>1.05</td>\n",
       "      <td>1-3</td>\n",
       "      <td>1-3</td>\n",
       "      <td>1-3</td>\n",
       "      <td>0.90</td>\n",
       "      <td>0.88</td>\n",
       "      <td>1.23</td>\n",
       "      <td>0.90</td>\n",
       "      <td>0.94</td>\n",
       "      <td>0.75</td>\n",
       "      <td>0.75</td>\n",
       "      <td>4.75</td>\n",
       "      <td>4.5</td>\n",
       "      <td>4.5</td>\n",
       "      <td>2.75</td>\n",
       "      <td>4.5</td>\n",
       "      <td>2.75</td>\n",
       "      <td>4.25</td>\n",
       "      <td>1-2</td>\n",
       "      <td>1-3-1-2</td>\n",
       "      <td>1.5</td>\n",
       "      <td>1.25</td>\n",
       "      <td>-0.25</td>\n",
       "      <td>-0.25</td>\n",
       "      <td>1.75</td>\n",
       "      <td>1.5</td>\n",
       "      <td>1.5</td>\n",
       "      <td>1</td>\n",
       "      <td>0</td>\n",
       "      <td>1</td>\n",
       "    </tr>\n",
       "    <tr>\n",
       "      <th>21</th>\n",
       "      <td>西丙4</td>\n",
       "      <td>0.98</td>\n",
       "      <td>0.61</td>\n",
       "      <td>0.45</td>\n",
       "      <td>0.96</td>\n",
       "      <td>1.05</td>\n",
       "      <td>0.93</td>\n",
       "      <td>1.09</td>\n",
       "      <td>2-0</td>\n",
       "      <td>2-0</td>\n",
       "      <td>2-0</td>\n",
       "      <td>0.82</td>\n",
       "      <td>1.23</td>\n",
       "      <td>1.53</td>\n",
       "      <td>0.84</td>\n",
       "      <td>0.75</td>\n",
       "      <td>0.87</td>\n",
       "      <td>0.71</td>\n",
       "      <td>2.5</td>\n",
       "      <td>2.5</td>\n",
       "      <td>2.5</td>\n",
       "      <td>2.0</td>\n",
       "      <td>2.0</td>\n",
       "      <td>2.0</td>\n",
       "      <td>2.0</td>\n",
       "      <td>1-0</td>\n",
       "      <td>2-0-1-0</td>\n",
       "      <td>1.0</td>\n",
       "      <td>1.0</td>\n",
       "      <td>1.0</td>\n",
       "      <td>1.0</td>\n",
       "      <td>1.5</td>\n",
       "      <td>1.5</td>\n",
       "      <td>1.5</td>\n",
       "      <td>1</td>\n",
       "      <td>0</td>\n",
       "      <td>1</td>\n",
       "    </tr>\n",
       "  </tbody>\n",
       "</table>\n",
       "</div>"
      ],
      "text/plain": [
       "   lianShai  guestOdd_End_65_3  guestOdd_End_75_3  guestOdd_End_80_3  \\\n",
       "4     西青U19               0.78               0.89               0.77   \n",
       "5        西丁               0.79               0.63               0.42   \n",
       "12     球会友谊               0.85               0.71               0.47   \n",
       "17    印度U18               0.90               0.92               0.61   \n",
       "21      西丙4               0.98               0.61               0.45   \n",
       "\n",
       "    guestOdd_End_Ji_3  guestOdd_End_Zhong_3  guestOdd_Start_Ji_3  \\\n",
       "4                0.96                  0.83                 0.96   \n",
       "5                0.80                  0.74                 0.85   \n",
       "12               0.93                  0.83                 0.88   \n",
       "17               0.80                  0.86                 0.95   \n",
       "21               0.96                  1.05                 0.93   \n",
       "\n",
       "    guestOdd_Start_Zhong_3 lastBifeng65 lastBifeng75 lastBifeng80  \\\n",
       "4                     0.83          1-2          1-2          1-2   \n",
       "5                     0.99          1-1          1-1          1-1   \n",
       "12                    0.83          1-1          1-1          1-1   \n",
       "17                    1.05          1-3          1-3          1-3   \n",
       "21                    1.09          2-0          2-0          2-0   \n",
       "\n",
       "    masterOdd_End_65_3  masterOdd_End_75_3  masterOdd_End_80_3  \\\n",
       "4                 1.02                0.91                1.03   \n",
       "5                 1.01                1.20                1.61   \n",
       "12                1.01                1.17                1.63   \n",
       "17                0.90                0.88                1.23   \n",
       "21                0.82                1.23                1.53   \n",
       "\n",
       "    masterOdd_End_Ji_3  masterOdd_End_Zhong_3  masterOdd_Start_Ji_3  \\\n",
       "4                 0.80                   0.97                  0.80   \n",
       "5                 1.00                   1.06                  0.95   \n",
       "12                0.87                   1.03                  0.92   \n",
       "17                0.90                   0.94                  0.75   \n",
       "21                0.84                   0.75                  0.87   \n",
       "\n",
       "    masterOdd_Start_Zhong_3 pankouOdd_End_65_3 pankouOdd_End_75_3  \\\n",
       "4                      0.97               4.25               3.75   \n",
       "5                      0.81               2.75                2.5   \n",
       "12                     1.03               2.75                2.5   \n",
       "17                     0.75               4.75                4.5   \n",
       "21                     0.71                2.5                2.5   \n",
       "\n",
       "   pankouOdd_End_80_3 pankouOdd_End_Ji_3 pankouOdd_End_Zhong_3  \\\n",
       "4                 3.5               3.75                   4.0   \n",
       "5                 2.5               2.25                   2.5   \n",
       "12                2.5                3.0                   2.5   \n",
       "17                4.5               2.75                   4.5   \n",
       "21                2.5                2.0                   2.0   \n",
       "\n",
       "   pankou_Start_Ji_3 pankou_Start_Zhong_3 zhongbifengNew allbifeng  \\\n",
       "4               3.75                  4.0            0-2   1-2-0-2   \n",
       "5               2.25                 2.25            1-0   1-1-1-0   \n",
       "12               3.0                  2.5            1-0   1-1-1-0   \n",
       "17              2.75                 4.25            1-2   1-3-1-2   \n",
       "21               2.0                  2.0            1-0   2-0-1-0   \n",
       "\n",
       "   pankouOdd_End_Zhong_3Real pankou_Start_Zhong_3Real pankou_Start_Ji_3Real  \\\n",
       "4                        2.0                      2.0                  1.75   \n",
       "5                        1.5                     1.25                  1.25   \n",
       "12                       1.5                      1.5                   2.0   \n",
       "17                       1.5                     1.25                 -0.25   \n",
       "21                       1.0                      1.0                   1.0   \n",
       "\n",
       "   pankouOdd_End_Ji_3Real pankouOdd_End_65_3Real pankouOdd_End_75_3Real  \\\n",
       "4                    1.75                   2.25                   1.75   \n",
       "5                    1.25                   1.75                    1.5   \n",
       "12                    2.0                   1.75                    1.5   \n",
       "17                  -0.25                   1.75                    1.5   \n",
       "21                    1.0                    1.5                    1.5   \n",
       "\n",
       "   pankouOdd_End_80_3Real  result4565  result6580  result  \n",
       "4                     1.5           1           0       1  \n",
       "5                     1.5           1           0       1  \n",
       "12                    1.5           1           0       0  \n",
       "17                    1.5           1           0       1  \n",
       "21                    1.5           1           0       1  "
      ]
     },
     "execution_count": 12,
     "metadata": {},
     "output_type": "execute_result"
    }
   ],
   "source": [
    "pd.set_option('display.max_columns', None)\n",
    "train.head()"
   ]
  },
  {
   "cell_type": "code",
   "execution_count": 13,
   "metadata": {
    "ExecuteTime": {
     "end_time": "2022-05-22T03:20:16.460096Z",
     "start_time": "2022-05-22T03:20:16.390864Z"
    }
   },
   "outputs": [
    {
     "name": "stdout",
     "output_type": "stream",
     "text": [
      "<class 'pandas.core.frame.DataFrame'>\n",
      "Int64Index: 21587 entries, 4 to 98981\n",
      "Data columns (total 37 columns):\n",
      " #   Column                     Non-Null Count  Dtype  \n",
      "---  ------                     --------------  -----  \n",
      " 0   lianShai                   21587 non-null  object \n",
      " 1   guestOdd_End_65_3          21587 non-null  float64\n",
      " 2   guestOdd_End_75_3          21587 non-null  float64\n",
      " 3   guestOdd_End_80_3          21587 non-null  float64\n",
      " 4   guestOdd_End_Ji_3          21587 non-null  float64\n",
      " 5   guestOdd_End_Zhong_3       21587 non-null  float64\n",
      " 6   guestOdd_Start_Ji_3        21587 non-null  float64\n",
      " 7   guestOdd_Start_Zhong_3     21587 non-null  float64\n",
      " 8   lastBifeng65               21587 non-null  object \n",
      " 9   lastBifeng75               21587 non-null  object \n",
      " 10  lastBifeng80               21587 non-null  object \n",
      " 11  masterOdd_End_65_3         21587 non-null  float64\n",
      " 12  masterOdd_End_75_3         21587 non-null  float64\n",
      " 13  masterOdd_End_80_3         21587 non-null  float64\n",
      " 14  masterOdd_End_Ji_3         21587 non-null  float64\n",
      " 15  masterOdd_End_Zhong_3      21587 non-null  float64\n",
      " 16  masterOdd_Start_Ji_3       21587 non-null  float64\n",
      " 17  masterOdd_Start_Zhong_3    21587 non-null  float64\n",
      " 18  pankouOdd_End_65_3         21587 non-null  object \n",
      " 19  pankouOdd_End_75_3         21587 non-null  object \n",
      " 20  pankouOdd_End_80_3         21587 non-null  object \n",
      " 21  pankouOdd_End_Ji_3         21587 non-null  object \n",
      " 22  pankouOdd_End_Zhong_3      21587 non-null  object \n",
      " 23  pankou_Start_Ji_3          21587 non-null  object \n",
      " 24  pankou_Start_Zhong_3       21587 non-null  object \n",
      " 25  zhongbifengNew             21587 non-null  object \n",
      " 26  allbifeng                  21587 non-null  object \n",
      " 27  pankouOdd_End_Zhong_3Real  21587 non-null  object \n",
      " 28  pankou_Start_Zhong_3Real   21587 non-null  object \n",
      " 29  pankou_Start_Ji_3Real      21587 non-null  object \n",
      " 30  pankouOdd_End_Ji_3Real     21587 non-null  object \n",
      " 31  pankouOdd_End_65_3Real     21587 non-null  object \n",
      " 32  pankouOdd_End_75_3Real     21587 non-null  object \n",
      " 33  pankouOdd_End_80_3Real     21587 non-null  object \n",
      " 34  result4565                 21587 non-null  int64  \n",
      " 35  result6580                 21587 non-null  int64  \n",
      " 36  result                     21587 non-null  int64  \n",
      "dtypes: float64(14), int64(3), object(20)\n",
      "memory usage: 6.3+ MB\n"
     ]
    }
   ],
   "source": [
    "train.info()"
   ]
  },
  {
   "cell_type": "code",
   "execution_count": 14,
   "metadata": {
    "ExecuteTime": {
     "end_time": "2022-05-22T03:20:16.467900Z",
     "start_time": "2022-05-22T03:20:16.463024Z"
    }
   },
   "outputs": [],
   "source": [
    "# from itertools import combinations, permutations\n",
    "# features = ['lianShai','daxiaoPankouALL','daxiaoTypeALL','allbifengNew','daxiaoType']\n",
    "# cross_features=list(combinations(features, 2))\n",
    "# a1 = [] \n",
    "# for item in cross_features:\n",
    "#     train[item[0]+'_'+item[1]]=train[item[0]].astype(str)+train[item[1]].astype(str)\n",
    "#     test[item[0]+'_'+item[1]]=test[item[0]].astype(str)+test[item[1]].astype(str)\n",
    "#     a1.append(item[0]+'_'+item[1])"
   ]
  },
  {
   "cell_type": "code",
   "execution_count": 15,
   "metadata": {
    "ExecuteTime": {
     "end_time": "2022-05-22T03:20:16.485464Z",
     "start_time": "2022-05-22T03:20:16.469851Z"
    }
   },
   "outputs": [],
   "source": [
    "# cols = train.select_dtypes(include='object').columns\n",
    "# from itertools import combinations, permutations\n",
    "# features = cols\n",
    "# cross_features=list(combinations(features, 2))\n",
    "# for item in cross_features:\n",
    "#     train[item[0]+'_'+item[1]]=train[item[0]].astype(str)+train[item[1]].astype(str)\n",
    "#     test[item[0]+'_'+item[1]]=test[item[0]].astype(str)+test[item[1]].astype(str)"
   ]
  },
  {
   "cell_type": "code",
   "execution_count": null,
   "metadata": {
    "ExecuteTime": {
     "end_time": "2022-03-31T02:45:22.802182Z",
     "start_time": "2022-03-31T02:45:22.772171Z"
    }
   },
   "outputs": [],
   "source": []
  },
  {
   "cell_type": "code",
   "execution_count": 16,
   "metadata": {
    "ExecuteTime": {
     "end_time": "2022-05-22T03:20:16.501061Z",
     "start_time": "2022-05-22T03:20:16.487408Z"
    }
   },
   "outputs": [],
   "source": [
    "# from itertools import combinations, permutations\n",
    "# features = ['lianShai','daxiaoPankouALL','daxiaoTypeALL','allbifengNew','daxiaoType','lastBifeng']\n",
    "# cross_features=list(combinations(features, 2))\n",
    "# a1 = [] \n",
    "# for item in cross_features:\n",
    "#     train[item[0]+'_'+item[1]]=train[item[0]].astype(str)+train[item[1]].astype(str)\n",
    "#     test[item[0]+'_'+item[1]]=test[item[0]].astype(str)+test[item[1]].astype(str)\n",
    "#     a1.append(item[0]+'_'+item[1])"
   ]
  },
  {
   "cell_type": "code",
   "execution_count": 17,
   "metadata": {
    "ExecuteTime": {
     "end_time": "2022-05-22T03:20:16.515693Z",
     "start_time": "2022-05-22T03:20:16.503013Z"
    }
   },
   "outputs": [],
   "source": [
    "# features2 = ['masterOdd_End_Ji_3', 'masterOdd_End_Zhong_3', 'masterOdd_End_75_3']\n",
    "# cross_features=list(combinations(features2, 2))\n",
    "# a2 = []\n",
    "# for item in cross_features:\n",
    "#         train[item[0]+'+'+item[1]]=train[item[0]]+train[item[1]]\n",
    "#         train[item[0]+'-'+item[1]]=train[item[0]]-train[item[1]]\n",
    "#         train[item[0]+'/'+item[1]]=train[item[0]]/train[item[1]]\n",
    "#         train[item[0]+'*'+item[1]]=train[item[0]]*train[item[1]]\n",
    "        \n",
    "#         test[item[0]+'+'+item[1]] = test[item[0]]+test[item[1]]\n",
    "#         test[item[0]+'-'+item[1]] = test[item[0]]-test[item[1]]\n",
    "#         test[item[0]+'/'+item[1]] = test[item[0]]/test[item[1]]\n",
    "#         test[item[0]+'*'+item[1]] = test[item[0]]*test[item[1]]\n",
    "        \n",
    "#         a1.append(item[0]+'+'+item[1])\n",
    "#         a1.append(item[0]+'-'+item[1])\n",
    "#         a1.append(item[0]+'/'+item[1])\n",
    "#         a1.append(item[0]+'*'+item[1])"
   ]
  },
  {
   "cell_type": "code",
   "execution_count": 18,
   "metadata": {
    "ExecuteTime": {
     "end_time": "2022-05-22T03:20:16.529348Z",
     "start_time": "2022-05-22T03:20:16.517662Z"
    }
   },
   "outputs": [],
   "source": [
    "# from itertools import combinations, permutations\n",
    "# features = ['lianShai','daxiaoPankouALL','daxiaoTypeALL','daxiaoTypeMidALL','daxiaoType','pankouOdd_End_Ji_3Real','MasterOddFlow']\n",
    "# cross_features=list(combinations(features, 2))\n",
    "# a1 = [] \n",
    "# for item in cross_features:\n",
    "#     train[item[0]+'_'+item[1]]=train[item[0]].astype(str)+train[item[1]].astype(str)\n",
    "#     test[item[0]+'_'+item[1]]=test[item[0]].astype(str)+test[item[1]].astype(str)\n",
    "#     a1.append(item[0]+'_'+item[1])"
   ]
  },
  {
   "cell_type": "code",
   "execution_count": 19,
   "metadata": {
    "ExecuteTime": {
     "end_time": "2022-05-22T03:20:16.574215Z",
     "start_time": "2022-05-22T03:20:16.531299Z"
    }
   },
   "outputs": [
    {
     "data": {
      "text/html": [
       "<div>\n",
       "<style scoped>\n",
       "    .dataframe tbody tr th:only-of-type {\n",
       "        vertical-align: middle;\n",
       "    }\n",
       "\n",
       "    .dataframe tbody tr th {\n",
       "        vertical-align: top;\n",
       "    }\n",
       "\n",
       "    .dataframe thead th {\n",
       "        text-align: right;\n",
       "    }\n",
       "</style>\n",
       "<table border=\"1\" class=\"dataframe\">\n",
       "  <thead>\n",
       "    <tr style=\"text-align: right;\">\n",
       "      <th></th>\n",
       "      <th>lianShai</th>\n",
       "      <th>guestOdd_End_65_3</th>\n",
       "      <th>guestOdd_End_75_3</th>\n",
       "      <th>guestOdd_End_80_3</th>\n",
       "      <th>guestOdd_End_Ji_3</th>\n",
       "      <th>guestOdd_End_Zhong_3</th>\n",
       "      <th>guestOdd_Start_Ji_3</th>\n",
       "      <th>guestOdd_Start_Zhong_3</th>\n",
       "      <th>lastBifeng65</th>\n",
       "      <th>lastBifeng75</th>\n",
       "      <th>lastBifeng80</th>\n",
       "      <th>masterOdd_End_65_3</th>\n",
       "      <th>masterOdd_End_75_3</th>\n",
       "      <th>masterOdd_End_80_3</th>\n",
       "      <th>masterOdd_End_Ji_3</th>\n",
       "      <th>masterOdd_End_Zhong_3</th>\n",
       "      <th>masterOdd_Start_Ji_3</th>\n",
       "      <th>masterOdd_Start_Zhong_3</th>\n",
       "      <th>pankouOdd_End_65_3</th>\n",
       "      <th>pankouOdd_End_75_3</th>\n",
       "      <th>pankouOdd_End_80_3</th>\n",
       "      <th>pankouOdd_End_Ji_3</th>\n",
       "      <th>pankouOdd_End_Zhong_3</th>\n",
       "      <th>pankou_Start_Ji_3</th>\n",
       "      <th>pankou_Start_Zhong_3</th>\n",
       "      <th>zhongbifengNew</th>\n",
       "      <th>allbifeng</th>\n",
       "      <th>pankouOdd_End_Zhong_3Real</th>\n",
       "      <th>pankou_Start_Zhong_3Real</th>\n",
       "      <th>pankou_Start_Ji_3Real</th>\n",
       "      <th>pankouOdd_End_Ji_3Real</th>\n",
       "      <th>pankouOdd_End_65_3Real</th>\n",
       "      <th>pankouOdd_End_75_3Real</th>\n",
       "      <th>pankouOdd_End_80_3Real</th>\n",
       "      <th>result4565</th>\n",
       "      <th>result6580</th>\n",
       "      <th>result</th>\n",
       "    </tr>\n",
       "  </thead>\n",
       "  <tbody>\n",
       "    <tr>\n",
       "      <th>4</th>\n",
       "      <td>西青U19</td>\n",
       "      <td>0.78</td>\n",
       "      <td>0.89</td>\n",
       "      <td>0.77</td>\n",
       "      <td>0.96</td>\n",
       "      <td>0.83</td>\n",
       "      <td>0.96</td>\n",
       "      <td>0.83</td>\n",
       "      <td>1-2</td>\n",
       "      <td>1-2</td>\n",
       "      <td>1-2</td>\n",
       "      <td>1.02</td>\n",
       "      <td>0.91</td>\n",
       "      <td>1.03</td>\n",
       "      <td>0.80</td>\n",
       "      <td>0.97</td>\n",
       "      <td>0.80</td>\n",
       "      <td>0.97</td>\n",
       "      <td>4.25</td>\n",
       "      <td>3.75</td>\n",
       "      <td>3.5</td>\n",
       "      <td>3.75</td>\n",
       "      <td>4.0</td>\n",
       "      <td>3.75</td>\n",
       "      <td>4.0</td>\n",
       "      <td>0-2</td>\n",
       "      <td>1-2-0-2</td>\n",
       "      <td>2.0</td>\n",
       "      <td>2.0</td>\n",
       "      <td>1.75</td>\n",
       "      <td>1.75</td>\n",
       "      <td>2.25</td>\n",
       "      <td>1.75</td>\n",
       "      <td>1.5</td>\n",
       "      <td>1</td>\n",
       "      <td>0</td>\n",
       "      <td>1</td>\n",
       "    </tr>\n",
       "    <tr>\n",
       "      <th>5</th>\n",
       "      <td>西丁</td>\n",
       "      <td>0.79</td>\n",
       "      <td>0.63</td>\n",
       "      <td>0.42</td>\n",
       "      <td>0.80</td>\n",
       "      <td>0.74</td>\n",
       "      <td>0.85</td>\n",
       "      <td>0.99</td>\n",
       "      <td>1-1</td>\n",
       "      <td>1-1</td>\n",
       "      <td>1-1</td>\n",
       "      <td>1.01</td>\n",
       "      <td>1.20</td>\n",
       "      <td>1.61</td>\n",
       "      <td>1.00</td>\n",
       "      <td>1.06</td>\n",
       "      <td>0.95</td>\n",
       "      <td>0.81</td>\n",
       "      <td>2.75</td>\n",
       "      <td>2.5</td>\n",
       "      <td>2.5</td>\n",
       "      <td>2.25</td>\n",
       "      <td>2.5</td>\n",
       "      <td>2.25</td>\n",
       "      <td>2.25</td>\n",
       "      <td>1-0</td>\n",
       "      <td>1-1-1-0</td>\n",
       "      <td>1.5</td>\n",
       "      <td>1.25</td>\n",
       "      <td>1.25</td>\n",
       "      <td>1.25</td>\n",
       "      <td>1.75</td>\n",
       "      <td>1.5</td>\n",
       "      <td>1.5</td>\n",
       "      <td>1</td>\n",
       "      <td>0</td>\n",
       "      <td>1</td>\n",
       "    </tr>\n",
       "    <tr>\n",
       "      <th>12</th>\n",
       "      <td>球会友谊</td>\n",
       "      <td>0.85</td>\n",
       "      <td>0.71</td>\n",
       "      <td>0.47</td>\n",
       "      <td>0.93</td>\n",
       "      <td>0.83</td>\n",
       "      <td>0.88</td>\n",
       "      <td>0.83</td>\n",
       "      <td>1-1</td>\n",
       "      <td>1-1</td>\n",
       "      <td>1-1</td>\n",
       "      <td>1.01</td>\n",
       "      <td>1.17</td>\n",
       "      <td>1.63</td>\n",
       "      <td>0.87</td>\n",
       "      <td>1.03</td>\n",
       "      <td>0.92</td>\n",
       "      <td>1.03</td>\n",
       "      <td>2.75</td>\n",
       "      <td>2.5</td>\n",
       "      <td>2.5</td>\n",
       "      <td>3.0</td>\n",
       "      <td>2.5</td>\n",
       "      <td>3.0</td>\n",
       "      <td>2.5</td>\n",
       "      <td>1-0</td>\n",
       "      <td>1-1-1-0</td>\n",
       "      <td>1.5</td>\n",
       "      <td>1.5</td>\n",
       "      <td>2.0</td>\n",
       "      <td>2.0</td>\n",
       "      <td>1.75</td>\n",
       "      <td>1.5</td>\n",
       "      <td>1.5</td>\n",
       "      <td>1</td>\n",
       "      <td>0</td>\n",
       "      <td>0</td>\n",
       "    </tr>\n",
       "    <tr>\n",
       "      <th>17</th>\n",
       "      <td>印度U18</td>\n",
       "      <td>0.90</td>\n",
       "      <td>0.92</td>\n",
       "      <td>0.61</td>\n",
       "      <td>0.80</td>\n",
       "      <td>0.86</td>\n",
       "      <td>0.95</td>\n",
       "      <td>1.05</td>\n",
       "      <td>1-3</td>\n",
       "      <td>1-3</td>\n",
       "      <td>1-3</td>\n",
       "      <td>0.90</td>\n",
       "      <td>0.88</td>\n",
       "      <td>1.23</td>\n",
       "      <td>0.90</td>\n",
       "      <td>0.94</td>\n",
       "      <td>0.75</td>\n",
       "      <td>0.75</td>\n",
       "      <td>4.75</td>\n",
       "      <td>4.5</td>\n",
       "      <td>4.5</td>\n",
       "      <td>2.75</td>\n",
       "      <td>4.5</td>\n",
       "      <td>2.75</td>\n",
       "      <td>4.25</td>\n",
       "      <td>1-2</td>\n",
       "      <td>1-3-1-2</td>\n",
       "      <td>1.5</td>\n",
       "      <td>1.25</td>\n",
       "      <td>-0.25</td>\n",
       "      <td>-0.25</td>\n",
       "      <td>1.75</td>\n",
       "      <td>1.5</td>\n",
       "      <td>1.5</td>\n",
       "      <td>1</td>\n",
       "      <td>0</td>\n",
       "      <td>1</td>\n",
       "    </tr>\n",
       "    <tr>\n",
       "      <th>21</th>\n",
       "      <td>西丙4</td>\n",
       "      <td>0.98</td>\n",
       "      <td>0.61</td>\n",
       "      <td>0.45</td>\n",
       "      <td>0.96</td>\n",
       "      <td>1.05</td>\n",
       "      <td>0.93</td>\n",
       "      <td>1.09</td>\n",
       "      <td>2-0</td>\n",
       "      <td>2-0</td>\n",
       "      <td>2-0</td>\n",
       "      <td>0.82</td>\n",
       "      <td>1.23</td>\n",
       "      <td>1.53</td>\n",
       "      <td>0.84</td>\n",
       "      <td>0.75</td>\n",
       "      <td>0.87</td>\n",
       "      <td>0.71</td>\n",
       "      <td>2.5</td>\n",
       "      <td>2.5</td>\n",
       "      <td>2.5</td>\n",
       "      <td>2.0</td>\n",
       "      <td>2.0</td>\n",
       "      <td>2.0</td>\n",
       "      <td>2.0</td>\n",
       "      <td>1-0</td>\n",
       "      <td>2-0-1-0</td>\n",
       "      <td>1.0</td>\n",
       "      <td>1.0</td>\n",
       "      <td>1.0</td>\n",
       "      <td>1.0</td>\n",
       "      <td>1.5</td>\n",
       "      <td>1.5</td>\n",
       "      <td>1.5</td>\n",
       "      <td>1</td>\n",
       "      <td>0</td>\n",
       "      <td>1</td>\n",
       "    </tr>\n",
       "  </tbody>\n",
       "</table>\n",
       "</div>"
      ],
      "text/plain": [
       "   lianShai  guestOdd_End_65_3  guestOdd_End_75_3  guestOdd_End_80_3  \\\n",
       "4     西青U19               0.78               0.89               0.77   \n",
       "5        西丁               0.79               0.63               0.42   \n",
       "12     球会友谊               0.85               0.71               0.47   \n",
       "17    印度U18               0.90               0.92               0.61   \n",
       "21      西丙4               0.98               0.61               0.45   \n",
       "\n",
       "    guestOdd_End_Ji_3  guestOdd_End_Zhong_3  guestOdd_Start_Ji_3  \\\n",
       "4                0.96                  0.83                 0.96   \n",
       "5                0.80                  0.74                 0.85   \n",
       "12               0.93                  0.83                 0.88   \n",
       "17               0.80                  0.86                 0.95   \n",
       "21               0.96                  1.05                 0.93   \n",
       "\n",
       "    guestOdd_Start_Zhong_3 lastBifeng65 lastBifeng75 lastBifeng80  \\\n",
       "4                     0.83          1-2          1-2          1-2   \n",
       "5                     0.99          1-1          1-1          1-1   \n",
       "12                    0.83          1-1          1-1          1-1   \n",
       "17                    1.05          1-3          1-3          1-3   \n",
       "21                    1.09          2-0          2-0          2-0   \n",
       "\n",
       "    masterOdd_End_65_3  masterOdd_End_75_3  masterOdd_End_80_3  \\\n",
       "4                 1.02                0.91                1.03   \n",
       "5                 1.01                1.20                1.61   \n",
       "12                1.01                1.17                1.63   \n",
       "17                0.90                0.88                1.23   \n",
       "21                0.82                1.23                1.53   \n",
       "\n",
       "    masterOdd_End_Ji_3  masterOdd_End_Zhong_3  masterOdd_Start_Ji_3  \\\n",
       "4                 0.80                   0.97                  0.80   \n",
       "5                 1.00                   1.06                  0.95   \n",
       "12                0.87                   1.03                  0.92   \n",
       "17                0.90                   0.94                  0.75   \n",
       "21                0.84                   0.75                  0.87   \n",
       "\n",
       "    masterOdd_Start_Zhong_3 pankouOdd_End_65_3 pankouOdd_End_75_3  \\\n",
       "4                      0.97               4.25               3.75   \n",
       "5                      0.81               2.75                2.5   \n",
       "12                     1.03               2.75                2.5   \n",
       "17                     0.75               4.75                4.5   \n",
       "21                     0.71                2.5                2.5   \n",
       "\n",
       "   pankouOdd_End_80_3 pankouOdd_End_Ji_3 pankouOdd_End_Zhong_3  \\\n",
       "4                 3.5               3.75                   4.0   \n",
       "5                 2.5               2.25                   2.5   \n",
       "12                2.5                3.0                   2.5   \n",
       "17                4.5               2.75                   4.5   \n",
       "21                2.5                2.0                   2.0   \n",
       "\n",
       "   pankou_Start_Ji_3 pankou_Start_Zhong_3 zhongbifengNew allbifeng  \\\n",
       "4               3.75                  4.0            0-2   1-2-0-2   \n",
       "5               2.25                 2.25            1-0   1-1-1-0   \n",
       "12               3.0                  2.5            1-0   1-1-1-0   \n",
       "17              2.75                 4.25            1-2   1-3-1-2   \n",
       "21               2.0                  2.0            1-0   2-0-1-0   \n",
       "\n",
       "   pankouOdd_End_Zhong_3Real pankou_Start_Zhong_3Real pankou_Start_Ji_3Real  \\\n",
       "4                        2.0                      2.0                  1.75   \n",
       "5                        1.5                     1.25                  1.25   \n",
       "12                       1.5                      1.5                   2.0   \n",
       "17                       1.5                     1.25                 -0.25   \n",
       "21                       1.0                      1.0                   1.0   \n",
       "\n",
       "   pankouOdd_End_Ji_3Real pankouOdd_End_65_3Real pankouOdd_End_75_3Real  \\\n",
       "4                    1.75                   2.25                   1.75   \n",
       "5                    1.25                   1.75                    1.5   \n",
       "12                    2.0                   1.75                    1.5   \n",
       "17                  -0.25                   1.75                    1.5   \n",
       "21                    1.0                    1.5                    1.5   \n",
       "\n",
       "   pankouOdd_End_80_3Real  result4565  result6580  result  \n",
       "4                     1.5           1           0       1  \n",
       "5                     1.5           1           0       1  \n",
       "12                    1.5           1           0       0  \n",
       "17                    1.5           1           0       1  \n",
       "21                    1.5           1           0       1  "
      ]
     },
     "execution_count": 19,
     "metadata": {},
     "output_type": "execute_result"
    }
   ],
   "source": [
    "train.head()"
   ]
  },
  {
   "cell_type": "code",
   "execution_count": 20,
   "metadata": {
    "ExecuteTime": {
     "end_time": "2022-05-22T03:20:16.617131Z",
     "start_time": "2022-05-22T03:20:16.576167Z"
    }
   },
   "outputs": [
    {
     "name": "stdout",
     "output_type": "stream",
     "text": [
      "<class 'pandas.core.frame.DataFrame'>\n",
      "Int64Index: 7543 entries, 3 to 34257\n",
      "Data columns (total 37 columns):\n",
      " #   Column                     Non-Null Count  Dtype  \n",
      "---  ------                     --------------  -----  \n",
      " 0   lianShai                   7543 non-null   object \n",
      " 1   guestOdd_End_65_3          7543 non-null   float64\n",
      " 2   guestOdd_End_75_3          7543 non-null   float64\n",
      " 3   guestOdd_End_80_3          7543 non-null   float64\n",
      " 4   guestOdd_End_Ji_3          7543 non-null   float64\n",
      " 5   guestOdd_End_Zhong_3       7543 non-null   float64\n",
      " 6   guestOdd_Start_Ji_3        7543 non-null   float64\n",
      " 7   guestOdd_Start_Zhong_3     7543 non-null   float64\n",
      " 8   lastBifeng65               7543 non-null   object \n",
      " 9   lastBifeng75               7543 non-null   object \n",
      " 10  lastBifeng80               7543 non-null   object \n",
      " 11  masterOdd_End_65_3         7543 non-null   float64\n",
      " 12  masterOdd_End_75_3         7543 non-null   float64\n",
      " 13  masterOdd_End_80_3         7543 non-null   float64\n",
      " 14  masterOdd_End_Ji_3         7543 non-null   float64\n",
      " 15  masterOdd_End_Zhong_3      7543 non-null   float64\n",
      " 16  masterOdd_Start_Ji_3       7543 non-null   float64\n",
      " 17  masterOdd_Start_Zhong_3    7543 non-null   float64\n",
      " 18  pankouOdd_End_65_3         7543 non-null   object \n",
      " 19  pankouOdd_End_75_3         7543 non-null   object \n",
      " 20  pankouOdd_End_80_3         7543 non-null   object \n",
      " 21  pankouOdd_End_Ji_3         7543 non-null   object \n",
      " 22  pankouOdd_End_Zhong_3      7543 non-null   object \n",
      " 23  pankou_Start_Ji_3          7543 non-null   object \n",
      " 24  pankou_Start_Zhong_3       7543 non-null   object \n",
      " 25  zhongbifengNew             7543 non-null   object \n",
      " 26  allbifeng                  7543 non-null   object \n",
      " 27  pankouOdd_End_Zhong_3Real  7543 non-null   object \n",
      " 28  pankou_Start_Zhong_3Real   7543 non-null   object \n",
      " 29  pankou_Start_Ji_3Real      7543 non-null   object \n",
      " 30  pankouOdd_End_Ji_3Real     7543 non-null   object \n",
      " 31  pankouOdd_End_65_3Real     7543 non-null   object \n",
      " 32  pankouOdd_End_75_3Real     7543 non-null   object \n",
      " 33  pankouOdd_End_80_3Real     7543 non-null   object \n",
      " 34  result4565                 7543 non-null   int64  \n",
      " 35  result6580                 7543 non-null   int64  \n",
      " 36  result                     7543 non-null   int64  \n",
      "dtypes: float64(14), int64(3), object(20)\n",
      "memory usage: 2.2+ MB\n"
     ]
    }
   ],
   "source": [
    "test.info()"
   ]
  },
  {
   "cell_type": "code",
   "execution_count": 21,
   "metadata": {
    "ExecuteTime": {
     "end_time": "2022-05-22T03:20:17.831465Z",
     "start_time": "2022-05-22T03:20:16.618104Z"
    }
   },
   "outputs": [],
   "source": [
    "from sklearn.model_selection import  StratifiedKFold,KFold\n",
    "import category_encoders as ce\n",
    "import gc\n",
    "def mean_woe_target_encoder(train,test,target,col,n_splits=10):\n",
    "    folds = StratifiedKFold(n_splits)\n",
    "\n",
    "    y_oof = np.zeros(train.shape[0])\n",
    "    y_oof_2= np.zeros(train.shape[0])\n",
    "    y_test_oof = np.zeros(test.shape[0]).reshape(-1,1)\n",
    "    y_test_oof2 = np.zeros(test.shape[0]).reshape(-1,1)\n",
    "\n",
    "    splits = folds.split(train, target)\n",
    "    \n",
    "    for fold_n, (train_index, valid_index) in enumerate(splits):\n",
    "        X_train, X_valid = train[col].iloc[train_index], train[col].iloc[valid_index]\n",
    "        y_train, y_valid = target.iloc[train_index], target.iloc[valid_index]\n",
    "        clf=ce.target_encoder.TargetEncoder()\n",
    "    \n",
    "        clf.fit(X_train.values,y_train.values)    \n",
    "        y_pred_valid = clf.transform(X_valid.values)\n",
    "\n",
    "        y_oof[valid_index] = y_pred_valid.values.reshape(1,-1)\n",
    "\n",
    "        tp=(clf.transform(test[col].values)/(n_splits*1.0)).values\n",
    "        tp=tp.reshape(-1,1)\n",
    "        y_test_oof+=tp    \n",
    "    \n",
    "        del X_train, X_valid, y_train, y_valid\n",
    "        gc.collect()    \n",
    "    return y_oof,y_test_oof"
   ]
  },
  {
   "cell_type": "code",
   "execution_count": 22,
   "metadata": {
    "ExecuteTime": {
     "end_time": "2022-05-22T03:20:17.856824Z",
     "start_time": "2022-05-22T03:20:17.833404Z"
    }
   },
   "outputs": [],
   "source": [
    "train_x =  train.drop(columns=['result'])\n",
    "train_y =  train['result']\n",
    "\n",
    "test_x =  test.drop(columns=['result'])\n",
    "test_y = test['result']"
   ]
  },
  {
   "cell_type": "code",
   "execution_count": 23,
   "metadata": {
    "ExecuteTime": {
     "end_time": "2022-05-22T03:20:38.511041Z",
     "start_time": "2022-05-22T03:20:17.858762Z"
    }
   },
   "outputs": [],
   "source": [
    "for col in train.select_dtypes(include='object').columns:\n",
    "  y_oof,y_test_oof = mean_woe_target_encoder(train_x,test_x,train_y,col,n_splits=10)\n",
    "  train_x[col] = y_oof\n",
    "  test_x[col] = y_test_oof"
   ]
  },
  {
   "cell_type": "code",
   "execution_count": null,
   "metadata": {
    "ExecuteTime": {
     "end_time": "2022-03-30T04:09:24.663962Z",
     "start_time": "2022-03-30T04:09:24.649957Z"
    }
   },
   "outputs": [],
   "source": []
  },
  {
   "cell_type": "code",
   "execution_count": 24,
   "metadata": {
    "ExecuteTime": {
     "end_time": "2022-05-22T03:20:38.530548Z",
     "start_time": "2022-05-22T03:20:38.512008Z"
    }
   },
   "outputs": [
    {
     "name": "stdout",
     "output_type": "stream",
     "text": [
      "<class 'pandas.core.frame.DataFrame'>\n",
      "Int64Index: 21587 entries, 4 to 98981\n",
      "Data columns (total 36 columns):\n",
      " #   Column                     Non-Null Count  Dtype  \n",
      "---  ------                     --------------  -----  \n",
      " 0   lianShai                   21587 non-null  float64\n",
      " 1   guestOdd_End_65_3          21587 non-null  float64\n",
      " 2   guestOdd_End_75_3          21587 non-null  float64\n",
      " 3   guestOdd_End_80_3          21587 non-null  float64\n",
      " 4   guestOdd_End_Ji_3          21587 non-null  float64\n",
      " 5   guestOdd_End_Zhong_3       21587 non-null  float64\n",
      " 6   guestOdd_Start_Ji_3        21587 non-null  float64\n",
      " 7   guestOdd_Start_Zhong_3     21587 non-null  float64\n",
      " 8   lastBifeng65               21587 non-null  float64\n",
      " 9   lastBifeng75               21587 non-null  float64\n",
      " 10  lastBifeng80               21587 non-null  float64\n",
      " 11  masterOdd_End_65_3         21587 non-null  float64\n",
      " 12  masterOdd_End_75_3         21587 non-null  float64\n",
      " 13  masterOdd_End_80_3         21587 non-null  float64\n",
      " 14  masterOdd_End_Ji_3         21587 non-null  float64\n",
      " 15  masterOdd_End_Zhong_3      21587 non-null  float64\n",
      " 16  masterOdd_Start_Ji_3       21587 non-null  float64\n",
      " 17  masterOdd_Start_Zhong_3    21587 non-null  float64\n",
      " 18  pankouOdd_End_65_3         21587 non-null  float64\n",
      " 19  pankouOdd_End_75_3         21587 non-null  float64\n",
      " 20  pankouOdd_End_80_3         21587 non-null  float64\n",
      " 21  pankouOdd_End_Ji_3         21587 non-null  float64\n",
      " 22  pankouOdd_End_Zhong_3      21587 non-null  float64\n",
      " 23  pankou_Start_Ji_3          21587 non-null  float64\n",
      " 24  pankou_Start_Zhong_3       21587 non-null  float64\n",
      " 25  zhongbifengNew             21587 non-null  float64\n",
      " 26  allbifeng                  21587 non-null  float64\n",
      " 27  pankouOdd_End_Zhong_3Real  21587 non-null  float64\n",
      " 28  pankou_Start_Zhong_3Real   21587 non-null  float64\n",
      " 29  pankou_Start_Ji_3Real      21587 non-null  float64\n",
      " 30  pankouOdd_End_Ji_3Real     21587 non-null  float64\n",
      " 31  pankouOdd_End_65_3Real     21587 non-null  float64\n",
      " 32  pankouOdd_End_75_3Real     21587 non-null  float64\n",
      " 33  pankouOdd_End_80_3Real     21587 non-null  float64\n",
      " 34  result4565                 21587 non-null  int64  \n",
      " 35  result6580                 21587 non-null  int64  \n",
      "dtypes: float64(34), int64(2)\n",
      "memory usage: 6.1 MB\n"
     ]
    }
   ],
   "source": [
    "train_x.info()"
   ]
  },
  {
   "cell_type": "code",
   "execution_count": null,
   "metadata": {
    "ExecuteTime": {
     "end_time": "2022-02-22T13:10:25.061336Z",
     "start_time": "2022-02-22T13:10:25.044345Z"
    }
   },
   "outputs": [],
   "source": []
  },
  {
   "cell_type": "code",
   "execution_count": 25,
   "metadata": {
    "ExecuteTime": {
     "end_time": "2022-05-22T03:20:38.537363Z",
     "start_time": "2022-05-22T03:20:38.532487Z"
    }
   },
   "outputs": [],
   "source": [
    "cat_feats = train.select_dtypes(include='category').columns"
   ]
  },
  {
   "cell_type": "code",
   "execution_count": 26,
   "metadata": {
    "ExecuteTime": {
     "end_time": "2022-05-22T03:21:09.991736Z",
     "start_time": "2022-05-22T03:20:38.539313Z"
    },
    "colab": {
     "base_uri": "https://localhost:8080/"
    },
    "id": "A867lIczEdIi",
    "outputId": "fe128cf3-a6d5-40d9-a372-6af3a61f6f8e"
   },
   "outputs": [
    {
     "name": "stdout",
     "output_type": "stream",
     "text": [
      "Training until validation scores don't improve for 400 rounds\n",
      "[200]\ttraining's auc: 0.998728\tvalid_1's auc: 0.544603\n",
      "[400]\ttraining's auc: 0.99986\tvalid_1's auc: 0.54366\n",
      "Early stopping, best iteration is:\n",
      "[13]\ttraining's auc: 0.834207\tvalid_1's auc: 0.557967\n",
      "[0.4180274  0.39552357 0.40908346 ... 0.38946006 0.40882831 0.41774   ]\n",
      "Fold 1 | AUC: 0.5579668941117008\n",
      "Training until validation scores don't improve for 400 rounds\n",
      "[200]\ttraining's auc: 0.998542\tvalid_1's auc: 0.554607\n",
      "[400]\ttraining's auc: 0.999731\tvalid_1's auc: 0.548382\n",
      "Early stopping, best iteration is:\n",
      "[115]\ttraining's auc: 0.987741\tvalid_1's auc: 0.558895\n",
      "[0.25513572 0.43246814 0.50207828 ... 0.28886773 0.29669303 0.31074217]\n",
      "Fold 2 | AUC: 0.5588951767211813\n",
      "Training until validation scores don't improve for 400 rounds\n",
      "[200]\ttraining's auc: 0.998742\tvalid_1's auc: 0.550873\n",
      "[400]\ttraining's auc: 0.999989\tvalid_1's auc: 0.543492\n",
      "[600]\ttraining's auc: 0.999999\tvalid_1's auc: 0.542689\n",
      "Early stopping, best iteration is:\n",
      "[201]\ttraining's auc: 0.998764\tvalid_1's auc: 0.550877\n",
      "[0.55070112 0.54177281 0.43320011 ... 0.32091898 0.14871352 0.54041386]\n",
      "Fold 3 | AUC: 0.55087711059464\n",
      "Training until validation scores don't improve for 400 rounds\n",
      "[200]\ttraining's auc: 0.998503\tvalid_1's auc: 0.540673\n",
      "[400]\ttraining's auc: 0.999834\tvalid_1's auc: 0.539745\n",
      "Early stopping, best iteration is:\n",
      "[60]\ttraining's auc: 0.949432\tvalid_1's auc: 0.552929\n",
      "[0.41812261 0.5063069  0.40253992 ... 0.32445471 0.46311044 0.37641739]\n",
      "Fold 4 | AUC: 0.5529291732461062\n",
      "Training until validation scores don't improve for 400 rounds\n",
      "[200]\ttraining's auc: 0.998564\tvalid_1's auc: 0.547379\n",
      "[400]\ttraining's auc: 0.999864\tvalid_1's auc: 0.546622\n",
      "Early stopping, best iteration is:\n",
      "[124]\ttraining's auc: 0.990607\tvalid_1's auc: 0.552562\n",
      "[0.3789086  0.56463362 0.31727653 ... 0.44677776 0.39542539 0.48647739]\n",
      "Fold 5 | AUC: 0.5525622900016751\n",
      "\n",
      "Mean AUC = 0.5546461289350607\n",
      "Out of folds AUC = 0.5524698024304323\n"
     ]
    }
   ],
   "source": [
    "import lightgbm as lgb\n",
    "from sklearn.metrics import roc_auc_score,accuracy_score\n",
    "from sklearn.model_selection import StratifiedKFold\n",
    "import gc,joblib\n",
    "X = train_x\n",
    "y = train_y\n",
    "# del train_x,train_y\n",
    "# gc.collect()\n",
    "\n",
    "\n",
    "params = {'num_leaves': 240,  # 结果对最终效果影响较大，越大值越好，太大会出现过拟合\n",
    "          'min_data_in_leaf': 30,\n",
    "          'objective': 'binary',  # 定义的目标函数\n",
    "          'max_depth': -1,\n",
    "          'learning_rate': 0.03,\n",
    "          \"min_sum_hessian_in_leaf\": 6,\n",
    "          \"boosting\": \"gbdt\",\n",
    "          \"feature_fraction\":  0.5992677823884304,  # 提取的特征比率\n",
    "          \"bagging_freq\": 4,\n",
    "          \"bagging_fraction\": 0.7100471696361973,\n",
    "          \"bagging_seed\": 11,\n",
    "          \"lambda_l1\": 8.545500456265467e-05,  # l1正则\n",
    "          'lambda_l2': 5.985747612243422e-07,  # l2正则\n",
    "          \"verbosity\": -1,\n",
    "          \"nthread\": -1,  # 线程数量，-1表示全部线程，线程越多，运行的速度越快\n",
    "          'metric': {'average_precision','auc'},  # 评价函数选择\n",
    "          \"random_state\": 2019,  # 随机数种子，可以防止每次运行的结果不一致\n",
    "          # 'device': 'gpu' ##如果安装的事gpu版本的lightgbm,可以加快运算\n",
    "          'min_child_samples': 67\n",
    "          }\n",
    "\n",
    "NFOLDS = 5\n",
    "folds = StratifiedKFold(n_splits=NFOLDS)\n",
    "\n",
    "columns = X.columns\n",
    "splits = folds.split(X, y)\n",
    "y_preds = np.zeros(test_x.shape[0])\n",
    "y_preds_train  = np.zeros(train_x.shape[0])\n",
    "score = 0\n",
    "\n",
    "feature_importances = pd.DataFrame()\n",
    "feature_importances['feature'] = columns\n",
    "\n",
    "for fold_n, (train_index, valid_index) in enumerate(splits):\n",
    "    X_train, X_valid = X[columns].iloc[train_index], X[columns].iloc[valid_index]\n",
    "    y_train, y_valid = y.iloc[train_index], y.iloc[valid_index]\n",
    "\n",
    "    dtrain = lgb.Dataset(X_train, label=y_train)\n",
    "    dvalid = lgb.Dataset(X_valid, label=y_valid)\n",
    "\n",
    "    clf = lgb.train(params, dtrain, 1000, valid_sets=[\n",
    "                    dtrain, dvalid], verbose_eval=200, early_stopping_rounds=400)\n",
    "\n",
    "    feature_importances[f'fold_{fold_n + 1}'] = clf.feature_importance()\n",
    "\n",
    "    y_pred_valid = clf.predict(X_valid)\n",
    "    print(y_pred_valid)\n",
    "    print(f\"Fold {fold_n + 1} | AUC: {roc_auc_score(y_valid, y_pred_valid)}\")\n",
    "\n",
    "    score += roc_auc_score(y_valid, y_pred_valid) / NFOLDS\n",
    "    y_preds += clf.predict(test_x) / NFOLDS\n",
    "    \n",
    "    model = 'C:\\\\Users\\\\24525\\\\code\\\\spider\\\\model\\\\' + 'gbm_2' + str(fold_n) + \"_singe.txt\"\n",
    "#     joblib.dump(clf,model)\n",
    "    \n",
    "    y_pred_valid = clf.predict(X_valid)\n",
    "    y_preds_train[valid_index] = y_pred_valid\n",
    "    \n",
    "    del X_train, X_valid, y_train, y_valid\n",
    "    gc.collect()\n",
    "    \n",
    "print(f\"\\nMean AUC = {score}\")\n",
    "print(f\"Out of folds AUC = {roc_auc_score(train_y, y_preds_train)}\")"
   ]
  },
  {
   "cell_type": "code",
   "execution_count": 27,
   "metadata": {
    "ExecuteTime": {
     "end_time": "2022-05-22T03:21:10.009382Z",
     "start_time": "2022-05-22T03:21:09.997588Z"
    }
   },
   "outputs": [
    {
     "name": "stdout",
     "output_type": "stream",
     "text": [
      "accuarcy: 61.81%\n",
      "(7298, 2)\n"
     ]
    }
   ],
   "source": [
    "from sklearn.metrics import roc_auc_score,accuracy_score\n",
    "test_new = pd.DataFrame({'result':test_y,'predict':y_preds})\n",
    "a = test_new[(test_new[\"predict\"] <= 0.50)]\n",
    "pred_labels = np.rint(a['predict'])\n",
    "accuracy = accuracy_score(a['result'], pred_labels)\n",
    "print(\"accuarcy: %.2f%%\" % (accuracy*100.0))\n",
    "print(a.shape)"
   ]
  },
  {
   "cell_type": "code",
   "execution_count": 28,
   "metadata": {
    "ExecuteTime": {
     "end_time": "2022-05-22T03:21:10.048307Z",
     "start_time": "2022-05-22T03:21:10.011244Z"
    }
   },
   "outputs": [
    {
     "name": "stdout",
     "output_type": "stream",
     "text": [
      "<class 'pandas.core.frame.DataFrame'>\n",
      "Int64Index: 7543 entries, 3 to 34257\n",
      "Data columns (total 37 columns):\n",
      " #   Column                     Non-Null Count  Dtype  \n",
      "---  ------                     --------------  -----  \n",
      " 0   lianShai                   7543 non-null   object \n",
      " 1   guestOdd_End_65_3          7543 non-null   float64\n",
      " 2   guestOdd_End_75_3          7543 non-null   float64\n",
      " 3   guestOdd_End_80_3          7543 non-null   float64\n",
      " 4   guestOdd_End_Ji_3          7543 non-null   float64\n",
      " 5   guestOdd_End_Zhong_3       7543 non-null   float64\n",
      " 6   guestOdd_Start_Ji_3        7543 non-null   float64\n",
      " 7   guestOdd_Start_Zhong_3     7543 non-null   float64\n",
      " 8   lastBifeng65               7543 non-null   object \n",
      " 9   lastBifeng75               7543 non-null   object \n",
      " 10  lastBifeng80               7543 non-null   object \n",
      " 11  masterOdd_End_65_3         7543 non-null   float64\n",
      " 12  masterOdd_End_75_3         7543 non-null   float64\n",
      " 13  masterOdd_End_80_3         7543 non-null   float64\n",
      " 14  masterOdd_End_Ji_3         7543 non-null   float64\n",
      " 15  masterOdd_End_Zhong_3      7543 non-null   float64\n",
      " 16  masterOdd_Start_Ji_3       7543 non-null   float64\n",
      " 17  masterOdd_Start_Zhong_3    7543 non-null   float64\n",
      " 18  pankouOdd_End_65_3         7543 non-null   object \n",
      " 19  pankouOdd_End_75_3         7543 non-null   object \n",
      " 20  pankouOdd_End_80_3         7543 non-null   object \n",
      " 21  pankouOdd_End_Ji_3         7543 non-null   object \n",
      " 22  pankouOdd_End_Zhong_3      7543 non-null   object \n",
      " 23  pankou_Start_Ji_3          7543 non-null   object \n",
      " 24  pankou_Start_Zhong_3       7543 non-null   object \n",
      " 25  zhongbifengNew             7543 non-null   object \n",
      " 26  allbifeng                  7543 non-null   object \n",
      " 27  pankouOdd_End_Zhong_3Real  7543 non-null   object \n",
      " 28  pankou_Start_Zhong_3Real   7543 non-null   object \n",
      " 29  pankou_Start_Ji_3Real      7543 non-null   object \n",
      " 30  pankouOdd_End_Ji_3Real     7543 non-null   object \n",
      " 31  pankouOdd_End_65_3Real     7543 non-null   object \n",
      " 32  pankouOdd_End_75_3Real     7543 non-null   object \n",
      " 33  pankouOdd_End_80_3Real     7543 non-null   object \n",
      " 34  result4565                 7543 non-null   int64  \n",
      " 35  result6580                 7543 non-null   int64  \n",
      " 36  result                     7543 non-null   int64  \n",
      "dtypes: float64(14), int64(3), object(20)\n",
      "memory usage: 2.2+ MB\n"
     ]
    }
   ],
   "source": [
    "test.info()"
   ]
  },
  {
   "cell_type": "code",
   "execution_count": 29,
   "metadata": {
    "ExecuteTime": {
     "end_time": "2022-05-22T03:21:10.106828Z",
     "start_time": "2022-05-22T03:21:10.050259Z"
    }
   },
   "outputs": [
    {
     "name": "stdout",
     "output_type": "stream",
     "text": [
      "0.5 accuarcy: 41.22% 245\n",
      "-48.05000000000001\n",
      "0.51 accuarcy: 41.05% 190\n",
      "-37.90000000000002\n",
      "0.52 accuarcy: 41.79% 134\n",
      "-24.800000000000004\n",
      "0.53 accuarcy: 38.14% 97\n",
      "-24.85\n",
      "0.54 accuarcy: 44.83% 58\n",
      "-7.300000000000001\n",
      "0.55 accuarcy: 47.50% 40\n",
      "-2.9499999999999993\n",
      "0.56 accuarcy: 53.57% 28\n",
      "1.25\n",
      "0.57 accuarcy: 47.37% 19\n",
      "-1.4500000000000028\n",
      "0.58 accuarcy: 50.00% 14\n",
      "-0.35000000000000053\n",
      "0.59 accuarcy: 54.55% 11\n",
      "0.6999999999999993\n",
      "0.6 accuarcy: 71.43% 7\n",
      "2.75\n",
      "0.61 accuarcy: 50.00% 4\n",
      "-0.10000000000000009\n",
      "0.62 accuarcy: 33.33% 3\n",
      "-1.05\n",
      "0.63 accuarcy: 0.00% 1\n",
      "-1.0\n",
      "0.64 accuarcy: 0.00% 1\n",
      "-1.0\n",
      "0.65 accuarcy: nan% 0\n",
      "nan\n",
      "0.66 accuarcy: nan% 0\n",
      "nan\n",
      "0.67 accuarcy: nan% 0\n",
      "nan\n",
      "0.68 accuarcy: nan% 0\n",
      "nan\n",
      "0.69 accuarcy: nan% 0\n",
      "nan\n",
      "0.7 accuarcy: nan% 0\n",
      "nan\n"
     ]
    }
   ],
   "source": [
    "from sklearn.metrics import roc_auc_score,accuracy_score\n",
    "\n",
    "for i in [0.50,0.51,0.52,0.53,0.54,0.55,0.56,0.57,0.58,0.59,0.60,0.61,0.62,0.63,0.64,0.65,0.66,0.67,0.68,0.69,0.70]:\n",
    "    test_new = pd.DataFrame({'result':test_y,'predict':y_preds})\n",
    "    a = test_new[test_new[\"predict\"] >= i]\n",
    "    pred_labels = np.rint(a['predict'])\n",
    "    accuracy = accuracy_score(a['result'], pred_labels)\n",
    "    print(i,\"accuarcy: %.2f%%\" % (accuracy*100.0),a.shape[0])\n",
    "    print((a.shape[0] * accuracy * 0.95) - (a.shape[0] * (1-accuracy)))"
   ]
  },
  {
   "cell_type": "code",
   "execution_count": 30,
   "metadata": {
    "ExecuteTime": {
     "end_time": "2022-05-22T03:21:10.121459Z",
     "start_time": "2022-05-22T03:21:10.108780Z"
    }
   },
   "outputs": [],
   "source": [
    "test2 = test.copy(deep=True)\n",
    "test2[\"result\"] = test_y\n",
    "test2['predict'] = y_preds\n",
    "pred_labels = np.rint(test2['predict'])\n",
    "test2[\"perRes\"] = pred_labels\n",
    "\n",
    "# import webbrowser\n",
    "# for i in test2[(test2[\"predict\"] >= 0.66)].to_dict(orient='records')[10:15]:\n",
    "#     url = \"http://vip.win007.com/OverDown_n.aspx?id=\" + i[\"place\"]\n",
    "#     webbrowser.open(url)"
   ]
  },
  {
   "cell_type": "code",
   "execution_count": null,
   "metadata": {
    "ExecuteTime": {
     "end_time": "2022-04-07T01:04:04.642417Z",
     "start_time": "2022-04-07T01:04:04.433690Z"
    }
   },
   "outputs": [],
   "source": []
  },
  {
   "cell_type": "code",
   "execution_count": 31,
   "metadata": {
    "ExecuteTime": {
     "end_time": "2022-05-22T03:21:10.195587Z",
     "start_time": "2022-05-22T03:21:10.123410Z"
    }
   },
   "outputs": [
    {
     "name": "stdout",
     "output_type": "stream",
     "text": [
      "<class 'pandas.core.frame.DataFrame'>\n",
      "Int64Index: 21587 entries, 4 to 98981\n",
      "Data columns (total 37 columns):\n",
      " #   Column                     Non-Null Count  Dtype  \n",
      "---  ------                     --------------  -----  \n",
      " 0   lianShai                   21587 non-null  object \n",
      " 1   guestOdd_End_65_3          21587 non-null  float64\n",
      " 2   guestOdd_End_75_3          21587 non-null  float64\n",
      " 3   guestOdd_End_80_3          21587 non-null  float64\n",
      " 4   guestOdd_End_Ji_3          21587 non-null  float64\n",
      " 5   guestOdd_End_Zhong_3       21587 non-null  float64\n",
      " 6   guestOdd_Start_Ji_3        21587 non-null  float64\n",
      " 7   guestOdd_Start_Zhong_3     21587 non-null  float64\n",
      " 8   lastBifeng65               21587 non-null  object \n",
      " 9   lastBifeng75               21587 non-null  object \n",
      " 10  lastBifeng80               21587 non-null  object \n",
      " 11  masterOdd_End_65_3         21587 non-null  float64\n",
      " 12  masterOdd_End_75_3         21587 non-null  float64\n",
      " 13  masterOdd_End_80_3         21587 non-null  float64\n",
      " 14  masterOdd_End_Ji_3         21587 non-null  float64\n",
      " 15  masterOdd_End_Zhong_3      21587 non-null  float64\n",
      " 16  masterOdd_Start_Ji_3       21587 non-null  float64\n",
      " 17  masterOdd_Start_Zhong_3    21587 non-null  float64\n",
      " 18  pankouOdd_End_65_3         21587 non-null  object \n",
      " 19  pankouOdd_End_75_3         21587 non-null  object \n",
      " 20  pankouOdd_End_80_3         21587 non-null  object \n",
      " 21  pankouOdd_End_Ji_3         21587 non-null  object \n",
      " 22  pankouOdd_End_Zhong_3      21587 non-null  object \n",
      " 23  pankou_Start_Ji_3          21587 non-null  object \n",
      " 24  pankou_Start_Zhong_3       21587 non-null  object \n",
      " 25  zhongbifengNew             21587 non-null  object \n",
      " 26  allbifeng                  21587 non-null  object \n",
      " 27  pankouOdd_End_Zhong_3Real  21587 non-null  object \n",
      " 28  pankou_Start_Zhong_3Real   21587 non-null  object \n",
      " 29  pankou_Start_Ji_3Real      21587 non-null  object \n",
      " 30  pankouOdd_End_Ji_3Real     21587 non-null  object \n",
      " 31  pankouOdd_End_65_3Real     21587 non-null  object \n",
      " 32  pankouOdd_End_75_3Real     21587 non-null  object \n",
      " 33  pankouOdd_End_80_3Real     21587 non-null  object \n",
      " 34  result4565                 21587 non-null  int64  \n",
      " 35  result6580                 21587 non-null  int64  \n",
      " 36  result                     21587 non-null  int64  \n",
      "dtypes: float64(14), int64(3), object(20)\n",
      "memory usage: 6.3+ MB\n"
     ]
    }
   ],
   "source": [
    "train.info()"
   ]
  },
  {
   "cell_type": "code",
   "execution_count": 32,
   "metadata": {
    "ExecuteTime": {
     "end_time": "2022-05-22T03:21:10.831539Z",
     "start_time": "2022-05-22T03:21:10.197536Z"
    }
   },
   "outputs": [
    {
     "name": "stdout",
     "output_type": "stream",
     "text": [
      "-32.0 0.5\n",
      "-164.0 0.51\n",
      "1220.0 0.52\n",
      "-58.0 0.53\n"
     ]
    }
   ],
   "source": [
    "moneyList = []\n",
    "for per in [0.50,0.51,0.52,0.53]:\n",
    "    money = 4000 \n",
    "    for i in test2[(test2[\"predict\"] >= per) & (test[\"masterOdd_End_75_3\"] <= 2.00)].to_dict(orient='records'):\n",
    "        hand = 200\n",
    "        money = money - hand\n",
    "        if money < 0:\n",
    "            break\n",
    "        if i[\"result\"] == 1 and i[\"perRes\"] == 1:\n",
    "            money = money + hand * (1+i['masterOdd_End_80_3']+0.1)\n",
    "#             money = money + hand * (2)\n",
    "\n",
    "    print(money,per)"
   ]
  },
  {
   "cell_type": "code",
   "execution_count": 33,
   "metadata": {
    "ExecuteTime": {
     "end_time": "2022-05-22T03:21:12.182393Z",
     "start_time": "2022-05-22T03:21:10.832495Z"
    }
   },
   "outputs": [
    {
     "ename": "KeyError",
     "evalue": "'lastBifeng'",
     "output_type": "error",
     "traceback": [
      "\u001b[1;31m---------------------------------------------------------------------------\u001b[0m",
      "\u001b[1;31mKeyError\u001b[0m                                  Traceback (most recent call last)",
      "\u001b[1;32mC:\\ProgramData\\Anaconda3\\lib\\site-packages\\pandas\\core\\indexes\\base.py\u001b[0m in \u001b[0;36mget_loc\u001b[1;34m(self, key, method, tolerance)\u001b[0m\n\u001b[0;32m   3360\u001b[0m             \u001b[1;32mtry\u001b[0m\u001b[1;33m:\u001b[0m\u001b[1;33m\u001b[0m\u001b[1;33m\u001b[0m\u001b[0m\n\u001b[1;32m-> 3361\u001b[1;33m                 \u001b[1;32mreturn\u001b[0m \u001b[0mself\u001b[0m\u001b[1;33m.\u001b[0m\u001b[0m_engine\u001b[0m\u001b[1;33m.\u001b[0m\u001b[0mget_loc\u001b[0m\u001b[1;33m(\u001b[0m\u001b[0mcasted_key\u001b[0m\u001b[1;33m)\u001b[0m\u001b[1;33m\u001b[0m\u001b[1;33m\u001b[0m\u001b[0m\n\u001b[0m\u001b[0;32m   3362\u001b[0m             \u001b[1;32mexcept\u001b[0m \u001b[0mKeyError\u001b[0m \u001b[1;32mas\u001b[0m \u001b[0merr\u001b[0m\u001b[1;33m:\u001b[0m\u001b[1;33m\u001b[0m\u001b[1;33m\u001b[0m\u001b[0m\n",
      "\u001b[1;32mC:\\ProgramData\\Anaconda3\\lib\\site-packages\\pandas\\_libs\\index.pyx\u001b[0m in \u001b[0;36mpandas._libs.index.IndexEngine.get_loc\u001b[1;34m()\u001b[0m\n",
      "\u001b[1;32mC:\\ProgramData\\Anaconda3\\lib\\site-packages\\pandas\\_libs\\index.pyx\u001b[0m in \u001b[0;36mpandas._libs.index.IndexEngine.get_loc\u001b[1;34m()\u001b[0m\n",
      "\u001b[1;32mpandas\\_libs\\hashtable_class_helper.pxi\u001b[0m in \u001b[0;36mpandas._libs.hashtable.PyObjectHashTable.get_item\u001b[1;34m()\u001b[0m\n",
      "\u001b[1;32mpandas\\_libs\\hashtable_class_helper.pxi\u001b[0m in \u001b[0;36mpandas._libs.hashtable.PyObjectHashTable.get_item\u001b[1;34m()\u001b[0m\n",
      "\u001b[1;31mKeyError\u001b[0m: 'lastBifeng'",
      "\nThe above exception was the direct cause of the following exception:\n",
      "\u001b[1;31mKeyError\u001b[0m                                  Traceback (most recent call last)",
      "\u001b[1;32m~\\AppData\\Local\\Temp/ipykernel_105808/1530724189.py\u001b[0m in \u001b[0;36m<module>\u001b[1;34m\u001b[0m\n\u001b[0;32m      1\u001b[0m \u001b[0mmoneyList\u001b[0m \u001b[1;33m=\u001b[0m \u001b[1;33m[\u001b[0m\u001b[1;33m]\u001b[0m\u001b[1;33m\u001b[0m\u001b[1;33m\u001b[0m\u001b[0m\n\u001b[1;32m----> 2\u001b[1;33m \u001b[0mtest2\u001b[0m \u001b[1;33m=\u001b[0m \u001b[0mtest2\u001b[0m\u001b[1;33m[\u001b[0m\u001b[0mtest2\u001b[0m\u001b[1;33m[\u001b[0m\u001b[1;34m'lastBifeng'\u001b[0m\u001b[1;33m]\u001b[0m\u001b[1;33m==\u001b[0m\u001b[0mtest2\u001b[0m\u001b[1;33m[\u001b[0m\u001b[1;34m'lastBifeng130'\u001b[0m\u001b[1;33m]\u001b[0m\u001b[1;33m]\u001b[0m\u001b[1;33m\u001b[0m\u001b[1;33m\u001b[0m\u001b[0m\n\u001b[0m\u001b[0;32m      3\u001b[0m \u001b[1;32mfor\u001b[0m \u001b[0mper\u001b[0m \u001b[1;32min\u001b[0m \u001b[1;33m[\u001b[0m\u001b[1;36m0.50\u001b[0m\u001b[1;33m,\u001b[0m\u001b[1;36m0.51\u001b[0m\u001b[1;33m,\u001b[0m\u001b[1;36m0.52\u001b[0m\u001b[1;33m,\u001b[0m\u001b[1;36m0.53\u001b[0m\u001b[1;33m,\u001b[0m\u001b[1;36m0.54\u001b[0m\u001b[1;33m,\u001b[0m\u001b[1;36m0.55\u001b[0m\u001b[1;33m,\u001b[0m\u001b[1;36m0.56\u001b[0m\u001b[1;33m,\u001b[0m\u001b[1;36m0.57\u001b[0m\u001b[1;33m,\u001b[0m\u001b[1;36m0.58\u001b[0m\u001b[1;33m,\u001b[0m\u001b[1;36m0.59\u001b[0m\u001b[1;33m,\u001b[0m\u001b[1;36m0.60\u001b[0m\u001b[1;33m,\u001b[0m\u001b[1;36m0.61\u001b[0m\u001b[1;33m,\u001b[0m\u001b[1;36m0.62\u001b[0m\u001b[1;33m,\u001b[0m\u001b[1;36m0.63\u001b[0m\u001b[1;33m,\u001b[0m\u001b[1;36m0.64\u001b[0m\u001b[1;33m,\u001b[0m\u001b[1;36m0.65\u001b[0m\u001b[1;33m,\u001b[0m\u001b[1;36m0.66\u001b[0m\u001b[1;33m,\u001b[0m\u001b[1;36m0.67\u001b[0m\u001b[1;33m,\u001b[0m\u001b[1;36m0.68\u001b[0m\u001b[1;33m,\u001b[0m\u001b[1;36m0.69\u001b[0m\u001b[1;33m,\u001b[0m\u001b[1;36m0.70\u001b[0m\u001b[1;33m]\u001b[0m\u001b[1;33m:\u001b[0m\u001b[1;33m\u001b[0m\u001b[1;33m\u001b[0m\u001b[0m\n\u001b[0;32m      4\u001b[0m     \u001b[0mmoney\u001b[0m \u001b[1;33m=\u001b[0m \u001b[1;36m2000\u001b[0m\u001b[1;33m\u001b[0m\u001b[1;33m\u001b[0m\u001b[0m\n\u001b[0;32m      5\u001b[0m     \u001b[1;32mfor\u001b[0m \u001b[0mi\u001b[0m \u001b[1;32min\u001b[0m \u001b[0mtest2\u001b[0m\u001b[1;33m[\u001b[0m\u001b[1;33m(\u001b[0m\u001b[0mtest2\u001b[0m\u001b[1;33m[\u001b[0m\u001b[1;34m\"predict\"\u001b[0m\u001b[1;33m]\u001b[0m \u001b[1;33m>=\u001b[0m \u001b[0mper\u001b[0m\u001b[1;33m)\u001b[0m \u001b[1;33m&\u001b[0m \u001b[1;33m(\u001b[0m\u001b[0mtest\u001b[0m\u001b[1;33m[\u001b[0m\u001b[1;34m\"lastTime\"\u001b[0m\u001b[1;33m]\u001b[0m \u001b[1;33m<=\u001b[0m \u001b[1;36m75\u001b[0m\u001b[1;33m)\u001b[0m \u001b[1;33m]\u001b[0m\u001b[1;33m.\u001b[0m\u001b[0mto_dict\u001b[0m\u001b[1;33m(\u001b[0m\u001b[0morient\u001b[0m\u001b[1;33m=\u001b[0m\u001b[1;34m'records'\u001b[0m\u001b[1;33m)\u001b[0m\u001b[1;33m:\u001b[0m\u001b[1;33m\u001b[0m\u001b[1;33m\u001b[0m\u001b[0m\n",
      "\u001b[1;32mC:\\ProgramData\\Anaconda3\\lib\\site-packages\\pandas\\core\\frame.py\u001b[0m in \u001b[0;36m__getitem__\u001b[1;34m(self, key)\u001b[0m\n\u001b[0;32m   3453\u001b[0m             \u001b[1;32mif\u001b[0m \u001b[0mself\u001b[0m\u001b[1;33m.\u001b[0m\u001b[0mcolumns\u001b[0m\u001b[1;33m.\u001b[0m\u001b[0mnlevels\u001b[0m \u001b[1;33m>\u001b[0m \u001b[1;36m1\u001b[0m\u001b[1;33m:\u001b[0m\u001b[1;33m\u001b[0m\u001b[1;33m\u001b[0m\u001b[0m\n\u001b[0;32m   3454\u001b[0m                 \u001b[1;32mreturn\u001b[0m \u001b[0mself\u001b[0m\u001b[1;33m.\u001b[0m\u001b[0m_getitem_multilevel\u001b[0m\u001b[1;33m(\u001b[0m\u001b[0mkey\u001b[0m\u001b[1;33m)\u001b[0m\u001b[1;33m\u001b[0m\u001b[1;33m\u001b[0m\u001b[0m\n\u001b[1;32m-> 3455\u001b[1;33m             \u001b[0mindexer\u001b[0m \u001b[1;33m=\u001b[0m \u001b[0mself\u001b[0m\u001b[1;33m.\u001b[0m\u001b[0mcolumns\u001b[0m\u001b[1;33m.\u001b[0m\u001b[0mget_loc\u001b[0m\u001b[1;33m(\u001b[0m\u001b[0mkey\u001b[0m\u001b[1;33m)\u001b[0m\u001b[1;33m\u001b[0m\u001b[1;33m\u001b[0m\u001b[0m\n\u001b[0m\u001b[0;32m   3456\u001b[0m             \u001b[1;32mif\u001b[0m \u001b[0mis_integer\u001b[0m\u001b[1;33m(\u001b[0m\u001b[0mindexer\u001b[0m\u001b[1;33m)\u001b[0m\u001b[1;33m:\u001b[0m\u001b[1;33m\u001b[0m\u001b[1;33m\u001b[0m\u001b[0m\n\u001b[0;32m   3457\u001b[0m                 \u001b[0mindexer\u001b[0m \u001b[1;33m=\u001b[0m \u001b[1;33m[\u001b[0m\u001b[0mindexer\u001b[0m\u001b[1;33m]\u001b[0m\u001b[1;33m\u001b[0m\u001b[1;33m\u001b[0m\u001b[0m\n",
      "\u001b[1;32mC:\\ProgramData\\Anaconda3\\lib\\site-packages\\pandas\\core\\indexes\\base.py\u001b[0m in \u001b[0;36mget_loc\u001b[1;34m(self, key, method, tolerance)\u001b[0m\n\u001b[0;32m   3361\u001b[0m                 \u001b[1;32mreturn\u001b[0m \u001b[0mself\u001b[0m\u001b[1;33m.\u001b[0m\u001b[0m_engine\u001b[0m\u001b[1;33m.\u001b[0m\u001b[0mget_loc\u001b[0m\u001b[1;33m(\u001b[0m\u001b[0mcasted_key\u001b[0m\u001b[1;33m)\u001b[0m\u001b[1;33m\u001b[0m\u001b[1;33m\u001b[0m\u001b[0m\n\u001b[0;32m   3362\u001b[0m             \u001b[1;32mexcept\u001b[0m \u001b[0mKeyError\u001b[0m \u001b[1;32mas\u001b[0m \u001b[0merr\u001b[0m\u001b[1;33m:\u001b[0m\u001b[1;33m\u001b[0m\u001b[1;33m\u001b[0m\u001b[0m\n\u001b[1;32m-> 3363\u001b[1;33m                 \u001b[1;32mraise\u001b[0m \u001b[0mKeyError\u001b[0m\u001b[1;33m(\u001b[0m\u001b[0mkey\u001b[0m\u001b[1;33m)\u001b[0m \u001b[1;32mfrom\u001b[0m \u001b[0merr\u001b[0m\u001b[1;33m\u001b[0m\u001b[1;33m\u001b[0m\u001b[0m\n\u001b[0m\u001b[0;32m   3364\u001b[0m \u001b[1;33m\u001b[0m\u001b[0m\n\u001b[0;32m   3365\u001b[0m         \u001b[1;32mif\u001b[0m \u001b[0mis_scalar\u001b[0m\u001b[1;33m(\u001b[0m\u001b[0mkey\u001b[0m\u001b[1;33m)\u001b[0m \u001b[1;32mand\u001b[0m \u001b[0misna\u001b[0m\u001b[1;33m(\u001b[0m\u001b[0mkey\u001b[0m\u001b[1;33m)\u001b[0m \u001b[1;32mand\u001b[0m \u001b[1;32mnot\u001b[0m \u001b[0mself\u001b[0m\u001b[1;33m.\u001b[0m\u001b[0mhasnans\u001b[0m\u001b[1;33m:\u001b[0m\u001b[1;33m\u001b[0m\u001b[1;33m\u001b[0m\u001b[0m\n",
      "\u001b[1;31mKeyError\u001b[0m: 'lastBifeng'"
     ]
    }
   ],
   "source": [
    "moneyList = []\n",
    "test2 = test2[test2['lastBifeng']==test2['lastBifeng130']]\n",
    "for per in [0.50,0.51,0.52,0.53,0.54,0.55,0.56,0.57,0.58,0.59,0.60,0.61,0.62,0.63,0.64,0.65,0.66,0.67,0.68,0.69,0.70]:\n",
    "    money = 2000\n",
    "    for i in test2[(test2[\"predict\"] >= per) & (test[\"lastTime\"] <= 75) ].to_dict(orient='records'):\n",
    "        hand = 50\n",
    "        money = money - hand\n",
    "\n",
    "        if i[\"result\"] == 1 and i[\"perRes\"] == 1:\n",
    "            money = money + hand * (1+i['masterOdd_End_130_3'])\n",
    "#             money = money + hand * (2)\n",
    "        if money < 0:\n",
    "            break\n",
    "    print(money,per)"
   ]
  },
  {
   "cell_type": "code",
   "execution_count": null,
   "metadata": {
    "ExecuteTime": {
     "end_time": "2022-04-24T02:33:27.079056Z",
     "start_time": "2022-04-24T02:31:44.810025Z"
    }
   },
   "outputs": [],
   "source": []
  },
  {
   "cell_type": "code",
   "execution_count": null,
   "metadata": {
    "ExecuteTime": {
     "end_time": "2022-05-22T03:21:12.184346Z",
     "start_time": "2022-05-22T03:21:12.184346Z"
    }
   },
   "outputs": [],
   "source": [
    "a = test2[(test2['pankouOdd_End_Zhong_3Real']==1.75) & (test2[\"predict\"]  >=0.50)]\n",
    "a = test2[(test2[\"predict\"]  >=0.50)]\n",
    "# a = a[(a['zhongbifengNew'] == '1-1') | (a['zhongbifengNew'] == '0-1') |(a['zhongbifengNew'] == '1-0')| (a['zhongbifengNew'] == '0-0')]\n",
    "accuracy = accuracy_score(a['result'], np.rint(a[\"predict\"]))\n",
    "print(\"accuarcy: %.2f%%\" % (accuracy*100.0))\n",
    "print(a.shape)\n",
    "a['pankouOdd_End_Zhong_3Real'].value_counts()"
   ]
  },
  {
   "cell_type": "code",
   "execution_count": null,
   "metadata": {
    "ExecuteTime": {
     "end_time": "2022-05-22T03:21:12.185321Z",
     "start_time": "2022-05-22T03:21:12.185321Z"
    }
   },
   "outputs": [],
   "source": [
    "a = test2[(test2['pankouOdd_End_Zhong_3Real']==1.75) & (test2[\"predict\"] >=0.50)]\n",
    "# a = a[a['zhongbifengNew'] == '0-0']\n",
    "# a = a[(a['zhongbifengNew'] != '1-1') & (a['zhongbifengNew'] != '0-1') & (a['zhongbifengNew'] != '1-0') & (a['zhongbifengNew'] != '0-0')]\n",
    "# a = a[(a['zhongbifengNew'] == '1-1') | (a['zhongbifengNew'] == '0-1') |(a['zhongbifengNew'] == '1-0')| (a['zhongbifengNew'] == '0-0')]\n",
    "# a = a[(a['zhongbifengNew'] == '1-0')]\n",
    "# a = a[a['lastBifeng'] == '0-2']\n",
    "# a = a[a['pankouOdd_End_Ji_3'] != \"3\"]\n",
    "print(a.shape)\n",
    "accuracy = accuracy_score(a['result'], np.rint(a[\"predict\"]))\n",
    "print(\"accuarcy: %.2f%%\" % (accuracy*100.0))\n",
    "a['lastTime'].value_counts()"
   ]
  },
  {
   "cell_type": "code",
   "execution_count": null,
   "metadata": {
    "ExecuteTime": {
     "end_time": "2022-05-22T03:21:12.186296Z",
     "start_time": "2022-05-22T03:21:12.186296Z"
    }
   },
   "outputs": [],
   "source": [
    "a = test2[(test2['pankouOdd_End_Zhong_3Real']==2.0) & (test2[\"predict\"]  >=0.50)]\n",
    "# a = a[(a['zhongbifengNew'] != '1-1') & (a['zhongbifengNew'] != '0-1') & (a['zhongbifengNew'] != '1-0') & (a['zhongbifengNew'] != '0-0')]\n",
    "# a = a[(a['zhongbifengNew'] == '1-1') | (a['zhongbifengNew'] == '0-1') |(a['zhongbifengNew'] == '1-0')| (a['zhongbifengNew'] == '0-0')]\n",
    "accuracy = accuracy_score(a['result'], np.rint(a[\"predict\"]))\n",
    "print(\"accuarcy: %.2f%%\" % (accuracy*100.0))\n",
    "print(a.shape)\n",
    "a['zhongbifengNew'].value_counts()"
   ]
  },
  {
   "cell_type": "code",
   "execution_count": null,
   "metadata": {
    "ExecuteTime": {
     "end_time": "2022-05-22T03:21:12.188247Z",
     "start_time": "2022-05-22T03:21:12.188247Z"
    }
   },
   "outputs": [],
   "source": [
    "a = test2[((test2['pankouOdd_End_Zhong_3Real']==1.5) | (test2['pankouOdd_End_Zhong_3Real']==1.25)) & (test2[\"predict\"] >=0.65)]\n",
    "accuracy = accuracy_score(a['result'], np.rint(a[\"predict\"]))\n",
    "print(\"accuarcy: %.2f%%\" % (accuracy*100.0))\n",
    "print(a.shape)"
   ]
  },
  {
   "cell_type": "code",
   "execution_count": null,
   "metadata": {
    "ExecuteTime": {
     "end_time": "2022-05-22T03:21:12.190196Z",
     "start_time": "2022-05-22T03:21:12.190196Z"
    }
   },
   "outputs": [],
   "source": [
    "zhongList = test2[\"zhongbifengNew\"].unique()"
   ]
  },
  {
   "cell_type": "code",
   "execution_count": null,
   "metadata": {
    "ExecuteTime": {
     "end_time": "2022-05-22T03:21:12.191172Z",
     "start_time": "2022-05-22T03:21:12.191172Z"
    }
   },
   "outputs": [],
   "source": [
    "clf.feature_importance(importance_type='gain')"
   ]
  },
  {
   "cell_type": "code",
   "execution_count": null,
   "metadata": {
    "ExecuteTime": {
     "end_time": "2022-05-22T03:21:12.192147Z",
     "start_time": "2022-05-22T03:21:12.192147Z"
    }
   },
   "outputs": [],
   "source": [
    "columns"
   ]
  },
  {
   "cell_type": "code",
   "execution_count": null,
   "metadata": {
    "ExecuteTime": {
     "end_time": "2022-05-22T03:21:12.194111Z",
     "start_time": "2022-05-22T03:21:12.194111Z"
    }
   },
   "outputs": [],
   "source": [
    "import seaborn as sns\n",
    "feature_importance_gain=pd.DataFrame()\n",
    "feature_importance_gain['feature']=columns\n",
    "feature_importance_gain['fold_1']=clf.feature_importance(importance_type='gain')\n",
    "feature_importance_gain['average'] = feature_importances[[f'fold_{fold_n + 1}' for fold_n in range(1)]].mean(axis=1)\n",
    "plt.figure(figsize=(16, 16))\n",
    "sns.barplot(data=feature_importance_gain.sort_values(by='average', ascending=False).head(50), x='average', y='feature');\n",
    "plt.title('100 TOP feature importance over {} folds average'.format(folds.n_splits));"
   ]
  },
  {
   "cell_type": "code",
   "execution_count": null,
   "metadata": {
    "ExecuteTime": {
     "end_time": "2022-05-22T03:21:12.196051Z",
     "start_time": "2022-05-22T03:21:12.196051Z"
    }
   },
   "outputs": [],
   "source": [
    "ss"
   ]
  },
  {
   "cell_type": "code",
   "execution_count": null,
   "metadata": {
    "ExecuteTime": {
     "end_time": "2022-05-22T03:21:12.197035Z",
     "start_time": "2022-05-22T03:21:12.197035Z"
    },
    "id": "uh55l3HyEdIi"
   },
   "outputs": [],
   "source": [
    "# import seaborn as sns\n",
    "# sns.set()\n",
    "\n",
    "# import sweetviz as sv\n",
    "# # 可以选择目标特征\n",
    "# my_report = sv.analyze(train, target_feat ='result')\n",
    "# my_report.show_html()"
   ]
  },
  {
   "cell_type": "code",
   "execution_count": null,
   "metadata": {
    "ExecuteTime": {
     "end_time": "2021-09-19T10:57:59.677256Z",
     "start_time": "2021-09-19T10:57:59.647275Z"
    }
   },
   "outputs": [],
   "source": []
  },
  {
   "cell_type": "code",
   "execution_count": null,
   "metadata": {
    "ExecuteTime": {
     "end_time": "2022-01-07T15:48:25.896047Z",
     "start_time": "2022-01-07T15:45:59.245Z"
    },
    "colab": {
     "base_uri": "https://localhost:8080/"
    },
    "id": "8zSjBu_6EdIj",
    "outputId": "81692c28-e759-47b2-a248-7e1e880b2636"
   },
   "outputs": [],
   "source": []
  },
  {
   "cell_type": "code",
   "execution_count": null,
   "metadata": {
    "ExecuteTime": {
     "end_time": "2022-05-22T03:21:12.198001Z",
     "start_time": "2022-05-22T03:21:12.198001Z"
    }
   },
   "outputs": [],
   "source": [
    "lgb_params = {\n",
    "    'objective': 'binary',\n",
    "    'n_estimators': 20000,\n",
    "    'random_state': 42,\n",
    "    'learning_rate': 8e-3,\n",
    "    'subsample': 0.6,\n",
    "    'subsample_freq': 1,\n",
    "    'colsample_bytree': 0.4,\n",
    "    'reg_alpha': 10.0,\n",
    "    'reg_lambda': 1e-1,\n",
    "    'min_child_weight': 256,\n",
    "    'min_child_samples': 20,\n",
    "}\n",
    "\n",
    "\n",
    "xgb_params = {'n_estimators': 10000,\n",
    "               'learning_rate': 0.03689407512484644,\n",
    "               'max_depth': 8,\n",
    "               'colsample_bytree': 0.3723914688159835,\n",
    "               'subsample': 0.780714581166012,\n",
    "               'eval_metric': 'auc',\n",
    "               'use_label_encoder': False,\n",
    "               'gamma': 0,\n",
    "               'reg_lambda': 50.0,\n",
    "               'gpu_id': 0,\n",
    "               'objective': 'binary:logistic',\n",
    "               'random_state': 42}\n",
    "\n",
    "\n",
    "cat_params = {'iterations': 17298,\n",
    "               'learning_rate': 0.03429054860458741,\n",
    "               'reg_lambda': 0.3242286463210283,\n",
    "               'subsample': 0.9433911589913944,\n",
    "               'random_strength': 22.4849972385133,\n",
    "               'depth': 8,\n",
    "               'min_data_in_leaf': 4,\n",
    "               'leaf_estimation_iterations': 8,\n",
    "               'task_type':\"GPU\",\n",
    "               'bootstrap_type':'Poisson',\n",
    "               'verbose' : 500,\n",
    "               'early_stopping_rounds' : 200,\n",
    "               'eval_metric' : 'AUC',\n",
    "               'thread_count':-1}"
   ]
  },
  {
   "cell_type": "code",
   "execution_count": null,
   "metadata": {
    "ExecuteTime": {
     "end_time": "2022-05-22T03:21:12.198975Z",
     "start_time": "2022-05-22T03:21:12.198975Z"
    }
   },
   "outputs": [],
   "source": [
    "from xgboost import XGBClassifier\n",
    "from lightgbm import LGBMClassifier\n",
    "from catboost import CatBoostClassifier\n",
    "\n",
    "lgbm = LGBMClassifier(**lgb_params)\n",
    "\n",
    "xgb = XGBClassifier(**xgb_params)\n",
    "\n",
    "cat = CatBoostClassifier(**cat_params)"
   ]
  },
  {
   "cell_type": "code",
   "execution_count": null,
   "metadata": {
    "ExecuteTime": {
     "end_time": "2022-05-22T03:21:12.200944Z",
     "start_time": "2022-05-22T03:21:12.200944Z"
    }
   },
   "outputs": [],
   "source": [
    "from sklearn import model_selection\n",
    "from sklearn.linear_model import LogisticRegression\n",
    "from sklearn.neighbors import KNeighborsClassifier\n",
    "from sklearn.naive_bayes import GaussianNB \n",
    "from sklearn.ensemble import RandomForestClassifier\n",
    "from mlxtend.classifier import StackingCVClassifier\n",
    "\n",
    "lr = LogisticRegression()\n",
    "\n",
    "sclf = StackingCVClassifier(classifiers=[lgbm, xgb,cat],\n",
    "                            use_probas=True,\n",
    "                            meta_classifier=lr,\n",
    "                            random_state=42)"
   ]
  },
  {
   "cell_type": "code",
   "execution_count": null,
   "metadata": {
    "ExecuteTime": {
     "end_time": "2021-11-26T15:41:42.278614Z",
     "start_time": "2021-11-26T15:41:42.255613Z"
    }
   },
   "outputs": [],
   "source": []
  },
  {
   "cell_type": "code",
   "execution_count": null,
   "metadata": {
    "ExecuteTime": {
     "end_time": "2022-05-22T03:21:12.201902Z",
     "start_time": "2022-05-22T03:21:12.201902Z"
    },
    "scrolled": true
   },
   "outputs": [],
   "source": [
    "statcker = sclf.fit(train_x, train_y)"
   ]
  },
  {
   "cell_type": "code",
   "execution_count": null,
   "metadata": {
    "ExecuteTime": {
     "end_time": "2022-05-22T03:21:12.203870Z",
     "start_time": "2022-05-22T03:21:12.203870Z"
    }
   },
   "outputs": [],
   "source": [
    "y_pred = statcker.predict_proba(test_x)[:, 1]\n",
    "accuracy = roc_auc_score(test_y, y_pred)\n",
    "print(\"accuarcy: %.2f%%\" % (accuracy*100.0))"
   ]
  },
  {
   "cell_type": "code",
   "execution_count": null,
   "metadata": {
    "ExecuteTime": {
     "end_time": "2022-05-22T03:21:12.204828Z",
     "start_time": "2022-05-22T03:21:12.204828Z"
    }
   },
   "outputs": [],
   "source": [
    "categorical_feats = train.select_dtypes(include='object').columns"
   ]
  },
  {
   "cell_type": "code",
   "execution_count": null,
   "metadata": {
    "ExecuteTime": {
     "end_time": "2022-05-22T03:21:12.206779Z",
     "start_time": "2022-05-22T03:21:12.206779Z"
    }
   },
   "outputs": [],
   "source": [
    "data = pd.concat([train_x, train_y], axis=1)"
   ]
  },
  {
   "cell_type": "code",
   "execution_count": null,
   "metadata": {
    "ExecuteTime": {
     "end_time": "2022-05-22T03:21:12.208730Z",
     "start_time": "2022-05-22T03:21:12.208730Z"
    }
   },
   "outputs": [],
   "source": [
    "test2 = test.copy(deep=True)\n",
    "test2[\"result\"] = test_y\n",
    "test2['predict'] = y_preds\n",
    "pred_labels = np.rint(test2['predict'])\n",
    "test2[\"perRes\"] = pred_labels\n"
   ]
  },
  {
   "cell_type": "code",
   "execution_count": null,
   "metadata": {
    "ExecuteTime": {
     "end_time": "2022-05-22T03:21:12.209705Z",
     "start_time": "2022-05-22T03:21:12.209705Z"
    }
   },
   "outputs": [],
   "source": [
    "from sklearn.metrics import roc_auc_score,accuracy_score\n",
    "test_new = pd.DataFrame({'result':test_y,'predict':y_pred})\n",
    "a = test_new[(test_new[\"predict\"] >= 0.66)]\n",
    "pred_labels = np.rint(a['predict'])\n",
    "accuracy = accuracy_score(a['result'], pred_labels)\n",
    "print(\"accuarcy: %.2f%%\" % (accuracy*100.0))\n",
    "print(a.shape)"
   ]
  },
  {
   "cell_type": "code",
   "execution_count": null,
   "metadata": {
    "ExecuteTime": {
     "end_time": "2022-05-22T03:21:12.211655Z",
     "start_time": "2022-05-22T03:21:12.211655Z"
    }
   },
   "outputs": [],
   "source": [
    "from sklearn.metrics import roc_auc_score,accuracy_score\n",
    "\n",
    "for i in [0.50,0.51,0.52,0.53,0.54,0.55,0.56,0.57,0.58,0.59,0.60,0.61,0.62,0.63,0.64,0.65,0.66,0.67,0.68,0.69,0.70]:\n",
    "    test_new = pd.DataFrame({'result':test_y,'predict':y_pred})\n",
    "    a = test_new[test_new[\"predict\"] >= i]\n",
    "    pred_labels = np.rint(a['predict'])\n",
    "    accuracy = accuracy_score(a['result'], pred_labels)\n",
    "    print(i,\"accuarcy: %.2f%%\" % (accuracy*100.0),a.shape[0])\n",
    "    print((a.shape[0] * accuracy * 0.95) - (a.shape[0] * (1-accuracy)))"
   ]
  },
  {
   "cell_type": "code",
   "execution_count": null,
   "metadata": {
    "ExecuteTime": {
     "end_time": "2022-05-22T03:21:12.212636Z",
     "start_time": "2022-05-22T03:21:12.212636Z"
    }
   },
   "outputs": [],
   "source": [
    "def get_feature_importances(data, shuffle, seed=None):\n",
    "    # Gather real features\n",
    "    train_features = [f for f in data if f not in ['result']]\n",
    "    # Go over fold and keep track of CV score (train and valid) and feature importances\n",
    "    \n",
    "    # Shuffle result if required\n",
    "    y = data['result'].copy()\n",
    "    if shuffle:\n",
    "        # Here you could as well use a binomial distribution\n",
    "        y = data['result'].copy().sample(frac=1.0)\n",
    "    \n",
    "    # Fit LightGBM in RF mode, yes it's quicker than sklearn RandomForest\n",
    "    dtrain = lgb.Dataset(data[train_features], y, free_raw_data=False, silent=True)\n",
    "    lgb_params = {\n",
    "        'objective': 'binary',\n",
    "        'boosting_type': 'rf',\n",
    "        'subsample': 0.623,\n",
    "        'colsample_bytree': 0.7,\n",
    "        'num_leaves': 127,\n",
    "        'max_depth': 8,\n",
    "        'seed': seed,\n",
    "        'bagging_freq': 1,\n",
    "        'n_jobs': 4\n",
    "    }\n",
    "    \n",
    "    # Fit the model\n",
    "    clf = lgb.train(params=lgb_params, train_set=dtrain, num_boost_round=200, categorical_feature=categorical_feats)\n",
    "    # Get feature importances\n",
    "    imp_df = pd.DataFrame()\n",
    "    imp_df[\"feature\"] = list(train_features)\n",
    "    imp_df[\"importance_gain\"] = clf.feature_importance(importance_type='gain')\n",
    "    imp_df[\"importance_split\"] = clf.feature_importance(importance_type='split')\n",
    "    imp_df['trn_score'] = roc_auc_score(y, clf.predict(data[train_features]))\n",
    "    \n",
    "    return imp_df"
   ]
  },
  {
   "cell_type": "code",
   "execution_count": null,
   "metadata": {
    "ExecuteTime": {
     "end_time": "2022-05-22T03:21:12.214587Z",
     "start_time": "2022-05-22T03:21:12.214587Z"
    }
   },
   "outputs": [],
   "source": [
    "# Seed the unexpected randomness of this world\n",
    "np.random.seed(123)\n",
    "# Get the actual importance, i.e. without shuffling\n",
    "actual_imp_df = get_feature_importances(data=data, shuffle=False) "
   ]
  },
  {
   "cell_type": "code",
   "execution_count": null,
   "metadata": {
    "ExecuteTime": {
     "end_time": "2022-05-22T03:21:12.216537Z",
     "start_time": "2022-05-22T03:21:12.216537Z"
    }
   },
   "outputs": [],
   "source": [
    "null_imp_df = pd.DataFrame()\n",
    "nb_runs = 80\n",
    "import time\n",
    "start = time.time()\n",
    "dsp = ''\n",
    "for i in range(nb_runs):\n",
    "    # Get current run importances\n",
    "    imp_df = get_feature_importances(data=data, shuffle=True)\n",
    "    imp_df['run'] = i + 1 \n",
    "    # Concat the latest importances with the old ones\n",
    "    null_imp_df = pd.concat([null_imp_df, imp_df], axis=0)\n",
    "    # Erase previous message\n",
    "    for l in range(len(dsp)):\n",
    "        print('\\b', end='', flush=True)\n",
    "    # Display current run and time used\n",
    "    spent = (time.time() - start) / 60\n",
    "    dsp = 'Done with %4d of %4d (Spent %5.1f min)' % (i + 1, nb_runs, spent)\n",
    "    print(dsp, end='', flush=True)"
   ]
  },
  {
   "cell_type": "code",
   "execution_count": null,
   "metadata": {
    "ExecuteTime": {
     "end_time": "2022-05-22T03:21:12.217507Z",
     "start_time": "2022-05-22T03:21:12.217507Z"
    }
   },
   "outputs": [],
   "source": [
    "feature_scores = []\n",
    "for _f in actual_imp_df['feature'].unique():\n",
    "    f_null_imps_gain = null_imp_df.loc[null_imp_df['feature'] == _f, 'importance_gain'].values\n",
    "    f_act_imps_gain = actual_imp_df.loc[actual_imp_df['feature'] == _f, 'importance_gain'].mean()\n",
    "    gain_score = np.log(1e-10 + f_act_imps_gain / (1 + np.percentile(f_null_imps_gain, 75)))  # Avoid didvide by zero\n",
    "    \n",
    "    f_null_imps_split = null_imp_df.loc[null_imp_df['feature'] == _f, 'importance_split'].values\n",
    "    f_act_imps_split = actual_imp_df.loc[actual_imp_df['feature'] == _f, 'importance_split'].mean()\n",
    "    split_score = np.log(1e-10 + f_act_imps_split / (1 + np.percentile(f_null_imps_split, 75)))  # Avoid didvide by zero\n",
    "    \n",
    "    feature_scores.append((_f, split_score, gain_score))\n",
    " \n",
    "scores_df = pd.DataFrame(feature_scores, columns=['feature', 'split_score', 'gain_score'])"
   ]
  },
  {
   "cell_type": "code",
   "execution_count": null,
   "metadata": {
    "ExecuteTime": {
     "end_time": "2022-05-22T03:21:12.219475Z",
     "start_time": "2022-05-22T03:21:12.219475Z"
    }
   },
   "outputs": [],
   "source": [
    "correlation_scores = []\n",
    "for _f in actual_imp_df['feature'].unique():\n",
    "    f_null_imps = null_imp_df.loc[null_imp_df['feature'] == _f, 'importance_gain'].values\n",
    "    f_act_imps = actual_imp_df.loc[actual_imp_df['feature'] == _f, 'importance_gain'].values\n",
    "    gain_score = 100 * (f_null_imps < np.percentile(f_act_imps, 25)).sum() / f_null_imps.size\n",
    "    \n",
    "    f_null_imps = null_imp_df.loc[null_imp_df['feature'] == _f, 'importance_split'].values\n",
    "    f_act_imps = actual_imp_df.loc[actual_imp_df['feature'] == _f, 'importance_split'].values\n",
    "    split_score = 100 * (f_null_imps < np.percentile(f_act_imps, 25)).sum() / f_null_imps.size\n",
    "    correlation_scores.append((_f, split_score, gain_score))\n",
    " \n",
    "corr_scores_df = pd.DataFrame(correlation_scores, columns=['feature', 'split_score', 'gain_score'])"
   ]
  },
  {
   "cell_type": "code",
   "execution_count": null,
   "metadata": {
    "ExecuteTime": {
     "end_time": "2022-05-22T03:21:12.220433Z",
     "start_time": "2022-05-22T03:21:12.220433Z"
    }
   },
   "outputs": [],
   "source": [
    "def score_feature_selection(df=None, train_features=None, cat_feats=None, target=None):\n",
    "    # Fit LightGBM \n",
    "    dtrain = lgb.Dataset(df[train_features], target, free_raw_data=False, silent=True)\n",
    "    lgb_params = {\n",
    "        'objective': 'binary',\n",
    "        'boosting_type': 'gbdt',\n",
    "        'learning_rate': .1,\n",
    "        'subsample': 0.8,\n",
    "        'colsample_bytree': 0.8,\n",
    "        'num_leaves': 31,\n",
    "        'max_depth': -1,\n",
    "        'seed': 13,\n",
    "        'n_jobs': 4,\n",
    "        'min_split_gain': .00001,\n",
    "        'reg_alpha': .00001,\n",
    "        'reg_lambda': .00001,\n",
    "        'metric': 'auc'\n",
    "    }\n",
    "    \n",
    "    # Fit the model\n",
    "    hist = lgb.cv(\n",
    "        params=lgb_params, \n",
    "        train_set=dtrain, \n",
    "        num_boost_round=2000,\n",
    "        categorical_feature=cat_feats,\n",
    "        nfold=5,\n",
    "        stratified=True,\n",
    "        shuffle=True,\n",
    "        early_stopping_rounds=50,\n",
    "        verbose_eval=0,\n",
    "        seed=17\n",
    "    )\n",
    "    # Return the last mean / std values \n",
    "    return hist['auc-mean'][-1], hist['auc-stdv'][-1]\n",
    " \n",
    "# features = [f for f in data.columns if f not in ['SK_ID_CURR', 'TARGET']]\n",
    "# score_feature_selection(df=data[features], train_features=features, target=data['TARGET'])\n",
    " \n",
    "for threshold in [0, 10, 20, 30 , 40, 50 ,60 , 70, 80 , 90, 95, 99]:\n",
    "    split_feats     = [_f for _f, _score, _ in correlation_scores if _score >= threshold]\n",
    "    split_cat_feats = [_f for _f, _score, _ in correlation_scores if (_score >= threshold) & (_f in categorical_feats)]\n",
    "    \n",
    "    gain_feats     = [_f for _f, _, _score in correlation_scores if _score >= threshold]\n",
    "    gain_cat_feats = [_f for _f, _, _score in correlation_scores if (_score >= threshold) & (_f in categorical_feats)]\n",
    "                                                                                             \n",
    "    print('Results for threshold %3d' % threshold)\n",
    "    split_results = score_feature_selection(df=data, train_features=split_feats, cat_feats=split_cat_feats, target=data['result'])\n",
    "    print('\\t SPLIT : %.6f +/- %.6f' % (split_results[0], split_results[1]))\n",
    "    gain_results = score_feature_selection(df=data, train_features=gain_feats, cat_feats=gain_cat_feats, target=data['result'])\n",
    "    print('\\t GAIN  : %.6f +/- %.6f' % (gain_results[0], gain_results[1]))"
   ]
  },
  {
   "cell_type": "code",
   "execution_count": null,
   "metadata": {
    "ExecuteTime": {
     "end_time": "2022-05-22T03:21:12.221412Z",
     "start_time": "2022-05-22T03:21:12.221412Z"
    }
   },
   "outputs": [],
   "source": [
    "col = []\n",
    "for threshold in [70, 80 , 90, 95, 99]:\n",
    "    split_feats     = [_f for _f, _score, _ in correlation_scores if _score >= threshold]\n",
    "    split_cat_feats = [_f for _f, _score, _ in correlation_scores if (_score >= threshold) & (_f in categorical_feats)]\n",
    "    col.append(split_feats)"
   ]
  },
  {
   "cell_type": "code",
   "execution_count": null,
   "metadata": {
    "ExecuteTime": {
     "end_time": "2022-05-22T03:21:12.223359Z",
     "start_time": "2022-05-22T03:21:12.223359Z"
    }
   },
   "outputs": [],
   "source": [
    "for i in [0,1,2,3,4]:\n",
    "    import lightgbm as lgb\n",
    "    from sklearn.metrics import roc_auc_score,accuracy_score\n",
    "    from sklearn.model_selection import StratifiedKFold\n",
    "    import gc,joblib\n",
    "    X = train_x[col[i]]\n",
    "    y = train_y\n",
    "    # del train_x,train_y\n",
    "    # gc.collect()\n",
    "\n",
    "\n",
    "    params = {'num_leaves': 240,  # 结果对最终效果影响较大，越大值越好，太大会出现过拟合\n",
    "              'min_data_in_leaf': 30,\n",
    "              'objective': 'binary',  # 定义的目标函数\n",
    "              'max_depth': -1,\n",
    "              'learning_rate': 0.03,\n",
    "              \"min_sum_hessian_in_leaf\": 6,\n",
    "              \"boosting\": \"gbdt\",\n",
    "              \"feature_fraction\":  0.5992677823884304,  # 提取的特征比率\n",
    "              \"bagging_freq\": 4,\n",
    "              \"bagging_fraction\": 0.7100471696361973,\n",
    "              \"bagging_seed\": 11,\n",
    "              \"lambda_l1\": 8.545500456265467e-05,  # l1正则\n",
    "              'lambda_l2': 5.985747612243422e-07,  # l2正则\n",
    "              \"verbosity\": -1,\n",
    "              \"nthread\": -1,  # 线程数量，-1表示全部线程，线程越多，运行的速度越快\n",
    "              'metric': {'auc'},  # 评价函数选择\n",
    "              \"random_state\": 2019,  # 随机数种子，可以防止每次运行的结果不一致\n",
    "              # 'device': 'gpu' ##如果安装的事gpu版本的lightgbm,可以加快运算\n",
    "              'min_child_samples': 67\n",
    "              }\n",
    "\n",
    "    NFOLDS = 5\n",
    "    folds = StratifiedKFold(n_splits=NFOLDS)\n",
    "\n",
    "    columns = X.columns\n",
    "    splits = folds.split(X, y)\n",
    "    y_preds = np.zeros(test_x.shape[0])\n",
    "    y_preds_train  = np.zeros(train_x.shape[0])\n",
    "    score = 0\n",
    "\n",
    "    feature_importances = pd.DataFrame()\n",
    "    feature_importances['feature'] = columns\n",
    "\n",
    "    for fold_n, (train_index, valid_index) in enumerate(splits):\n",
    "        X_train, X_valid = X[columns].iloc[train_index], X[columns].iloc[valid_index]\n",
    "        y_train, y_valid = y.iloc[train_index], y.iloc[valid_index]\n",
    "\n",
    "        dtrain = lgb.Dataset(X_train, label=y_train)\n",
    "        dvalid = lgb.Dataset(X_valid, label=y_valid)\n",
    "\n",
    "        clf = lgb.train(params, dtrain, 1000, valid_sets=[\n",
    "                        dtrain, dvalid], verbose_eval=200, early_stopping_rounds=300)\n",
    "\n",
    "        feature_importances[f'fold_{fold_n + 1}'] = clf.feature_importance()\n",
    "\n",
    "        y_pred_valid = clf.predict(X_valid)\n",
    "        print(y_pred_valid)\n",
    "        print(f\"Fold {fold_n + 1} | AUC: {roc_auc_score(y_valid, y_pred_valid)}\")\n",
    "\n",
    "        score += roc_auc_score(y_valid, y_pred_valid) / NFOLDS\n",
    "        y_preds += clf.predict(test_x[col[i]]) / NFOLDS\n",
    "\n",
    "    #     model = 'C:\\\\Users\\\\24525\\\\code\\\\spider\\\\model\\\\' + 'gbm_2' + str(fold_n) + \"_singe.txt\"\n",
    "    #     joblib.dump(clf,model)\n",
    "\n",
    "        y_pred_valid = clf.predict(X_valid)\n",
    "        y_preds_train[valid_index] = y_pred_valid\n",
    "\n",
    "        del X_train, X_valid, y_train, y_valid\n",
    "        gc.collect()\n",
    "\n",
    "    print(f\"\\nMean AUC = {score}\")\n",
    "    print(f\"Out of folds AUC = {roc_auc_score(train_y, y_preds_train)}\")\n",
    "    from sklearn.metrics import roc_auc_score,accuracy_score\n",
    "\n",
    "    for i in [0.50,0.61,0.62,0.63,0.64,0.65,0.66,0.67,0.68]:\n",
    "        test_new = pd.DataFrame({'result':test_y,'predict':y_preds})\n",
    "        a = test_new[test_new[\"predict\"] >= i]\n",
    "        pred_labels = np.rint(a['predict'])\n",
    "        accuracy = accuracy_score(a['result'], pred_labels)\n",
    "        print(i,\"accuarcy: %.2f%%\" % (accuracy*100.0),a.shape[0])\n",
    "        print((a.shape[0] * accuracy * 0.95) - (a.shape[0] * (1-accuracy)))"
   ]
  },
  {
   "cell_type": "code",
   "execution_count": null,
   "metadata": {
    "ExecuteTime": {
     "end_time": "2022-03-30T09:53:53.936538Z",
     "start_time": "2022-03-30T09:53:53.904352Z"
    }
   },
   "outputs": [],
   "source": []
  },
  {
   "cell_type": "code",
   "execution_count": null,
   "metadata": {},
   "outputs": [],
   "source": []
  }
 ],
 "metadata": {
  "colab": {
   "collapsed_sections": [],
   "name": "NewXG.ipynb",
   "provenance": []
  },
  "kernelspec": {
   "display_name": "Python 3 (ipykernel)",
   "language": "python",
   "name": "python3"
  },
  "language_info": {
   "codemirror_mode": {
    "name": "ipython",
    "version": 3
   },
   "file_extension": ".py",
   "mimetype": "text/x-python",
   "name": "python",
   "nbconvert_exporter": "python",
   "pygments_lexer": "ipython3",
   "version": "3.8.5"
  },
  "toc": {
   "base_numbering": 1,
   "nav_menu": {},
   "number_sections": true,
   "sideBar": true,
   "skip_h1_title": false,
   "title_cell": "Table of Contents",
   "title_sidebar": "Contents",
   "toc_cell": false,
   "toc_position": {},
   "toc_section_display": true,
   "toc_window_display": false
  }
 },
 "nbformat": 4,
 "nbformat_minor": 1
}
